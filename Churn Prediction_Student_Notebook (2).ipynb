{
 "cells": [
  {
   "cell_type": "markdown",
   "metadata": {
    "id": "Mg_ZAS0B2slE"
   },
   "source": [
    "___\n",
    "\n",
    "<p style=\"text-align: center;\"><img src=\"https://docs.google.com/uc?id=1lY0Uj5R04yMY3-ZppPWxqCr5pvBLYPnV\" class=\"img-fluid\" alt=\"CLRSWY\"></p>\n",
    "\n",
    "___"
   ]
  },
  {
   "cell_type": "markdown",
   "metadata": {
    "id": "8EjVhtzq2slH"
   },
   "source": [
    "# WELCOME!"
   ]
  },
  {
   "cell_type": "markdown",
   "metadata": {
    "id": "JqV3cXW-2slL"
   },
   "source": [
    "Welcome to \"***Employee Churn Analysis Project***\". This is the second project of Capstone Project Series, which you will be able to build your own classification models for a variety of business settings. \n",
    "\n",
    "Also you will learn what is Employee Churn?, How it is different from customer churn, Exploratory data analysis and visualization of employee churn dataset using ***matplotlib*** and ***seaborn***, model building and evaluation using python ***scikit-learn*** package. \n",
    "\n",
    "You will be able to implement classification techniques in Python. Using Scikit-Learn allowing you to successfully make predictions with the Random Forest, Gradient Descent Boosting , KNN algorithms.\n",
    "\n",
    "At the end of the project, you will have the opportunity to deploy your model using *Streamlit*.\n",
    "\n",
    "Before diving into the project, please take a look at the determines and project structure.\n",
    "\n",
    "- NOTE: This project assumes that you already know the basics of coding in Python and are familiar with model deployement as well as the theory behind K-Means, Gradient Boosting , KNN, Random Forest, and Confusion Matrices. You can try more models and methods beside these to improve your model metrics.\n",
    "\n"
   ]
  },
  {
   "cell_type": "markdown",
   "metadata": {
    "id": "4oRnVXpS2slN"
   },
   "source": [
    "# #Determines\n",
    "In this project you have HR data of a company. A study is requested from you to predict which employee will churn by using this data.\n",
    "\n",
    "The HR dataset has 14,999 samples. In the given dataset, you have two types of employee one who stayed and another who left the company.\n",
    "\n",
    "You can describe 10 attributes in detail as:\n",
    "- ***satisfaction_level:*** It is employee satisfaction point, which ranges from 0-1.\n",
    "- ***last_evaluation:*** It is evaluated performance by the employer, which also ranges from 0-1.\n",
    "- ***number_projects:*** How many of projects assigned to an employee?\n",
    "- ***average_monthly_hours:*** How many hours in averega an employee worked in a month?\n",
    "- **time_spent_company:** time_spent_company means employee experience. The number of years spent by an employee in the company.\n",
    "- ***work_accident:*** Whether an employee has had a work accident or not.\n",
    "- ***promotion_last_5years:*** Whether an employee has had a promotion in the last 5 years or not.\n",
    "- ***Departments:*** Employee's working department/division.\n",
    "- ***Salary:*** Salary level of the employee such as low, medium and high.\n",
    "- ***left:*** Whether the employee has left the company or not.\n",
    "\n",
    "First of all, to observe the structure of the data, outliers, missing values and features that affect the target variable, you must use exploratory data analysis and data visualization techniques. \n",
    "\n",
    "Then, you must perform data pre-processing operations such as ***Scaling*** and ***Label Encoding*** to increase the accuracy score of Gradient Descent Based or Distance-Based algorithms. you are asked to perform ***Cluster Analysis*** based on the information you obtain during exploratory data analysis and data visualization processes. \n",
    "\n",
    "The purpose of clustering analysis is to cluster data with similar characteristics. You are asked to use the ***K-means*** algorithm to make cluster analysis. However, you must provide the K-means algorithm with information about the number of clusters it will make predictions. Also, the data you apply to the K-means algorithm must be scaled. In order to find the optimal number of clusters, you are asked to use the ***Elbow method***. Briefly, try to predict the set to which individuals are related by using K-means and evaluate the estimation results.\n",
    "\n",
    "Once the data is ready to be applied to the model, you must ***split the data into train and test***. Then build a model to predict whether employees will churn or not. Train your models with your train set, test the success of your model with your test set. \n",
    "\n",
    "Try to make your predictions by using the algorithms ***Gradient Boosting Classifier***, ***K Neighbors Classifier***, ***Random Forest Classifier***. You can use the related modules of the ***scikit-learn*** library. You can use scikit-learn ***Confusion Metrics*** module for accuracy calculation. You can use the ***Yellowbrick*** module for model selection and visualization.\n",
    "\n",
    "In the final step, you will deploy your model using Streamlit tool.\n",
    "\n"
   ]
  },
  {
   "cell_type": "markdown",
   "metadata": {
    "id": "97xzRLNj2slO"
   },
   "source": [
    "# #Tasks\n",
    "\n",
    "#### 1. Exploratory Data Analysis\n",
    "- Importing Modules\n",
    "- Loading Dataset\n",
    "- Data Insigts\n",
    "\n",
    "#### 2. Data Visualization\n",
    "- Employees Left\n",
    "- Determine Number of Projects\n",
    "- Determine Time Spent in Company\n",
    "- Subplots of Features\n",
    "\n",
    "#### 3. Data Pre-Processing\n",
    "- Scaling\n",
    "- Label Encoding\n",
    "\n",
    "#### 4. Cluster Analysis\n",
    "- Find the optimal number of clusters (k) using the elbow method for for K-means.\n",
    "- Determine the clusters by using K-Means then Evaluate predicted results.\n",
    "\n",
    "#### 5. Model Building\n",
    "- Split Data as Train and Test set\n",
    "- Built Gradient Boosting Classifier, Evaluate Model Performance and Predict Test Data\n",
    "- Built K Neighbors Classifier and Evaluate Model Performance and Predict Test Data\n",
    "- Built Random Forest Classifier and Evaluate Model Performance and Predict Test Data\n",
    "\n",
    "#### 6. Model Deployement\n",
    "\n",
    "- Save and Export the Model as .pkl\n",
    "- Save and Export Variables as .pkl "
   ]
  },
  {
   "cell_type": "markdown",
   "metadata": {
    "id": "WLTGi7q02slP"
   },
   "source": [
    "## 1. Exploratory Data Analysis\n",
    "\n",
    "Exploratory Data Analysis is an initial process of analysis, in which you can summarize characteristics of data such as pattern, trends, outliers, and hypothesis testing using descriptive statistics and visualization."
   ]
  },
  {
   "cell_type": "code",
   "execution_count": 1,
   "metadata": {
    "id": "nyUCvXyU2slQ"
   },
   "outputs": [],
   "source": [
    "import numpy as np\n",
    "import pandas as pd\n",
    "import matplotlib.pyplot as plt\n",
    "import seaborn as sns\n",
    "plt.rcParams[\"figure.figsize\"] = (10,6)\n",
    "import warnings\n",
    "warnings.filterwarnings(\"ignore\")\n",
    "warnings.warn(\"this will not show\")"
   ]
  },
  {
   "cell_type": "markdown",
   "metadata": {
    "id": "TyrWBiyM2sld"
   },
   "source": [
    "### Importing Modules"
   ]
  },
  {
   "cell_type": "code",
   "execution_count": null,
   "metadata": {
    "id": "TI19sGjE2slf"
   },
   "outputs": [],
   "source": []
  },
  {
   "cell_type": "markdown",
   "metadata": {
    "id": "vS9n2J9-2sln"
   },
   "source": [
    "### Loading Dataset\n",
    "\n",
    "Let's first load the required HR dataset using pandas's \"read_csv\" function."
   ]
  },
  {
   "cell_type": "code",
   "execution_count": 2,
   "metadata": {
    "id": "rvS39ktq2slt"
   },
   "outputs": [],
   "source": [
    "df = pd.read_csv('HR_Dataset.csv')"
   ]
  },
  {
   "cell_type": "markdown",
   "metadata": {
    "id": "wc8t0m9u2sl2"
   },
   "source": [
    "### Data Insights\n",
    "\n",
    "In the given dataset, you have two types of employee one who stayed and another who left the company. So, you can divide data into two groups and compare their characteristics. Here, you can find the average of both the groups using groupby() and mean() function."
   ]
  },
  {
   "cell_type": "code",
   "execution_count": 3,
   "metadata": {
    "id": "6Qd_Mxw-2sl9"
   },
   "outputs": [
    {
     "name": "stdout",
     "output_type": "stream",
     "text": [
      "<class 'pandas.core.frame.DataFrame'>\n",
      "RangeIndex: 14999 entries, 0 to 14998\n",
      "Data columns (total 10 columns):\n",
      " #   Column                 Non-Null Count  Dtype  \n",
      "---  ------                 --------------  -----  \n",
      " 0   satisfaction_level     14999 non-null  float64\n",
      " 1   last_evaluation        14999 non-null  float64\n",
      " 2   number_project         14999 non-null  int64  \n",
      " 3   average_montly_hours   14999 non-null  int64  \n",
      " 4   time_spend_company     14999 non-null  int64  \n",
      " 5   Work_accident          14999 non-null  int64  \n",
      " 6   left                   14999 non-null  int64  \n",
      " 7   promotion_last_5years  14999 non-null  int64  \n",
      " 8   Departments            14999 non-null  object \n",
      " 9   salary                 14999 non-null  object \n",
      "dtypes: float64(2), int64(6), object(2)\n",
      "memory usage: 1.1+ MB\n"
     ]
    }
   ],
   "source": [
    "df.info()"
   ]
  },
  {
   "cell_type": "code",
   "execution_count": 4,
   "metadata": {},
   "outputs": [
    {
     "data": {
      "text/html": [
       "<div>\n",
       "<style scoped>\n",
       "    .dataframe tbody tr th:only-of-type {\n",
       "        vertical-align: middle;\n",
       "    }\n",
       "\n",
       "    .dataframe tbody tr th {\n",
       "        vertical-align: top;\n",
       "    }\n",
       "\n",
       "    .dataframe thead th {\n",
       "        text-align: right;\n",
       "    }\n",
       "</style>\n",
       "<table border=\"1\" class=\"dataframe\">\n",
       "  <thead>\n",
       "    <tr style=\"text-align: right;\">\n",
       "      <th></th>\n",
       "      <th>count</th>\n",
       "      <th>mean</th>\n",
       "      <th>std</th>\n",
       "      <th>min</th>\n",
       "      <th>25%</th>\n",
       "      <th>50%</th>\n",
       "      <th>75%</th>\n",
       "      <th>max</th>\n",
       "    </tr>\n",
       "  </thead>\n",
       "  <tbody>\n",
       "    <tr>\n",
       "      <th>satisfaction_level</th>\n",
       "      <td>14999.0</td>\n",
       "      <td>0.612834</td>\n",
       "      <td>0.248631</td>\n",
       "      <td>0.09</td>\n",
       "      <td>0.44</td>\n",
       "      <td>0.64</td>\n",
       "      <td>0.82</td>\n",
       "      <td>1.0</td>\n",
       "    </tr>\n",
       "    <tr>\n",
       "      <th>last_evaluation</th>\n",
       "      <td>14999.0</td>\n",
       "      <td>0.716102</td>\n",
       "      <td>0.171169</td>\n",
       "      <td>0.36</td>\n",
       "      <td>0.56</td>\n",
       "      <td>0.72</td>\n",
       "      <td>0.87</td>\n",
       "      <td>1.0</td>\n",
       "    </tr>\n",
       "    <tr>\n",
       "      <th>number_project</th>\n",
       "      <td>14999.0</td>\n",
       "      <td>3.803054</td>\n",
       "      <td>1.232592</td>\n",
       "      <td>2.00</td>\n",
       "      <td>3.00</td>\n",
       "      <td>4.00</td>\n",
       "      <td>5.00</td>\n",
       "      <td>7.0</td>\n",
       "    </tr>\n",
       "    <tr>\n",
       "      <th>average_montly_hours</th>\n",
       "      <td>14999.0</td>\n",
       "      <td>201.050337</td>\n",
       "      <td>49.943099</td>\n",
       "      <td>96.00</td>\n",
       "      <td>156.00</td>\n",
       "      <td>200.00</td>\n",
       "      <td>245.00</td>\n",
       "      <td>310.0</td>\n",
       "    </tr>\n",
       "    <tr>\n",
       "      <th>time_spend_company</th>\n",
       "      <td>14999.0</td>\n",
       "      <td>3.498233</td>\n",
       "      <td>1.460136</td>\n",
       "      <td>2.00</td>\n",
       "      <td>3.00</td>\n",
       "      <td>3.00</td>\n",
       "      <td>4.00</td>\n",
       "      <td>10.0</td>\n",
       "    </tr>\n",
       "    <tr>\n",
       "      <th>Work_accident</th>\n",
       "      <td>14999.0</td>\n",
       "      <td>0.144610</td>\n",
       "      <td>0.351719</td>\n",
       "      <td>0.00</td>\n",
       "      <td>0.00</td>\n",
       "      <td>0.00</td>\n",
       "      <td>0.00</td>\n",
       "      <td>1.0</td>\n",
       "    </tr>\n",
       "    <tr>\n",
       "      <th>left</th>\n",
       "      <td>14999.0</td>\n",
       "      <td>0.238083</td>\n",
       "      <td>0.425924</td>\n",
       "      <td>0.00</td>\n",
       "      <td>0.00</td>\n",
       "      <td>0.00</td>\n",
       "      <td>0.00</td>\n",
       "      <td>1.0</td>\n",
       "    </tr>\n",
       "    <tr>\n",
       "      <th>promotion_last_5years</th>\n",
       "      <td>14999.0</td>\n",
       "      <td>0.021268</td>\n",
       "      <td>0.144281</td>\n",
       "      <td>0.00</td>\n",
       "      <td>0.00</td>\n",
       "      <td>0.00</td>\n",
       "      <td>0.00</td>\n",
       "      <td>1.0</td>\n",
       "    </tr>\n",
       "  </tbody>\n",
       "</table>\n",
       "</div>"
      ],
      "text/plain": [
       "                         count        mean        std    min     25%     50%  \\\n",
       "satisfaction_level     14999.0    0.612834   0.248631   0.09    0.44    0.64   \n",
       "last_evaluation        14999.0    0.716102   0.171169   0.36    0.56    0.72   \n",
       "number_project         14999.0    3.803054   1.232592   2.00    3.00    4.00   \n",
       "average_montly_hours   14999.0  201.050337  49.943099  96.00  156.00  200.00   \n",
       "time_spend_company     14999.0    3.498233   1.460136   2.00    3.00    3.00   \n",
       "Work_accident          14999.0    0.144610   0.351719   0.00    0.00    0.00   \n",
       "left                   14999.0    0.238083   0.425924   0.00    0.00    0.00   \n",
       "promotion_last_5years  14999.0    0.021268   0.144281   0.00    0.00    0.00   \n",
       "\n",
       "                          75%    max  \n",
       "satisfaction_level       0.82    1.0  \n",
       "last_evaluation          0.87    1.0  \n",
       "number_project           5.00    7.0  \n",
       "average_montly_hours   245.00  310.0  \n",
       "time_spend_company       4.00   10.0  \n",
       "Work_accident            0.00    1.0  \n",
       "left                     0.00    1.0  \n",
       "promotion_last_5years    0.00    1.0  "
      ]
     },
     "execution_count": 4,
     "metadata": {},
     "output_type": "execute_result"
    }
   ],
   "source": [
    "df.describe().T"
   ]
  },
  {
   "cell_type": "code",
   "execution_count": 5,
   "metadata": {},
   "outputs": [
    {
     "data": {
      "text/html": [
       "<div>\n",
       "<style scoped>\n",
       "    .dataframe tbody tr th:only-of-type {\n",
       "        vertical-align: middle;\n",
       "    }\n",
       "\n",
       "    .dataframe tbody tr th {\n",
       "        vertical-align: top;\n",
       "    }\n",
       "\n",
       "    .dataframe thead th {\n",
       "        text-align: right;\n",
       "    }\n",
       "</style>\n",
       "<table border=\"1\" class=\"dataframe\">\n",
       "  <thead>\n",
       "    <tr style=\"text-align: right;\">\n",
       "      <th></th>\n",
       "      <th>satisfaction_level</th>\n",
       "      <th>last_evaluation</th>\n",
       "      <th>number_project</th>\n",
       "      <th>average_montly_hours</th>\n",
       "      <th>time_spend_company</th>\n",
       "      <th>Work_accident</th>\n",
       "      <th>left</th>\n",
       "      <th>promotion_last_5years</th>\n",
       "      <th>Departments</th>\n",
       "      <th>salary</th>\n",
       "    </tr>\n",
       "  </thead>\n",
       "  <tbody>\n",
       "    <tr>\n",
       "      <th>0</th>\n",
       "      <td>0.38</td>\n",
       "      <td>0.53</td>\n",
       "      <td>2</td>\n",
       "      <td>157</td>\n",
       "      <td>3</td>\n",
       "      <td>0</td>\n",
       "      <td>1</td>\n",
       "      <td>0</td>\n",
       "      <td>sales</td>\n",
       "      <td>low</td>\n",
       "    </tr>\n",
       "    <tr>\n",
       "      <th>1</th>\n",
       "      <td>0.80</td>\n",
       "      <td>0.86</td>\n",
       "      <td>5</td>\n",
       "      <td>262</td>\n",
       "      <td>6</td>\n",
       "      <td>0</td>\n",
       "      <td>1</td>\n",
       "      <td>0</td>\n",
       "      <td>sales</td>\n",
       "      <td>medium</td>\n",
       "    </tr>\n",
       "    <tr>\n",
       "      <th>2</th>\n",
       "      <td>0.11</td>\n",
       "      <td>0.88</td>\n",
       "      <td>7</td>\n",
       "      <td>272</td>\n",
       "      <td>4</td>\n",
       "      <td>0</td>\n",
       "      <td>1</td>\n",
       "      <td>0</td>\n",
       "      <td>sales</td>\n",
       "      <td>medium</td>\n",
       "    </tr>\n",
       "    <tr>\n",
       "      <th>3</th>\n",
       "      <td>0.72</td>\n",
       "      <td>0.87</td>\n",
       "      <td>5</td>\n",
       "      <td>223</td>\n",
       "      <td>5</td>\n",
       "      <td>0</td>\n",
       "      <td>1</td>\n",
       "      <td>0</td>\n",
       "      <td>sales</td>\n",
       "      <td>low</td>\n",
       "    </tr>\n",
       "    <tr>\n",
       "      <th>4</th>\n",
       "      <td>0.37</td>\n",
       "      <td>0.52</td>\n",
       "      <td>2</td>\n",
       "      <td>159</td>\n",
       "      <td>3</td>\n",
       "      <td>0</td>\n",
       "      <td>1</td>\n",
       "      <td>0</td>\n",
       "      <td>sales</td>\n",
       "      <td>low</td>\n",
       "    </tr>\n",
       "  </tbody>\n",
       "</table>\n",
       "</div>"
      ],
      "text/plain": [
       "   satisfaction_level  last_evaluation  number_project  average_montly_hours  \\\n",
       "0                0.38             0.53               2                   157   \n",
       "1                0.80             0.86               5                   262   \n",
       "2                0.11             0.88               7                   272   \n",
       "3                0.72             0.87               5                   223   \n",
       "4                0.37             0.52               2                   159   \n",
       "\n",
       "   time_spend_company  Work_accident  left  promotion_last_5years  \\\n",
       "0                   3              0     1                      0   \n",
       "1                   6              0     1                      0   \n",
       "2                   4              0     1                      0   \n",
       "3                   5              0     1                      0   \n",
       "4                   3              0     1                      0   \n",
       "\n",
       "  Departments   salary  \n",
       "0        sales     low  \n",
       "1        sales  medium  \n",
       "2        sales  medium  \n",
       "3        sales     low  \n",
       "4        sales     low  "
      ]
     },
     "execution_count": 5,
     "metadata": {},
     "output_type": "execute_result"
    }
   ],
   "source": [
    "df.head()"
   ]
  },
  {
   "cell_type": "code",
   "execution_count": null,
   "metadata": {},
   "outputs": [],
   "source": []
  },
  {
   "cell_type": "markdown",
   "metadata": {
    "id": "0PsO9Iew2smG"
   },
   "source": [
    "## 2. Data Visualization\n",
    "\n",
    "You can search for answers to the following questions using data visualization methods. Based on these responses, you can develop comments about the factors that cause churn.\n",
    "- How does the promotion status affect employee churn?\n",
    "- How does years of experience affect employee churn?\n",
    "- How does workload affect employee churn?\n",
    "- How does the salary level affect employee churn?"
   ]
  },
  {
   "cell_type": "code",
   "execution_count": 6,
   "metadata": {},
   "outputs": [
    {
     "data": {
      "text/plain": [
       "0    11428\n",
       "1     3571\n",
       "Name: left, dtype: int64"
      ]
     },
     "execution_count": 6,
     "metadata": {},
     "output_type": "execute_result"
    }
   ],
   "source": [
    "df.left.value_counts()"
   ]
  },
  {
   "cell_type": "code",
   "execution_count": 7,
   "metadata": {},
   "outputs": [
    {
     "data": {
      "text/plain": [
       "<AxesSubplot:>"
      ]
     },
     "execution_count": 7,
     "metadata": {},
     "output_type": "execute_result"
    },
    {
     "data": {
      "image/png": "[encoded data removed]",
      "text/plain": [
       "<Figure size 720x432 with 1 Axes>"
      ]
     },
     "metadata": {
      "needs_background": "light"
     },
     "output_type": "display_data"
    }
   ],
   "source": [
    "df.left.value_counts().plot.bar()"
   ]
  },
  {
   "cell_type": "code",
   "execution_count": 8,
   "metadata": {},
   "outputs": [
    {
     "data": {
      "text/plain": [
       "<AxesSubplot:>"
      ]
     },
     "execution_count": 8,
     "metadata": {},
     "output_type": "execute_result"
    },
    {
     "data": {
      "image/png": "[encoded data removed]",
      "text/plain": [
       "<Figure size 720x432 with 2 Axes>"
      ]
     },
     "metadata": {
      "needs_background": "light"
     },
     "output_type": "display_data"
    }
   ],
   "source": [
    "sns.heatmap(df.corr(), annot=True)"
   ]
  },
  {
   "cell_type": "code",
   "execution_count": 9,
   "metadata": {},
   "outputs": [
    {
     "data": {
      "text/plain": [
       "<AxesSubplot:>"
      ]
     },
     "execution_count": 9,
     "metadata": {},
     "output_type": "execute_result"
    },
    {
     "data": {
      "image/png": "[encoded data removed]",
      "text/plain": [
       "<Figure size 720x432 with 1 Axes>"
      ]
     },
     "metadata": {
      "needs_background": "light"
     },
     "output_type": "display_data"
    }
   ],
   "source": [
    "df.promotion_last_5years.value_counts().plot.bar()"
   ]
  },
  {
   "cell_type": "markdown",
   "metadata": {
    "id": "qRQhFwtq2smI"
   },
   "source": [
    "### Employees Left\n",
    "\n",
    "Let's check how many employees were left?\n",
    "Here, you can plot a bar graph using Matplotlib. The bar graph is suitable for showing discrete variable counts."
   ]
  },
  {
   "cell_type": "code",
   "execution_count": 10,
   "metadata": {
    "id": "3aKWfFLk2smL"
   },
   "outputs": [
    {
     "data": {
      "text/plain": [
       "0    11428\n",
       "1     3571\n",
       "Name: left, dtype: int64"
      ]
     },
     "execution_count": 10,
     "metadata": {},
     "output_type": "execute_result"
    }
   ],
   "source": [
    "df.left.value_counts()"
   ]
  },
  {
   "cell_type": "code",
   "execution_count": 11,
   "metadata": {},
   "outputs": [
    {
     "data": {
      "text/plain": [
       "0    300\n",
       "1     19\n",
       "Name: left, dtype: int64"
      ]
     },
     "execution_count": 11,
     "metadata": {},
     "output_type": "execute_result"
    }
   ],
   "source": [
    "df[df.promotion_last_5years==1].left.value_counts()"
   ]
  },
  {
   "cell_type": "code",
   "execution_count": 12,
   "metadata": {},
   "outputs": [
    {
     "data": {
      "text/plain": [
       "0.06333333333333334"
      ]
     },
     "execution_count": 12,
     "metadata": {},
     "output_type": "execute_result"
    }
   ],
   "source": [
    "19/300"
   ]
  },
  {
   "cell_type": "code",
   "execution_count": 13,
   "metadata": {},
   "outputs": [
    {
     "data": {
      "text/plain": [
       "0.2380825388359224"
      ]
     },
     "execution_count": 13,
     "metadata": {},
     "output_type": "execute_result"
    }
   ],
   "source": [
    "3571/14999"
   ]
  },
  {
   "cell_type": "code",
   "execution_count": 14,
   "metadata": {},
   "outputs": [
    {
     "data": {
      "text/plain": [
       "0    14680\n",
       "1      319\n",
       "Name: promotion_last_5years, dtype: int64"
      ]
     },
     "execution_count": 14,
     "metadata": {},
     "output_type": "execute_result"
    }
   ],
   "source": [
    "df.promotion_last_5years.value_counts()"
   ]
  },
  {
   "cell_type": "code",
   "execution_count": 15,
   "metadata": {},
   "outputs": [
    {
     "data": {
      "text/plain": [
       "[Text(0, 0, '3552'), Text(0, 0, '19')]"
      ]
     },
     "execution_count": 15,
     "metadata": {},
     "output_type": "execute_result"
    },
    {
     "data": {
      "image/png": "[encoded data removed]",
      "text/plain": [
       "<Figure size 720x432 with 1 Axes>"
      ]
     },
     "metadata": {
      "needs_background": "light"
     },
     "output_type": "display_data"
    }
   ],
   "source": [
    "ax = sns.countplot(x='promotion_last_5years', hue='left', data=df)\n",
    "ax.bar_label(ax.containers[0])\n",
    "ax.bar_label(ax.containers[1])"
   ]
  },
  {
   "cell_type": "markdown",
   "metadata": {
    "id": "Vn6NHSZE2smY"
   },
   "source": [
    "### Number of Projects\n",
    "\n",
    "Similarly, you can also plot a bar graph to count the number of employees deployed on how many projects?"
   ]
  },
  {
   "cell_type": "code",
   "execution_count": 16,
   "metadata": {
    "id": "bGyyJcUP2sma"
   },
   "outputs": [
    {
     "data": {
      "text/html": [
       "<div>\n",
       "<style scoped>\n",
       "    .dataframe tbody tr th:only-of-type {\n",
       "        vertical-align: middle;\n",
       "    }\n",
       "\n",
       "    .dataframe tbody tr th {\n",
       "        vertical-align: top;\n",
       "    }\n",
       "\n",
       "    .dataframe thead th {\n",
       "        text-align: right;\n",
       "    }\n",
       "</style>\n",
       "<table border=\"1\" class=\"dataframe\">\n",
       "  <thead>\n",
       "    <tr style=\"text-align: right;\">\n",
       "      <th></th>\n",
       "      <th>satisfaction_level</th>\n",
       "      <th>last_evaluation</th>\n",
       "      <th>number_project</th>\n",
       "      <th>average_montly_hours</th>\n",
       "      <th>time_spend_company</th>\n",
       "      <th>Work_accident</th>\n",
       "      <th>left</th>\n",
       "      <th>promotion_last_5years</th>\n",
       "      <th>Departments</th>\n",
       "      <th>salary</th>\n",
       "    </tr>\n",
       "  </thead>\n",
       "  <tbody>\n",
       "    <tr>\n",
       "      <th>0</th>\n",
       "      <td>0.38</td>\n",
       "      <td>0.53</td>\n",
       "      <td>2</td>\n",
       "      <td>157</td>\n",
       "      <td>3</td>\n",
       "      <td>0</td>\n",
       "      <td>1</td>\n",
       "      <td>0</td>\n",
       "      <td>sales</td>\n",
       "      <td>low</td>\n",
       "    </tr>\n",
       "  </tbody>\n",
       "</table>\n",
       "</div>"
      ],
      "text/plain": [
       "   satisfaction_level  last_evaluation  number_project  average_montly_hours  \\\n",
       "0                0.38             0.53               2                   157   \n",
       "\n",
       "   time_spend_company  Work_accident  left  promotion_last_5years  \\\n",
       "0                   3              0     1                      0   \n",
       "\n",
       "  Departments  salary  \n",
       "0        sales    low  "
      ]
     },
     "execution_count": 16,
     "metadata": {},
     "output_type": "execute_result"
    }
   ],
   "source": [
    "df.head(1)"
   ]
  },
  {
   "cell_type": "code",
   "execution_count": 17,
   "metadata": {},
   "outputs": [
    {
     "data": {
      "text/plain": [
       "<AxesSubplot:>"
      ]
     },
     "execution_count": 17,
     "metadata": {},
     "output_type": "execute_result"
    },
    {
     "data": {
      "image/png": "[encoded data removed]",
      "text/plain": [
       "<Figure size 720x432 with 1 Axes>"
      ]
     },
     "metadata": {
      "needs_background": "light"
     },
     "output_type": "display_data"
    }
   ],
   "source": [
    "df.number_project.value_counts().plot.bar()"
   ]
  },
  {
   "cell_type": "code",
   "execution_count": 18,
   "metadata": {},
   "outputs": [
    {
     "data": {
      "image/png": "[encoded data removed]",
      "text/plain": [
       "<Figure size 720x432 with 1 Axes>"
      ]
     },
     "metadata": {
      "needs_background": "light"
     },
     "output_type": "display_data"
    }
   ],
   "source": [
    "ax = sns.countplot(x='number_project', hue='left', data=df)\n",
    "ax.bar_label(ax.containers[0])\n",
    "ax.bar_label(ax.containers[1]);"
   ]
  },
  {
   "cell_type": "code",
   "execution_count": 19,
   "metadata": {},
   "outputs": [
    {
     "data": {
      "text/plain": [
       "4    4365\n",
       "3    4055\n",
       "5    2761\n",
       "2    2388\n",
       "6    1174\n",
       "7     256\n",
       "Name: number_project, dtype: int64"
      ]
     },
     "execution_count": 19,
     "metadata": {},
     "output_type": "execute_result"
    }
   ],
   "source": [
    "df.number_project.value_counts()"
   ]
  },
  {
   "cell_type": "code",
   "execution_count": 20,
   "metadata": {},
   "outputs": [
    {
     "data": {
      "image/png": "[encoded data removed]",
      "text/plain": [
       "<Figure size 720x432 with 1 Axes>"
      ]
     },
     "metadata": {
      "needs_background": "light"
     },
     "output_type": "display_data"
    }
   ],
   "source": [
    "fig = sns.barplot(x=df.number_project.value_counts().index, \n",
    "             y=df.number_project.value_counts())"
   ]
  },
  {
   "cell_type": "code",
   "execution_count": 21,
   "metadata": {},
   "outputs": [
    {
     "data": {
      "text/plain": [
       "<AxesSubplot:xlabel='number_project', ylabel='count'>"
      ]
     },
     "execution_count": 21,
     "metadata": {},
     "output_type": "execute_result"
    },
    {
     "data": {
      "image/png": "[encoded data removed]",
      "text/plain": [
       "<Figure size 720x432 with 1 Axes>"
      ]
     },
     "metadata": {
      "needs_background": "light"
     },
     "output_type": "display_data"
    }
   ],
   "source": [
    "sns.countplot(df.number_project)"
   ]
  },
  {
   "cell_type": "markdown",
   "metadata": {
    "id": "48X9SO4v2smj"
   },
   "source": [
    "### Time Spent in Company\n",
    "\n",
    "Similarly, you can also plot a bar graph to count the number of employees have based on how much experience?\n"
   ]
  },
  {
   "cell_type": "code",
   "execution_count": 22,
   "metadata": {
    "id": "OW-HRwfU2sml"
   },
   "outputs": [
    {
     "data": {
      "text/html": [
       "<div>\n",
       "<style scoped>\n",
       "    .dataframe tbody tr th:only-of-type {\n",
       "        vertical-align: middle;\n",
       "    }\n",
       "\n",
       "    .dataframe tbody tr th {\n",
       "        vertical-align: top;\n",
       "    }\n",
       "\n",
       "    .dataframe thead th {\n",
       "        text-align: right;\n",
       "    }\n",
       "</style>\n",
       "<table border=\"1\" class=\"dataframe\">\n",
       "  <thead>\n",
       "    <tr style=\"text-align: right;\">\n",
       "      <th></th>\n",
       "      <th>satisfaction_level</th>\n",
       "      <th>last_evaluation</th>\n",
       "      <th>number_project</th>\n",
       "      <th>average_montly_hours</th>\n",
       "      <th>time_spend_company</th>\n",
       "      <th>Work_accident</th>\n",
       "      <th>left</th>\n",
       "      <th>promotion_last_5years</th>\n",
       "      <th>Departments</th>\n",
       "      <th>salary</th>\n",
       "    </tr>\n",
       "  </thead>\n",
       "  <tbody>\n",
       "    <tr>\n",
       "      <th>0</th>\n",
       "      <td>0.38</td>\n",
       "      <td>0.53</td>\n",
       "      <td>2</td>\n",
       "      <td>157</td>\n",
       "      <td>3</td>\n",
       "      <td>0</td>\n",
       "      <td>1</td>\n",
       "      <td>0</td>\n",
       "      <td>sales</td>\n",
       "      <td>low</td>\n",
       "    </tr>\n",
       "  </tbody>\n",
       "</table>\n",
       "</div>"
      ],
      "text/plain": [
       "   satisfaction_level  last_evaluation  number_project  average_montly_hours  \\\n",
       "0                0.38             0.53               2                   157   \n",
       "\n",
       "   time_spend_company  Work_accident  left  promotion_last_5years  \\\n",
       "0                   3              0     1                      0   \n",
       "\n",
       "  Departments  salary  \n",
       "0        sales    low  "
      ]
     },
     "execution_count": 22,
     "metadata": {},
     "output_type": "execute_result"
    }
   ],
   "source": [
    "df.head(1)"
   ]
  },
  {
   "cell_type": "code",
   "execution_count": 23,
   "metadata": {},
   "outputs": [
    {
     "data": {
      "text/plain": [
       "0        3\n",
       "1        6\n",
       "2        4\n",
       "3        5\n",
       "4        3\n",
       "        ..\n",
       "14994    3\n",
       "14995    3\n",
       "14996    3\n",
       "14997    4\n",
       "14998    3\n",
       "Name: time_spend_company, Length: 14999, dtype: int64"
      ]
     },
     "execution_count": 23,
     "metadata": {},
     "output_type": "execute_result"
    }
   ],
   "source": [
    "df.time_spend_company"
   ]
  },
  {
   "cell_type": "code",
   "execution_count": 24,
   "metadata": {
    "scrolled": true
   },
   "outputs": [
    {
     "data": {
      "text/plain": [
       "3     6443\n",
       "2     3244\n",
       "4     2557\n",
       "5     1473\n",
       "6      718\n",
       "10     214\n",
       "7      188\n",
       "8      162\n",
       "Name: time_spend_company, dtype: int64"
      ]
     },
     "execution_count": 24,
     "metadata": {},
     "output_type": "execute_result"
    }
   ],
   "source": [
    "df.time_spend_company.value_counts()"
   ]
  },
  {
   "cell_type": "code",
   "execution_count": 25,
   "metadata": {
    "scrolled": true
   },
   "outputs": [
    {
     "data": {
      "image/png": "[encoded data removed]",
      "text/plain": [
       "<Figure size 720x432 with 1 Axes>"
      ]
     },
     "metadata": {
      "needs_background": "light"
     },
     "output_type": "display_data"
    }
   ],
   "source": [
    "ax = sns.countplot(df.time_spend_company, hue = df.left)\n",
    "ax.bar_label(ax.containers[0])\n",
    "ax.bar_label(ax.containers[1]);"
   ]
  },
  {
   "cell_type": "code",
   "execution_count": null,
   "metadata": {},
   "outputs": [],
   "source": []
  },
  {
   "cell_type": "markdown",
   "metadata": {
    "id": "VEbtBv3q2smq"
   },
   "source": [
    "### Subplots of Features\n",
    "\n",
    "You can use the methods of the matplotlib."
   ]
  },
  {
   "cell_type": "code",
   "execution_count": null,
   "metadata": {
    "id": "Gt8FWYQu2smu"
   },
   "outputs": [],
   "source": []
  },
  {
   "cell_type": "markdown",
   "metadata": {
    "id": "36OyDJyx2sm2"
   },
   "source": [
    "## 3. Data Pre-Processing"
   ]
  },
  {
   "cell_type": "markdown",
   "metadata": {
    "id": "iN94C5P42sm4"
   },
   "source": [
    "#### Scaling\n",
    "\n",
    "Some machine learning algorithms are sensitive to feature scaling while others are virtually invariant to it. Machine learning algorithms like linear regression, logistic regression, neural network, etc. that use gradient descent as an optimization technique require data to be scaled. Also distance algorithms like KNN, K-means, and SVM are most affected by the range of features. This is because behind the scenes they are using distances between data points to determine their similarity.\n",
    "\n",
    "Scaling Types:\n",
    "- Normalization: Normalization is a scaling technique in which values are shifted and rescaled so that they end up ranging between 0 and 1. It is also known as Min-Max scaling.\n",
    "\n",
    "- Standardization: Standardization is another scaling technique where the values are centered around the mean with a unit standard deviation. This means that the mean of the attribute becomes zero and the resultant distribution has a unit standard deviation.\n",
    "\n",
    "    "
   ]
  },
  {
   "cell_type": "code",
   "execution_count": 26,
   "metadata": {
    "id": "1HXszRiq2sm4"
   },
   "outputs": [
    {
     "data": {
      "text/html": [
       "<div>\n",
       "<style scoped>\n",
       "    .dataframe tbody tr th:only-of-type {\n",
       "        vertical-align: middle;\n",
       "    }\n",
       "\n",
       "    .dataframe tbody tr th {\n",
       "        vertical-align: top;\n",
       "    }\n",
       "\n",
       "    .dataframe thead th {\n",
       "        text-align: right;\n",
       "    }\n",
       "</style>\n",
       "<table border=\"1\" class=\"dataframe\">\n",
       "  <thead>\n",
       "    <tr style=\"text-align: right;\">\n",
       "      <th></th>\n",
       "      <th>satisfaction_level</th>\n",
       "      <th>last_evaluation</th>\n",
       "      <th>number_project</th>\n",
       "      <th>average_montly_hours</th>\n",
       "      <th>time_spend_company</th>\n",
       "      <th>Work_accident</th>\n",
       "      <th>left</th>\n",
       "      <th>promotion_last_5years</th>\n",
       "      <th>Departments</th>\n",
       "      <th>salary</th>\n",
       "    </tr>\n",
       "  </thead>\n",
       "  <tbody>\n",
       "    <tr>\n",
       "      <th>0</th>\n",
       "      <td>0.38</td>\n",
       "      <td>0.53</td>\n",
       "      <td>2</td>\n",
       "      <td>157</td>\n",
       "      <td>3</td>\n",
       "      <td>0</td>\n",
       "      <td>1</td>\n",
       "      <td>0</td>\n",
       "      <td>sales</td>\n",
       "      <td>low</td>\n",
       "    </tr>\n",
       "    <tr>\n",
       "      <th>1</th>\n",
       "      <td>0.80</td>\n",
       "      <td>0.86</td>\n",
       "      <td>5</td>\n",
       "      <td>262</td>\n",
       "      <td>6</td>\n",
       "      <td>0</td>\n",
       "      <td>1</td>\n",
       "      <td>0</td>\n",
       "      <td>sales</td>\n",
       "      <td>medium</td>\n",
       "    </tr>\n",
       "    <tr>\n",
       "      <th>2</th>\n",
       "      <td>0.11</td>\n",
       "      <td>0.88</td>\n",
       "      <td>7</td>\n",
       "      <td>272</td>\n",
       "      <td>4</td>\n",
       "      <td>0</td>\n",
       "      <td>1</td>\n",
       "      <td>0</td>\n",
       "      <td>sales</td>\n",
       "      <td>medium</td>\n",
       "    </tr>\n",
       "    <tr>\n",
       "      <th>3</th>\n",
       "      <td>0.72</td>\n",
       "      <td>0.87</td>\n",
       "      <td>5</td>\n",
       "      <td>223</td>\n",
       "      <td>5</td>\n",
       "      <td>0</td>\n",
       "      <td>1</td>\n",
       "      <td>0</td>\n",
       "      <td>sales</td>\n",
       "      <td>low</td>\n",
       "    </tr>\n",
       "    <tr>\n",
       "      <th>4</th>\n",
       "      <td>0.37</td>\n",
       "      <td>0.52</td>\n",
       "      <td>2</td>\n",
       "      <td>159</td>\n",
       "      <td>3</td>\n",
       "      <td>0</td>\n",
       "      <td>1</td>\n",
       "      <td>0</td>\n",
       "      <td>sales</td>\n",
       "      <td>low</td>\n",
       "    </tr>\n",
       "  </tbody>\n",
       "</table>\n",
       "</div>"
      ],
      "text/plain": [
       "   satisfaction_level  last_evaluation  number_project  average_montly_hours  \\\n",
       "0                0.38             0.53               2                   157   \n",
       "1                0.80             0.86               5                   262   \n",
       "2                0.11             0.88               7                   272   \n",
       "3                0.72             0.87               5                   223   \n",
       "4                0.37             0.52               2                   159   \n",
       "\n",
       "   time_spend_company  Work_accident  left  promotion_last_5years  \\\n",
       "0                   3              0     1                      0   \n",
       "1                   6              0     1                      0   \n",
       "2                   4              0     1                      0   \n",
       "3                   5              0     1                      0   \n",
       "4                   3              0     1                      0   \n",
       "\n",
       "  Departments   salary  \n",
       "0        sales     low  \n",
       "1        sales  medium  \n",
       "2        sales  medium  \n",
       "3        sales     low  \n",
       "4        sales     low  "
      ]
     },
     "execution_count": 26,
     "metadata": {},
     "output_type": "execute_result"
    }
   ],
   "source": [
    "df.head()"
   ]
  },
  {
   "cell_type": "code",
   "execution_count": 27,
   "metadata": {},
   "outputs": [
    {
     "data": {
      "text/html": [
       "<div>\n",
       "<style scoped>\n",
       "    .dataframe tbody tr th:only-of-type {\n",
       "        vertical-align: middle;\n",
       "    }\n",
       "\n",
       "    .dataframe tbody tr th {\n",
       "        vertical-align: top;\n",
       "    }\n",
       "\n",
       "    .dataframe thead th {\n",
       "        text-align: right;\n",
       "    }\n",
       "</style>\n",
       "<table border=\"1\" class=\"dataframe\">\n",
       "  <thead>\n",
       "    <tr style=\"text-align: right;\">\n",
       "      <th></th>\n",
       "      <th>count</th>\n",
       "      <th>mean</th>\n",
       "      <th>std</th>\n",
       "      <th>min</th>\n",
       "      <th>25%</th>\n",
       "      <th>50%</th>\n",
       "      <th>75%</th>\n",
       "      <th>max</th>\n",
       "    </tr>\n",
       "  </thead>\n",
       "  <tbody>\n",
       "    <tr>\n",
       "      <th>satisfaction_level</th>\n",
       "      <td>14999.0</td>\n",
       "      <td>0.612834</td>\n",
       "      <td>0.248631</td>\n",
       "      <td>0.09</td>\n",
       "      <td>0.44</td>\n",
       "      <td>0.64</td>\n",
       "      <td>0.82</td>\n",
       "      <td>1.0</td>\n",
       "    </tr>\n",
       "    <tr>\n",
       "      <th>last_evaluation</th>\n",
       "      <td>14999.0</td>\n",
       "      <td>0.716102</td>\n",
       "      <td>0.171169</td>\n",
       "      <td>0.36</td>\n",
       "      <td>0.56</td>\n",
       "      <td>0.72</td>\n",
       "      <td>0.87</td>\n",
       "      <td>1.0</td>\n",
       "    </tr>\n",
       "    <tr>\n",
       "      <th>number_project</th>\n",
       "      <td>14999.0</td>\n",
       "      <td>3.803054</td>\n",
       "      <td>1.232592</td>\n",
       "      <td>2.00</td>\n",
       "      <td>3.00</td>\n",
       "      <td>4.00</td>\n",
       "      <td>5.00</td>\n",
       "      <td>7.0</td>\n",
       "    </tr>\n",
       "    <tr>\n",
       "      <th>average_montly_hours</th>\n",
       "      <td>14999.0</td>\n",
       "      <td>201.050337</td>\n",
       "      <td>49.943099</td>\n",
       "      <td>96.00</td>\n",
       "      <td>156.00</td>\n",
       "      <td>200.00</td>\n",
       "      <td>245.00</td>\n",
       "      <td>310.0</td>\n",
       "    </tr>\n",
       "    <tr>\n",
       "      <th>time_spend_company</th>\n",
       "      <td>14999.0</td>\n",
       "      <td>3.498233</td>\n",
       "      <td>1.460136</td>\n",
       "      <td>2.00</td>\n",
       "      <td>3.00</td>\n",
       "      <td>3.00</td>\n",
       "      <td>4.00</td>\n",
       "      <td>10.0</td>\n",
       "    </tr>\n",
       "    <tr>\n",
       "      <th>Work_accident</th>\n",
       "      <td>14999.0</td>\n",
       "      <td>0.144610</td>\n",
       "      <td>0.351719</td>\n",
       "      <td>0.00</td>\n",
       "      <td>0.00</td>\n",
       "      <td>0.00</td>\n",
       "      <td>0.00</td>\n",
       "      <td>1.0</td>\n",
       "    </tr>\n",
       "    <tr>\n",
       "      <th>left</th>\n",
       "      <td>14999.0</td>\n",
       "      <td>0.238083</td>\n",
       "      <td>0.425924</td>\n",
       "      <td>0.00</td>\n",
       "      <td>0.00</td>\n",
       "      <td>0.00</td>\n",
       "      <td>0.00</td>\n",
       "      <td>1.0</td>\n",
       "    </tr>\n",
       "    <tr>\n",
       "      <th>promotion_last_5years</th>\n",
       "      <td>14999.0</td>\n",
       "      <td>0.021268</td>\n",
       "      <td>0.144281</td>\n",
       "      <td>0.00</td>\n",
       "      <td>0.00</td>\n",
       "      <td>0.00</td>\n",
       "      <td>0.00</td>\n",
       "      <td>1.0</td>\n",
       "    </tr>\n",
       "  </tbody>\n",
       "</table>\n",
       "</div>"
      ],
      "text/plain": [
       "                         count        mean        std    min     25%     50%  \\\n",
       "satisfaction_level     14999.0    0.612834   0.248631   0.09    0.44    0.64   \n",
       "last_evaluation        14999.0    0.716102   0.171169   0.36    0.56    0.72   \n",
       "number_project         14999.0    3.803054   1.232592   2.00    3.00    4.00   \n",
       "average_montly_hours   14999.0  201.050337  49.943099  96.00  156.00  200.00   \n",
       "time_spend_company     14999.0    3.498233   1.460136   2.00    3.00    3.00   \n",
       "Work_accident          14999.0    0.144610   0.351719   0.00    0.00    0.00   \n",
       "left                   14999.0    0.238083   0.425924   0.00    0.00    0.00   \n",
       "promotion_last_5years  14999.0    0.021268   0.144281   0.00    0.00    0.00   \n",
       "\n",
       "                          75%    max  \n",
       "satisfaction_level       0.82    1.0  \n",
       "last_evaluation          0.87    1.0  \n",
       "number_project           5.00    7.0  \n",
       "average_montly_hours   245.00  310.0  \n",
       "time_spend_company       4.00   10.0  \n",
       "Work_accident            0.00    1.0  \n",
       "left                     0.00    1.0  \n",
       "promotion_last_5years    0.00    1.0  "
      ]
     },
     "execution_count": 27,
     "metadata": {},
     "output_type": "execute_result"
    }
   ],
   "source": [
    "df.describe().T"
   ]
  },
  {
   "cell_type": "markdown",
   "metadata": {
    "id": "L8-SVBoq2snA"
   },
   "source": [
    "#### Label Encoding\n",
    "\n",
    "Lots of machine learning algorithms require numerical input data, so you need to represent categorical columns in a numerical column. In order to encode this data, you could map each value to a number. e.g. Salary column's value can be represented as low:0, medium:1, and high:2. This process is known as label encoding, and sklearn conveniently will do this for you using LabelEncoder.\n",
    "\n"
   ]
  },
  {
   "cell_type": "code",
   "execution_count": 28,
   "metadata": {
    "id": "-pVP9UBQ2snC",
    "scrolled": true
   },
   "outputs": [
    {
     "data": {
      "text/plain": [
       "array(['low', 'medium', 'high'], dtype=object)"
      ]
     },
     "execution_count": 28,
     "metadata": {},
     "output_type": "execute_result"
    }
   ],
   "source": [
    "df.salary.unique()"
   ]
  },
  {
   "cell_type": "code",
   "execution_count": 29,
   "metadata": {},
   "outputs": [
    {
     "data": {
      "text/plain": [
       "low       7316\n",
       "medium    6446\n",
       "high      1237\n",
       "Name: salary, dtype: int64"
      ]
     },
     "execution_count": 29,
     "metadata": {},
     "output_type": "execute_result"
    }
   ],
   "source": [
    "df.salary.value_counts()"
   ]
  },
  {
   "cell_type": "code",
   "execution_count": 30,
   "metadata": {},
   "outputs": [],
   "source": [
    "from sklearn.preprocessing import LabelEncoder\n",
    "label_encoding = LabelEncoder()"
   ]
  },
  {
   "cell_type": "code",
   "execution_count": 31,
   "metadata": {},
   "outputs": [],
   "source": [
    "df.salary = label_encoding.fit_transform(df.salary)"
   ]
  },
  {
   "cell_type": "code",
   "execution_count": 32,
   "metadata": {},
   "outputs": [
    {
     "data": {
      "text/html": [
       "<div>\n",
       "<style scoped>\n",
       "    .dataframe tbody tr th:only-of-type {\n",
       "        vertical-align: middle;\n",
       "    }\n",
       "\n",
       "    .dataframe tbody tr th {\n",
       "        vertical-align: top;\n",
       "    }\n",
       "\n",
       "    .dataframe thead th {\n",
       "        text-align: right;\n",
       "    }\n",
       "</style>\n",
       "<table border=\"1\" class=\"dataframe\">\n",
       "  <thead>\n",
       "    <tr style=\"text-align: right;\">\n",
       "      <th></th>\n",
       "      <th>satisfaction_level</th>\n",
       "      <th>last_evaluation</th>\n",
       "      <th>number_project</th>\n",
       "      <th>average_montly_hours</th>\n",
       "      <th>time_spend_company</th>\n",
       "      <th>Work_accident</th>\n",
       "      <th>left</th>\n",
       "      <th>promotion_last_5years</th>\n",
       "      <th>Departments</th>\n",
       "      <th>salary</th>\n",
       "    </tr>\n",
       "  </thead>\n",
       "  <tbody>\n",
       "    <tr>\n",
       "      <th>0</th>\n",
       "      <td>0.38</td>\n",
       "      <td>0.53</td>\n",
       "      <td>2</td>\n",
       "      <td>157</td>\n",
       "      <td>3</td>\n",
       "      <td>0</td>\n",
       "      <td>1</td>\n",
       "      <td>0</td>\n",
       "      <td>sales</td>\n",
       "      <td>1</td>\n",
       "    </tr>\n",
       "    <tr>\n",
       "      <th>1</th>\n",
       "      <td>0.80</td>\n",
       "      <td>0.86</td>\n",
       "      <td>5</td>\n",
       "      <td>262</td>\n",
       "      <td>6</td>\n",
       "      <td>0</td>\n",
       "      <td>1</td>\n",
       "      <td>0</td>\n",
       "      <td>sales</td>\n",
       "      <td>2</td>\n",
       "    </tr>\n",
       "    <tr>\n",
       "      <th>2</th>\n",
       "      <td>0.11</td>\n",
       "      <td>0.88</td>\n",
       "      <td>7</td>\n",
       "      <td>272</td>\n",
       "      <td>4</td>\n",
       "      <td>0</td>\n",
       "      <td>1</td>\n",
       "      <td>0</td>\n",
       "      <td>sales</td>\n",
       "      <td>2</td>\n",
       "    </tr>\n",
       "    <tr>\n",
       "      <th>3</th>\n",
       "      <td>0.72</td>\n",
       "      <td>0.87</td>\n",
       "      <td>5</td>\n",
       "      <td>223</td>\n",
       "      <td>5</td>\n",
       "      <td>0</td>\n",
       "      <td>1</td>\n",
       "      <td>0</td>\n",
       "      <td>sales</td>\n",
       "      <td>1</td>\n",
       "    </tr>\n",
       "    <tr>\n",
       "      <th>4</th>\n",
       "      <td>0.37</td>\n",
       "      <td>0.52</td>\n",
       "      <td>2</td>\n",
       "      <td>159</td>\n",
       "      <td>3</td>\n",
       "      <td>0</td>\n",
       "      <td>1</td>\n",
       "      <td>0</td>\n",
       "      <td>sales</td>\n",
       "      <td>1</td>\n",
       "    </tr>\n",
       "  </tbody>\n",
       "</table>\n",
       "</div>"
      ],
      "text/plain": [
       "   satisfaction_level  last_evaluation  number_project  average_montly_hours  \\\n",
       "0                0.38             0.53               2                   157   \n",
       "1                0.80             0.86               5                   262   \n",
       "2                0.11             0.88               7                   272   \n",
       "3                0.72             0.87               5                   223   \n",
       "4                0.37             0.52               2                   159   \n",
       "\n",
       "   time_spend_company  Work_accident  left  promotion_last_5years  \\\n",
       "0                   3              0     1                      0   \n",
       "1                   6              0     1                      0   \n",
       "2                   4              0     1                      0   \n",
       "3                   5              0     1                      0   \n",
       "4                   3              0     1                      0   \n",
       "\n",
       "  Departments   salary  \n",
       "0        sales       1  \n",
       "1        sales       2  \n",
       "2        sales       2  \n",
       "3        sales       1  \n",
       "4        sales       1  "
      ]
     },
     "execution_count": 32,
     "metadata": {},
     "output_type": "execute_result"
    }
   ],
   "source": [
    "df.head()"
   ]
  },
  {
   "cell_type": "code",
   "execution_count": 77,
   "metadata": {},
   "outputs": [
    {
     "data": {
      "text/plain": [
       "1    7316\n",
       "2    6446\n",
       "0    1237\n",
       "Name: salary, dtype: int64"
      ]
     },
     "execution_count": 77,
     "metadata": {},
     "output_type": "execute_result"
    }
   ],
   "source": [
    "df.salary.value_counts()"
   ]
  },
  {
   "cell_type": "code",
   "execution_count": 33,
   "metadata": {},
   "outputs": [
    {
     "data": {
      "text/plain": [
       "Index(['satisfaction_level', 'last_evaluation', 'number_project',\n",
       "       'average_montly_hours', 'time_spend_company', 'Work_accident', 'left',\n",
       "       'promotion_last_5years', 'Departments ', 'salary'],\n",
       "      dtype='object')"
      ]
     },
     "execution_count": 33,
     "metadata": {},
     "output_type": "execute_result"
    }
   ],
   "source": [
    "df.columns"
   ]
  },
  {
   "cell_type": "code",
   "execution_count": 34,
   "metadata": {},
   "outputs": [
    {
     "data": {
      "text/plain": [
       "sales          4140\n",
       "technical      2720\n",
       "support        2229\n",
       "IT             1227\n",
       "product_mng     902\n",
       "marketing       858\n",
       "RandD           787\n",
       "accounting      767\n",
       "hr              739\n",
       "management      630\n",
       "Name: Departments , dtype: int64"
      ]
     },
     "execution_count": 34,
     "metadata": {},
     "output_type": "execute_result"
    }
   ],
   "source": [
    "df['Departments '].value_counts()"
   ]
  },
  {
   "cell_type": "code",
   "execution_count": 35,
   "metadata": {},
   "outputs": [],
   "source": [
    "df.rename(columns={'Departments ':'Departments'}, inplace=True)"
   ]
  },
  {
   "cell_type": "code",
   "execution_count": 36,
   "metadata": {},
   "outputs": [
    {
     "data": {
      "text/html": [
       "<div>\n",
       "<style scoped>\n",
       "    .dataframe tbody tr th:only-of-type {\n",
       "        vertical-align: middle;\n",
       "    }\n",
       "\n",
       "    .dataframe tbody tr th {\n",
       "        vertical-align: top;\n",
       "    }\n",
       "\n",
       "    .dataframe thead th {\n",
       "        text-align: right;\n",
       "    }\n",
       "</style>\n",
       "<table border=\"1\" class=\"dataframe\">\n",
       "  <thead>\n",
       "    <tr style=\"text-align: right;\">\n",
       "      <th></th>\n",
       "      <th>satisfaction_level</th>\n",
       "      <th>last_evaluation</th>\n",
       "      <th>number_project</th>\n",
       "      <th>average_montly_hours</th>\n",
       "      <th>time_spend_company</th>\n",
       "      <th>Work_accident</th>\n",
       "      <th>left</th>\n",
       "      <th>promotion_last_5years</th>\n",
       "      <th>Departments</th>\n",
       "      <th>salary</th>\n",
       "    </tr>\n",
       "  </thead>\n",
       "  <tbody>\n",
       "    <tr>\n",
       "      <th>0</th>\n",
       "      <td>0.38</td>\n",
       "      <td>0.53</td>\n",
       "      <td>2</td>\n",
       "      <td>157</td>\n",
       "      <td>3</td>\n",
       "      <td>0</td>\n",
       "      <td>1</td>\n",
       "      <td>0</td>\n",
       "      <td>sales</td>\n",
       "      <td>1</td>\n",
       "    </tr>\n",
       "    <tr>\n",
       "      <th>1</th>\n",
       "      <td>0.80</td>\n",
       "      <td>0.86</td>\n",
       "      <td>5</td>\n",
       "      <td>262</td>\n",
       "      <td>6</td>\n",
       "      <td>0</td>\n",
       "      <td>1</td>\n",
       "      <td>0</td>\n",
       "      <td>sales</td>\n",
       "      <td>2</td>\n",
       "    </tr>\n",
       "    <tr>\n",
       "      <th>2</th>\n",
       "      <td>0.11</td>\n",
       "      <td>0.88</td>\n",
       "      <td>7</td>\n",
       "      <td>272</td>\n",
       "      <td>4</td>\n",
       "      <td>0</td>\n",
       "      <td>1</td>\n",
       "      <td>0</td>\n",
       "      <td>sales</td>\n",
       "      <td>2</td>\n",
       "    </tr>\n",
       "    <tr>\n",
       "      <th>3</th>\n",
       "      <td>0.72</td>\n",
       "      <td>0.87</td>\n",
       "      <td>5</td>\n",
       "      <td>223</td>\n",
       "      <td>5</td>\n",
       "      <td>0</td>\n",
       "      <td>1</td>\n",
       "      <td>0</td>\n",
       "      <td>sales</td>\n",
       "      <td>1</td>\n",
       "    </tr>\n",
       "    <tr>\n",
       "      <th>4</th>\n",
       "      <td>0.37</td>\n",
       "      <td>0.52</td>\n",
       "      <td>2</td>\n",
       "      <td>159</td>\n",
       "      <td>3</td>\n",
       "      <td>0</td>\n",
       "      <td>1</td>\n",
       "      <td>0</td>\n",
       "      <td>sales</td>\n",
       "      <td>1</td>\n",
       "    </tr>\n",
       "  </tbody>\n",
       "</table>\n",
       "</div>"
      ],
      "text/plain": [
       "   satisfaction_level  last_evaluation  number_project  average_montly_hours  \\\n",
       "0                0.38             0.53               2                   157   \n",
       "1                0.80             0.86               5                   262   \n",
       "2                0.11             0.88               7                   272   \n",
       "3                0.72             0.87               5                   223   \n",
       "4                0.37             0.52               2                   159   \n",
       "\n",
       "   time_spend_company  Work_accident  left  promotion_last_5years Departments  \\\n",
       "0                   3              0     1                      0       sales   \n",
       "1                   6              0     1                      0       sales   \n",
       "2                   4              0     1                      0       sales   \n",
       "3                   5              0     1                      0       sales   \n",
       "4                   3              0     1                      0       sales   \n",
       "\n",
       "   salary  \n",
       "0       1  \n",
       "1       2  \n",
       "2       2  \n",
       "3       1  \n",
       "4       1  "
      ]
     },
     "execution_count": 36,
     "metadata": {},
     "output_type": "execute_result"
    }
   ],
   "source": [
    "df.head()"
   ]
  },
  {
   "cell_type": "code",
   "execution_count": 37,
   "metadata": {},
   "outputs": [],
   "source": [
    "df = pd.get_dummies(df, columns=['Departments'], drop_first=True)"
   ]
  },
  {
   "cell_type": "code",
   "execution_count": 38,
   "metadata": {},
   "outputs": [
    {
     "data": {
      "text/html": [
       "<div>\n",
       "<style scoped>\n",
       "    .dataframe tbody tr th:only-of-type {\n",
       "        vertical-align: middle;\n",
       "    }\n",
       "\n",
       "    .dataframe tbody tr th {\n",
       "        vertical-align: top;\n",
       "    }\n",
       "\n",
       "    .dataframe thead th {\n",
       "        text-align: right;\n",
       "    }\n",
       "</style>\n",
       "<table border=\"1\" class=\"dataframe\">\n",
       "  <thead>\n",
       "    <tr style=\"text-align: right;\">\n",
       "      <th></th>\n",
       "      <th>satisfaction_level</th>\n",
       "      <th>last_evaluation</th>\n",
       "      <th>number_project</th>\n",
       "      <th>average_montly_hours</th>\n",
       "      <th>time_spend_company</th>\n",
       "      <th>Work_accident</th>\n",
       "      <th>left</th>\n",
       "      <th>promotion_last_5years</th>\n",
       "      <th>salary</th>\n",
       "      <th>Departments_RandD</th>\n",
       "      <th>Departments_accounting</th>\n",
       "      <th>Departments_hr</th>\n",
       "      <th>Departments_management</th>\n",
       "      <th>Departments_marketing</th>\n",
       "      <th>Departments_product_mng</th>\n",
       "      <th>Departments_sales</th>\n",
       "      <th>Departments_support</th>\n",
       "      <th>Departments_technical</th>\n",
       "    </tr>\n",
       "  </thead>\n",
       "  <tbody>\n",
       "    <tr>\n",
       "      <th>0</th>\n",
       "      <td>0.38</td>\n",
       "      <td>0.53</td>\n",
       "      <td>2</td>\n",
       "      <td>157</td>\n",
       "      <td>3</td>\n",
       "      <td>0</td>\n",
       "      <td>1</td>\n",
       "      <td>0</td>\n",
       "      <td>1</td>\n",
       "      <td>0</td>\n",
       "      <td>0</td>\n",
       "      <td>0</td>\n",
       "      <td>0</td>\n",
       "      <td>0</td>\n",
       "      <td>0</td>\n",
       "      <td>1</td>\n",
       "      <td>0</td>\n",
       "      <td>0</td>\n",
       "    </tr>\n",
       "    <tr>\n",
       "      <th>1</th>\n",
       "      <td>0.80</td>\n",
       "      <td>0.86</td>\n",
       "      <td>5</td>\n",
       "      <td>262</td>\n",
       "      <td>6</td>\n",
       "      <td>0</td>\n",
       "      <td>1</td>\n",
       "      <td>0</td>\n",
       "      <td>2</td>\n",
       "      <td>0</td>\n",
       "      <td>0</td>\n",
       "      <td>0</td>\n",
       "      <td>0</td>\n",
       "      <td>0</td>\n",
       "      <td>0</td>\n",
       "      <td>1</td>\n",
       "      <td>0</td>\n",
       "      <td>0</td>\n",
       "    </tr>\n",
       "    <tr>\n",
       "      <th>2</th>\n",
       "      <td>0.11</td>\n",
       "      <td>0.88</td>\n",
       "      <td>7</td>\n",
       "      <td>272</td>\n",
       "      <td>4</td>\n",
       "      <td>0</td>\n",
       "      <td>1</td>\n",
       "      <td>0</td>\n",
       "      <td>2</td>\n",
       "      <td>0</td>\n",
       "      <td>0</td>\n",
       "      <td>0</td>\n",
       "      <td>0</td>\n",
       "      <td>0</td>\n",
       "      <td>0</td>\n",
       "      <td>1</td>\n",
       "      <td>0</td>\n",
       "      <td>0</td>\n",
       "    </tr>\n",
       "    <tr>\n",
       "      <th>3</th>\n",
       "      <td>0.72</td>\n",
       "      <td>0.87</td>\n",
       "      <td>5</td>\n",
       "      <td>223</td>\n",
       "      <td>5</td>\n",
       "      <td>0</td>\n",
       "      <td>1</td>\n",
       "      <td>0</td>\n",
       "      <td>1</td>\n",
       "      <td>0</td>\n",
       "      <td>0</td>\n",
       "      <td>0</td>\n",
       "      <td>0</td>\n",
       "      <td>0</td>\n",
       "      <td>0</td>\n",
       "      <td>1</td>\n",
       "      <td>0</td>\n",
       "      <td>0</td>\n",
       "    </tr>\n",
       "    <tr>\n",
       "      <th>4</th>\n",
       "      <td>0.37</td>\n",
       "      <td>0.52</td>\n",
       "      <td>2</td>\n",
       "      <td>159</td>\n",
       "      <td>3</td>\n",
       "      <td>0</td>\n",
       "      <td>1</td>\n",
       "      <td>0</td>\n",
       "      <td>1</td>\n",
       "      <td>0</td>\n",
       "      <td>0</td>\n",
       "      <td>0</td>\n",
       "      <td>0</td>\n",
       "      <td>0</td>\n",
       "      <td>0</td>\n",
       "      <td>1</td>\n",
       "      <td>0</td>\n",
       "      <td>0</td>\n",
       "    </tr>\n",
       "  </tbody>\n",
       "</table>\n",
       "</div>"
      ],
      "text/plain": [
       "   satisfaction_level  last_evaluation  number_project  average_montly_hours  \\\n",
       "0                0.38             0.53               2                   157   \n",
       "1                0.80             0.86               5                   262   \n",
       "2                0.11             0.88               7                   272   \n",
       "3                0.72             0.87               5                   223   \n",
       "4                0.37             0.52               2                   159   \n",
       "\n",
       "   time_spend_company  Work_accident  left  promotion_last_5years  salary  \\\n",
       "0                   3              0     1                      0       1   \n",
       "1                   6              0     1                      0       2   \n",
       "2                   4              0     1                      0       2   \n",
       "3                   5              0     1                      0       1   \n",
       "4                   3              0     1                      0       1   \n",
       "\n",
       "   Departments_RandD  Departments_accounting  Departments_hr  \\\n",
       "0                  0                       0               0   \n",
       "1                  0                       0               0   \n",
       "2                  0                       0               0   \n",
       "3                  0                       0               0   \n",
       "4                  0                       0               0   \n",
       "\n",
       "   Departments_management  Departments_marketing  Departments_product_mng  \\\n",
       "0                       0                      0                        0   \n",
       "1                       0                      0                        0   \n",
       "2                       0                      0                        0   \n",
       "3                       0                      0                        0   \n",
       "4                       0                      0                        0   \n",
       "\n",
       "   Departments_sales  Departments_support  Departments_technical  \n",
       "0                  1                    0                      0  \n",
       "1                  1                    0                      0  \n",
       "2                  1                    0                      0  \n",
       "3                  1                    0                      0  \n",
       "4                  1                    0                      0  "
      ]
     },
     "execution_count": 38,
     "metadata": {},
     "output_type": "execute_result"
    }
   ],
   "source": [
    "df.head()"
   ]
  },
  {
   "cell_type": "code",
   "execution_count": null,
   "metadata": {},
   "outputs": [],
   "source": []
  },
  {
   "cell_type": "code",
   "execution_count": null,
   "metadata": {},
   "outputs": [],
   "source": []
  },
  {
   "cell_type": "markdown",
   "metadata": {
    "id": "c1Gp2f7q2snF"
   },
   "source": [
    "## 4. Cluster Analysis\n",
    "\n",
    "- Cluster analysis or clustering is the task of grouping a set of objects in such a way that objects in the same group (called a cluster) are more similar (in some sense) to each other than to those in other groups (clusters). It is a main task of exploratory data mining, and a common technique for statistical data analysis, used in many fields, including pattern recognition, image analysis, information retrieval, bioinformatics, data compression, computer graphics and machine learning.\n",
    "\n",
    "    [Cluster Analysis](https://en.wikipedia.org/wiki/Cluster_analysis)\n",
    "\n",
    "    [Cluster Analysis2](https://realpython.com/k-means-clustering-python/)"
   ]
  },
  {
   "cell_type": "markdown",
   "metadata": {
    "id": "TWQx_bhw2snG"
   },
   "source": [
    "#### The Elbow Method\n",
    "\n",
    "- \"Elbow Method\" can be used to find the optimum number of clusters in cluster analysis. The elbow method is used to determine the optimal number of clusters in k-means clustering. The elbow method plots the value of the cost function produced by different values of k. If k increases, average distortion will decrease, each cluster will have fewer constituent instances, and the instances will be closer to their respective centroids. However, the improvements in average distortion will decline as k increases. The value of k at which improvement in distortion declines the most is called the elbow, at which we should stop dividing the data into further clusters.\n",
    "\n",
    "    [The Elbow Method](https://en.wikipedia.org/wiki/Elbow_method_(clustering)\n",
    "\n",
    "    [The Elbow Method2](https://medium.com/@mudgalvivek2911/machine-learning-clustering-elbow-method-4e8c2b404a5d)\n",
    "\n",
    "    [KMeans](https://towardsdatascience.com/understanding-k-means-clustering-in-machine-learning-6a6e67336aa1)\n",
    "\n",
    "Let's find out the groups of employees who left. You can observe that the most important factor for any employee to stay or leave is satisfaction and performance in the company. So let's bunch them in the group of people using cluster analysis."
   ]
  },
  {
   "cell_type": "code",
   "execution_count": 39,
   "metadata": {
    "id": "jMLD4mr32snH"
   },
   "outputs": [],
   "source": [
    "from sklearn.preprocessing import MinMaxScaler"
   ]
  },
  {
   "cell_type": "code",
   "execution_count": 40,
   "metadata": {},
   "outputs": [],
   "source": [
    "# After splitting\n",
    "from sklearn.model_selection import train_test_split"
   ]
  },
  {
   "cell_type": "code",
   "execution_count": 41,
   "metadata": {},
   "outputs": [],
   "source": [
    "X = df.drop('left', axis = 1)\n",
    "y = df.left"
   ]
  },
  {
   "cell_type": "code",
   "execution_count": null,
   "metadata": {},
   "outputs": [],
   "source": []
  },
  {
   "cell_type": "markdown",
   "metadata": {
    "id": "WpmbaABr2snN"
   },
   "source": [
    "## 5. Model Building"
   ]
  },
  {
   "cell_type": "markdown",
   "metadata": {
    "id": "pYsKmaZd2snO"
   },
   "source": [
    "### Split Data as Train and Test Set"
   ]
  },
  {
   "cell_type": "markdown",
   "metadata": {
    "id": "I6b_dTvA2snQ"
   },
   "source": [
    "Here, Dataset is broken into two parts in ratio of 70:30. It means 70% data will used for model training and 30% for model testing."
   ]
  },
  {
   "cell_type": "code",
   "execution_count": 42,
   "metadata": {
    "id": "S15Bpefl2snS"
   },
   "outputs": [],
   "source": [
    "X_train, X_test, y_train, y_test = train_test_split(X, y, test_size=0.3, stratify=y, random_state=42)"
   ]
  },
  {
   "cell_type": "code",
   "execution_count": 43,
   "metadata": {},
   "outputs": [],
   "source": [
    "scaler = MinMaxScaler()"
   ]
  },
  {
   "cell_type": "code",
   "execution_count": 44,
   "metadata": {},
   "outputs": [],
   "source": [
    "X_train_scaled = scaler.fit_transform(X_train)\n",
    "X_test_scaled = scaler.transform(X_test)"
   ]
  },
  {
   "cell_type": "markdown",
   "metadata": {
    "id": "Y4d55Vek2snX"
   },
   "source": [
    "### #Gradient Boosting Classifier"
   ]
  },
  {
   "cell_type": "markdown",
   "metadata": {
    "id": "L8OkbOrC2snY"
   },
   "source": [
    "#### Model Building"
   ]
  },
  {
   "cell_type": "code",
   "execution_count": 45,
   "metadata": {
    "id": "MefRCx542snY"
   },
   "outputs": [],
   "source": [
    "from sklearn.ensemble import AdaBoostClassifier\n",
    "from sklearn.metrics import confusion_matrix, classification_report, accuracy_score, recall_score, precision_score, f1_score, roc_auc_score\n",
    "from sklearn.model_selection import cross_val_score, cross_validate"
   ]
  },
  {
   "cell_type": "code",
   "execution_count": 46,
   "metadata": {},
   "outputs": [],
   "source": [
    "def eval_metric(model, X_train, y_train, X_test, y_test):\n",
    "    y_train_pred = model.predict(X_train)\n",
    "    y_pred = model.predict(X_test)\n",
    "    \n",
    "    print(\"Test_Set\")\n",
    "    print(confusion_matrix(y_test, y_pred))\n",
    "    print(classification_report(y_test, y_pred))\n",
    "    print()\n",
    "    print(\"Train_Set\")\n",
    "    print(confusion_matrix(y_train, y_train_pred))\n",
    "    print(classification_report(y_train, y_train_pred))"
   ]
  },
  {
   "cell_type": "code",
   "execution_count": 47,
   "metadata": {},
   "outputs": [],
   "source": [
    "ada_model = AdaBoostClassifier(n_estimators=50, random_state=42)"
   ]
  },
  {
   "cell_type": "code",
   "execution_count": 48,
   "metadata": {},
   "outputs": [
    {
     "data": {
      "text/plain": [
       "AdaBoostClassifier(random_state=42)"
      ]
     },
     "execution_count": 48,
     "metadata": {},
     "output_type": "execute_result"
    }
   ],
   "source": [
    "ada_model.fit(X_train,y_train)"
   ]
  },
  {
   "cell_type": "code",
   "execution_count": 49,
   "metadata": {},
   "outputs": [
    {
     "name": "stdout",
     "output_type": "stream",
     "text": [
      "Test_Set\n",
      "[[3333   96]\n",
      " [  91  980]]\n",
      "              precision    recall  f1-score   support\n",
      "\n",
      "           0       0.97      0.97      0.97      3429\n",
      "           1       0.91      0.92      0.91      1071\n",
      "\n",
      "    accuracy                           0.96      4500\n",
      "   macro avg       0.94      0.94      0.94      4500\n",
      "weighted avg       0.96      0.96      0.96      4500\n",
      "\n",
      "\n",
      "Train_Set\n",
      "[[7802  197]\n",
      " [ 218 2282]]\n",
      "              precision    recall  f1-score   support\n",
      "\n",
      "           0       0.97      0.98      0.97      7999\n",
      "           1       0.92      0.91      0.92      2500\n",
      "\n",
      "    accuracy                           0.96     10499\n",
      "   macro avg       0.95      0.94      0.95     10499\n",
      "weighted avg       0.96      0.96      0.96     10499\n",
      "\n"
     ]
    }
   ],
   "source": [
    "eval_metric(ada_model, X_train, y_train, X_test, y_test)"
   ]
  },
  {
   "cell_type": "code",
   "execution_count": 50,
   "metadata": {},
   "outputs": [
    {
     "data": {
      "text/plain": [
       "test_accuracy     0.958853\n",
       "test_precision    0.919005\n",
       "test_recall       0.907600\n",
       "test_f1           0.913024\n",
       "dtype: float64"
      ]
     },
     "execution_count": 50,
     "metadata": {},
     "output_type": "execute_result"
    }
   ],
   "source": [
    "from sklearn.model_selection import cross_val_score, cross_validate\n",
    "\n",
    "model = AdaBoostClassifier(n_estimators=50, random_state=101)\n",
    "\n",
    "scores = cross_validate(model, X_train, y_train, scoring = [\"accuracy\", \"precision\", \"recall\", \"f1\"], cv = 10)\n",
    "df_scores = pd.DataFrame(scores, index = range(1, 11))\n",
    "df_scores.mean()[2:]"
   ]
  },
  {
   "cell_type": "code",
   "execution_count": 51,
   "metadata": {},
   "outputs": [
    {
     "data": {
      "text/html": [
       "<div>\n",
       "<style scoped>\n",
       "    .dataframe tbody tr th:only-of-type {\n",
       "        vertical-align: middle;\n",
       "    }\n",
       "\n",
       "    .dataframe tbody tr th {\n",
       "        vertical-align: top;\n",
       "    }\n",
       "\n",
       "    .dataframe thead th {\n",
       "        text-align: right;\n",
       "    }\n",
       "</style>\n",
       "<table border=\"1\" class=\"dataframe\">\n",
       "  <thead>\n",
       "    <tr style=\"text-align: right;\">\n",
       "      <th></th>\n",
       "      <th>fit_time</th>\n",
       "      <th>score_time</th>\n",
       "      <th>test_accuracy</th>\n",
       "      <th>test_precision</th>\n",
       "      <th>test_recall</th>\n",
       "      <th>test_f1</th>\n",
       "    </tr>\n",
       "  </thead>\n",
       "  <tbody>\n",
       "    <tr>\n",
       "      <th>1</th>\n",
       "      <td>0.150239</td>\n",
       "      <td>0.005817</td>\n",
       "      <td>0.960000</td>\n",
       "      <td>0.903101</td>\n",
       "      <td>0.932</td>\n",
       "      <td>0.917323</td>\n",
       "    </tr>\n",
       "    <tr>\n",
       "      <th>2</th>\n",
       "      <td>0.146367</td>\n",
       "      <td>0.005956</td>\n",
       "      <td>0.962857</td>\n",
       "      <td>0.923695</td>\n",
       "      <td>0.920</td>\n",
       "      <td>0.921844</td>\n",
       "    </tr>\n",
       "    <tr>\n",
       "      <th>3</th>\n",
       "      <td>0.147990</td>\n",
       "      <td>0.005601</td>\n",
       "      <td>0.961905</td>\n",
       "      <td>0.920000</td>\n",
       "      <td>0.920</td>\n",
       "      <td>0.920000</td>\n",
       "    </tr>\n",
       "    <tr>\n",
       "      <th>4</th>\n",
       "      <td>0.148287</td>\n",
       "      <td>0.005552</td>\n",
       "      <td>0.963810</td>\n",
       "      <td>0.938017</td>\n",
       "      <td>0.908</td>\n",
       "      <td>0.922764</td>\n",
       "    </tr>\n",
       "    <tr>\n",
       "      <th>5</th>\n",
       "      <td>0.148446</td>\n",
       "      <td>0.005580</td>\n",
       "      <td>0.963810</td>\n",
       "      <td>0.914062</td>\n",
       "      <td>0.936</td>\n",
       "      <td>0.924901</td>\n",
       "    </tr>\n",
       "    <tr>\n",
       "      <th>6</th>\n",
       "      <td>0.147880</td>\n",
       "      <td>0.005556</td>\n",
       "      <td>0.950476</td>\n",
       "      <td>0.905738</td>\n",
       "      <td>0.884</td>\n",
       "      <td>0.894737</td>\n",
       "    </tr>\n",
       "    <tr>\n",
       "      <th>7</th>\n",
       "      <td>0.148543</td>\n",
       "      <td>0.005782</td>\n",
       "      <td>0.948571</td>\n",
       "      <td>0.895161</td>\n",
       "      <td>0.888</td>\n",
       "      <td>0.891566</td>\n",
       "    </tr>\n",
       "    <tr>\n",
       "      <th>8</th>\n",
       "      <td>0.145989</td>\n",
       "      <td>0.005991</td>\n",
       "      <td>0.960000</td>\n",
       "      <td>0.909449</td>\n",
       "      <td>0.924</td>\n",
       "      <td>0.916667</td>\n",
       "    </tr>\n",
       "    <tr>\n",
       "      <th>9</th>\n",
       "      <td>0.147794</td>\n",
       "      <td>0.005563</td>\n",
       "      <td>0.958095</td>\n",
       "      <td>0.932773</td>\n",
       "      <td>0.888</td>\n",
       "      <td>0.909836</td>\n",
       "    </tr>\n",
       "    <tr>\n",
       "      <th>10</th>\n",
       "      <td>0.147804</td>\n",
       "      <td>0.005560</td>\n",
       "      <td>0.959009</td>\n",
       "      <td>0.948052</td>\n",
       "      <td>0.876</td>\n",
       "      <td>0.910603</td>\n",
       "    </tr>\n",
       "  </tbody>\n",
       "</table>\n",
       "</div>"
      ],
      "text/plain": [
       "    fit_time  score_time  test_accuracy  test_precision  test_recall   test_f1\n",
       "1   0.150239    0.005817       0.960000        0.903101        0.932  0.917323\n",
       "2   0.146367    0.005956       0.962857        0.923695        0.920  0.921844\n",
       "3   0.147990    0.005601       0.961905        0.920000        0.920  0.920000\n",
       "4   0.148287    0.005552       0.963810        0.938017        0.908  0.922764\n",
       "5   0.148446    0.005580       0.963810        0.914062        0.936  0.924901\n",
       "6   0.147880    0.005556       0.950476        0.905738        0.884  0.894737\n",
       "7   0.148543    0.005782       0.948571        0.895161        0.888  0.891566\n",
       "8   0.145989    0.005991       0.960000        0.909449        0.924  0.916667\n",
       "9   0.147794    0.005563       0.958095        0.932773        0.888  0.909836\n",
       "10  0.147804    0.005560       0.959009        0.948052        0.876  0.910603"
      ]
     },
     "execution_count": 51,
     "metadata": {},
     "output_type": "execute_result"
    }
   ],
   "source": [
    "df_scores"
   ]
  },
  {
   "cell_type": "markdown",
   "metadata": {},
   "source": [
    "## Gradient Boosting"
   ]
  },
  {
   "cell_type": "code",
   "execution_count": 52,
   "metadata": {},
   "outputs": [],
   "source": [
    "from sklearn.ensemble import GradientBoostingClassifier"
   ]
  },
  {
   "cell_type": "code",
   "execution_count": 53,
   "metadata": {},
   "outputs": [],
   "source": [
    "grad_model = GradientBoostingClassifier(random_state=42)"
   ]
  },
  {
   "cell_type": "code",
   "execution_count": 54,
   "metadata": {},
   "outputs": [
    {
     "data": {
      "text/plain": [
       "GradientBoostingClassifier(random_state=42)"
      ]
     },
     "execution_count": 54,
     "metadata": {},
     "output_type": "execute_result"
    }
   ],
   "source": [
    "grad_model.fit(X_train, y_train)"
   ]
  },
  {
   "cell_type": "code",
   "execution_count": 55,
   "metadata": {},
   "outputs": [
    {
     "name": "stdout",
     "output_type": "stream",
     "text": [
      "Test_Set\n",
      "[[3380   49]\n",
      " [  68 1003]]\n",
      "              precision    recall  f1-score   support\n",
      "\n",
      "           0       0.98      0.99      0.98      3429\n",
      "           1       0.95      0.94      0.94      1071\n",
      "\n",
      "    accuracy                           0.97      4500\n",
      "   macro avg       0.97      0.96      0.96      4500\n",
      "weighted avg       0.97      0.97      0.97      4500\n",
      "\n",
      "\n",
      "Train_Set\n",
      "[[7934   65]\n",
      " [ 174 2326]]\n",
      "              precision    recall  f1-score   support\n",
      "\n",
      "           0       0.98      0.99      0.99      7999\n",
      "           1       0.97      0.93      0.95      2500\n",
      "\n",
      "    accuracy                           0.98     10499\n",
      "   macro avg       0.98      0.96      0.97     10499\n",
      "weighted avg       0.98      0.98      0.98     10499\n",
      "\n"
     ]
    }
   ],
   "source": [
    "eval_metric(grad_model, X_train, y_train, X_test, y_test)"
   ]
  },
  {
   "cell_type": "code",
   "execution_count": 56,
   "metadata": {},
   "outputs": [
    {
     "data": {
      "text/plain": [
       "test_accuracy     0.976093\n",
       "test_precision    0.968837\n",
       "test_recall       0.929600\n",
       "test_f1           0.948708\n",
       "test_roc_auc      0.988052\n",
       "dtype: float64"
      ]
     },
     "execution_count": 56,
     "metadata": {},
     "output_type": "execute_result"
    }
   ],
   "source": [
    "model = GradientBoostingClassifier(random_state=1)\n",
    "\n",
    "scores = cross_validate(model, X_train, y_train, scoring = ['accuracy', 'precision','recall',\n",
    "                                                                   'f1', 'roc_auc'], cv = 10)\n",
    "df_scores = pd.DataFrame(scores, index = range(1, 11))\n",
    "df_scores.mean()[2:]"
   ]
  },
  {
   "cell_type": "code",
   "execution_count": 57,
   "metadata": {},
   "outputs": [],
   "source": [
    "from sklearn.metrics import precision_recall_curve, plot_precision_recall_curve, plot_roc_curve, roc_auc_score"
   ]
  },
  {
   "cell_type": "code",
   "execution_count": 58,
   "metadata": {},
   "outputs": [
    {
     "data": {
      "image/png": "[encoded data removed]",
      "text/plain": [
       "<Figure size 720x432 with 1 Axes>"
      ]
     },
     "metadata": {
      "needs_background": "light"
     },
     "output_type": "display_data"
    }
   ],
   "source": [
    "plot_roc_curve(grad_model, X_test, y_test);"
   ]
  },
  {
   "cell_type": "markdown",
   "metadata": {
    "id": "VAiUMdtI2snk"
   },
   "source": [
    "#### Evaluating Model Performance"
   ]
  },
  {
   "cell_type": "markdown",
   "metadata": {
    "id": "92xg3rvR2snl"
   },
   "source": [
    "- Confusion Matrix : You can use scikit-learn metrics module for accuracy calculation. A Confusion matrix is an N x N matrix used for evaluating the performance of a classification model, where N is the number of target classes. The matrix compares the actual target values with those predicted by the machine learning model. This gives us a holistic view of how well our classification model is performing and what kinds of errors it is making.\n",
    "\n",
    "    [Confusion Matrix](https://www.analyticsvidhya.com/blog/2020/04/confusion-matrix-machine-learning/)"
   ]
  },
  {
   "cell_type": "markdown",
   "metadata": {
    "id": "S9VeChm62snm"
   },
   "source": [
    "- Yellowbrick: Yellowbrick is a suite of visualization and diagnostic tools that will enable quicker model selection. It’s a Python package that combines scikit-learn and matplotlib. Some of the more popular visualization tools include model selection, feature visualization, classification and regression visualization\n",
    "\n",
    "    [Yellowbrick](https://www.analyticsvidhya.com/blog/2018/05/yellowbrick-a-set-of-visualization-tools-to-accelerate-your-model-selection-process/)"
   ]
  },
  {
   "cell_type": "code",
   "execution_count": 59,
   "metadata": {
    "id": "ber3WeUk2snn",
    "jupyter": {
     "outputs_hidden": true
    },
    "outputId": "c634b756-d466-4a59-b083-468a5ce04495"
   },
   "outputs": [
    {
     "name": "stdout",
     "output_type": "stream",
     "text": [
      "Requirement already satisfied: yellowbrick in /Users/hakantekin/miniforge3/envs/tensorflow/lib/python3.9/site-packages (1.3.post1)\n",
      "Requirement already satisfied: scipy>=1.0.0 in /Users/hakantekin/miniforge3/envs/tensorflow/lib/python3.9/site-packages (from yellowbrick) (1.7.1)\n",
      "Requirement already satisfied: cycler>=0.10.0 in /Users/hakantekin/miniforge3/envs/tensorflow/lib/python3.9/site-packages (from yellowbrick) (0.11.0)\n",
      "Requirement already satisfied: matplotlib!=3.0.0,>=2.0.2 in /Users/hakantekin/miniforge3/envs/tensorflow/lib/python3.9/site-packages (from yellowbrick) (3.5.0)\n",
      "Requirement already satisfied: scikit-learn>=0.20 in /Users/hakantekin/miniforge3/envs/tensorflow/lib/python3.9/site-packages (from yellowbrick) (1.0.1)\n",
      "Collecting numpy<1.20,>=1.16.0\n",
      "  Using cached numpy-1.19.5.zip (7.3 MB)\n",
      "  Installing build dependencies ... \u001b[?25ldone\n",
      "\u001b[?25h  Getting requirements to build wheel ... \u001b[?25ldone\n",
      "\u001b[?25h    Preparing wheel metadata ... \u001b[?25ldone\n",
      "\u001b[?25hRequirement already satisfied: pillow>=6.2.0 in /Users/hakantekin/miniforge3/envs/tensorflow/lib/python3.9/site-packages (from matplotlib!=3.0.0,>=2.0.2->yellowbrick) (8.3.1)\n",
      "Requirement already satisfied: python-dateutil>=2.7 in /Users/hakantekin/miniforge3/envs/tensorflow/lib/python3.9/site-packages (from matplotlib!=3.0.0,>=2.0.2->yellowbrick) (2.8.2)\n",
      "Requirement already satisfied: kiwisolver>=1.0.1 in /Users/hakantekin/miniforge3/envs/tensorflow/lib/python3.9/site-packages (from matplotlib!=3.0.0,>=2.0.2->yellowbrick) (1.3.1)\n",
      "Requirement already satisfied: fonttools>=4.22.0 in /Users/hakantekin/miniforge3/envs/tensorflow/lib/python3.9/site-packages (from matplotlib!=3.0.0,>=2.0.2->yellowbrick) (4.25.0)\n",
      "Requirement already satisfied: pyparsing>=2.2.1 in /Users/hakantekin/miniforge3/envs/tensorflow/lib/python3.9/site-packages (from matplotlib!=3.0.0,>=2.0.2->yellowbrick) (3.0.4)\n",
      "Requirement already satisfied: packaging>=20.0 in /Users/hakantekin/miniforge3/envs/tensorflow/lib/python3.9/site-packages (from matplotlib!=3.0.0,>=2.0.2->yellowbrick) (21.3)\n",
      "Requirement already satisfied: six>=1.5 in /Users/hakantekin/miniforge3/envs/tensorflow/lib/python3.9/site-packages (from python-dateutil>=2.7->matplotlib!=3.0.0,>=2.0.2->yellowbrick) (1.15.0)\n",
      "Requirement already satisfied: threadpoolctl>=2.0.0 in /Users/hakantekin/miniforge3/envs/tensorflow/lib/python3.9/site-packages (from scikit-learn>=0.20->yellowbrick) (2.2.0)\n",
      "Requirement already satisfied: joblib>=0.11 in /Users/hakantekin/miniforge3/envs/tensorflow/lib/python3.9/site-packages (from scikit-learn>=0.20->yellowbrick) (1.1.0)\n",
      "Building wheels for collected packages: numpy\n",
      "  Building wheel for numpy (PEP 517) ... \u001b[?25lerror\n",
      "\u001b[31m  ERROR: Command errored out with exit status 1:\n",
      "   command: /Users/hakantekin/miniforge3/envs/tensorflow/bin/python /Users/hakantekin/miniforge3/envs/tensorflow/lib/python3.9/site-packages/pip/_vendor/pep517/in_process/_in_process.py build_wheel /var/folders/wm/23q62kgs7jqfybsny7mmxjb40000gn/T/tmprch7igro\n",
      "       cwd: /private/var/folders/wm/23q62kgs7jqfybsny7mmxjb40000gn/T/pip-install-z1jabao4/numpy_363dcf6fca134c839ff9f6bca2e8c43d\n",
      "  Complete output (564 lines):\n",
      "  Running from numpy source directory.\n",
      "  numpy/random/_bounded_integers.pxd.in has not changed\n",
      "  numpy/random/_philox.pyx has not changed\n",
      "  numpy/random/_bounded_integers.pyx.in has not changed\n",
      "  numpy/random/_sfc64.pyx has not changed\n",
      "  numpy/random/_mt19937.pyx has not changed\n",
      "  numpy/random/bit_generator.pyx has not changed\n",
      "  Processing numpy/random/_bounded_integers.pyx\n",
      "  numpy/random/mtrand.pyx has not changed\n",
      "  numpy/random/_generator.pyx has not changed\n",
      "  numpy/random/_pcg64.pyx has not changed\n",
      "  numpy/random/_common.pyx has not changed\n",
      "  Cythonizing sources\n",
      "  blas_opt_info:\n",
      "  blas_mkl_info:\n",
      "  customize UnixCCompiler\n",
      "    libraries mkl_rt not found in ['/Users/hakantekin/miniforge3/envs/tensorflow/lib', '/usr/local/lib', '/usr/lib']\n",
      "    NOT AVAILABLE\n",
      "  \n",
      "  blis_info:\n",
      "    libraries blis not found in ['/Users/hakantekin/miniforge3/envs/tensorflow/lib', '/usr/local/lib', '/usr/lib']\n",
      "    NOT AVAILABLE\n",
      "  \n",
      "  openblas_info:\n",
      "  C compiler: clang -Wno-unused-result -Wsign-compare -Wunreachable-code -DNDEBUG -fwrapv -O2 -Wall -fPIC -O2 -isystem /Users/hakantekin/miniforge3/envs/tensorflow/include -arch arm64 -I/Users/hakantekin/miniforge3/envs/tensorflow/include -fPIC -O2 -isystem /Users/hakantekin/miniforge3/envs/tensorflow/include -arch arm64\n",
      "  \n",
      "  creating /var/folders/wm/23q62kgs7jqfybsny7mmxjb40000gn/T/tmpohmgmto7/var\n",
      "  creating /var/folders/wm/23q62kgs7jqfybsny7mmxjb40000gn/T/tmpohmgmto7/var/folders\n",
      "  creating /var/folders/wm/23q62kgs7jqfybsny7mmxjb40000gn/T/tmpohmgmto7/var/folders/wm\n",
      "  creating /var/folders/wm/23q62kgs7jqfybsny7mmxjb40000gn/T/tmpohmgmto7/var/folders/wm/23q62kgs7jqfybsny7mmxjb40000gn\n",
      "  creating /var/folders/wm/23q62kgs7jqfybsny7mmxjb40000gn/T/tmpohmgmto7/var/folders/wm/23q62kgs7jqfybsny7mmxjb40000gn/T\n",
      "  creating /var/folders/wm/23q62kgs7jqfybsny7mmxjb40000gn/T/tmpohmgmto7/var/folders/wm/23q62kgs7jqfybsny7mmxjb40000gn/T/tmpohmgmto7\n",
      "  compile options: '-c'\n",
      "  clang: /var/folders/wm/23q62kgs7jqfybsny7mmxjb40000gn/T/tmpohmgmto7/source.c\n",
      "  clang -arch arm64 /var/folders/wm/23q62kgs7jqfybsny7mmxjb40000gn/T/tmpohmgmto7/var/folders/wm/23q62kgs7jqfybsny7mmxjb40000gn/T/tmpohmgmto7/source.o -L/Users/hakantekin/miniforge3/envs/tensorflow/lib -lopenblas -o /var/folders/wm/23q62kgs7jqfybsny7mmxjb40000gn/T/tmpohmgmto7/a.out\n",
      "    FOUND:\n",
      "      libraries = ['openblas', 'openblas']\n",
      "      library_dirs = ['/Users/hakantekin/miniforge3/envs/tensorflow/lib']\n",
      "      language = c\n",
      "      define_macros = [('HAVE_CBLAS', None)]\n",
      "  \n",
      "    FOUND:\n",
      "      libraries = ['openblas', 'openblas']\n",
      "      library_dirs = ['/Users/hakantekin/miniforge3/envs/tensorflow/lib']\n",
      "      language = c\n",
      "      define_macros = [('HAVE_CBLAS', None)]\n",
      "  \n",
      "  non-existing path in 'numpy/distutils': 'site.cfg'\n",
      "  lapack_opt_info:\n",
      "  lapack_mkl_info:\n",
      "    libraries mkl_rt not found in ['/Users/hakantekin/miniforge3/envs/tensorflow/lib', '/usr/local/lib', '/usr/lib']\n",
      "    NOT AVAILABLE\n",
      "  \n",
      "  openblas_lapack_info:\n",
      "  C compiler: clang -Wno-unused-result -Wsign-compare -Wunreachable-code -DNDEBUG -fwrapv -O2 -Wall -fPIC -O2 -isystem /Users/hakantekin/miniforge3/envs/tensorflow/include -arch arm64 -I/Users/hakantekin/miniforge3/envs/tensorflow/include -fPIC -O2 -isystem /Users/hakantekin/miniforge3/envs/tensorflow/include -arch arm64\n",
      "  \n",
      "  creating /var/folders/wm/23q62kgs7jqfybsny7mmxjb40000gn/T/tmpsngkmxf4/var\n",
      "  creating /var/folders/wm/23q62kgs7jqfybsny7mmxjb40000gn/T/tmpsngkmxf4/var/folders\n",
      "  creating /var/folders/wm/23q62kgs7jqfybsny7mmxjb40000gn/T/tmpsngkmxf4/var/folders/wm\n",
      "  creating /var/folders/wm/23q62kgs7jqfybsny7mmxjb40000gn/T/tmpsngkmxf4/var/folders/wm/23q62kgs7jqfybsny7mmxjb40000gn\n",
      "  creating /var/folders/wm/23q62kgs7jqfybsny7mmxjb40000gn/T/tmpsngkmxf4/var/folders/wm/23q62kgs7jqfybsny7mmxjb40000gn/T\n",
      "  creating /var/folders/wm/23q62kgs7jqfybsny7mmxjb40000gn/T/tmpsngkmxf4/var/folders/wm/23q62kgs7jqfybsny7mmxjb40000gn/T/tmpsngkmxf4\n",
      "  compile options: '-c'\n",
      "  clang: /var/folders/wm/23q62kgs7jqfybsny7mmxjb40000gn/T/tmpsngkmxf4/source.c\n",
      "  clang -arch arm64 /var/folders/wm/23q62kgs7jqfybsny7mmxjb40000gn/T/tmpsngkmxf4/var/folders/wm/23q62kgs7jqfybsny7mmxjb40000gn/T/tmpsngkmxf4/source.o -L/Users/hakantekin/miniforge3/envs/tensorflow/lib -lopenblas -o /var/folders/wm/23q62kgs7jqfybsny7mmxjb40000gn/T/tmpsngkmxf4/a.out\n",
      "    FOUND:\n",
      "      libraries = ['openblas', 'openblas']\n",
      "      library_dirs = ['/Users/hakantekin/miniforge3/envs/tensorflow/lib']\n",
      "      language = c\n",
      "      define_macros = [('HAVE_CBLAS', None)]\n",
      "  \n",
      "    FOUND:\n",
      "      libraries = ['openblas', 'openblas']\n",
      "      library_dirs = ['/Users/hakantekin/miniforge3/envs/tensorflow/lib']\n",
      "      language = c\n",
      "      define_macros = [('HAVE_CBLAS', None)]\n",
      "  \n",
      "  /Users/hakantekin/miniforge3/envs/tensorflow/lib/python3.9/distutils/dist.py:274: UserWarning: Unknown distribution option: 'define_macros'\n",
      "    warnings.warn(msg)\n",
      "  running bdist_wheel\n",
      "  running build\n",
      "  running config_cc\n",
      "  unifing config_cc, config, build_clib, build_ext, build commands --compiler options\n",
      "  running config_fc\n",
      "  unifing config_fc, config, build_clib, build_ext, build commands --fcompiler options\n",
      "  running build_src\n",
      "  build_src\n",
      "  building py_modules sources\n",
      "  building library \"npymath\" sources\n",
      "  Could not locate executable gfortran\n",
      "  Could not locate executable f95\n",
      "  Could not locate executable f90\n",
      "  Could not locate executable f77\n",
      "  Could not locate executable xlf90\n",
      "  Could not locate executable xlf\n",
      "  Could not locate executable ifort\n",
      "  Could not locate executable ifc\n",
      "  Could not locate executable g77\n",
      "  Could not locate executable g95\n",
      "  Could not locate executable pgfortran\n",
      "  don't know how to compile Fortran code on platform 'posix'\n",
      "    adding 'build/src.macosx-11.1-arm64-3.9/numpy/core/src/npymath' to include_dirs.\n",
      "  None - nothing done with h_files = ['build/src.macosx-11.1-arm64-3.9/numpy/core/src/npymath/npy_math_internal.h']\n",
      "  building library \"npysort\" sources\n",
      "    adding 'build/src.macosx-11.1-arm64-3.9/numpy/core/src/common' to include_dirs.\n",
      "  None - nothing done with h_files = ['build/src.macosx-11.1-arm64-3.9/numpy/core/src/common/npy_sort.h', 'build/src.macosx-11.1-arm64-3.9/numpy/core/src/common/npy_partition.h', 'build/src.macosx-11.1-arm64-3.9/numpy/core/src/common/npy_binsearch.h']\n",
      "  building library \"npyrandom\" sources\n",
      "  building extension \"numpy.core._multiarray_tests\" sources\n",
      "  building extension \"numpy.core._multiarray_umath\" sources\n",
      "    adding 'build/src.macosx-11.1-arm64-3.9/numpy/core/src/umath' to include_dirs.\n",
      "    adding 'build/src.macosx-11.1-arm64-3.9/numpy/core/src/npymath' to include_dirs.\n",
      "    adding 'build/src.macosx-11.1-arm64-3.9/numpy/core/src/common' to include_dirs.\n",
      "  numpy.core - nothing done with h_files = ['build/src.macosx-11.1-arm64-3.9/numpy/core/src/umath/funcs.inc', 'build/src.macosx-11.1-arm64-3.9/numpy/core/src/umath/simd.inc', 'build/src.macosx-11.1-arm64-3.9/numpy/core/src/umath/loops.h', 'build/src.macosx-11.1-arm64-3.9/numpy/core/src/umath/matmul.h', 'build/src.macosx-11.1-arm64-3.9/numpy/core/src/umath/clip.h', 'build/src.macosx-11.1-arm64-3.9/numpy/core/src/npymath/npy_math_internal.h', 'build/src.macosx-11.1-arm64-3.9/numpy/core/src/common/templ_common.h', 'build/src.macosx-11.1-arm64-3.9/numpy/core/include/numpy/config.h', 'build/src.macosx-11.1-arm64-3.9/numpy/core/include/numpy/_numpyconfig.h', 'build/src.macosx-11.1-arm64-3.9/numpy/core/include/numpy/__multiarray_api.h', 'build/src.macosx-11.1-arm64-3.9/numpy/core/include/numpy/__ufunc_api.h']\n",
      "  building extension \"numpy.core._umath_tests\" sources\n",
      "  building extension \"numpy.core._rational_tests\" sources\n",
      "  building extension \"numpy.core._struct_ufunc_tests\" sources\n",
      "  building extension \"numpy.core._operand_flag_tests\" sources\n",
      "  building extension \"numpy.fft._pocketfft_internal\" sources\n",
      "  building extension \"numpy.linalg.lapack_lite\" sources\n",
      "  building extension \"numpy.linalg._umath_linalg\" sources\n",
      "  building extension \"numpy.random._mt19937\" sources\n",
      "  building extension \"numpy.random._philox\" sources\n",
      "  building extension \"numpy.random._pcg64\" sources\n",
      "  building extension \"numpy.random._sfc64\" sources\n",
      "  building extension \"numpy.random._common\" sources\n",
      "  building extension \"numpy.random.bit_generator\" sources\n",
      "  building extension \"numpy.random._generator\" sources\n",
      "  building extension \"numpy.random._bounded_integers\" sources\n",
      "  building extension \"numpy.random.mtrand\" sources\n",
      "  building data_files sources\n",
      "  build_src: building npy-pkg config files\n",
      "  running build_py\n",
      "  creating build/lib.macosx-11.1-arm64-3.9\n",
      "  creating build/lib.macosx-11.1-arm64-3.9/numpy\n",
      "  copying numpy/conftest.py -> build/lib.macosx-11.1-arm64-3.9/numpy\n",
      "  copying numpy/version.py -> build/lib.macosx-11.1-arm64-3.9/numpy\n",
      "  copying numpy/_globals.py -> build/lib.macosx-11.1-arm64-3.9/numpy\n",
      "  copying numpy/__init__.py -> build/lib.macosx-11.1-arm64-3.9/numpy\n",
      "  copying numpy/dual.py -> build/lib.macosx-11.1-arm64-3.9/numpy\n",
      "  copying numpy/_distributor_init.py -> build/lib.macosx-11.1-arm64-3.9/numpy\n",
      "  copying numpy/setup.py -> build/lib.macosx-11.1-arm64-3.9/numpy\n",
      "  copying numpy/ctypeslib.py -> build/lib.macosx-11.1-arm64-3.9/numpy\n",
      "  copying numpy/matlib.py -> build/lib.macosx-11.1-arm64-3.9/numpy\n",
      "  copying numpy/_pytesttester.py -> build/lib.macosx-11.1-arm64-3.9/numpy\n",
      "  copying build/src.macosx-11.1-arm64-3.9/numpy/__config__.py -> build/lib.macosx-11.1-arm64-3.9/numpy\n",
      "  creating build/lib.macosx-11.1-arm64-3.9/numpy/compat\n",
      "  copying numpy/compat/py3k.py -> build/lib.macosx-11.1-arm64-3.9/numpy/compat\n",
      "  copying numpy/compat/__init__.py -> build/lib.macosx-11.1-arm64-3.9/numpy/compat\n",
      "  copying numpy/compat/setup.py -> build/lib.macosx-11.1-arm64-3.9/numpy/compat\n",
      "  copying numpy/compat/_inspect.py -> build/lib.macosx-11.1-arm64-3.9/numpy/compat\n",
      "  creating build/lib.macosx-11.1-arm64-3.9/numpy/compat/tests\n",
      "  copying numpy/compat/tests/__init__.py -> build/lib.macosx-11.1-arm64-3.9/numpy/compat/tests\n",
      "  copying numpy/compat/tests/test_compat.py -> build/lib.macosx-11.1-arm64-3.9/numpy/compat/tests\n",
      "  creating build/lib.macosx-11.1-arm64-3.9/numpy/core\n",
      "  copying numpy/core/umath.py -> build/lib.macosx-11.1-arm64-3.9/numpy/core\n",
      "  copying numpy/core/fromnumeric.py -> build/lib.macosx-11.1-arm64-3.9/numpy/core\n",
      "  copying numpy/core/_dtype.py -> build/lib.macosx-11.1-arm64-3.9/numpy/core\n",
      "  copying numpy/core/_add_newdocs.py -> build/lib.macosx-11.1-arm64-3.9/numpy/core\n",
      "  copying numpy/core/_methods.py -> build/lib.macosx-11.1-arm64-3.9/numpy/core\n",
      "  copying numpy/core/_internal.py -> build/lib.macosx-11.1-arm64-3.9/numpy/core\n",
      "  copying numpy/core/_string_helpers.py -> build/lib.macosx-11.1-arm64-3.9/numpy/core\n",
      "  copying numpy/core/multiarray.py -> build/lib.macosx-11.1-arm64-3.9/numpy/core\n",
      "  copying numpy/core/_asarray.py -> build/lib.macosx-11.1-arm64-3.9/numpy/core\n",
      "  copying numpy/core/records.py -> build/lib.macosx-11.1-arm64-3.9/numpy/core\n",
      "  copying numpy/core/__init__.py -> build/lib.macosx-11.1-arm64-3.9/numpy/core\n",
      "  copying numpy/core/setup_common.py -> build/lib.macosx-11.1-arm64-3.9/numpy/core\n",
      "  copying numpy/core/memmap.py -> build/lib.macosx-11.1-arm64-3.9/numpy/core\n",
      "  copying numpy/core/overrides.py -> build/lib.macosx-11.1-arm64-3.9/numpy/core\n",
      "  copying numpy/core/getlimits.py -> build/lib.macosx-11.1-arm64-3.9/numpy/core\n",
      "  copying numpy/core/_dtype_ctypes.py -> build/lib.macosx-11.1-arm64-3.9/numpy/core\n",
      "  copying numpy/core/defchararray.py -> build/lib.macosx-11.1-arm64-3.9/numpy/core\n",
      "  copying numpy/core/shape_base.py -> build/lib.macosx-11.1-arm64-3.9/numpy/core\n",
      "  copying numpy/core/machar.py -> build/lib.macosx-11.1-arm64-3.9/numpy/core\n",
      "  copying numpy/core/setup.py -> build/lib.macosx-11.1-arm64-3.9/numpy/core\n",
      "  copying numpy/core/numeric.py -> build/lib.macosx-11.1-arm64-3.9/numpy/core\n",
      "  copying numpy/core/function_base.py -> build/lib.macosx-11.1-arm64-3.9/numpy/core\n",
      "  copying numpy/core/einsumfunc.py -> build/lib.macosx-11.1-arm64-3.9/numpy/core\n",
      "  copying numpy/core/umath_tests.py -> build/lib.macosx-11.1-arm64-3.9/numpy/core\n",
      "  copying numpy/core/_ufunc_config.py -> build/lib.macosx-11.1-arm64-3.9/numpy/core\n",
      "  copying numpy/core/_exceptions.py -> build/lib.macosx-11.1-arm64-3.9/numpy/core\n",
      "  copying numpy/core/numerictypes.py -> build/lib.macosx-11.1-arm64-3.9/numpy/core\n",
      "  copying numpy/core/_type_aliases.py -> build/lib.macosx-11.1-arm64-3.9/numpy/core\n",
      "  copying numpy/core/cversions.py -> build/lib.macosx-11.1-arm64-3.9/numpy/core\n",
      "  copying numpy/core/arrayprint.py -> build/lib.macosx-11.1-arm64-3.9/numpy/core\n",
      "  copying numpy/core/code_generators/generate_numpy_api.py -> build/lib.macosx-11.1-arm64-3.9/numpy/core\n",
      "  creating build/lib.macosx-11.1-arm64-3.9/numpy/core/tests\n",
      "  copying numpy/core/tests/test_numerictypes.py -> build/lib.macosx-11.1-arm64-3.9/numpy/core/tests\n",
      "  copying numpy/core/tests/test_scalar_methods.py -> build/lib.macosx-11.1-arm64-3.9/numpy/core/tests\n",
      "  copying numpy/core/tests/test_scalarmath.py -> build/lib.macosx-11.1-arm64-3.9/numpy/core/tests\n",
      "  copying numpy/core/tests/test_item_selection.py -> build/lib.macosx-11.1-arm64-3.9/numpy/core/tests\n",
      "  copying numpy/core/tests/test_machar.py -> build/lib.macosx-11.1-arm64-3.9/numpy/core/tests\n",
      "  copying numpy/core/tests/test_unicode.py -> build/lib.macosx-11.1-arm64-3.9/numpy/core/tests\n",
      "  copying numpy/core/tests/test_arrayprint.py -> build/lib.macosx-11.1-arm64-3.9/numpy/core/tests\n",
      "  copying numpy/core/tests/test_scalarbuffer.py -> build/lib.macosx-11.1-arm64-3.9/numpy/core/tests\n",
      "  copying numpy/core/tests/test_indexerrors.py -> build/lib.macosx-11.1-arm64-3.9/numpy/core/tests\n",
      "  copying numpy/core/tests/test_print.py -> build/lib.macosx-11.1-arm64-3.9/numpy/core/tests\n",
      "  copying numpy/core/tests/test_half.py -> build/lib.macosx-11.1-arm64-3.9/numpy/core/tests\n",
      "  copying numpy/core/tests/test_mem_overlap.py -> build/lib.macosx-11.1-arm64-3.9/numpy/core/tests\n",
      "  copying numpy/core/tests/test_shape_base.py -> build/lib.macosx-11.1-arm64-3.9/numpy/core/tests\n",
      "  copying numpy/core/tests/test_deprecations.py -> build/lib.macosx-11.1-arm64-3.9/numpy/core/tests\n",
      "  copying numpy/core/tests/__init__.py -> build/lib.macosx-11.1-arm64-3.9/numpy/core/tests\n",
      "  copying numpy/core/tests/test_errstate.py -> build/lib.macosx-11.1-arm64-3.9/numpy/core/tests\n",
      "  copying numpy/core/tests/test_records.py -> build/lib.macosx-11.1-arm64-3.9/numpy/core/tests\n",
      "  copying numpy/core/tests/test_scalarinherit.py -> build/lib.macosx-11.1-arm64-3.9/numpy/core/tests\n",
      "  copying numpy/core/tests/test_indexing.py -> build/lib.macosx-11.1-arm64-3.9/numpy/core/tests\n",
      "  copying numpy/core/tests/test_umath.py -> build/lib.macosx-11.1-arm64-3.9/numpy/core/tests\n",
      "  copying numpy/core/tests/test_numeric.py -> build/lib.macosx-11.1-arm64-3.9/numpy/core/tests\n",
      "  copying numpy/core/tests/test_function_base.py -> build/lib.macosx-11.1-arm64-3.9/numpy/core/tests\n",
      "  copying numpy/core/tests/test_datetime.py -> build/lib.macosx-11.1-arm64-3.9/numpy/core/tests\n",
      "  copying numpy/core/tests/test__exceptions.py -> build/lib.macosx-11.1-arm64-3.9/numpy/core/tests\n",
      "  copying numpy/core/tests/test_extint128.py -> build/lib.macosx-11.1-arm64-3.9/numpy/core/tests\n",
      "  copying numpy/core/tests/test_umath_complex.py -> build/lib.macosx-11.1-arm64-3.9/numpy/core/tests\n",
      "  copying numpy/core/tests/_locales.py -> build/lib.macosx-11.1-arm64-3.9/numpy/core/tests\n",
      "  copying numpy/core/tests/test_defchararray.py -> build/lib.macosx-11.1-arm64-3.9/numpy/core/tests\n",
      "  copying numpy/core/tests/test_conversion_utils.py -> build/lib.macosx-11.1-arm64-3.9/numpy/core/tests\n",
      "  copying numpy/core/tests/test_scalarprint.py -> build/lib.macosx-11.1-arm64-3.9/numpy/core/tests\n",
      "  copying numpy/core/tests/test_abc.py -> build/lib.macosx-11.1-arm64-3.9/numpy/core/tests\n",
      "  copying numpy/core/tests/test_ufunc.py -> build/lib.macosx-11.1-arm64-3.9/numpy/core/tests\n",
      "  copying numpy/core/tests/test_dtype.py -> build/lib.macosx-11.1-arm64-3.9/numpy/core/tests\n",
      "  copying numpy/core/tests/test_umath_accuracy.py -> build/lib.macosx-11.1-arm64-3.9/numpy/core/tests\n",
      "  copying numpy/core/tests/test_getlimits.py -> build/lib.macosx-11.1-arm64-3.9/numpy/core/tests\n",
      "  copying numpy/core/tests/test_einsum.py -> build/lib.macosx-11.1-arm64-3.9/numpy/core/tests\n",
      "  copying numpy/core/tests/test_api.py -> build/lib.macosx-11.1-arm64-3.9/numpy/core/tests\n",
      "  copying numpy/core/tests/test_longdouble.py -> build/lib.macosx-11.1-arm64-3.9/numpy/core/tests\n",
      "  copying numpy/core/tests/test_overrides.py -> build/lib.macosx-11.1-arm64-3.9/numpy/core/tests\n",
      "  copying numpy/core/tests/test_scalar_ctors.py -> build/lib.macosx-11.1-arm64-3.9/numpy/core/tests\n",
      "  copying numpy/core/tests/test_multiarray.py -> build/lib.macosx-11.1-arm64-3.9/numpy/core/tests\n",
      "  copying numpy/core/tests/test_memmap.py -> build/lib.macosx-11.1-arm64-3.9/numpy/core/tests\n",
      "  copying numpy/core/tests/test_nditer.py -> build/lib.macosx-11.1-arm64-3.9/numpy/core/tests\n",
      "  copying numpy/core/tests/test_cpu_features.py -> build/lib.macosx-11.1-arm64-3.9/numpy/core/tests\n",
      "  copying numpy/core/tests/test_protocols.py -> build/lib.macosx-11.1-arm64-3.9/numpy/core/tests\n",
      "  copying numpy/core/tests/test_regression.py -> build/lib.macosx-11.1-arm64-3.9/numpy/core/tests\n",
      "  creating build/lib.macosx-11.1-arm64-3.9/numpy/distutils\n",
      "  copying numpy/distutils/unixccompiler.py -> build/lib.macosx-11.1-arm64-3.9/numpy/distutils\n",
      "  copying numpy/distutils/numpy_distribution.py -> build/lib.macosx-11.1-arm64-3.9/numpy/distutils\n",
      "  copying numpy/distutils/conv_template.py -> build/lib.macosx-11.1-arm64-3.9/numpy/distutils\n",
      "  copying numpy/distutils/cpuinfo.py -> build/lib.macosx-11.1-arm64-3.9/numpy/distutils\n",
      "  copying numpy/distutils/ccompiler.py -> build/lib.macosx-11.1-arm64-3.9/numpy/distutils\n",
      "  copying numpy/distutils/msvc9compiler.py -> build/lib.macosx-11.1-arm64-3.9/numpy/distutils\n",
      "  copying numpy/distutils/npy_pkg_config.py -> build/lib.macosx-11.1-arm64-3.9/numpy/distutils\n",
      "  copying numpy/distutils/misc_util.py -> build/lib.macosx-11.1-arm64-3.9/numpy/distutils\n",
      "  copying numpy/distutils/log.py -> build/lib.macosx-11.1-arm64-3.9/numpy/distutils\n",
      "  copying numpy/distutils/line_endings.py -> build/lib.macosx-11.1-arm64-3.9/numpy/distutils\n",
      "  copying numpy/distutils/lib2def.py -> build/lib.macosx-11.1-arm64-3.9/numpy/distutils\n",
      "  copying numpy/distutils/pathccompiler.py -> build/lib.macosx-11.1-arm64-3.9/numpy/distutils\n",
      "  copying numpy/distutils/system_info.py -> build/lib.macosx-11.1-arm64-3.9/numpy/distutils\n",
      "  copying numpy/distutils/__init__.py -> build/lib.macosx-11.1-arm64-3.9/numpy/distutils\n",
      "  copying numpy/distutils/core.py -> build/lib.macosx-11.1-arm64-3.9/numpy/distutils\n",
      "  copying numpy/distutils/exec_command.py -> build/lib.macosx-11.1-arm64-3.9/numpy/distutils\n",
      "  copying numpy/distutils/from_template.py -> build/lib.macosx-11.1-arm64-3.9/numpy/distutils\n",
      "  copying numpy/distutils/mingw32ccompiler.py -> build/lib.macosx-11.1-arm64-3.9/numpy/distutils\n",
      "  copying numpy/distutils/setup.py -> build/lib.macosx-11.1-arm64-3.9/numpy/distutils\n",
      "  copying numpy/distutils/extension.py -> build/lib.macosx-11.1-arm64-3.9/numpy/distutils\n",
      "  copying numpy/distutils/msvccompiler.py -> build/lib.macosx-11.1-arm64-3.9/numpy/distutils\n",
      "  copying numpy/distutils/intelccompiler.py -> build/lib.macosx-11.1-arm64-3.9/numpy/distutils\n",
      "  copying numpy/distutils/_shell_utils.py -> build/lib.macosx-11.1-arm64-3.9/numpy/distutils\n",
      "  copying build/src.macosx-11.1-arm64-3.9/numpy/distutils/__config__.py -> build/lib.macosx-11.1-arm64-3.9/numpy/distutils\n",
      "  creating build/lib.macosx-11.1-arm64-3.9/numpy/distutils/command\n",
      "  copying numpy/distutils/command/build.py -> build/lib.macosx-11.1-arm64-3.9/numpy/distutils/command\n",
      "  copying numpy/distutils/command/config_compiler.py -> build/lib.macosx-11.1-arm64-3.9/numpy/distutils/command\n",
      "  copying numpy/distutils/command/build_ext.py -> build/lib.macosx-11.1-arm64-3.9/numpy/distutils/command\n",
      "  copying numpy/distutils/command/config.py -> build/lib.macosx-11.1-arm64-3.9/numpy/distutils/command\n",
      "  copying numpy/distutils/command/install_headers.py -> build/lib.macosx-11.1-arm64-3.9/numpy/distutils/command\n",
      "  copying numpy/distutils/command/build_py.py -> build/lib.macosx-11.1-arm64-3.9/numpy/distutils/command\n",
      "  copying numpy/distutils/command/build_src.py -> build/lib.macosx-11.1-arm64-3.9/numpy/distutils/command\n",
      "  copying numpy/distutils/command/__init__.py -> build/lib.macosx-11.1-arm64-3.9/numpy/distutils/command\n",
      "  copying numpy/distutils/command/sdist.py -> build/lib.macosx-11.1-arm64-3.9/numpy/distutils/command\n",
      "  copying numpy/distutils/command/build_scripts.py -> build/lib.macosx-11.1-arm64-3.9/numpy/distutils/command\n",
      "  copying numpy/distutils/command/bdist_rpm.py -> build/lib.macosx-11.1-arm64-3.9/numpy/distutils/command\n",
      "  copying numpy/distutils/command/install_clib.py -> build/lib.macosx-11.1-arm64-3.9/numpy/distutils/command\n",
      "  copying numpy/distutils/command/build_clib.py -> build/lib.macosx-11.1-arm64-3.9/numpy/distutils/command\n",
      "  copying numpy/distutils/command/autodist.py -> build/lib.macosx-11.1-arm64-3.9/numpy/distutils/command\n",
      "  copying numpy/distutils/command/egg_info.py -> build/lib.macosx-11.1-arm64-3.9/numpy/distutils/command\n",
      "  copying numpy/distutils/command/install.py -> build/lib.macosx-11.1-arm64-3.9/numpy/distutils/command\n",
      "  copying numpy/distutils/command/develop.py -> build/lib.macosx-11.1-arm64-3.9/numpy/distutils/command\n",
      "  copying numpy/distutils/command/install_data.py -> build/lib.macosx-11.1-arm64-3.9/numpy/distutils/command\n",
      "  creating build/lib.macosx-11.1-arm64-3.9/numpy/distutils/fcompiler\n",
      "  copying numpy/distutils/fcompiler/gnu.py -> build/lib.macosx-11.1-arm64-3.9/numpy/distutils/fcompiler\n",
      "  copying numpy/distutils/fcompiler/compaq.py -> build/lib.macosx-11.1-arm64-3.9/numpy/distutils/fcompiler\n",
      "  copying numpy/distutils/fcompiler/intel.py -> build/lib.macosx-11.1-arm64-3.9/numpy/distutils/fcompiler\n",
      "  copying numpy/distutils/fcompiler/none.py -> build/lib.macosx-11.1-arm64-3.9/numpy/distutils/fcompiler\n",
      "  copying numpy/distutils/fcompiler/nag.py -> build/lib.macosx-11.1-arm64-3.9/numpy/distutils/fcompiler\n",
      "  copying numpy/distutils/fcompiler/pg.py -> build/lib.macosx-11.1-arm64-3.9/numpy/distutils/fcompiler\n",
      "  copying numpy/distutils/fcompiler/ibm.py -> build/lib.macosx-11.1-arm64-3.9/numpy/distutils/fcompiler\n",
      "  copying numpy/distutils/fcompiler/sun.py -> build/lib.macosx-11.1-arm64-3.9/numpy/distutils/fcompiler\n",
      "  copying numpy/distutils/fcompiler/nv.py -> build/lib.macosx-11.1-arm64-3.9/numpy/distutils/fcompiler\n",
      "  copying numpy/distutils/fcompiler/lahey.py -> build/lib.macosx-11.1-arm64-3.9/numpy/distutils/fcompiler\n",
      "  copying numpy/distutils/fcompiler/__init__.py -> build/lib.macosx-11.1-arm64-3.9/numpy/distutils/fcompiler\n",
      "  copying numpy/distutils/fcompiler/g95.py -> build/lib.macosx-11.1-arm64-3.9/numpy/distutils/fcompiler\n",
      "  copying numpy/distutils/fcompiler/mips.py -> build/lib.macosx-11.1-arm64-3.9/numpy/distutils/fcompiler\n",
      "  copying numpy/distutils/fcompiler/hpux.py -> build/lib.macosx-11.1-arm64-3.9/numpy/distutils/fcompiler\n",
      "  copying numpy/distutils/fcompiler/environment.py -> build/lib.macosx-11.1-arm64-3.9/numpy/distutils/fcompiler\n",
      "  copying numpy/distutils/fcompiler/pathf95.py -> build/lib.macosx-11.1-arm64-3.9/numpy/distutils/fcompiler\n",
      "  copying numpy/distutils/fcompiler/absoft.py -> build/lib.macosx-11.1-arm64-3.9/numpy/distutils/fcompiler\n",
      "  copying numpy/distutils/fcompiler/vast.py -> build/lib.macosx-11.1-arm64-3.9/numpy/distutils/fcompiler\n",
      "  creating build/lib.macosx-11.1-arm64-3.9/numpy/distutils/tests\n",
      "  copying numpy/distutils/tests/test_system_info.py -> build/lib.macosx-11.1-arm64-3.9/numpy/distutils/tests\n",
      "  copying numpy/distutils/tests/test_mingw32ccompiler.py -> build/lib.macosx-11.1-arm64-3.9/numpy/distutils/tests\n",
      "  copying numpy/distutils/tests/test_from_template.py -> build/lib.macosx-11.1-arm64-3.9/numpy/distutils/tests\n",
      "  copying numpy/distutils/tests/__init__.py -> build/lib.macosx-11.1-arm64-3.9/numpy/distutils/tests\n",
      "  copying numpy/distutils/tests/test_fcompiler_intel.py -> build/lib.macosx-11.1-arm64-3.9/numpy/distutils/tests\n",
      "  copying numpy/distutils/tests/test_misc_util.py -> build/lib.macosx-11.1-arm64-3.9/numpy/distutils/tests\n",
      "  copying numpy/distutils/tests/test_fcompiler.py -> build/lib.macosx-11.1-arm64-3.9/numpy/distutils/tests\n",
      "  copying numpy/distutils/tests/test_shell_utils.py -> build/lib.macosx-11.1-arm64-3.9/numpy/distutils/tests\n",
      "  copying numpy/distutils/tests/test_exec_command.py -> build/lib.macosx-11.1-arm64-3.9/numpy/distutils/tests\n",
      "  copying numpy/distutils/tests/test_npy_pkg_config.py -> build/lib.macosx-11.1-arm64-3.9/numpy/distutils/tests\n",
      "  copying numpy/distutils/tests/test_fcompiler_nagfor.py -> build/lib.macosx-11.1-arm64-3.9/numpy/distutils/tests\n",
      "  copying numpy/distutils/tests/test_fcompiler_gnu.py -> build/lib.macosx-11.1-arm64-3.9/numpy/distutils/tests\n",
      "  creating build/lib.macosx-11.1-arm64-3.9/numpy/doc\n",
      "  copying numpy/doc/misc.py -> build/lib.macosx-11.1-arm64-3.9/numpy/doc\n",
      "  copying numpy/doc/internals.py -> build/lib.macosx-11.1-arm64-3.9/numpy/doc\n",
      "  copying numpy/doc/creation.py -> build/lib.macosx-11.1-arm64-3.9/numpy/doc\n",
      "  copying numpy/doc/dispatch.py -> build/lib.macosx-11.1-arm64-3.9/numpy/doc\n",
      "  copying numpy/doc/constants.py -> build/lib.macosx-11.1-arm64-3.9/numpy/doc\n",
      "  copying numpy/doc/ufuncs.py -> build/lib.macosx-11.1-arm64-3.9/numpy/doc\n",
      "  copying numpy/doc/__init__.py -> build/lib.macosx-11.1-arm64-3.9/numpy/doc\n",
      "  copying numpy/doc/broadcasting.py -> build/lib.macosx-11.1-arm64-3.9/numpy/doc\n",
      "  copying numpy/doc/basics.py -> build/lib.macosx-11.1-arm64-3.9/numpy/doc\n",
      "  copying numpy/doc/subclassing.py -> build/lib.macosx-11.1-arm64-3.9/numpy/doc\n",
      "  copying numpy/doc/indexing.py -> build/lib.macosx-11.1-arm64-3.9/numpy/doc\n",
      "  copying numpy/doc/byteswapping.py -> build/lib.macosx-11.1-arm64-3.9/numpy/doc\n",
      "  copying numpy/doc/structured_arrays.py -> build/lib.macosx-11.1-arm64-3.9/numpy/doc\n",
      "  copying numpy/doc/glossary.py -> build/lib.macosx-11.1-arm64-3.9/numpy/doc\n",
      "  creating build/lib.macosx-11.1-arm64-3.9/numpy/f2py\n",
      "  copying numpy/f2py/cfuncs.py -> build/lib.macosx-11.1-arm64-3.9/numpy/f2py\n",
      "  copying numpy/f2py/common_rules.py -> build/lib.macosx-11.1-arm64-3.9/numpy/f2py\n",
      "  copying numpy/f2py/crackfortran.py -> build/lib.macosx-11.1-arm64-3.9/numpy/f2py\n",
      "  copying numpy/f2py/cb_rules.py -> build/lib.macosx-11.1-arm64-3.9/numpy/f2py\n",
      "  copying numpy/f2py/__init__.py -> build/lib.macosx-11.1-arm64-3.9/numpy/f2py\n",
      "  copying numpy/f2py/rules.py -> build/lib.macosx-11.1-arm64-3.9/numpy/f2py\n",
      "  copying numpy/f2py/f2py2e.py -> build/lib.macosx-11.1-arm64-3.9/numpy/f2py\n",
      "  copying numpy/f2py/func2subr.py -> build/lib.macosx-11.1-arm64-3.9/numpy/f2py\n",
      "  copying numpy/f2py/__version__.py -> build/lib.macosx-11.1-arm64-3.9/numpy/f2py\n",
      "  copying numpy/f2py/diagnose.py -> build/lib.macosx-11.1-arm64-3.9/numpy/f2py\n",
      "  copying numpy/f2py/setup.py -> build/lib.macosx-11.1-arm64-3.9/numpy/f2py\n",
      "  copying numpy/f2py/capi_maps.py -> build/lib.macosx-11.1-arm64-3.9/numpy/f2py\n",
      "  copying numpy/f2py/f90mod_rules.py -> build/lib.macosx-11.1-arm64-3.9/numpy/f2py\n",
      "  copying numpy/f2py/f2py_testing.py -> build/lib.macosx-11.1-arm64-3.9/numpy/f2py\n",
      "  copying numpy/f2py/use_rules.py -> build/lib.macosx-11.1-arm64-3.9/numpy/f2py\n",
      "  copying numpy/f2py/auxfuncs.py -> build/lib.macosx-11.1-arm64-3.9/numpy/f2py\n",
      "  copying numpy/f2py/__main__.py -> build/lib.macosx-11.1-arm64-3.9/numpy/f2py\n",
      "  creating build/lib.macosx-11.1-arm64-3.9/numpy/f2py/tests\n",
      "  copying numpy/f2py/tests/test_mixed.py -> build/lib.macosx-11.1-arm64-3.9/numpy/f2py/tests\n",
      "  copying numpy/f2py/tests/test_return_logical.py -> build/lib.macosx-11.1-arm64-3.9/numpy/f2py/tests\n",
      "  copying numpy/f2py/tests/test_assumed_shape.py -> build/lib.macosx-11.1-arm64-3.9/numpy/f2py/tests\n",
      "  copying numpy/f2py/tests/test_common.py -> build/lib.macosx-11.1-arm64-3.9/numpy/f2py/tests\n",
      "  copying numpy/f2py/tests/test_kind.py -> build/lib.macosx-11.1-arm64-3.9/numpy/f2py/tests\n",
      "  copying numpy/f2py/tests/test_array_from_pyobj.py -> build/lib.macosx-11.1-arm64-3.9/numpy/f2py/tests\n",
      "  copying numpy/f2py/tests/test_return_real.py -> build/lib.macosx-11.1-arm64-3.9/numpy/f2py/tests\n",
      "  copying numpy/f2py/tests/util.py -> build/lib.macosx-11.1-arm64-3.9/numpy/f2py/tests\n",
      "  copying numpy/f2py/tests/test_size.py -> build/lib.macosx-11.1-arm64-3.9/numpy/f2py/tests\n",
      "  copying numpy/f2py/tests/test_callback.py -> build/lib.macosx-11.1-arm64-3.9/numpy/f2py/tests\n",
      "  copying numpy/f2py/tests/test_string.py -> build/lib.macosx-11.1-arm64-3.9/numpy/f2py/tests\n",
      "  copying numpy/f2py/tests/__init__.py -> build/lib.macosx-11.1-arm64-3.9/numpy/f2py/tests\n",
      "  copying numpy/f2py/tests/test_quoted_character.py -> build/lib.macosx-11.1-arm64-3.9/numpy/f2py/tests\n",
      "  copying numpy/f2py/tests/test_parameter.py -> build/lib.macosx-11.1-arm64-3.9/numpy/f2py/tests\n",
      "  copying numpy/f2py/tests/test_semicolon_split.py -> build/lib.macosx-11.1-arm64-3.9/numpy/f2py/tests\n",
      "  copying numpy/f2py/tests/test_compile_function.py -> build/lib.macosx-11.1-arm64-3.9/numpy/f2py/tests\n",
      "  copying numpy/f2py/tests/test_block_docstring.py -> build/lib.macosx-11.1-arm64-3.9/numpy/f2py/tests\n",
      "  copying numpy/f2py/tests/test_return_integer.py -> build/lib.macosx-11.1-arm64-3.9/numpy/f2py/tests\n",
      "  copying numpy/f2py/tests/test_return_character.py -> build/lib.macosx-11.1-arm64-3.9/numpy/f2py/tests\n",
      "  copying numpy/f2py/tests/test_return_complex.py -> build/lib.macosx-11.1-arm64-3.9/numpy/f2py/tests\n",
      "  copying numpy/f2py/tests/test_crackfortran.py -> build/lib.macosx-11.1-arm64-3.9/numpy/f2py/tests\n",
      "  copying numpy/f2py/tests/test_regression.py -> build/lib.macosx-11.1-arm64-3.9/numpy/f2py/tests\n",
      "  creating build/lib.macosx-11.1-arm64-3.9/numpy/fft\n",
      "  copying numpy/fft/__init__.py -> build/lib.macosx-11.1-arm64-3.9/numpy/fft\n",
      "  copying numpy/fft/setup.py -> build/lib.macosx-11.1-arm64-3.9/numpy/fft\n",
      "  copying numpy/fft/helper.py -> build/lib.macosx-11.1-arm64-3.9/numpy/fft\n",
      "  copying numpy/fft/_pocketfft.py -> build/lib.macosx-11.1-arm64-3.9/numpy/fft\n",
      "  creating build/lib.macosx-11.1-arm64-3.9/numpy/fft/tests\n",
      "  copying numpy/fft/tests/test_pocketfft.py -> build/lib.macosx-11.1-arm64-3.9/numpy/fft/tests\n",
      "  copying numpy/fft/tests/test_helper.py -> build/lib.macosx-11.1-arm64-3.9/numpy/fft/tests\n",
      "  copying numpy/fft/tests/__init__.py -> build/lib.macosx-11.1-arm64-3.9/numpy/fft/tests\n",
      "  creating build/lib.macosx-11.1-arm64-3.9/numpy/lib\n",
      "  copying numpy/lib/_iotools.py -> build/lib.macosx-11.1-arm64-3.9/numpy/lib\n",
      "  copying numpy/lib/mixins.py -> build/lib.macosx-11.1-arm64-3.9/numpy/lib\n",
      "  copying numpy/lib/nanfunctions.py -> build/lib.macosx-11.1-arm64-3.9/numpy/lib\n",
      "  copying numpy/lib/recfunctions.py -> build/lib.macosx-11.1-arm64-3.9/numpy/lib\n",
      "  copying numpy/lib/histograms.py -> build/lib.macosx-11.1-arm64-3.9/numpy/lib\n",
      "  copying numpy/lib/scimath.py -> build/lib.macosx-11.1-arm64-3.9/numpy/lib\n",
      "  copying numpy/lib/_version.py -> build/lib.macosx-11.1-arm64-3.9/numpy/lib\n",
      "  copying numpy/lib/user_array.py -> build/lib.macosx-11.1-arm64-3.9/numpy/lib\n",
      "  copying numpy/lib/__init__.py -> build/lib.macosx-11.1-arm64-3.9/numpy/lib\n",
      "  copying numpy/lib/format.py -> build/lib.macosx-11.1-arm64-3.9/numpy/lib\n",
      "  copying numpy/lib/twodim_base.py -> build/lib.macosx-11.1-arm64-3.9/numpy/lib\n",
      "  copying numpy/lib/financial.py -> build/lib.macosx-11.1-arm64-3.9/numpy/lib\n",
      "  copying numpy/lib/index_tricks.py -> build/lib.macosx-11.1-arm64-3.9/numpy/lib\n",
      "  copying numpy/lib/npyio.py -> build/lib.macosx-11.1-arm64-3.9/numpy/lib\n",
      "  copying numpy/lib/shape_base.py -> build/lib.macosx-11.1-arm64-3.9/numpy/lib\n",
      "  copying numpy/lib/setup.py -> build/lib.macosx-11.1-arm64-3.9/numpy/lib\n",
      "  copying numpy/lib/stride_tricks.py -> build/lib.macosx-11.1-arm64-3.9/numpy/lib\n",
      "  copying numpy/lib/utils.py -> build/lib.macosx-11.1-arm64-3.9/numpy/lib\n",
      "  copying numpy/lib/arrayterator.py -> build/lib.macosx-11.1-arm64-3.9/numpy/lib\n",
      "  copying numpy/lib/function_base.py -> build/lib.macosx-11.1-arm64-3.9/numpy/lib\n",
      "  copying numpy/lib/arraysetops.py -> build/lib.macosx-11.1-arm64-3.9/numpy/lib\n",
      "  copying numpy/lib/arraypad.py -> build/lib.macosx-11.1-arm64-3.9/numpy/lib\n",
      "  copying numpy/lib/type_check.py -> build/lib.macosx-11.1-arm64-3.9/numpy/lib\n",
      "  copying numpy/lib/polynomial.py -> build/lib.macosx-11.1-arm64-3.9/numpy/lib\n",
      "  copying numpy/lib/_datasource.py -> build/lib.macosx-11.1-arm64-3.9/numpy/lib\n",
      "  copying numpy/lib/ufunclike.py -> build/lib.macosx-11.1-arm64-3.9/numpy/lib\n",
      "  creating build/lib.macosx-11.1-arm64-3.9/numpy/lib/tests\n",
      "  copying numpy/lib/tests/test_type_check.py -> build/lib.macosx-11.1-arm64-3.9/numpy/lib/tests\n",
      "  copying numpy/lib/tests/test_utils.py -> build/lib.macosx-11.1-arm64-3.9/numpy/lib/tests\n",
      "  copying numpy/lib/tests/test_twodim_base.py -> build/lib.macosx-11.1-arm64-3.9/numpy/lib/tests\n",
      "  copying numpy/lib/tests/test_polynomial.py -> build/lib.macosx-11.1-arm64-3.9/numpy/lib/tests\n",
      "  copying numpy/lib/tests/test__iotools.py -> build/lib.macosx-11.1-arm64-3.9/numpy/lib/tests\n",
      "  copying numpy/lib/tests/test_shape_base.py -> build/lib.macosx-11.1-arm64-3.9/numpy/lib/tests\n",
      "  copying numpy/lib/tests/test_ufunclike.py -> build/lib.macosx-11.1-arm64-3.9/numpy/lib/tests\n",
      "  copying numpy/lib/tests/test_index_tricks.py -> build/lib.macosx-11.1-arm64-3.9/numpy/lib/tests\n",
      "  copying numpy/lib/tests/__init__.py -> build/lib.macosx-11.1-arm64-3.9/numpy/lib/tests\n",
      "  copying numpy/lib/tests/test_arrayterator.py -> build/lib.macosx-11.1-arm64-3.9/numpy/lib/tests\n",
      "  copying numpy/lib/tests/test__version.py -> build/lib.macosx-11.1-arm64-3.9/numpy/lib/tests\n",
      "  copying numpy/lib/tests/test_io.py -> build/lib.macosx-11.1-arm64-3.9/numpy/lib/tests\n",
      "  copying numpy/lib/tests/test_arraysetops.py -> build/lib.macosx-11.1-arm64-3.9/numpy/lib/tests\n",
      "  copying numpy/lib/tests/test_function_base.py -> build/lib.macosx-11.1-arm64-3.9/numpy/lib/tests\n",
      "  copying numpy/lib/tests/test_arraypad.py -> build/lib.macosx-11.1-arm64-3.9/numpy/lib/tests\n",
      "  copying numpy/lib/tests/test_mixins.py -> build/lib.macosx-11.1-arm64-3.9/numpy/lib/tests\n",
      "  copying numpy/lib/tests/test_packbits.py -> build/lib.macosx-11.1-arm64-3.9/numpy/lib/tests\n",
      "  copying numpy/lib/tests/test__datasource.py -> build/lib.macosx-11.1-arm64-3.9/numpy/lib/tests\n",
      "  copying numpy/lib/tests/test_stride_tricks.py -> build/lib.macosx-11.1-arm64-3.9/numpy/lib/tests\n",
      "  copying numpy/lib/tests/test_financial.py -> build/lib.macosx-11.1-arm64-3.9/numpy/lib/tests\n",
      "  copying numpy/lib/tests/test_recfunctions.py -> build/lib.macosx-11.1-arm64-3.9/numpy/lib/tests\n",
      "  copying numpy/lib/tests/test_nanfunctions.py -> build/lib.macosx-11.1-arm64-3.9/numpy/lib/tests\n",
      "  copying numpy/lib/tests/test_format.py -> build/lib.macosx-11.1-arm64-3.9/numpy/lib/tests\n",
      "  copying numpy/lib/tests/test_histograms.py -> build/lib.macosx-11.1-arm64-3.9/numpy/lib/tests\n",
      "  copying numpy/lib/tests/test_regression.py -> build/lib.macosx-11.1-arm64-3.9/numpy/lib/tests\n",
      "  creating build/lib.macosx-11.1-arm64-3.9/numpy/linalg\n",
      "  copying numpy/linalg/__init__.py -> build/lib.macosx-11.1-arm64-3.9/numpy/linalg\n",
      "  copying numpy/linalg/setup.py -> build/lib.macosx-11.1-arm64-3.9/numpy/linalg\n",
      "  copying numpy/linalg/linalg.py -> build/lib.macosx-11.1-arm64-3.9/numpy/linalg\n",
      "  creating build/lib.macosx-11.1-arm64-3.9/numpy/linalg/tests\n",
      "  copying numpy/linalg/tests/test_linalg.py -> build/lib.macosx-11.1-arm64-3.9/numpy/linalg/tests\n",
      "  copying numpy/linalg/tests/test_deprecations.py -> build/lib.macosx-11.1-arm64-3.9/numpy/linalg/tests\n",
      "  copying numpy/linalg/tests/__init__.py -> build/lib.macosx-11.1-arm64-3.9/numpy/linalg/tests\n",
      "  copying numpy/linalg/tests/test_build.py -> build/lib.macosx-11.1-arm64-3.9/numpy/linalg/tests\n",
      "  copying numpy/linalg/tests/test_regression.py -> build/lib.macosx-11.1-arm64-3.9/numpy/linalg/tests\n",
      "  creating build/lib.macosx-11.1-arm64-3.9/numpy/ma\n",
      "  copying numpy/ma/extras.py -> build/lib.macosx-11.1-arm64-3.9/numpy/ma\n",
      "  copying numpy/ma/testutils.py -> build/lib.macosx-11.1-arm64-3.9/numpy/ma\n",
      "  copying numpy/ma/__init__.py -> build/lib.macosx-11.1-arm64-3.9/numpy/ma\n",
      "  copying numpy/ma/core.py -> build/lib.macosx-11.1-arm64-3.9/numpy/ma\n",
      "  copying numpy/ma/bench.py -> build/lib.macosx-11.1-arm64-3.9/numpy/ma\n",
      "  copying numpy/ma/setup.py -> build/lib.macosx-11.1-arm64-3.9/numpy/ma\n",
      "  copying numpy/ma/timer_comparison.py -> build/lib.macosx-11.1-arm64-3.9/numpy/ma\n",
      "  copying numpy/ma/mrecords.py -> build/lib.macosx-11.1-arm64-3.9/numpy/ma\n",
      "  creating build/lib.macosx-11.1-arm64-3.9/numpy/ma/tests\n",
      "  copying numpy/ma/tests/test_old_ma.py -> build/lib.macosx-11.1-arm64-3.9/numpy/ma/tests\n",
      "  copying numpy/ma/tests/test_core.py -> build/lib.macosx-11.1-arm64-3.9/numpy/ma/tests\n",
      "  copying numpy/ma/tests/test_deprecations.py -> build/lib.macosx-11.1-arm64-3.9/numpy/ma/tests\n",
      "  copying numpy/ma/tests/__init__.py -> build/lib.macosx-11.1-arm64-3.9/numpy/ma/tests\n",
      "  copying numpy/ma/tests/test_subclassing.py -> build/lib.macosx-11.1-arm64-3.9/numpy/ma/tests\n",
      "  copying numpy/ma/tests/test_extras.py -> build/lib.macosx-11.1-arm64-3.9/numpy/ma/tests\n",
      "  copying numpy/ma/tests/test_mrecords.py -> build/lib.macosx-11.1-arm64-3.9/numpy/ma/tests\n",
      "  copying numpy/ma/tests/test_regression.py -> build/lib.macosx-11.1-arm64-3.9/numpy/ma/tests\n",
      "  creating build/lib.macosx-11.1-arm64-3.9/numpy/matrixlib\n",
      "  copying numpy/matrixlib/__init__.py -> build/lib.macosx-11.1-arm64-3.9/numpy/matrixlib\n",
      "  copying numpy/matrixlib/setup.py -> build/lib.macosx-11.1-arm64-3.9/numpy/matrixlib\n",
      "  copying numpy/matrixlib/defmatrix.py -> build/lib.macosx-11.1-arm64-3.9/numpy/matrixlib\n",
      "  creating build/lib.macosx-11.1-arm64-3.9/numpy/matrixlib/tests\n",
      "  copying numpy/matrixlib/tests/test_matrix_linalg.py -> build/lib.macosx-11.1-arm64-3.9/numpy/matrixlib/tests\n",
      "  copying numpy/matrixlib/tests/test_defmatrix.py -> build/lib.macosx-11.1-arm64-3.9/numpy/matrixlib/tests\n",
      "  copying numpy/matrixlib/tests/__init__.py -> build/lib.macosx-11.1-arm64-3.9/numpy/matrixlib/tests\n",
      "  copying numpy/matrixlib/tests/test_interaction.py -> build/lib.macosx-11.1-arm64-3.9/numpy/matrixlib/tests\n",
      "  copying numpy/matrixlib/tests/test_numeric.py -> build/lib.macosx-11.1-arm64-3.9/numpy/matrixlib/tests\n",
      "  copying numpy/matrixlib/tests/test_masked_matrix.py -> build/lib.macosx-11.1-arm64-3.9/numpy/matrixlib/tests\n",
      "  copying numpy/matrixlib/tests/test_multiarray.py -> build/lib.macosx-11.1-arm64-3.9/numpy/matrixlib/tests\n",
      "  copying numpy/matrixlib/tests/test_regression.py -> build/lib.macosx-11.1-arm64-3.9/numpy/matrixlib/tests\n",
      "  creating build/lib.macosx-11.1-arm64-3.9/numpy/polynomial\n",
      "  copying numpy/polynomial/laguerre.py -> build/lib.macosx-11.1-arm64-3.9/numpy/polynomial\n",
      "  copying numpy/polynomial/_polybase.py -> build/lib.macosx-11.1-arm64-3.9/numpy/polynomial\n",
      "  copying numpy/polynomial/polyutils.py -> build/lib.macosx-11.1-arm64-3.9/numpy/polynomial\n",
      "  copying numpy/polynomial/__init__.py -> build/lib.macosx-11.1-arm64-3.9/numpy/polynomial\n",
      "  copying numpy/polynomial/setup.py -> build/lib.macosx-11.1-arm64-3.9/numpy/polynomial\n",
      "  copying numpy/polynomial/hermite_e.py -> build/lib.macosx-11.1-arm64-3.9/numpy/polynomial\n",
      "  copying numpy/polynomial/chebyshev.py -> build/lib.macosx-11.1-arm64-3.9/numpy/polynomial\n",
      "  copying numpy/polynomial/polynomial.py -> build/lib.macosx-11.1-arm64-3.9/numpy/polynomial\n",
      "  copying numpy/polynomial/legendre.py -> build/lib.macosx-11.1-arm64-3.9/numpy/polynomial\n",
      "  copying numpy/polynomial/hermite.py -> build/lib.macosx-11.1-arm64-3.9/numpy/polynomial\n",
      "  creating build/lib.macosx-11.1-arm64-3.9/numpy/polynomial/tests\n",
      "  copying numpy/polynomial/tests/test_chebyshev.py -> build/lib.macosx-11.1-arm64-3.9/numpy/polynomial/tests\n",
      "  copying numpy/polynomial/tests/test_hermite_e.py -> build/lib.macosx-11.1-arm64-3.9/numpy/polynomial/tests\n",
      "  copying numpy/polynomial/tests/test_polynomial.py -> build/lib.macosx-11.1-arm64-3.9/numpy/polynomial/tests\n",
      "  copying numpy/polynomial/tests/__init__.py -> build/lib.macosx-11.1-arm64-3.9/numpy/polynomial/tests\n",
      "  copying numpy/polynomial/tests/test_laguerre.py -> build/lib.macosx-11.1-arm64-3.9/numpy/polynomial/tests\n",
      "  copying numpy/polynomial/tests/test_legendre.py -> build/lib.macosx-11.1-arm64-3.9/numpy/polynomial/tests\n",
      "  copying numpy/polynomial/tests/test_printing.py -> build/lib.macosx-11.1-arm64-3.9/numpy/polynomial/tests\n",
      "  copying numpy/polynomial/tests/test_hermite.py -> build/lib.macosx-11.1-arm64-3.9/numpy/polynomial/tests\n",
      "  copying numpy/polynomial/tests/test_classes.py -> build/lib.macosx-11.1-arm64-3.9/numpy/polynomial/tests\n",
      "  copying numpy/polynomial/tests/test_polyutils.py -> build/lib.macosx-11.1-arm64-3.9/numpy/polynomial/tests\n",
      "  creating build/lib.macosx-11.1-arm64-3.9/numpy/random\n",
      "  copying numpy/random/_pickle.py -> build/lib.macosx-11.1-arm64-3.9/numpy/random\n",
      "  copying numpy/random/__init__.py -> build/lib.macosx-11.1-arm64-3.9/numpy/random\n",
      "  copying numpy/random/setup.py -> build/lib.macosx-11.1-arm64-3.9/numpy/random\n",
      "  creating build/lib.macosx-11.1-arm64-3.9/numpy/random/tests\n",
      "  copying numpy/random/tests/test_generator_mt19937.py -> build/lib.macosx-11.1-arm64-3.9/numpy/random/tests\n",
      "  copying numpy/random/tests/test_randomstate.py -> build/lib.macosx-11.1-arm64-3.9/numpy/random/tests\n",
      "  copying numpy/random/tests/test_direct.py -> build/lib.macosx-11.1-arm64-3.9/numpy/random/tests\n",
      "  copying numpy/random/tests/test_extending.py -> build/lib.macosx-11.1-arm64-3.9/numpy/random/tests\n",
      "  copying numpy/random/tests/__init__.py -> build/lib.macosx-11.1-arm64-3.9/numpy/random/tests\n",
      "  copying numpy/random/tests/test_smoke.py -> build/lib.macosx-11.1-arm64-3.9/numpy/random/tests\n",
      "  copying numpy/random/tests/test_randomstate_regression.py -> build/lib.macosx-11.1-arm64-3.9/numpy/random/tests\n",
      "  copying numpy/random/tests/test_seed_sequence.py -> build/lib.macosx-11.1-arm64-3.9/numpy/random/tests\n",
      "  copying numpy/random/tests/test_generator_mt19937_regressions.py -> build/lib.macosx-11.1-arm64-3.9/numpy/random/tests\n",
      "  copying numpy/random/tests/test_random.py -> build/lib.macosx-11.1-arm64-3.9/numpy/random/tests\n",
      "  copying numpy/random/tests/test_regression.py -> build/lib.macosx-11.1-arm64-3.9/numpy/random/tests\n",
      "  creating build/lib.macosx-11.1-arm64-3.9/numpy/testing\n",
      "  copying numpy/testing/__init__.py -> build/lib.macosx-11.1-arm64-3.9/numpy/testing\n",
      "  copying numpy/testing/setup.py -> build/lib.macosx-11.1-arm64-3.9/numpy/testing\n",
      "  copying numpy/testing/utils.py -> build/lib.macosx-11.1-arm64-3.9/numpy/testing\n",
      "  copying numpy/testing/print_coercion_tables.py -> build/lib.macosx-11.1-arm64-3.9/numpy/testing\n",
      "  creating build/lib.macosx-11.1-arm64-3.9/numpy/testing/_private\n",
      "  copying numpy/testing/_private/nosetester.py -> build/lib.macosx-11.1-arm64-3.9/numpy/testing/_private\n",
      "  copying numpy/testing/_private/__init__.py -> build/lib.macosx-11.1-arm64-3.9/numpy/testing/_private\n",
      "  copying numpy/testing/_private/noseclasses.py -> build/lib.macosx-11.1-arm64-3.9/numpy/testing/_private\n",
      "  copying numpy/testing/_private/utils.py -> build/lib.macosx-11.1-arm64-3.9/numpy/testing/_private\n",
      "  copying numpy/testing/_private/parameterized.py -> build/lib.macosx-11.1-arm64-3.9/numpy/testing/_private\n",
      "  copying numpy/testing/_private/decorators.py -> build/lib.macosx-11.1-arm64-3.9/numpy/testing/_private\n",
      "  creating build/lib.macosx-11.1-arm64-3.9/numpy/testing/tests\n",
      "  copying numpy/testing/tests/test_utils.py -> build/lib.macosx-11.1-arm64-3.9/numpy/testing/tests\n",
      "  copying numpy/testing/tests/test_decorators.py -> build/lib.macosx-11.1-arm64-3.9/numpy/testing/tests\n",
      "  copying numpy/testing/tests/__init__.py -> build/lib.macosx-11.1-arm64-3.9/numpy/testing/tests\n",
      "  copying numpy/testing/tests/test_doctesting.py -> build/lib.macosx-11.1-arm64-3.9/numpy/testing/tests\n",
      "  creating build/lib.macosx-11.1-arm64-3.9/numpy/tests\n",
      "  copying numpy/tests/test_warnings.py -> build/lib.macosx-11.1-arm64-3.9/numpy/tests\n",
      "  copying numpy/tests/test_matlib.py -> build/lib.macosx-11.1-arm64-3.9/numpy/tests\n",
      "  copying numpy/tests/test_ctypeslib.py -> build/lib.macosx-11.1-arm64-3.9/numpy/tests\n",
      "  copying numpy/tests/test_numpy_version.py -> build/lib.macosx-11.1-arm64-3.9/numpy/tests\n",
      "  copying numpy/tests/__init__.py -> build/lib.macosx-11.1-arm64-3.9/numpy/tests\n",
      "  copying numpy/tests/test_reloading.py -> build/lib.macosx-11.1-arm64-3.9/numpy/tests\n",
      "  copying numpy/tests/test_public_api.py -> build/lib.macosx-11.1-arm64-3.9/numpy/tests\n",
      "  copying numpy/tests/test_scripts.py -> build/lib.macosx-11.1-arm64-3.9/numpy/tests\n",
      "  running build_clib\n",
      "  customize UnixCCompiler\n",
      "  customize UnixCCompiler using new_build_clib\n",
      "  building 'npymath' library\n",
      "  compiling C sources\n",
      "  C compiler: clang -Wno-unused-result -Wsign-compare -Wunreachable-code -DNDEBUG -fwrapv -O2 -Wall -fPIC -O2 -isystem /Users/hakantekin/miniforge3/envs/tensorflow/include -arch arm64 -I/Users/hakantekin/miniforge3/envs/tensorflow/include -fPIC -O2 -isystem /Users/hakantekin/miniforge3/envs/tensorflow/include -arch arm64\n",
      "  \n",
      "  creating build/temp.macosx-11.1-arm64-3.9\n",
      "  creating build/temp.macosx-11.1-arm64-3.9/numpy\n",
      "  creating build/temp.macosx-11.1-arm64-3.9/numpy/core\n",
      "  creating build/temp.macosx-11.1-arm64-3.9/numpy/core/src\n",
      "  creating build/temp.macosx-11.1-arm64-3.9/numpy/core/src/npymath\n",
      "  creating build/temp.macosx-11.1-arm64-3.9/build\n",
      "  creating build/temp.macosx-11.1-arm64-3.9/build/src.macosx-11.1-arm64-3.9\n",
      "  creating build/temp.macosx-11.1-arm64-3.9/build/src.macosx-11.1-arm64-3.9/numpy\n",
      "  creating build/temp.macosx-11.1-arm64-3.9/build/src.macosx-11.1-arm64-3.9/numpy/core\n",
      "  creating build/temp.macosx-11.1-arm64-3.9/build/src.macosx-11.1-arm64-3.9/numpy/core/src\n",
      "  creating build/temp.macosx-11.1-arm64-3.9/build/src.macosx-11.1-arm64-3.9/numpy/core/src/npymath\n",
      "  compile options: '-Ibuild/src.macosx-11.1-arm64-3.9/numpy/core/src/npymath -Inumpy/core/include -Ibuild/src.macosx-11.1-arm64-3.9/numpy/core/include/numpy -Inumpy/core/src/common -Inumpy/core/src -Inumpy/core -Inumpy/core/src/npymath -Inumpy/core/src/multiarray -Inumpy/core/src/umath -Inumpy/core/src/npysort -I/Users/hakantekin/miniforge3/envs/tensorflow/include/python3.9 -Ibuild/src.macosx-11.1-arm64-3.9/numpy/core/src/common -Ibuild/src.macosx-11.1-arm64-3.9/numpy/core/src/npymath -c'\n",
      "  clang: build/src.macosx-11.1-arm64-3.9/numpy/core/src/npymath/ieee754.c\n",
      "  clang: numpy/core/src/npymath/npy_math.c\n",
      "  clang: numpy/core/src/npymath/halffloat.c\n",
      "  clang: build/src.macosx-11.1-arm64-3.9/numpy/core/src/npymath/npy_math_complex.c\n",
      "  In file included from numpy/core/src/npymath/npy_math.c:9:\n",
      "  numpy/core/src/npymath/npy_math_internal.h.src:490:21: warning: incompatible pointer types passing 'npy_longdouble *' (aka 'double *') to parameter of type 'long double *' [-Wincompatible-pointer-types]\n",
      "      return modfl(x, iptr);\n",
      "                      ^~~~\n",
      "  /Applications/Xcode.app/Contents/Developer/Platforms/MacOSX.platform/Developer/SDKs/MacOSX.sdk/usr/include/math.h:394:52: note: passing argument to parameter here\n",
      "  extern long double modfl(long double, long double *);\n",
      "                                                     ^\n",
      "  1 warning generated.\n",
      "  llvm-ar: adding 4 object files to build/temp.macosx-11.1-arm64-3.9/libnpymath.a\n",
      "  error: Command \"/Users/ktietz/ci_py397/python-split_1631828940513/_build_env/bin/llvm-ar rcs build/temp.macosx-11.1-arm64-3.9/libnpymath.a build/temp.macosx-11.1-arm64-3.9/numpy/core/src/npymath/npy_math.o build/temp.macosx-11.1-arm64-3.9/build/src.macosx-11.1-arm64-3.9/numpy/core/src/npymath/ieee754.o build/temp.macosx-11.1-arm64-3.9/build/src.macosx-11.1-arm64-3.9/numpy/core/src/npymath/npy_math_complex.o build/temp.macosx-11.1-arm64-3.9/numpy/core/src/npymath/halffloat.o\" failed with exit status 127\n",
      "  ----------------------------------------\u001b[0m\n",
      "\u001b[31m  ERROR: Failed building wheel for numpy\u001b[0m\n",
      "\u001b[?25hFailed to build numpy\n",
      "\u001b[31mERROR: Could not build wheels for numpy which use PEP 517 and cannot be installed directly\u001b[0m\n"
     ]
    },
    {
     "name": "stdout",
     "output_type": "stream",
     "text": [
      "Note: you may need to restart the kernel to use updated packages.\n"
     ]
    }
   ],
   "source": [
    "pip install yellowbrick"
   ]
  },
  {
   "cell_type": "code",
   "execution_count": null,
   "metadata": {
    "id": "CSUOz5302snx"
   },
   "outputs": [],
   "source": []
  },
  {
   "cell_type": "markdown",
   "metadata": {
    "id": "90HfPd4w2sn1"
   },
   "source": [
    "#### Prediction"
   ]
  },
  {
   "cell_type": "markdown",
   "metadata": {
    "id": "z9P157eX2sn2"
   },
   "source": [
    "### #KNeighbors Classifier"
   ]
  },
  {
   "cell_type": "markdown",
   "metadata": {
    "id": "QPakx2ON2sn3"
   },
   "source": [
    "#### Model Building"
   ]
  },
  {
   "cell_type": "code",
   "execution_count": 60,
   "metadata": {
    "id": "HkNI16f72sn4"
   },
   "outputs": [],
   "source": [
    "from sklearn.neighbors import KNeighborsClassifier"
   ]
  },
  {
   "cell_type": "code",
   "execution_count": 61,
   "metadata": {},
   "outputs": [],
   "source": [
    "knn_model = KNeighborsClassifier(n_neighbors=5)"
   ]
  },
  {
   "cell_type": "code",
   "execution_count": 62,
   "metadata": {},
   "outputs": [
    {
     "data": {
      "text/plain": [
       "KNeighborsClassifier()"
      ]
     },
     "execution_count": 62,
     "metadata": {},
     "output_type": "execute_result"
    }
   ],
   "source": [
    "knn_model.fit(X_train_scaled,y_train)"
   ]
  },
  {
   "cell_type": "code",
   "execution_count": 63,
   "metadata": {},
   "outputs": [
    {
     "data": {
      "text/plain": [
       "array([0, 0, 0, ..., 0, 1, 0])"
      ]
     },
     "execution_count": 63,
     "metadata": {},
     "output_type": "execute_result"
    }
   ],
   "source": [
    "y_pred = knn_model.predict(X_test_scaled)\n",
    "y_pred"
   ]
  },
  {
   "cell_type": "code",
   "execution_count": 64,
   "metadata": {},
   "outputs": [
    {
     "name": "stdout",
     "output_type": "stream",
     "text": [
      "Test_Set\n",
      "[[3380   49]\n",
      " [  68 1003]]\n",
      "              precision    recall  f1-score   support\n",
      "\n",
      "           0       0.98      0.99      0.98      3429\n",
      "           1       0.95      0.94      0.94      1071\n",
      "\n",
      "    accuracy                           0.97      4500\n",
      "   macro avg       0.97      0.96      0.96      4500\n",
      "weighted avg       0.97      0.97      0.97      4500\n",
      "\n",
      "\n",
      "Train_Set\n",
      "[[7934   65]\n",
      " [ 174 2326]]\n",
      "              precision    recall  f1-score   support\n",
      "\n",
      "           0       0.98      0.99      0.99      7999\n",
      "           1       0.97      0.93      0.95      2500\n",
      "\n",
      "    accuracy                           0.98     10499\n",
      "   macro avg       0.98      0.96      0.97     10499\n",
      "weighted avg       0.98      0.98      0.98     10499\n",
      "\n"
     ]
    }
   ],
   "source": [
    "eval_metric(grad_model, X_train, y_train, X_test, y_test)"
   ]
  },
  {
   "cell_type": "markdown",
   "metadata": {
    "id": "MdGymWJ_2sn9"
   },
   "source": [
    "#### Evaluating Model Performance"
   ]
  },
  {
   "cell_type": "code",
   "execution_count": 65,
   "metadata": {},
   "outputs": [],
   "source": [
    "test_error_rates = []\n",
    "train_error_rates = []\n",
    "\n",
    "\n",
    "for k in range(1,30):\n",
    "    knn_model = KNeighborsClassifier(n_neighbors=k)\n",
    "    knn_model.fit(X_train_scaled,y_train) \n",
    "   \n",
    "    y_pred_test = knn_model.predict(X_test_scaled)\n",
    "    y_pred_train = knn_model.predict(X_train_scaled)\n",
    "    \n",
    "    test_error = 1 - accuracy_score(y_test,y_pred_test)\n",
    "    train_error = 1 - accuracy_score(y_train,y_pred_train)\n",
    "    test_error_rates.append(test_error)\n",
    "    train_error_rates.append(train_error)"
   ]
  },
  {
   "cell_type": "code",
   "execution_count": 66,
   "metadata": {},
   "outputs": [
    {
     "data": {
      "text/plain": [
       "<matplotlib.collections.LineCollection at 0x15ca07070>"
      ]
     },
     "execution_count": 66,
     "metadata": {},
     "output_type": "execute_result"
    },
    {
     "data": {
      "image/png": "[encoded data removed]",
      "text/plain": [
       "<Figure size 1080x576 with 1 Axes>"
      ]
     },
     "metadata": {
      "needs_background": "light"
     },
     "output_type": "display_data"
    }
   ],
   "source": [
    "plt.figure(figsize=(15,8))\n",
    "plt.plot(range(1,30), test_error_rates, color='blue', linestyle='--', marker='o',\n",
    "         markerfacecolor='red', markersize=10)\n",
    "plt.plot(range(1,30), train_error_rates, color='green', linestyle='--', marker='o',\n",
    "         markerfacecolor='blue', markersize=10)\n",
    "plt.title('Error Rate vs. K Value')\n",
    "plt.xlabel('K_values')\n",
    "plt.ylabel('Error Rate')\n",
    "plt.hlines(y=0.051, xmin = 0, xmax = 30, colors= 'r', linestyles=\"--\")\n",
    "plt.hlines(y=0.057, xmin = 0, xmax = 30, colors= 'r', linestyles=\"--\")"
   ]
  },
  {
   "cell_type": "code",
   "execution_count": 67,
   "metadata": {},
   "outputs": [
    {
     "name": "stdout",
     "output_type": "stream",
     "text": [
      "Test_Set\n",
      "[[3380   49]\n",
      " [  68 1003]]\n",
      "              precision    recall  f1-score   support\n",
      "\n",
      "           0       0.98      0.99      0.98      3429\n",
      "           1       0.95      0.94      0.94      1071\n",
      "\n",
      "    accuracy                           0.97      4500\n",
      "   macro avg       0.97      0.96      0.96      4500\n",
      "weighted avg       0.97      0.97      0.97      4500\n",
      "\n",
      "\n",
      "Train_Set\n",
      "[[7934   65]\n",
      " [ 174 2326]]\n",
      "              precision    recall  f1-score   support\n",
      "\n",
      "           0       0.98      0.99      0.99      7999\n",
      "           1       0.97      0.93      0.95      2500\n",
      "\n",
      "    accuracy                           0.98     10499\n",
      "   macro avg       0.98      0.96      0.97     10499\n",
      "weighted avg       0.98      0.98      0.98     10499\n",
      "\n"
     ]
    }
   ],
   "source": [
    "model = KNeighborsClassifier(n_neighbors=10)\n",
    "knn_model.fit(X_train_scaled,y_train)\n",
    "y_pred = knn_model.predict(X_test_scaled)\n",
    "eval_metric(grad_model, X_train, y_train, X_test, y_test)"
   ]
  },
  {
   "cell_type": "code",
   "execution_count": 68,
   "metadata": {},
   "outputs": [
    {
     "name": "stdout",
     "output_type": "stream",
     "text": [
      "Test_Set\n",
      "[[3380   49]\n",
      " [  68 1003]]\n",
      "              precision    recall  f1-score   support\n",
      "\n",
      "           0       0.98      0.99      0.98      3429\n",
      "           1       0.95      0.94      0.94      1071\n",
      "\n",
      "    accuracy                           0.97      4500\n",
      "   macro avg       0.97      0.96      0.96      4500\n",
      "weighted avg       0.97      0.97      0.97      4500\n",
      "\n",
      "\n",
      "Train_Set\n",
      "[[7934   65]\n",
      " [ 174 2326]]\n",
      "              precision    recall  f1-score   support\n",
      "\n",
      "           0       0.98      0.99      0.99      7999\n",
      "           1       0.97      0.93      0.95      2500\n",
      "\n",
      "    accuracy                           0.98     10499\n",
      "   macro avg       0.98      0.96      0.97     10499\n",
      "weighted avg       0.98      0.98      0.98     10499\n",
      "\n"
     ]
    }
   ],
   "source": [
    "model = KNeighborsClassifier(n_neighbors=20)\n",
    "knn_model.fit(X_train_scaled,y_train)\n",
    "y_pred = knn_model.predict(X_test_scaled)\n",
    "eval_metric(grad_model, X_train, y_train, X_test, y_test)"
   ]
  },
  {
   "cell_type": "code",
   "execution_count": 69,
   "metadata": {},
   "outputs": [],
   "source": [
    "from sklearn.model_selection import cross_val_score, cross_validate"
   ]
  },
  {
   "cell_type": "code",
   "execution_count": 70,
   "metadata": {},
   "outputs": [
    {
     "data": {
      "text/html": [
       "<div>\n",
       "<style scoped>\n",
       "    .dataframe tbody tr th:only-of-type {\n",
       "        vertical-align: middle;\n",
       "    }\n",
       "\n",
       "    .dataframe tbody tr th {\n",
       "        vertical-align: top;\n",
       "    }\n",
       "\n",
       "    .dataframe thead th {\n",
       "        text-align: right;\n",
       "    }\n",
       "</style>\n",
       "<table border=\"1\" class=\"dataframe\">\n",
       "  <thead>\n",
       "    <tr style=\"text-align: right;\">\n",
       "      <th></th>\n",
       "      <th>fit_time</th>\n",
       "      <th>score_time</th>\n",
       "      <th>test_accuracy</th>\n",
       "      <th>test_precision</th>\n",
       "      <th>test_recall</th>\n",
       "      <th>test_f1</th>\n",
       "    </tr>\n",
       "  </thead>\n",
       "  <tbody>\n",
       "    <tr>\n",
       "      <th>1</th>\n",
       "      <td>0.001999</td>\n",
       "      <td>0.193273</td>\n",
       "      <td>0.949524</td>\n",
       "      <td>0.895582</td>\n",
       "      <td>0.892</td>\n",
       "      <td>0.893788</td>\n",
       "    </tr>\n",
       "    <tr>\n",
       "      <th>2</th>\n",
       "      <td>0.000934</td>\n",
       "      <td>0.165573</td>\n",
       "      <td>0.939048</td>\n",
       "      <td>0.852273</td>\n",
       "      <td>0.900</td>\n",
       "      <td>0.875486</td>\n",
       "    </tr>\n",
       "    <tr>\n",
       "      <th>3</th>\n",
       "      <td>0.000991</td>\n",
       "      <td>0.175636</td>\n",
       "      <td>0.940000</td>\n",
       "      <td>0.861004</td>\n",
       "      <td>0.892</td>\n",
       "      <td>0.876228</td>\n",
       "    </tr>\n",
       "    <tr>\n",
       "      <th>4</th>\n",
       "      <td>0.001087</td>\n",
       "      <td>0.183373</td>\n",
       "      <td>0.939048</td>\n",
       "      <td>0.884298</td>\n",
       "      <td>0.856</td>\n",
       "      <td>0.869919</td>\n",
       "    </tr>\n",
       "    <tr>\n",
       "      <th>5</th>\n",
       "      <td>0.001254</td>\n",
       "      <td>0.162882</td>\n",
       "      <td>0.951429</td>\n",
       "      <td>0.896414</td>\n",
       "      <td>0.900</td>\n",
       "      <td>0.898204</td>\n",
       "    </tr>\n",
       "    <tr>\n",
       "      <th>6</th>\n",
       "      <td>0.000806</td>\n",
       "      <td>0.149960</td>\n",
       "      <td>0.927619</td>\n",
       "      <td>0.842520</td>\n",
       "      <td>0.856</td>\n",
       "      <td>0.849206</td>\n",
       "    </tr>\n",
       "    <tr>\n",
       "      <th>7</th>\n",
       "      <td>0.000784</td>\n",
       "      <td>0.171826</td>\n",
       "      <td>0.922857</td>\n",
       "      <td>0.844898</td>\n",
       "      <td>0.828</td>\n",
       "      <td>0.836364</td>\n",
       "    </tr>\n",
       "    <tr>\n",
       "      <th>8</th>\n",
       "      <td>0.001061</td>\n",
       "      <td>0.168655</td>\n",
       "      <td>0.935238</td>\n",
       "      <td>0.858268</td>\n",
       "      <td>0.872</td>\n",
       "      <td>0.865079</td>\n",
       "    </tr>\n",
       "    <tr>\n",
       "      <th>9</th>\n",
       "      <td>0.000781</td>\n",
       "      <td>0.155335</td>\n",
       "      <td>0.920952</td>\n",
       "      <td>0.843621</td>\n",
       "      <td>0.820</td>\n",
       "      <td>0.831643</td>\n",
       "    </tr>\n",
       "    <tr>\n",
       "      <th>10</th>\n",
       "      <td>0.000712</td>\n",
       "      <td>0.149716</td>\n",
       "      <td>0.937083</td>\n",
       "      <td>0.900000</td>\n",
       "      <td>0.828</td>\n",
       "      <td>0.862500</td>\n",
       "    </tr>\n",
       "  </tbody>\n",
       "</table>\n",
       "</div>"
      ],
      "text/plain": [
       "    fit_time  score_time  test_accuracy  test_precision  test_recall   test_f1\n",
       "1   0.001999    0.193273       0.949524        0.895582        0.892  0.893788\n",
       "2   0.000934    0.165573       0.939048        0.852273        0.900  0.875486\n",
       "3   0.000991    0.175636       0.940000        0.861004        0.892  0.876228\n",
       "4   0.001087    0.183373       0.939048        0.884298        0.856  0.869919\n",
       "5   0.001254    0.162882       0.951429        0.896414        0.900  0.898204\n",
       "6   0.000806    0.149960       0.927619        0.842520        0.856  0.849206\n",
       "7   0.000784    0.171826       0.922857        0.844898        0.828  0.836364\n",
       "8   0.001061    0.168655       0.935238        0.858268        0.872  0.865079\n",
       "9   0.000781    0.155335       0.920952        0.843621        0.820  0.831643\n",
       "10  0.000712    0.149716       0.937083        0.900000        0.828  0.862500"
      ]
     },
     "execution_count": 70,
     "metadata": {},
     "output_type": "execute_result"
    }
   ],
   "source": [
    "model = KNeighborsClassifier(n_neighbors=10)\n",
    "\n",
    "scores = cross_validate(model, X_train_scaled, y_train, scoring = ['accuracy', 'precision','recall',\n",
    "                                                                   'f1'], cv = 10)\n",
    "df_scores = pd.DataFrame(scores, index = range(1, 11))\n",
    "df_scores"
   ]
  },
  {
   "cell_type": "code",
   "execution_count": null,
   "metadata": {
    "id": "TPF_wziW2soC"
   },
   "outputs": [],
   "source": []
  },
  {
   "cell_type": "markdown",
   "metadata": {
    "id": "_BYTdWlr2soJ"
   },
   "source": [
    "#### Prediction"
   ]
  },
  {
   "cell_type": "code",
   "execution_count": 71,
   "metadata": {},
   "outputs": [
    {
     "data": {
      "text/html": [
       "<div>\n",
       "<style scoped>\n",
       "    .dataframe tbody tr th:only-of-type {\n",
       "        vertical-align: middle;\n",
       "    }\n",
       "\n",
       "    .dataframe tbody tr th {\n",
       "        vertical-align: top;\n",
       "    }\n",
       "\n",
       "    .dataframe thead th {\n",
       "        text-align: right;\n",
       "    }\n",
       "</style>\n",
       "<table border=\"1\" class=\"dataframe\">\n",
       "  <thead>\n",
       "    <tr style=\"text-align: right;\">\n",
       "      <th></th>\n",
       "      <th>satisfaction_level</th>\n",
       "      <th>last_evaluation</th>\n",
       "      <th>number_project</th>\n",
       "      <th>average_montly_hours</th>\n",
       "      <th>time_spend_company</th>\n",
       "      <th>Work_accident</th>\n",
       "      <th>promotion_last_5years</th>\n",
       "      <th>salary</th>\n",
       "      <th>Departments_RandD</th>\n",
       "      <th>Departments_accounting</th>\n",
       "      <th>Departments_hr</th>\n",
       "      <th>Departments_management</th>\n",
       "      <th>Departments_marketing</th>\n",
       "      <th>Departments_product_mng</th>\n",
       "      <th>Departments_sales</th>\n",
       "      <th>Departments_support</th>\n",
       "      <th>Departments_technical</th>\n",
       "    </tr>\n",
       "  </thead>\n",
       "  <tbody>\n",
       "    <tr>\n",
       "      <th>0</th>\n",
       "      <td>0.38</td>\n",
       "      <td>0.53</td>\n",
       "      <td>2</td>\n",
       "      <td>157</td>\n",
       "      <td>3</td>\n",
       "      <td>0</td>\n",
       "      <td>0</td>\n",
       "      <td>1</td>\n",
       "      <td>0</td>\n",
       "      <td>0</td>\n",
       "      <td>0</td>\n",
       "      <td>0</td>\n",
       "      <td>0</td>\n",
       "      <td>0</td>\n",
       "      <td>1</td>\n",
       "      <td>0</td>\n",
       "      <td>0</td>\n",
       "    </tr>\n",
       "    <tr>\n",
       "      <th>1</th>\n",
       "      <td>0.80</td>\n",
       "      <td>0.86</td>\n",
       "      <td>5</td>\n",
       "      <td>262</td>\n",
       "      <td>6</td>\n",
       "      <td>0</td>\n",
       "      <td>0</td>\n",
       "      <td>2</td>\n",
       "      <td>0</td>\n",
       "      <td>0</td>\n",
       "      <td>0</td>\n",
       "      <td>0</td>\n",
       "      <td>0</td>\n",
       "      <td>0</td>\n",
       "      <td>1</td>\n",
       "      <td>0</td>\n",
       "      <td>0</td>\n",
       "    </tr>\n",
       "    <tr>\n",
       "      <th>2</th>\n",
       "      <td>0.11</td>\n",
       "      <td>0.88</td>\n",
       "      <td>7</td>\n",
       "      <td>272</td>\n",
       "      <td>4</td>\n",
       "      <td>0</td>\n",
       "      <td>0</td>\n",
       "      <td>2</td>\n",
       "      <td>0</td>\n",
       "      <td>0</td>\n",
       "      <td>0</td>\n",
       "      <td>0</td>\n",
       "      <td>0</td>\n",
       "      <td>0</td>\n",
       "      <td>1</td>\n",
       "      <td>0</td>\n",
       "      <td>0</td>\n",
       "    </tr>\n",
       "    <tr>\n",
       "      <th>3</th>\n",
       "      <td>0.72</td>\n",
       "      <td>0.87</td>\n",
       "      <td>5</td>\n",
       "      <td>223</td>\n",
       "      <td>5</td>\n",
       "      <td>0</td>\n",
       "      <td>0</td>\n",
       "      <td>1</td>\n",
       "      <td>0</td>\n",
       "      <td>0</td>\n",
       "      <td>0</td>\n",
       "      <td>0</td>\n",
       "      <td>0</td>\n",
       "      <td>0</td>\n",
       "      <td>1</td>\n",
       "      <td>0</td>\n",
       "      <td>0</td>\n",
       "    </tr>\n",
       "    <tr>\n",
       "      <th>4</th>\n",
       "      <td>0.37</td>\n",
       "      <td>0.52</td>\n",
       "      <td>2</td>\n",
       "      <td>159</td>\n",
       "      <td>3</td>\n",
       "      <td>0</td>\n",
       "      <td>0</td>\n",
       "      <td>1</td>\n",
       "      <td>0</td>\n",
       "      <td>0</td>\n",
       "      <td>0</td>\n",
       "      <td>0</td>\n",
       "      <td>0</td>\n",
       "      <td>0</td>\n",
       "      <td>1</td>\n",
       "      <td>0</td>\n",
       "      <td>0</td>\n",
       "    </tr>\n",
       "  </tbody>\n",
       "</table>\n",
       "</div>"
      ],
      "text/plain": [
       "   satisfaction_level  last_evaluation  number_project  average_montly_hours  \\\n",
       "0                0.38             0.53               2                   157   \n",
       "1                0.80             0.86               5                   262   \n",
       "2                0.11             0.88               7                   272   \n",
       "3                0.72             0.87               5                   223   \n",
       "4                0.37             0.52               2                   159   \n",
       "\n",
       "   time_spend_company  Work_accident  promotion_last_5years  salary  \\\n",
       "0                   3              0                      0       1   \n",
       "1                   6              0                      0       2   \n",
       "2                   4              0                      0       2   \n",
       "3                   5              0                      0       1   \n",
       "4                   3              0                      0       1   \n",
       "\n",
       "   Departments_RandD  Departments_accounting  Departments_hr  \\\n",
       "0                  0                       0               0   \n",
       "1                  0                       0               0   \n",
       "2                  0                       0               0   \n",
       "3                  0                       0               0   \n",
       "4                  0                       0               0   \n",
       "\n",
       "   Departments_management  Departments_marketing  Departments_product_mng  \\\n",
       "0                       0                      0                        0   \n",
       "1                       0                      0                        0   \n",
       "2                       0                      0                        0   \n",
       "3                       0                      0                        0   \n",
       "4                       0                      0                        0   \n",
       "\n",
       "   Departments_sales  Departments_support  Departments_technical  \n",
       "0                  1                    0                      0  \n",
       "1                  1                    0                      0  \n",
       "2                  1                    0                      0  \n",
       "3                  1                    0                      0  \n",
       "4                  1                    0                      0  "
      ]
     },
     "execution_count": 71,
     "metadata": {},
     "output_type": "execute_result"
    }
   ],
   "source": [
    "X.head()"
   ]
  },
  {
   "cell_type": "code",
   "execution_count": 72,
   "metadata": {},
   "outputs": [
    {
     "data": {
      "text/plain": [
       "Index(['satisfaction_level', 'last_evaluation', 'number_project',\n",
       "       'average_montly_hours', 'time_spend_company', 'Work_accident',\n",
       "       'promotion_last_5years', 'salary', 'Departments_RandD',\n",
       "       'Departments_accounting', 'Departments_hr', 'Departments_management',\n",
       "       'Departments_marketing', 'Departments_product_mng', 'Departments_sales',\n",
       "       'Departments_support', 'Departments_technical'],\n",
       "      dtype='object')"
      ]
     },
     "execution_count": 72,
     "metadata": {},
     "output_type": "execute_result"
    }
   ],
   "source": [
    "X.columns"
   ]
  },
  {
   "cell_type": "markdown",
   "metadata": {
    "id": "PfMy1D_p2soK"
   },
   "source": [
    "### #Random Forest Classifier"
   ]
  },
  {
   "cell_type": "code",
   "execution_count": 73,
   "metadata": {},
   "outputs": [],
   "source": [
    "from sklearn.tree import DecisionTreeClassifier\n",
    "from sklearn.metrics import confusion_matrix, classification_report, accuracy_score, recall_score, precision_score, f1_score\n",
    "from sklearn.model_selection import cross_val_score, cross_validate\n",
    "from sklearn.model_selection import GridSearchCV"
   ]
  },
  {
   "cell_type": "code",
   "execution_count": 74,
   "metadata": {},
   "outputs": [
    {
     "name": "stdout",
     "output_type": "stream",
     "text": [
      "Test_Set\n",
      "[[3359   70]\n",
      " [  35 1036]]\n",
      "              precision    recall  f1-score   support\n",
      "\n",
      "           0       0.99      0.98      0.98      3429\n",
      "           1       0.94      0.97      0.95      1071\n",
      "\n",
      "    accuracy                           0.98      4500\n",
      "   macro avg       0.96      0.97      0.97      4500\n",
      "weighted avg       0.98      0.98      0.98      4500\n",
      "\n",
      "\n",
      "Train_Set\n",
      "[[7999    0]\n",
      " [   0 2500]]\n",
      "              precision    recall  f1-score   support\n",
      "\n",
      "           0       1.00      1.00      1.00      7999\n",
      "           1       1.00      1.00      1.00      2500\n",
      "\n",
      "    accuracy                           1.00     10499\n",
      "   macro avg       1.00      1.00      1.00     10499\n",
      "weighted avg       1.00      1.00      1.00     10499\n",
      "\n"
     ]
    }
   ],
   "source": [
    "dt_model = DecisionTreeClassifier(random_state=101)\n",
    "dt_model.fit(X_train, y_train)\n",
    "eval_metric(dt_model, X_train, y_train, X_test, y_test)"
   ]
  },
  {
   "cell_type": "code",
   "execution_count": 75,
   "metadata": {},
   "outputs": [
    {
     "data": {
      "text/plain": [
       "test_accuracy           0.977045\n",
       "test_precision_micro    0.977045\n",
       "test_recall_micro       0.977045\n",
       "test_f1_micro           0.977045\n",
       "dtype: float64"
      ]
     },
     "execution_count": 75,
     "metadata": {},
     "output_type": "execute_result"
    }
   ],
   "source": [
    "model = DecisionTreeClassifier(random_state=101)\n",
    "\n",
    "scores = cross_validate(model, X_train, y_train, scoring = [\"accuracy\", \"precision_micro\", \"recall_micro\", \"f1_micro\"], cv = 10)\n",
    "df_scores = pd.DataFrame(scores, index = range(1, 11))\n",
    "df_scores.mean()[2:]"
   ]
  },
  {
   "cell_type": "markdown",
   "metadata": {
    "id": "M4GifMUw2soL"
   },
   "source": [
    "#### Model Building"
   ]
  },
  {
   "cell_type": "code",
   "execution_count": null,
   "metadata": {
    "id": "uhjBZQbu2soN"
   },
   "outputs": [],
   "source": []
  },
  {
   "cell_type": "markdown",
   "metadata": {
    "id": "xRUPvrME2soc"
   },
   "source": [
    "#### Evaluating Model Performance"
   ]
  },
  {
   "cell_type": "code",
   "execution_count": null,
   "metadata": {
    "id": "tXKuonpN2soe"
   },
   "outputs": [],
   "source": []
  },
  {
   "cell_type": "markdown",
   "metadata": {
    "id": "SKLtTwJ82som"
   },
   "source": [
    "#### Prediction"
   ]
  },
  {
   "cell_type": "code",
   "execution_count": null,
   "metadata": {
    "id": "QdFUSrml2sop"
   },
   "outputs": [],
   "source": []
  },
  {
   "cell_type": "markdown",
   "metadata": {
    "id": "Hv7E8XsazFMM"
   },
   "source": [
    "## 6. Model Deployement\n",
    "\n",
    "You cooked the food in the kitchen and moved on to the serving stage. The question is how do you showcase your work to others? Model Deployement helps you showcase your work to the world and make better decisions with it. But, deploying a model can get a little tricky at times. Before deploying the model, many things such as data storage, preprocessing, model building and monitoring need to be studied. Streamlit is a popular open source framework used by data scientists for model distribution.\n",
    "\n",
    "Deployment of machine learning models, means making your models available to your other business systems. By deploying models, other systems can send data to them and get their predictions, which are in turn populated back into the company systems. Through machine learning model deployment, can begin to take full advantage of the model you built.\n",
    "\n",
    "Data science is concerned with how to build machine learning models, which algorithm is more predictive, how to design features, and what variables to use to make the models more accurate. However, how these models are actually used is often neglected. And yet this is the most important step in the machine learning pipline. Only when a model is fully integrated with the business systems, real values ​​can be extract from its predictions.\n",
    "\n",
    "After doing the following operations in this notebook, jump to new .py file and create your web app with Streamlit."
   ]
  },
  {
   "cell_type": "markdown",
   "metadata": {
    "id": "m5pwXBOkJPeM"
   },
   "source": [
    "### Save and Export the Model as .pkl"
   ]
  },
  {
   "cell_type": "code",
   "execution_count": null,
   "metadata": {
    "id": "mmlin9CEzFr7"
   },
   "outputs": [],
   "source": []
  },
  {
   "cell_type": "markdown",
   "metadata": {
    "id": "r7sGSN6RJR6V"
   },
   "source": [
    "### Save and Export Variables as .pkl"
   ]
  },
  {
   "cell_type": "code",
   "execution_count": null,
   "metadata": {
    "id": "2WeQNcROJScb"
   },
   "outputs": [],
   "source": []
  },
  {
   "cell_type": "markdown",
   "metadata": {
    "id": "aD6JV41czCKr"
   },
   "source": [
    "___\n",
    "\n",
    "<p style=\"text-align: center;\"><img src=\"https://docs.google.com/uc?id=1lY0Uj5R04yMY3-ZppPWxqCr5pvBLYPnV\" class=\"img-fluid\" alt=\"CLRSWY\"></p>\n",
    "\n",
    "___"
   ]
  }
 ],
 "metadata": {
  "colab": {
   "collapsed_sections": [],
   "name": "Churn Prediction_Student_Notebook.ipynb",
   "provenance": []
  },
  "kernelspec": {
   "display_name": "Python 3.9 (tensorflow)",
   "language": "python",
   "name": "tensorflow"
  },
  "language_info": {
   "codemirror_mode": {
    "name": "ipython",
    "version": 3
   },
   "file_extension": ".py",
   "mimetype": "text/x-python",
   "name": "python",
   "nbconvert_exporter": "python",
   "pygments_lexer": "ipython3",
   "version": "3.9.7"
  }
 },
 "nbformat": 4,
 "nbformat_minor": 1
}
