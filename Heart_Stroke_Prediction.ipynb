{
 "cells": [
  {
   "cell_type": "markdown",
   "id": "KI0TtW1tvm_r",
   "metadata": {
    "id": "KI0TtW1tvm_r"
   },
   "source": [
    "___\n",
    "\n",
    "<p style=\"text-align: center;\"><img src=\"https://docs.google.com/uc?id=1lY0Uj5R04yMY3-ZppPWxqCr5pvBLYPnV\" class=\"img-fluid\" alt=\"CLRSWY\"></p>\n",
    "\n",
    "___"
   ]
  },
  {
   "cell_type": "markdown",
   "id": "392a02f0-fdda-44ae-a0fc-97f3b03924a9",
   "metadata": {
    "id": "392a02f0-fdda-44ae-a0fc-97f3b03924a9"
   },
   "source": [
    "Data vocabulary:\n",
    "\n",
    "1. #3 (age): age in years \n",
    "2. #4 (sex): sex (1 = male; 0 = female) \n",
    "3. #9 (cp): cp: chest pain type | Value 0: typical angina | Value 1: atypical angina | Value 2: non-anginal pain | Value 3: asymptomatic \n",
    "4. #10 (trestbps): resting blood pressure (in mm Hg on admission to the hospital) \n",
    "5. #12 (chol): serum cholestoral in mg/dl \n",
    "6. #16 (fbs): (fasting blood sugar > 120 mg/dl) (1 = true; 0 = false) \n",
    "7. #19 (restecg): resting electrocardiographic results | Value 0: normal | Value 1: having ST-T wave abnormality (T wave inversions and/or ST elevation or depression of > 0.05 mV) | Value 2: showing probable or definite left ventricular hypertrophy by Estes' criteria \n",
    "8. #32 (thalach): maximum heart rate achieved \n",
    "9. #38 (exang): exercise induced angina (1 = yes; 0 = no) \n",
    "10. #40 (oldpeak): ST depression induced by exercise relative to rest \n",
    "11. #41 (slope): the slope of the peak exercise ST segment | Value 1: upsloping | Value 2: flat | Value 3: downsloping \n",
    "12. #44 (ca): number of major vessels (0-3) colored by flourosopy \n",
    "13. #51 (thal): 3 = normal; 6 = fixed defect; 7 = reversable defect \n",
    "14. #58 (num) (the predicted attribute): Value 0: < 50% diameter narrowing | Value 1: > 50% diameter narrowing "
   ]
  },
  {
   "cell_type": "markdown",
   "id": "2kuJJ54iwAlk",
   "metadata": {
    "id": "2kuJJ54iwAlk"
   },
   "source": [
    "# Import esential Libraries"
   ]
  },
  {
   "cell_type": "code",
   "execution_count": null,
   "id": "d2f67c2a-c903-4b6c-bcda-2d69e2619192",
   "metadata": {
    "id": "d2f67c2a-c903-4b6c-bcda-2d69e2619192",
    "scrolled": true
   },
   "outputs": [],
   "source": [
    "import numpy as np\n",
    "import pandas as pd\n",
    "import seaborn as sns\n",
    "import matplotlib.pyplot as plt\n",
    "\n",
    "plt.rcParams[\"figure.figsize\"] = (10,6)\n",
    "import warnings\n",
    "warnings.filterwarnings(\"ignore\")\n",
    "warnings.warn(\"this will not show\")\n",
    "pd.set_option('display.float_format', lambda x: '%.3f' % x)"
   ]
  },
  {
   "cell_type": "markdown",
   "id": "6Qn_DjhPwKRF",
   "metadata": {
    "id": "6Qn_DjhPwKRF"
   },
   "source": [
    "# Ingest the data to notebook"
   ]
  },
  {
   "cell_type": "code",
   "execution_count": 268,
   "id": "542d4531-d67c-4a30-a836-dc31795ff0e8",
   "metadata": {
    "id": "542d4531-d67c-4a30-a836-dc31795ff0e8",
    "scrolled": true
   },
   "outputs": [],
   "source": [
    "df = pd.read_csv('heart.csv')"
   ]
  },
  {
   "cell_type": "code",
   "execution_count": 269,
   "id": "666b51b4",
   "metadata": {
    "scrolled": true
   },
   "outputs": [
    {
     "data": {
      "text/html": [
       "<div>\n",
       "<style scoped>\n",
       "    .dataframe tbody tr th:only-of-type {\n",
       "        vertical-align: middle;\n",
       "    }\n",
       "\n",
       "    .dataframe tbody tr th {\n",
       "        vertical-align: top;\n",
       "    }\n",
       "\n",
       "    .dataframe thead th {\n",
       "        text-align: right;\n",
       "    }\n",
       "</style>\n",
       "<table border=\"1\" class=\"dataframe\">\n",
       "  <thead>\n",
       "    <tr style=\"text-align: right;\">\n",
       "      <th></th>\n",
       "      <th>age</th>\n",
       "      <th>sex</th>\n",
       "      <th>cp</th>\n",
       "      <th>trestbps</th>\n",
       "      <th>chol</th>\n",
       "      <th>fbs</th>\n",
       "      <th>restecg</th>\n",
       "      <th>thalach</th>\n",
       "      <th>exang</th>\n",
       "      <th>oldpeak</th>\n",
       "      <th>slope</th>\n",
       "      <th>ca</th>\n",
       "      <th>thal</th>\n",
       "      <th>target</th>\n",
       "    </tr>\n",
       "  </thead>\n",
       "  <tbody>\n",
       "    <tr>\n",
       "      <th>0</th>\n",
       "      <td>63</td>\n",
       "      <td>1</td>\n",
       "      <td>3</td>\n",
       "      <td>145</td>\n",
       "      <td>233</td>\n",
       "      <td>1</td>\n",
       "      <td>0</td>\n",
       "      <td>150</td>\n",
       "      <td>0</td>\n",
       "      <td>2.300</td>\n",
       "      <td>0</td>\n",
       "      <td>0</td>\n",
       "      <td>1</td>\n",
       "      <td>1</td>\n",
       "    </tr>\n",
       "    <tr>\n",
       "      <th>1</th>\n",
       "      <td>37</td>\n",
       "      <td>1</td>\n",
       "      <td>2</td>\n",
       "      <td>130</td>\n",
       "      <td>250</td>\n",
       "      <td>0</td>\n",
       "      <td>1</td>\n",
       "      <td>187</td>\n",
       "      <td>0</td>\n",
       "      <td>3.500</td>\n",
       "      <td>0</td>\n",
       "      <td>0</td>\n",
       "      <td>2</td>\n",
       "      <td>1</td>\n",
       "    </tr>\n",
       "    <tr>\n",
       "      <th>2</th>\n",
       "      <td>41</td>\n",
       "      <td>0</td>\n",
       "      <td>1</td>\n",
       "      <td>130</td>\n",
       "      <td>204</td>\n",
       "      <td>0</td>\n",
       "      <td>0</td>\n",
       "      <td>172</td>\n",
       "      <td>0</td>\n",
       "      <td>1.400</td>\n",
       "      <td>2</td>\n",
       "      <td>0</td>\n",
       "      <td>2</td>\n",
       "      <td>1</td>\n",
       "    </tr>\n",
       "    <tr>\n",
       "      <th>3</th>\n",
       "      <td>56</td>\n",
       "      <td>1</td>\n",
       "      <td>1</td>\n",
       "      <td>120</td>\n",
       "      <td>236</td>\n",
       "      <td>0</td>\n",
       "      <td>1</td>\n",
       "      <td>178</td>\n",
       "      <td>0</td>\n",
       "      <td>0.800</td>\n",
       "      <td>2</td>\n",
       "      <td>0</td>\n",
       "      <td>2</td>\n",
       "      <td>1</td>\n",
       "    </tr>\n",
       "    <tr>\n",
       "      <th>4</th>\n",
       "      <td>57</td>\n",
       "      <td>0</td>\n",
       "      <td>0</td>\n",
       "      <td>120</td>\n",
       "      <td>354</td>\n",
       "      <td>0</td>\n",
       "      <td>1</td>\n",
       "      <td>163</td>\n",
       "      <td>1</td>\n",
       "      <td>0.600</td>\n",
       "      <td>2</td>\n",
       "      <td>0</td>\n",
       "      <td>2</td>\n",
       "      <td>1</td>\n",
       "    </tr>\n",
       "  </tbody>\n",
       "</table>\n",
       "</div>"
      ],
      "text/plain": [
       "   age  sex  cp  trestbps  chol  fbs  restecg  thalach  exang  oldpeak  slope  \\\n",
       "0   63    1   3       145   233    1        0      150      0    2.300      0   \n",
       "1   37    1   2       130   250    0        1      187      0    3.500      0   \n",
       "2   41    0   1       130   204    0        0      172      0    1.400      2   \n",
       "3   56    1   1       120   236    0        1      178      0    0.800      2   \n",
       "4   57    0   0       120   354    0        1      163      1    0.600      2   \n",
       "\n",
       "   ca  thal  target  \n",
       "0   0     1       1  \n",
       "1   0     2       1  \n",
       "2   0     2       1  \n",
       "3   0     2       1  \n",
       "4   0     2       1  "
      ]
     },
     "execution_count": 269,
     "metadata": {},
     "output_type": "execute_result"
    }
   ],
   "source": [
    "df.head()"
   ]
  },
  {
   "cell_type": "markdown",
   "id": "v64txbyYwhzL",
   "metadata": {
    "id": "v64txbyYwhzL"
   },
   "source": [
    "# EDA"
   ]
  },
  {
   "cell_type": "code",
   "execution_count": 270,
   "id": "bc7eca15-a6ca-4959-a43b-d20e37bcefb3",
   "metadata": {
    "id": "bc7eca15-a6ca-4959-a43b-d20e37bcefb3",
    "scrolled": false
   },
   "outputs": [
    {
     "name": "stdout",
     "output_type": "stream",
     "text": [
      "<class 'pandas.core.frame.DataFrame'>\n",
      "RangeIndex: 303 entries, 0 to 302\n",
      "Data columns (total 14 columns):\n",
      " #   Column    Non-Null Count  Dtype  \n",
      "---  ------    --------------  -----  \n",
      " 0   age       303 non-null    int64  \n",
      " 1   sex       303 non-null    int64  \n",
      " 2   cp        303 non-null    int64  \n",
      " 3   trestbps  303 non-null    int64  \n",
      " 4   chol      303 non-null    int64  \n",
      " 5   fbs       303 non-null    int64  \n",
      " 6   restecg   303 non-null    int64  \n",
      " 7   thalach   303 non-null    int64  \n",
      " 8   exang     303 non-null    int64  \n",
      " 9   oldpeak   303 non-null    float64\n",
      " 10  slope     303 non-null    int64  \n",
      " 11  ca        303 non-null    int64  \n",
      " 12  thal      303 non-null    int64  \n",
      " 13  target    303 non-null    int64  \n",
      "dtypes: float64(1), int64(13)\n",
      "memory usage: 33.3 KB\n"
     ]
    }
   ],
   "source": [
    "df.info()"
   ]
  },
  {
   "cell_type": "code",
   "execution_count": 271,
   "id": "dea71fb9",
   "metadata": {
    "scrolled": true
   },
   "outputs": [
    {
     "data": {
      "text/plain": [
       "(303, 14)"
      ]
     },
     "execution_count": 271,
     "metadata": {},
     "output_type": "execute_result"
    }
   ],
   "source": [
    "df.shape"
   ]
  },
  {
   "cell_type": "code",
   "execution_count": 272,
   "id": "2d745f6b",
   "metadata": {
    "scrolled": false
   },
   "outputs": [
    {
     "data": {
      "text/html": [
       "<div>\n",
       "<style scoped>\n",
       "    .dataframe tbody tr th:only-of-type {\n",
       "        vertical-align: middle;\n",
       "    }\n",
       "\n",
       "    .dataframe tbody tr th {\n",
       "        vertical-align: top;\n",
       "    }\n",
       "\n",
       "    .dataframe thead th {\n",
       "        text-align: right;\n",
       "    }\n",
       "</style>\n",
       "<table border=\"1\" class=\"dataframe\">\n",
       "  <thead>\n",
       "    <tr style=\"text-align: right;\">\n",
       "      <th></th>\n",
       "      <th>count</th>\n",
       "      <th>mean</th>\n",
       "      <th>std</th>\n",
       "      <th>min</th>\n",
       "      <th>25%</th>\n",
       "      <th>50%</th>\n",
       "      <th>75%</th>\n",
       "      <th>max</th>\n",
       "    </tr>\n",
       "  </thead>\n",
       "  <tbody>\n",
       "    <tr>\n",
       "      <th>age</th>\n",
       "      <td>303.000</td>\n",
       "      <td>54.366</td>\n",
       "      <td>9.082</td>\n",
       "      <td>29.000</td>\n",
       "      <td>47.500</td>\n",
       "      <td>55.000</td>\n",
       "      <td>61.000</td>\n",
       "      <td>77.000</td>\n",
       "    </tr>\n",
       "    <tr>\n",
       "      <th>sex</th>\n",
       "      <td>303.000</td>\n",
       "      <td>0.683</td>\n",
       "      <td>0.466</td>\n",
       "      <td>0.000</td>\n",
       "      <td>0.000</td>\n",
       "      <td>1.000</td>\n",
       "      <td>1.000</td>\n",
       "      <td>1.000</td>\n",
       "    </tr>\n",
       "    <tr>\n",
       "      <th>cp</th>\n",
       "      <td>303.000</td>\n",
       "      <td>0.967</td>\n",
       "      <td>1.032</td>\n",
       "      <td>0.000</td>\n",
       "      <td>0.000</td>\n",
       "      <td>1.000</td>\n",
       "      <td>2.000</td>\n",
       "      <td>3.000</td>\n",
       "    </tr>\n",
       "    <tr>\n",
       "      <th>trestbps</th>\n",
       "      <td>303.000</td>\n",
       "      <td>131.624</td>\n",
       "      <td>17.538</td>\n",
       "      <td>94.000</td>\n",
       "      <td>120.000</td>\n",
       "      <td>130.000</td>\n",
       "      <td>140.000</td>\n",
       "      <td>200.000</td>\n",
       "    </tr>\n",
       "    <tr>\n",
       "      <th>chol</th>\n",
       "      <td>303.000</td>\n",
       "      <td>246.264</td>\n",
       "      <td>51.831</td>\n",
       "      <td>126.000</td>\n",
       "      <td>211.000</td>\n",
       "      <td>240.000</td>\n",
       "      <td>274.500</td>\n",
       "      <td>564.000</td>\n",
       "    </tr>\n",
       "    <tr>\n",
       "      <th>fbs</th>\n",
       "      <td>303.000</td>\n",
       "      <td>0.149</td>\n",
       "      <td>0.356</td>\n",
       "      <td>0.000</td>\n",
       "      <td>0.000</td>\n",
       "      <td>0.000</td>\n",
       "      <td>0.000</td>\n",
       "      <td>1.000</td>\n",
       "    </tr>\n",
       "    <tr>\n",
       "      <th>restecg</th>\n",
       "      <td>303.000</td>\n",
       "      <td>0.528</td>\n",
       "      <td>0.526</td>\n",
       "      <td>0.000</td>\n",
       "      <td>0.000</td>\n",
       "      <td>1.000</td>\n",
       "      <td>1.000</td>\n",
       "      <td>2.000</td>\n",
       "    </tr>\n",
       "    <tr>\n",
       "      <th>thalach</th>\n",
       "      <td>303.000</td>\n",
       "      <td>149.647</td>\n",
       "      <td>22.905</td>\n",
       "      <td>71.000</td>\n",
       "      <td>133.500</td>\n",
       "      <td>153.000</td>\n",
       "      <td>166.000</td>\n",
       "      <td>202.000</td>\n",
       "    </tr>\n",
       "    <tr>\n",
       "      <th>exang</th>\n",
       "      <td>303.000</td>\n",
       "      <td>0.327</td>\n",
       "      <td>0.470</td>\n",
       "      <td>0.000</td>\n",
       "      <td>0.000</td>\n",
       "      <td>0.000</td>\n",
       "      <td>1.000</td>\n",
       "      <td>1.000</td>\n",
       "    </tr>\n",
       "    <tr>\n",
       "      <th>oldpeak</th>\n",
       "      <td>303.000</td>\n",
       "      <td>1.040</td>\n",
       "      <td>1.161</td>\n",
       "      <td>0.000</td>\n",
       "      <td>0.000</td>\n",
       "      <td>0.800</td>\n",
       "      <td>1.600</td>\n",
       "      <td>6.200</td>\n",
       "    </tr>\n",
       "    <tr>\n",
       "      <th>slope</th>\n",
       "      <td>303.000</td>\n",
       "      <td>1.399</td>\n",
       "      <td>0.616</td>\n",
       "      <td>0.000</td>\n",
       "      <td>1.000</td>\n",
       "      <td>1.000</td>\n",
       "      <td>2.000</td>\n",
       "      <td>2.000</td>\n",
       "    </tr>\n",
       "    <tr>\n",
       "      <th>ca</th>\n",
       "      <td>303.000</td>\n",
       "      <td>0.729</td>\n",
       "      <td>1.023</td>\n",
       "      <td>0.000</td>\n",
       "      <td>0.000</td>\n",
       "      <td>0.000</td>\n",
       "      <td>1.000</td>\n",
       "      <td>4.000</td>\n",
       "    </tr>\n",
       "    <tr>\n",
       "      <th>thal</th>\n",
       "      <td>303.000</td>\n",
       "      <td>2.314</td>\n",
       "      <td>0.612</td>\n",
       "      <td>0.000</td>\n",
       "      <td>2.000</td>\n",
       "      <td>2.000</td>\n",
       "      <td>3.000</td>\n",
       "      <td>3.000</td>\n",
       "    </tr>\n",
       "    <tr>\n",
       "      <th>target</th>\n",
       "      <td>303.000</td>\n",
       "      <td>0.545</td>\n",
       "      <td>0.499</td>\n",
       "      <td>0.000</td>\n",
       "      <td>0.000</td>\n",
       "      <td>1.000</td>\n",
       "      <td>1.000</td>\n",
       "      <td>1.000</td>\n",
       "    </tr>\n",
       "  </tbody>\n",
       "</table>\n",
       "</div>"
      ],
      "text/plain": [
       "           count    mean    std     min     25%     50%     75%     max\n",
       "age      303.000  54.366  9.082  29.000  47.500  55.000  61.000  77.000\n",
       "sex      303.000   0.683  0.466   0.000   0.000   1.000   1.000   1.000\n",
       "cp       303.000   0.967  1.032   0.000   0.000   1.000   2.000   3.000\n",
       "trestbps 303.000 131.624 17.538  94.000 120.000 130.000 140.000 200.000\n",
       "chol     303.000 246.264 51.831 126.000 211.000 240.000 274.500 564.000\n",
       "fbs      303.000   0.149  0.356   0.000   0.000   0.000   0.000   1.000\n",
       "restecg  303.000   0.528  0.526   0.000   0.000   1.000   1.000   2.000\n",
       "thalach  303.000 149.647 22.905  71.000 133.500 153.000 166.000 202.000\n",
       "exang    303.000   0.327  0.470   0.000   0.000   0.000   1.000   1.000\n",
       "oldpeak  303.000   1.040  1.161   0.000   0.000   0.800   1.600   6.200\n",
       "slope    303.000   1.399  0.616   0.000   1.000   1.000   2.000   2.000\n",
       "ca       303.000   0.729  1.023   0.000   0.000   0.000   1.000   4.000\n",
       "thal     303.000   2.314  0.612   0.000   2.000   2.000   3.000   3.000\n",
       "target   303.000   0.545  0.499   0.000   0.000   1.000   1.000   1.000"
      ]
     },
     "execution_count": 272,
     "metadata": {},
     "output_type": "execute_result"
    }
   ],
   "source": [
    "df.describe().T"
   ]
  },
  {
   "cell_type": "code",
   "execution_count": 273,
   "id": "f8c6faf9",
   "metadata": {
    "scrolled": true
   },
   "outputs": [
    {
     "data": {
      "text/plain": [
       "age          41\n",
       "sex           2\n",
       "cp            4\n",
       "trestbps     49\n",
       "chol        152\n",
       "fbs           2\n",
       "restecg       3\n",
       "thalach      91\n",
       "exang         2\n",
       "oldpeak      40\n",
       "slope         3\n",
       "ca            5\n",
       "thal          4\n",
       "target        2\n",
       "dtype: int64"
      ]
     },
     "execution_count": 273,
     "metadata": {},
     "output_type": "execute_result"
    }
   ],
   "source": [
    "df.nunique()"
   ]
  },
  {
   "cell_type": "code",
   "execution_count": 283,
   "id": "d9885be7",
   "metadata": {},
   "outputs": [
    {
     "data": {
      "text/plain": [
       "age         0\n",
       "sex         0\n",
       "cp          0\n",
       "trestbps    0\n",
       "chol        0\n",
       "fbs         0\n",
       "restecg     0\n",
       "thalach     0\n",
       "exang       0\n",
       "oldpeak     0\n",
       "slope       0\n",
       "ca          0\n",
       "thal        0\n",
       "target      0\n",
       "dtype: int64"
      ]
     },
     "execution_count": 283,
     "metadata": {},
     "output_type": "execute_result"
    }
   ],
   "source": [
    "df.isnull().sum()"
   ]
  },
  {
   "cell_type": "code",
   "execution_count": 274,
   "id": "9c8d111a",
   "metadata": {
    "scrolled": true
   },
   "outputs": [
    {
     "data": {
      "text/plain": [
       "Index(['age', 'sex', 'cp', 'trestbps', 'chol', 'fbs', 'restecg', 'thalach',\n",
       "       'exang', 'oldpeak', 'slope', 'ca', 'thal'],\n",
       "      dtype='object')"
      ]
     },
     "execution_count": 274,
     "metadata": {},
     "output_type": "execute_result"
    }
   ],
   "source": [
    "df.columns[:-1]"
   ]
  },
  {
   "cell_type": "code",
   "execution_count": 275,
   "id": "c685a4c9",
   "metadata": {
    "scrolled": true
   },
   "outputs": [],
   "source": [
    "categorical_features=['sex', 'cp', 'fbs', 'restecg', 'exang', 'slope', 'ca', 'thal']\n",
    "numeric_features=['age', 'trestbps', 'chol', 'thalach', 'oldpeak']"
   ]
  },
  {
   "cell_type": "code",
   "execution_count": 276,
   "id": "29b415e5",
   "metadata": {},
   "outputs": [
    {
     "data": {
      "text/plain": [
       "array([3, 2, 1, 0])"
      ]
     },
     "execution_count": 276,
     "metadata": {},
     "output_type": "execute_result"
    }
   ],
   "source": [
    "df.cp.unique()"
   ]
  },
  {
   "cell_type": "code",
   "execution_count": 278,
   "id": "c1054427",
   "metadata": {
    "scrolled": true
   },
   "outputs": [],
   "source": [
    "df['cp']=df['cp'].replace({0:'typical angina',1:'atypical angina',2:'non-anginal pain',3:'asymptomatic'})"
   ]
  },
  {
   "cell_type": "code",
   "execution_count": 277,
   "id": "e3423c9c",
   "metadata": {},
   "outputs": [
    {
     "data": {
      "text/plain": [
       "array([0, 1, 2])"
      ]
     },
     "execution_count": 277,
     "metadata": {},
     "output_type": "execute_result"
    }
   ],
   "source": [
    "df.restecg.unique()"
   ]
  },
  {
   "cell_type": "code",
   "execution_count": 279,
   "id": "72f4b33b",
   "metadata": {},
   "outputs": [],
   "source": [
    "df['restecg']=df['restecg'].replace({0:'normal',1:'having ST-T wave abnormality',2:'left ventricular hypertrophy'})"
   ]
  },
  {
   "cell_type": "code",
   "execution_count": 280,
   "id": "9482b264",
   "metadata": {},
   "outputs": [
    {
     "data": {
      "text/plain": [
       "array([0, 2, 1])"
      ]
     },
     "execution_count": 280,
     "metadata": {},
     "output_type": "execute_result"
    }
   ],
   "source": [
    "df.slope.unique()"
   ]
  },
  {
   "cell_type": "code",
   "execution_count": 281,
   "id": "84c8d1ed",
   "metadata": {},
   "outputs": [],
   "source": [
    "df['slope']=df['slope'].replace({0:'upsloping',1:'flat',2:'downsloping'})"
   ]
  },
  {
   "cell_type": "code",
   "execution_count": 288,
   "id": "42160a55",
   "metadata": {},
   "outputs": [
    {
     "data": {
      "text/plain": [
       "array([1, 2, 3, 0])"
      ]
     },
     "execution_count": 288,
     "metadata": {},
     "output_type": "execute_result"
    }
   ],
   "source": [
    "df.thal.unique()"
   ]
  },
  {
   "cell_type": "code",
   "execution_count": null,
   "id": "93053540",
   "metadata": {},
   "outputs": [],
   "source": [
    "#thal: A blood disorder called thalassemia \n",
    "#Value 0: NULL (dropped from the dataset previously\n",
    "#Value 1: fixed defect (no blood flow in some part of the heart)\n",
    "#Value 2: normal blood flow\n",
    "#Value 3: reversible defect (a blood flow is observed but it is not normal)"
   ]
  },
  {
   "cell_type": "code",
   "execution_count": 289,
   "id": "8aef71ef",
   "metadata": {},
   "outputs": [],
   "source": [
    "df['thal']=df['thal'].replace({0:'NULL',1:'fixed defect',2:'normal blood flow',3:'reversible defect'})"
   ]
  },
  {
   "cell_type": "code",
   "execution_count": 290,
   "id": "6d550031",
   "metadata": {},
   "outputs": [
    {
     "data": {
      "text/html": [
       "<div>\n",
       "<style scoped>\n",
       "    .dataframe tbody tr th:only-of-type {\n",
       "        vertical-align: middle;\n",
       "    }\n",
       "\n",
       "    .dataframe tbody tr th {\n",
       "        vertical-align: top;\n",
       "    }\n",
       "\n",
       "    .dataframe thead th {\n",
       "        text-align: right;\n",
       "    }\n",
       "</style>\n",
       "<table border=\"1\" class=\"dataframe\">\n",
       "  <thead>\n",
       "    <tr style=\"text-align: right;\">\n",
       "      <th></th>\n",
       "      <th>age</th>\n",
       "      <th>sex</th>\n",
       "      <th>cp</th>\n",
       "      <th>trestbps</th>\n",
       "      <th>chol</th>\n",
       "      <th>fbs</th>\n",
       "      <th>restecg</th>\n",
       "      <th>thalach</th>\n",
       "      <th>exang</th>\n",
       "      <th>oldpeak</th>\n",
       "      <th>slope</th>\n",
       "      <th>ca</th>\n",
       "      <th>thal</th>\n",
       "      <th>target</th>\n",
       "    </tr>\n",
       "  </thead>\n",
       "  <tbody>\n",
       "    <tr>\n",
       "      <th>0</th>\n",
       "      <td>63</td>\n",
       "      <td>1</td>\n",
       "      <td>asymptomatic</td>\n",
       "      <td>145</td>\n",
       "      <td>233</td>\n",
       "      <td>1</td>\n",
       "      <td>normal</td>\n",
       "      <td>150</td>\n",
       "      <td>0</td>\n",
       "      <td>2.300</td>\n",
       "      <td>upsloping</td>\n",
       "      <td>0</td>\n",
       "      <td>fixed defect</td>\n",
       "      <td>1</td>\n",
       "    </tr>\n",
       "    <tr>\n",
       "      <th>1</th>\n",
       "      <td>37</td>\n",
       "      <td>1</td>\n",
       "      <td>non-anginal pain</td>\n",
       "      <td>130</td>\n",
       "      <td>250</td>\n",
       "      <td>0</td>\n",
       "      <td>having ST-T wave abnormality</td>\n",
       "      <td>187</td>\n",
       "      <td>0</td>\n",
       "      <td>3.500</td>\n",
       "      <td>upsloping</td>\n",
       "      <td>0</td>\n",
       "      <td>normal blood flow</td>\n",
       "      <td>1</td>\n",
       "    </tr>\n",
       "    <tr>\n",
       "      <th>2</th>\n",
       "      <td>41</td>\n",
       "      <td>0</td>\n",
       "      <td>atypical angina</td>\n",
       "      <td>130</td>\n",
       "      <td>204</td>\n",
       "      <td>0</td>\n",
       "      <td>normal</td>\n",
       "      <td>172</td>\n",
       "      <td>0</td>\n",
       "      <td>1.400</td>\n",
       "      <td>downsloping</td>\n",
       "      <td>0</td>\n",
       "      <td>normal blood flow</td>\n",
       "      <td>1</td>\n",
       "    </tr>\n",
       "    <tr>\n",
       "      <th>3</th>\n",
       "      <td>56</td>\n",
       "      <td>1</td>\n",
       "      <td>atypical angina</td>\n",
       "      <td>120</td>\n",
       "      <td>236</td>\n",
       "      <td>0</td>\n",
       "      <td>having ST-T wave abnormality</td>\n",
       "      <td>178</td>\n",
       "      <td>0</td>\n",
       "      <td>0.800</td>\n",
       "      <td>downsloping</td>\n",
       "      <td>0</td>\n",
       "      <td>normal blood flow</td>\n",
       "      <td>1</td>\n",
       "    </tr>\n",
       "    <tr>\n",
       "      <th>4</th>\n",
       "      <td>57</td>\n",
       "      <td>0</td>\n",
       "      <td>typical angina</td>\n",
       "      <td>120</td>\n",
       "      <td>354</td>\n",
       "      <td>0</td>\n",
       "      <td>having ST-T wave abnormality</td>\n",
       "      <td>163</td>\n",
       "      <td>1</td>\n",
       "      <td>0.600</td>\n",
       "      <td>downsloping</td>\n",
       "      <td>0</td>\n",
       "      <td>normal blood flow</td>\n",
       "      <td>1</td>\n",
       "    </tr>\n",
       "  </tbody>\n",
       "</table>\n",
       "</div>"
      ],
      "text/plain": [
       "   age  sex                cp  trestbps  chol  fbs  \\\n",
       "0   63    1      asymptomatic       145   233    1   \n",
       "1   37    1  non-anginal pain       130   250    0   \n",
       "2   41    0   atypical angina       130   204    0   \n",
       "3   56    1   atypical angina       120   236    0   \n",
       "4   57    0    typical angina       120   354    0   \n",
       "\n",
       "                        restecg  thalach  exang  oldpeak        slope  ca  \\\n",
       "0                        normal      150      0    2.300    upsloping   0   \n",
       "1  having ST-T wave abnormality      187      0    3.500    upsloping   0   \n",
       "2                        normal      172      0    1.400  downsloping   0   \n",
       "3  having ST-T wave abnormality      178      0    0.800  downsloping   0   \n",
       "4  having ST-T wave abnormality      163      1    0.600  downsloping   0   \n",
       "\n",
       "                thal  target  \n",
       "0       fixed defect       1  \n",
       "1  normal blood flow       1  \n",
       "2  normal blood flow       1  \n",
       "3  normal blood flow       1  \n",
       "4  normal blood flow       1  "
      ]
     },
     "execution_count": 290,
     "metadata": {},
     "output_type": "execute_result"
    }
   ],
   "source": [
    "df.head()"
   ]
  },
  {
   "cell_type": "code",
   "execution_count": null,
   "id": "3ddf152e",
   "metadata": {},
   "outputs": [],
   "source": []
  },
  {
   "cell_type": "code",
   "execution_count": 291,
   "id": "ca8e966f",
   "metadata": {
    "scrolled": true
   },
   "outputs": [
    {
     "data": {
      "text/plain": [
       "1    165\n",
       "0    138\n",
       "Name: target, dtype: int64"
      ]
     },
     "execution_count": 291,
     "metadata": {},
     "output_type": "execute_result"
    }
   ],
   "source": [
    "df.target.value_counts()"
   ]
  },
  {
   "cell_type": "code",
   "execution_count": 292,
   "id": "a017cd77",
   "metadata": {
    "scrolled": true
   },
   "outputs": [
    {
     "data": {
      "text/plain": [
       "1   0.545\n",
       "0   0.455\n",
       "Name: target, dtype: float64"
      ]
     },
     "execution_count": 292,
     "metadata": {},
     "output_type": "execute_result"
    }
   ],
   "source": [
    "df.target.value_counts(normalize=True)"
   ]
  },
  {
   "cell_type": "code",
   "execution_count": 293,
   "id": "d221c675",
   "metadata": {
    "scrolled": false
   },
   "outputs": [
    {
     "data": {
      "image/png": "[encoded data removed]",
      "text/plain": [
       "<Figure size 1440x720 with 5 Axes>"
      ]
     },
     "metadata": {
      "needs_background": "light"
     },
     "output_type": "display_data"
    }
   ],
   "source": [
    "index = 0\n",
    "plt.figure(figsize=(20,10))\n",
    "for feature in df[numeric_features]:\n",
    "    index += 1\n",
    "    plt.subplot(2,3,index)\n",
    "    sns.boxplot(df[feature])"
   ]
  },
  {
   "cell_type": "code",
   "execution_count": 294,
   "id": "fb1526ec",
   "metadata": {
    "scrolled": false
   },
   "outputs": [
    {
     "data": {
      "image/png": "[encoded data removed]",
      "text/plain": [
       "<Figure size 2160x720 with 3 Axes>"
      ]
     },
     "metadata": {
      "needs_background": "light"
     },
     "output_type": "display_data"
    },
    {
     "data": {
      "image/png": "[encoded data removed]",
      "text/plain": [
       "<Figure size 2160x720 with 3 Axes>"
      ]
     },
     "metadata": {
      "needs_background": "light"
     },
     "output_type": "display_data"
    },
    {
     "data": {
      "image/png": "[encoded data removed]",
      "text/plain": [
       "<Figure size 2160x720 with 3 Axes>"
      ]
     },
     "metadata": {
      "needs_background": "light"
     },
     "output_type": "display_data"
    },
    {
     "data": {
      "image/png": "[encoded data removed]",
      "text/plain": [
       "<Figure size 2160x720 with 3 Axes>"
      ]
     },
     "metadata": {
      "needs_background": "light"
     },
     "output_type": "display_data"
    },
    {
     "data": {
      "image/png": "[encoded data removed]",
      "text/plain": [
       "<Figure size 2160x720 with 3 Axes>"
      ]
     },
     "metadata": {
      "needs_background": "light"
     },
     "output_type": "display_data"
    }
   ],
   "source": [
    "import scipy.stats as stats\n",
    "for feature in df[numeric_features]:\n",
    "    plt.figure(figsize=(30,10))\n",
    "    plt.subplot(1, 3, 1)\n",
    "    sns.histplot(x=feature, data=df, kde=True)\n",
    "    plt.subplot(1, 3, 2)\n",
    "    sns.boxplot(x=feature, data=df)\n",
    "    plt.subplot(1, 3, 3)\n",
    "    stats.probplot(df[feature], dist=\"norm\", plot=plt)\n",
    "    plt.show()"
   ]
  },
  {
   "cell_type": "code",
   "execution_count": 295,
   "id": "404c0aaf",
   "metadata": {},
   "outputs": [
    {
     "data": {
      "image/png": "[encoded data removed]",
      "text/plain": [
       "<Figure size 1440x1440 with 5 Axes>"
      ]
     },
     "metadata": {
      "needs_background": "light"
     },
     "output_type": "display_data"
    }
   ],
   "source": [
    "index = 0\n",
    "plt.figure(figsize=(20,20))\n",
    "for feature in df[numeric_features]:\n",
    "    index += 1\n",
    "    plt.subplot(2,3,index)\n",
    "    sns.boxplot(x='target',y=feature,data=df)"
   ]
  },
  {
   "cell_type": "code",
   "execution_count": 296,
   "id": "73457ab1",
   "metadata": {
    "scrolled": false
   },
   "outputs": [
    {
     "data": {
      "text/plain": [
       "<Figure size 720x576 with 0 Axes>"
      ]
     },
     "metadata": {},
     "output_type": "display_data"
    },
    {
     "data": {
      "image/png": "[encoded data removed]",
      "text/plain": [
       "<Figure size 402.375x360 with 1 Axes>"
      ]
     },
     "metadata": {
      "needs_background": "light"
     },
     "output_type": "display_data"
    },
    {
     "data": {
      "image/png": "[encoded data removed]",
      "text/plain": [
       "<Figure size 402.375x360 with 1 Axes>"
      ]
     },
     "metadata": {
      "needs_background": "light"
     },
     "output_type": "display_data"
    },
    {
     "data": {
      "image/png": "[encoded data removed]",
      "text/plain": [
       "<Figure size 402.375x360 with 1 Axes>"
      ]
     },
     "metadata": {
      "needs_background": "light"
     },
     "output_type": "display_data"
    },
    {
     "data": {
      "image/png": "[encoded data removed]",
      "text/plain": [
       "<Figure size 402.375x360 with 1 Axes>"
      ]
     },
     "metadata": {
      "needs_background": "light"
     },
     "output_type": "display_data"
    },
    {
     "data": {
      "image/png": "[encoded data removed]",
      "text/plain": [
       "<Figure size 402.375x360 with 1 Axes>"
      ]
     },
     "metadata": {
      "needs_background": "light"
     },
     "output_type": "display_data"
    },
    {
     "data": {
      "image/png": "[encoded data removed]",
      "text/plain": [
       "<Figure size 402.375x360 with 1 Axes>"
      ]
     },
     "metadata": {
      "needs_background": "light"
     },
     "output_type": "display_data"
    },
    {
     "data": {
      "image/png": "[encoded data removed]",
      "text/plain": [
       "<Figure size 402.375x360 with 1 Axes>"
      ]
     },
     "metadata": {
      "needs_background": "light"
     },
     "output_type": "display_data"
    },
    {
     "data": {
      "image/png": "[encoded data removed]",
      "text/plain": [
       "<Figure size 402.375x360 with 1 Axes>"
      ]
     },
     "metadata": {
      "needs_background": "light"
     },
     "output_type": "display_data"
    }
   ],
   "source": [
    "plt.figure(figsize=(10,8))\n",
    "for feature in df[categorical_features]:\n",
    "    sns.displot(df, x=feature, hue='target', multiple='stack')"
   ]
  },
  {
   "cell_type": "code",
   "execution_count": 297,
   "id": "0d59b801",
   "metadata": {
    "scrolled": false
   },
   "outputs": [
    {
     "data": {
      "image/png": "[encoded data removed]",
      "text/plain": [
       "<Figure size 1080x576 with 2 Axes>"
      ]
     },
     "metadata": {
      "needs_background": "light"
     },
     "output_type": "display_data"
    }
   ],
   "source": [
    "plt.figure(figsize=(15,8))\n",
    "sns.heatmap(df.corr(),annot = True, cmap=\"Spectral\");"
   ]
  },
  {
   "cell_type": "code",
   "execution_count": 299,
   "id": "073ebec6",
   "metadata": {
    "scrolled": false
   },
   "outputs": [
    {
     "data": {
      "text/plain": [
       "<AxesSubplot:>"
      ]
     },
     "execution_count": 299,
     "metadata": {},
     "output_type": "execute_result"
    },
    {
     "data": {
      "image/png": "[encoded data removed]",
      "text/plain": [
       "<Figure size 720x432 with 1 Axes>"
      ]
     },
     "metadata": {
      "needs_background": "light"
     },
     "output_type": "display_data"
    }
   ],
   "source": [
    "df.corr()[\"target\"].drop(\"target\").sort_values().plot.barh()"
   ]
  },
  {
   "cell_type": "markdown",
   "id": "9XRYs7_ZwvG1",
   "metadata": {
    "id": "9XRYs7_ZwvG1"
   },
   "source": [
    "# Data Preprocessing"
   ]
  },
  {
   "cell_type": "code",
   "execution_count": 300,
   "id": "ae5a6b51",
   "metadata": {},
   "outputs": [],
   "source": [
    "df=pd.get_dummies(df,drop_first=True)"
   ]
  },
  {
   "cell_type": "code",
   "execution_count": 301,
   "id": "5d5dc755-7e67-4ee7-9706-a21c1bd6ff09",
   "metadata": {
    "id": "5d5dc755-7e67-4ee7-9706-a21c1bd6ff09",
    "scrolled": true
   },
   "outputs": [],
   "source": [
    "X=df.drop('target',axis=1)\n",
    "y=df['target']"
   ]
  },
  {
   "cell_type": "code",
   "execution_count": 302,
   "id": "09db63bd",
   "metadata": {},
   "outputs": [],
   "source": [
    "from sklearn.model_selection import train_test_split\n",
    "from sklearn.preprocessing import MinMaxScaler"
   ]
  },
  {
   "cell_type": "code",
   "execution_count": 303,
   "id": "92938489",
   "metadata": {},
   "outputs": [],
   "source": [
    "X_train, X_test, y_train, y_test = train_test_split(X, y, test_size=0.3, random_state=47)"
   ]
  },
  {
   "cell_type": "code",
   "execution_count": 304,
   "id": "43a09d3b",
   "metadata": {},
   "outputs": [
    {
     "name": "stdout",
     "output_type": "stream",
     "text": [
      "(212, 19) (91, 19) (212,) (91,)\n"
     ]
    }
   ],
   "source": [
    "print(X_train.shape,X_test.shape,y_train.shape,y_test.shape)"
   ]
  },
  {
   "cell_type": "code",
   "execution_count": 305,
   "id": "a854758d",
   "metadata": {},
   "outputs": [],
   "source": [
    "scaler = MinMaxScaler()"
   ]
  },
  {
   "cell_type": "code",
   "execution_count": 306,
   "id": "a982b630",
   "metadata": {},
   "outputs": [],
   "source": [
    "X_train=scaler.fit_transform(X_train)"
   ]
  },
  {
   "cell_type": "code",
   "execution_count": 307,
   "id": "f206d92f",
   "metadata": {},
   "outputs": [],
   "source": [
    "X_test=scaler.transform(X_test)"
   ]
  },
  {
   "cell_type": "markdown",
   "id": "jeBjgfDiw6uJ",
   "metadata": {
    "id": "jeBjgfDiw6uJ"
   },
   "source": [
    "# Implement Logistic Regression and Evaluate"
   ]
  },
  {
   "cell_type": "code",
   "execution_count": 308,
   "id": "f7f6864d-dfad-433b-a2a5-fd7e92865fd0",
   "metadata": {
    "id": "f7f6864d-dfad-433b-a2a5-fd7e92865fd0",
    "scrolled": true
   },
   "outputs": [
    {
     "data": {
      "text/plain": [
       "LogisticRegression()"
      ]
     },
     "execution_count": 308,
     "metadata": {},
     "output_type": "execute_result"
    }
   ],
   "source": [
    "from sklearn.linear_model import LogisticRegression\n",
    "logmod = LogisticRegression()\n",
    "logmod.fit(X_train,y_train)"
   ]
  },
  {
   "cell_type": "code",
   "execution_count": 309,
   "id": "5ca48d98",
   "metadata": {},
   "outputs": [],
   "source": [
    "y_pred = logmod.predict(X_test)"
   ]
  },
  {
   "cell_type": "code",
   "execution_count": 310,
   "id": "11206621",
   "metadata": {},
   "outputs": [
    {
     "data": {
      "text/plain": [
       "array([0, 0, 1, 0, 1, 0, 0, 1, 1, 0, 0, 0, 0, 0, 1, 1, 1, 1, 1, 0, 1, 1,\n",
       "       0, 0, 0, 0, 1, 0, 1, 1, 1, 1, 0, 0, 1, 1, 1, 1, 1, 1, 1, 0, 0, 0,\n",
       "       1, 0, 0, 0, 1, 0, 0, 1, 1, 1, 1, 1, 1, 1, 1, 1, 0, 0, 0, 1, 1, 1,\n",
       "       0, 1, 1, 0, 1, 1, 0, 1, 1, 1, 0, 1, 1, 1, 0, 1, 1, 0, 0, 0, 0, 1,\n",
       "       1, 1, 1])"
      ]
     },
     "execution_count": 310,
     "metadata": {},
     "output_type": "execute_result"
    }
   ],
   "source": [
    "y_pred"
   ]
  },
  {
   "cell_type": "code",
   "execution_count": 311,
   "id": "ebf728f7",
   "metadata": {},
   "outputs": [
    {
     "data": {
      "text/html": [
       "<div>\n",
       "<style scoped>\n",
       "    .dataframe tbody tr th:only-of-type {\n",
       "        vertical-align: middle;\n",
       "    }\n",
       "\n",
       "    .dataframe tbody tr th {\n",
       "        vertical-align: top;\n",
       "    }\n",
       "\n",
       "    .dataframe thead th {\n",
       "        text-align: right;\n",
       "    }\n",
       "</style>\n",
       "<table border=\"1\" class=\"dataframe\">\n",
       "  <thead>\n",
       "    <tr style=\"text-align: right;\">\n",
       "      <th></th>\n",
       "      <th>Actual</th>\n",
       "      <th>Predicted</th>\n",
       "    </tr>\n",
       "  </thead>\n",
       "  <tbody>\n",
       "    <tr>\n",
       "      <th>198</th>\n",
       "      <td>0</td>\n",
       "      <td>0</td>\n",
       "    </tr>\n",
       "    <tr>\n",
       "      <th>5</th>\n",
       "      <td>1</td>\n",
       "      <td>0</td>\n",
       "    </tr>\n",
       "    <tr>\n",
       "      <th>39</th>\n",
       "      <td>1</td>\n",
       "      <td>1</td>\n",
       "    </tr>\n",
       "    <tr>\n",
       "      <th>203</th>\n",
       "      <td>0</td>\n",
       "      <td>0</td>\n",
       "    </tr>\n",
       "    <tr>\n",
       "      <th>196</th>\n",
       "      <td>0</td>\n",
       "      <td>1</td>\n",
       "    </tr>\n",
       "    <tr>\n",
       "      <th>260</th>\n",
       "      <td>0</td>\n",
       "      <td>0</td>\n",
       "    </tr>\n",
       "    <tr>\n",
       "      <th>276</th>\n",
       "      <td>0</td>\n",
       "      <td>0</td>\n",
       "    </tr>\n",
       "    <tr>\n",
       "      <th>128</th>\n",
       "      <td>1</td>\n",
       "      <td>1</td>\n",
       "    </tr>\n",
       "    <tr>\n",
       "      <th>185</th>\n",
       "      <td>0</td>\n",
       "      <td>1</td>\n",
       "    </tr>\n",
       "    <tr>\n",
       "      <th>255</th>\n",
       "      <td>0</td>\n",
       "      <td>0</td>\n",
       "    </tr>\n",
       "  </tbody>\n",
       "</table>\n",
       "</div>"
      ],
      "text/plain": [
       "     Actual  Predicted\n",
       "198       0          0\n",
       "5         1          0\n",
       "39        1          1\n",
       "203       0          0\n",
       "196       0          1\n",
       "260       0          0\n",
       "276       0          0\n",
       "128       1          1\n",
       "185       0          1\n",
       "255       0          0"
      ]
     },
     "execution_count": 311,
     "metadata": {},
     "output_type": "execute_result"
    }
   ],
   "source": [
    "df_test = pd.DataFrame({\"Actual\": y_test, \"Predicted\": y_pred})\n",
    "df_test.head(10)"
   ]
  },
  {
   "cell_type": "markdown",
   "id": "e50e3c33",
   "metadata": {},
   "source": [
    "### Checking the Metrics"
   ]
  },
  {
   "cell_type": "code",
   "execution_count": 312,
   "id": "b2455731",
   "metadata": {},
   "outputs": [],
   "source": [
    "\n",
    "from sklearn.metrics import accuracy_score, confusion_matrix, classification_report, plot_confusion_matrix"
   ]
  },
  {
   "cell_type": "code",
   "execution_count": 314,
   "id": "b48bc050",
   "metadata": {},
   "outputs": [
    {
     "data": {
      "text/plain": [
       "<sklearn.metrics._plot.confusion_matrix.ConfusionMatrixDisplay at 0x28617bb20>"
      ]
     },
     "execution_count": 314,
     "metadata": {},
     "output_type": "execute_result"
    },
    {
     "data": {
      "image/png": "[encoded data removed]",
      "text/plain": [
       "<Figure size 720x432 with 2 Axes>"
      ]
     },
     "metadata": {
      "needs_background": "light"
     },
     "output_type": "display_data"
    }
   ],
   "source": [
    "plot_confusion_matrix(logmod, X_test, y_test)"
   ]
  },
  {
   "cell_type": "code",
   "execution_count": 315,
   "id": "5831c427",
   "metadata": {},
   "outputs": [
    {
     "name": "stdout",
     "output_type": "stream",
     "text": [
      "[[30  9]\n",
      " [ 8 44]]\n",
      "              precision    recall  f1-score   support\n",
      "\n",
      "           0       0.79      0.77      0.78        39\n",
      "           1       0.83      0.85      0.84        52\n",
      "\n",
      "    accuracy                           0.81        91\n",
      "   macro avg       0.81      0.81      0.81        91\n",
      "weighted avg       0.81      0.81      0.81        91\n",
      "\n"
     ]
    }
   ],
   "source": [
    "print(confusion_matrix(y_test, y_pred))\n",
    "print(classification_report(y_test, y_pred))"
   ]
  },
  {
   "cell_type": "code",
   "execution_count": 316,
   "id": "d29d0ee1",
   "metadata": {},
   "outputs": [],
   "source": [
    "from sklearn.metrics import precision_score, recall_score, accuracy_score, f1_score"
   ]
  },
  {
   "cell_type": "code",
   "execution_count": 317,
   "id": "7d310058",
   "metadata": {},
   "outputs": [],
   "source": [
    "def eval_metric(actual, pred):\n",
    "    Accuracy = accuracy_score(actual, pred)\n",
    "    Precision = precision_score(actual, pred)\n",
    "    Recall = recall_score(actual, pred)\n",
    "    F1 = f1_score(actual, pred, average = 'weighted')\n",
    "    print(\"Classification Metrics:\")\n",
    "    print(\"----------------------\")\n",
    "    print(f\"Accuracy \\t: {round(Accuracy,3)}\")\n",
    "    print(f\"Precision \\t: {round(Precision,3)}\")\n",
    "    print(f\"Recall \\t\\t: {round(Recall,3)}\")\n",
    "    print(f\"F1_weighted \\t: {round(F1,3)}\") "
   ]
  },
  {
   "cell_type": "code",
   "execution_count": 318,
   "id": "b329c82d",
   "metadata": {},
   "outputs": [
    {
     "name": "stdout",
     "output_type": "stream",
     "text": [
      "Classification Metrics:\n",
      "----------------------\n",
      "Accuracy \t: 0.813\n",
      "Precision \t: 0.83\n",
      "Recall \t\t: 0.846\n",
      "F1_weighted \t: 0.813\n"
     ]
    }
   ],
   "source": [
    "eval_metric(y_test, y_pred)"
   ]
  },
  {
   "cell_type": "code",
   "execution_count": 319,
   "id": "2d118e03",
   "metadata": {},
   "outputs": [],
   "source": [
    "scores = {\"M1\": {\"Accuracy\" : accuracy_score(y_test, y_pred),\n",
    "    \"Precision\" : precision_score(y_test, y_pred),\n",
    "    \"Recall\" : recall_score(y_test, y_pred),\n",
    "    \"F1_weighted\" : f1_score(y_test, y_pred, average = 'weighted')}}\n",
    "base_log_model=pd.DataFrame(scores)"
   ]
  },
  {
   "cell_type": "code",
   "execution_count": 320,
   "id": "fd9ac282",
   "metadata": {},
   "outputs": [
    {
     "data": {
      "text/html": [
       "<div>\n",
       "<style scoped>\n",
       "    .dataframe tbody tr th:only-of-type {\n",
       "        vertical-align: middle;\n",
       "    }\n",
       "\n",
       "    .dataframe tbody tr th {\n",
       "        vertical-align: top;\n",
       "    }\n",
       "\n",
       "    .dataframe thead th {\n",
       "        text-align: right;\n",
       "    }\n",
       "</style>\n",
       "<table border=\"1\" class=\"dataframe\">\n",
       "  <thead>\n",
       "    <tr style=\"text-align: right;\">\n",
       "      <th></th>\n",
       "      <th>M1</th>\n",
       "    </tr>\n",
       "  </thead>\n",
       "  <tbody>\n",
       "    <tr>\n",
       "      <th>Accuracy</th>\n",
       "      <td>0.813</td>\n",
       "    </tr>\n",
       "    <tr>\n",
       "      <th>F1_weighted</th>\n",
       "      <td>0.813</td>\n",
       "    </tr>\n",
       "    <tr>\n",
       "      <th>Precision</th>\n",
       "      <td>0.830</td>\n",
       "    </tr>\n",
       "    <tr>\n",
       "      <th>Recall</th>\n",
       "      <td>0.846</td>\n",
       "    </tr>\n",
       "  </tbody>\n",
       "</table>\n",
       "</div>"
      ],
      "text/plain": [
       "               M1\n",
       "Accuracy    0.813\n",
       "F1_weighted 0.813\n",
       "Precision   0.830\n",
       "Recall      0.846"
      ]
     },
     "execution_count": 320,
     "metadata": {},
     "output_type": "execute_result"
    }
   ],
   "source": [
    "base_log_model"
   ]
  },
  {
   "cell_type": "markdown",
   "id": "b9de9c06",
   "metadata": {},
   "source": [
    "### Cross Validate"
   ]
  },
  {
   "cell_type": "code",
   "execution_count": 321,
   "id": "f86eeb93",
   "metadata": {},
   "outputs": [],
   "source": [
    "from sklearn.model_selection import cross_validate"
   ]
  },
  {
   "cell_type": "code",
   "execution_count": 322,
   "id": "16aa5974",
   "metadata": {},
   "outputs": [
    {
     "data": {
      "text/plain": [
       "test_accuracy      0.831\n",
       "test_precision     0.844\n",
       "test_recall        0.841\n",
       "test_f1_weighted   0.830\n",
       "dtype: float64"
      ]
     },
     "execution_count": 322,
     "metadata": {},
     "output_type": "execute_result"
    }
   ],
   "source": [
    "model = LogisticRegression()\n",
    "scores = cross_validate(model, X_train, y_train, scoring = ['accuracy', 'precision','recall',\n",
    "                                                                   'f1_weighted'], cv = 10)\n",
    "df_scores = pd.DataFrame(scores, index = range(1, 11))\n",
    "df_scores.mean()[2:]"
   ]
  },
  {
   "cell_type": "code",
   "execution_count": 323,
   "id": "d2f12744",
   "metadata": {},
   "outputs": [
    {
     "data": {
      "text/html": [
       "<div>\n",
       "<style scoped>\n",
       "    .dataframe tbody tr th:only-of-type {\n",
       "        vertical-align: middle;\n",
       "    }\n",
       "\n",
       "    .dataframe tbody tr th {\n",
       "        vertical-align: top;\n",
       "    }\n",
       "\n",
       "    .dataframe thead th {\n",
       "        text-align: right;\n",
       "    }\n",
       "</style>\n",
       "<table border=\"1\" class=\"dataframe\">\n",
       "  <thead>\n",
       "    <tr style=\"text-align: right;\">\n",
       "      <th></th>\n",
       "      <th>fit_time</th>\n",
       "      <th>score_time</th>\n",
       "      <th>test_accuracy</th>\n",
       "      <th>test_precision</th>\n",
       "      <th>test_recall</th>\n",
       "      <th>test_f1_weighted</th>\n",
       "    </tr>\n",
       "  </thead>\n",
       "  <tbody>\n",
       "    <tr>\n",
       "      <th>1</th>\n",
       "      <td>0.012</td>\n",
       "      <td>0.003</td>\n",
       "      <td>0.682</td>\n",
       "      <td>0.692</td>\n",
       "      <td>0.750</td>\n",
       "      <td>0.680</td>\n",
       "    </tr>\n",
       "    <tr>\n",
       "      <th>2</th>\n",
       "      <td>0.004</td>\n",
       "      <td>0.001</td>\n",
       "      <td>0.864</td>\n",
       "      <td>0.909</td>\n",
       "      <td>0.833</td>\n",
       "      <td>0.864</td>\n",
       "    </tr>\n",
       "    <tr>\n",
       "      <th>3</th>\n",
       "      <td>0.003</td>\n",
       "      <td>0.001</td>\n",
       "      <td>0.857</td>\n",
       "      <td>0.833</td>\n",
       "      <td>0.909</td>\n",
       "      <td>0.856</td>\n",
       "    </tr>\n",
       "    <tr>\n",
       "      <th>4</th>\n",
       "      <td>0.003</td>\n",
       "      <td>0.001</td>\n",
       "      <td>0.857</td>\n",
       "      <td>0.900</td>\n",
       "      <td>0.818</td>\n",
       "      <td>0.857</td>\n",
       "    </tr>\n",
       "    <tr>\n",
       "      <th>5</th>\n",
       "      <td>0.003</td>\n",
       "      <td>0.001</td>\n",
       "      <td>0.905</td>\n",
       "      <td>0.909</td>\n",
       "      <td>0.909</td>\n",
       "      <td>0.905</td>\n",
       "    </tr>\n",
       "    <tr>\n",
       "      <th>6</th>\n",
       "      <td>0.002</td>\n",
       "      <td>0.001</td>\n",
       "      <td>0.571</td>\n",
       "      <td>0.600</td>\n",
       "      <td>0.545</td>\n",
       "      <td>0.571</td>\n",
       "    </tr>\n",
       "    <tr>\n",
       "      <th>7</th>\n",
       "      <td>0.003</td>\n",
       "      <td>0.001</td>\n",
       "      <td>0.905</td>\n",
       "      <td>0.846</td>\n",
       "      <td>1.000</td>\n",
       "      <td>0.903</td>\n",
       "    </tr>\n",
       "    <tr>\n",
       "      <th>8</th>\n",
       "      <td>0.002</td>\n",
       "      <td>0.001</td>\n",
       "      <td>0.857</td>\n",
       "      <td>0.833</td>\n",
       "      <td>0.909</td>\n",
       "      <td>0.856</td>\n",
       "    </tr>\n",
       "    <tr>\n",
       "      <th>9</th>\n",
       "      <td>0.003</td>\n",
       "      <td>0.001</td>\n",
       "      <td>0.905</td>\n",
       "      <td>1.000</td>\n",
       "      <td>0.818</td>\n",
       "      <td>0.904</td>\n",
       "    </tr>\n",
       "    <tr>\n",
       "      <th>10</th>\n",
       "      <td>0.003</td>\n",
       "      <td>0.001</td>\n",
       "      <td>0.905</td>\n",
       "      <td>0.917</td>\n",
       "      <td>0.917</td>\n",
       "      <td>0.905</td>\n",
       "    </tr>\n",
       "  </tbody>\n",
       "</table>\n",
       "</div>"
      ],
      "text/plain": [
       "    fit_time  score_time  test_accuracy  test_precision  test_recall  \\\n",
       "1      0.012       0.003          0.682           0.692        0.750   \n",
       "2      0.004       0.001          0.864           0.909        0.833   \n",
       "3      0.003       0.001          0.857           0.833        0.909   \n",
       "4      0.003       0.001          0.857           0.900        0.818   \n",
       "5      0.003       0.001          0.905           0.909        0.909   \n",
       "6      0.002       0.001          0.571           0.600        0.545   \n",
       "7      0.003       0.001          0.905           0.846        1.000   \n",
       "8      0.002       0.001          0.857           0.833        0.909   \n",
       "9      0.003       0.001          0.905           1.000        0.818   \n",
       "10     0.003       0.001          0.905           0.917        0.917   \n",
       "\n",
       "    test_f1_weighted  \n",
       "1              0.680  \n",
       "2              0.864  \n",
       "3              0.856  \n",
       "4              0.857  \n",
       "5              0.905  \n",
       "6              0.571  \n",
       "7              0.903  \n",
       "8              0.856  \n",
       "9              0.904  \n",
       "10             0.905  "
      ]
     },
     "execution_count": 323,
     "metadata": {},
     "output_type": "execute_result"
    }
   ],
   "source": [
    "df_scores"
   ]
  },
  {
   "cell_type": "markdown",
   "id": "47048036",
   "metadata": {},
   "source": [
    "### ROC and AUC"
   ]
  },
  {
   "cell_type": "code",
   "execution_count": 324,
   "id": "425c8511",
   "metadata": {},
   "outputs": [],
   "source": [
    "from sklearn.metrics import plot_roc_curve, plot_precision_recall_curve, roc_auc_score, auc, roc_curve, average_precision_score, precision_recall_curve"
   ]
  },
  {
   "cell_type": "code",
   "execution_count": 326,
   "id": "62cd679f",
   "metadata": {},
   "outputs": [
    {
     "data": {
      "image/png": "[encoded data removed]",
      "text/plain": [
       "<Figure size 720x432 with 1 Axes>"
      ]
     },
     "metadata": {
      "needs_background": "light"
     },
     "output_type": "display_data"
    }
   ],
   "source": [
    "plot_roc_curve(logmod, X_test, y_test);"
   ]
  },
  {
   "cell_type": "code",
   "execution_count": 327,
   "id": "0504a755",
   "metadata": {},
   "outputs": [
    {
     "data": {
      "image/png": "[encoded data removed]",
      "text/plain": [
       "<Figure size 720x432 with 1 Axes>"
      ]
     },
     "metadata": {
      "needs_background": "light"
     },
     "output_type": "display_data"
    }
   ],
   "source": [
    "plot_precision_recall_curve(logmod, X_test, y_test);"
   ]
  },
  {
   "cell_type": "markdown",
   "id": "0f18da84",
   "metadata": {},
   "source": [
    "### Finding Best Threshold"
   ]
  },
  {
   "cell_type": "code",
   "execution_count": 328,
   "id": "d50a42a0",
   "metadata": {},
   "outputs": [
    {
     "data": {
      "text/plain": [
       "0.9317064449807813"
      ]
     },
     "execution_count": 328,
     "metadata": {},
     "output_type": "execute_result"
    }
   ],
   "source": [
    "y_train_pred_proba = logmod.predict_proba(X_train)\n",
    "roc_auc_score(y_train, y_train_pred_proba[:,1])"
   ]
  },
  {
   "cell_type": "code",
   "execution_count": 329,
   "id": "101ff91c",
   "metadata": {},
   "outputs": [],
   "source": [
    "fp_rate, tp_rate, thresholds = roc_curve(y_train, y_train_pred_proba[:,1])"
   ]
  },
  {
   "cell_type": "code",
   "execution_count": 330,
   "id": "ed08aa15",
   "metadata": {},
   "outputs": [
    {
     "data": {
      "text/plain": [
       "0.5380530947772426"
      ]
     },
     "execution_count": 330,
     "metadata": {},
     "output_type": "execute_result"
    }
   ],
   "source": [
    "optimal_idx = np.argmax(tp_rate - fp_rate)\n",
    "optimal_threshold = thresholds[optimal_idx]\n",
    "optimal_threshold"
   ]
  },
  {
   "cell_type": "code",
   "execution_count": 331,
   "id": "40c1e3e9",
   "metadata": {},
   "outputs": [],
   "source": [
    "roc_curve = {\"fp_rate\":fp_rate, \"tp_rate\":tp_rate, \"thresholds\":thresholds}\n",
    "df_roc_curve = pd.DataFrame(roc_curve)"
   ]
  },
  {
   "cell_type": "code",
   "execution_count": 332,
   "id": "12cf66cf",
   "metadata": {},
   "outputs": [
    {
     "data": {
      "text/plain": [
       "0.5380530947772426"
      ]
     },
     "execution_count": 332,
     "metadata": {},
     "output_type": "execute_result"
    }
   ],
   "source": [
    "optimal_idx = np.argmax(df_roc_curve.tp_rate - df_roc_curve.fp_rate)\n",
    "optimal_threshold = df_roc_curve.thresholds[optimal_idx]\n",
    "optimal_threshold"
   ]
  },
  {
   "cell_type": "code",
   "execution_count": 333,
   "id": "0ceb7022",
   "metadata": {},
   "outputs": [],
   "source": [
    "precisions, recalls, thresholds = precision_recall_curve(y_train, y_train_pred_proba[:,1])"
   ]
  },
  {
   "cell_type": "code",
   "execution_count": 334,
   "id": "7cb31988",
   "metadata": {},
   "outputs": [
    {
     "data": {
      "text/plain": [
       "0.5199192544832532"
      ]
     },
     "execution_count": 334,
     "metadata": {},
     "output_type": "execute_result"
    }
   ],
   "source": [
    "optimal_idx = np.argmax((2 * precisions * recalls) / (precisions + recalls))\n",
    "optimal_threshold = thresholds[optimal_idx]\n",
    "optimal_threshold"
   ]
  },
  {
   "cell_type": "code",
   "execution_count": 335,
   "id": "70d6fc66",
   "metadata": {},
   "outputs": [],
   "source": [
    "y_proba_test = logmod.predict_proba(X_test)"
   ]
  },
  {
   "cell_type": "code",
   "execution_count": 336,
   "id": "59ee09de",
   "metadata": {},
   "outputs": [],
   "source": [
    "y_pred2=np.zeros(len(y_proba_test))"
   ]
  },
  {
   "cell_type": "code",
   "execution_count": 337,
   "id": "3686e96a",
   "metadata": {
    "scrolled": true
   },
   "outputs": [
    {
     "data": {
      "text/plain": [
       "array([0., 0., 0., 0., 0., 0., 0., 0., 0., 0., 0., 0., 0., 0., 0., 0., 0.,\n",
       "       0., 0., 0., 0., 0., 0., 0., 0., 0., 0., 0., 0., 0., 0., 0., 0., 0.,\n",
       "       0., 0., 0., 0., 0., 0., 0., 0., 0., 0., 0., 0., 0., 0., 0., 0., 0.,\n",
       "       0., 0., 0., 0., 0., 0., 0., 0., 0., 0., 0., 0., 0., 0., 0., 0., 0.,\n",
       "       0., 0., 0., 0., 0., 0., 0., 0., 0., 0., 0., 0., 0., 0., 0., 0., 0.,\n",
       "       0., 0., 0., 0., 0., 0.])"
      ]
     },
     "execution_count": 337,
     "metadata": {},
     "output_type": "execute_result"
    }
   ],
   "source": [
    "y_pred2"
   ]
  },
  {
   "cell_type": "code",
   "execution_count": 338,
   "id": "46d143f9",
   "metadata": {},
   "outputs": [],
   "source": [
    "for i in range(0,len(y_proba_test)):\n",
    "    if y_proba_test[i,1]>= optimal_threshold :\n",
    "        y_pred2 [i] = 1\n",
    "    else :\n",
    "        y_pred2 [i] = 0"
   ]
  },
  {
   "cell_type": "code",
   "execution_count": 339,
   "id": "40482f7c",
   "metadata": {},
   "outputs": [
    {
     "data": {
      "text/plain": [
       "array([0, 0, 1, 0, 1, 0, 0, 1, 1, 0, 0, 0, 0, 0, 1, 1, 1, 1, 1, 0, 1, 1,\n",
       "       0, 0, 0, 0, 1, 0, 1, 1, 1, 1, 0, 0, 1, 1, 1, 1, 1, 1, 1, 0, 0, 0,\n",
       "       1, 0, 0, 0, 1, 0, 0, 1, 1, 1, 1, 1, 1, 1, 1, 1, 0, 0, 0, 1, 1, 1,\n",
       "       0, 1, 1, 0, 1, 1, 0, 1, 1, 1, 0, 1, 1, 1, 0, 1, 1, 0, 0, 0, 0, 1,\n",
       "       1, 1, 1])"
      ]
     },
     "execution_count": 339,
     "metadata": {},
     "output_type": "execute_result"
    }
   ],
   "source": [
    "y_pred"
   ]
  },
  {
   "cell_type": "code",
   "execution_count": 340,
   "id": "8b9b9966",
   "metadata": {},
   "outputs": [
    {
     "data": {
      "text/plain": [
       "array([0., 0., 1., 0., 1., 0., 0., 1., 1., 0., 0., 0., 0., 0., 1., 1., 1.,\n",
       "       1., 1., 0., 1., 1., 0., 0., 0., 0., 1., 0., 1., 1., 1., 1., 0., 0.,\n",
       "       1., 1., 1., 1., 0., 1., 1., 0., 0., 0., 1., 0., 0., 0., 1., 0., 0.,\n",
       "       1., 0., 1., 1., 1., 1., 1., 1., 1., 0., 0., 0., 1., 0., 1., 0., 1.,\n",
       "       1., 0., 1., 1., 0., 1., 0., 1., 0., 1., 1., 1., 0., 1., 1., 0., 0.,\n",
       "       0., 0., 1., 1., 1., 1.])"
      ]
     },
     "execution_count": 340,
     "metadata": {},
     "output_type": "execute_result"
    }
   ],
   "source": [
    "y_pred2"
   ]
  },
  {
   "cell_type": "code",
   "execution_count": 341,
   "id": "c5728c08",
   "metadata": {},
   "outputs": [
    {
     "name": "stdout",
     "output_type": "stream",
     "text": [
      "Classification Metrics:\n",
      "----------------------\n",
      "Accuracy \t: 0.813\n",
      "Precision \t: 0.857\n",
      "Recall \t\t: 0.808\n",
      "F1_weighted \t: 0.814\n"
     ]
    }
   ],
   "source": [
    "eval_metric(y_test, y_pred2)"
   ]
  },
  {
   "cell_type": "code",
   "execution_count": 355,
   "id": "56d2f77d",
   "metadata": {},
   "outputs": [],
   "source": [
    "scores = {\"M2\": {\"Accuracy\" : accuracy_score(y_test, y_pred2),\n",
    "    \"Precision\" : precision_score(y_test, y_pred2),\n",
    "    \"Recall\" : recall_score(y_test, y_pred2),\n",
    "    \"F1_weighted\" : f1_score(y_test, y_pred2, average = 'weighted')}}\n",
    "new_treshold_log_model=pd.DataFrame(scores)"
   ]
  },
  {
   "cell_type": "code",
   "execution_count": 356,
   "id": "6264b12f",
   "metadata": {},
   "outputs": [
    {
     "data": {
      "text/html": [
       "<div>\n",
       "<style scoped>\n",
       "    .dataframe tbody tr th:only-of-type {\n",
       "        vertical-align: middle;\n",
       "    }\n",
       "\n",
       "    .dataframe tbody tr th {\n",
       "        vertical-align: top;\n",
       "    }\n",
       "\n",
       "    .dataframe thead th {\n",
       "        text-align: right;\n",
       "    }\n",
       "</style>\n",
       "<table border=\"1\" class=\"dataframe\">\n",
       "  <thead>\n",
       "    <tr style=\"text-align: right;\">\n",
       "      <th></th>\n",
       "      <th>M2</th>\n",
       "    </tr>\n",
       "  </thead>\n",
       "  <tbody>\n",
       "    <tr>\n",
       "      <th>Accuracy</th>\n",
       "      <td>0.813</td>\n",
       "    </tr>\n",
       "    <tr>\n",
       "      <th>F1_weighted</th>\n",
       "      <td>0.814</td>\n",
       "    </tr>\n",
       "    <tr>\n",
       "      <th>Precision</th>\n",
       "      <td>0.857</td>\n",
       "    </tr>\n",
       "    <tr>\n",
       "      <th>Recall</th>\n",
       "      <td>0.808</td>\n",
       "    </tr>\n",
       "  </tbody>\n",
       "</table>\n",
       "</div>"
      ],
      "text/plain": [
       "               M2\n",
       "Accuracy    0.813\n",
       "F1_weighted 0.814\n",
       "Precision   0.857\n",
       "Recall      0.808"
      ]
     },
     "execution_count": 356,
     "metadata": {},
     "output_type": "execute_result"
    }
   ],
   "source": [
    "new_treshold_log_model"
   ]
  },
  {
   "cell_type": "code",
   "execution_count": 357,
   "id": "fdd27615",
   "metadata": {},
   "outputs": [
    {
     "data": {
      "text/html": [
       "<div>\n",
       "<style scoped>\n",
       "    .dataframe tbody tr th:only-of-type {\n",
       "        vertical-align: middle;\n",
       "    }\n",
       "\n",
       "    .dataframe tbody tr th {\n",
       "        vertical-align: top;\n",
       "    }\n",
       "\n",
       "    .dataframe thead th {\n",
       "        text-align: right;\n",
       "    }\n",
       "</style>\n",
       "<table border=\"1\" class=\"dataframe\">\n",
       "  <thead>\n",
       "    <tr style=\"text-align: right;\">\n",
       "      <th></th>\n",
       "      <th>M1</th>\n",
       "      <th>M2</th>\n",
       "    </tr>\n",
       "  </thead>\n",
       "  <tbody>\n",
       "    <tr>\n",
       "      <th>Accuracy</th>\n",
       "      <td>0.813</td>\n",
       "      <td>0.813</td>\n",
       "    </tr>\n",
       "    <tr>\n",
       "      <th>F1_weighted</th>\n",
       "      <td>0.813</td>\n",
       "      <td>0.814</td>\n",
       "    </tr>\n",
       "    <tr>\n",
       "      <th>Precision</th>\n",
       "      <td>0.830</td>\n",
       "      <td>0.857</td>\n",
       "    </tr>\n",
       "    <tr>\n",
       "      <th>Recall</th>\n",
       "      <td>0.846</td>\n",
       "      <td>0.808</td>\n",
       "    </tr>\n",
       "  </tbody>\n",
       "</table>\n",
       "</div>"
      ],
      "text/plain": [
       "               M1    M2\n",
       "Accuracy    0.813 0.813\n",
       "F1_weighted 0.813 0.814\n",
       "Precision   0.830 0.857\n",
       "Recall      0.846 0.808"
      ]
     },
     "execution_count": 357,
     "metadata": {},
     "output_type": "execute_result"
    }
   ],
   "source": [
    "pd.concat([base_log_model, new_treshold_log_model], axis = 1)"
   ]
  },
  {
   "cell_type": "markdown",
   "id": "6619c66c",
   "metadata": {},
   "source": [
    "### With Best Parameters (GridsearchCV)"
   ]
  },
  {
   "cell_type": "code",
   "execution_count": 345,
   "id": "fc6a13b7",
   "metadata": {},
   "outputs": [],
   "source": [
    "from sklearn.model_selection import GridSearchCV"
   ]
  },
  {
   "cell_type": "code",
   "execution_count": null,
   "id": "cff603f7",
   "metadata": {},
   "outputs": [],
   "source": [
    "log_model = LogisticRegression(solver='saga',multi_class=\"ovr\",max_iter=5000)\n",
    "\n",
    "penalty = [\"l1\", \"l2\", \"elasticnet\"]\n",
    "l1_ratio = np.linspace(0, 1, 20)\n",
    "C = np.logspace(0, 10, 20)\n",
    "\n",
    "param_grid = {\"penalty\" : penalty,\n",
    "             \"l1_ratio\" : l1_ratio,\n",
    "             \"C\" : C}"
   ]
  },
  {
   "cell_type": "code",
   "execution_count": 346,
   "id": "d9dcc703",
   "metadata": {},
   "outputs": [],
   "source": [
    "model = LogisticRegression()\n",
    "\n",
    "penalty = [\"l1\", \"l2\"]\n",
    "C = np.logspace(-1, 5, 20)\n",
    "class_weight= [\"balanced\", None] \n",
    "solver = [\"lbfgs\", \"liblinear\", \"sag\", \"saga\"]\n",
    "\n",
    "param_grid = {\"penalty\" : penalty,\n",
    "              \"C\" : [C,1],\n",
    "              \"class_weight\":class_weight,\n",
    "              \"solver\":solver}\n",
    "\n",
    "\n",
    "grid_model = GridSearchCV(estimator=model,\n",
    "                          param_grid=param_grid,\n",
    "                          cv=10,\n",
    "                          scoring = 'accuracy',       \n",
    "                          n_jobs = -1)"
   ]
  },
  {
   "cell_type": "code",
   "execution_count": 347,
   "id": "8d1d03bb",
   "metadata": {},
   "outputs": [
    {
     "name": "stderr",
     "output_type": "stream",
     "text": [
      "/Users/hakantekin/miniforge3/envs/tensorflow/lib/python3.9/site-packages/sklearn/linear_model/_sag.py:352: ConvergenceWarning: The max_iter was reached which means the coef_ did not converge\n",
      "  warnings.warn(\n",
      "/Users/hakantekin/miniforge3/envs/tensorflow/lib/python3.9/site-packages/sklearn/linear_model/_sag.py:352: ConvergenceWarning: The max_iter was reached which means the coef_ did not converge\n",
      "  warnings.warn(\n"
     ]
    },
    {
     "data": {
      "text/plain": [
       "GridSearchCV(cv=10, estimator=LogisticRegression(), n_jobs=-1,\n",
       "             param_grid={'C': [array([1.00000000e-01, 2.06913808e-01, 4.28133240e-01, 8.85866790e-01,\n",
       "       1.83298071e+00, 3.79269019e+00, 7.84759970e+00, 1.62377674e+01,\n",
       "       3.35981829e+01, 6.95192796e+01, 1.43844989e+02, 2.97635144e+02,\n",
       "       6.15848211e+02, 1.27427499e+03, 2.63665090e+03, 5.45559478e+03,\n",
       "       1.12883789e+04, 2.33572147e+04, 4.83293024e+04, 1.00000000e+05]),\n",
       "                               1],\n",
       "                         'class_weight': ['balanced', None],\n",
       "                         'penalty': ['l1', 'l2'],\n",
       "                         'solver': ['lbfgs', 'liblinear', 'sag', 'saga']},\n",
       "             scoring='accuracy')"
      ]
     },
     "execution_count": 347,
     "metadata": {},
     "output_type": "execute_result"
    }
   ],
   "source": [
    "grid_model.fit(X_train,y_train)"
   ]
  },
  {
   "cell_type": "code",
   "execution_count": 348,
   "id": "cd80ce99",
   "metadata": {},
   "outputs": [
    {
     "data": {
      "text/plain": [
       "{'C': 1, 'class_weight': None, 'penalty': 'l2', 'solver': 'lbfgs'}"
      ]
     },
     "execution_count": 348,
     "metadata": {},
     "output_type": "execute_result"
    }
   ],
   "source": [
    "grid_model.best_params_"
   ]
  },
  {
   "cell_type": "code",
   "execution_count": 358,
   "id": "c911a273",
   "metadata": {},
   "outputs": [],
   "source": [
    "y_pred3 = grid_model.predict(X_test)"
   ]
  },
  {
   "cell_type": "code",
   "execution_count": 359,
   "id": "bc335e03",
   "metadata": {},
   "outputs": [
    {
     "name": "stdout",
     "output_type": "stream",
     "text": [
      "[[30  9]\n",
      " [ 8 44]]\n",
      "              precision    recall  f1-score   support\n",
      "\n",
      "           0       0.79      0.77      0.78        39\n",
      "           1       0.83      0.85      0.84        52\n",
      "\n",
      "    accuracy                           0.81        91\n",
      "   macro avg       0.81      0.81      0.81        91\n",
      "weighted avg       0.81      0.81      0.81        91\n",
      "\n"
     ]
    }
   ],
   "source": [
    "print(confusion_matrix(y_test, y_pred3))\n",
    "print(classification_report(y_test, y_pred3))"
   ]
  },
  {
   "cell_type": "code",
   "execution_count": 360,
   "id": "f54d50cd",
   "metadata": {},
   "outputs": [
    {
     "name": "stdout",
     "output_type": "stream",
     "text": [
      "Classification Metrics:\n",
      "----------------------\n",
      "Accuracy \t: 0.813\n",
      "Precision \t: 0.83\n",
      "Recall \t\t: 0.846\n",
      "F1_weighted \t: 0.813\n"
     ]
    }
   ],
   "source": [
    "eval_metric(y_test, y_pred3)"
   ]
  },
  {
   "cell_type": "code",
   "execution_count": 361,
   "id": "e5827e25",
   "metadata": {},
   "outputs": [],
   "source": [
    "scores = {\"M3\": {\"Accuracy\" : accuracy_score(y_test, y_pred3),\n",
    "    \"Precision\" : precision_score(y_test, y_pred3),\n",
    "    \"Recall\" : recall_score(y_test, y_pred3),\n",
    "    \"F1_weighted\" : f1_score(y_test, y_pred, average = 'weighted')}}\n",
    "best_parameter_log_model=pd.DataFrame(scores)"
   ]
  },
  {
   "cell_type": "code",
   "execution_count": 362,
   "id": "4c626c59",
   "metadata": {},
   "outputs": [
    {
     "data": {
      "text/html": [
       "<div>\n",
       "<style scoped>\n",
       "    .dataframe tbody tr th:only-of-type {\n",
       "        vertical-align: middle;\n",
       "    }\n",
       "\n",
       "    .dataframe tbody tr th {\n",
       "        vertical-align: top;\n",
       "    }\n",
       "\n",
       "    .dataframe thead th {\n",
       "        text-align: right;\n",
       "    }\n",
       "</style>\n",
       "<table border=\"1\" class=\"dataframe\">\n",
       "  <thead>\n",
       "    <tr style=\"text-align: right;\">\n",
       "      <th></th>\n",
       "      <th>M1</th>\n",
       "      <th>M2</th>\n",
       "      <th>M3</th>\n",
       "    </tr>\n",
       "  </thead>\n",
       "  <tbody>\n",
       "    <tr>\n",
       "      <th>Accuracy</th>\n",
       "      <td>0.813</td>\n",
       "      <td>0.813</td>\n",
       "      <td>0.813</td>\n",
       "    </tr>\n",
       "    <tr>\n",
       "      <th>F1_weighted</th>\n",
       "      <td>0.813</td>\n",
       "      <td>0.814</td>\n",
       "      <td>0.813</td>\n",
       "    </tr>\n",
       "    <tr>\n",
       "      <th>Precision</th>\n",
       "      <td>0.830</td>\n",
       "      <td>0.857</td>\n",
       "      <td>0.830</td>\n",
       "    </tr>\n",
       "    <tr>\n",
       "      <th>Recall</th>\n",
       "      <td>0.846</td>\n",
       "      <td>0.808</td>\n",
       "      <td>0.846</td>\n",
       "    </tr>\n",
       "  </tbody>\n",
       "</table>\n",
       "</div>"
      ],
      "text/plain": [
       "               M1    M2    M3\n",
       "Accuracy    0.813 0.813 0.813\n",
       "F1_weighted 0.813 0.814 0.813\n",
       "Precision   0.830 0.857 0.830\n",
       "Recall      0.846 0.808 0.846"
      ]
     },
     "execution_count": 362,
     "metadata": {},
     "output_type": "execute_result"
    }
   ],
   "source": [
    "pd.concat([base_log_model, new_treshold_log_model,best_parameter_log_model], axis = 1)"
   ]
  },
  {
   "cell_type": "markdown",
   "id": "uyHR7S4ExKCU",
   "metadata": {
    "id": "uyHR7S4ExKCU"
   },
   "source": [
    "# Implement KNN and Evaluate"
   ]
  },
  {
   "cell_type": "code",
   "execution_count": 363,
   "id": "612bff88-57f4-4d18-88bc-6fc7bb95735f",
   "metadata": {
    "id": "612bff88-57f4-4d18-88bc-6fc7bb95735f",
    "scrolled": true
   },
   "outputs": [
    {
     "data": {
      "text/plain": [
       "KNeighborsClassifier()"
      ]
     },
     "execution_count": 363,
     "metadata": {},
     "output_type": "execute_result"
    }
   ],
   "source": [
    "from sklearn.neighbors import KNeighborsClassifier\n",
    "knn = KNeighborsClassifier()\n",
    "knn.fit(X_train, y_train)"
   ]
  },
  {
   "cell_type": "code",
   "execution_count": 364,
   "id": "e7d395b9",
   "metadata": {},
   "outputs": [],
   "source": [
    "knn_pred = knn.predict(X_test)"
   ]
  },
  {
   "cell_type": "code",
   "execution_count": 366,
   "id": "874ede23",
   "metadata": {},
   "outputs": [
    {
     "name": "stdout",
     "output_type": "stream",
     "text": [
      "[[31  8]\n",
      " [ 9 43]]\n",
      "              precision    recall  f1-score   support\n",
      "\n",
      "           0       0.78      0.79      0.78        39\n",
      "           1       0.84      0.83      0.83        52\n",
      "\n",
      "    accuracy                           0.81        91\n",
      "   macro avg       0.81      0.81      0.81        91\n",
      "weighted avg       0.81      0.81      0.81        91\n",
      "\n"
     ]
    }
   ],
   "source": [
    "print(confusion_matrix(y_test, knn_pred))\n",
    "print(classification_report(y_test, knn_pred))"
   ]
  },
  {
   "cell_type": "code",
   "execution_count": 367,
   "id": "902ad5e5",
   "metadata": {},
   "outputs": [
    {
     "name": "stdout",
     "output_type": "stream",
     "text": [
      "Classification Metrics:\n",
      "----------------------\n",
      "Accuracy \t: 0.813\n",
      "Precision \t: 0.843\n",
      "Recall \t\t: 0.827\n",
      "F1_weighted \t: 0.813\n"
     ]
    }
   ],
   "source": [
    "eval_metric(y_test, knn_pred)"
   ]
  },
  {
   "cell_type": "code",
   "execution_count": 368,
   "id": "0f3780c4",
   "metadata": {},
   "outputs": [],
   "source": [
    "scores = {\"M4\": {\"Accuracy\" : accuracy_score(y_test, knn_pred),\n",
    "    \"Precision\" : precision_score(y_test, knn_pred),\n",
    "    \"Recall\" : recall_score(y_test, knn_pred),\n",
    "    \"F1_weighted\" : f1_score(y_test, knn_pred, average = 'weighted')}}\n",
    "base_knn_model=pd.DataFrame(scores)"
   ]
  },
  {
   "cell_type": "code",
   "execution_count": 369,
   "id": "d2e975c8",
   "metadata": {},
   "outputs": [
    {
     "data": {
      "text/html": [
       "<div>\n",
       "<style scoped>\n",
       "    .dataframe tbody tr th:only-of-type {\n",
       "        vertical-align: middle;\n",
       "    }\n",
       "\n",
       "    .dataframe tbody tr th {\n",
       "        vertical-align: top;\n",
       "    }\n",
       "\n",
       "    .dataframe thead th {\n",
       "        text-align: right;\n",
       "    }\n",
       "</style>\n",
       "<table border=\"1\" class=\"dataframe\">\n",
       "  <thead>\n",
       "    <tr style=\"text-align: right;\">\n",
       "      <th></th>\n",
       "      <th>M4</th>\n",
       "    </tr>\n",
       "  </thead>\n",
       "  <tbody>\n",
       "    <tr>\n",
       "      <th>Accuracy</th>\n",
       "      <td>0.813</td>\n",
       "    </tr>\n",
       "    <tr>\n",
       "      <th>F1_weighted</th>\n",
       "      <td>0.813</td>\n",
       "    </tr>\n",
       "    <tr>\n",
       "      <th>Precision</th>\n",
       "      <td>0.843</td>\n",
       "    </tr>\n",
       "    <tr>\n",
       "      <th>Recall</th>\n",
       "      <td>0.827</td>\n",
       "    </tr>\n",
       "  </tbody>\n",
       "</table>\n",
       "</div>"
      ],
      "text/plain": [
       "               M4\n",
       "Accuracy    0.813\n",
       "F1_weighted 0.813\n",
       "Precision   0.843\n",
       "Recall      0.827"
      ]
     },
     "execution_count": 369,
     "metadata": {},
     "output_type": "execute_result"
    }
   ],
   "source": [
    "base_knn_model"
   ]
  },
  {
   "cell_type": "code",
   "execution_count": 370,
   "id": "363f3da2",
   "metadata": {},
   "outputs": [
    {
     "data": {
      "text/html": [
       "<div>\n",
       "<style scoped>\n",
       "    .dataframe tbody tr th:only-of-type {\n",
       "        vertical-align: middle;\n",
       "    }\n",
       "\n",
       "    .dataframe tbody tr th {\n",
       "        vertical-align: top;\n",
       "    }\n",
       "\n",
       "    .dataframe thead th {\n",
       "        text-align: right;\n",
       "    }\n",
       "</style>\n",
       "<table border=\"1\" class=\"dataframe\">\n",
       "  <thead>\n",
       "    <tr style=\"text-align: right;\">\n",
       "      <th></th>\n",
       "      <th>M1</th>\n",
       "      <th>M2</th>\n",
       "      <th>M3</th>\n",
       "      <th>M4</th>\n",
       "    </tr>\n",
       "  </thead>\n",
       "  <tbody>\n",
       "    <tr>\n",
       "      <th>Accuracy</th>\n",
       "      <td>0.813</td>\n",
       "      <td>0.813</td>\n",
       "      <td>0.813</td>\n",
       "      <td>0.813</td>\n",
       "    </tr>\n",
       "    <tr>\n",
       "      <th>F1_weighted</th>\n",
       "      <td>0.813</td>\n",
       "      <td>0.814</td>\n",
       "      <td>0.813</td>\n",
       "      <td>0.813</td>\n",
       "    </tr>\n",
       "    <tr>\n",
       "      <th>Precision</th>\n",
       "      <td>0.830</td>\n",
       "      <td>0.857</td>\n",
       "      <td>0.830</td>\n",
       "      <td>0.843</td>\n",
       "    </tr>\n",
       "    <tr>\n",
       "      <th>Recall</th>\n",
       "      <td>0.846</td>\n",
       "      <td>0.808</td>\n",
       "      <td>0.846</td>\n",
       "      <td>0.827</td>\n",
       "    </tr>\n",
       "  </tbody>\n",
       "</table>\n",
       "</div>"
      ],
      "text/plain": [
       "               M1    M2    M3    M4\n",
       "Accuracy    0.813 0.813 0.813 0.813\n",
       "F1_weighted 0.813 0.814 0.813 0.813\n",
       "Precision   0.830 0.857 0.830 0.843\n",
       "Recall      0.846 0.808 0.846 0.827"
      ]
     },
     "execution_count": 370,
     "metadata": {},
     "output_type": "execute_result"
    }
   ],
   "source": [
    "pd.concat([base_log_model, new_treshold_log_model,best_parameter_log_model,base_knn_model], axis = 1)"
   ]
  },
  {
   "cell_type": "markdown",
   "id": "7129bf4f",
   "metadata": {},
   "source": [
    "### Elbow Method"
   ]
  },
  {
   "cell_type": "code",
   "execution_count": 371,
   "id": "cdd9582d",
   "metadata": {},
   "outputs": [],
   "source": [
    "from sklearn.metrics import accuracy_score, f1_score, recall_score, precision_score"
   ]
  },
  {
   "cell_type": "code",
   "execution_count": 372,
   "id": "fe13cd6e",
   "metadata": {},
   "outputs": [],
   "source": [
    "test_error_rates = []\n",
    "\n",
    "\n",
    "for k in range(1,31):\n",
    "    knn_model = KNeighborsClassifier(n_neighbors=k)\n",
    "    knn_model.fit(X_train,y_train) \n",
    "   \n",
    "    y_pred = knn_model.predict(X_test)\n",
    "    \n",
    "    test_error = 1 - accuracy_score(y_test,y_pred)\n",
    "    test_error_rates.append(test_error)"
   ]
  },
  {
   "cell_type": "code",
   "execution_count": 373,
   "id": "7456facc",
   "metadata": {},
   "outputs": [
    {
     "data": {
      "text/plain": [
       "<matplotlib.collections.LineCollection at 0x286237e50>"
      ]
     },
     "execution_count": 373,
     "metadata": {},
     "output_type": "execute_result"
    },
    {
     "data": {
      "image/png": "[encoded data removed]",
      "text/plain": [
       "<Figure size 1080x576 with 1 Axes>"
      ]
     },
     "metadata": {
      "needs_background": "light"
     },
     "output_type": "display_data"
    }
   ],
   "source": [
    "plt.figure(figsize=(15,8))\n",
    "plt.plot(range(1,31), test_error_rates, color='blue', linestyle='--', marker='o',\n",
    "         markerfacecolor='red', markersize=10)\n",
    "plt.title('Error Rate vs. K Value')\n",
    "plt.xlabel('K_values')\n",
    "plt.ylabel('Error Rate')\n",
    "plt.hlines(y=0.05, xmin = 0, xmax = 30, colors= 'r', linestyles=\"--\")\n",
    "plt.hlines(y=0.06, xmin = 0, xmax = 30, colors= 'r', linestyles=\"--\")"
   ]
  },
  {
   "cell_type": "code",
   "execution_count": 374,
   "id": "48f0f077",
   "metadata": {},
   "outputs": [],
   "source": [
    "# k=4\n",
    "\n",
    "knn = KNeighborsClassifier(n_neighbors=4)\n",
    "\n",
    "knn.fit(X_train,y_train)\n",
    "knn_pred2 = knn.predict(X_test)"
   ]
  },
  {
   "cell_type": "code",
   "execution_count": 375,
   "id": "98ac54ee",
   "metadata": {},
   "outputs": [
    {
     "name": "stdout",
     "output_type": "stream",
     "text": [
      "[[33  6]\n",
      " [ 9 43]]\n",
      "              precision    recall  f1-score   support\n",
      "\n",
      "           0       0.79      0.85      0.81        39\n",
      "           1       0.88      0.83      0.85        52\n",
      "\n",
      "    accuracy                           0.84        91\n",
      "   macro avg       0.83      0.84      0.83        91\n",
      "weighted avg       0.84      0.84      0.84        91\n",
      "\n"
     ]
    }
   ],
   "source": [
    "print(confusion_matrix(y_test, knn_pred2))\n",
    "print(classification_report(y_test, knn_pred2))"
   ]
  },
  {
   "cell_type": "code",
   "execution_count": 376,
   "id": "d6591e00",
   "metadata": {},
   "outputs": [
    {
     "name": "stdout",
     "output_type": "stream",
     "text": [
      "Classification Metrics:\n",
      "----------------------\n",
      "Accuracy \t: 0.835\n",
      "Precision \t: 0.878\n",
      "Recall \t\t: 0.827\n",
      "F1_weighted \t: 0.836\n"
     ]
    }
   ],
   "source": [
    "eval_metric(y_test, knn_pred2)"
   ]
  },
  {
   "cell_type": "code",
   "execution_count": 377,
   "id": "3e65aa77",
   "metadata": {},
   "outputs": [],
   "source": [
    "scores = {\"M5\": {\"Accuracy\" : accuracy_score(y_test, knn_pred2),\n",
    "    \"Precision\" : precision_score(y_test, knn_pred2),\n",
    "    \"Recall\" : recall_score(y_test, knn_pred2),\n",
    "    \"F1_weighted\" : f1_score(y_test, knn_pred2, average = 'weighted')}}\n",
    "k4_knn_model=pd.DataFrame(scores)"
   ]
  },
  {
   "cell_type": "code",
   "execution_count": 378,
   "id": "c9e32bbe",
   "metadata": {},
   "outputs": [
    {
     "data": {
      "text/html": [
       "<div>\n",
       "<style scoped>\n",
       "    .dataframe tbody tr th:only-of-type {\n",
       "        vertical-align: middle;\n",
       "    }\n",
       "\n",
       "    .dataframe tbody tr th {\n",
       "        vertical-align: top;\n",
       "    }\n",
       "\n",
       "    .dataframe thead th {\n",
       "        text-align: right;\n",
       "    }\n",
       "</style>\n",
       "<table border=\"1\" class=\"dataframe\">\n",
       "  <thead>\n",
       "    <tr style=\"text-align: right;\">\n",
       "      <th></th>\n",
       "      <th>M5</th>\n",
       "    </tr>\n",
       "  </thead>\n",
       "  <tbody>\n",
       "    <tr>\n",
       "      <th>Accuracy</th>\n",
       "      <td>0.835</td>\n",
       "    </tr>\n",
       "    <tr>\n",
       "      <th>F1_weighted</th>\n",
       "      <td>0.836</td>\n",
       "    </tr>\n",
       "    <tr>\n",
       "      <th>Precision</th>\n",
       "      <td>0.878</td>\n",
       "    </tr>\n",
       "    <tr>\n",
       "      <th>Recall</th>\n",
       "      <td>0.827</td>\n",
       "    </tr>\n",
       "  </tbody>\n",
       "</table>\n",
       "</div>"
      ],
      "text/plain": [
       "               M5\n",
       "Accuracy    0.835\n",
       "F1_weighted 0.836\n",
       "Precision   0.878\n",
       "Recall      0.827"
      ]
     },
     "execution_count": 378,
     "metadata": {},
     "output_type": "execute_result"
    }
   ],
   "source": [
    "k4_knn_model"
   ]
  },
  {
   "cell_type": "code",
   "execution_count": 379,
   "id": "3c1d31bb",
   "metadata": {},
   "outputs": [
    {
     "data": {
      "text/html": [
       "<div>\n",
       "<style scoped>\n",
       "    .dataframe tbody tr th:only-of-type {\n",
       "        vertical-align: middle;\n",
       "    }\n",
       "\n",
       "    .dataframe tbody tr th {\n",
       "        vertical-align: top;\n",
       "    }\n",
       "\n",
       "    .dataframe thead th {\n",
       "        text-align: right;\n",
       "    }\n",
       "</style>\n",
       "<table border=\"1\" class=\"dataframe\">\n",
       "  <thead>\n",
       "    <tr style=\"text-align: right;\">\n",
       "      <th></th>\n",
       "      <th>M1</th>\n",
       "      <th>M2</th>\n",
       "      <th>M3</th>\n",
       "      <th>M4</th>\n",
       "      <th>M5</th>\n",
       "    </tr>\n",
       "  </thead>\n",
       "  <tbody>\n",
       "    <tr>\n",
       "      <th>Accuracy</th>\n",
       "      <td>0.813</td>\n",
       "      <td>0.813</td>\n",
       "      <td>0.813</td>\n",
       "      <td>0.813</td>\n",
       "      <td>0.835</td>\n",
       "    </tr>\n",
       "    <tr>\n",
       "      <th>F1_weighted</th>\n",
       "      <td>0.813</td>\n",
       "      <td>0.814</td>\n",
       "      <td>0.813</td>\n",
       "      <td>0.813</td>\n",
       "      <td>0.836</td>\n",
       "    </tr>\n",
       "    <tr>\n",
       "      <th>Precision</th>\n",
       "      <td>0.830</td>\n",
       "      <td>0.857</td>\n",
       "      <td>0.830</td>\n",
       "      <td>0.843</td>\n",
       "      <td>0.878</td>\n",
       "    </tr>\n",
       "    <tr>\n",
       "      <th>Recall</th>\n",
       "      <td>0.846</td>\n",
       "      <td>0.808</td>\n",
       "      <td>0.846</td>\n",
       "      <td>0.827</td>\n",
       "      <td>0.827</td>\n",
       "    </tr>\n",
       "  </tbody>\n",
       "</table>\n",
       "</div>"
      ],
      "text/plain": [
       "               M1    M2    M3    M4    M5\n",
       "Accuracy    0.813 0.813 0.813 0.813 0.835\n",
       "F1_weighted 0.813 0.814 0.813 0.813 0.836\n",
       "Precision   0.830 0.857 0.830 0.843 0.878\n",
       "Recall      0.846 0.808 0.846 0.827 0.827"
      ]
     },
     "execution_count": 379,
     "metadata": {},
     "output_type": "execute_result"
    }
   ],
   "source": [
    "pd.concat([base_log_model, new_treshold_log_model,best_parameter_log_model,base_knn_model, k4_knn_model], axis = 1)"
   ]
  },
  {
   "cell_type": "markdown",
   "id": "9cd26c5f",
   "metadata": {},
   "source": [
    "### Cross Validate"
   ]
  },
  {
   "cell_type": "code",
   "execution_count": 380,
   "id": "685a52ff",
   "metadata": {},
   "outputs": [],
   "source": [
    "from sklearn.model_selection import cross_val_score, cross_validate"
   ]
  },
  {
   "cell_type": "code",
   "execution_count": 381,
   "id": "39c65af3",
   "metadata": {},
   "outputs": [
    {
     "data": {
      "text/html": [
       "<div>\n",
       "<style scoped>\n",
       "    .dataframe tbody tr th:only-of-type {\n",
       "        vertical-align: middle;\n",
       "    }\n",
       "\n",
       "    .dataframe tbody tr th {\n",
       "        vertical-align: top;\n",
       "    }\n",
       "\n",
       "    .dataframe thead th {\n",
       "        text-align: right;\n",
       "    }\n",
       "</style>\n",
       "<table border=\"1\" class=\"dataframe\">\n",
       "  <thead>\n",
       "    <tr style=\"text-align: right;\">\n",
       "      <th></th>\n",
       "      <th>fit_time</th>\n",
       "      <th>score_time</th>\n",
       "      <th>test_accuracy</th>\n",
       "      <th>test_precision</th>\n",
       "      <th>test_recall</th>\n",
       "      <th>test_f1</th>\n",
       "    </tr>\n",
       "  </thead>\n",
       "  <tbody>\n",
       "    <tr>\n",
       "      <th>1</th>\n",
       "      <td>0.001</td>\n",
       "      <td>0.005</td>\n",
       "      <td>0.682</td>\n",
       "      <td>0.692</td>\n",
       "      <td>0.750</td>\n",
       "      <td>0.720</td>\n",
       "    </tr>\n",
       "    <tr>\n",
       "      <th>2</th>\n",
       "      <td>0.001</td>\n",
       "      <td>0.005</td>\n",
       "      <td>0.727</td>\n",
       "      <td>0.750</td>\n",
       "      <td>0.750</td>\n",
       "      <td>0.750</td>\n",
       "    </tr>\n",
       "    <tr>\n",
       "      <th>3</th>\n",
       "      <td>0.001</td>\n",
       "      <td>0.003</td>\n",
       "      <td>0.810</td>\n",
       "      <td>0.889</td>\n",
       "      <td>0.727</td>\n",
       "      <td>0.800</td>\n",
       "    </tr>\n",
       "    <tr>\n",
       "      <th>4</th>\n",
       "      <td>0.001</td>\n",
       "      <td>0.002</td>\n",
       "      <td>0.857</td>\n",
       "      <td>0.900</td>\n",
       "      <td>0.818</td>\n",
       "      <td>0.857</td>\n",
       "    </tr>\n",
       "    <tr>\n",
       "      <th>5</th>\n",
       "      <td>0.000</td>\n",
       "      <td>0.002</td>\n",
       "      <td>0.857</td>\n",
       "      <td>0.833</td>\n",
       "      <td>0.909</td>\n",
       "      <td>0.870</td>\n",
       "    </tr>\n",
       "    <tr>\n",
       "      <th>6</th>\n",
       "      <td>0.000</td>\n",
       "      <td>0.002</td>\n",
       "      <td>0.619</td>\n",
       "      <td>0.667</td>\n",
       "      <td>0.545</td>\n",
       "      <td>0.600</td>\n",
       "    </tr>\n",
       "    <tr>\n",
       "      <th>7</th>\n",
       "      <td>0.000</td>\n",
       "      <td>0.002</td>\n",
       "      <td>0.857</td>\n",
       "      <td>0.833</td>\n",
       "      <td>0.909</td>\n",
       "      <td>0.870</td>\n",
       "    </tr>\n",
       "    <tr>\n",
       "      <th>8</th>\n",
       "      <td>0.000</td>\n",
       "      <td>0.002</td>\n",
       "      <td>0.810</td>\n",
       "      <td>0.818</td>\n",
       "      <td>0.818</td>\n",
       "      <td>0.818</td>\n",
       "    </tr>\n",
       "    <tr>\n",
       "      <th>9</th>\n",
       "      <td>0.000</td>\n",
       "      <td>0.002</td>\n",
       "      <td>0.905</td>\n",
       "      <td>1.000</td>\n",
       "      <td>0.818</td>\n",
       "      <td>0.900</td>\n",
       "    </tr>\n",
       "    <tr>\n",
       "      <th>10</th>\n",
       "      <td>0.000</td>\n",
       "      <td>0.002</td>\n",
       "      <td>0.857</td>\n",
       "      <td>1.000</td>\n",
       "      <td>0.750</td>\n",
       "      <td>0.857</td>\n",
       "    </tr>\n",
       "  </tbody>\n",
       "</table>\n",
       "</div>"
      ],
      "text/plain": [
       "    fit_time  score_time  test_accuracy  test_precision  test_recall  test_f1\n",
       "1      0.001       0.005          0.682           0.692        0.750    0.720\n",
       "2      0.001       0.005          0.727           0.750        0.750    0.750\n",
       "3      0.001       0.003          0.810           0.889        0.727    0.800\n",
       "4      0.001       0.002          0.857           0.900        0.818    0.857\n",
       "5      0.000       0.002          0.857           0.833        0.909    0.870\n",
       "6      0.000       0.002          0.619           0.667        0.545    0.600\n",
       "7      0.000       0.002          0.857           0.833        0.909    0.870\n",
       "8      0.000       0.002          0.810           0.818        0.818    0.818\n",
       "9      0.000       0.002          0.905           1.000        0.818    0.900\n",
       "10     0.000       0.002          0.857           1.000        0.750    0.857"
      ]
     },
     "execution_count": 381,
     "metadata": {},
     "output_type": "execute_result"
    }
   ],
   "source": [
    "model = KNeighborsClassifier(n_neighbors=4)\n",
    "\n",
    "scores = cross_validate(model, X_train, y_train, scoring = ['accuracy', 'precision','recall',\n",
    "                                                                   'f1'], cv = 10)\n",
    "df_scores = pd.DataFrame(scores, index = range(1, 11))\n",
    "df_scores"
   ]
  },
  {
   "cell_type": "code",
   "execution_count": 382,
   "id": "c333539e",
   "metadata": {},
   "outputs": [
    {
     "data": {
      "text/plain": [
       "test_accuracy    0.798\n",
       "test_precision   0.838\n",
       "test_recall      0.780\n",
       "test_f1          0.804\n",
       "dtype: float64"
      ]
     },
     "execution_count": 382,
     "metadata": {},
     "output_type": "execute_result"
    }
   ],
   "source": [
    "df_scores.mean()[2:]"
   ]
  },
  {
   "cell_type": "markdown",
   "id": "96751fa9",
   "metadata": {},
   "source": [
    "### Gridsearch"
   ]
  },
  {
   "cell_type": "code",
   "execution_count": 383,
   "id": "4c57907a",
   "metadata": {},
   "outputs": [],
   "source": [
    "knn_grid = KNeighborsClassifier()"
   ]
  },
  {
   "cell_type": "code",
   "execution_count": 384,
   "id": "f123d308",
   "metadata": {},
   "outputs": [],
   "source": [
    "k_values= range(1,30)"
   ]
  },
  {
   "cell_type": "code",
   "execution_count": 385,
   "id": "0162434f",
   "metadata": {},
   "outputs": [],
   "source": [
    "param_grid = {\"n_neighbors\":k_values}"
   ]
  },
  {
   "cell_type": "code",
   "execution_count": 386,
   "id": "bd74cd80",
   "metadata": {},
   "outputs": [],
   "source": [
    "knn_grid_model = GridSearchCV(knn_grid, param_grid, cv=10, scoring= 'recall')"
   ]
  },
  {
   "cell_type": "code",
   "execution_count": 387,
   "id": "8a324d9c",
   "metadata": {},
   "outputs": [
    {
     "data": {
      "text/plain": [
       "GridSearchCV(cv=10, estimator=KNeighborsClassifier(),\n",
       "             param_grid={'n_neighbors': range(1, 30)}, scoring='recall')"
      ]
     },
     "execution_count": 387,
     "metadata": {},
     "output_type": "execute_result"
    }
   ],
   "source": [
    "knn_grid_model.fit(X_train, y_train)"
   ]
  },
  {
   "cell_type": "code",
   "execution_count": 388,
   "id": "b48c44fc",
   "metadata": {},
   "outputs": [
    {
     "data": {
      "text/plain": [
       "{'n_neighbors': 27}"
      ]
     },
     "execution_count": 388,
     "metadata": {},
     "output_type": "execute_result"
    }
   ],
   "source": [
    "knn_grid_model.best_params_"
   ]
  },
  {
   "cell_type": "code",
   "execution_count": 391,
   "id": "06abc8b0",
   "metadata": {},
   "outputs": [],
   "source": [
    "knn_pred3 = knn_grid_model.predict(X_test)"
   ]
  },
  {
   "cell_type": "code",
   "execution_count": 392,
   "id": "f3030274",
   "metadata": {},
   "outputs": [
    {
     "name": "stdout",
     "output_type": "stream",
     "text": [
      "[[30  9]\n",
      " [ 8 44]]\n",
      "              precision    recall  f1-score   support\n",
      "\n",
      "           0       0.79      0.77      0.78        39\n",
      "           1       0.83      0.85      0.84        52\n",
      "\n",
      "    accuracy                           0.81        91\n",
      "   macro avg       0.81      0.81      0.81        91\n",
      "weighted avg       0.81      0.81      0.81        91\n",
      "\n"
     ]
    }
   ],
   "source": [
    "print(confusion_matrix(y_test, knn_pred3))\n",
    "print(classification_report(y_test, knn_pred3))"
   ]
  },
  {
   "cell_type": "code",
   "execution_count": 393,
   "id": "ac6a5fd8",
   "metadata": {
    "scrolled": true
   },
   "outputs": [
    {
     "name": "stdout",
     "output_type": "stream",
     "text": [
      "Classification Metrics:\n",
      "----------------------\n",
      "Accuracy \t: 0.813\n",
      "Precision \t: 0.83\n",
      "Recall \t\t: 0.846\n",
      "F1_weighted \t: 0.813\n"
     ]
    }
   ],
   "source": [
    "eval_metric(y_test, knn_pred3)"
   ]
  },
  {
   "cell_type": "code",
   "execution_count": 394,
   "id": "a18de709",
   "metadata": {},
   "outputs": [],
   "source": [
    "scores = {\"M6\": {\"Accuracy\" : accuracy_score(y_test, knn_pred3),\n",
    "    \"Precision\" : precision_score(y_test, knn_pred3),\n",
    "    \"Recall\" : recall_score(y_test, knn_pred3),\n",
    "    \"F1_weighted\" : f1_score(y_test, knn_pred3, average = 'weighted')}}\n",
    "k27_knn_model=pd.DataFrame(scores)"
   ]
  },
  {
   "cell_type": "code",
   "execution_count": 395,
   "id": "2b1c9502",
   "metadata": {},
   "outputs": [
    {
     "data": {
      "text/html": [
       "<div>\n",
       "<style scoped>\n",
       "    .dataframe tbody tr th:only-of-type {\n",
       "        vertical-align: middle;\n",
       "    }\n",
       "\n",
       "    .dataframe tbody tr th {\n",
       "        vertical-align: top;\n",
       "    }\n",
       "\n",
       "    .dataframe thead th {\n",
       "        text-align: right;\n",
       "    }\n",
       "</style>\n",
       "<table border=\"1\" class=\"dataframe\">\n",
       "  <thead>\n",
       "    <tr style=\"text-align: right;\">\n",
       "      <th></th>\n",
       "      <th>M6</th>\n",
       "    </tr>\n",
       "  </thead>\n",
       "  <tbody>\n",
       "    <tr>\n",
       "      <th>Accuracy</th>\n",
       "      <td>0.813</td>\n",
       "    </tr>\n",
       "    <tr>\n",
       "      <th>F1_weighted</th>\n",
       "      <td>0.813</td>\n",
       "    </tr>\n",
       "    <tr>\n",
       "      <th>Precision</th>\n",
       "      <td>0.830</td>\n",
       "    </tr>\n",
       "    <tr>\n",
       "      <th>Recall</th>\n",
       "      <td>0.846</td>\n",
       "    </tr>\n",
       "  </tbody>\n",
       "</table>\n",
       "</div>"
      ],
      "text/plain": [
       "               M6\n",
       "Accuracy    0.813\n",
       "F1_weighted 0.813\n",
       "Precision   0.830\n",
       "Recall      0.846"
      ]
     },
     "execution_count": 395,
     "metadata": {},
     "output_type": "execute_result"
    }
   ],
   "source": [
    "k27_knn_model"
   ]
  },
  {
   "cell_type": "code",
   "execution_count": 396,
   "id": "1ea31dfa",
   "metadata": {},
   "outputs": [
    {
     "data": {
      "text/html": [
       "<div>\n",
       "<style scoped>\n",
       "    .dataframe tbody tr th:only-of-type {\n",
       "        vertical-align: middle;\n",
       "    }\n",
       "\n",
       "    .dataframe tbody tr th {\n",
       "        vertical-align: top;\n",
       "    }\n",
       "\n",
       "    .dataframe thead th {\n",
       "        text-align: right;\n",
       "    }\n",
       "</style>\n",
       "<table border=\"1\" class=\"dataframe\">\n",
       "  <thead>\n",
       "    <tr style=\"text-align: right;\">\n",
       "      <th></th>\n",
       "      <th>M1</th>\n",
       "      <th>M2</th>\n",
       "      <th>M3</th>\n",
       "      <th>M4</th>\n",
       "      <th>M5</th>\n",
       "      <th>M6</th>\n",
       "    </tr>\n",
       "  </thead>\n",
       "  <tbody>\n",
       "    <tr>\n",
       "      <th>Accuracy</th>\n",
       "      <td>0.813</td>\n",
       "      <td>0.813</td>\n",
       "      <td>0.813</td>\n",
       "      <td>0.813</td>\n",
       "      <td>0.835</td>\n",
       "      <td>0.813</td>\n",
       "    </tr>\n",
       "    <tr>\n",
       "      <th>F1_weighted</th>\n",
       "      <td>0.813</td>\n",
       "      <td>0.814</td>\n",
       "      <td>0.813</td>\n",
       "      <td>0.813</td>\n",
       "      <td>0.836</td>\n",
       "      <td>0.813</td>\n",
       "    </tr>\n",
       "    <tr>\n",
       "      <th>Precision</th>\n",
       "      <td>0.830</td>\n",
       "      <td>0.857</td>\n",
       "      <td>0.830</td>\n",
       "      <td>0.843</td>\n",
       "      <td>0.878</td>\n",
       "      <td>0.830</td>\n",
       "    </tr>\n",
       "    <tr>\n",
       "      <th>Recall</th>\n",
       "      <td>0.846</td>\n",
       "      <td>0.808</td>\n",
       "      <td>0.846</td>\n",
       "      <td>0.827</td>\n",
       "      <td>0.827</td>\n",
       "      <td>0.846</td>\n",
       "    </tr>\n",
       "  </tbody>\n",
       "</table>\n",
       "</div>"
      ],
      "text/plain": [
       "               M1    M2    M3    M4    M5    M6\n",
       "Accuracy    0.813 0.813 0.813 0.813 0.835 0.813\n",
       "F1_weighted 0.813 0.814 0.813 0.813 0.836 0.813\n",
       "Precision   0.830 0.857 0.830 0.843 0.878 0.830\n",
       "Recall      0.846 0.808 0.846 0.827 0.827 0.846"
      ]
     },
     "execution_count": 396,
     "metadata": {},
     "output_type": "execute_result"
    }
   ],
   "source": [
    "pd.concat([base_log_model, new_treshold_log_model,best_parameter_log_model,base_knn_model, k4_knn_model, k27_knn_model], axis = 1)"
   ]
  },
  {
   "cell_type": "code",
   "execution_count": null,
   "id": "cc5f4261",
   "metadata": {},
   "outputs": [],
   "source": []
  }
 ],
 "metadata": {
  "colab": {
   "collapsed_sections": [],
   "name": "Heart_Stroke_Prediction_lab.ipynb",
   "provenance": []
  },
  "kernelspec": {
   "display_name": "Python 3.9 (tensorflow)",
   "language": "python",
   "name": "tensorflow"
  },
  "language_info": {
   "codemirror_mode": {
    "name": "ipython",
    "version": 3
   },
   "file_extension": ".py",
   "mimetype": "text/x-python",
   "name": "python",
   "nbconvert_exporter": "python",
   "pygments_lexer": "ipython3",
   "version": "3.9.7"
  }
 },
 "nbformat": 4,
 "nbformat_minor": 5
}
