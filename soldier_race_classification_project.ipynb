{
 "cells": [
  {
   "cell_type": "markdown",
   "metadata": {
    "cell_style": "split",
    "hidden": true,
    "id": "gCVDEsGB1b60"
   },
   "source": [
    "______________________________________________________\n",
    "# Soldier Race Classification Project\n",
    "______________________________________________________\n",
    "\n"
   ]
  },
  {
   "cell_type": "markdown",
   "metadata": {
    "heading_collapsed": true,
    "id": "Y5-Kay1Eqvdj"
   },
   "source": [
    "# EDA\n"
   ]
  },
  {
   "cell_type": "markdown",
   "metadata": {
    "heading_collapsed": true,
    "hidden": true,
    "id": "K7UZHtvu1b62"
   },
   "source": [
    "## Import Libraries"
   ]
  },
  {
   "cell_type": "code",
   "execution_count": 36,
   "metadata": {
    "hidden": true,
    "id": "OqnRjwHB1b64"
   },
   "outputs": [
    {
     "data": {
      "text/html": [
       "        <script type=\"text/javascript\">\n",
       "        window.PlotlyConfig = {MathJaxConfig: 'local'};\n",
       "        if (window.MathJax) {MathJax.Hub.Config({SVG: {font: \"STIX-Web\"}});}\n",
       "        if (typeof require !== 'undefined') {\n",
       "        require.undef(\"plotly\");\n",
       "        requirejs.config({\n",
       "            paths: {\n",
       "                'plotly': ['https://cdn.plot.ly/plotly-2.8.3.min']\n",
       "            }\n",
       "        });\n",
       "        require(['plotly'], function(Plotly) {\n",
       "            window._Plotly = Plotly;\n",
       "        });\n",
       "        }\n",
       "        </script>\n",
       "        "
      ]
     },
     "metadata": {},
     "output_type": "display_data"
    },
    {
     "data": {
      "text/html": [
       "        <script type=\"text/javascript\">\n",
       "        window.PlotlyConfig = {MathJaxConfig: 'local'};\n",
       "        if (window.MathJax) {MathJax.Hub.Config({SVG: {font: \"STIX-Web\"}});}\n",
       "        if (typeof require !== 'undefined') {\n",
       "        require.undef(\"plotly\");\n",
       "        requirejs.config({\n",
       "            paths: {\n",
       "                'plotly': ['https://cdn.plot.ly/plotly-2.8.3.min']\n",
       "            }\n",
       "        });\n",
       "        require(['plotly'], function(Plotly) {\n",
       "            window._Plotly = Plotly;\n",
       "        });\n",
       "        }\n",
       "        </script>\n",
       "        "
      ]
     },
     "metadata": {},
     "output_type": "display_data"
    }
   ],
   "source": [
    "import pandas as pd\n",
    "import numpy as np\n",
    "import matplotlib.pyplot as plt\n",
    "import seaborn as sns\n",
    "\n",
    "import pyforest\n",
    "import plotly\n",
    "import cufflinks as cf\n",
    "\n",
    "#Enabling the offline mode for interactive plotting locally\n",
    "from plotly.offline import download_plotlyjs,init_notebook_mode,plot,iplot\n",
    "init_notebook_mode(connected=True)\n",
    "cf.go_offline()\n",
    "\n",
    "#To display the plots\n",
    "%matplotlib inline\n",
    "plt.rcParams[\"figure.figsize\"] = (10,6)\n",
    "\n",
    "import warnings\n",
    "warnings.filterwarnings('ignore')\n",
    "warnings.warn(\"this will not show\")\n",
    "\n",
    "pd.set_option('display.float_format', lambda x: '%.3f' % x)\n",
    "\n",
    "from sklearn.preprocessing import MinMaxScaler\n",
    "from sklearn.linear_model import LogisticRegression\n",
    "from sklearn.neighbors import KNeighborsClassifier\n",
    "from sklearn.model_selection import cross_val_score, cross_validate\n",
    "from sklearn.metrics import accuracy_score, f1_score, recall_score, precision_score\n",
    "from sklearn.metrics import make_scorer\n",
    "from sklearn.metrics import classification_report,confusion_matrix,plot_confusion_matrix\n",
    "from sklearn.metrics import roc_auc_score\n",
    "from sklearn.model_selection import GridSearchCV\n",
    "from sklearn.metrics import roc_curve, auc\n",
    "from sklearn.svm import SVC\n",
    "from sklearn.ensemble import RandomForestClassifier\n",
    "from xgboost import XGBClassifier"
   ]
  },
  {
   "cell_type": "code",
   "execution_count": 37,
   "metadata": {},
   "outputs": [],
   "source": [
    "def plot_multiclass_roc(clf, X_test, y_test, n_classes, figsize=(5,5)):\n",
    "    y_score = clf.decision_function(X_test)\n",
    "\n",
    "    # structures\n",
    "    fpr = dict()\n",
    "    tpr = dict()\n",
    "    roc_auc = dict()\n",
    "\n",
    "    # calculate dummies once\n",
    "    y_test_dummies = pd.get_dummies(y_test, drop_first=False).values\n",
    "    for i in range(n_classes):\n",
    "        fpr[i], tpr[i], _ = roc_curve(y_test_dummies[:, i], y_score[:, i])\n",
    "        roc_auc[i] = auc(fpr[i], tpr[i])\n",
    "\n",
    "    # roc for each class\n",
    "    fig, ax = plt.subplots(figsize=figsize)\n",
    "    ax.plot([0, 1], [0, 1], 'k--')\n",
    "    ax.set_xlim([0.0, 1.0])\n",
    "    ax.set_ylim([0.0, 1.05])\n",
    "    ax.set_xlabel('False Positive Rate')\n",
    "    ax.set_ylabel('True Positive Rate')\n",
    "    ax.set_title('Receiver operating characteristic example')\n",
    "    for i in range(n_classes):\n",
    "        ax.plot(fpr[i], tpr[i], label='ROC curve (area = %0.2f) for label %i' % (roc_auc[i], i))\n",
    "    ax.legend(loc=\"best\")\n",
    "    ax.grid(alpha=.4)\n",
    "    sns.despine()\n",
    "    plt.show()"
   ]
  },
  {
   "cell_type": "code",
   "execution_count": 38,
   "metadata": {},
   "outputs": [],
   "source": [
    "def plot_multiclass_roc_for_tree(clf, X_test, y_test, n_classes, figsize=(5,5)):\n",
    "    y_score = clf.predict_proba(X_test)\n",
    "\n",
    "    # structures\n",
    "    fpr = dict()\n",
    "    tpr = dict()\n",
    "    roc_auc = dict()\n",
    "\n",
    "    # calculate dummies once\n",
    "    y_test_dummies = pd.get_dummies(y_test, drop_first=False).values\n",
    "    for i in range(n_classes):\n",
    "        fpr[i], tpr[i], _ = roc_curve(y_test_dummies[:, i], y_score[:, i])\n",
    "        roc_auc[i] = auc(fpr[i], tpr[i])\n",
    "\n",
    "    # roc for each class\n",
    "    fig, ax = plt.subplots(figsize=figsize)\n",
    "    ax.plot([0, 1], [0, 1], 'k--')\n",
    "    ax.set_xlim([0.0, 1.0])\n",
    "    ax.set_ylim([0.0, 1.05])\n",
    "    ax.set_xlabel('False Positive Rate')\n",
    "    ax.set_ylabel('True Positive Rate')\n",
    "    ax.set_title('Receiver operating characteristic example')\n",
    "    for i in range(n_classes):\n",
    "        ax.plot(fpr[i], tpr[i], label='ROC curve (area = %0.2f) for label %i' % (roc_auc[i], i))\n",
    "    ax.legend(loc=\"best\")\n",
    "    ax.grid(alpha=.4)\n",
    "    sns.despine()\n",
    "    plt.show()"
   ]
  },
  {
   "cell_type": "markdown",
   "metadata": {
    "heading_collapsed": true,
    "hidden": true,
    "id": "C5lJeTBu1b65"
   },
   "source": [
    "## Ingest Data from links below and make a dataframe\n",
    "- Soldiers Male : https://query.data.world/s/h3pbhckz5ck4rc7qmt2wlknlnn7esr\n",
    "- Soldiers Female : https://query.data.world/s/sq27zz4hawg32yfxksqwijxmpwmynq"
   ]
  },
  {
   "cell_type": "code",
   "execution_count": 39,
   "metadata": {
    "colab": {
     "base_uri": "https://localhost:8080/",
     "height": 17
    },
    "hidden": true,
    "id": "tG5BsWraqX_y",
    "outputId": "a6e730fa-6848-4cfc-becb-284fc8cc99e5"
   },
   "outputs": [],
   "source": [
    "df_male = pd.read_csv('https://query.data.world/s/h3pbhckz5ck4rc7qmt2wlknlnn7esr',\n",
    "                      encoding='latin-1')"
   ]
  },
  {
   "cell_type": "code",
   "execution_count": 40,
   "metadata": {},
   "outputs": [],
   "source": [
    "df_female = pd.read_csv('https://query.data.world/s/sq27zz4hawg32yfxksqwijxmpwmynq',\n",
    "                      encoding='latin-1')"
   ]
  },
  {
   "cell_type": "code",
   "execution_count": 41,
   "metadata": {},
   "outputs": [
    {
     "data": {
      "text/html": [
       "<div>\n",
       "<style scoped>\n",
       "    .dataframe tbody tr th:only-of-type {\n",
       "        vertical-align: middle;\n",
       "    }\n",
       "\n",
       "    .dataframe tbody tr th {\n",
       "        vertical-align: top;\n",
       "    }\n",
       "\n",
       "    .dataframe thead th {\n",
       "        text-align: right;\n",
       "    }\n",
       "</style>\n",
       "<table border=\"1\" class=\"dataframe\">\n",
       "  <thead>\n",
       "    <tr style=\"text-align: right;\">\n",
       "      <th></th>\n",
       "      <th>subjectid</th>\n",
       "      <th>abdominalextensiondepthsitting</th>\n",
       "      <th>acromialheight</th>\n",
       "      <th>acromionradialelength</th>\n",
       "      <th>anklecircumference</th>\n",
       "      <th>axillaheight</th>\n",
       "      <th>balloffootcircumference</th>\n",
       "      <th>balloffootlength</th>\n",
       "      <th>biacromialbreadth</th>\n",
       "      <th>bicepscircumferenceflexed</th>\n",
       "      <th>bicristalbreadth</th>\n",
       "      <th>bideltoidbreadth</th>\n",
       "      <th>bimalleolarbreadth</th>\n",
       "      <th>bitragionchinarc</th>\n",
       "      <th>bitragionsubmandibulararc</th>\n",
       "      <th>bizygomaticbreadth</th>\n",
       "      <th>buttockcircumference</th>\n",
       "      <th>buttockdepth</th>\n",
       "      <th>buttockheight</th>\n",
       "      <th>buttockkneelength</th>\n",
       "      <th>buttockpopliteallength</th>\n",
       "      <th>calfcircumference</th>\n",
       "      <th>cervicaleheight</th>\n",
       "      <th>chestbreadth</th>\n",
       "      <th>chestcircumference</th>\n",
       "      <th>chestdepth</th>\n",
       "      <th>chestheight</th>\n",
       "      <th>crotchheight</th>\n",
       "      <th>crotchlengthomphalion</th>\n",
       "      <th>crotchlengthposterioromphalion</th>\n",
       "      <th>earbreadth</th>\n",
       "      <th>earlength</th>\n",
       "      <th>earprotrusion</th>\n",
       "      <th>elbowrestheight</th>\n",
       "      <th>eyeheightsitting</th>\n",
       "      <th>footbreadthhorizontal</th>\n",
       "      <th>footlength</th>\n",
       "      <th>forearmcenterofgriplength</th>\n",
       "      <th>forearmcircumferenceflexed</th>\n",
       "      <th>forearmforearmbreadth</th>\n",
       "      <th>forearmhandlength</th>\n",
       "      <th>functionalleglength</th>\n",
       "      <th>handbreadth</th>\n",
       "      <th>handcircumference</th>\n",
       "      <th>handlength</th>\n",
       "      <th>headbreadth</th>\n",
       "      <th>headcircumference</th>\n",
       "      <th>headlength</th>\n",
       "      <th>heelanklecircumference</th>\n",
       "      <th>heelbreadth</th>\n",
       "      <th>hipbreadth</th>\n",
       "      <th>hipbreadthsitting</th>\n",
       "      <th>iliocristaleheight</th>\n",
       "      <th>interpupillarybreadth</th>\n",
       "      <th>interscyei</th>\n",
       "      <th>interscyeii</th>\n",
       "      <th>kneeheightmidpatella</th>\n",
       "      <th>kneeheightsitting</th>\n",
       "      <th>lateralfemoralepicondyleheight</th>\n",
       "      <th>lateralmalleolusheight</th>\n",
       "      <th>lowerthighcircumference</th>\n",
       "      <th>mentonsellionlength</th>\n",
       "      <th>neckcircumference</th>\n",
       "      <th>neckcircumferencebase</th>\n",
       "      <th>overheadfingertipreachsitting</th>\n",
       "      <th>palmlength</th>\n",
       "      <th>poplitealheight</th>\n",
       "      <th>radialestylionlength</th>\n",
       "      <th>shouldercircumference</th>\n",
       "      <th>shoulderelbowlength</th>\n",
       "      <th>shoulderlength</th>\n",
       "      <th>sittingheight</th>\n",
       "      <th>sleevelengthspinewrist</th>\n",
       "      <th>sleeveoutseam</th>\n",
       "      <th>span</th>\n",
       "      <th>stature</th>\n",
       "      <th>suprasternaleheight</th>\n",
       "      <th>tenthribheight</th>\n",
       "      <th>thighcircumference</th>\n",
       "      <th>thighclearance</th>\n",
       "      <th>thumbtipreach</th>\n",
       "      <th>tibialheight</th>\n",
       "      <th>tragiontopofhead</th>\n",
       "      <th>trochanterionheight</th>\n",
       "      <th>verticaltrunkcircumferenceusa</th>\n",
       "      <th>waistbacklength</th>\n",
       "      <th>waistbreadth</th>\n",
       "      <th>waistcircumference</th>\n",
       "      <th>waistdepth</th>\n",
       "      <th>waistfrontlengthsitting</th>\n",
       "      <th>waistheightomphalion</th>\n",
       "      <th>weightkg</th>\n",
       "      <th>wristcircumference</th>\n",
       "      <th>wristheight</th>\n",
       "      <th>Gender</th>\n",
       "      <th>Date</th>\n",
       "      <th>Installation</th>\n",
       "      <th>Component</th>\n",
       "      <th>Branch</th>\n",
       "      <th>PrimaryMOS</th>\n",
       "      <th>SubjectsBirthLocation</th>\n",
       "      <th>SubjectNumericRace</th>\n",
       "      <th>Ethnicity</th>\n",
       "      <th>DODRace</th>\n",
       "      <th>Age</th>\n",
       "      <th>Heightin</th>\n",
       "      <th>Weightlbs</th>\n",
       "      <th>WritingPreference</th>\n",
       "    </tr>\n",
       "  </thead>\n",
       "  <tbody>\n",
       "    <tr>\n",
       "      <th>0</th>\n",
       "      <td>10027</td>\n",
       "      <td>266</td>\n",
       "      <td>1467</td>\n",
       "      <td>337</td>\n",
       "      <td>222</td>\n",
       "      <td>1347</td>\n",
       "      <td>253</td>\n",
       "      <td>202</td>\n",
       "      <td>401</td>\n",
       "      <td>369</td>\n",
       "      <td>274</td>\n",
       "      <td>493</td>\n",
       "      <td>71</td>\n",
       "      <td>319</td>\n",
       "      <td>291</td>\n",
       "      <td>142</td>\n",
       "      <td>979</td>\n",
       "      <td>240</td>\n",
       "      <td>882</td>\n",
       "      <td>619</td>\n",
       "      <td>509</td>\n",
       "      <td>373</td>\n",
       "      <td>1535</td>\n",
       "      <td>291</td>\n",
       "      <td>1074</td>\n",
       "      <td>259</td>\n",
       "      <td>1292</td>\n",
       "      <td>877</td>\n",
       "      <td>607</td>\n",
       "      <td>351</td>\n",
       "      <td>36</td>\n",
       "      <td>71</td>\n",
       "      <td>19</td>\n",
       "      <td>247</td>\n",
       "      <td>802</td>\n",
       "      <td>101</td>\n",
       "      <td>273</td>\n",
       "      <td>349</td>\n",
       "      <td>299</td>\n",
       "      <td>575</td>\n",
       "      <td>477</td>\n",
       "      <td>1136</td>\n",
       "      <td>90</td>\n",
       "      <td>214</td>\n",
       "      <td>193</td>\n",
       "      <td>150</td>\n",
       "      <td>583</td>\n",
       "      <td>206</td>\n",
       "      <td>326</td>\n",
       "      <td>70</td>\n",
       "      <td>332</td>\n",
       "      <td>366</td>\n",
       "      <td>1071</td>\n",
       "      <td>685</td>\n",
       "      <td>422</td>\n",
       "      <td>441</td>\n",
       "      <td>502</td>\n",
       "      <td>560</td>\n",
       "      <td>500</td>\n",
       "      <td>77</td>\n",
       "      <td>391</td>\n",
       "      <td>118</td>\n",
       "      <td>400</td>\n",
       "      <td>436</td>\n",
       "      <td>1447</td>\n",
       "      <td>113</td>\n",
       "      <td>437</td>\n",
       "      <td>273</td>\n",
       "      <td>1151</td>\n",
       "      <td>368</td>\n",
       "      <td>145</td>\n",
       "      <td>928</td>\n",
       "      <td>883</td>\n",
       "      <td>600</td>\n",
       "      <td>1782</td>\n",
       "      <td>1776</td>\n",
       "      <td>1449</td>\n",
       "      <td>1092</td>\n",
       "      <td>610</td>\n",
       "      <td>164</td>\n",
       "      <td>786</td>\n",
       "      <td>491</td>\n",
       "      <td>140</td>\n",
       "      <td>919</td>\n",
       "      <td>1700</td>\n",
       "      <td>501</td>\n",
       "      <td>329</td>\n",
       "      <td>933</td>\n",
       "      <td>240</td>\n",
       "      <td>440</td>\n",
       "      <td>1054</td>\n",
       "      <td>815</td>\n",
       "      <td>175</td>\n",
       "      <td>853</td>\n",
       "      <td>Male</td>\n",
       "      <td>4-Oct-10</td>\n",
       "      <td>Fort Hood</td>\n",
       "      <td>Regular Army</td>\n",
       "      <td>Combat Arms</td>\n",
       "      <td>19D</td>\n",
       "      <td>North Dakota</td>\n",
       "      <td>1</td>\n",
       "      <td>NaN</td>\n",
       "      <td>1</td>\n",
       "      <td>41</td>\n",
       "      <td>71</td>\n",
       "      <td>180</td>\n",
       "      <td>Right hand</td>\n",
       "    </tr>\n",
       "    <tr>\n",
       "      <th>1</th>\n",
       "      <td>10032</td>\n",
       "      <td>233</td>\n",
       "      <td>1395</td>\n",
       "      <td>326</td>\n",
       "      <td>220</td>\n",
       "      <td>1293</td>\n",
       "      <td>245</td>\n",
       "      <td>193</td>\n",
       "      <td>394</td>\n",
       "      <td>338</td>\n",
       "      <td>257</td>\n",
       "      <td>479</td>\n",
       "      <td>67</td>\n",
       "      <td>344</td>\n",
       "      <td>320</td>\n",
       "      <td>135</td>\n",
       "      <td>944</td>\n",
       "      <td>232</td>\n",
       "      <td>870</td>\n",
       "      <td>584</td>\n",
       "      <td>468</td>\n",
       "      <td>357</td>\n",
       "      <td>1471</td>\n",
       "      <td>269</td>\n",
       "      <td>1021</td>\n",
       "      <td>253</td>\n",
       "      <td>1244</td>\n",
       "      <td>851</td>\n",
       "      <td>615</td>\n",
       "      <td>376</td>\n",
       "      <td>33</td>\n",
       "      <td>62</td>\n",
       "      <td>18</td>\n",
       "      <td>232</td>\n",
       "      <td>781</td>\n",
       "      <td>98</td>\n",
       "      <td>263</td>\n",
       "      <td>348</td>\n",
       "      <td>289</td>\n",
       "      <td>523</td>\n",
       "      <td>476</td>\n",
       "      <td>1096</td>\n",
       "      <td>86</td>\n",
       "      <td>203</td>\n",
       "      <td>195</td>\n",
       "      <td>146</td>\n",
       "      <td>568</td>\n",
       "      <td>201</td>\n",
       "      <td>334</td>\n",
       "      <td>72</td>\n",
       "      <td>312</td>\n",
       "      <td>356</td>\n",
       "      <td>1046</td>\n",
       "      <td>620</td>\n",
       "      <td>441</td>\n",
       "      <td>447</td>\n",
       "      <td>490</td>\n",
       "      <td>540</td>\n",
       "      <td>488</td>\n",
       "      <td>73</td>\n",
       "      <td>371</td>\n",
       "      <td>131</td>\n",
       "      <td>380</td>\n",
       "      <td>420</td>\n",
       "      <td>1380</td>\n",
       "      <td>118</td>\n",
       "      <td>417</td>\n",
       "      <td>254</td>\n",
       "      <td>1119</td>\n",
       "      <td>353</td>\n",
       "      <td>141</td>\n",
       "      <td>884</td>\n",
       "      <td>868</td>\n",
       "      <td>564</td>\n",
       "      <td>1745</td>\n",
       "      <td>1702</td>\n",
       "      <td>1387</td>\n",
       "      <td>1076</td>\n",
       "      <td>572</td>\n",
       "      <td>169</td>\n",
       "      <td>822</td>\n",
       "      <td>476</td>\n",
       "      <td>120</td>\n",
       "      <td>918</td>\n",
       "      <td>1627</td>\n",
       "      <td>432</td>\n",
       "      <td>316</td>\n",
       "      <td>870</td>\n",
       "      <td>225</td>\n",
       "      <td>371</td>\n",
       "      <td>1054</td>\n",
       "      <td>726</td>\n",
       "      <td>167</td>\n",
       "      <td>815</td>\n",
       "      <td>Male</td>\n",
       "      <td>4-Oct-10</td>\n",
       "      <td>Fort Hood</td>\n",
       "      <td>Regular Army</td>\n",
       "      <td>Combat Support</td>\n",
       "      <td>68W</td>\n",
       "      <td>New York</td>\n",
       "      <td>1</td>\n",
       "      <td>NaN</td>\n",
       "      <td>1</td>\n",
       "      <td>35</td>\n",
       "      <td>68</td>\n",
       "      <td>160</td>\n",
       "      <td>Left hand</td>\n",
       "    </tr>\n",
       "    <tr>\n",
       "      <th>2</th>\n",
       "      <td>10033</td>\n",
       "      <td>287</td>\n",
       "      <td>1430</td>\n",
       "      <td>341</td>\n",
       "      <td>230</td>\n",
       "      <td>1327</td>\n",
       "      <td>256</td>\n",
       "      <td>196</td>\n",
       "      <td>427</td>\n",
       "      <td>408</td>\n",
       "      <td>261</td>\n",
       "      <td>544</td>\n",
       "      <td>75</td>\n",
       "      <td>345</td>\n",
       "      <td>330</td>\n",
       "      <td>135</td>\n",
       "      <td>1054</td>\n",
       "      <td>258</td>\n",
       "      <td>901</td>\n",
       "      <td>623</td>\n",
       "      <td>506</td>\n",
       "      <td>412</td>\n",
       "      <td>1501</td>\n",
       "      <td>288</td>\n",
       "      <td>1120</td>\n",
       "      <td>267</td>\n",
       "      <td>1288</td>\n",
       "      <td>854</td>\n",
       "      <td>636</td>\n",
       "      <td>359</td>\n",
       "      <td>40</td>\n",
       "      <td>61</td>\n",
       "      <td>23</td>\n",
       "      <td>237</td>\n",
       "      <td>810</td>\n",
       "      <td>103</td>\n",
       "      <td>270</td>\n",
       "      <td>355</td>\n",
       "      <td>357</td>\n",
       "      <td>575</td>\n",
       "      <td>491</td>\n",
       "      <td>1115</td>\n",
       "      <td>93</td>\n",
       "      <td>220</td>\n",
       "      <td>203</td>\n",
       "      <td>148</td>\n",
       "      <td>573</td>\n",
       "      <td>202</td>\n",
       "      <td>356</td>\n",
       "      <td>70</td>\n",
       "      <td>349</td>\n",
       "      <td>393</td>\n",
       "      <td>1053</td>\n",
       "      <td>665</td>\n",
       "      <td>462</td>\n",
       "      <td>475</td>\n",
       "      <td>496</td>\n",
       "      <td>556</td>\n",
       "      <td>482</td>\n",
       "      <td>72</td>\n",
       "      <td>409</td>\n",
       "      <td>123</td>\n",
       "      <td>403</td>\n",
       "      <td>434</td>\n",
       "      <td>1447</td>\n",
       "      <td>121</td>\n",
       "      <td>431</td>\n",
       "      <td>268</td>\n",
       "      <td>1276</td>\n",
       "      <td>367</td>\n",
       "      <td>167</td>\n",
       "      <td>917</td>\n",
       "      <td>910</td>\n",
       "      <td>604</td>\n",
       "      <td>1867</td>\n",
       "      <td>1735</td>\n",
       "      <td>1438</td>\n",
       "      <td>1105</td>\n",
       "      <td>685</td>\n",
       "      <td>198</td>\n",
       "      <td>807</td>\n",
       "      <td>477</td>\n",
       "      <td>125</td>\n",
       "      <td>918</td>\n",
       "      <td>1678</td>\n",
       "      <td>472</td>\n",
       "      <td>329</td>\n",
       "      <td>964</td>\n",
       "      <td>255</td>\n",
       "      <td>411</td>\n",
       "      <td>1041</td>\n",
       "      <td>929</td>\n",
       "      <td>180</td>\n",
       "      <td>831</td>\n",
       "      <td>Male</td>\n",
       "      <td>4-Oct-10</td>\n",
       "      <td>Fort Hood</td>\n",
       "      <td>Regular Army</td>\n",
       "      <td>Combat Support</td>\n",
       "      <td>68W</td>\n",
       "      <td>New York</td>\n",
       "      <td>2</td>\n",
       "      <td>NaN</td>\n",
       "      <td>2</td>\n",
       "      <td>42</td>\n",
       "      <td>68</td>\n",
       "      <td>205</td>\n",
       "      <td>Left hand</td>\n",
       "    </tr>\n",
       "    <tr>\n",
       "      <th>3</th>\n",
       "      <td>10092</td>\n",
       "      <td>234</td>\n",
       "      <td>1347</td>\n",
       "      <td>310</td>\n",
       "      <td>230</td>\n",
       "      <td>1239</td>\n",
       "      <td>262</td>\n",
       "      <td>199</td>\n",
       "      <td>401</td>\n",
       "      <td>359</td>\n",
       "      <td>262</td>\n",
       "      <td>518</td>\n",
       "      <td>73</td>\n",
       "      <td>328</td>\n",
       "      <td>309</td>\n",
       "      <td>143</td>\n",
       "      <td>991</td>\n",
       "      <td>242</td>\n",
       "      <td>821</td>\n",
       "      <td>560</td>\n",
       "      <td>437</td>\n",
       "      <td>395</td>\n",
       "      <td>1423</td>\n",
       "      <td>296</td>\n",
       "      <td>1114</td>\n",
       "      <td>262</td>\n",
       "      <td>1205</td>\n",
       "      <td>769</td>\n",
       "      <td>590</td>\n",
       "      <td>341</td>\n",
       "      <td>39</td>\n",
       "      <td>66</td>\n",
       "      <td>25</td>\n",
       "      <td>272</td>\n",
       "      <td>794</td>\n",
       "      <td>106</td>\n",
       "      <td>267</td>\n",
       "      <td>352</td>\n",
       "      <td>318</td>\n",
       "      <td>593</td>\n",
       "      <td>467</td>\n",
       "      <td>1034</td>\n",
       "      <td>91</td>\n",
       "      <td>217</td>\n",
       "      <td>194</td>\n",
       "      <td>158</td>\n",
       "      <td>576</td>\n",
       "      <td>199</td>\n",
       "      <td>341</td>\n",
       "      <td>68</td>\n",
       "      <td>338</td>\n",
       "      <td>367</td>\n",
       "      <td>986</td>\n",
       "      <td>640</td>\n",
       "      <td>458</td>\n",
       "      <td>461</td>\n",
       "      <td>460</td>\n",
       "      <td>511</td>\n",
       "      <td>452</td>\n",
       "      <td>76</td>\n",
       "      <td>393</td>\n",
       "      <td>106</td>\n",
       "      <td>407</td>\n",
       "      <td>446</td>\n",
       "      <td>1357</td>\n",
       "      <td>118</td>\n",
       "      <td>393</td>\n",
       "      <td>249</td>\n",
       "      <td>1155</td>\n",
       "      <td>330</td>\n",
       "      <td>148</td>\n",
       "      <td>903</td>\n",
       "      <td>848</td>\n",
       "      <td>550</td>\n",
       "      <td>1708</td>\n",
       "      <td>1655</td>\n",
       "      <td>1346</td>\n",
       "      <td>1021</td>\n",
       "      <td>604</td>\n",
       "      <td>180</td>\n",
       "      <td>803</td>\n",
       "      <td>445</td>\n",
       "      <td>127</td>\n",
       "      <td>847</td>\n",
       "      <td>1625</td>\n",
       "      <td>461</td>\n",
       "      <td>315</td>\n",
       "      <td>857</td>\n",
       "      <td>205</td>\n",
       "      <td>399</td>\n",
       "      <td>968</td>\n",
       "      <td>794</td>\n",
       "      <td>176</td>\n",
       "      <td>793</td>\n",
       "      <td>Male</td>\n",
       "      <td>12-Oct-10</td>\n",
       "      <td>Fort Hood</td>\n",
       "      <td>Regular Army</td>\n",
       "      <td>Combat Service Support</td>\n",
       "      <td>88M</td>\n",
       "      <td>Wisconsin</td>\n",
       "      <td>1</td>\n",
       "      <td>NaN</td>\n",
       "      <td>1</td>\n",
       "      <td>31</td>\n",
       "      <td>66</td>\n",
       "      <td>175</td>\n",
       "      <td>Right hand</td>\n",
       "    </tr>\n",
       "    <tr>\n",
       "      <th>4</th>\n",
       "      <td>10093</td>\n",
       "      <td>250</td>\n",
       "      <td>1585</td>\n",
       "      <td>372</td>\n",
       "      <td>247</td>\n",
       "      <td>1478</td>\n",
       "      <td>267</td>\n",
       "      <td>224</td>\n",
       "      <td>435</td>\n",
       "      <td>356</td>\n",
       "      <td>263</td>\n",
       "      <td>524</td>\n",
       "      <td>80</td>\n",
       "      <td>340</td>\n",
       "      <td>310</td>\n",
       "      <td>138</td>\n",
       "      <td>1029</td>\n",
       "      <td>275</td>\n",
       "      <td>1080</td>\n",
       "      <td>706</td>\n",
       "      <td>567</td>\n",
       "      <td>425</td>\n",
       "      <td>1684</td>\n",
       "      <td>304</td>\n",
       "      <td>1048</td>\n",
       "      <td>232</td>\n",
       "      <td>1452</td>\n",
       "      <td>1014</td>\n",
       "      <td>682</td>\n",
       "      <td>382</td>\n",
       "      <td>32</td>\n",
       "      <td>56</td>\n",
       "      <td>19</td>\n",
       "      <td>188</td>\n",
       "      <td>814</td>\n",
       "      <td>111</td>\n",
       "      <td>305</td>\n",
       "      <td>399</td>\n",
       "      <td>324</td>\n",
       "      <td>605</td>\n",
       "      <td>550</td>\n",
       "      <td>1279</td>\n",
       "      <td>94</td>\n",
       "      <td>222</td>\n",
       "      <td>218</td>\n",
       "      <td>153</td>\n",
       "      <td>566</td>\n",
       "      <td>197</td>\n",
       "      <td>374</td>\n",
       "      <td>69</td>\n",
       "      <td>332</td>\n",
       "      <td>372</td>\n",
       "      <td>1251</td>\n",
       "      <td>675</td>\n",
       "      <td>481</td>\n",
       "      <td>505</td>\n",
       "      <td>612</td>\n",
       "      <td>666</td>\n",
       "      <td>585</td>\n",
       "      <td>85</td>\n",
       "      <td>458</td>\n",
       "      <td>135</td>\n",
       "      <td>398</td>\n",
       "      <td>430</td>\n",
       "      <td>1572</td>\n",
       "      <td>132</td>\n",
       "      <td>523</td>\n",
       "      <td>302</td>\n",
       "      <td>1231</td>\n",
       "      <td>400</td>\n",
       "      <td>180</td>\n",
       "      <td>919</td>\n",
       "      <td>995</td>\n",
       "      <td>641</td>\n",
       "      <td>2035</td>\n",
       "      <td>1914</td>\n",
       "      <td>1596</td>\n",
       "      <td>1292</td>\n",
       "      <td>672</td>\n",
       "      <td>194</td>\n",
       "      <td>962</td>\n",
       "      <td>584</td>\n",
       "      <td>122</td>\n",
       "      <td>1090</td>\n",
       "      <td>1679</td>\n",
       "      <td>467</td>\n",
       "      <td>303</td>\n",
       "      <td>868</td>\n",
       "      <td>214</td>\n",
       "      <td>379</td>\n",
       "      <td>1245</td>\n",
       "      <td>946</td>\n",
       "      <td>188</td>\n",
       "      <td>954</td>\n",
       "      <td>Male</td>\n",
       "      <td>12-Oct-10</td>\n",
       "      <td>Fort Hood</td>\n",
       "      <td>Regular Army</td>\n",
       "      <td>Combat Service Support</td>\n",
       "      <td>92G</td>\n",
       "      <td>North Carolina</td>\n",
       "      <td>2</td>\n",
       "      <td>NaN</td>\n",
       "      <td>2</td>\n",
       "      <td>21</td>\n",
       "      <td>77</td>\n",
       "      <td>213</td>\n",
       "      <td>Right hand</td>\n",
       "    </tr>\n",
       "  </tbody>\n",
       "</table>\n",
       "</div>"
      ],
      "text/plain": [
       "   subjectid  abdominalextensiondepthsitting  acromialheight  \\\n",
       "0      10027                             266            1467   \n",
       "1      10032                             233            1395   \n",
       "2      10033                             287            1430   \n",
       "3      10092                             234            1347   \n",
       "4      10093                             250            1585   \n",
       "\n",
       "   acromionradialelength  anklecircumference  axillaheight  \\\n",
       "0                    337                 222          1347   \n",
       "1                    326                 220          1293   \n",
       "2                    341                 230          1327   \n",
       "3                    310                 230          1239   \n",
       "4                    372                 247          1478   \n",
       "\n",
       "   balloffootcircumference  balloffootlength  biacromialbreadth  \\\n",
       "0                      253               202                401   \n",
       "1                      245               193                394   \n",
       "2                      256               196                427   \n",
       "3                      262               199                401   \n",
       "4                      267               224                435   \n",
       "\n",
       "   bicepscircumferenceflexed  bicristalbreadth  bideltoidbreadth  \\\n",
       "0                        369               274               493   \n",
       "1                        338               257               479   \n",
       "2                        408               261               544   \n",
       "3                        359               262               518   \n",
       "4                        356               263               524   \n",
       "\n",
       "   bimalleolarbreadth  bitragionchinarc  bitragionsubmandibulararc  \\\n",
       "0                  71               319                        291   \n",
       "1                  67               344                        320   \n",
       "2                  75               345                        330   \n",
       "3                  73               328                        309   \n",
       "4                  80               340                        310   \n",
       "\n",
       "   bizygomaticbreadth  buttockcircumference  buttockdepth  buttockheight  \\\n",
       "0                 142                   979           240            882   \n",
       "1                 135                   944           232            870   \n",
       "2                 135                  1054           258            901   \n",
       "3                 143                   991           242            821   \n",
       "4                 138                  1029           275           1080   \n",
       "\n",
       "   buttockkneelength  buttockpopliteallength  calfcircumference  \\\n",
       "0                619                     509                373   \n",
       "1                584                     468                357   \n",
       "2                623                     506                412   \n",
       "3                560                     437                395   \n",
       "4                706                     567                425   \n",
       "\n",
       "   cervicaleheight  chestbreadth  chestcircumference  chestdepth  chestheight  \\\n",
       "0             1535           291                1074         259         1292   \n",
       "1             1471           269                1021         253         1244   \n",
       "2             1501           288                1120         267         1288   \n",
       "3             1423           296                1114         262         1205   \n",
       "4             1684           304                1048         232         1452   \n",
       "\n",
       "   crotchheight  crotchlengthomphalion  crotchlengthposterioromphalion  \\\n",
       "0           877                    607                             351   \n",
       "1           851                    615                             376   \n",
       "2           854                    636                             359   \n",
       "3           769                    590                             341   \n",
       "4          1014                    682                             382   \n",
       "\n",
       "   earbreadth  earlength  earprotrusion  elbowrestheight  eyeheightsitting  \\\n",
       "0          36         71             19              247               802   \n",
       "1          33         62             18              232               781   \n",
       "2          40         61             23              237               810   \n",
       "3          39         66             25              272               794   \n",
       "4          32         56             19              188               814   \n",
       "\n",
       "   footbreadthhorizontal  footlength  forearmcenterofgriplength  \\\n",
       "0                    101         273                        349   \n",
       "1                     98         263                        348   \n",
       "2                    103         270                        355   \n",
       "3                    106         267                        352   \n",
       "4                    111         305                        399   \n",
       "\n",
       "   forearmcircumferenceflexed  forearmforearmbreadth  forearmhandlength  \\\n",
       "0                         299                    575                477   \n",
       "1                         289                    523                476   \n",
       "2                         357                    575                491   \n",
       "3                         318                    593                467   \n",
       "4                         324                    605                550   \n",
       "\n",
       "   functionalleglength  handbreadth  handcircumference  handlength  \\\n",
       "0                 1136           90                214         193   \n",
       "1                 1096           86                203         195   \n",
       "2                 1115           93                220         203   \n",
       "3                 1034           91                217         194   \n",
       "4                 1279           94                222         218   \n",
       "\n",
       "   headbreadth  headcircumference  headlength  heelanklecircumference  \\\n",
       "0          150                583         206                     326   \n",
       "1          146                568         201                     334   \n",
       "2          148                573         202                     356   \n",
       "3          158                576         199                     341   \n",
       "4          153                566         197                     374   \n",
       "\n",
       "   heelbreadth  hipbreadth  hipbreadthsitting  iliocristaleheight  \\\n",
       "0           70         332                366                1071   \n",
       "1           72         312                356                1046   \n",
       "2           70         349                393                1053   \n",
       "3           68         338                367                 986   \n",
       "4           69         332                372                1251   \n",
       "\n",
       "   interpupillarybreadth  interscyei  interscyeii  kneeheightmidpatella  \\\n",
       "0                    685         422          441                   502   \n",
       "1                    620         441          447                   490   \n",
       "2                    665         462          475                   496   \n",
       "3                    640         458          461                   460   \n",
       "4                    675         481          505                   612   \n",
       "\n",
       "   kneeheightsitting  lateralfemoralepicondyleheight  lateralmalleolusheight  \\\n",
       "0                560                             500                      77   \n",
       "1                540                             488                      73   \n",
       "2                556                             482                      72   \n",
       "3                511                             452                      76   \n",
       "4                666                             585                      85   \n",
       "\n",
       "   lowerthighcircumference  mentonsellionlength  neckcircumference  \\\n",
       "0                      391                  118                400   \n",
       "1                      371                  131                380   \n",
       "2                      409                  123                403   \n",
       "3                      393                  106                407   \n",
       "4                      458                  135                398   \n",
       "\n",
       "   neckcircumferencebase  overheadfingertipreachsitting  palmlength  \\\n",
       "0                    436                           1447         113   \n",
       "1                    420                           1380         118   \n",
       "2                    434                           1447         121   \n",
       "3                    446                           1357         118   \n",
       "4                    430                           1572         132   \n",
       "\n",
       "   poplitealheight  radialestylionlength  shouldercircumference  \\\n",
       "0              437                   273                   1151   \n",
       "1              417                   254                   1119   \n",
       "2              431                   268                   1276   \n",
       "3              393                   249                   1155   \n",
       "4              523                   302                   1231   \n",
       "\n",
       "   shoulderelbowlength  shoulderlength  sittingheight  sleevelengthspinewrist  \\\n",
       "0                  368             145            928                     883   \n",
       "1                  353             141            884                     868   \n",
       "2                  367             167            917                     910   \n",
       "3                  330             148            903                     848   \n",
       "4                  400             180            919                     995   \n",
       "\n",
       "   sleeveoutseam  span  stature  suprasternaleheight  tenthribheight  \\\n",
       "0            600  1782     1776                 1449            1092   \n",
       "1            564  1745     1702                 1387            1076   \n",
       "2            604  1867     1735                 1438            1105   \n",
       "3            550  1708     1655                 1346            1021   \n",
       "4            641  2035     1914                 1596            1292   \n",
       "\n",
       "   thighcircumference  thighclearance  thumbtipreach  tibialheight  \\\n",
       "0                 610             164            786           491   \n",
       "1                 572             169            822           476   \n",
       "2                 685             198            807           477   \n",
       "3                 604             180            803           445   \n",
       "4                 672             194            962           584   \n",
       "\n",
       "   tragiontopofhead  trochanterionheight  verticaltrunkcircumferenceusa  \\\n",
       "0               140                  919                           1700   \n",
       "1               120                  918                           1627   \n",
       "2               125                  918                           1678   \n",
       "3               127                  847                           1625   \n",
       "4               122                 1090                           1679   \n",
       "\n",
       "   waistbacklength  waistbreadth  waistcircumference  waistdepth  \\\n",
       "0              501           329                 933         240   \n",
       "1              432           316                 870         225   \n",
       "2              472           329                 964         255   \n",
       "3              461           315                 857         205   \n",
       "4              467           303                 868         214   \n",
       "\n",
       "   waistfrontlengthsitting  waistheightomphalion  weightkg  \\\n",
       "0                      440                  1054       815   \n",
       "1                      371                  1054       726   \n",
       "2                      411                  1041       929   \n",
       "3                      399                   968       794   \n",
       "4                      379                  1245       946   \n",
       "\n",
       "   wristcircumference  wristheight Gender       Date Installation  \\\n",
       "0                 175          853   Male   4-Oct-10    Fort Hood   \n",
       "1                 167          815   Male   4-Oct-10    Fort Hood   \n",
       "2                 180          831   Male   4-Oct-10    Fort Hood   \n",
       "3                 176          793   Male  12-Oct-10    Fort Hood   \n",
       "4                 188          954   Male  12-Oct-10    Fort Hood   \n",
       "\n",
       "      Component                  Branch PrimaryMOS SubjectsBirthLocation  \\\n",
       "0  Regular Army             Combat Arms        19D          North Dakota   \n",
       "1  Regular Army          Combat Support        68W              New York   \n",
       "2  Regular Army          Combat Support        68W              New York   \n",
       "3  Regular Army  Combat Service Support        88M             Wisconsin   \n",
       "4  Regular Army  Combat Service Support        92G        North Carolina   \n",
       "\n",
       "   SubjectNumericRace Ethnicity  DODRace  Age  Heightin  Weightlbs  \\\n",
       "0                   1       NaN        1   41        71        180   \n",
       "1                   1       NaN        1   35        68        160   \n",
       "2                   2       NaN        2   42        68        205   \n",
       "3                   1       NaN        1   31        66        175   \n",
       "4                   2       NaN        2   21        77        213   \n",
       "\n",
       "  WritingPreference  \n",
       "0        Right hand  \n",
       "1         Left hand  \n",
       "2         Left hand  \n",
       "3        Right hand  \n",
       "4        Right hand  "
      ]
     },
     "execution_count": 41,
     "metadata": {},
     "output_type": "execute_result"
    }
   ],
   "source": [
    "df_male.head()"
   ]
  },
  {
   "cell_type": "code",
   "execution_count": 42,
   "metadata": {},
   "outputs": [
    {
     "data": {
      "text/html": [
       "<div>\n",
       "<style scoped>\n",
       "    .dataframe tbody tr th:only-of-type {\n",
       "        vertical-align: middle;\n",
       "    }\n",
       "\n",
       "    .dataframe tbody tr th {\n",
       "        vertical-align: top;\n",
       "    }\n",
       "\n",
       "    .dataframe thead th {\n",
       "        text-align: right;\n",
       "    }\n",
       "</style>\n",
       "<table border=\"1\" class=\"dataframe\">\n",
       "  <thead>\n",
       "    <tr style=\"text-align: right;\">\n",
       "      <th></th>\n",
       "      <th>SubjectId</th>\n",
       "      <th>abdominalextensiondepthsitting</th>\n",
       "      <th>acromialheight</th>\n",
       "      <th>acromionradialelength</th>\n",
       "      <th>anklecircumference</th>\n",
       "      <th>axillaheight</th>\n",
       "      <th>balloffootcircumference</th>\n",
       "      <th>balloffootlength</th>\n",
       "      <th>biacromialbreadth</th>\n",
       "      <th>bicepscircumferenceflexed</th>\n",
       "      <th>bicristalbreadth</th>\n",
       "      <th>bideltoidbreadth</th>\n",
       "      <th>bimalleolarbreadth</th>\n",
       "      <th>bitragionchinarc</th>\n",
       "      <th>bitragionsubmandibulararc</th>\n",
       "      <th>bizygomaticbreadth</th>\n",
       "      <th>buttockcircumference</th>\n",
       "      <th>buttockdepth</th>\n",
       "      <th>buttockheight</th>\n",
       "      <th>buttockkneelength</th>\n",
       "      <th>buttockpopliteallength</th>\n",
       "      <th>calfcircumference</th>\n",
       "      <th>cervicaleheight</th>\n",
       "      <th>chestbreadth</th>\n",
       "      <th>chestcircumference</th>\n",
       "      <th>chestdepth</th>\n",
       "      <th>chestheight</th>\n",
       "      <th>crotchheight</th>\n",
       "      <th>crotchlengthomphalion</th>\n",
       "      <th>crotchlengthposterioromphalion</th>\n",
       "      <th>earbreadth</th>\n",
       "      <th>earlength</th>\n",
       "      <th>earprotrusion</th>\n",
       "      <th>elbowrestheight</th>\n",
       "      <th>eyeheightsitting</th>\n",
       "      <th>footbreadthhorizontal</th>\n",
       "      <th>footlength</th>\n",
       "      <th>forearmcenterofgriplength</th>\n",
       "      <th>forearmcircumferenceflexed</th>\n",
       "      <th>forearmforearmbreadth</th>\n",
       "      <th>forearmhandlength</th>\n",
       "      <th>functionalleglength</th>\n",
       "      <th>handbreadth</th>\n",
       "      <th>handcircumference</th>\n",
       "      <th>handlength</th>\n",
       "      <th>headbreadth</th>\n",
       "      <th>headcircumference</th>\n",
       "      <th>headlength</th>\n",
       "      <th>heelanklecircumference</th>\n",
       "      <th>heelbreadth</th>\n",
       "      <th>hipbreadth</th>\n",
       "      <th>hipbreadthsitting</th>\n",
       "      <th>iliocristaleheight</th>\n",
       "      <th>interpupillarybreadth</th>\n",
       "      <th>interscyei</th>\n",
       "      <th>interscyeii</th>\n",
       "      <th>kneeheightmidpatella</th>\n",
       "      <th>kneeheightsitting</th>\n",
       "      <th>lateralfemoralepicondyleheight</th>\n",
       "      <th>lateralmalleolusheight</th>\n",
       "      <th>lowerthighcircumference</th>\n",
       "      <th>mentonsellionlength</th>\n",
       "      <th>neckcircumference</th>\n",
       "      <th>neckcircumferencebase</th>\n",
       "      <th>overheadfingertipreachsitting</th>\n",
       "      <th>palmlength</th>\n",
       "      <th>poplitealheight</th>\n",
       "      <th>radialestylionlength</th>\n",
       "      <th>shouldercircumference</th>\n",
       "      <th>shoulderelbowlength</th>\n",
       "      <th>shoulderlength</th>\n",
       "      <th>sittingheight</th>\n",
       "      <th>sleevelengthspinewrist</th>\n",
       "      <th>sleeveoutseam</th>\n",
       "      <th>span</th>\n",
       "      <th>stature</th>\n",
       "      <th>suprasternaleheight</th>\n",
       "      <th>tenthribheight</th>\n",
       "      <th>thighcircumference</th>\n",
       "      <th>thighclearance</th>\n",
       "      <th>thumbtipreach</th>\n",
       "      <th>tibialheight</th>\n",
       "      <th>tragiontopofhead</th>\n",
       "      <th>trochanterionheight</th>\n",
       "      <th>verticaltrunkcircumferenceusa</th>\n",
       "      <th>waistbacklength</th>\n",
       "      <th>waistbreadth</th>\n",
       "      <th>waistcircumference</th>\n",
       "      <th>waistdepth</th>\n",
       "      <th>waistfrontlengthsitting</th>\n",
       "      <th>waistheightomphalion</th>\n",
       "      <th>weightkg</th>\n",
       "      <th>wristcircumference</th>\n",
       "      <th>wristheight</th>\n",
       "      <th>Gender</th>\n",
       "      <th>Date</th>\n",
       "      <th>Installation</th>\n",
       "      <th>Component</th>\n",
       "      <th>Branch</th>\n",
       "      <th>PrimaryMOS</th>\n",
       "      <th>SubjectsBirthLocation</th>\n",
       "      <th>SubjectNumericRace</th>\n",
       "      <th>Ethnicity</th>\n",
       "      <th>DODRace</th>\n",
       "      <th>Age</th>\n",
       "      <th>Heightin</th>\n",
       "      <th>Weightlbs</th>\n",
       "      <th>WritingPreference</th>\n",
       "    </tr>\n",
       "  </thead>\n",
       "  <tbody>\n",
       "    <tr>\n",
       "      <th>0</th>\n",
       "      <td>10037</td>\n",
       "      <td>231</td>\n",
       "      <td>1282</td>\n",
       "      <td>301</td>\n",
       "      <td>204</td>\n",
       "      <td>1180</td>\n",
       "      <td>222</td>\n",
       "      <td>177</td>\n",
       "      <td>373</td>\n",
       "      <td>315</td>\n",
       "      <td>263</td>\n",
       "      <td>466</td>\n",
       "      <td>65</td>\n",
       "      <td>338</td>\n",
       "      <td>301</td>\n",
       "      <td>141</td>\n",
       "      <td>1011</td>\n",
       "      <td>223</td>\n",
       "      <td>836</td>\n",
       "      <td>587</td>\n",
       "      <td>476</td>\n",
       "      <td>360</td>\n",
       "      <td>1336</td>\n",
       "      <td>274</td>\n",
       "      <td>922</td>\n",
       "      <td>245</td>\n",
       "      <td>1095</td>\n",
       "      <td>759</td>\n",
       "      <td>557</td>\n",
       "      <td>310</td>\n",
       "      <td>35</td>\n",
       "      <td>65</td>\n",
       "      <td>16</td>\n",
       "      <td>220</td>\n",
       "      <td>713</td>\n",
       "      <td>91</td>\n",
       "      <td>246</td>\n",
       "      <td>316</td>\n",
       "      <td>265</td>\n",
       "      <td>517</td>\n",
       "      <td>432</td>\n",
       "      <td>1028</td>\n",
       "      <td>75</td>\n",
       "      <td>182</td>\n",
       "      <td>184</td>\n",
       "      <td>141</td>\n",
       "      <td>548</td>\n",
       "      <td>191</td>\n",
       "      <td>314</td>\n",
       "      <td>69</td>\n",
       "      <td>345</td>\n",
       "      <td>388</td>\n",
       "      <td>966</td>\n",
       "      <td>645</td>\n",
       "      <td>363</td>\n",
       "      <td>399</td>\n",
       "      <td>435</td>\n",
       "      <td>496</td>\n",
       "      <td>447</td>\n",
       "      <td>55</td>\n",
       "      <td>404</td>\n",
       "      <td>118</td>\n",
       "      <td>335</td>\n",
       "      <td>368</td>\n",
       "      <td>1268</td>\n",
       "      <td>113</td>\n",
       "      <td>362</td>\n",
       "      <td>235</td>\n",
       "      <td>1062</td>\n",
       "      <td>327</td>\n",
       "      <td>148</td>\n",
       "      <td>803</td>\n",
       "      <td>809</td>\n",
       "      <td>513</td>\n",
       "      <td>1647</td>\n",
       "      <td>1560</td>\n",
       "      <td>1280</td>\n",
       "      <td>1013</td>\n",
       "      <td>622</td>\n",
       "      <td>174</td>\n",
       "      <td>736</td>\n",
       "      <td>430</td>\n",
       "      <td>110</td>\n",
       "      <td>844</td>\n",
       "      <td>1488</td>\n",
       "      <td>406</td>\n",
       "      <td>295</td>\n",
       "      <td>850</td>\n",
       "      <td>217</td>\n",
       "      <td>345</td>\n",
       "      <td>942</td>\n",
       "      <td>657</td>\n",
       "      <td>152</td>\n",
       "      <td>756</td>\n",
       "      <td>Female</td>\n",
       "      <td>5-Oct-10</td>\n",
       "      <td>Fort Hood</td>\n",
       "      <td>Regular Army</td>\n",
       "      <td>Combat Support</td>\n",
       "      <td>92Y</td>\n",
       "      <td>Germany</td>\n",
       "      <td>2</td>\n",
       "      <td>NaN</td>\n",
       "      <td>2</td>\n",
       "      <td>26</td>\n",
       "      <td>61</td>\n",
       "      <td>142</td>\n",
       "      <td>Right hand</td>\n",
       "    </tr>\n",
       "    <tr>\n",
       "      <th>1</th>\n",
       "      <td>10038</td>\n",
       "      <td>194</td>\n",
       "      <td>1379</td>\n",
       "      <td>320</td>\n",
       "      <td>207</td>\n",
       "      <td>1292</td>\n",
       "      <td>225</td>\n",
       "      <td>178</td>\n",
       "      <td>372</td>\n",
       "      <td>272</td>\n",
       "      <td>250</td>\n",
       "      <td>430</td>\n",
       "      <td>64</td>\n",
       "      <td>294</td>\n",
       "      <td>270</td>\n",
       "      <td>126</td>\n",
       "      <td>893</td>\n",
       "      <td>186</td>\n",
       "      <td>900</td>\n",
       "      <td>583</td>\n",
       "      <td>483</td>\n",
       "      <td>350</td>\n",
       "      <td>1440</td>\n",
       "      <td>261</td>\n",
       "      <td>839</td>\n",
       "      <td>206</td>\n",
       "      <td>1234</td>\n",
       "      <td>835</td>\n",
       "      <td>549</td>\n",
       "      <td>329</td>\n",
       "      <td>32</td>\n",
       "      <td>60</td>\n",
       "      <td>23</td>\n",
       "      <td>208</td>\n",
       "      <td>726</td>\n",
       "      <td>91</td>\n",
       "      <td>249</td>\n",
       "      <td>341</td>\n",
       "      <td>247</td>\n",
       "      <td>468</td>\n",
       "      <td>463</td>\n",
       "      <td>1117</td>\n",
       "      <td>78</td>\n",
       "      <td>187</td>\n",
       "      <td>189</td>\n",
       "      <td>138</td>\n",
       "      <td>535</td>\n",
       "      <td>180</td>\n",
       "      <td>307</td>\n",
       "      <td>60</td>\n",
       "      <td>315</td>\n",
       "      <td>335</td>\n",
       "      <td>1048</td>\n",
       "      <td>595</td>\n",
       "      <td>340</td>\n",
       "      <td>375</td>\n",
       "      <td>483</td>\n",
       "      <td>532</td>\n",
       "      <td>492</td>\n",
       "      <td>69</td>\n",
       "      <td>334</td>\n",
       "      <td>115</td>\n",
       "      <td>302</td>\n",
       "      <td>345</td>\n",
       "      <td>1389</td>\n",
       "      <td>110</td>\n",
       "      <td>426</td>\n",
       "      <td>259</td>\n",
       "      <td>1014</td>\n",
       "      <td>346</td>\n",
       "      <td>142</td>\n",
       "      <td>835</td>\n",
       "      <td>810</td>\n",
       "      <td>575</td>\n",
       "      <td>1751</td>\n",
       "      <td>1665</td>\n",
       "      <td>1372</td>\n",
       "      <td>1107</td>\n",
       "      <td>524</td>\n",
       "      <td>152</td>\n",
       "      <td>771</td>\n",
       "      <td>475</td>\n",
       "      <td>125</td>\n",
       "      <td>901</td>\n",
       "      <td>1470</td>\n",
       "      <td>422</td>\n",
       "      <td>254</td>\n",
       "      <td>708</td>\n",
       "      <td>168</td>\n",
       "      <td>329</td>\n",
       "      <td>1032</td>\n",
       "      <td>534</td>\n",
       "      <td>155</td>\n",
       "      <td>815</td>\n",
       "      <td>Female</td>\n",
       "      <td>5-Oct-10</td>\n",
       "      <td>Fort Hood</td>\n",
       "      <td>Regular Army</td>\n",
       "      <td>Combat Service Support</td>\n",
       "      <td>25U</td>\n",
       "      <td>California</td>\n",
       "      <td>3</td>\n",
       "      <td>Mexican</td>\n",
       "      <td>3</td>\n",
       "      <td>21</td>\n",
       "      <td>64</td>\n",
       "      <td>120</td>\n",
       "      <td>Right hand</td>\n",
       "    </tr>\n",
       "    <tr>\n",
       "      <th>2</th>\n",
       "      <td>10042</td>\n",
       "      <td>183</td>\n",
       "      <td>1369</td>\n",
       "      <td>329</td>\n",
       "      <td>233</td>\n",
       "      <td>1271</td>\n",
       "      <td>237</td>\n",
       "      <td>196</td>\n",
       "      <td>397</td>\n",
       "      <td>300</td>\n",
       "      <td>276</td>\n",
       "      <td>450</td>\n",
       "      <td>69</td>\n",
       "      <td>309</td>\n",
       "      <td>270</td>\n",
       "      <td>128</td>\n",
       "      <td>987</td>\n",
       "      <td>204</td>\n",
       "      <td>861</td>\n",
       "      <td>583</td>\n",
       "      <td>466</td>\n",
       "      <td>384</td>\n",
       "      <td>1451</td>\n",
       "      <td>287</td>\n",
       "      <td>874</td>\n",
       "      <td>223</td>\n",
       "      <td>1226</td>\n",
       "      <td>821</td>\n",
       "      <td>643</td>\n",
       "      <td>374</td>\n",
       "      <td>36</td>\n",
       "      <td>65</td>\n",
       "      <td>26</td>\n",
       "      <td>204</td>\n",
       "      <td>790</td>\n",
       "      <td>100</td>\n",
       "      <td>265</td>\n",
       "      <td>343</td>\n",
       "      <td>262</td>\n",
       "      <td>488</td>\n",
       "      <td>469</td>\n",
       "      <td>1060</td>\n",
       "      <td>84</td>\n",
       "      <td>198</td>\n",
       "      <td>195</td>\n",
       "      <td>146</td>\n",
       "      <td>588</td>\n",
       "      <td>207</td>\n",
       "      <td>331</td>\n",
       "      <td>70</td>\n",
       "      <td>356</td>\n",
       "      <td>399</td>\n",
       "      <td>1043</td>\n",
       "      <td>655</td>\n",
       "      <td>345</td>\n",
       "      <td>399</td>\n",
       "      <td>470</td>\n",
       "      <td>530</td>\n",
       "      <td>469</td>\n",
       "      <td>64</td>\n",
       "      <td>401</td>\n",
       "      <td>135</td>\n",
       "      <td>325</td>\n",
       "      <td>369</td>\n",
       "      <td>1414</td>\n",
       "      <td>122</td>\n",
       "      <td>398</td>\n",
       "      <td>258</td>\n",
       "      <td>1049</td>\n",
       "      <td>362</td>\n",
       "      <td>164</td>\n",
       "      <td>904</td>\n",
       "      <td>855</td>\n",
       "      <td>568</td>\n",
       "      <td>1779</td>\n",
       "      <td>1711</td>\n",
       "      <td>1383</td>\n",
       "      <td>1089</td>\n",
       "      <td>577</td>\n",
       "      <td>164</td>\n",
       "      <td>814</td>\n",
       "      <td>458</td>\n",
       "      <td>129</td>\n",
       "      <td>882</td>\n",
       "      <td>1542</td>\n",
       "      <td>419</td>\n",
       "      <td>269</td>\n",
       "      <td>727</td>\n",
       "      <td>159</td>\n",
       "      <td>367</td>\n",
       "      <td>1035</td>\n",
       "      <td>663</td>\n",
       "      <td>162</td>\n",
       "      <td>799</td>\n",
       "      <td>Female</td>\n",
       "      <td>5-Oct-10</td>\n",
       "      <td>Fort Hood</td>\n",
       "      <td>Regular Army</td>\n",
       "      <td>Combat Service Support</td>\n",
       "      <td>35D</td>\n",
       "      <td>Texas</td>\n",
       "      <td>1</td>\n",
       "      <td>NaN</td>\n",
       "      <td>1</td>\n",
       "      <td>23</td>\n",
       "      <td>68</td>\n",
       "      <td>147</td>\n",
       "      <td>Right hand</td>\n",
       "    </tr>\n",
       "    <tr>\n",
       "      <th>3</th>\n",
       "      <td>10043</td>\n",
       "      <td>261</td>\n",
       "      <td>1356</td>\n",
       "      <td>306</td>\n",
       "      <td>214</td>\n",
       "      <td>1250</td>\n",
       "      <td>240</td>\n",
       "      <td>188</td>\n",
       "      <td>384</td>\n",
       "      <td>364</td>\n",
       "      <td>276</td>\n",
       "      <td>484</td>\n",
       "      <td>68</td>\n",
       "      <td>340</td>\n",
       "      <td>294</td>\n",
       "      <td>144</td>\n",
       "      <td>1012</td>\n",
       "      <td>253</td>\n",
       "      <td>897</td>\n",
       "      <td>599</td>\n",
       "      <td>471</td>\n",
       "      <td>372</td>\n",
       "      <td>1430</td>\n",
       "      <td>269</td>\n",
       "      <td>1008</td>\n",
       "      <td>285</td>\n",
       "      <td>1170</td>\n",
       "      <td>804</td>\n",
       "      <td>640</td>\n",
       "      <td>351</td>\n",
       "      <td>38</td>\n",
       "      <td>62</td>\n",
       "      <td>22</td>\n",
       "      <td>244</td>\n",
       "      <td>775</td>\n",
       "      <td>97</td>\n",
       "      <td>265</td>\n",
       "      <td>331</td>\n",
       "      <td>309</td>\n",
       "      <td>529</td>\n",
       "      <td>455</td>\n",
       "      <td>1069</td>\n",
       "      <td>80</td>\n",
       "      <td>192</td>\n",
       "      <td>186</td>\n",
       "      <td>153</td>\n",
       "      <td>593</td>\n",
       "      <td>206</td>\n",
       "      <td>332</td>\n",
       "      <td>68</td>\n",
       "      <td>337</td>\n",
       "      <td>402</td>\n",
       "      <td>1029</td>\n",
       "      <td>655</td>\n",
       "      <td>392</td>\n",
       "      <td>435</td>\n",
       "      <td>469</td>\n",
       "      <td>520</td>\n",
       "      <td>478</td>\n",
       "      <td>67</td>\n",
       "      <td>402</td>\n",
       "      <td>118</td>\n",
       "      <td>357</td>\n",
       "      <td>386</td>\n",
       "      <td>1329</td>\n",
       "      <td>115</td>\n",
       "      <td>394</td>\n",
       "      <td>250</td>\n",
       "      <td>1121</td>\n",
       "      <td>333</td>\n",
       "      <td>157</td>\n",
       "      <td>875</td>\n",
       "      <td>815</td>\n",
       "      <td>536</td>\n",
       "      <td>1708</td>\n",
       "      <td>1660</td>\n",
       "      <td>1358</td>\n",
       "      <td>1065</td>\n",
       "      <td>679</td>\n",
       "      <td>187</td>\n",
       "      <td>736</td>\n",
       "      <td>463</td>\n",
       "      <td>125</td>\n",
       "      <td>866</td>\n",
       "      <td>1627</td>\n",
       "      <td>451</td>\n",
       "      <td>302</td>\n",
       "      <td>923</td>\n",
       "      <td>235</td>\n",
       "      <td>371</td>\n",
       "      <td>999</td>\n",
       "      <td>782</td>\n",
       "      <td>173</td>\n",
       "      <td>818</td>\n",
       "      <td>Female</td>\n",
       "      <td>5-Oct-10</td>\n",
       "      <td>Fort Hood</td>\n",
       "      <td>Regular Army</td>\n",
       "      <td>Combat Service Support</td>\n",
       "      <td>25U</td>\n",
       "      <td>District of Columbia</td>\n",
       "      <td>8</td>\n",
       "      <td>Caribbean Islander</td>\n",
       "      <td>2</td>\n",
       "      <td>22</td>\n",
       "      <td>66</td>\n",
       "      <td>175</td>\n",
       "      <td>Right hand</td>\n",
       "    </tr>\n",
       "    <tr>\n",
       "      <th>4</th>\n",
       "      <td>10051</td>\n",
       "      <td>309</td>\n",
       "      <td>1303</td>\n",
       "      <td>308</td>\n",
       "      <td>214</td>\n",
       "      <td>1210</td>\n",
       "      <td>217</td>\n",
       "      <td>182</td>\n",
       "      <td>378</td>\n",
       "      <td>320</td>\n",
       "      <td>336</td>\n",
       "      <td>525</td>\n",
       "      <td>67</td>\n",
       "      <td>300</td>\n",
       "      <td>295</td>\n",
       "      <td>135</td>\n",
       "      <td>1281</td>\n",
       "      <td>284</td>\n",
       "      <td>811</td>\n",
       "      <td>607</td>\n",
       "      <td>467</td>\n",
       "      <td>433</td>\n",
       "      <td>1362</td>\n",
       "      <td>305</td>\n",
       "      <td>1089</td>\n",
       "      <td>290</td>\n",
       "      <td>1112</td>\n",
       "      <td>726</td>\n",
       "      <td>686</td>\n",
       "      <td>356</td>\n",
       "      <td>34</td>\n",
       "      <td>65</td>\n",
       "      <td>18</td>\n",
       "      <td>233</td>\n",
       "      <td>732</td>\n",
       "      <td>88</td>\n",
       "      <td>247</td>\n",
       "      <td>339</td>\n",
       "      <td>260</td>\n",
       "      <td>596</td>\n",
       "      <td>447</td>\n",
       "      <td>1039</td>\n",
       "      <td>78</td>\n",
       "      <td>183</td>\n",
       "      <td>187</td>\n",
       "      <td>140</td>\n",
       "      <td>522</td>\n",
       "      <td>181</td>\n",
       "      <td>308</td>\n",
       "      <td>63</td>\n",
       "      <td>448</td>\n",
       "      <td>499</td>\n",
       "      <td>964</td>\n",
       "      <td>635</td>\n",
       "      <td>428</td>\n",
       "      <td>435</td>\n",
       "      <td>440</td>\n",
       "      <td>491</td>\n",
       "      <td>441</td>\n",
       "      <td>63</td>\n",
       "      <td>479</td>\n",
       "      <td>114</td>\n",
       "      <td>340</td>\n",
       "      <td>358</td>\n",
       "      <td>1350</td>\n",
       "      <td>116</td>\n",
       "      <td>345</td>\n",
       "      <td>242</td>\n",
       "      <td>1151</td>\n",
       "      <td>329</td>\n",
       "      <td>156</td>\n",
       "      <td>824</td>\n",
       "      <td>810</td>\n",
       "      <td>559</td>\n",
       "      <td>1702</td>\n",
       "      <td>1572</td>\n",
       "      <td>1292</td>\n",
       "      <td>1030</td>\n",
       "      <td>766</td>\n",
       "      <td>197</td>\n",
       "      <td>766</td>\n",
       "      <td>429</td>\n",
       "      <td>116</td>\n",
       "      <td>800</td>\n",
       "      <td>1698</td>\n",
       "      <td>452</td>\n",
       "      <td>405</td>\n",
       "      <td>1163</td>\n",
       "      <td>300</td>\n",
       "      <td>380</td>\n",
       "      <td>911</td>\n",
       "      <td>886</td>\n",
       "      <td>152</td>\n",
       "      <td>762</td>\n",
       "      <td>Female</td>\n",
       "      <td>5-Oct-10</td>\n",
       "      <td>Fort Hood</td>\n",
       "      <td>Regular Army</td>\n",
       "      <td>Combat Arms</td>\n",
       "      <td>42A</td>\n",
       "      <td>Texas</td>\n",
       "      <td>1</td>\n",
       "      <td>NaN</td>\n",
       "      <td>1</td>\n",
       "      <td>45</td>\n",
       "      <td>63</td>\n",
       "      <td>195</td>\n",
       "      <td>Right hand</td>\n",
       "    </tr>\n",
       "  </tbody>\n",
       "</table>\n",
       "</div>"
      ],
      "text/plain": [
       "   SubjectId  abdominalextensiondepthsitting  acromialheight  \\\n",
       "0      10037                             231            1282   \n",
       "1      10038                             194            1379   \n",
       "2      10042                             183            1369   \n",
       "3      10043                             261            1356   \n",
       "4      10051                             309            1303   \n",
       "\n",
       "   acromionradialelength  anklecircumference  axillaheight  \\\n",
       "0                    301                 204          1180   \n",
       "1                    320                 207          1292   \n",
       "2                    329                 233          1271   \n",
       "3                    306                 214          1250   \n",
       "4                    308                 214          1210   \n",
       "\n",
       "   balloffootcircumference  balloffootlength  biacromialbreadth  \\\n",
       "0                      222               177                373   \n",
       "1                      225               178                372   \n",
       "2                      237               196                397   \n",
       "3                      240               188                384   \n",
       "4                      217               182                378   \n",
       "\n",
       "   bicepscircumferenceflexed  bicristalbreadth  bideltoidbreadth  \\\n",
       "0                        315               263               466   \n",
       "1                        272               250               430   \n",
       "2                        300               276               450   \n",
       "3                        364               276               484   \n",
       "4                        320               336               525   \n",
       "\n",
       "   bimalleolarbreadth  bitragionchinarc  bitragionsubmandibulararc  \\\n",
       "0                  65               338                        301   \n",
       "1                  64               294                        270   \n",
       "2                  69               309                        270   \n",
       "3                  68               340                        294   \n",
       "4                  67               300                        295   \n",
       "\n",
       "   bizygomaticbreadth  buttockcircumference  buttockdepth  buttockheight  \\\n",
       "0                 141                  1011           223            836   \n",
       "1                 126                   893           186            900   \n",
       "2                 128                   987           204            861   \n",
       "3                 144                  1012           253            897   \n",
       "4                 135                  1281           284            811   \n",
       "\n",
       "   buttockkneelength  buttockpopliteallength  calfcircumference  \\\n",
       "0                587                     476                360   \n",
       "1                583                     483                350   \n",
       "2                583                     466                384   \n",
       "3                599                     471                372   \n",
       "4                607                     467                433   \n",
       "\n",
       "   cervicaleheight  chestbreadth  chestcircumference  chestdepth  chestheight  \\\n",
       "0             1336           274                 922         245         1095   \n",
       "1             1440           261                 839         206         1234   \n",
       "2             1451           287                 874         223         1226   \n",
       "3             1430           269                1008         285         1170   \n",
       "4             1362           305                1089         290         1112   \n",
       "\n",
       "   crotchheight  crotchlengthomphalion  crotchlengthposterioromphalion  \\\n",
       "0           759                    557                             310   \n",
       "1           835                    549                             329   \n",
       "2           821                    643                             374   \n",
       "3           804                    640                             351   \n",
       "4           726                    686                             356   \n",
       "\n",
       "   earbreadth  earlength  earprotrusion  elbowrestheight  eyeheightsitting  \\\n",
       "0          35         65             16              220               713   \n",
       "1          32         60             23              208               726   \n",
       "2          36         65             26              204               790   \n",
       "3          38         62             22              244               775   \n",
       "4          34         65             18              233               732   \n",
       "\n",
       "   footbreadthhorizontal  footlength  forearmcenterofgriplength  \\\n",
       "0                     91         246                        316   \n",
       "1                     91         249                        341   \n",
       "2                    100         265                        343   \n",
       "3                     97         265                        331   \n",
       "4                     88         247                        339   \n",
       "\n",
       "   forearmcircumferenceflexed  forearmforearmbreadth  forearmhandlength  \\\n",
       "0                         265                    517                432   \n",
       "1                         247                    468                463   \n",
       "2                         262                    488                469   \n",
       "3                         309                    529                455   \n",
       "4                         260                    596                447   \n",
       "\n",
       "   functionalleglength  handbreadth  handcircumference  handlength  \\\n",
       "0                 1028           75                182         184   \n",
       "1                 1117           78                187         189   \n",
       "2                 1060           84                198         195   \n",
       "3                 1069           80                192         186   \n",
       "4                 1039           78                183         187   \n",
       "\n",
       "   headbreadth  headcircumference  headlength  heelanklecircumference  \\\n",
       "0          141                548         191                     314   \n",
       "1          138                535         180                     307   \n",
       "2          146                588         207                     331   \n",
       "3          153                593         206                     332   \n",
       "4          140                522         181                     308   \n",
       "\n",
       "   heelbreadth  hipbreadth  hipbreadthsitting  iliocristaleheight  \\\n",
       "0           69         345                388                 966   \n",
       "1           60         315                335                1048   \n",
       "2           70         356                399                1043   \n",
       "3           68         337                402                1029   \n",
       "4           63         448                499                 964   \n",
       "\n",
       "   interpupillarybreadth  interscyei  interscyeii  kneeheightmidpatella  \\\n",
       "0                    645         363          399                   435   \n",
       "1                    595         340          375                   483   \n",
       "2                    655         345          399                   470   \n",
       "3                    655         392          435                   469   \n",
       "4                    635         428          435                   440   \n",
       "\n",
       "   kneeheightsitting  lateralfemoralepicondyleheight  lateralmalleolusheight  \\\n",
       "0                496                             447                      55   \n",
       "1                532                             492                      69   \n",
       "2                530                             469                      64   \n",
       "3                520                             478                      67   \n",
       "4                491                             441                      63   \n",
       "\n",
       "   lowerthighcircumference  mentonsellionlength  neckcircumference  \\\n",
       "0                      404                  118                335   \n",
       "1                      334                  115                302   \n",
       "2                      401                  135                325   \n",
       "3                      402                  118                357   \n",
       "4                      479                  114                340   \n",
       "\n",
       "   neckcircumferencebase  overheadfingertipreachsitting  palmlength  \\\n",
       "0                    368                           1268         113   \n",
       "1                    345                           1389         110   \n",
       "2                    369                           1414         122   \n",
       "3                    386                           1329         115   \n",
       "4                    358                           1350         116   \n",
       "\n",
       "   poplitealheight  radialestylionlength  shouldercircumference  \\\n",
       "0              362                   235                   1062   \n",
       "1              426                   259                   1014   \n",
       "2              398                   258                   1049   \n",
       "3              394                   250                   1121   \n",
       "4              345                   242                   1151   \n",
       "\n",
       "   shoulderelbowlength  shoulderlength  sittingheight  sleevelengthspinewrist  \\\n",
       "0                  327             148            803                     809   \n",
       "1                  346             142            835                     810   \n",
       "2                  362             164            904                     855   \n",
       "3                  333             157            875                     815   \n",
       "4                  329             156            824                     810   \n",
       "\n",
       "   sleeveoutseam  span  stature  suprasternaleheight  tenthribheight  \\\n",
       "0            513  1647     1560                 1280            1013   \n",
       "1            575  1751     1665                 1372            1107   \n",
       "2            568  1779     1711                 1383            1089   \n",
       "3            536  1708     1660                 1358            1065   \n",
       "4            559  1702     1572                 1292            1030   \n",
       "\n",
       "   thighcircumference  thighclearance  thumbtipreach  tibialheight  \\\n",
       "0                 622             174            736           430   \n",
       "1                 524             152            771           475   \n",
       "2                 577             164            814           458   \n",
       "3                 679             187            736           463   \n",
       "4                 766             197            766           429   \n",
       "\n",
       "   tragiontopofhead  trochanterionheight  verticaltrunkcircumferenceusa  \\\n",
       "0               110                  844                           1488   \n",
       "1               125                  901                           1470   \n",
       "2               129                  882                           1542   \n",
       "3               125                  866                           1627   \n",
       "4               116                  800                           1698   \n",
       "\n",
       "   waistbacklength  waistbreadth  waistcircumference  waistdepth  \\\n",
       "0              406           295                 850         217   \n",
       "1              422           254                 708         168   \n",
       "2              419           269                 727         159   \n",
       "3              451           302                 923         235   \n",
       "4              452           405                1163         300   \n",
       "\n",
       "   waistfrontlengthsitting  waistheightomphalion  weightkg  \\\n",
       "0                      345                   942       657   \n",
       "1                      329                  1032       534   \n",
       "2                      367                  1035       663   \n",
       "3                      371                   999       782   \n",
       "4                      380                   911       886   \n",
       "\n",
       "   wristcircumference  wristheight  Gender      Date Installation  \\\n",
       "0                 152          756  Female  5-Oct-10    Fort Hood   \n",
       "1                 155          815  Female  5-Oct-10    Fort Hood   \n",
       "2                 162          799  Female  5-Oct-10    Fort Hood   \n",
       "3                 173          818  Female  5-Oct-10    Fort Hood   \n",
       "4                 152          762  Female  5-Oct-10    Fort Hood   \n",
       "\n",
       "      Component                  Branch PrimaryMOS SubjectsBirthLocation  \\\n",
       "0  Regular Army          Combat Support        92Y               Germany   \n",
       "1  Regular Army  Combat Service Support        25U            California   \n",
       "2  Regular Army  Combat Service Support        35D                 Texas   \n",
       "3  Regular Army  Combat Service Support        25U  District of Columbia   \n",
       "4  Regular Army             Combat Arms        42A                 Texas   \n",
       "\n",
       "   SubjectNumericRace           Ethnicity  DODRace  Age  Heightin  Weightlbs  \\\n",
       "0                   2                 NaN        2   26        61        142   \n",
       "1                   3             Mexican        3   21        64        120   \n",
       "2                   1                 NaN        1   23        68        147   \n",
       "3                   8  Caribbean Islander        2   22        66        175   \n",
       "4                   1                 NaN        1   45        63        195   \n",
       "\n",
       "  WritingPreference  \n",
       "0        Right hand  \n",
       "1        Right hand  \n",
       "2        Right hand  \n",
       "3        Right hand  \n",
       "4        Right hand  "
      ]
     },
     "execution_count": 42,
     "metadata": {},
     "output_type": "execute_result"
    }
   ],
   "source": [
    "df_female.head()"
   ]
  },
  {
   "cell_type": "code",
   "execution_count": 43,
   "metadata": {},
   "outputs": [],
   "source": [
    "df = pd.concat([df_male,df_female], axis=0, ignore_index=True)"
   ]
  },
  {
   "cell_type": "code",
   "execution_count": 44,
   "metadata": {},
   "outputs": [
    {
     "data": {
      "text/plain": [
       "((4082, 108), (1986, 108), (6068, 109))"
      ]
     },
     "execution_count": 44,
     "metadata": {},
     "output_type": "execute_result"
    }
   ],
   "source": [
    "df_male.shape, df_female.shape, df.shape"
   ]
  },
  {
   "cell_type": "code",
   "execution_count": 45,
   "metadata": {},
   "outputs": [
    {
     "data": {
      "text/html": [
       "<div>\n",
       "<style scoped>\n",
       "    .dataframe tbody tr th:only-of-type {\n",
       "        vertical-align: middle;\n",
       "    }\n",
       "\n",
       "    .dataframe tbody tr th {\n",
       "        vertical-align: top;\n",
       "    }\n",
       "\n",
       "    .dataframe thead th {\n",
       "        text-align: right;\n",
       "    }\n",
       "</style>\n",
       "<table border=\"1\" class=\"dataframe\">\n",
       "  <thead>\n",
       "    <tr style=\"text-align: right;\">\n",
       "      <th></th>\n",
       "      <th>subjectid</th>\n",
       "      <th>abdominalextensiondepthsitting</th>\n",
       "      <th>acromialheight</th>\n",
       "      <th>acromionradialelength</th>\n",
       "      <th>anklecircumference</th>\n",
       "      <th>axillaheight</th>\n",
       "      <th>balloffootcircumference</th>\n",
       "      <th>balloffootlength</th>\n",
       "      <th>biacromialbreadth</th>\n",
       "      <th>bicepscircumferenceflexed</th>\n",
       "      <th>bicristalbreadth</th>\n",
       "      <th>bideltoidbreadth</th>\n",
       "      <th>bimalleolarbreadth</th>\n",
       "      <th>bitragionchinarc</th>\n",
       "      <th>bitragionsubmandibulararc</th>\n",
       "      <th>bizygomaticbreadth</th>\n",
       "      <th>buttockcircumference</th>\n",
       "      <th>buttockdepth</th>\n",
       "      <th>buttockheight</th>\n",
       "      <th>buttockkneelength</th>\n",
       "      <th>buttockpopliteallength</th>\n",
       "      <th>calfcircumference</th>\n",
       "      <th>cervicaleheight</th>\n",
       "      <th>chestbreadth</th>\n",
       "      <th>chestcircumference</th>\n",
       "      <th>chestdepth</th>\n",
       "      <th>chestheight</th>\n",
       "      <th>crotchheight</th>\n",
       "      <th>crotchlengthomphalion</th>\n",
       "      <th>crotchlengthposterioromphalion</th>\n",
       "      <th>earbreadth</th>\n",
       "      <th>earlength</th>\n",
       "      <th>earprotrusion</th>\n",
       "      <th>elbowrestheight</th>\n",
       "      <th>eyeheightsitting</th>\n",
       "      <th>footbreadthhorizontal</th>\n",
       "      <th>footlength</th>\n",
       "      <th>forearmcenterofgriplength</th>\n",
       "      <th>forearmcircumferenceflexed</th>\n",
       "      <th>forearmforearmbreadth</th>\n",
       "      <th>forearmhandlength</th>\n",
       "      <th>functionalleglength</th>\n",
       "      <th>handbreadth</th>\n",
       "      <th>handcircumference</th>\n",
       "      <th>handlength</th>\n",
       "      <th>headbreadth</th>\n",
       "      <th>headcircumference</th>\n",
       "      <th>headlength</th>\n",
       "      <th>heelanklecircumference</th>\n",
       "      <th>heelbreadth</th>\n",
       "      <th>hipbreadth</th>\n",
       "      <th>hipbreadthsitting</th>\n",
       "      <th>iliocristaleheight</th>\n",
       "      <th>interpupillarybreadth</th>\n",
       "      <th>interscyei</th>\n",
       "      <th>interscyeii</th>\n",
       "      <th>kneeheightmidpatella</th>\n",
       "      <th>kneeheightsitting</th>\n",
       "      <th>lateralfemoralepicondyleheight</th>\n",
       "      <th>lateralmalleolusheight</th>\n",
       "      <th>lowerthighcircumference</th>\n",
       "      <th>mentonsellionlength</th>\n",
       "      <th>neckcircumference</th>\n",
       "      <th>neckcircumferencebase</th>\n",
       "      <th>overheadfingertipreachsitting</th>\n",
       "      <th>palmlength</th>\n",
       "      <th>poplitealheight</th>\n",
       "      <th>radialestylionlength</th>\n",
       "      <th>shouldercircumference</th>\n",
       "      <th>shoulderelbowlength</th>\n",
       "      <th>shoulderlength</th>\n",
       "      <th>sittingheight</th>\n",
       "      <th>sleevelengthspinewrist</th>\n",
       "      <th>sleeveoutseam</th>\n",
       "      <th>span</th>\n",
       "      <th>stature</th>\n",
       "      <th>suprasternaleheight</th>\n",
       "      <th>tenthribheight</th>\n",
       "      <th>thighcircumference</th>\n",
       "      <th>thighclearance</th>\n",
       "      <th>thumbtipreach</th>\n",
       "      <th>tibialheight</th>\n",
       "      <th>tragiontopofhead</th>\n",
       "      <th>trochanterionheight</th>\n",
       "      <th>verticaltrunkcircumferenceusa</th>\n",
       "      <th>waistbacklength</th>\n",
       "      <th>waistbreadth</th>\n",
       "      <th>waistcircumference</th>\n",
       "      <th>waistdepth</th>\n",
       "      <th>waistfrontlengthsitting</th>\n",
       "      <th>waistheightomphalion</th>\n",
       "      <th>weightkg</th>\n",
       "      <th>wristcircumference</th>\n",
       "      <th>wristheight</th>\n",
       "      <th>Gender</th>\n",
       "      <th>Date</th>\n",
       "      <th>Installation</th>\n",
       "      <th>Component</th>\n",
       "      <th>Branch</th>\n",
       "      <th>PrimaryMOS</th>\n",
       "      <th>SubjectsBirthLocation</th>\n",
       "      <th>SubjectNumericRace</th>\n",
       "      <th>Ethnicity</th>\n",
       "      <th>DODRace</th>\n",
       "      <th>Age</th>\n",
       "      <th>Heightin</th>\n",
       "      <th>Weightlbs</th>\n",
       "      <th>WritingPreference</th>\n",
       "      <th>SubjectId</th>\n",
       "    </tr>\n",
       "  </thead>\n",
       "  <tbody>\n",
       "    <tr>\n",
       "      <th>0</th>\n",
       "      <td>10027.000</td>\n",
       "      <td>266</td>\n",
       "      <td>1467</td>\n",
       "      <td>337</td>\n",
       "      <td>222</td>\n",
       "      <td>1347</td>\n",
       "      <td>253</td>\n",
       "      <td>202</td>\n",
       "      <td>401</td>\n",
       "      <td>369</td>\n",
       "      <td>274</td>\n",
       "      <td>493</td>\n",
       "      <td>71</td>\n",
       "      <td>319</td>\n",
       "      <td>291</td>\n",
       "      <td>142</td>\n",
       "      <td>979</td>\n",
       "      <td>240</td>\n",
       "      <td>882</td>\n",
       "      <td>619</td>\n",
       "      <td>509</td>\n",
       "      <td>373</td>\n",
       "      <td>1535</td>\n",
       "      <td>291</td>\n",
       "      <td>1074</td>\n",
       "      <td>259</td>\n",
       "      <td>1292</td>\n",
       "      <td>877</td>\n",
       "      <td>607</td>\n",
       "      <td>351</td>\n",
       "      <td>36</td>\n",
       "      <td>71</td>\n",
       "      <td>19</td>\n",
       "      <td>247</td>\n",
       "      <td>802</td>\n",
       "      <td>101</td>\n",
       "      <td>273</td>\n",
       "      <td>349</td>\n",
       "      <td>299</td>\n",
       "      <td>575</td>\n",
       "      <td>477</td>\n",
       "      <td>1136</td>\n",
       "      <td>90</td>\n",
       "      <td>214</td>\n",
       "      <td>193</td>\n",
       "      <td>150</td>\n",
       "      <td>583</td>\n",
       "      <td>206</td>\n",
       "      <td>326</td>\n",
       "      <td>70</td>\n",
       "      <td>332</td>\n",
       "      <td>366</td>\n",
       "      <td>1071</td>\n",
       "      <td>685</td>\n",
       "      <td>422</td>\n",
       "      <td>441</td>\n",
       "      <td>502</td>\n",
       "      <td>560</td>\n",
       "      <td>500</td>\n",
       "      <td>77</td>\n",
       "      <td>391</td>\n",
       "      <td>118</td>\n",
       "      <td>400</td>\n",
       "      <td>436</td>\n",
       "      <td>1447</td>\n",
       "      <td>113</td>\n",
       "      <td>437</td>\n",
       "      <td>273</td>\n",
       "      <td>1151</td>\n",
       "      <td>368</td>\n",
       "      <td>145</td>\n",
       "      <td>928</td>\n",
       "      <td>883</td>\n",
       "      <td>600</td>\n",
       "      <td>1782</td>\n",
       "      <td>1776</td>\n",
       "      <td>1449</td>\n",
       "      <td>1092</td>\n",
       "      <td>610</td>\n",
       "      <td>164</td>\n",
       "      <td>786</td>\n",
       "      <td>491</td>\n",
       "      <td>140</td>\n",
       "      <td>919</td>\n",
       "      <td>1700</td>\n",
       "      <td>501</td>\n",
       "      <td>329</td>\n",
       "      <td>933</td>\n",
       "      <td>240</td>\n",
       "      <td>440</td>\n",
       "      <td>1054</td>\n",
       "      <td>815</td>\n",
       "      <td>175</td>\n",
       "      <td>853</td>\n",
       "      <td>Male</td>\n",
       "      <td>4-Oct-10</td>\n",
       "      <td>Fort Hood</td>\n",
       "      <td>Regular Army</td>\n",
       "      <td>Combat Arms</td>\n",
       "      <td>19D</td>\n",
       "      <td>North Dakota</td>\n",
       "      <td>1</td>\n",
       "      <td>NaN</td>\n",
       "      <td>1</td>\n",
       "      <td>41</td>\n",
       "      <td>71</td>\n",
       "      <td>180</td>\n",
       "      <td>Right hand</td>\n",
       "      <td>NaN</td>\n",
       "    </tr>\n",
       "    <tr>\n",
       "      <th>1</th>\n",
       "      <td>10032.000</td>\n",
       "      <td>233</td>\n",
       "      <td>1395</td>\n",
       "      <td>326</td>\n",
       "      <td>220</td>\n",
       "      <td>1293</td>\n",
       "      <td>245</td>\n",
       "      <td>193</td>\n",
       "      <td>394</td>\n",
       "      <td>338</td>\n",
       "      <td>257</td>\n",
       "      <td>479</td>\n",
       "      <td>67</td>\n",
       "      <td>344</td>\n",
       "      <td>320</td>\n",
       "      <td>135</td>\n",
       "      <td>944</td>\n",
       "      <td>232</td>\n",
       "      <td>870</td>\n",
       "      <td>584</td>\n",
       "      <td>468</td>\n",
       "      <td>357</td>\n",
       "      <td>1471</td>\n",
       "      <td>269</td>\n",
       "      <td>1021</td>\n",
       "      <td>253</td>\n",
       "      <td>1244</td>\n",
       "      <td>851</td>\n",
       "      <td>615</td>\n",
       "      <td>376</td>\n",
       "      <td>33</td>\n",
       "      <td>62</td>\n",
       "      <td>18</td>\n",
       "      <td>232</td>\n",
       "      <td>781</td>\n",
       "      <td>98</td>\n",
       "      <td>263</td>\n",
       "      <td>348</td>\n",
       "      <td>289</td>\n",
       "      <td>523</td>\n",
       "      <td>476</td>\n",
       "      <td>1096</td>\n",
       "      <td>86</td>\n",
       "      <td>203</td>\n",
       "      <td>195</td>\n",
       "      <td>146</td>\n",
       "      <td>568</td>\n",
       "      <td>201</td>\n",
       "      <td>334</td>\n",
       "      <td>72</td>\n",
       "      <td>312</td>\n",
       "      <td>356</td>\n",
       "      <td>1046</td>\n",
       "      <td>620</td>\n",
       "      <td>441</td>\n",
       "      <td>447</td>\n",
       "      <td>490</td>\n",
       "      <td>540</td>\n",
       "      <td>488</td>\n",
       "      <td>73</td>\n",
       "      <td>371</td>\n",
       "      <td>131</td>\n",
       "      <td>380</td>\n",
       "      <td>420</td>\n",
       "      <td>1380</td>\n",
       "      <td>118</td>\n",
       "      <td>417</td>\n",
       "      <td>254</td>\n",
       "      <td>1119</td>\n",
       "      <td>353</td>\n",
       "      <td>141</td>\n",
       "      <td>884</td>\n",
       "      <td>868</td>\n",
       "      <td>564</td>\n",
       "      <td>1745</td>\n",
       "      <td>1702</td>\n",
       "      <td>1387</td>\n",
       "      <td>1076</td>\n",
       "      <td>572</td>\n",
       "      <td>169</td>\n",
       "      <td>822</td>\n",
       "      <td>476</td>\n",
       "      <td>120</td>\n",
       "      <td>918</td>\n",
       "      <td>1627</td>\n",
       "      <td>432</td>\n",
       "      <td>316</td>\n",
       "      <td>870</td>\n",
       "      <td>225</td>\n",
       "      <td>371</td>\n",
       "      <td>1054</td>\n",
       "      <td>726</td>\n",
       "      <td>167</td>\n",
       "      <td>815</td>\n",
       "      <td>Male</td>\n",
       "      <td>4-Oct-10</td>\n",
       "      <td>Fort Hood</td>\n",
       "      <td>Regular Army</td>\n",
       "      <td>Combat Support</td>\n",
       "      <td>68W</td>\n",
       "      <td>New York</td>\n",
       "      <td>1</td>\n",
       "      <td>NaN</td>\n",
       "      <td>1</td>\n",
       "      <td>35</td>\n",
       "      <td>68</td>\n",
       "      <td>160</td>\n",
       "      <td>Left hand</td>\n",
       "      <td>NaN</td>\n",
       "    </tr>\n",
       "    <tr>\n",
       "      <th>2</th>\n",
       "      <td>10033.000</td>\n",
       "      <td>287</td>\n",
       "      <td>1430</td>\n",
       "      <td>341</td>\n",
       "      <td>230</td>\n",
       "      <td>1327</td>\n",
       "      <td>256</td>\n",
       "      <td>196</td>\n",
       "      <td>427</td>\n",
       "      <td>408</td>\n",
       "      <td>261</td>\n",
       "      <td>544</td>\n",
       "      <td>75</td>\n",
       "      <td>345</td>\n",
       "      <td>330</td>\n",
       "      <td>135</td>\n",
       "      <td>1054</td>\n",
       "      <td>258</td>\n",
       "      <td>901</td>\n",
       "      <td>623</td>\n",
       "      <td>506</td>\n",
       "      <td>412</td>\n",
       "      <td>1501</td>\n",
       "      <td>288</td>\n",
       "      <td>1120</td>\n",
       "      <td>267</td>\n",
       "      <td>1288</td>\n",
       "      <td>854</td>\n",
       "      <td>636</td>\n",
       "      <td>359</td>\n",
       "      <td>40</td>\n",
       "      <td>61</td>\n",
       "      <td>23</td>\n",
       "      <td>237</td>\n",
       "      <td>810</td>\n",
       "      <td>103</td>\n",
       "      <td>270</td>\n",
       "      <td>355</td>\n",
       "      <td>357</td>\n",
       "      <td>575</td>\n",
       "      <td>491</td>\n",
       "      <td>1115</td>\n",
       "      <td>93</td>\n",
       "      <td>220</td>\n",
       "      <td>203</td>\n",
       "      <td>148</td>\n",
       "      <td>573</td>\n",
       "      <td>202</td>\n",
       "      <td>356</td>\n",
       "      <td>70</td>\n",
       "      <td>349</td>\n",
       "      <td>393</td>\n",
       "      <td>1053</td>\n",
       "      <td>665</td>\n",
       "      <td>462</td>\n",
       "      <td>475</td>\n",
       "      <td>496</td>\n",
       "      <td>556</td>\n",
       "      <td>482</td>\n",
       "      <td>72</td>\n",
       "      <td>409</td>\n",
       "      <td>123</td>\n",
       "      <td>403</td>\n",
       "      <td>434</td>\n",
       "      <td>1447</td>\n",
       "      <td>121</td>\n",
       "      <td>431</td>\n",
       "      <td>268</td>\n",
       "      <td>1276</td>\n",
       "      <td>367</td>\n",
       "      <td>167</td>\n",
       "      <td>917</td>\n",
       "      <td>910</td>\n",
       "      <td>604</td>\n",
       "      <td>1867</td>\n",
       "      <td>1735</td>\n",
       "      <td>1438</td>\n",
       "      <td>1105</td>\n",
       "      <td>685</td>\n",
       "      <td>198</td>\n",
       "      <td>807</td>\n",
       "      <td>477</td>\n",
       "      <td>125</td>\n",
       "      <td>918</td>\n",
       "      <td>1678</td>\n",
       "      <td>472</td>\n",
       "      <td>329</td>\n",
       "      <td>964</td>\n",
       "      <td>255</td>\n",
       "      <td>411</td>\n",
       "      <td>1041</td>\n",
       "      <td>929</td>\n",
       "      <td>180</td>\n",
       "      <td>831</td>\n",
       "      <td>Male</td>\n",
       "      <td>4-Oct-10</td>\n",
       "      <td>Fort Hood</td>\n",
       "      <td>Regular Army</td>\n",
       "      <td>Combat Support</td>\n",
       "      <td>68W</td>\n",
       "      <td>New York</td>\n",
       "      <td>2</td>\n",
       "      <td>NaN</td>\n",
       "      <td>2</td>\n",
       "      <td>42</td>\n",
       "      <td>68</td>\n",
       "      <td>205</td>\n",
       "      <td>Left hand</td>\n",
       "      <td>NaN</td>\n",
       "    </tr>\n",
       "    <tr>\n",
       "      <th>3</th>\n",
       "      <td>10092.000</td>\n",
       "      <td>234</td>\n",
       "      <td>1347</td>\n",
       "      <td>310</td>\n",
       "      <td>230</td>\n",
       "      <td>1239</td>\n",
       "      <td>262</td>\n",
       "      <td>199</td>\n",
       "      <td>401</td>\n",
       "      <td>359</td>\n",
       "      <td>262</td>\n",
       "      <td>518</td>\n",
       "      <td>73</td>\n",
       "      <td>328</td>\n",
       "      <td>309</td>\n",
       "      <td>143</td>\n",
       "      <td>991</td>\n",
       "      <td>242</td>\n",
       "      <td>821</td>\n",
       "      <td>560</td>\n",
       "      <td>437</td>\n",
       "      <td>395</td>\n",
       "      <td>1423</td>\n",
       "      <td>296</td>\n",
       "      <td>1114</td>\n",
       "      <td>262</td>\n",
       "      <td>1205</td>\n",
       "      <td>769</td>\n",
       "      <td>590</td>\n",
       "      <td>341</td>\n",
       "      <td>39</td>\n",
       "      <td>66</td>\n",
       "      <td>25</td>\n",
       "      <td>272</td>\n",
       "      <td>794</td>\n",
       "      <td>106</td>\n",
       "      <td>267</td>\n",
       "      <td>352</td>\n",
       "      <td>318</td>\n",
       "      <td>593</td>\n",
       "      <td>467</td>\n",
       "      <td>1034</td>\n",
       "      <td>91</td>\n",
       "      <td>217</td>\n",
       "      <td>194</td>\n",
       "      <td>158</td>\n",
       "      <td>576</td>\n",
       "      <td>199</td>\n",
       "      <td>341</td>\n",
       "      <td>68</td>\n",
       "      <td>338</td>\n",
       "      <td>367</td>\n",
       "      <td>986</td>\n",
       "      <td>640</td>\n",
       "      <td>458</td>\n",
       "      <td>461</td>\n",
       "      <td>460</td>\n",
       "      <td>511</td>\n",
       "      <td>452</td>\n",
       "      <td>76</td>\n",
       "      <td>393</td>\n",
       "      <td>106</td>\n",
       "      <td>407</td>\n",
       "      <td>446</td>\n",
       "      <td>1357</td>\n",
       "      <td>118</td>\n",
       "      <td>393</td>\n",
       "      <td>249</td>\n",
       "      <td>1155</td>\n",
       "      <td>330</td>\n",
       "      <td>148</td>\n",
       "      <td>903</td>\n",
       "      <td>848</td>\n",
       "      <td>550</td>\n",
       "      <td>1708</td>\n",
       "      <td>1655</td>\n",
       "      <td>1346</td>\n",
       "      <td>1021</td>\n",
       "      <td>604</td>\n",
       "      <td>180</td>\n",
       "      <td>803</td>\n",
       "      <td>445</td>\n",
       "      <td>127</td>\n",
       "      <td>847</td>\n",
       "      <td>1625</td>\n",
       "      <td>461</td>\n",
       "      <td>315</td>\n",
       "      <td>857</td>\n",
       "      <td>205</td>\n",
       "      <td>399</td>\n",
       "      <td>968</td>\n",
       "      <td>794</td>\n",
       "      <td>176</td>\n",
       "      <td>793</td>\n",
       "      <td>Male</td>\n",
       "      <td>12-Oct-10</td>\n",
       "      <td>Fort Hood</td>\n",
       "      <td>Regular Army</td>\n",
       "      <td>Combat Service Support</td>\n",
       "      <td>88M</td>\n",
       "      <td>Wisconsin</td>\n",
       "      <td>1</td>\n",
       "      <td>NaN</td>\n",
       "      <td>1</td>\n",
       "      <td>31</td>\n",
       "      <td>66</td>\n",
       "      <td>175</td>\n",
       "      <td>Right hand</td>\n",
       "      <td>NaN</td>\n",
       "    </tr>\n",
       "    <tr>\n",
       "      <th>4</th>\n",
       "      <td>10093.000</td>\n",
       "      <td>250</td>\n",
       "      <td>1585</td>\n",
       "      <td>372</td>\n",
       "      <td>247</td>\n",
       "      <td>1478</td>\n",
       "      <td>267</td>\n",
       "      <td>224</td>\n",
       "      <td>435</td>\n",
       "      <td>356</td>\n",
       "      <td>263</td>\n",
       "      <td>524</td>\n",
       "      <td>80</td>\n",
       "      <td>340</td>\n",
       "      <td>310</td>\n",
       "      <td>138</td>\n",
       "      <td>1029</td>\n",
       "      <td>275</td>\n",
       "      <td>1080</td>\n",
       "      <td>706</td>\n",
       "      <td>567</td>\n",
       "      <td>425</td>\n",
       "      <td>1684</td>\n",
       "      <td>304</td>\n",
       "      <td>1048</td>\n",
       "      <td>232</td>\n",
       "      <td>1452</td>\n",
       "      <td>1014</td>\n",
       "      <td>682</td>\n",
       "      <td>382</td>\n",
       "      <td>32</td>\n",
       "      <td>56</td>\n",
       "      <td>19</td>\n",
       "      <td>188</td>\n",
       "      <td>814</td>\n",
       "      <td>111</td>\n",
       "      <td>305</td>\n",
       "      <td>399</td>\n",
       "      <td>324</td>\n",
       "      <td>605</td>\n",
       "      <td>550</td>\n",
       "      <td>1279</td>\n",
       "      <td>94</td>\n",
       "      <td>222</td>\n",
       "      <td>218</td>\n",
       "      <td>153</td>\n",
       "      <td>566</td>\n",
       "      <td>197</td>\n",
       "      <td>374</td>\n",
       "      <td>69</td>\n",
       "      <td>332</td>\n",
       "      <td>372</td>\n",
       "      <td>1251</td>\n",
       "      <td>675</td>\n",
       "      <td>481</td>\n",
       "      <td>505</td>\n",
       "      <td>612</td>\n",
       "      <td>666</td>\n",
       "      <td>585</td>\n",
       "      <td>85</td>\n",
       "      <td>458</td>\n",
       "      <td>135</td>\n",
       "      <td>398</td>\n",
       "      <td>430</td>\n",
       "      <td>1572</td>\n",
       "      <td>132</td>\n",
       "      <td>523</td>\n",
       "      <td>302</td>\n",
       "      <td>1231</td>\n",
       "      <td>400</td>\n",
       "      <td>180</td>\n",
       "      <td>919</td>\n",
       "      <td>995</td>\n",
       "      <td>641</td>\n",
       "      <td>2035</td>\n",
       "      <td>1914</td>\n",
       "      <td>1596</td>\n",
       "      <td>1292</td>\n",
       "      <td>672</td>\n",
       "      <td>194</td>\n",
       "      <td>962</td>\n",
       "      <td>584</td>\n",
       "      <td>122</td>\n",
       "      <td>1090</td>\n",
       "      <td>1679</td>\n",
       "      <td>467</td>\n",
       "      <td>303</td>\n",
       "      <td>868</td>\n",
       "      <td>214</td>\n",
       "      <td>379</td>\n",
       "      <td>1245</td>\n",
       "      <td>946</td>\n",
       "      <td>188</td>\n",
       "      <td>954</td>\n",
       "      <td>Male</td>\n",
       "      <td>12-Oct-10</td>\n",
       "      <td>Fort Hood</td>\n",
       "      <td>Regular Army</td>\n",
       "      <td>Combat Service Support</td>\n",
       "      <td>92G</td>\n",
       "      <td>North Carolina</td>\n",
       "      <td>2</td>\n",
       "      <td>NaN</td>\n",
       "      <td>2</td>\n",
       "      <td>21</td>\n",
       "      <td>77</td>\n",
       "      <td>213</td>\n",
       "      <td>Right hand</td>\n",
       "      <td>NaN</td>\n",
       "    </tr>\n",
       "  </tbody>\n",
       "</table>\n",
       "</div>"
      ],
      "text/plain": [
       "   subjectid  abdominalextensiondepthsitting  acromialheight  \\\n",
       "0  10027.000                             266            1467   \n",
       "1  10032.000                             233            1395   \n",
       "2  10033.000                             287            1430   \n",
       "3  10092.000                             234            1347   \n",
       "4  10093.000                             250            1585   \n",
       "\n",
       "   acromionradialelength  anklecircumference  axillaheight  \\\n",
       "0                    337                 222          1347   \n",
       "1                    326                 220          1293   \n",
       "2                    341                 230          1327   \n",
       "3                    310                 230          1239   \n",
       "4                    372                 247          1478   \n",
       "\n",
       "   balloffootcircumference  balloffootlength  biacromialbreadth  \\\n",
       "0                      253               202                401   \n",
       "1                      245               193                394   \n",
       "2                      256               196                427   \n",
       "3                      262               199                401   \n",
       "4                      267               224                435   \n",
       "\n",
       "   bicepscircumferenceflexed  bicristalbreadth  bideltoidbreadth  \\\n",
       "0                        369               274               493   \n",
       "1                        338               257               479   \n",
       "2                        408               261               544   \n",
       "3                        359               262               518   \n",
       "4                        356               263               524   \n",
       "\n",
       "   bimalleolarbreadth  bitragionchinarc  bitragionsubmandibulararc  \\\n",
       "0                  71               319                        291   \n",
       "1                  67               344                        320   \n",
       "2                  75               345                        330   \n",
       "3                  73               328                        309   \n",
       "4                  80               340                        310   \n",
       "\n",
       "   bizygomaticbreadth  buttockcircumference  buttockdepth  buttockheight  \\\n",
       "0                 142                   979           240            882   \n",
       "1                 135                   944           232            870   \n",
       "2                 135                  1054           258            901   \n",
       "3                 143                   991           242            821   \n",
       "4                 138                  1029           275           1080   \n",
       "\n",
       "   buttockkneelength  buttockpopliteallength  calfcircumference  \\\n",
       "0                619                     509                373   \n",
       "1                584                     468                357   \n",
       "2                623                     506                412   \n",
       "3                560                     437                395   \n",
       "4                706                     567                425   \n",
       "\n",
       "   cervicaleheight  chestbreadth  chestcircumference  chestdepth  chestheight  \\\n",
       "0             1535           291                1074         259         1292   \n",
       "1             1471           269                1021         253         1244   \n",
       "2             1501           288                1120         267         1288   \n",
       "3             1423           296                1114         262         1205   \n",
       "4             1684           304                1048         232         1452   \n",
       "\n",
       "   crotchheight  crotchlengthomphalion  crotchlengthposterioromphalion  \\\n",
       "0           877                    607                             351   \n",
       "1           851                    615                             376   \n",
       "2           854                    636                             359   \n",
       "3           769                    590                             341   \n",
       "4          1014                    682                             382   \n",
       "\n",
       "   earbreadth  earlength  earprotrusion  elbowrestheight  eyeheightsitting  \\\n",
       "0          36         71             19              247               802   \n",
       "1          33         62             18              232               781   \n",
       "2          40         61             23              237               810   \n",
       "3          39         66             25              272               794   \n",
       "4          32         56             19              188               814   \n",
       "\n",
       "   footbreadthhorizontal  footlength  forearmcenterofgriplength  \\\n",
       "0                    101         273                        349   \n",
       "1                     98         263                        348   \n",
       "2                    103         270                        355   \n",
       "3                    106         267                        352   \n",
       "4                    111         305                        399   \n",
       "\n",
       "   forearmcircumferenceflexed  forearmforearmbreadth  forearmhandlength  \\\n",
       "0                         299                    575                477   \n",
       "1                         289                    523                476   \n",
       "2                         357                    575                491   \n",
       "3                         318                    593                467   \n",
       "4                         324                    605                550   \n",
       "\n",
       "   functionalleglength  handbreadth  handcircumference  handlength  \\\n",
       "0                 1136           90                214         193   \n",
       "1                 1096           86                203         195   \n",
       "2                 1115           93                220         203   \n",
       "3                 1034           91                217         194   \n",
       "4                 1279           94                222         218   \n",
       "\n",
       "   headbreadth  headcircumference  headlength  heelanklecircumference  \\\n",
       "0          150                583         206                     326   \n",
       "1          146                568         201                     334   \n",
       "2          148                573         202                     356   \n",
       "3          158                576         199                     341   \n",
       "4          153                566         197                     374   \n",
       "\n",
       "   heelbreadth  hipbreadth  hipbreadthsitting  iliocristaleheight  \\\n",
       "0           70         332                366                1071   \n",
       "1           72         312                356                1046   \n",
       "2           70         349                393                1053   \n",
       "3           68         338                367                 986   \n",
       "4           69         332                372                1251   \n",
       "\n",
       "   interpupillarybreadth  interscyei  interscyeii  kneeheightmidpatella  \\\n",
       "0                    685         422          441                   502   \n",
       "1                    620         441          447                   490   \n",
       "2                    665         462          475                   496   \n",
       "3                    640         458          461                   460   \n",
       "4                    675         481          505                   612   \n",
       "\n",
       "   kneeheightsitting  lateralfemoralepicondyleheight  lateralmalleolusheight  \\\n",
       "0                560                             500                      77   \n",
       "1                540                             488                      73   \n",
       "2                556                             482                      72   \n",
       "3                511                             452                      76   \n",
       "4                666                             585                      85   \n",
       "\n",
       "   lowerthighcircumference  mentonsellionlength  neckcircumference  \\\n",
       "0                      391                  118                400   \n",
       "1                      371                  131                380   \n",
       "2                      409                  123                403   \n",
       "3                      393                  106                407   \n",
       "4                      458                  135                398   \n",
       "\n",
       "   neckcircumferencebase  overheadfingertipreachsitting  palmlength  \\\n",
       "0                    436                           1447         113   \n",
       "1                    420                           1380         118   \n",
       "2                    434                           1447         121   \n",
       "3                    446                           1357         118   \n",
       "4                    430                           1572         132   \n",
       "\n",
       "   poplitealheight  radialestylionlength  shouldercircumference  \\\n",
       "0              437                   273                   1151   \n",
       "1              417                   254                   1119   \n",
       "2              431                   268                   1276   \n",
       "3              393                   249                   1155   \n",
       "4              523                   302                   1231   \n",
       "\n",
       "   shoulderelbowlength  shoulderlength  sittingheight  sleevelengthspinewrist  \\\n",
       "0                  368             145            928                     883   \n",
       "1                  353             141            884                     868   \n",
       "2                  367             167            917                     910   \n",
       "3                  330             148            903                     848   \n",
       "4                  400             180            919                     995   \n",
       "\n",
       "   sleeveoutseam  span  stature  suprasternaleheight  tenthribheight  \\\n",
       "0            600  1782     1776                 1449            1092   \n",
       "1            564  1745     1702                 1387            1076   \n",
       "2            604  1867     1735                 1438            1105   \n",
       "3            550  1708     1655                 1346            1021   \n",
       "4            641  2035     1914                 1596            1292   \n",
       "\n",
       "   thighcircumference  thighclearance  thumbtipreach  tibialheight  \\\n",
       "0                 610             164            786           491   \n",
       "1                 572             169            822           476   \n",
       "2                 685             198            807           477   \n",
       "3                 604             180            803           445   \n",
       "4                 672             194            962           584   \n",
       "\n",
       "   tragiontopofhead  trochanterionheight  verticaltrunkcircumferenceusa  \\\n",
       "0               140                  919                           1700   \n",
       "1               120                  918                           1627   \n",
       "2               125                  918                           1678   \n",
       "3               127                  847                           1625   \n",
       "4               122                 1090                           1679   \n",
       "\n",
       "   waistbacklength  waistbreadth  waistcircumference  waistdepth  \\\n",
       "0              501           329                 933         240   \n",
       "1              432           316                 870         225   \n",
       "2              472           329                 964         255   \n",
       "3              461           315                 857         205   \n",
       "4              467           303                 868         214   \n",
       "\n",
       "   waistfrontlengthsitting  waistheightomphalion  weightkg  \\\n",
       "0                      440                  1054       815   \n",
       "1                      371                  1054       726   \n",
       "2                      411                  1041       929   \n",
       "3                      399                   968       794   \n",
       "4                      379                  1245       946   \n",
       "\n",
       "   wristcircumference  wristheight Gender       Date Installation  \\\n",
       "0                 175          853   Male   4-Oct-10    Fort Hood   \n",
       "1                 167          815   Male   4-Oct-10    Fort Hood   \n",
       "2                 180          831   Male   4-Oct-10    Fort Hood   \n",
       "3                 176          793   Male  12-Oct-10    Fort Hood   \n",
       "4                 188          954   Male  12-Oct-10    Fort Hood   \n",
       "\n",
       "      Component                  Branch PrimaryMOS SubjectsBirthLocation  \\\n",
       "0  Regular Army             Combat Arms        19D          North Dakota   \n",
       "1  Regular Army          Combat Support        68W              New York   \n",
       "2  Regular Army          Combat Support        68W              New York   \n",
       "3  Regular Army  Combat Service Support        88M             Wisconsin   \n",
       "4  Regular Army  Combat Service Support        92G        North Carolina   \n",
       "\n",
       "   SubjectNumericRace Ethnicity  DODRace  Age  Heightin  Weightlbs  \\\n",
       "0                   1       NaN        1   41        71        180   \n",
       "1                   1       NaN        1   35        68        160   \n",
       "2                   2       NaN        2   42        68        205   \n",
       "3                   1       NaN        1   31        66        175   \n",
       "4                   2       NaN        2   21        77        213   \n",
       "\n",
       "  WritingPreference  SubjectId  \n",
       "0        Right hand        NaN  \n",
       "1         Left hand        NaN  \n",
       "2         Left hand        NaN  \n",
       "3        Right hand        NaN  \n",
       "4        Right hand        NaN  "
      ]
     },
     "execution_count": 45,
     "metadata": {},
     "output_type": "execute_result"
    }
   ],
   "source": [
    "df.head()"
   ]
  },
  {
   "cell_type": "markdown",
   "metadata": {
    "heading_collapsed": true,
    "hidden": true,
    "id": "TMjCTEG51b67"
   },
   "source": [
    "## Explore Data"
   ]
  },
  {
   "cell_type": "code",
   "execution_count": 46,
   "metadata": {
    "colab": {
     "base_uri": "https://localhost:8080/",
     "height": 17
    },
    "hidden": true,
    "id": "SnlGRPWbrNAj",
    "outputId": "29ed8227-1450-4213-e9d1-a2953167d415",
    "scrolled": true
   },
   "outputs": [
    {
     "name": "stdout",
     "output_type": "stream",
     "text": [
      "<class 'pandas.core.frame.DataFrame'>\n",
      "RangeIndex: 6068 entries, 0 to 6067\n",
      "Data columns (total 109 columns):\n",
      " #    Column                          Dtype  \n",
      "---   ------                          -----  \n",
      " 0    subjectid                       float64\n",
      " 1    abdominalextensiondepthsitting  int64  \n",
      " 2    acromialheight                  int64  \n",
      " 3    acromionradialelength           int64  \n",
      " 4    anklecircumference              int64  \n",
      " 5    axillaheight                    int64  \n",
      " 6    balloffootcircumference         int64  \n",
      " 7    balloffootlength                int64  \n",
      " 8    biacromialbreadth               int64  \n",
      " 9    bicepscircumferenceflexed       int64  \n",
      " 10   bicristalbreadth                int64  \n",
      " 11   bideltoidbreadth                int64  \n",
      " 12   bimalleolarbreadth              int64  \n",
      " 13   bitragionchinarc                int64  \n",
      " 14   bitragionsubmandibulararc       int64  \n",
      " 15   bizygomaticbreadth              int64  \n",
      " 16   buttockcircumference            int64  \n",
      " 17   buttockdepth                    int64  \n",
      " 18   buttockheight                   int64  \n",
      " 19   buttockkneelength               int64  \n",
      " 20   buttockpopliteallength          int64  \n",
      " 21   calfcircumference               int64  \n",
      " 22   cervicaleheight                 int64  \n",
      " 23   chestbreadth                    int64  \n",
      " 24   chestcircumference              int64  \n",
      " 25   chestdepth                      int64  \n",
      " 26   chestheight                     int64  \n",
      " 27   crotchheight                    int64  \n",
      " 28   crotchlengthomphalion           int64  \n",
      " 29   crotchlengthposterioromphalion  int64  \n",
      " 30   earbreadth                      int64  \n",
      " 31   earlength                       int64  \n",
      " 32   earprotrusion                   int64  \n",
      " 33   elbowrestheight                 int64  \n",
      " 34   eyeheightsitting                int64  \n",
      " 35   footbreadthhorizontal           int64  \n",
      " 36   footlength                      int64  \n",
      " 37   forearmcenterofgriplength       int64  \n",
      " 38   forearmcircumferenceflexed      int64  \n",
      " 39   forearmforearmbreadth           int64  \n",
      " 40   forearmhandlength               int64  \n",
      " 41   functionalleglength             int64  \n",
      " 42   handbreadth                     int64  \n",
      " 43   handcircumference               int64  \n",
      " 44   handlength                      int64  \n",
      " 45   headbreadth                     int64  \n",
      " 46   headcircumference               int64  \n",
      " 47   headlength                      int64  \n",
      " 48   heelanklecircumference          int64  \n",
      " 49   heelbreadth                     int64  \n",
      " 50   hipbreadth                      int64  \n",
      " 51   hipbreadthsitting               int64  \n",
      " 52   iliocristaleheight              int64  \n",
      " 53   interpupillarybreadth           int64  \n",
      " 54   interscyei                      int64  \n",
      " 55   interscyeii                     int64  \n",
      " 56   kneeheightmidpatella            int64  \n",
      " 57   kneeheightsitting               int64  \n",
      " 58   lateralfemoralepicondyleheight  int64  \n",
      " 59   lateralmalleolusheight          int64  \n",
      " 60   lowerthighcircumference         int64  \n",
      " 61   mentonsellionlength             int64  \n",
      " 62   neckcircumference               int64  \n",
      " 63   neckcircumferencebase           int64  \n",
      " 64   overheadfingertipreachsitting   int64  \n",
      " 65   palmlength                      int64  \n",
      " 66   poplitealheight                 int64  \n",
      " 67   radialestylionlength            int64  \n",
      " 68   shouldercircumference           int64  \n",
      " 69   shoulderelbowlength             int64  \n",
      " 70   shoulderlength                  int64  \n",
      " 71   sittingheight                   int64  \n",
      " 72   sleevelengthspinewrist          int64  \n",
      " 73   sleeveoutseam                   int64  \n",
      " 74   span                            int64  \n",
      " 75   stature                         int64  \n",
      " 76   suprasternaleheight             int64  \n",
      " 77   tenthribheight                  int64  \n",
      " 78   thighcircumference              int64  \n",
      " 79   thighclearance                  int64  \n",
      " 80   thumbtipreach                   int64  \n",
      " 81   tibialheight                    int64  \n",
      " 82   tragiontopofhead                int64  \n",
      " 83   trochanterionheight             int64  \n",
      " 84   verticaltrunkcircumferenceusa   int64  \n",
      " 85   waistbacklength                 int64  \n",
      " 86   waistbreadth                    int64  \n",
      " 87   waistcircumference              int64  \n",
      " 88   waistdepth                      int64  \n",
      " 89   waistfrontlengthsitting         int64  \n",
      " 90   waistheightomphalion            int64  \n",
      " 91   weightkg                        int64  \n",
      " 92   wristcircumference              int64  \n",
      " 93   wristheight                     int64  \n",
      " 94   Gender                          object \n",
      " 95   Date                            object \n",
      " 96   Installation                    object \n",
      " 97   Component                       object \n",
      " 98   Branch                          object \n",
      " 99   PrimaryMOS                      object \n",
      " 100  SubjectsBirthLocation           object \n",
      " 101  SubjectNumericRace              int64  \n",
      " 102  Ethnicity                       object \n",
      " 103  DODRace                         int64  \n",
      " 104  Age                             int64  \n",
      " 105  Heightin                        int64  \n",
      " 106  Weightlbs                       int64  \n",
      " 107  WritingPreference               object \n",
      " 108  SubjectId                       float64\n",
      "dtypes: float64(2), int64(98), object(9)\n",
      "memory usage: 5.0+ MB\n"
     ]
    }
   ],
   "source": [
    "df.info(verbose=True)"
   ]
  },
  {
   "cell_type": "code",
   "execution_count": 47,
   "metadata": {},
   "outputs": [
    {
     "data": {
      "text/html": [
       "<div>\n",
       "<style scoped>\n",
       "    .dataframe tbody tr th:only-of-type {\n",
       "        vertical-align: middle;\n",
       "    }\n",
       "\n",
       "    .dataframe tbody tr th {\n",
       "        vertical-align: top;\n",
       "    }\n",
       "\n",
       "    .dataframe thead th {\n",
       "        text-align: right;\n",
       "    }\n",
       "</style>\n",
       "<table border=\"1\" class=\"dataframe\">\n",
       "  <thead>\n",
       "    <tr style=\"text-align: right;\">\n",
       "      <th></th>\n",
       "      <th>subjectid</th>\n",
       "      <th>abdominalextensiondepthsitting</th>\n",
       "      <th>acromialheight</th>\n",
       "      <th>acromionradialelength</th>\n",
       "      <th>anklecircumference</th>\n",
       "      <th>axillaheight</th>\n",
       "      <th>balloffootcircumference</th>\n",
       "      <th>balloffootlength</th>\n",
       "      <th>biacromialbreadth</th>\n",
       "      <th>bicepscircumferenceflexed</th>\n",
       "      <th>bicristalbreadth</th>\n",
       "      <th>bideltoidbreadth</th>\n",
       "      <th>bimalleolarbreadth</th>\n",
       "      <th>bitragionchinarc</th>\n",
       "      <th>bitragionsubmandibulararc</th>\n",
       "      <th>bizygomaticbreadth</th>\n",
       "      <th>buttockcircumference</th>\n",
       "      <th>buttockdepth</th>\n",
       "      <th>buttockheight</th>\n",
       "      <th>buttockkneelength</th>\n",
       "      <th>buttockpopliteallength</th>\n",
       "      <th>calfcircumference</th>\n",
       "      <th>cervicaleheight</th>\n",
       "      <th>chestbreadth</th>\n",
       "      <th>chestcircumference</th>\n",
       "      <th>chestdepth</th>\n",
       "      <th>chestheight</th>\n",
       "      <th>crotchheight</th>\n",
       "      <th>crotchlengthomphalion</th>\n",
       "      <th>crotchlengthposterioromphalion</th>\n",
       "      <th>earbreadth</th>\n",
       "      <th>earlength</th>\n",
       "      <th>earprotrusion</th>\n",
       "      <th>elbowrestheight</th>\n",
       "      <th>eyeheightsitting</th>\n",
       "      <th>footbreadthhorizontal</th>\n",
       "      <th>footlength</th>\n",
       "      <th>forearmcenterofgriplength</th>\n",
       "      <th>forearmcircumferenceflexed</th>\n",
       "      <th>forearmforearmbreadth</th>\n",
       "      <th>forearmhandlength</th>\n",
       "      <th>functionalleglength</th>\n",
       "      <th>handbreadth</th>\n",
       "      <th>handcircumference</th>\n",
       "      <th>handlength</th>\n",
       "      <th>headbreadth</th>\n",
       "      <th>headcircumference</th>\n",
       "      <th>headlength</th>\n",
       "      <th>heelanklecircumference</th>\n",
       "      <th>heelbreadth</th>\n",
       "      <th>hipbreadth</th>\n",
       "      <th>hipbreadthsitting</th>\n",
       "      <th>iliocristaleheight</th>\n",
       "      <th>interpupillarybreadth</th>\n",
       "      <th>interscyei</th>\n",
       "      <th>interscyeii</th>\n",
       "      <th>kneeheightmidpatella</th>\n",
       "      <th>kneeheightsitting</th>\n",
       "      <th>lateralfemoralepicondyleheight</th>\n",
       "      <th>lateralmalleolusheight</th>\n",
       "      <th>lowerthighcircumference</th>\n",
       "      <th>mentonsellionlength</th>\n",
       "      <th>neckcircumference</th>\n",
       "      <th>neckcircumferencebase</th>\n",
       "      <th>overheadfingertipreachsitting</th>\n",
       "      <th>palmlength</th>\n",
       "      <th>poplitealheight</th>\n",
       "      <th>radialestylionlength</th>\n",
       "      <th>shouldercircumference</th>\n",
       "      <th>shoulderelbowlength</th>\n",
       "      <th>shoulderlength</th>\n",
       "      <th>sittingheight</th>\n",
       "      <th>sleevelengthspinewrist</th>\n",
       "      <th>sleeveoutseam</th>\n",
       "      <th>span</th>\n",
       "      <th>stature</th>\n",
       "      <th>suprasternaleheight</th>\n",
       "      <th>tenthribheight</th>\n",
       "      <th>thighcircumference</th>\n",
       "      <th>thighclearance</th>\n",
       "      <th>thumbtipreach</th>\n",
       "      <th>tibialheight</th>\n",
       "      <th>tragiontopofhead</th>\n",
       "      <th>trochanterionheight</th>\n",
       "      <th>verticaltrunkcircumferenceusa</th>\n",
       "      <th>waistbacklength</th>\n",
       "      <th>waistbreadth</th>\n",
       "      <th>waistcircumference</th>\n",
       "      <th>waistdepth</th>\n",
       "      <th>waistfrontlengthsitting</th>\n",
       "      <th>waistheightomphalion</th>\n",
       "      <th>weightkg</th>\n",
       "      <th>wristcircumference</th>\n",
       "      <th>wristheight</th>\n",
       "      <th>Gender</th>\n",
       "      <th>Date</th>\n",
       "      <th>Installation</th>\n",
       "      <th>Component</th>\n",
       "      <th>Branch</th>\n",
       "      <th>PrimaryMOS</th>\n",
       "      <th>SubjectsBirthLocation</th>\n",
       "      <th>SubjectNumericRace</th>\n",
       "      <th>Ethnicity</th>\n",
       "      <th>DODRace</th>\n",
       "      <th>Age</th>\n",
       "      <th>Heightin</th>\n",
       "      <th>Weightlbs</th>\n",
       "      <th>WritingPreference</th>\n",
       "      <th>SubjectId</th>\n",
       "    </tr>\n",
       "  </thead>\n",
       "  <tbody>\n",
       "    <tr>\n",
       "      <th>0</th>\n",
       "      <td>10027.000</td>\n",
       "      <td>266</td>\n",
       "      <td>1467</td>\n",
       "      <td>337</td>\n",
       "      <td>222</td>\n",
       "      <td>1347</td>\n",
       "      <td>253</td>\n",
       "      <td>202</td>\n",
       "      <td>401</td>\n",
       "      <td>369</td>\n",
       "      <td>274</td>\n",
       "      <td>493</td>\n",
       "      <td>71</td>\n",
       "      <td>319</td>\n",
       "      <td>291</td>\n",
       "      <td>142</td>\n",
       "      <td>979</td>\n",
       "      <td>240</td>\n",
       "      <td>882</td>\n",
       "      <td>619</td>\n",
       "      <td>509</td>\n",
       "      <td>373</td>\n",
       "      <td>1535</td>\n",
       "      <td>291</td>\n",
       "      <td>1074</td>\n",
       "      <td>259</td>\n",
       "      <td>1292</td>\n",
       "      <td>877</td>\n",
       "      <td>607</td>\n",
       "      <td>351</td>\n",
       "      <td>36</td>\n",
       "      <td>71</td>\n",
       "      <td>19</td>\n",
       "      <td>247</td>\n",
       "      <td>802</td>\n",
       "      <td>101</td>\n",
       "      <td>273</td>\n",
       "      <td>349</td>\n",
       "      <td>299</td>\n",
       "      <td>575</td>\n",
       "      <td>477</td>\n",
       "      <td>1136</td>\n",
       "      <td>90</td>\n",
       "      <td>214</td>\n",
       "      <td>193</td>\n",
       "      <td>150</td>\n",
       "      <td>583</td>\n",
       "      <td>206</td>\n",
       "      <td>326</td>\n",
       "      <td>70</td>\n",
       "      <td>332</td>\n",
       "      <td>366</td>\n",
       "      <td>1071</td>\n",
       "      <td>685</td>\n",
       "      <td>422</td>\n",
       "      <td>441</td>\n",
       "      <td>502</td>\n",
       "      <td>560</td>\n",
       "      <td>500</td>\n",
       "      <td>77</td>\n",
       "      <td>391</td>\n",
       "      <td>118</td>\n",
       "      <td>400</td>\n",
       "      <td>436</td>\n",
       "      <td>1447</td>\n",
       "      <td>113</td>\n",
       "      <td>437</td>\n",
       "      <td>273</td>\n",
       "      <td>1151</td>\n",
       "      <td>368</td>\n",
       "      <td>145</td>\n",
       "      <td>928</td>\n",
       "      <td>883</td>\n",
       "      <td>600</td>\n",
       "      <td>1782</td>\n",
       "      <td>1776</td>\n",
       "      <td>1449</td>\n",
       "      <td>1092</td>\n",
       "      <td>610</td>\n",
       "      <td>164</td>\n",
       "      <td>786</td>\n",
       "      <td>491</td>\n",
       "      <td>140</td>\n",
       "      <td>919</td>\n",
       "      <td>1700</td>\n",
       "      <td>501</td>\n",
       "      <td>329</td>\n",
       "      <td>933</td>\n",
       "      <td>240</td>\n",
       "      <td>440</td>\n",
       "      <td>1054</td>\n",
       "      <td>815</td>\n",
       "      <td>175</td>\n",
       "      <td>853</td>\n",
       "      <td>Male</td>\n",
       "      <td>4-Oct-10</td>\n",
       "      <td>Fort Hood</td>\n",
       "      <td>Regular Army</td>\n",
       "      <td>Combat Arms</td>\n",
       "      <td>19D</td>\n",
       "      <td>North Dakota</td>\n",
       "      <td>1</td>\n",
       "      <td>NaN</td>\n",
       "      <td>1</td>\n",
       "      <td>41</td>\n",
       "      <td>71</td>\n",
       "      <td>180</td>\n",
       "      <td>Right hand</td>\n",
       "      <td>NaN</td>\n",
       "    </tr>\n",
       "    <tr>\n",
       "      <th>1</th>\n",
       "      <td>10032.000</td>\n",
       "      <td>233</td>\n",
       "      <td>1395</td>\n",
       "      <td>326</td>\n",
       "      <td>220</td>\n",
       "      <td>1293</td>\n",
       "      <td>245</td>\n",
       "      <td>193</td>\n",
       "      <td>394</td>\n",
       "      <td>338</td>\n",
       "      <td>257</td>\n",
       "      <td>479</td>\n",
       "      <td>67</td>\n",
       "      <td>344</td>\n",
       "      <td>320</td>\n",
       "      <td>135</td>\n",
       "      <td>944</td>\n",
       "      <td>232</td>\n",
       "      <td>870</td>\n",
       "      <td>584</td>\n",
       "      <td>468</td>\n",
       "      <td>357</td>\n",
       "      <td>1471</td>\n",
       "      <td>269</td>\n",
       "      <td>1021</td>\n",
       "      <td>253</td>\n",
       "      <td>1244</td>\n",
       "      <td>851</td>\n",
       "      <td>615</td>\n",
       "      <td>376</td>\n",
       "      <td>33</td>\n",
       "      <td>62</td>\n",
       "      <td>18</td>\n",
       "      <td>232</td>\n",
       "      <td>781</td>\n",
       "      <td>98</td>\n",
       "      <td>263</td>\n",
       "      <td>348</td>\n",
       "      <td>289</td>\n",
       "      <td>523</td>\n",
       "      <td>476</td>\n",
       "      <td>1096</td>\n",
       "      <td>86</td>\n",
       "      <td>203</td>\n",
       "      <td>195</td>\n",
       "      <td>146</td>\n",
       "      <td>568</td>\n",
       "      <td>201</td>\n",
       "      <td>334</td>\n",
       "      <td>72</td>\n",
       "      <td>312</td>\n",
       "      <td>356</td>\n",
       "      <td>1046</td>\n",
       "      <td>620</td>\n",
       "      <td>441</td>\n",
       "      <td>447</td>\n",
       "      <td>490</td>\n",
       "      <td>540</td>\n",
       "      <td>488</td>\n",
       "      <td>73</td>\n",
       "      <td>371</td>\n",
       "      <td>131</td>\n",
       "      <td>380</td>\n",
       "      <td>420</td>\n",
       "      <td>1380</td>\n",
       "      <td>118</td>\n",
       "      <td>417</td>\n",
       "      <td>254</td>\n",
       "      <td>1119</td>\n",
       "      <td>353</td>\n",
       "      <td>141</td>\n",
       "      <td>884</td>\n",
       "      <td>868</td>\n",
       "      <td>564</td>\n",
       "      <td>1745</td>\n",
       "      <td>1702</td>\n",
       "      <td>1387</td>\n",
       "      <td>1076</td>\n",
       "      <td>572</td>\n",
       "      <td>169</td>\n",
       "      <td>822</td>\n",
       "      <td>476</td>\n",
       "      <td>120</td>\n",
       "      <td>918</td>\n",
       "      <td>1627</td>\n",
       "      <td>432</td>\n",
       "      <td>316</td>\n",
       "      <td>870</td>\n",
       "      <td>225</td>\n",
       "      <td>371</td>\n",
       "      <td>1054</td>\n",
       "      <td>726</td>\n",
       "      <td>167</td>\n",
       "      <td>815</td>\n",
       "      <td>Male</td>\n",
       "      <td>4-Oct-10</td>\n",
       "      <td>Fort Hood</td>\n",
       "      <td>Regular Army</td>\n",
       "      <td>Combat Support</td>\n",
       "      <td>68W</td>\n",
       "      <td>New York</td>\n",
       "      <td>1</td>\n",
       "      <td>NaN</td>\n",
       "      <td>1</td>\n",
       "      <td>35</td>\n",
       "      <td>68</td>\n",
       "      <td>160</td>\n",
       "      <td>Left hand</td>\n",
       "      <td>NaN</td>\n",
       "    </tr>\n",
       "    <tr>\n",
       "      <th>2</th>\n",
       "      <td>10033.000</td>\n",
       "      <td>287</td>\n",
       "      <td>1430</td>\n",
       "      <td>341</td>\n",
       "      <td>230</td>\n",
       "      <td>1327</td>\n",
       "      <td>256</td>\n",
       "      <td>196</td>\n",
       "      <td>427</td>\n",
       "      <td>408</td>\n",
       "      <td>261</td>\n",
       "      <td>544</td>\n",
       "      <td>75</td>\n",
       "      <td>345</td>\n",
       "      <td>330</td>\n",
       "      <td>135</td>\n",
       "      <td>1054</td>\n",
       "      <td>258</td>\n",
       "      <td>901</td>\n",
       "      <td>623</td>\n",
       "      <td>506</td>\n",
       "      <td>412</td>\n",
       "      <td>1501</td>\n",
       "      <td>288</td>\n",
       "      <td>1120</td>\n",
       "      <td>267</td>\n",
       "      <td>1288</td>\n",
       "      <td>854</td>\n",
       "      <td>636</td>\n",
       "      <td>359</td>\n",
       "      <td>40</td>\n",
       "      <td>61</td>\n",
       "      <td>23</td>\n",
       "      <td>237</td>\n",
       "      <td>810</td>\n",
       "      <td>103</td>\n",
       "      <td>270</td>\n",
       "      <td>355</td>\n",
       "      <td>357</td>\n",
       "      <td>575</td>\n",
       "      <td>491</td>\n",
       "      <td>1115</td>\n",
       "      <td>93</td>\n",
       "      <td>220</td>\n",
       "      <td>203</td>\n",
       "      <td>148</td>\n",
       "      <td>573</td>\n",
       "      <td>202</td>\n",
       "      <td>356</td>\n",
       "      <td>70</td>\n",
       "      <td>349</td>\n",
       "      <td>393</td>\n",
       "      <td>1053</td>\n",
       "      <td>665</td>\n",
       "      <td>462</td>\n",
       "      <td>475</td>\n",
       "      <td>496</td>\n",
       "      <td>556</td>\n",
       "      <td>482</td>\n",
       "      <td>72</td>\n",
       "      <td>409</td>\n",
       "      <td>123</td>\n",
       "      <td>403</td>\n",
       "      <td>434</td>\n",
       "      <td>1447</td>\n",
       "      <td>121</td>\n",
       "      <td>431</td>\n",
       "      <td>268</td>\n",
       "      <td>1276</td>\n",
       "      <td>367</td>\n",
       "      <td>167</td>\n",
       "      <td>917</td>\n",
       "      <td>910</td>\n",
       "      <td>604</td>\n",
       "      <td>1867</td>\n",
       "      <td>1735</td>\n",
       "      <td>1438</td>\n",
       "      <td>1105</td>\n",
       "      <td>685</td>\n",
       "      <td>198</td>\n",
       "      <td>807</td>\n",
       "      <td>477</td>\n",
       "      <td>125</td>\n",
       "      <td>918</td>\n",
       "      <td>1678</td>\n",
       "      <td>472</td>\n",
       "      <td>329</td>\n",
       "      <td>964</td>\n",
       "      <td>255</td>\n",
       "      <td>411</td>\n",
       "      <td>1041</td>\n",
       "      <td>929</td>\n",
       "      <td>180</td>\n",
       "      <td>831</td>\n",
       "      <td>Male</td>\n",
       "      <td>4-Oct-10</td>\n",
       "      <td>Fort Hood</td>\n",
       "      <td>Regular Army</td>\n",
       "      <td>Combat Support</td>\n",
       "      <td>68W</td>\n",
       "      <td>New York</td>\n",
       "      <td>2</td>\n",
       "      <td>NaN</td>\n",
       "      <td>2</td>\n",
       "      <td>42</td>\n",
       "      <td>68</td>\n",
       "      <td>205</td>\n",
       "      <td>Left hand</td>\n",
       "      <td>NaN</td>\n",
       "    </tr>\n",
       "    <tr>\n",
       "      <th>3</th>\n",
       "      <td>10092.000</td>\n",
       "      <td>234</td>\n",
       "      <td>1347</td>\n",
       "      <td>310</td>\n",
       "      <td>230</td>\n",
       "      <td>1239</td>\n",
       "      <td>262</td>\n",
       "      <td>199</td>\n",
       "      <td>401</td>\n",
       "      <td>359</td>\n",
       "      <td>262</td>\n",
       "      <td>518</td>\n",
       "      <td>73</td>\n",
       "      <td>328</td>\n",
       "      <td>309</td>\n",
       "      <td>143</td>\n",
       "      <td>991</td>\n",
       "      <td>242</td>\n",
       "      <td>821</td>\n",
       "      <td>560</td>\n",
       "      <td>437</td>\n",
       "      <td>395</td>\n",
       "      <td>1423</td>\n",
       "      <td>296</td>\n",
       "      <td>1114</td>\n",
       "      <td>262</td>\n",
       "      <td>1205</td>\n",
       "      <td>769</td>\n",
       "      <td>590</td>\n",
       "      <td>341</td>\n",
       "      <td>39</td>\n",
       "      <td>66</td>\n",
       "      <td>25</td>\n",
       "      <td>272</td>\n",
       "      <td>794</td>\n",
       "      <td>106</td>\n",
       "      <td>267</td>\n",
       "      <td>352</td>\n",
       "      <td>318</td>\n",
       "      <td>593</td>\n",
       "      <td>467</td>\n",
       "      <td>1034</td>\n",
       "      <td>91</td>\n",
       "      <td>217</td>\n",
       "      <td>194</td>\n",
       "      <td>158</td>\n",
       "      <td>576</td>\n",
       "      <td>199</td>\n",
       "      <td>341</td>\n",
       "      <td>68</td>\n",
       "      <td>338</td>\n",
       "      <td>367</td>\n",
       "      <td>986</td>\n",
       "      <td>640</td>\n",
       "      <td>458</td>\n",
       "      <td>461</td>\n",
       "      <td>460</td>\n",
       "      <td>511</td>\n",
       "      <td>452</td>\n",
       "      <td>76</td>\n",
       "      <td>393</td>\n",
       "      <td>106</td>\n",
       "      <td>407</td>\n",
       "      <td>446</td>\n",
       "      <td>1357</td>\n",
       "      <td>118</td>\n",
       "      <td>393</td>\n",
       "      <td>249</td>\n",
       "      <td>1155</td>\n",
       "      <td>330</td>\n",
       "      <td>148</td>\n",
       "      <td>903</td>\n",
       "      <td>848</td>\n",
       "      <td>550</td>\n",
       "      <td>1708</td>\n",
       "      <td>1655</td>\n",
       "      <td>1346</td>\n",
       "      <td>1021</td>\n",
       "      <td>604</td>\n",
       "      <td>180</td>\n",
       "      <td>803</td>\n",
       "      <td>445</td>\n",
       "      <td>127</td>\n",
       "      <td>847</td>\n",
       "      <td>1625</td>\n",
       "      <td>461</td>\n",
       "      <td>315</td>\n",
       "      <td>857</td>\n",
       "      <td>205</td>\n",
       "      <td>399</td>\n",
       "      <td>968</td>\n",
       "      <td>794</td>\n",
       "      <td>176</td>\n",
       "      <td>793</td>\n",
       "      <td>Male</td>\n",
       "      <td>12-Oct-10</td>\n",
       "      <td>Fort Hood</td>\n",
       "      <td>Regular Army</td>\n",
       "      <td>Combat Service Support</td>\n",
       "      <td>88M</td>\n",
       "      <td>Wisconsin</td>\n",
       "      <td>1</td>\n",
       "      <td>NaN</td>\n",
       "      <td>1</td>\n",
       "      <td>31</td>\n",
       "      <td>66</td>\n",
       "      <td>175</td>\n",
       "      <td>Right hand</td>\n",
       "      <td>NaN</td>\n",
       "    </tr>\n",
       "    <tr>\n",
       "      <th>4</th>\n",
       "      <td>10093.000</td>\n",
       "      <td>250</td>\n",
       "      <td>1585</td>\n",
       "      <td>372</td>\n",
       "      <td>247</td>\n",
       "      <td>1478</td>\n",
       "      <td>267</td>\n",
       "      <td>224</td>\n",
       "      <td>435</td>\n",
       "      <td>356</td>\n",
       "      <td>263</td>\n",
       "      <td>524</td>\n",
       "      <td>80</td>\n",
       "      <td>340</td>\n",
       "      <td>310</td>\n",
       "      <td>138</td>\n",
       "      <td>1029</td>\n",
       "      <td>275</td>\n",
       "      <td>1080</td>\n",
       "      <td>706</td>\n",
       "      <td>567</td>\n",
       "      <td>425</td>\n",
       "      <td>1684</td>\n",
       "      <td>304</td>\n",
       "      <td>1048</td>\n",
       "      <td>232</td>\n",
       "      <td>1452</td>\n",
       "      <td>1014</td>\n",
       "      <td>682</td>\n",
       "      <td>382</td>\n",
       "      <td>32</td>\n",
       "      <td>56</td>\n",
       "      <td>19</td>\n",
       "      <td>188</td>\n",
       "      <td>814</td>\n",
       "      <td>111</td>\n",
       "      <td>305</td>\n",
       "      <td>399</td>\n",
       "      <td>324</td>\n",
       "      <td>605</td>\n",
       "      <td>550</td>\n",
       "      <td>1279</td>\n",
       "      <td>94</td>\n",
       "      <td>222</td>\n",
       "      <td>218</td>\n",
       "      <td>153</td>\n",
       "      <td>566</td>\n",
       "      <td>197</td>\n",
       "      <td>374</td>\n",
       "      <td>69</td>\n",
       "      <td>332</td>\n",
       "      <td>372</td>\n",
       "      <td>1251</td>\n",
       "      <td>675</td>\n",
       "      <td>481</td>\n",
       "      <td>505</td>\n",
       "      <td>612</td>\n",
       "      <td>666</td>\n",
       "      <td>585</td>\n",
       "      <td>85</td>\n",
       "      <td>458</td>\n",
       "      <td>135</td>\n",
       "      <td>398</td>\n",
       "      <td>430</td>\n",
       "      <td>1572</td>\n",
       "      <td>132</td>\n",
       "      <td>523</td>\n",
       "      <td>302</td>\n",
       "      <td>1231</td>\n",
       "      <td>400</td>\n",
       "      <td>180</td>\n",
       "      <td>919</td>\n",
       "      <td>995</td>\n",
       "      <td>641</td>\n",
       "      <td>2035</td>\n",
       "      <td>1914</td>\n",
       "      <td>1596</td>\n",
       "      <td>1292</td>\n",
       "      <td>672</td>\n",
       "      <td>194</td>\n",
       "      <td>962</td>\n",
       "      <td>584</td>\n",
       "      <td>122</td>\n",
       "      <td>1090</td>\n",
       "      <td>1679</td>\n",
       "      <td>467</td>\n",
       "      <td>303</td>\n",
       "      <td>868</td>\n",
       "      <td>214</td>\n",
       "      <td>379</td>\n",
       "      <td>1245</td>\n",
       "      <td>946</td>\n",
       "      <td>188</td>\n",
       "      <td>954</td>\n",
       "      <td>Male</td>\n",
       "      <td>12-Oct-10</td>\n",
       "      <td>Fort Hood</td>\n",
       "      <td>Regular Army</td>\n",
       "      <td>Combat Service Support</td>\n",
       "      <td>92G</td>\n",
       "      <td>North Carolina</td>\n",
       "      <td>2</td>\n",
       "      <td>NaN</td>\n",
       "      <td>2</td>\n",
       "      <td>21</td>\n",
       "      <td>77</td>\n",
       "      <td>213</td>\n",
       "      <td>Right hand</td>\n",
       "      <td>NaN</td>\n",
       "    </tr>\n",
       "  </tbody>\n",
       "</table>\n",
       "</div>"
      ],
      "text/plain": [
       "   subjectid  abdominalextensiondepthsitting  acromialheight  \\\n",
       "0  10027.000                             266            1467   \n",
       "1  10032.000                             233            1395   \n",
       "2  10033.000                             287            1430   \n",
       "3  10092.000                             234            1347   \n",
       "4  10093.000                             250            1585   \n",
       "\n",
       "   acromionradialelength  anklecircumference  axillaheight  \\\n",
       "0                    337                 222          1347   \n",
       "1                    326                 220          1293   \n",
       "2                    341                 230          1327   \n",
       "3                    310                 230          1239   \n",
       "4                    372                 247          1478   \n",
       "\n",
       "   balloffootcircumference  balloffootlength  biacromialbreadth  \\\n",
       "0                      253               202                401   \n",
       "1                      245               193                394   \n",
       "2                      256               196                427   \n",
       "3                      262               199                401   \n",
       "4                      267               224                435   \n",
       "\n",
       "   bicepscircumferenceflexed  bicristalbreadth  bideltoidbreadth  \\\n",
       "0                        369               274               493   \n",
       "1                        338               257               479   \n",
       "2                        408               261               544   \n",
       "3                        359               262               518   \n",
       "4                        356               263               524   \n",
       "\n",
       "   bimalleolarbreadth  bitragionchinarc  bitragionsubmandibulararc  \\\n",
       "0                  71               319                        291   \n",
       "1                  67               344                        320   \n",
       "2                  75               345                        330   \n",
       "3                  73               328                        309   \n",
       "4                  80               340                        310   \n",
       "\n",
       "   bizygomaticbreadth  buttockcircumference  buttockdepth  buttockheight  \\\n",
       "0                 142                   979           240            882   \n",
       "1                 135                   944           232            870   \n",
       "2                 135                  1054           258            901   \n",
       "3                 143                   991           242            821   \n",
       "4                 138                  1029           275           1080   \n",
       "\n",
       "   buttockkneelength  buttockpopliteallength  calfcircumference  \\\n",
       "0                619                     509                373   \n",
       "1                584                     468                357   \n",
       "2                623                     506                412   \n",
       "3                560                     437                395   \n",
       "4                706                     567                425   \n",
       "\n",
       "   cervicaleheight  chestbreadth  chestcircumference  chestdepth  chestheight  \\\n",
       "0             1535           291                1074         259         1292   \n",
       "1             1471           269                1021         253         1244   \n",
       "2             1501           288                1120         267         1288   \n",
       "3             1423           296                1114         262         1205   \n",
       "4             1684           304                1048         232         1452   \n",
       "\n",
       "   crotchheight  crotchlengthomphalion  crotchlengthposterioromphalion  \\\n",
       "0           877                    607                             351   \n",
       "1           851                    615                             376   \n",
       "2           854                    636                             359   \n",
       "3           769                    590                             341   \n",
       "4          1014                    682                             382   \n",
       "\n",
       "   earbreadth  earlength  earprotrusion  elbowrestheight  eyeheightsitting  \\\n",
       "0          36         71             19              247               802   \n",
       "1          33         62             18              232               781   \n",
       "2          40         61             23              237               810   \n",
       "3          39         66             25              272               794   \n",
       "4          32         56             19              188               814   \n",
       "\n",
       "   footbreadthhorizontal  footlength  forearmcenterofgriplength  \\\n",
       "0                    101         273                        349   \n",
       "1                     98         263                        348   \n",
       "2                    103         270                        355   \n",
       "3                    106         267                        352   \n",
       "4                    111         305                        399   \n",
       "\n",
       "   forearmcircumferenceflexed  forearmforearmbreadth  forearmhandlength  \\\n",
       "0                         299                    575                477   \n",
       "1                         289                    523                476   \n",
       "2                         357                    575                491   \n",
       "3                         318                    593                467   \n",
       "4                         324                    605                550   \n",
       "\n",
       "   functionalleglength  handbreadth  handcircumference  handlength  \\\n",
       "0                 1136           90                214         193   \n",
       "1                 1096           86                203         195   \n",
       "2                 1115           93                220         203   \n",
       "3                 1034           91                217         194   \n",
       "4                 1279           94                222         218   \n",
       "\n",
       "   headbreadth  headcircumference  headlength  heelanklecircumference  \\\n",
       "0          150                583         206                     326   \n",
       "1          146                568         201                     334   \n",
       "2          148                573         202                     356   \n",
       "3          158                576         199                     341   \n",
       "4          153                566         197                     374   \n",
       "\n",
       "   heelbreadth  hipbreadth  hipbreadthsitting  iliocristaleheight  \\\n",
       "0           70         332                366                1071   \n",
       "1           72         312                356                1046   \n",
       "2           70         349                393                1053   \n",
       "3           68         338                367                 986   \n",
       "4           69         332                372                1251   \n",
       "\n",
       "   interpupillarybreadth  interscyei  interscyeii  kneeheightmidpatella  \\\n",
       "0                    685         422          441                   502   \n",
       "1                    620         441          447                   490   \n",
       "2                    665         462          475                   496   \n",
       "3                    640         458          461                   460   \n",
       "4                    675         481          505                   612   \n",
       "\n",
       "   kneeheightsitting  lateralfemoralepicondyleheight  lateralmalleolusheight  \\\n",
       "0                560                             500                      77   \n",
       "1                540                             488                      73   \n",
       "2                556                             482                      72   \n",
       "3                511                             452                      76   \n",
       "4                666                             585                      85   \n",
       "\n",
       "   lowerthighcircumference  mentonsellionlength  neckcircumference  \\\n",
       "0                      391                  118                400   \n",
       "1                      371                  131                380   \n",
       "2                      409                  123                403   \n",
       "3                      393                  106                407   \n",
       "4                      458                  135                398   \n",
       "\n",
       "   neckcircumferencebase  overheadfingertipreachsitting  palmlength  \\\n",
       "0                    436                           1447         113   \n",
       "1                    420                           1380         118   \n",
       "2                    434                           1447         121   \n",
       "3                    446                           1357         118   \n",
       "4                    430                           1572         132   \n",
       "\n",
       "   poplitealheight  radialestylionlength  shouldercircumference  \\\n",
       "0              437                   273                   1151   \n",
       "1              417                   254                   1119   \n",
       "2              431                   268                   1276   \n",
       "3              393                   249                   1155   \n",
       "4              523                   302                   1231   \n",
       "\n",
       "   shoulderelbowlength  shoulderlength  sittingheight  sleevelengthspinewrist  \\\n",
       "0                  368             145            928                     883   \n",
       "1                  353             141            884                     868   \n",
       "2                  367             167            917                     910   \n",
       "3                  330             148            903                     848   \n",
       "4                  400             180            919                     995   \n",
       "\n",
       "   sleeveoutseam  span  stature  suprasternaleheight  tenthribheight  \\\n",
       "0            600  1782     1776                 1449            1092   \n",
       "1            564  1745     1702                 1387            1076   \n",
       "2            604  1867     1735                 1438            1105   \n",
       "3            550  1708     1655                 1346            1021   \n",
       "4            641  2035     1914                 1596            1292   \n",
       "\n",
       "   thighcircumference  thighclearance  thumbtipreach  tibialheight  \\\n",
       "0                 610             164            786           491   \n",
       "1                 572             169            822           476   \n",
       "2                 685             198            807           477   \n",
       "3                 604             180            803           445   \n",
       "4                 672             194            962           584   \n",
       "\n",
       "   tragiontopofhead  trochanterionheight  verticaltrunkcircumferenceusa  \\\n",
       "0               140                  919                           1700   \n",
       "1               120                  918                           1627   \n",
       "2               125                  918                           1678   \n",
       "3               127                  847                           1625   \n",
       "4               122                 1090                           1679   \n",
       "\n",
       "   waistbacklength  waistbreadth  waistcircumference  waistdepth  \\\n",
       "0              501           329                 933         240   \n",
       "1              432           316                 870         225   \n",
       "2              472           329                 964         255   \n",
       "3              461           315                 857         205   \n",
       "4              467           303                 868         214   \n",
       "\n",
       "   waistfrontlengthsitting  waistheightomphalion  weightkg  \\\n",
       "0                      440                  1054       815   \n",
       "1                      371                  1054       726   \n",
       "2                      411                  1041       929   \n",
       "3                      399                   968       794   \n",
       "4                      379                  1245       946   \n",
       "\n",
       "   wristcircumference  wristheight Gender       Date Installation  \\\n",
       "0                 175          853   Male   4-Oct-10    Fort Hood   \n",
       "1                 167          815   Male   4-Oct-10    Fort Hood   \n",
       "2                 180          831   Male   4-Oct-10    Fort Hood   \n",
       "3                 176          793   Male  12-Oct-10    Fort Hood   \n",
       "4                 188          954   Male  12-Oct-10    Fort Hood   \n",
       "\n",
       "      Component                  Branch PrimaryMOS SubjectsBirthLocation  \\\n",
       "0  Regular Army             Combat Arms        19D          North Dakota   \n",
       "1  Regular Army          Combat Support        68W              New York   \n",
       "2  Regular Army          Combat Support        68W              New York   \n",
       "3  Regular Army  Combat Service Support        88M             Wisconsin   \n",
       "4  Regular Army  Combat Service Support        92G        North Carolina   \n",
       "\n",
       "   SubjectNumericRace Ethnicity  DODRace  Age  Heightin  Weightlbs  \\\n",
       "0                   1       NaN        1   41        71        180   \n",
       "1                   1       NaN        1   35        68        160   \n",
       "2                   2       NaN        2   42        68        205   \n",
       "3                   1       NaN        1   31        66        175   \n",
       "4                   2       NaN        2   21        77        213   \n",
       "\n",
       "  WritingPreference  SubjectId  \n",
       "0        Right hand        NaN  \n",
       "1         Left hand        NaN  \n",
       "2         Left hand        NaN  \n",
       "3        Right hand        NaN  \n",
       "4        Right hand        NaN  "
      ]
     },
     "execution_count": 47,
     "metadata": {},
     "output_type": "execute_result"
    }
   ],
   "source": [
    "pd.set_option('display.max_columns', 500)\n",
    "df.head()"
   ]
  },
  {
   "cell_type": "code",
   "execution_count": 48,
   "metadata": {},
   "outputs": [],
   "source": [
    "df.drop(['subjectid','SubjectId'], axis=1, inplace=True)"
   ]
  },
  {
   "cell_type": "code",
   "execution_count": 49,
   "metadata": {},
   "outputs": [
    {
     "data": {
      "text/plain": [
       "0"
      ]
     },
     "execution_count": 49,
     "metadata": {},
     "output_type": "execute_result"
    }
   ],
   "source": [
    "df.duplicated().sum()"
   ]
  },
  {
   "cell_type": "code",
   "execution_count": 50,
   "metadata": {},
   "outputs": [
    {
     "data": {
      "text/plain": [
       "True"
      ]
     },
     "execution_count": 50,
     "metadata": {},
     "output_type": "execute_result"
    }
   ],
   "source": [
    "df.isnull().sum().any()"
   ]
  },
  {
   "cell_type": "code",
   "execution_count": 51,
   "metadata": {},
   "outputs": [
    {
     "name": "stdout",
     "output_type": "stream",
     "text": [
      "Ethnicity = 4647\n"
     ]
    }
   ],
   "source": [
    "for c in df.columns:\n",
    "    if df[c].isnull().sum()>0:\n",
    "        print(f\"{c} = {df[c].isnull().sum()}\")"
   ]
  },
  {
   "cell_type": "code",
   "execution_count": 52,
   "metadata": {},
   "outputs": [
    {
     "data": {
      "text/plain": [
       "209"
      ]
     },
     "execution_count": 52,
     "metadata": {},
     "output_type": "execute_result"
    }
   ],
   "source": [
    "df['Ethnicity'].nunique()"
   ]
  },
  {
   "cell_type": "code",
   "execution_count": 53,
   "metadata": {},
   "outputs": [],
   "source": [
    "# More than half of the Ennicity data is missing. Therefore I drop it\n",
    "df.drop(['Ethnicity'], axis=1, inplace=True)"
   ]
  },
  {
   "cell_type": "code",
   "execution_count": 54,
   "metadata": {},
   "outputs": [
    {
     "data": {
      "text/plain": [
       "1    3792\n",
       "2    1298\n",
       "3     679\n",
       "4     188\n",
       "6      59\n",
       "5      49\n",
       "8       3\n",
       "Name: DODRace, dtype: int64"
      ]
     },
     "execution_count": 54,
     "metadata": {},
     "output_type": "execute_result"
    }
   ],
   "source": [
    "df['DODRace'].value_counts()"
   ]
  },
  {
   "cell_type": "code",
   "execution_count": 55,
   "metadata": {},
   "outputs": [
    {
     "data": {
      "text/plain": [
       "<AxesSubplot:xlabel='DODRace', ylabel='count'>"
      ]
     },
     "execution_count": 55,
     "metadata": {},
     "output_type": "execute_result"
    },
    {
     "data": {
      "image/png": "[encoded data removed]",
      "text/plain": [
       "<Figure size 720x432 with 1 Axes>"
      ]
     },
     "metadata": {
      "needs_background": "light"
     },
     "output_type": "display_data"
    }
   ],
   "source": [
    "sns.countplot(df['DODRace'])"
   ]
  },
  {
   "cell_type": "code",
   "execution_count": 56,
   "metadata": {},
   "outputs": [],
   "source": [
    "# Dropping the races that are less than 500 counts:\n",
    "race_counts = df['DODRace'].value_counts()\n",
    "to_keep = race_counts[race_counts > 500].index\n",
    "df = df[df['DODRace'].isin(to_keep)]"
   ]
  },
  {
   "cell_type": "code",
   "execution_count": 57,
   "metadata": {},
   "outputs": [
    {
     "data": {
      "text/plain": [
       "(5769, 106)"
      ]
     },
     "execution_count": 57,
     "metadata": {},
     "output_type": "execute_result"
    }
   ],
   "source": [
    "df.shape"
   ]
  },
  {
   "cell_type": "code",
   "execution_count": 58,
   "metadata": {},
   "outputs": [
    {
     "data": {
      "text/plain": [
       "1    3792\n",
       "2    1298\n",
       "3     679\n",
       "Name: DODRace, dtype: int64"
      ]
     },
     "execution_count": 58,
     "metadata": {},
     "output_type": "execute_result"
    }
   ],
   "source": [
    "df['DODRace'].value_counts()"
   ]
  },
  {
   "cell_type": "code",
   "execution_count": 59,
   "metadata": {},
   "outputs": [],
   "source": [
    "# Changing race indices :\n",
    "df[\"DODRace\"] = df.DODRace.map({\n",
    "    1: \"White\",\n",
    "    2: \"Black\",\n",
    "    3: \"Hispanic\",\n",
    "})"
   ]
  },
  {
   "cell_type": "code",
   "execution_count": 60,
   "metadata": {},
   "outputs": [],
   "source": [
    "# I believe race classification shoiuld based on anthropometric measurements\n",
    "# Therefore I'll dropp all demographic/administrative columns\n",
    "\n"
   ]
  },
  {
   "cell_type": "code",
   "execution_count": 61,
   "metadata": {},
   "outputs": [
    {
     "data": {
      "text/plain": [
       "Index(['abdominalextensiondepthsitting', 'acromialheight',\n",
       "       'acromionradialelength', 'anklecircumference', 'axillaheight',\n",
       "       'balloffootcircumference', 'balloffootlength', 'biacromialbreadth',\n",
       "       'bicepscircumferenceflexed', 'bicristalbreadth',\n",
       "       ...\n",
       "       'Component', 'Branch', 'PrimaryMOS', 'SubjectsBirthLocation',\n",
       "       'SubjectNumericRace', 'DODRace', 'Age', 'Heightin', 'Weightlbs',\n",
       "       'WritingPreference'],\n",
       "      dtype='object', length=106)"
      ]
     },
     "execution_count": 61,
     "metadata": {},
     "output_type": "execute_result"
    }
   ],
   "source": [
    "df.columns"
   ]
  },
  {
   "cell_type": "code",
   "execution_count": 62,
   "metadata": {},
   "outputs": [],
   "source": [
    "drop_list = ['SubjectsBirthLocation','SubjectNumericRace',\n",
    "              'Age', 'Heightin', 'Weightlbs', 'WritingPreference',\n",
    "              'Date', 'Installation', 'Component', 'Branch', 'PrimaryMOS'\n",
    "             ]"
   ]
  },
  {
   "cell_type": "code",
   "execution_count": 63,
   "metadata": {},
   "outputs": [],
   "source": [
    "df.drop(drop_list, axis=1, inplace = True)"
   ]
  },
  {
   "cell_type": "code",
   "execution_count": 64,
   "metadata": {},
   "outputs": [
    {
     "data": {
      "text/plain": [
       "(5769, 95)"
      ]
     },
     "execution_count": 64,
     "metadata": {},
     "output_type": "execute_result"
    }
   ],
   "source": [
    "df.shape"
   ]
  },
  {
   "cell_type": "code",
   "execution_count": 65,
   "metadata": {},
   "outputs": [],
   "source": [
    "df.reset_index(drop=True, inplace=True)"
   ]
  },
  {
   "cell_type": "code",
   "execution_count": 66,
   "metadata": {},
   "outputs": [
    {
     "data": {
      "text/plain": [
       "array(['Male', 'Female'], dtype=object)"
      ]
     },
     "execution_count": 66,
     "metadata": {},
     "output_type": "execute_result"
    }
   ],
   "source": [
    "df['Gender'].unique()"
   ]
  },
  {
   "cell_type": "code",
   "execution_count": 67,
   "metadata": {},
   "outputs": [],
   "source": [
    "df[\"Gender\"] = df.Gender.map({\"Male\":1,\"Female\":0})"
   ]
  },
  {
   "cell_type": "code",
   "execution_count": 68,
   "metadata": {},
   "outputs": [
    {
     "data": {
      "text/plain": [
       "array([1, 0])"
      ]
     },
     "execution_count": 68,
     "metadata": {},
     "output_type": "execute_result"
    }
   ],
   "source": [
    "df[\"Gender\"].unique()"
   ]
  },
  {
   "cell_type": "code",
   "execution_count": 69,
   "metadata": {},
   "outputs": [],
   "source": [
    "df[\"Gender\"]= df[\"Gender\"].astype(int)"
   ]
  },
  {
   "cell_type": "markdown",
   "metadata": {
    "heading_collapsed": true,
    "id": "CS5-GZy0sl4s"
   },
   "source": [
    "# DATA Preprocessing\n",
    "- In this step we divide our data to X(Features) and y(Target) then ,\n",
    "- To train and evaluation purposes we create train and test sets,\n",
    "- Lastly, scale our data if features not in same scale. Why?"
   ]
  },
  {
   "cell_type": "code",
   "execution_count": 70,
   "metadata": {
    "hidden": true,
    "id": "fr2wgpvk1b7B"
   },
   "outputs": [],
   "source": [
    "X = df.drop('DODRace',axis=1)\n",
    "y = df['DODRace']"
   ]
  },
  {
   "cell_type": "code",
   "execution_count": 71,
   "metadata": {},
   "outputs": [
    {
     "data": {
      "application/javascript": [
       "\n",
       "        if (window._pyforest_update_imports_cell) { window._pyforest_update_imports_cell('from sklearn.model_selection import train_test_split'); }\n",
       "    "
      ],
      "text/plain": [
       "<IPython.core.display.Javascript object>"
      ]
     },
     "metadata": {},
     "output_type": "display_data"
    }
   ],
   "source": [
    "X_train, X_test, y_train, y_test = train_test_split(X, y, \n",
    "                                                    test_size=0.3, \n",
    "                                                    random_state=43, \n",
    "                                                    stratify = y)"
   ]
  },
  {
   "cell_type": "code",
   "execution_count": 72,
   "metadata": {},
   "outputs": [
    {
     "name": "stdout",
     "output_type": "stream",
     "text": [
      "Train features shape :  (4038, 94)\n",
      "Train target shape   :  (4038,)\n",
      "Test features shape  :  (1731, 94)\n",
      "Test target shape    :  (1731,)\n"
     ]
    }
   ],
   "source": [
    "print(\"Train features shape : \", X_train.shape)\n",
    "print(\"Train target shape   : \", y_train.shape)\n",
    "print(\"Test features shape  : \", X_test.shape)\n",
    "print(\"Test target shape    : \", y_test.shape)"
   ]
  },
  {
   "cell_type": "code",
   "execution_count": 73,
   "metadata": {},
   "outputs": [],
   "source": [
    "scaler = MinMaxScaler()\n",
    "X_train = scaler.fit_transform(X_train)\n",
    "X_test = scaler.transform(X_test)"
   ]
  },
  {
   "cell_type": "markdown",
   "metadata": {
    "heading_collapsed": true,
    "id": "zfi_NOw0s2fM"
   },
   "source": [
    "# Modelling\n",
    "- Fit the model with train dataset\n",
    "- Get predict from vanilla model on both train and test sets to examine if there is over/underfitting   \n",
    "- Apply GridseachCV for both hyperparemeter tuning and sanity test of our model.\n",
    "- Use hyperparameters that you find from gridsearch and make final prediction and evaluate the result according to chosen metric."
   ]
  },
  {
   "cell_type": "code",
   "execution_count": 74,
   "metadata": {},
   "outputs": [],
   "source": [
    "def eval_metric(model, X_train, y_train, X_test, y_test):\n",
    "    y_train_pred = model.predict(X_train)\n",
    "    y_pred = model.predict(X_test)\n",
    "    \n",
    "    print(\"Test_Set_Scores\",\"\\n----------------\")\n",
    "    print(confusion_matrix(y_test, y_pred))\n",
    "    print(classification_report(y_test, y_pred))\n",
    "    print()\n",
    "    print(\"Train_Set_Scores\",\"\\n----------------\")\n",
    "    print(confusion_matrix(y_train, y_train_pred))\n",
    "    print(classification_report(y_train, y_train_pred))"
   ]
  },
  {
   "cell_type": "markdown",
   "metadata": {
    "heading_collapsed": true,
    "hidden": true,
    "id": "N1cviBuh1b7C"
   },
   "source": [
    "## 1. Logistic model"
   ]
  },
  {
   "cell_type": "markdown",
   "metadata": {
    "heading_collapsed": true,
    "hidden": true,
    "id": "0rSJ5hxp1b7C"
   },
   "source": [
    "### Vanilla Logistic Model"
   ]
  },
  {
   "cell_type": "code",
   "execution_count": 75,
   "metadata": {},
   "outputs": [],
   "source": [
    "log = LogisticRegression(class_weight='balanced',max_iter=10000,random_state=43)"
   ]
  },
  {
   "cell_type": "code",
   "execution_count": 76,
   "metadata": {},
   "outputs": [
    {
     "data": {
      "text/plain": [
       "LogisticRegression(class_weight='balanced', max_iter=10000, random_state=43)"
      ]
     },
     "execution_count": 76,
     "metadata": {},
     "output_type": "execute_result"
    }
   ],
   "source": [
    "log.fit(X_train,y_train)"
   ]
  },
  {
   "cell_type": "code",
   "execution_count": 77,
   "metadata": {},
   "outputs": [
    {
     "name": "stdout",
     "output_type": "stream",
     "text": [
      "Test_Set_Scores \n",
      "----------------\n",
      "[[344  36   9]\n",
      " [ 23 133  48]\n",
      " [ 24 185 929]]\n",
      "              precision    recall  f1-score   support\n",
      "\n",
      "       Black       0.88      0.88      0.88       389\n",
      "    Hispanic       0.38      0.65      0.48       204\n",
      "       White       0.94      0.82      0.87      1138\n",
      "\n",
      "    accuracy                           0.81      1731\n",
      "   macro avg       0.73      0.78      0.74      1731\n",
      "weighted avg       0.86      0.81      0.83      1731\n",
      "\n",
      "\n",
      "Train_Set_Scores \n",
      "----------------\n",
      "[[ 832   50   27]\n",
      " [  38  348   89]\n",
      " [  55  480 2119]]\n",
      "              precision    recall  f1-score   support\n",
      "\n",
      "       Black       0.90      0.92      0.91       909\n",
      "    Hispanic       0.40      0.73      0.51       475\n",
      "       White       0.95      0.80      0.87      2654\n",
      "\n",
      "    accuracy                           0.82      4038\n",
      "   macro avg       0.75      0.82      0.76      4038\n",
      "weighted avg       0.87      0.82      0.83      4038\n",
      "\n"
     ]
    }
   ],
   "source": [
    "eval_metric(log, X_train, y_train, X_test, y_test)"
   ]
  },
  {
   "cell_type": "code",
   "execution_count": 78,
   "metadata": {},
   "outputs": [],
   "source": [
    "# storing metrics for model comparison\n",
    "y_pred = log.predict(X_test)\n",
    "log_f1 = f1_score(y_test, y_pred, average='weighted')\n",
    "log_recall = recall_score(y_test, y_pred, average='weighted')"
   ]
  },
  {
   "cell_type": "markdown",
   "metadata": {
    "heading_collapsed": true,
    "hidden": true,
    "id": "lPelWxsU1b7C"
   },
   "source": [
    "### Logistic Model GridsearchCV"
   ]
  },
  {
   "cell_type": "code",
   "execution_count": 79,
   "metadata": {},
   "outputs": [
    {
     "name": "stdout",
     "output_type": "stream",
     "text": [
      "[0.8158, 0.807, 0.8074, 0.8256, 0.8406] \n",
      "\n",
      " f1score : 0.8192857034851526, std : %1.26 \n",
      "\n"
     ]
    }
   ],
   "source": [
    "# Cross Validation\n",
    "\n",
    "f1score= make_scorer(f1_score, average=\"weighted\")\n",
    "\n",
    "model = LogisticRegression(class_weight='balanced',\n",
    "                           max_iter=10000,\n",
    "                           random_state=43)\n",
    "\n",
    "scores = cross_val_score(model,\n",
    "                         X_train,\n",
    "                         y_train,\n",
    "                         cv=5,\n",
    "                         scoring=f1score,\n",
    "                         n_jobs=-1)\n",
    "\n",
    "print([round(i, 4) for i in scores], \"\\n\")\n",
    "print(f\" f1score : {scores.mean()}, std : %{scores.std()*100:.2f} \\n\")"
   ]
  },
  {
   "cell_type": "code",
   "execution_count": 80,
   "metadata": {},
   "outputs": [],
   "source": [
    "# Optimizing Grid Search to get better 'Hispanic' scores\n",
    "\n",
    "f1_Hispanic =  make_scorer(f1_score, average=None, labels=[\"Hispanic\"] )"
   ]
  },
  {
   "cell_type": "code",
   "execution_count": 81,
   "metadata": {},
   "outputs": [],
   "source": [
    "param_grid = {\n",
    "                'class_weight': [\"balanced\", None],\n",
    "                'penalty': [\"l1\", \"l2\"],\n",
    "                'solver': ['saga', 'lbfgs'],\n",
    "            }"
   ]
  },
  {
   "cell_type": "code",
   "execution_count": 82,
   "metadata": {},
   "outputs": [],
   "source": [
    "model = LogisticRegression(class_weight='balanced',\n",
    "                           max_iter=10000,\n",
    "                           random_state=43)\n",
    "\n",
    "log_model_grid = GridSearchCV(model,\n",
    "                              param_grid,\n",
    "                              verbose=3,\n",
    "                              scoring=f1_Hispanic,\n",
    "                              refit=True,\n",
    "                              n_jobs=-1)"
   ]
  },
  {
   "cell_type": "code",
   "execution_count": 83,
   "metadata": {
    "id": "PNZyqeNY15nP",
    "scrolled": true
   },
   "outputs": [
    {
     "name": "stdout",
     "output_type": "stream",
     "text": [
      "Fitting 5 folds for each of 8 candidates, totalling 40 fits\n",
      "[CV 2/5] END class_weight=balanced, penalty=l1, solver=lbfgs;, score=nan total time=   0.0s\n",
      "[CV 1/5] END class_weight=balanced, penalty=l1, solver=lbfgs;, score=nan total time=   0.0s\n",
      "[CV 3/5] END class_weight=balanced, penalty=l1, solver=lbfgs;, score=nan total time=   0.0s\n",
      "[CV 5/5] END class_weight=balanced, penalty=l1, solver=lbfgs;, score=nan total time=   0.0s\n",
      "[CV 4/5] END class_weight=balanced, penalty=l1, solver=lbfgs;, score=nan total time=   0.0s\n",
      "[CV 1/5] END class_weight=balanced, penalty=l2, solver=saga;, score=0.440 total time=   0.8s\n",
      "[CV 2/5] END class_weight=balanced, penalty=l2, solver=saga;, score=0.452 total time=   0.9s\n",
      "[CV 3/5] END class_weight=balanced, penalty=l2, solver=saga;, score=0.456 total time=   0.9s\n",
      "[CV 1/5] END class_weight=balanced, penalty=l2, solver=lbfgs;, score=0.440 total time=   0.5s\n",
      "[CV 4/5] END class_weight=balanced, penalty=l2, solver=saga;, score=0.515 total time=   0.8s\n",
      "[CV 5/5] END class_weight=balanced, penalty=l2, solver=saga;, score=0.520 total time=   0.8s\n",
      "[CV 2/5] END class_weight=balanced, penalty=l2, solver=lbfgs;, score=0.452 total time=   0.5s\n",
      "[CV 4/5] END class_weight=balanced, penalty=l2, solver=lbfgs;, score=0.515 total time=   0.5s\n",
      "[CV 3/5] END class_weight=balanced, penalty=l2, solver=lbfgs;, score=0.458 total time=   0.5s\n",
      "[CV 5/5] END class_weight=balanced, penalty=l2, solver=lbfgs;, score=0.520 total time=   0.5s\n",
      "[CV 1/5] END class_weight=None, penalty=l1, solver=saga;, score=0.354 total time=   5.2s\n",
      "[CV 1/5] END class_weight=balanced, penalty=l1, solver=saga;, score=0.410 total time=   6.7s\n",
      "[CV 2/5] END class_weight=None, penalty=l1, solver=lbfgs;, score=nan total time=   0.0s\n",
      "[CV 3/5] END class_weight=None, penalty=l1, solver=lbfgs;, score=nan total time=   0.0s\n",
      "[CV 4/5] END class_weight=None, penalty=l1, solver=lbfgs;, score=nan total time=   0.0s\n",
      "[CV 5/5] END class_weight=None, penalty=l1, solver=lbfgs;, score=nan total time=   0.0s\n",
      "[CV 1/5] END class_weight=None, penalty=l2, solver=saga;, score=0.264 total time=   0.7s\n",
      "[CV 4/5] END class_weight=balanced, penalty=l1, solver=saga;, score=0.508 total time=   8.5s\n",
      "[CV 2/5] END class_weight=None, penalty=l2, solver=saga;, score=0.411 total time=   0.8s\n",
      "[CV 3/5] END class_weight=None, penalty=l2, solver=saga;, score=0.441 total time=   0.7s\n",
      "[CV 3/5] END class_weight=balanced, penalty=l1, solver=saga;, score=0.455 total time=   9.7s\n",
      "[CV 4/5] END class_weight=None, penalty=l2, solver=saga;, score=0.390 total time=   0.7s\n",
      "[CV 5/5] END class_weight=balanced, penalty=l1, solver=saga;, score=0.512 total time=   9.1s\n",
      "[CV 5/5] END class_weight=None, penalty=l2, solver=saga;, score=0.344 total time=   0.8s\n",
      "[CV 1/5] END class_weight=None, penalty=l2, solver=lbfgs;, score=0.264 total time=   0.4s\n",
      "[CV 4/5] END class_weight=None, penalty=l2, solver=lbfgs;, score=0.390 total time=   0.5s\n",
      "[CV 5/5] END class_weight=None, penalty=l2, solver=lbfgs;, score=0.344 total time=   0.5s\n",
      "[CV 2/5] END class_weight=balanced, penalty=l1, solver=saga;, score=0.446 total time=  10.6s\n",
      "[CV 2/5] END class_weight=None, penalty=l2, solver=lbfgs;, score=0.411 total time=   1.7s\n",
      "[CV 3/5] END class_weight=None, penalty=l2, solver=lbfgs;, score=0.441 total time=   1.6s\n",
      "[CV 3/5] END class_weight=None, penalty=l1, solver=saga;, score=0.453 total time=   9.4s\n",
      "[CV 5/5] END class_weight=None, penalty=l1, solver=saga;, score=0.388 total time=  10.0s\n",
      "[CV 1/5] END class_weight=None, penalty=l1, solver=lbfgs;, score=nan total time=   0.0s\n",
      "[CV 2/5] END class_weight=None, penalty=l1, solver=saga;, score=0.438 total time=   7.2s\n",
      "[CV 4/5] END class_weight=None, penalty=l1, solver=saga;, score=0.431 total time=   5.1s\n"
     ]
    },
    {
     "data": {
      "text/plain": [
       "GridSearchCV(estimator=LogisticRegression(class_weight='balanced',\n",
       "                                          max_iter=10000, random_state=43),\n",
       "             n_jobs=-1,\n",
       "             param_grid={'class_weight': ['balanced', None],\n",
       "                         'penalty': ['l1', 'l2'], 'solver': ['saga', 'lbfgs']},\n",
       "             scoring=make_scorer(f1_score, average=None, labels=['Hispanic']),\n",
       "             verbose=3)"
      ]
     },
     "execution_count": 83,
     "metadata": {},
     "output_type": "execute_result"
    }
   ],
   "source": [
    "log_model_grid.fit(X_train,y_train)"
   ]
  },
  {
   "cell_type": "code",
   "execution_count": 84,
   "metadata": {},
   "outputs": [
    {
     "data": {
      "text/plain": [
       "{'class_weight': 'balanced', 'penalty': 'l2', 'solver': 'lbfgs'}"
      ]
     },
     "execution_count": 84,
     "metadata": {},
     "output_type": "execute_result"
    }
   ],
   "source": [
    "log_model_grid.best_params_"
   ]
  },
  {
   "cell_type": "code",
   "execution_count": 85,
   "metadata": {},
   "outputs": [
    {
     "name": "stdout",
     "output_type": "stream",
     "text": [
      "Test_Set_Scores \n",
      "----------------\n",
      "[[344  36   9]\n",
      " [ 23 133  48]\n",
      " [ 24 185 929]]\n",
      "              precision    recall  f1-score   support\n",
      "\n",
      "       Black       0.88      0.88      0.88       389\n",
      "    Hispanic       0.38      0.65      0.48       204\n",
      "       White       0.94      0.82      0.87      1138\n",
      "\n",
      "    accuracy                           0.81      1731\n",
      "   macro avg       0.73      0.78      0.74      1731\n",
      "weighted avg       0.86      0.81      0.83      1731\n",
      "\n",
      "\n",
      "Train_Set_Scores \n",
      "----------------\n",
      "[[ 832   50   27]\n",
      " [  38  348   89]\n",
      " [  55  480 2119]]\n",
      "              precision    recall  f1-score   support\n",
      "\n",
      "       Black       0.90      0.92      0.91       909\n",
      "    Hispanic       0.40      0.73      0.51       475\n",
      "       White       0.95      0.80      0.87      2654\n",
      "\n",
      "    accuracy                           0.82      4038\n",
      "   macro avg       0.75      0.82      0.76      4038\n",
      "weighted avg       0.87      0.82      0.83      4038\n",
      "\n"
     ]
    }
   ],
   "source": [
    "eval_metric(log_model_grid, X_train, y_train, X_test, y_test)"
   ]
  },
  {
   "cell_type": "code",
   "execution_count": 86,
   "metadata": {},
   "outputs": [],
   "source": [
    "y_pred = log_model_grid.predict(X_test)\n",
    "log_grid_f1 = f1_score(y_test, y_pred, average='weighted')\n",
    "log_grid_recall = recall_score(y_test, y_pred, average='weighted')"
   ]
  },
  {
   "cell_type": "code",
   "execution_count": 87,
   "metadata": {},
   "outputs": [
    {
     "data": {
      "image/png": "[encoded data removed]",
      "text/plain": [
       "<Figure size 1152x720 with 1 Axes>"
      ]
     },
     "metadata": {
      "needs_background": "light"
     },
     "output_type": "display_data"
    }
   ],
   "source": [
    "# ROC Curves\n",
    "plot_multiclass_roc(log_model_grid,\n",
    "                    X_test,\n",
    "                    y_test,\n",
    "                    n_classes=3,\n",
    "                    figsize=(16, 10))"
   ]
  },
  {
   "cell_type": "markdown",
   "metadata": {},
   "source": [
    "## KNN"
   ]
  },
  {
   "cell_type": "code",
   "execution_count": 88,
   "metadata": {},
   "outputs": [],
   "source": [
    "knn = KNeighborsClassifier(n_neighbors=5)"
   ]
  },
  {
   "cell_type": "code",
   "execution_count": 89,
   "metadata": {},
   "outputs": [
    {
     "data": {
      "text/plain": [
       "KNeighborsClassifier()"
      ]
     },
     "execution_count": 89,
     "metadata": {},
     "output_type": "execute_result"
    }
   ],
   "source": [
    "knn.fit(X_train,y_train)"
   ]
  },
  {
   "cell_type": "code",
   "execution_count": 90,
   "metadata": {},
   "outputs": [
    {
     "name": "stdout",
     "output_type": "stream",
     "text": [
      "Test_Set_Scores \n",
      "----------------\n",
      "[[ 281   15   93]\n",
      " [  21   25  158]\n",
      " [  19   33 1086]]\n",
      "              precision    recall  f1-score   support\n",
      "\n",
      "       Black       0.88      0.72      0.79       389\n",
      "    Hispanic       0.34      0.12      0.18       204\n",
      "       White       0.81      0.95      0.88      1138\n",
      "\n",
      "    accuracy                           0.80      1731\n",
      "   macro avg       0.68      0.60      0.62      1731\n",
      "weighted avg       0.77      0.80      0.78      1731\n",
      "\n",
      "\n",
      "Train_Set_Scores \n",
      "----------------\n",
      "[[ 723   18  168]\n",
      " [  40  133  302]\n",
      " [  31   49 2574]]\n",
      "              precision    recall  f1-score   support\n",
      "\n",
      "       Black       0.91      0.80      0.85       909\n",
      "    Hispanic       0.67      0.28      0.39       475\n",
      "       White       0.85      0.97      0.90      2654\n",
      "\n",
      "    accuracy                           0.85      4038\n",
      "   macro avg       0.81      0.68      0.72      4038\n",
      "weighted avg       0.84      0.85      0.83      4038\n",
      "\n"
     ]
    }
   ],
   "source": [
    "eval_metric(knn, X_train, y_train, X_test, y_test)"
   ]
  },
  {
   "cell_type": "code",
   "execution_count": 92,
   "metadata": {},
   "outputs": [],
   "source": [
    "test_error_rates = []\n",
    "\n",
    "\n",
    "for k in range(1,31):\n",
    "    knn_model = KNeighborsClassifier(n_neighbors=k)\n",
    "    knn_model.fit(X_train,y_train) \n",
    "   \n",
    "    y_pred = knn_model.predict(X_test)\n",
    "    \n",
    "    test_error = 1 - accuracy_score(y_test,y_pred)\n",
    "    test_error_rates.append(test_error)"
   ]
  },
  {
   "cell_type": "code",
   "execution_count": 93,
   "metadata": {},
   "outputs": [
    {
     "data": {
      "text/plain": [
       "<matplotlib.collections.LineCollection at 0x7f9f51f31550>"
      ]
     },
     "execution_count": 93,
     "metadata": {},
     "output_type": "execute_result"
    },
    {
     "data": {
      "image/png": "[encoded data removed]",
      "text/plain": [
       "<Figure size 1080x576 with 1 Axes>"
      ]
     },
     "metadata": {
      "needs_background": "light"
     },
     "output_type": "display_data"
    }
   ],
   "source": [
    "plt.figure(figsize=(15,8))\n",
    "plt.plot(range(1,31), test_error_rates, color='blue', linestyle='--', marker='o',\n",
    "         markerfacecolor='red', markersize=10)\n",
    "plt.title('Error Rate vs. K Value')\n",
    "plt.xlabel('K_values')\n",
    "plt.ylabel('Error Rate')\n",
    "plt.hlines(y=0.05, xmin = 0, xmax = 30, colors= 'r', linestyles=\"--\")\n",
    "plt.hlines(y=0.06, xmin = 0, xmax = 30, colors= 'r', linestyles=\"--\")"
   ]
  },
  {
   "cell_type": "code",
   "execution_count": 94,
   "metadata": {},
   "outputs": [
    {
     "name": "stdout",
     "output_type": "stream",
     "text": [
      "Test_Set_Scores \n",
      "----------------\n",
      "[[ 285   16   88]\n",
      " [  27   45  132]\n",
      " [  31   68 1039]]\n",
      "              precision    recall  f1-score   support\n",
      "\n",
      "       Black       0.83      0.73      0.78       389\n",
      "    Hispanic       0.35      0.22      0.27       204\n",
      "       White       0.83      0.91      0.87      1138\n",
      "\n",
      "    accuracy                           0.79      1731\n",
      "   macro avg       0.67      0.62      0.64      1731\n",
      "weighted avg       0.77      0.79      0.78      1731\n",
      "\n",
      "\n",
      "Train_Set_Scores \n",
      "----------------\n",
      "[[ 773   17  119]\n",
      " [  29  229  217]\n",
      " [  50  118 2486]]\n",
      "              precision    recall  f1-score   support\n",
      "\n",
      "       Black       0.91      0.85      0.88       909\n",
      "    Hispanic       0.63      0.48      0.55       475\n",
      "       White       0.88      0.94      0.91      2654\n",
      "\n",
      "    accuracy                           0.86      4038\n",
      "   macro avg       0.81      0.76      0.78      4038\n",
      "weighted avg       0.86      0.86      0.86      4038\n",
      "\n"
     ]
    }
   ],
   "source": [
    "knn = KNeighborsClassifier(n_neighbors=4)\n",
    "knn.fit(X_train,y_train)\n",
    "eval_metric(knn, X_train, y_train, X_test, y_test)"
   ]
  },
  {
   "cell_type": "code",
   "execution_count": 95,
   "metadata": {},
   "outputs": [],
   "source": [
    "# Grid_Search\n",
    "knn_grid = KNeighborsClassifier()\n",
    "k_values= range(1,31)\n",
    "param_grid = {\"n_neighbors\":k_values, \"p\": [1,2], \n",
    "              \"weights\": ['uniform', \"distance\"]}"
   ]
  },
  {
   "cell_type": "code",
   "execution_count": 96,
   "metadata": {},
   "outputs": [],
   "source": [
    "knn_grid_model = GridSearchCV(knn_grid, param_grid, cv=10, scoring= 'accuracy')"
   ]
  },
  {
   "cell_type": "code",
   "execution_count": 97,
   "metadata": {},
   "outputs": [
    {
     "data": {
      "text/plain": [
       "GridSearchCV(cv=10, estimator=KNeighborsClassifier(),\n",
       "             param_grid={'n_neighbors': range(1, 31), 'p': [1, 2],\n",
       "                         'weights': ['uniform', 'distance']},\n",
       "             scoring='accuracy')"
      ]
     },
     "execution_count": 97,
     "metadata": {},
     "output_type": "execute_result"
    }
   ],
   "source": [
    "knn_grid_model.fit(X_train, y_train)"
   ]
  },
  {
   "cell_type": "code",
   "execution_count": 98,
   "metadata": {},
   "outputs": [
    {
     "data": {
      "text/plain": [
       "{'n_neighbors': 10, 'p': 2, 'weights': 'uniform'}"
      ]
     },
     "execution_count": 98,
     "metadata": {},
     "output_type": "execute_result"
    }
   ],
   "source": [
    "knn_grid_model.best_params_"
   ]
  },
  {
   "cell_type": "code",
   "execution_count": 99,
   "metadata": {},
   "outputs": [
    {
     "name": "stdout",
     "output_type": "stream",
     "text": [
      "Test_Set_Scores \n",
      "----------------\n",
      "[[ 279    3  107]\n",
      " [  12   20  172]\n",
      " [  10   12 1116]]\n",
      "              precision    recall  f1-score   support\n",
      "\n",
      "       Black       0.93      0.72      0.81       389\n",
      "    Hispanic       0.57      0.10      0.17       204\n",
      "       White       0.80      0.98      0.88      1138\n",
      "\n",
      "    accuracy                           0.82      1731\n",
      "   macro avg       0.77      0.60      0.62      1731\n",
      "weighted avg       0.80      0.82      0.78      1731\n",
      "\n",
      "\n",
      "Train_Set_Scores \n",
      "----------------\n",
      "[[ 671   12  226]\n",
      " [  34   92  349]\n",
      " [  20   16 2618]]\n",
      "              precision    recall  f1-score   support\n",
      "\n",
      "       Black       0.93      0.74      0.82       909\n",
      "    Hispanic       0.77      0.19      0.31       475\n",
      "       White       0.82      0.99      0.90      2654\n",
      "\n",
      "    accuracy                           0.84      4038\n",
      "   macro avg       0.84      0.64      0.68      4038\n",
      "weighted avg       0.84      0.84      0.81      4038\n",
      "\n"
     ]
    }
   ],
   "source": [
    "eval_metric(knn_grid_model, X_train, y_train, X_test, y_test)"
   ]
  },
  {
   "cell_type": "code",
   "execution_count": 100,
   "metadata": {},
   "outputs": [],
   "source": [
    "# The best is KNN with k=4, let's keep its scores\n",
    "knn = KNeighborsClassifier(n_neighbors=4)\n",
    "knn.fit(X_train,y_train)\n",
    "y_pred = knn.predict(X_test)\n",
    "knn_f1 = f1_score(y_test, y_pred, average='weighted')\n",
    "knn_recall = recall_score(y_test, y_pred, average='weighted')"
   ]
  },
  {
   "cell_type": "markdown",
   "metadata": {
    "heading_collapsed": true,
    "hidden": true,
    "id": "GM0PL5eZ1b7E"
   },
   "source": [
    "## 2. SVC"
   ]
  },
  {
   "cell_type": "markdown",
   "metadata": {
    "heading_collapsed": true,
    "hidden": true,
    "id": "P3j_Xk1L1b7E"
   },
   "source": [
    "### Vanilla SVC model "
   ]
  },
  {
   "cell_type": "code",
   "execution_count": 101,
   "metadata": {
    "id": "pro8T6CM19vX"
   },
   "outputs": [],
   "source": [
    "svm = SVC(class_weight='balanced')"
   ]
  },
  {
   "cell_type": "code",
   "execution_count": 102,
   "metadata": {},
   "outputs": [
    {
     "data": {
      "text/plain": [
       "SVC(class_weight='balanced')"
      ]
     },
     "execution_count": 102,
     "metadata": {},
     "output_type": "execute_result"
    }
   ],
   "source": [
    "svm.fit(X_train, y_train)"
   ]
  },
  {
   "cell_type": "code",
   "execution_count": 103,
   "metadata": {
    "scrolled": false
   },
   "outputs": [
    {
     "name": "stdout",
     "output_type": "stream",
     "text": [
      "Test_Set_Scores \n",
      "----------------\n",
      "[[351  24  14]\n",
      " [ 25 119  60]\n",
      " [ 27 178 933]]\n",
      "              precision    recall  f1-score   support\n",
      "\n",
      "       Black       0.87      0.90      0.89       389\n",
      "    Hispanic       0.37      0.58      0.45       204\n",
      "       White       0.93      0.82      0.87      1138\n",
      "\n",
      "    accuracy                           0.81      1731\n",
      "   macro avg       0.72      0.77      0.74      1731\n",
      "weighted avg       0.85      0.81      0.82      1731\n",
      "\n",
      "\n",
      "Train_Set_Scores \n",
      "----------------\n",
      "[[ 865   27   17]\n",
      " [  24  390   61]\n",
      " [  45  387 2222]]\n",
      "              precision    recall  f1-score   support\n",
      "\n",
      "       Black       0.93      0.95      0.94       909\n",
      "    Hispanic       0.49      0.82      0.61       475\n",
      "       White       0.97      0.84      0.90      2654\n",
      "\n",
      "    accuracy                           0.86      4038\n",
      "   macro avg       0.79      0.87      0.82      4038\n",
      "weighted avg       0.90      0.86      0.87      4038\n",
      "\n"
     ]
    }
   ],
   "source": [
    "eval_metric(svm, X_train, y_train, X_test, y_test)"
   ]
  },
  {
   "cell_type": "code",
   "execution_count": 104,
   "metadata": {},
   "outputs": [],
   "source": [
    "y_pred = svm.predict(X_test)\n",
    "svc_f1 = f1_score(y_test, y_pred, average='weighted')\n",
    "svc_recall = recall_score(y_test, y_pred, average='weighted')"
   ]
  },
  {
   "cell_type": "markdown",
   "metadata": {
    "heading_collapsed": true,
    "hidden": true,
    "id": "28y9nWxG1b7E"
   },
   "source": [
    "###  SVC Model GridsearchCV"
   ]
  },
  {
   "cell_type": "code",
   "execution_count": 105,
   "metadata": {
    "id": "4dFocgCo1-0Z"
   },
   "outputs": [],
   "source": [
    "param_grid = {\n",
    "    'C': np.linspace(200, 400, 5),\n",
    "    'decision_function_shape': ['ovr', 'ovo'],\n",
    "    'gamma': [\"scale\", \"auto\", 1, 0.1, 0.01],\n",
    "    'kernel': ['rbf'],\n",
    "    'class_weight': [\"balanced\", None]\n",
    "}"
   ]
  },
  {
   "cell_type": "code",
   "execution_count": 106,
   "metadata": {},
   "outputs": [],
   "source": [
    "model = SVC(class_weight=\"balanced\")\n",
    "svm_grid = GridSearchCV(model,\n",
    "                              param_grid,\n",
    "                              verbose=3,\n",
    "                              scoring=f1_Hispanic,\n",
    "                              refit=True,\n",
    "                              n_jobs=-1)"
   ]
  },
  {
   "cell_type": "code",
   "execution_count": 107,
   "metadata": {
    "scrolled": true
   },
   "outputs": [
    {
     "name": "stdout",
     "output_type": "stream",
     "text": [
      "Fitting 5 folds for each of 100 candidates, totalling 500 fits\n",
      "[CV 1/5] END C=200.0, class_weight=balanced, decision_function_shape=ovr, gamma=auto, kernel=rbf;, score=0.413 total time=   2.2s\n",
      "[CV 2/5] END C=200.0, class_weight=balanced, decision_function_shape=ovr, gamma=auto, kernel=rbf;, score=0.463 total time=   2.2s\n",
      "[CV 3/5] END C=200.0, class_weight=balanced, decision_function_shape=ovr, gamma=auto, kernel=rbf;, score=0.458 total time=   2.3s\n",
      "[CV 2/5] END C=200.0, class_weight=balanced, decision_function_shape=ovr, gamma=scale, kernel=rbf;, score=0.354 total time=   2.3s\n",
      "[CV 1/5] END C=200.0, class_weight=balanced, decision_function_shape=ovr, gamma=scale, kernel=rbf;, score=0.322 total time=   2.3s\n",
      "[CV 5/5] END C=200.0, class_weight=balanced, decision_function_shape=ovr, gamma=scale, kernel=rbf;, score=0.417 total time=   2.4s\n",
      "[CV 4/5] END C=200.0, class_weight=balanced, decision_function_shape=ovr, gamma=scale, kernel=rbf;, score=0.446 total time=   2.4s\n",
      "[CV 3/5] END C=200.0, class_weight=balanced, decision_function_shape=ovr, gamma=scale, kernel=rbf;, score=0.394 total time=   2.5s\n",
      "[CV 5/5] END C=200.0, class_weight=balanced, decision_function_shape=ovr, gamma=auto, kernel=rbf;, score=0.528 total time=   1.1s\n",
      "[CV 4/5] END C=200.0, class_weight=balanced, decision_function_shape=ovr, gamma=auto, kernel=rbf;, score=0.504 total time=   1.1s\n",
      "[CV 1/5] END C=200.0, class_weight=balanced, decision_function_shape=ovr, gamma=0.1, kernel=rbf;, score=0.404 total time=   1.2s\n",
      "[CV 1/5] END C=200.0, class_weight=balanced, decision_function_shape=ovr, gamma=1, kernel=rbf;, score=0.373 total time=   1.6s\n",
      "[CV 2/5] END C=200.0, class_weight=balanced, decision_function_shape=ovr, gamma=1, kernel=rbf;, score=0.354 total time=   1.6s\n",
      "[CV 4/5] END C=200.0, class_weight=balanced, decision_function_shape=ovr, gamma=1, kernel=rbf;, score=0.408 total time=   1.6s\n",
      "[CV 3/5] END C=200.0, class_weight=balanced, decision_function_shape=ovr, gamma=1, kernel=rbf;, score=0.440 total time=   1.6s\n",
      "[CV 5/5] END C=200.0, class_weight=balanced, decision_function_shape=ovr, gamma=1, kernel=rbf;, score=0.376 total time=   1.6s\n",
      "[CV 2/5] END C=200.0, class_weight=balanced, decision_function_shape=ovr, gamma=0.1, kernel=rbf;, score=0.370 total time=   1.1s\n",
      "[CV 3/5] END C=200.0, class_weight=balanced, decision_function_shape=ovr, gamma=0.1, kernel=rbf;, score=0.498 total time=   1.3s\n",
      "[CV 4/5] END C=200.0, class_weight=balanced, decision_function_shape=ovr, gamma=0.1, kernel=rbf;, score=0.455 total time=   1.2s\n",
      "[CV 1/5] END C=200.0, class_weight=balanced, decision_function_shape=ovr, gamma=0.01, kernel=rbf;, score=0.412 total time=   1.0s\n",
      "[CV 2/5] END C=200.0, class_weight=balanced, decision_function_shape=ovr, gamma=0.01, kernel=rbf;, score=0.462 total time=   1.0s\n",
      "[CV 3/5] END C=200.0, class_weight=balanced, decision_function_shape=ovr, gamma=0.01, kernel=rbf;, score=0.461 total time=   1.0s\n",
      "[CV 4/5] END C=200.0, class_weight=balanced, decision_function_shape=ovr, gamma=0.01, kernel=rbf;, score=0.498 total time=   1.1s\n",
      "[CV 5/5] END C=200.0, class_weight=balanced, decision_function_shape=ovr, gamma=0.1, kernel=rbf;, score=0.514 total time=   1.3s\n",
      "[CV 5/5] END C=200.0, class_weight=balanced, decision_function_shape=ovr, gamma=0.01, kernel=rbf;, score=0.522 total time=   1.1s\n",
      "[CV 1/5] END C=200.0, class_weight=balanced, decision_function_shape=ovo, gamma=scale, kernel=rbf;, score=0.322 total time=   1.1s\n",
      "[CV 2/5] END C=200.0, class_weight=balanced, decision_function_shape=ovo, gamma=scale, kernel=rbf;, score=0.354 total time=   1.1s\n",
      "[CV 4/5] END C=200.0, class_weight=balanced, decision_function_shape=ovo, gamma=scale, kernel=rbf;, score=0.446 total time=   1.1s\n",
      "[CV 2/5] END C=200.0, class_weight=balanced, decision_function_shape=ovo, gamma=auto, kernel=rbf;, score=0.463 total time=   1.0s\n",
      "[CV 3/5] END C=200.0, class_weight=balanced, decision_function_shape=ovo, gamma=scale, kernel=rbf;, score=0.394 total time=   1.2s\n",
      "[CV 1/5] END C=200.0, class_weight=balanced, decision_function_shape=ovo, gamma=auto, kernel=rbf;, score=0.413 total time=   1.1s\n",
      "[CV 5/5] END C=200.0, class_weight=balanced, decision_function_shape=ovo, gamma=scale, kernel=rbf;, score=0.417 total time=   1.2s\n",
      "[CV 3/5] END C=200.0, class_weight=balanced, decision_function_shape=ovo, gamma=auto, kernel=rbf;, score=0.458 total time=   1.2s\n",
      "[CV 4/5] END C=200.0, class_weight=balanced, decision_function_shape=ovo, gamma=auto, kernel=rbf;, score=0.504 total time=   1.2s\n",
      "[CV 5/5] END C=200.0, class_weight=balanced, decision_function_shape=ovo, gamma=auto, kernel=rbf;, score=0.528 total time=   1.2s\n",
      "[CV 2/5] END C=200.0, class_weight=balanced, decision_function_shape=ovo, gamma=1, kernel=rbf;, score=0.354 total time=   1.6s\n",
      "[CV 1/5] END C=200.0, class_weight=balanced, decision_function_shape=ovo, gamma=1, kernel=rbf;, score=0.373 total time=   1.7s\n",
      "[CV 3/5] END C=200.0, class_weight=balanced, decision_function_shape=ovo, gamma=1, kernel=rbf;, score=0.440 total time=   1.7s\n",
      "[CV 4/5] END C=200.0, class_weight=balanced, decision_function_shape=ovo, gamma=1, kernel=rbf;, score=0.408 total time=   1.7s\n",
      "[CV 1/5] END C=200.0, class_weight=balanced, decision_function_shape=ovo, gamma=0.1, kernel=rbf;, score=0.404 total time=   1.3s\n",
      "[CV 5/5] END C=200.0, class_weight=balanced, decision_function_shape=ovo, gamma=1, kernel=rbf;, score=0.376 total time=   1.8s\n",
      "[CV 2/5] END C=200.0, class_weight=balanced, decision_function_shape=ovo, gamma=0.1, kernel=rbf;, score=0.370 total time=   1.2s\n",
      "[CV 3/5] END C=200.0, class_weight=balanced, decision_function_shape=ovo, gamma=0.1, kernel=rbf;, score=0.498 total time=   1.3s\n",
      "[CV 1/5] END C=200.0, class_weight=balanced, decision_function_shape=ovo, gamma=0.01, kernel=rbf;, score=0.412 total time=   1.0s\n",
      "[CV 2/5] END C=200.0, class_weight=balanced, decision_function_shape=ovo, gamma=0.01, kernel=rbf;, score=0.462 total time=   1.1s\n",
      "[CV 4/5] END C=200.0, class_weight=balanced, decision_function_shape=ovo, gamma=0.1, kernel=rbf;, score=0.455 total time=   1.2s\n",
      "[CV 3/5] END C=200.0, class_weight=balanced, decision_function_shape=ovo, gamma=0.01, kernel=rbf;, score=0.461 total time=   1.0s\n",
      "[CV 4/5] END C=200.0, class_weight=balanced, decision_function_shape=ovo, gamma=0.01, kernel=rbf;, score=0.498 total time=   1.0s\n",
      "[CV 5/5] END C=200.0, class_weight=balanced, decision_function_shape=ovo, gamma=0.1, kernel=rbf;, score=0.514 total time=   1.3s\n",
      "[CV 5/5] END C=200.0, class_weight=balanced, decision_function_shape=ovo, gamma=0.01, kernel=rbf;, score=0.522 total time=   1.1s\n",
      "[CV 2/5] END C=200.0, class_weight=None, decision_function_shape=ovr, gamma=auto, kernel=rbf;, score=0.427 total time=   0.6s\n",
      "[CV 1/5] END C=200.0, class_weight=None, decision_function_shape=ovr, gamma=scale, kernel=rbf;, score=0.322 total time=   1.2s\n",
      "[CV 1/5] END C=200.0, class_weight=None, decision_function_shape=ovr, gamma=auto, kernel=rbf;, score=0.391 total time=   0.8s\n",
      "[CV 2/5] END C=200.0, class_weight=None, decision_function_shape=ovr, gamma=scale, kernel=rbf;, score=0.354 total time=   1.1s\n",
      "[CV 3/5] END C=200.0, class_weight=None, decision_function_shape=ovr, gamma=auto, kernel=rbf;, score=0.437 total time=   0.8s\n",
      "[CV 4/5] END C=200.0, class_weight=None, decision_function_shape=ovr, gamma=scale, kernel=rbf;, score=0.446 total time=   1.2s\n",
      "[CV 3/5] END C=200.0, class_weight=None, decision_function_shape=ovr, gamma=scale, kernel=rbf;, score=0.394 total time=   1.3s\n",
      "[CV 5/5] END C=200.0, class_weight=None, decision_function_shape=ovr, gamma=scale, kernel=rbf;, score=0.417 total time=   1.2s\n",
      "[CV 4/5] END C=200.0, class_weight=None, decision_function_shape=ovr, gamma=auto, kernel=rbf;, score=0.485 total time=   0.8s\n",
      "[CV 5/5] END C=200.0, class_weight=None, decision_function_shape=ovr, gamma=auto, kernel=rbf;, score=0.433 total time=   0.8s\n",
      "[CV 1/5] END C=200.0, class_weight=None, decision_function_shape=ovr, gamma=0.1, kernel=rbf;, score=0.344 total time=   1.2s\n",
      "[CV 1/5] END C=200.0, class_weight=None, decision_function_shape=ovr, gamma=1, kernel=rbf;, score=0.373 total time=   1.7s\n",
      "[CV 2/5] END C=200.0, class_weight=None, decision_function_shape=ovr, gamma=0.1, kernel=rbf;, score=0.414 total time=   1.1s\n",
      "[CV 2/5] END C=200.0, class_weight=None, decision_function_shape=ovr, gamma=1, kernel=rbf;, score=0.354 total time=   1.7s\n",
      "[CV 3/5] END C=200.0, class_weight=None, decision_function_shape=ovr, gamma=1, kernel=rbf;, score=0.440 total time=   1.7s\n",
      "[CV 3/5] END C=200.0, class_weight=None, decision_function_shape=ovr, gamma=0.1, kernel=rbf;, score=0.444 total time=   1.2s\n",
      "[CV 4/5] END C=200.0, class_weight=None, decision_function_shape=ovr, gamma=1, kernel=rbf;, score=0.408 total time=   1.6s\n"
     ]
    },
    {
     "name": "stdout",
     "output_type": "stream",
     "text": [
      "[CV 5/5] END C=200.0, class_weight=None, decision_function_shape=ovr, gamma=1, kernel=rbf;, score=0.376 total time=   1.6s\n",
      "[CV 1/5] END C=200.0, class_weight=None, decision_function_shape=ovr, gamma=0.01, kernel=rbf;, score=0.368 total time=   0.7s\n",
      "[CV 2/5] END C=200.0, class_weight=None, decision_function_shape=ovr, gamma=0.01, kernel=rbf;, score=0.434 total time=   0.7s\n",
      "[CV 3/5] END C=200.0, class_weight=None, decision_function_shape=ovr, gamma=0.01, kernel=rbf;, score=0.447 total time=   0.8s\n",
      "[CV 5/5] END C=200.0, class_weight=None, decision_function_shape=ovr, gamma=0.01, kernel=rbf;, score=0.433 total time=   0.7s\n",
      "[CV 4/5] END C=200.0, class_weight=None, decision_function_shape=ovr, gamma=0.01, kernel=rbf;, score=0.485 total time=   0.8s\n",
      "[CV 4/5] END C=200.0, class_weight=None, decision_function_shape=ovr, gamma=0.1, kernel=rbf;, score=0.503 total time=   1.3s\n",
      "[CV 5/5] END C=200.0, class_weight=None, decision_function_shape=ovr, gamma=0.1, kernel=rbf;, score=0.459 total time=   1.2s\n",
      "[CV 1/5] END C=200.0, class_weight=None, decision_function_shape=ovo, gamma=scale, kernel=rbf;, score=0.322 total time=   1.1s\n",
      "[CV 2/5] END C=200.0, class_weight=None, decision_function_shape=ovo, gamma=auto, kernel=rbf;, score=0.427 total time=   0.7s\n",
      "[CV 2/5] END C=200.0, class_weight=None, decision_function_shape=ovo, gamma=scale, kernel=rbf;, score=0.354 total time=   1.1s\n",
      "[CV 3/5] END C=200.0, class_weight=None, decision_function_shape=ovo, gamma=auto, kernel=rbf;, score=0.437 total time=   0.8s\n",
      "[CV 1/5] END C=200.0, class_weight=None, decision_function_shape=ovo, gamma=auto, kernel=rbf;, score=0.391 total time=   0.8s\n",
      "[CV 3/5] END C=200.0, class_weight=None, decision_function_shape=ovo, gamma=scale, kernel=rbf;, score=0.394 total time=   1.3s\n",
      "[CV 4/5] END C=200.0, class_weight=None, decision_function_shape=ovo, gamma=scale, kernel=rbf;, score=0.446 total time=   1.3s\n",
      "[CV 4/5] END C=200.0, class_weight=None, decision_function_shape=ovo, gamma=auto, kernel=rbf;, score=0.485 total time=   0.8s\n",
      "[CV 5/5] END C=200.0, class_weight=None, decision_function_shape=ovo, gamma=scale, kernel=rbf;, score=0.417 total time=   1.3s\n",
      "[CV 5/5] END C=200.0, class_weight=None, decision_function_shape=ovo, gamma=auto, kernel=rbf;, score=0.433 total time=   0.7s\n",
      "[CV 2/5] END C=200.0, class_weight=None, decision_function_shape=ovo, gamma=0.1, kernel=rbf;, score=0.414 total time=   1.1s\n",
      "[CV 1/5] END C=200.0, class_weight=None, decision_function_shape=ovo, gamma=0.1, kernel=rbf;, score=0.344 total time=   1.1s\n",
      "[CV 2/5] END C=200.0, class_weight=None, decision_function_shape=ovo, gamma=1, kernel=rbf;, score=0.354 total time=   1.5s\n",
      "[CV 1/5] END C=200.0, class_weight=None, decision_function_shape=ovo, gamma=1, kernel=rbf;, score=0.373 total time=   1.6s\n",
      "[CV 3/5] END C=200.0, class_weight=None, decision_function_shape=ovo, gamma=1, kernel=rbf;, score=0.440 total time=   1.6s\n",
      "[CV 4/5] END C=200.0, class_weight=None, decision_function_shape=ovo, gamma=1, kernel=rbf;, score=0.408 total time=   1.5s\n",
      "[CV 3/5] END C=200.0, class_weight=None, decision_function_shape=ovo, gamma=0.1, kernel=rbf;, score=0.444 total time=   1.1s\n",
      "[CV 5/5] END C=200.0, class_weight=None, decision_function_shape=ovo, gamma=1, kernel=rbf;, score=0.376 total time=   1.6s\n",
      "[CV 1/5] END C=200.0, class_weight=None, decision_function_shape=ovo, gamma=0.01, kernel=rbf;, score=0.368 total time=   0.7s\n",
      "[CV 2/5] END C=200.0, class_weight=None, decision_function_shape=ovo, gamma=0.01, kernel=rbf;, score=0.434 total time=   0.7s\n",
      "[CV 3/5] END C=200.0, class_weight=None, decision_function_shape=ovo, gamma=0.01, kernel=rbf;, score=0.447 total time=   0.8s\n",
      "[CV 4/5] END C=200.0, class_weight=None, decision_function_shape=ovo, gamma=0.01, kernel=rbf;, score=0.485 total time=   0.8s\n",
      "[CV 5/5] END C=200.0, class_weight=None, decision_function_shape=ovo, gamma=0.01, kernel=rbf;, score=0.433 total time=   0.7s\n",
      "[CV 4/5] END C=200.0, class_weight=None, decision_function_shape=ovo, gamma=0.1, kernel=rbf;, score=0.503 total time=   1.1s\n",
      "[CV 5/5] END C=200.0, class_weight=None, decision_function_shape=ovo, gamma=0.1, kernel=rbf;, score=0.459 total time=   1.2s\n",
      "[CV 1/5] END C=250.0, class_weight=balanced, decision_function_shape=ovr, gamma=scale, kernel=rbf;, score=0.322 total time=   1.2s\n",
      "[CV 2/5] END C=250.0, class_weight=balanced, decision_function_shape=ovr, gamma=scale, kernel=rbf;, score=0.354 total time=   1.1s\n",
      "[CV 3/5] END C=250.0, class_weight=balanced, decision_function_shape=ovr, gamma=scale, kernel=rbf;, score=0.394 total time=   1.1s\n",
      "[CV 1/5] END C=250.0, class_weight=balanced, decision_function_shape=ovr, gamma=auto, kernel=rbf;, score=0.407 total time=   1.0s\n",
      "[CV 2/5] END C=250.0, class_weight=balanced, decision_function_shape=ovr, gamma=auto, kernel=rbf;, score=0.460 total time=   1.0s\n",
      "[CV 4/5] END C=250.0, class_weight=balanced, decision_function_shape=ovr, gamma=scale, kernel=rbf;, score=0.446 total time=   1.2s\n",
      "[CV 3/5] END C=250.0, class_weight=balanced, decision_function_shape=ovr, gamma=auto, kernel=rbf;, score=0.466 total time=   1.0s\n",
      "[CV 5/5] END C=250.0, class_weight=balanced, decision_function_shape=ovr, gamma=scale, kernel=rbf;, score=0.417 total time=   1.2s\n",
      "[CV 4/5] END C=250.0, class_weight=balanced, decision_function_shape=ovr, gamma=auto, kernel=rbf;, score=0.515 total time=   1.1s\n",
      "[CV 5/5] END C=250.0, class_weight=balanced, decision_function_shape=ovr, gamma=auto, kernel=rbf;, score=0.525 total time=   1.1s\n",
      "[CV 1/5] END C=250.0, class_weight=balanced, decision_function_shape=ovr, gamma=1, kernel=rbf;, score=0.373 total time=   1.5s\n",
      "[CV 1/5] END C=250.0, class_weight=balanced, decision_function_shape=ovr, gamma=0.1, kernel=rbf;, score=0.376 total time=   1.3s\n",
      "[CV 2/5] END C=250.0, class_weight=balanced, decision_function_shape=ovr, gamma=1, kernel=rbf;, score=0.354 total time=   1.5s\n",
      "[CV 3/5] END C=250.0, class_weight=balanced, decision_function_shape=ovr, gamma=1, kernel=rbf;, score=0.440 total time=   1.6s\n",
      "[CV 4/5] END C=250.0, class_weight=balanced, decision_function_shape=ovr, gamma=1, kernel=rbf;, score=0.408 total time=   1.6s\n",
      "[CV 5/5] END C=250.0, class_weight=balanced, decision_function_shape=ovr, gamma=1, kernel=rbf;, score=0.376 total time=   1.6s\n",
      "[CV 2/5] END C=250.0, class_weight=balanced, decision_function_shape=ovr, gamma=0.1, kernel=rbf;, score=0.364 total time=   1.3s\n",
      "[CV 3/5] END C=250.0, class_weight=balanced, decision_function_shape=ovr, gamma=0.1, kernel=rbf;, score=0.498 total time=   1.3s\n",
      "[CV 1/5] END C=250.0, class_weight=balanced, decision_function_shape=ovr, gamma=0.01, kernel=rbf;, score=0.404 total time=   1.0s\n",
      "[CV 2/5] END C=250.0, class_weight=balanced, decision_function_shape=ovr, gamma=0.01, kernel=rbf;, score=0.460 total time=   1.0s\n",
      "[CV 4/5] END C=250.0, class_weight=balanced, decision_function_shape=ovr, gamma=0.1, kernel=rbf;, score=0.440 total time=   1.4s\n",
      "[CV 3/5] END C=250.0, class_weight=balanced, decision_function_shape=ovr, gamma=0.01, kernel=rbf;, score=0.463 total time=   1.1s\n",
      "[CV 5/5] END C=250.0, class_weight=balanced, decision_function_shape=ovr, gamma=0.1, kernel=rbf;, score=0.492 total time=   1.4s\n",
      "[CV 4/5] END C=250.0, class_weight=balanced, decision_function_shape=ovr, gamma=0.01, kernel=rbf;, score=0.505 total time=   1.1s\n",
      "[CV 5/5] END C=250.0, class_weight=balanced, decision_function_shape=ovr, gamma=0.01, kernel=rbf;, score=0.527 total time=   1.1s\n",
      "[CV 1/5] END C=250.0, class_weight=balanced, decision_function_shape=ovo, gamma=scale, kernel=rbf;, score=0.322 total time=   1.2s\n",
      "[CV 2/5] END C=250.0, class_weight=balanced, decision_function_shape=ovo, gamma=scale, kernel=rbf;, score=0.354 total time=   1.4s\n",
      "[CV 3/5] END C=250.0, class_weight=balanced, decision_function_shape=ovo, gamma=scale, kernel=rbf;, score=0.394 total time=   1.5s\n",
      "[CV 1/5] END C=250.0, class_weight=balanced, decision_function_shape=ovo, gamma=auto, kernel=rbf;, score=0.407 total time=   1.3s\n",
      "[CV 2/5] END C=250.0, class_weight=balanced, decision_function_shape=ovo, gamma=auto, kernel=rbf;, score=0.460 total time=   1.3s\n",
      "[CV 5/5] END C=250.0, class_weight=balanced, decision_function_shape=ovo, gamma=scale, kernel=rbf;, score=0.417 total time=   1.5s\n",
      "[CV 4/5] END C=250.0, class_weight=balanced, decision_function_shape=ovo, gamma=scale, kernel=rbf;, score=0.446 total time=   1.6s\n",
      "[CV 3/5] END C=250.0, class_weight=balanced, decision_function_shape=ovo, gamma=auto, kernel=rbf;, score=0.466 total time=   1.4s\n"
     ]
    },
    {
     "name": "stdout",
     "output_type": "stream",
     "text": [
      "[CV 4/5] END C=250.0, class_weight=balanced, decision_function_shape=ovo, gamma=auto, kernel=rbf;, score=0.515 total time=   1.4s\n",
      "[CV 5/5] END C=250.0, class_weight=balanced, decision_function_shape=ovo, gamma=auto, kernel=rbf;, score=0.525 total time=   1.5s\n",
      "[CV 1/5] END C=250.0, class_weight=balanced, decision_function_shape=ovo, gamma=0.1, kernel=rbf;, score=0.376 total time=   1.8s\n",
      "[CV 1/5] END C=250.0, class_weight=balanced, decision_function_shape=ovo, gamma=1, kernel=rbf;, score=0.373 total time=   2.3s\n",
      "[CV 2/5] END C=250.0, class_weight=balanced, decision_function_shape=ovo, gamma=1, kernel=rbf;, score=0.354 total time=   2.4s\n",
      "[CV 3/5] END C=250.0, class_weight=balanced, decision_function_shape=ovo, gamma=1, kernel=rbf;, score=0.440 total time=   2.4s\n",
      "[CV 5/5] END C=250.0, class_weight=balanced, decision_function_shape=ovo, gamma=1, kernel=rbf;, score=0.376 total time=   2.3s\n",
      "[CV 4/5] END C=250.0, class_weight=balanced, decision_function_shape=ovo, gamma=1, kernel=rbf;, score=0.408 total time=   2.3s\n",
      "[CV 2/5] END C=250.0, class_weight=balanced, decision_function_shape=ovo, gamma=0.1, kernel=rbf;, score=0.364 total time=   1.8s\n",
      "[CV 3/5] END C=250.0, class_weight=balanced, decision_function_shape=ovo, gamma=0.1, kernel=rbf;, score=0.498 total time=   1.9s\n",
      "[CV 2/5] END C=250.0, class_weight=balanced, decision_function_shape=ovo, gamma=0.01, kernel=rbf;, score=0.460 total time=   1.4s\n",
      "[CV 1/5] END C=250.0, class_weight=balanced, decision_function_shape=ovo, gamma=0.01, kernel=rbf;, score=0.404 total time=   1.4s\n",
      "[CV 3/5] END C=250.0, class_weight=balanced, decision_function_shape=ovo, gamma=0.01, kernel=rbf;, score=0.463 total time=   1.4s\n",
      "[CV 4/5] END C=250.0, class_weight=balanced, decision_function_shape=ovo, gamma=0.01, kernel=rbf;, score=0.505 total time=   1.5s\n",
      "[CV 5/5] END C=250.0, class_weight=balanced, decision_function_shape=ovo, gamma=0.01, kernel=rbf;, score=0.527 total time=   1.5s\n",
      "[CV 4/5] END C=250.0, class_weight=balanced, decision_function_shape=ovo, gamma=0.1, kernel=rbf;, score=0.440 total time=   1.9s\n",
      "[CV 5/5] END C=250.0, class_weight=balanced, decision_function_shape=ovo, gamma=0.1, kernel=rbf;, score=0.492 total time=   1.9s\n",
      "[CV 1/5] END C=250.0, class_weight=None, decision_function_shape=ovr, gamma=scale, kernel=rbf;, score=0.322 total time=   1.5s\n",
      "[CV 2/5] END C=250.0, class_weight=None, decision_function_shape=ovr, gamma=auto, kernel=rbf;, score=0.424 total time=   0.9s\n",
      "[CV 1/5] END C=250.0, class_weight=None, decision_function_shape=ovr, gamma=auto, kernel=rbf;, score=0.397 total time=   0.9s\n",
      "[CV 3/5] END C=250.0, class_weight=None, decision_function_shape=ovr, gamma=auto, kernel=rbf;, score=0.447 total time=   0.9s\n",
      "[CV 2/5] END C=250.0, class_weight=None, decision_function_shape=ovr, gamma=scale, kernel=rbf;, score=0.354 total time=   1.3s\n",
      "[CV 4/5] END C=250.0, class_weight=None, decision_function_shape=ovr, gamma=scale, kernel=rbf;, score=0.446 total time=   1.3s\n",
      "[CV 3/5] END C=250.0, class_weight=None, decision_function_shape=ovr, gamma=scale, kernel=rbf;, score=0.394 total time=   1.5s\n",
      "[CV 5/5] END C=250.0, class_weight=None, decision_function_shape=ovr, gamma=scale, kernel=rbf;, score=0.417 total time=   1.5s\n",
      "[CV 4/5] END C=250.0, class_weight=None, decision_function_shape=ovr, gamma=auto, kernel=rbf;, score=0.522 total time=   0.8s\n",
      "[CV 5/5] END C=250.0, class_weight=None, decision_function_shape=ovr, gamma=auto, kernel=rbf;, score=0.433 total time=   0.8s\n",
      "[CV 1/5] END C=250.0, class_weight=None, decision_function_shape=ovr, gamma=1, kernel=rbf;, score=0.373 total time=   2.0s\n",
      "[CV 2/5] END C=250.0, class_weight=None, decision_function_shape=ovr, gamma=1, kernel=rbf;, score=0.354 total time=   1.9s\n",
      "[CV 3/5] END C=250.0, class_weight=None, decision_function_shape=ovr, gamma=1, kernel=rbf;, score=0.440 total time=   1.9s\n",
      "[CV 2/5] END C=250.0, class_weight=None, decision_function_shape=ovr, gamma=0.1, kernel=rbf;, score=0.391 total time=   1.5s\n",
      "[CV 1/5] END C=250.0, class_weight=None, decision_function_shape=ovr, gamma=0.1, kernel=rbf;, score=0.335 total time=   1.6s\n",
      "[CV 4/5] END C=250.0, class_weight=None, decision_function_shape=ovr, gamma=1, kernel=rbf;, score=0.408 total time=   2.0s\n",
      "[CV 3/5] END C=250.0, class_weight=None, decision_function_shape=ovr, gamma=0.1, kernel=rbf;, score=0.448 total time=   1.5s\n",
      "[CV 5/5] END C=250.0, class_weight=None, decision_function_shape=ovr, gamma=1, kernel=rbf;, score=0.376 total time=   2.0s\n",
      "[CV 1/5] END C=250.0, class_weight=None, decision_function_shape=ovr, gamma=0.01, kernel=rbf;, score=0.397 total time=   0.9s\n",
      "[CV 2/5] END C=250.0, class_weight=None, decision_function_shape=ovr, gamma=0.01, kernel=rbf;, score=0.413 total time=   0.8s\n",
      "[CV 3/5] END C=250.0, class_weight=None, decision_function_shape=ovr, gamma=0.01, kernel=rbf;, score=0.447 total time=   0.9s\n",
      "[CV 4/5] END C=250.0, class_weight=None, decision_function_shape=ovr, gamma=0.01, kernel=rbf;, score=0.507 total time=   0.8s\n",
      "[CV 5/5] END C=250.0, class_weight=None, decision_function_shape=ovr, gamma=0.01, kernel=rbf;, score=0.433 total time=   0.9s\n",
      "[CV 4/5] END C=250.0, class_weight=None, decision_function_shape=ovr, gamma=0.1, kernel=rbf;, score=0.497 total time=   1.3s\n",
      "[CV 5/5] END C=250.0, class_weight=None, decision_function_shape=ovr, gamma=0.1, kernel=rbf;, score=0.453 total time=   1.4s\n",
      "[CV 1/5] END C=250.0, class_weight=None, decision_function_shape=ovo, gamma=scale, kernel=rbf;, score=0.322 total time=   1.2s\n",
      "[CV 1/5] END C=250.0, class_weight=None, decision_function_shape=ovo, gamma=auto, kernel=rbf;, score=0.397 total time=   0.8s\n",
      "[CV 2/5] END C=250.0, class_weight=None, decision_function_shape=ovo, gamma=scale, kernel=rbf;, score=0.354 total time=   1.1s\n",
      "[CV 2/5] END C=250.0, class_weight=None, decision_function_shape=ovo, gamma=auto, kernel=rbf;, score=0.424 total time=   0.7s\n",
      "[CV 3/5] END C=250.0, class_weight=None, decision_function_shape=ovo, gamma=auto, kernel=rbf;, score=0.447 total time=   0.8s\n",
      "[CV 3/5] END C=250.0, class_weight=None, decision_function_shape=ovo, gamma=scale, kernel=rbf;, score=0.394 total time=   1.2s\n",
      "[CV 4/5] END C=250.0, class_weight=None, decision_function_shape=ovo, gamma=scale, kernel=rbf;, score=0.446 total time=   1.3s\n",
      "[CV 5/5] END C=250.0, class_weight=None, decision_function_shape=ovo, gamma=scale, kernel=rbf;, score=0.417 total time=   1.2s\n",
      "[CV 4/5] END C=250.0, class_weight=None, decision_function_shape=ovo, gamma=auto, kernel=rbf;, score=0.522 total time=   0.8s\n",
      "[CV 5/5] END C=250.0, class_weight=None, decision_function_shape=ovo, gamma=auto, kernel=rbf;, score=0.433 total time=   0.8s\n",
      "[CV 1/5] END C=250.0, class_weight=None, decision_function_shape=ovo, gamma=0.1, kernel=rbf;, score=0.335 total time=   1.2s\n",
      "[CV 2/5] END C=250.0, class_weight=None, decision_function_shape=ovo, gamma=0.1, kernel=rbf;, score=0.391 total time=   1.1s\n",
      "[CV 2/5] END C=250.0, class_weight=None, decision_function_shape=ovo, gamma=1, kernel=rbf;, score=0.354 total time=   1.6s\n",
      "[CV 1/5] END C=250.0, class_weight=None, decision_function_shape=ovo, gamma=1, kernel=rbf;, score=0.373 total time=   1.6s\n",
      "[CV 3/5] END C=250.0, class_weight=None, decision_function_shape=ovo, gamma=1, kernel=rbf;, score=0.440 total time=   1.6s\n",
      "[CV 4/5] END C=250.0, class_weight=None, decision_function_shape=ovo, gamma=1, kernel=rbf;, score=0.408 total time=   1.7s\n",
      "[CV 5/5] END C=250.0, class_weight=None, decision_function_shape=ovo, gamma=1, kernel=rbf;, score=0.376 total time=   1.6s\n",
      "[CV 3/5] END C=250.0, class_weight=None, decision_function_shape=ovo, gamma=0.1, kernel=rbf;, score=0.448 total time=   1.3s\n",
      "[CV 2/5] END C=250.0, class_weight=None, decision_function_shape=ovo, gamma=0.01, kernel=rbf;, score=0.413 total time=   0.7s\n",
      "[CV 1/5] END C=250.0, class_weight=None, decision_function_shape=ovo, gamma=0.01, kernel=rbf;, score=0.397 total time=   0.7s\n",
      "[CV 3/5] END C=250.0, class_weight=None, decision_function_shape=ovo, gamma=0.01, kernel=rbf;, score=0.447 total time=   0.8s\n",
      "[CV 5/5] END C=250.0, class_weight=None, decision_function_shape=ovo, gamma=0.01, kernel=rbf;, score=0.433 total time=   0.8s\n",
      "[CV 4/5] END C=250.0, class_weight=None, decision_function_shape=ovo, gamma=0.01, kernel=rbf;, score=0.507 total time=   0.8s\n",
      "[CV 5/5] END C=250.0, class_weight=None, decision_function_shape=ovo, gamma=0.1, kernel=rbf;, score=0.453 total time=   1.3s\n",
      "[CV 4/5] END C=250.0, class_weight=None, decision_function_shape=ovo, gamma=0.1, kernel=rbf;, score=0.497 total time=   1.3s\n"
     ]
    },
    {
     "name": "stdout",
     "output_type": "stream",
     "text": [
      "[CV 1/5] END C=300.0, class_weight=balanced, decision_function_shape=ovr, gamma=scale, kernel=rbf;, score=0.322 total time=   1.2s\n",
      "[CV 2/5] END C=300.0, class_weight=balanced, decision_function_shape=ovr, gamma=scale, kernel=rbf;, score=0.354 total time=   1.2s\n",
      "[CV 3/5] END C=300.0, class_weight=balanced, decision_function_shape=ovr, gamma=scale, kernel=rbf;, score=0.394 total time=   1.3s\n",
      "[CV 2/5] END C=300.0, class_weight=balanced, decision_function_shape=ovr, gamma=auto, kernel=rbf;, score=0.454 total time=   1.0s\n",
      "[CV 1/5] END C=300.0, class_weight=balanced, decision_function_shape=ovr, gamma=auto, kernel=rbf;, score=0.391 total time=   1.1s\n",
      "[CV 4/5] END C=300.0, class_weight=balanced, decision_function_shape=ovr, gamma=scale, kernel=rbf;, score=0.446 total time=   1.2s\n",
      "[CV 3/5] END C=300.0, class_weight=balanced, decision_function_shape=ovr, gamma=auto, kernel=rbf;, score=0.474 total time=   1.1s\n",
      "[CV 5/5] END C=300.0, class_weight=balanced, decision_function_shape=ovr, gamma=scale, kernel=rbf;, score=0.417 total time=   1.2s\n",
      "[CV 4/5] END C=300.0, class_weight=balanced, decision_function_shape=ovr, gamma=auto, kernel=rbf;, score=0.525 total time=   1.1s\n",
      "[CV 5/5] END C=300.0, class_weight=balanced, decision_function_shape=ovr, gamma=auto, kernel=rbf;, score=0.522 total time=   1.1s\n",
      "[CV 1/5] END C=300.0, class_weight=balanced, decision_function_shape=ovr, gamma=1, kernel=rbf;, score=0.373 total time=   1.6s\n",
      "[CV 1/5] END C=300.0, class_weight=balanced, decision_function_shape=ovr, gamma=0.1, kernel=rbf;, score=0.377 total time=   1.4s\n",
      "[CV 2/5] END C=300.0, class_weight=balanced, decision_function_shape=ovr, gamma=1, kernel=rbf;, score=0.354 total time=   1.6s\n",
      "[CV 3/5] END C=300.0, class_weight=balanced, decision_function_shape=ovr, gamma=1, kernel=rbf;, score=0.440 total time=   1.6s\n",
      "[CV 4/5] END C=300.0, class_weight=balanced, decision_function_shape=ovr, gamma=1, kernel=rbf;, score=0.408 total time=   1.7s\n",
      "[CV 5/5] END C=300.0, class_weight=balanced, decision_function_shape=ovr, gamma=1, kernel=rbf;, score=0.376 total time=   1.6s\n",
      "[CV 2/5] END C=300.0, class_weight=balanced, decision_function_shape=ovr, gamma=0.1, kernel=rbf;, score=0.365 total time=   1.4s\n",
      "[CV 3/5] END C=300.0, class_weight=balanced, decision_function_shape=ovr, gamma=0.1, kernel=rbf;, score=0.481 total time=   1.4s\n",
      "[CV 1/5] END C=300.0, class_weight=balanced, decision_function_shape=ovr, gamma=0.01, kernel=rbf;, score=0.399 total time=   1.1s\n",
      "[CV 2/5] END C=300.0, class_weight=balanced, decision_function_shape=ovr, gamma=0.01, kernel=rbf;, score=0.460 total time=   1.1s\n",
      "[CV 3/5] END C=300.0, class_weight=balanced, decision_function_shape=ovr, gamma=0.01, kernel=rbf;, score=0.471 total time=   1.1s\n",
      "[CV 4/5] END C=300.0, class_weight=balanced, decision_function_shape=ovr, gamma=0.01, kernel=rbf;, score=0.521 total time=   1.1s\n",
      "[CV 4/5] END C=300.0, class_weight=balanced, decision_function_shape=ovr, gamma=0.1, kernel=rbf;, score=0.428 total time=   1.4s\n",
      "[CV 5/5] END C=300.0, class_weight=balanced, decision_function_shape=ovr, gamma=0.1, kernel=rbf;, score=0.482 total time=   1.4s\n",
      "[CV 5/5] END C=300.0, class_weight=balanced, decision_function_shape=ovr, gamma=0.01, kernel=rbf;, score=0.522 total time=   1.1s\n",
      "[CV 1/5] END C=300.0, class_weight=balanced, decision_function_shape=ovo, gamma=scale, kernel=rbf;, score=0.322 total time=   1.2s\n",
      "[CV 2/5] END C=300.0, class_weight=balanced, decision_function_shape=ovo, gamma=scale, kernel=rbf;, score=0.354 total time=   1.2s\n",
      "[CV 1/5] END C=300.0, class_weight=balanced, decision_function_shape=ovo, gamma=auto, kernel=rbf;, score=0.391 total time=   1.1s\n",
      "[CV 4/5] END C=300.0, class_weight=balanced, decision_function_shape=ovo, gamma=scale, kernel=rbf;, score=0.446 total time=   1.3s\n",
      "[CV 2/5] END C=300.0, class_weight=balanced, decision_function_shape=ovo, gamma=auto, kernel=rbf;, score=0.454 total time=   1.1s\n",
      "[CV 3/5] END C=300.0, class_weight=balanced, decision_function_shape=ovo, gamma=scale, kernel=rbf;, score=0.394 total time=   1.3s\n",
      "[CV 5/5] END C=300.0, class_weight=balanced, decision_function_shape=ovo, gamma=scale, kernel=rbf;, score=0.417 total time=   1.2s\n",
      "[CV 3/5] END C=300.0, class_weight=balanced, decision_function_shape=ovo, gamma=auto, kernel=rbf;, score=0.474 total time=   1.1s\n",
      "[CV 4/5] END C=300.0, class_weight=balanced, decision_function_shape=ovo, gamma=auto, kernel=rbf;, score=0.525 total time=   1.2s\n",
      "[CV 5/5] END C=300.0, class_weight=balanced, decision_function_shape=ovo, gamma=auto, kernel=rbf;, score=0.522 total time=   1.1s\n",
      "[CV 2/5] END C=300.0, class_weight=balanced, decision_function_shape=ovo, gamma=1, kernel=rbf;, score=0.354 total time=   1.6s\n",
      "[CV 1/5] END C=300.0, class_weight=balanced, decision_function_shape=ovo, gamma=0.1, kernel=rbf;, score=0.377 total time=   1.4s\n",
      "[CV 1/5] END C=300.0, class_weight=balanced, decision_function_shape=ovo, gamma=1, kernel=rbf;, score=0.373 total time=   1.7s\n",
      "[CV 5/5] END C=300.0, class_weight=balanced, decision_function_shape=ovo, gamma=1, kernel=rbf;, score=0.376 total time=   1.6s\n",
      "[CV 3/5] END C=300.0, class_weight=balanced, decision_function_shape=ovo, gamma=1, kernel=rbf;, score=0.440 total time=   1.8s\n",
      "[CV 4/5] END C=300.0, class_weight=balanced, decision_function_shape=ovo, gamma=1, kernel=rbf;, score=0.408 total time=   1.8s\n",
      "[CV 2/5] END C=300.0, class_weight=balanced, decision_function_shape=ovo, gamma=0.1, kernel=rbf;, score=0.365 total time=   1.4s\n",
      "[CV 3/5] END C=300.0, class_weight=balanced, decision_function_shape=ovo, gamma=0.1, kernel=rbf;, score=0.481 total time=   1.5s\n",
      "[CV 2/5] END C=300.0, class_weight=balanced, decision_function_shape=ovo, gamma=0.01, kernel=rbf;, score=0.460 total time=   1.1s\n",
      "[CV 1/5] END C=300.0, class_weight=balanced, decision_function_shape=ovo, gamma=0.01, kernel=rbf;, score=0.399 total time=   1.1s\n",
      "[CV 3/5] END C=300.0, class_weight=balanced, decision_function_shape=ovo, gamma=0.01, kernel=rbf;, score=0.471 total time=   1.1s\n",
      "[CV 4/5] END C=300.0, class_weight=balanced, decision_function_shape=ovo, gamma=0.01, kernel=rbf;, score=0.521 total time=   1.2s\n",
      "[CV 5/5] END C=300.0, class_weight=balanced, decision_function_shape=ovo, gamma=0.1, kernel=rbf;, score=0.482 total time=   1.5s\n",
      "[CV 4/5] END C=300.0, class_weight=balanced, decision_function_shape=ovo, gamma=0.1, kernel=rbf;, score=0.428 total time=   1.5s\n",
      "[CV 5/5] END C=300.0, class_weight=balanced, decision_function_shape=ovo, gamma=0.01, kernel=rbf;, score=0.522 total time=   1.2s\n",
      "[CV 1/5] END C=300.0, class_weight=None, decision_function_shape=ovr, gamma=scale, kernel=rbf;, score=0.322 total time=   1.2s\n",
      "[CV 1/5] END C=300.0, class_weight=None, decision_function_shape=ovr, gamma=auto, kernel=rbf;, score=0.383 total time=   0.8s\n",
      "[CV 2/5] END C=300.0, class_weight=None, decision_function_shape=ovr, gamma=auto, kernel=rbf;, score=0.418 total time=   0.8s\n",
      "[CV 2/5] END C=300.0, class_weight=None, decision_function_shape=ovr, gamma=scale, kernel=rbf;, score=0.354 total time=   1.2s\n",
      "[CV 3/5] END C=300.0, class_weight=None, decision_function_shape=ovr, gamma=auto, kernel=rbf;, score=0.442 total time=   0.8s\n",
      "[CV 3/5] END C=300.0, class_weight=None, decision_function_shape=ovr, gamma=scale, kernel=rbf;, score=0.394 total time=   1.3s\n",
      "[CV 4/5] END C=300.0, class_weight=None, decision_function_shape=ovr, gamma=scale, kernel=rbf;, score=0.446 total time=   1.3s\n",
      "[CV 5/5] END C=300.0, class_weight=None, decision_function_shape=ovr, gamma=scale, kernel=rbf;, score=0.417 total time=   1.2s\n",
      "[CV 4/5] END C=300.0, class_weight=None, decision_function_shape=ovr, gamma=auto, kernel=rbf;, score=0.500 total time=   0.8s\n",
      "[CV 5/5] END C=300.0, class_weight=None, decision_function_shape=ovr, gamma=auto, kernel=rbf;, score=0.433 total time=   0.8s\n",
      "[CV 1/5] END C=300.0, class_weight=None, decision_function_shape=ovr, gamma=0.1, kernel=rbf;, score=0.327 total time=   1.4s\n",
      "[CV 2/5] END C=300.0, class_weight=None, decision_function_shape=ovr, gamma=1, kernel=rbf;, score=0.354 total time=   1.6s\n",
      "[CV 1/5] END C=300.0, class_weight=None, decision_function_shape=ovr, gamma=1, kernel=rbf;, score=0.373 total time=   1.7s\n",
      "[CV 2/5] END C=300.0, class_weight=None, decision_function_shape=ovr, gamma=0.1, kernel=rbf;, score=0.375 total time=   1.3s\n"
     ]
    },
    {
     "name": "stdout",
     "output_type": "stream",
     "text": [
      "[CV 3/5] END C=300.0, class_weight=None, decision_function_shape=ovr, gamma=1, kernel=rbf;, score=0.440 total time=   1.7s\n",
      "[CV 4/5] END C=300.0, class_weight=None, decision_function_shape=ovr, gamma=1, kernel=rbf;, score=0.408 total time=   1.7s\n",
      "[CV 5/5] END C=300.0, class_weight=None, decision_function_shape=ovr, gamma=1, kernel=rbf;, score=0.376 total time=   1.8s\n",
      "[CV 3/5] END C=300.0, class_weight=None, decision_function_shape=ovr, gamma=0.1, kernel=rbf;, score=0.452 total time=   1.3s\n",
      "[CV 1/5] END C=300.0, class_weight=None, decision_function_shape=ovr, gamma=0.01, kernel=rbf;, score=0.383 total time=   0.8s\n",
      "[CV 2/5] END C=300.0, class_weight=None, decision_function_shape=ovr, gamma=0.01, kernel=rbf;, score=0.421 total time=   0.8s\n",
      "[CV 3/5] END C=300.0, class_weight=None, decision_function_shape=ovr, gamma=0.01, kernel=rbf;, score=0.444 total time=   0.8s\n",
      "[CV 4/5] END C=300.0, class_weight=None, decision_function_shape=ovr, gamma=0.01, kernel=rbf;, score=0.522 total time=   0.8s\n",
      "[CV 5/5] END C=300.0, class_weight=None, decision_function_shape=ovr, gamma=0.01, kernel=rbf;, score=0.433 total time=   0.9s\n",
      "[CV 5/5] END C=300.0, class_weight=None, decision_function_shape=ovr, gamma=0.1, kernel=rbf;, score=0.461 total time=   1.4s\n",
      "[CV 4/5] END C=300.0, class_weight=None, decision_function_shape=ovr, gamma=0.1, kernel=rbf;, score=0.488 total time=   1.4s\n",
      "[CV 1/5] END C=300.0, class_weight=None, decision_function_shape=ovo, gamma=scale, kernel=rbf;, score=0.322 total time=   1.2s\n",
      "[CV 2/5] END C=300.0, class_weight=None, decision_function_shape=ovo, gamma=scale, kernel=rbf;, score=0.354 total time=   1.2s\n",
      "[CV 1/5] END C=300.0, class_weight=None, decision_function_shape=ovo, gamma=auto, kernel=rbf;, score=0.383 total time=   0.8s\n",
      "[CV 2/5] END C=300.0, class_weight=None, decision_function_shape=ovo, gamma=auto, kernel=rbf;, score=0.418 total time=   0.8s\n",
      "[CV 3/5] END C=300.0, class_weight=None, decision_function_shape=ovo, gamma=auto, kernel=rbf;, score=0.442 total time=   0.8s\n",
      "[CV 3/5] END C=300.0, class_weight=None, decision_function_shape=ovo, gamma=scale, kernel=rbf;, score=0.394 total time=   1.3s\n",
      "[CV 4/5] END C=300.0, class_weight=None, decision_function_shape=ovo, gamma=scale, kernel=rbf;, score=0.446 total time=   1.3s\n",
      "[CV 5/5] END C=300.0, class_weight=None, decision_function_shape=ovo, gamma=scale, kernel=rbf;, score=0.417 total time=   1.3s\n",
      "[CV 4/5] END C=300.0, class_weight=None, decision_function_shape=ovo, gamma=auto, kernel=rbf;, score=0.500 total time=   0.8s\n",
      "[CV 5/5] END C=300.0, class_weight=None, decision_function_shape=ovo, gamma=auto, kernel=rbf;, score=0.433 total time=   0.8s\n",
      "[CV 1/5] END C=300.0, class_weight=None, decision_function_shape=ovo, gamma=0.1, kernel=rbf;, score=0.327 total time=   1.3s\n",
      "[CV 1/5] END C=300.0, class_weight=None, decision_function_shape=ovo, gamma=1, kernel=rbf;, score=0.373 total time=   1.7s\n",
      "[CV 2/5] END C=300.0, class_weight=None, decision_function_shape=ovo, gamma=1, kernel=rbf;, score=0.354 total time=   1.7s\n",
      "[CV 2/5] END C=300.0, class_weight=None, decision_function_shape=ovo, gamma=0.1, kernel=rbf;, score=0.375 total time=   1.3s\n",
      "[CV 3/5] END C=300.0, class_weight=None, decision_function_shape=ovo, gamma=1, kernel=rbf;, score=0.440 total time=   1.7s\n",
      "[CV 4/5] END C=300.0, class_weight=None, decision_function_shape=ovo, gamma=1, kernel=rbf;, score=0.408 total time=   1.7s\n",
      "[CV 5/5] END C=300.0, class_weight=None, decision_function_shape=ovo, gamma=1, kernel=rbf;, score=0.376 total time=   1.7s\n",
      "[CV 3/5] END C=300.0, class_weight=None, decision_function_shape=ovo, gamma=0.1, kernel=rbf;, score=0.452 total time=   1.4s\n",
      "[CV 1/5] END C=300.0, class_weight=None, decision_function_shape=ovo, gamma=0.01, kernel=rbf;, score=0.383 total time=   0.8s\n",
      "[CV 2/5] END C=300.0, class_weight=None, decision_function_shape=ovo, gamma=0.01, kernel=rbf;, score=0.421 total time=   0.8s\n",
      "[CV 3/5] END C=300.0, class_weight=None, decision_function_shape=ovo, gamma=0.01, kernel=rbf;, score=0.444 total time=   0.8s\n",
      "[CV 4/5] END C=300.0, class_weight=None, decision_function_shape=ovo, gamma=0.01, kernel=rbf;, score=0.522 total time=   0.8s\n",
      "[CV 5/5] END C=300.0, class_weight=None, decision_function_shape=ovo, gamma=0.01, kernel=rbf;, score=0.433 total time=   0.8s\n",
      "[CV 4/5] END C=300.0, class_weight=None, decision_function_shape=ovo, gamma=0.1, kernel=rbf;, score=0.488 total time=   1.5s\n",
      "[CV 5/5] END C=300.0, class_weight=None, decision_function_shape=ovo, gamma=0.1, kernel=rbf;, score=0.461 total time=   1.5s\n",
      "[CV 1/5] END C=350.0, class_weight=balanced, decision_function_shape=ovr, gamma=scale, kernel=rbf;, score=0.322 total time=   1.2s\n",
      "[CV 2/5] END C=350.0, class_weight=balanced, decision_function_shape=ovr, gamma=scale, kernel=rbf;, score=0.354 total time=   1.2s\n",
      "[CV 3/5] END C=350.0, class_weight=balanced, decision_function_shape=ovr, gamma=scale, kernel=rbf;, score=0.394 total time=   1.3s\n",
      "[CV 1/5] END C=350.0, class_weight=balanced, decision_function_shape=ovr, gamma=auto, kernel=rbf;, score=0.391 total time=   1.1s\n",
      "[CV 4/5] END C=350.0, class_weight=balanced, decision_function_shape=ovr, gamma=scale, kernel=rbf;, score=0.446 total time=   1.3s\n",
      "[CV 5/5] END C=350.0, class_weight=balanced, decision_function_shape=ovr, gamma=scale, kernel=rbf;, score=0.417 total time=   1.3s\n",
      "[CV 2/5] END C=350.0, class_weight=balanced, decision_function_shape=ovr, gamma=auto, kernel=rbf;, score=0.444 total time=   1.1s\n",
      "[CV 3/5] END C=350.0, class_weight=balanced, decision_function_shape=ovr, gamma=auto, kernel=rbf;, score=0.473 total time=   1.2s\n",
      "[CV 4/5] END C=350.0, class_weight=balanced, decision_function_shape=ovr, gamma=auto, kernel=rbf;, score=0.527 total time=   1.2s\n",
      "[CV 5/5] END C=350.0, class_weight=balanced, decision_function_shape=ovr, gamma=auto, kernel=rbf;, score=0.528 total time=   1.2s\n",
      "[CV 2/5] END C=350.0, class_weight=balanced, decision_function_shape=ovr, gamma=1, kernel=rbf;, score=0.354 total time=   1.7s\n",
      "[CV 1/5] END C=350.0, class_weight=balanced, decision_function_shape=ovr, gamma=1, kernel=rbf;, score=0.373 total time=   1.8s\n",
      "[CV 3/5] END C=350.0, class_weight=balanced, decision_function_shape=ovr, gamma=1, kernel=rbf;, score=0.440 total time=   1.8s\n",
      "[CV 4/5] END C=350.0, class_weight=balanced, decision_function_shape=ovr, gamma=1, kernel=rbf;, score=0.408 total time=   1.8s\n",
      "[CV 1/5] END C=350.0, class_weight=balanced, decision_function_shape=ovr, gamma=0.1, kernel=rbf;, score=0.380 total time=   1.5s\n",
      "[CV 5/5] END C=350.0, class_weight=balanced, decision_function_shape=ovr, gamma=1, kernel=rbf;, score=0.376 total time=   1.8s\n",
      "[CV 2/5] END C=350.0, class_weight=balanced, decision_function_shape=ovr, gamma=0.1, kernel=rbf;, score=0.359 total time=   1.5s\n",
      "[CV 3/5] END C=350.0, class_weight=balanced, decision_function_shape=ovr, gamma=0.1, kernel=rbf;, score=0.469 total time=   1.5s\n",
      "[CV 2/5] END C=350.0, class_weight=balanced, decision_function_shape=ovr, gamma=0.01, kernel=rbf;, score=0.454 total time=   1.1s\n",
      "[CV 1/5] END C=350.0, class_weight=balanced, decision_function_shape=ovr, gamma=0.01, kernel=rbf;, score=0.391 total time=   1.2s\n",
      "[CV 3/5] END C=350.0, class_weight=balanced, decision_function_shape=ovr, gamma=0.01, kernel=rbf;, score=0.469 total time=   1.2s\n",
      "[CV 4/5] END C=350.0, class_weight=balanced, decision_function_shape=ovr, gamma=0.1, kernel=rbf;, score=0.415 total time=   1.5s\n",
      "[CV 4/5] END C=350.0, class_weight=balanced, decision_function_shape=ovr, gamma=0.01, kernel=rbf;, score=0.523 total time=   1.2s\n",
      "[CV 5/5] END C=350.0, class_weight=balanced, decision_function_shape=ovr, gamma=0.01, kernel=rbf;, score=0.522 total time=   1.2s\n",
      "[CV 5/5] END C=350.0, class_weight=balanced, decision_function_shape=ovr, gamma=0.1, kernel=rbf;, score=0.473 total time=   1.6s\n",
      "[CV 1/5] END C=350.0, class_weight=balanced, decision_function_shape=ovo, gamma=scale, kernel=rbf;, score=0.322 total time=   1.3s\n",
      "[CV 2/5] END C=350.0, class_weight=balanced, decision_function_shape=ovo, gamma=scale, kernel=rbf;, score=0.354 total time=   1.2s\n",
      "[CV 3/5] END C=350.0, class_weight=balanced, decision_function_shape=ovo, gamma=scale, kernel=rbf;, score=0.394 total time=   1.3s\n",
      "[CV 1/5] END C=350.0, class_weight=balanced, decision_function_shape=ovo, gamma=auto, kernel=rbf;, score=0.391 total time=   1.1s\n",
      "[CV 4/5] END C=350.0, class_weight=balanced, decision_function_shape=ovo, gamma=scale, kernel=rbf;, score=0.446 total time=   1.3s\n"
     ]
    },
    {
     "name": "stdout",
     "output_type": "stream",
     "text": [
      "[CV 5/5] END C=350.0, class_weight=balanced, decision_function_shape=ovo, gamma=scale, kernel=rbf;, score=0.417 total time=   1.3s\n",
      "[CV 2/5] END C=350.0, class_weight=balanced, decision_function_shape=ovo, gamma=auto, kernel=rbf;, score=0.444 total time=   1.1s\n",
      "[CV 3/5] END C=350.0, class_weight=balanced, decision_function_shape=ovo, gamma=auto, kernel=rbf;, score=0.473 total time=   1.2s\n",
      "[CV 4/5] END C=350.0, class_weight=balanced, decision_function_shape=ovo, gamma=auto, kernel=rbf;, score=0.527 total time=   1.2s\n",
      "[CV 5/5] END C=350.0, class_weight=balanced, decision_function_shape=ovo, gamma=auto, kernel=rbf;, score=0.528 total time=   1.2s\n",
      "[CV 2/5] END C=350.0, class_weight=balanced, decision_function_shape=ovo, gamma=1, kernel=rbf;, score=0.354 total time=   1.7s\n",
      "[CV 1/5] END C=350.0, class_weight=balanced, decision_function_shape=ovo, gamma=0.1, kernel=rbf;, score=0.380 total time=   1.6s\n",
      "[CV 1/5] END C=350.0, class_weight=balanced, decision_function_shape=ovo, gamma=1, kernel=rbf;, score=0.373 total time=   1.8s\n",
      "[CV 3/5] END C=350.0, class_weight=balanced, decision_function_shape=ovo, gamma=1, kernel=rbf;, score=0.440 total time=   1.8s\n",
      "[CV 4/5] END C=350.0, class_weight=balanced, decision_function_shape=ovo, gamma=1, kernel=rbf;, score=0.408 total time=   1.7s\n",
      "[CV 5/5] END C=350.0, class_weight=balanced, decision_function_shape=ovo, gamma=1, kernel=rbf;, score=0.376 total time=   1.8s\n",
      "[CV 2/5] END C=350.0, class_weight=balanced, decision_function_shape=ovo, gamma=0.1, kernel=rbf;, score=0.359 total time=   1.4s\n",
      "[CV 3/5] END C=350.0, class_weight=balanced, decision_function_shape=ovo, gamma=0.1, kernel=rbf;, score=0.469 total time=   1.5s\n",
      "[CV 3/5] END C=350.0, class_weight=balanced, decision_function_shape=ovo, gamma=0.01, kernel=rbf;, score=0.469 total time=   1.2s\n",
      "[CV 1/5] END C=350.0, class_weight=balanced, decision_function_shape=ovo, gamma=0.01, kernel=rbf;, score=0.391 total time=   1.2s\n",
      "[CV 2/5] END C=350.0, class_weight=balanced, decision_function_shape=ovo, gamma=0.01, kernel=rbf;, score=0.454 total time=   1.2s\n",
      "[CV 4/5] END C=350.0, class_weight=balanced, decision_function_shape=ovo, gamma=0.01, kernel=rbf;, score=0.523 total time=   1.2s\n",
      "[CV 4/5] END C=350.0, class_weight=balanced, decision_function_shape=ovo, gamma=0.1, kernel=rbf;, score=0.415 total time=   1.5s\n",
      "[CV 5/5] END C=350.0, class_weight=balanced, decision_function_shape=ovo, gamma=0.1, kernel=rbf;, score=0.473 total time=   1.6s\n",
      "[CV 5/5] END C=350.0, class_weight=balanced, decision_function_shape=ovo, gamma=0.01, kernel=rbf;, score=0.522 total time=   1.2s\n",
      "[CV 1/5] END C=350.0, class_weight=None, decision_function_shape=ovr, gamma=scale, kernel=rbf;, score=0.322 total time=   1.3s\n",
      "[CV 1/5] END C=350.0, class_weight=None, decision_function_shape=ovr, gamma=auto, kernel=rbf;, score=0.386 total time=   0.8s\n",
      "[CV 2/5] END C=350.0, class_weight=None, decision_function_shape=ovr, gamma=auto, kernel=rbf;, score=0.420 total time=   0.8s\n",
      "[CV 3/5] END C=350.0, class_weight=None, decision_function_shape=ovr, gamma=auto, kernel=rbf;, score=0.452 total time=   0.9s\n",
      "[CV 2/5] END C=350.0, class_weight=None, decision_function_shape=ovr, gamma=scale, kernel=rbf;, score=0.354 total time=   1.3s\n",
      "[CV 4/5] END C=350.0, class_weight=None, decision_function_shape=ovr, gamma=scale, kernel=rbf;, score=0.446 total time=   1.3s\n",
      "[CV 3/5] END C=350.0, class_weight=None, decision_function_shape=ovr, gamma=scale, kernel=rbf;, score=0.394 total time=   1.3s\n",
      "[CV 5/5] END C=350.0, class_weight=None, decision_function_shape=ovr, gamma=scale, kernel=rbf;, score=0.417 total time=   1.3s\n",
      "[CV 4/5] END C=350.0, class_weight=None, decision_function_shape=ovr, gamma=auto, kernel=rbf;, score=0.489 total time=   0.9s\n",
      "[CV 5/5] END C=350.0, class_weight=None, decision_function_shape=ovr, gamma=auto, kernel=rbf;, score=0.433 total time=   0.8s\n",
      "[CV 1/5] END C=350.0, class_weight=None, decision_function_shape=ovr, gamma=0.1, kernel=rbf;, score=0.331 total time=   1.4s\n",
      "[CV 1/5] END C=350.0, class_weight=None, decision_function_shape=ovr, gamma=1, kernel=rbf;, score=0.373 total time=   1.7s\n",
      "[CV 2/5] END C=350.0, class_weight=None, decision_function_shape=ovr, gamma=1, kernel=rbf;, score=0.354 total time=   1.7s\n",
      "[CV 3/5] END C=350.0, class_weight=None, decision_function_shape=ovr, gamma=1, kernel=rbf;, score=0.440 total time=   1.7s\n",
      "[CV 4/5] END C=350.0, class_weight=None, decision_function_shape=ovr, gamma=1, kernel=rbf;, score=0.408 total time=   1.8s\n",
      "[CV 5/5] END C=350.0, class_weight=None, decision_function_shape=ovr, gamma=1, kernel=rbf;, score=0.376 total time=   1.8s\n",
      "[CV 2/5] END C=350.0, class_weight=None, decision_function_shape=ovr, gamma=0.1, kernel=rbf;, score=0.367 total time=   1.4s\n",
      "[CV 3/5] END C=350.0, class_weight=None, decision_function_shape=ovr, gamma=0.1, kernel=rbf;, score=0.467 total time=   1.5s\n",
      "[CV 2/5] END C=350.0, class_weight=None, decision_function_shape=ovr, gamma=0.01, kernel=rbf;, score=0.429 total time=   0.8s\n",
      "[CV 1/5] END C=350.0, class_weight=None, decision_function_shape=ovr, gamma=0.01, kernel=rbf;, score=0.374 total time=   0.9s\n",
      "[CV 3/5] END C=350.0, class_weight=None, decision_function_shape=ovr, gamma=0.01, kernel=rbf;, score=0.452 total time=   0.8s\n",
      "[CV 4/5] END C=350.0, class_weight=None, decision_function_shape=ovr, gamma=0.01, kernel=rbf;, score=0.489 total time=   0.9s\n",
      "[CV 5/5] END C=350.0, class_weight=None, decision_function_shape=ovr, gamma=0.01, kernel=rbf;, score=0.433 total time=   0.9s\n",
      "[CV 4/5] END C=350.0, class_weight=None, decision_function_shape=ovr, gamma=0.1, kernel=rbf;, score=0.485 total time=   1.5s\n",
      "[CV 5/5] END C=350.0, class_weight=None, decision_function_shape=ovr, gamma=0.1, kernel=rbf;, score=0.458 total time=   1.5s\n",
      "[CV 1/5] END C=350.0, class_weight=None, decision_function_shape=ovo, gamma=scale, kernel=rbf;, score=0.322 total time=   1.3s\n",
      "[CV 1/5] END C=350.0, class_weight=None, decision_function_shape=ovo, gamma=auto, kernel=rbf;, score=0.386 total time=   0.8s\n",
      "[CV 2/5] END C=350.0, class_weight=None, decision_function_shape=ovo, gamma=scale, kernel=rbf;, score=0.354 total time=   1.2s\n",
      "[CV 2/5] END C=350.0, class_weight=None, decision_function_shape=ovo, gamma=auto, kernel=rbf;, score=0.420 total time=   0.8s\n",
      "[CV 3/5] END C=350.0, class_weight=None, decision_function_shape=ovo, gamma=scale, kernel=rbf;, score=0.394 total time=   1.4s\n",
      "[CV 3/5] END C=350.0, class_weight=None, decision_function_shape=ovo, gamma=auto, kernel=rbf;, score=0.452 total time=   0.8s\n",
      "[CV 4/5] END C=350.0, class_weight=None, decision_function_shape=ovo, gamma=scale, kernel=rbf;, score=0.446 total time=   1.3s\n",
      "[CV 5/5] END C=350.0, class_weight=None, decision_function_shape=ovo, gamma=scale, kernel=rbf;, score=0.417 total time=   1.4s\n",
      "[CV 4/5] END C=350.0, class_weight=None, decision_function_shape=ovo, gamma=auto, kernel=rbf;, score=0.489 total time=   0.9s\n",
      "[CV 5/5] END C=350.0, class_weight=None, decision_function_shape=ovo, gamma=auto, kernel=rbf;, score=0.433 total time=   0.9s\n",
      "[CV 1/5] END C=350.0, class_weight=None, decision_function_shape=ovo, gamma=1, kernel=rbf;, score=0.373 total time=   1.8s\n",
      "[CV 2/5] END C=350.0, class_weight=None, decision_function_shape=ovo, gamma=1, kernel=rbf;, score=0.354 total time=   1.7s\n",
      "[CV 1/5] END C=350.0, class_weight=None, decision_function_shape=ovo, gamma=0.1, kernel=rbf;, score=0.331 total time=   1.4s\n",
      "[CV 3/5] END C=350.0, class_weight=None, decision_function_shape=ovo, gamma=1, kernel=rbf;, score=0.440 total time=   1.8s\n",
      "[CV 4/5] END C=350.0, class_weight=None, decision_function_shape=ovo, gamma=1, kernel=rbf;, score=0.408 total time=   1.7s\n",
      "[CV 2/5] END C=350.0, class_weight=None, decision_function_shape=ovo, gamma=0.1, kernel=rbf;, score=0.367 total time=   1.4s\n",
      "[CV 5/5] END C=350.0, class_weight=None, decision_function_shape=ovo, gamma=1, kernel=rbf;, score=0.376 total time=   1.8s\n",
      "[CV 3/5] END C=350.0, class_weight=None, decision_function_shape=ovo, gamma=0.1, kernel=rbf;, score=0.467 total time=   1.5s\n",
      "[CV 2/5] END C=350.0, class_weight=None, decision_function_shape=ovo, gamma=0.01, kernel=rbf;, score=0.429 total time=   0.8s\n",
      "[CV 1/5] END C=350.0, class_weight=None, decision_function_shape=ovo, gamma=0.01, kernel=rbf;, score=0.374 total time=   0.9s\n",
      "[CV 3/5] END C=350.0, class_weight=None, decision_function_shape=ovo, gamma=0.01, kernel=rbf;, score=0.452 total time=   0.9s\n",
      "[CV 4/5] END C=350.0, class_weight=None, decision_function_shape=ovo, gamma=0.01, kernel=rbf;, score=0.489 total time=   0.8s\n"
     ]
    },
    {
     "name": "stdout",
     "output_type": "stream",
     "text": [
      "[CV 5/5] END C=350.0, class_weight=None, decision_function_shape=ovo, gamma=0.01, kernel=rbf;, score=0.433 total time=   0.9s\n",
      "[CV 4/5] END C=350.0, class_weight=None, decision_function_shape=ovo, gamma=0.1, kernel=rbf;, score=0.485 total time=   1.5s\n",
      "[CV 5/5] END C=350.0, class_weight=None, decision_function_shape=ovo, gamma=0.1, kernel=rbf;, score=0.458 total time=   1.5s\n",
      "[CV 1/5] END C=400.0, class_weight=balanced, decision_function_shape=ovr, gamma=scale, kernel=rbf;, score=0.322 total time=   1.3s\n",
      "[CV 2/5] END C=400.0, class_weight=balanced, decision_function_shape=ovr, gamma=scale, kernel=rbf;, score=0.354 total time=   1.2s\n",
      "[CV 3/5] END C=400.0, class_weight=balanced, decision_function_shape=ovr, gamma=scale, kernel=rbf;, score=0.394 total time=   1.3s\n",
      "[CV 4/5] END C=400.0, class_weight=balanced, decision_function_shape=ovr, gamma=scale, kernel=rbf;, score=0.446 total time=   1.3s\n",
      "[CV 5/5] END C=400.0, class_weight=balanced, decision_function_shape=ovr, gamma=scale, kernel=rbf;, score=0.417 total time=   1.3s\n",
      "[CV 1/5] END C=400.0, class_weight=balanced, decision_function_shape=ovr, gamma=auto, kernel=rbf;, score=0.397 total time=   1.2s\n",
      "[CV 2/5] END C=400.0, class_weight=balanced, decision_function_shape=ovr, gamma=auto, kernel=rbf;, score=0.444 total time=   1.1s\n",
      "[CV 3/5] END C=400.0, class_weight=balanced, decision_function_shape=ovr, gamma=auto, kernel=rbf;, score=0.472 total time=   1.2s\n",
      "[CV 4/5] END C=400.0, class_weight=balanced, decision_function_shape=ovr, gamma=auto, kernel=rbf;, score=0.519 total time=   1.2s\n",
      "[CV 5/5] END C=400.0, class_weight=balanced, decision_function_shape=ovr, gamma=auto, kernel=rbf;, score=0.535 total time=   1.3s\n",
      "[CV 1/5] END C=400.0, class_weight=balanced, decision_function_shape=ovr, gamma=1, kernel=rbf;, score=0.373 total time=   1.7s\n",
      "[CV 3/5] END C=400.0, class_weight=balanced, decision_function_shape=ovr, gamma=1, kernel=rbf;, score=0.440 total time=   1.8s\n",
      "[CV 2/5] END C=400.0, class_weight=balanced, decision_function_shape=ovr, gamma=1, kernel=rbf;, score=0.354 total time=   1.8s\n",
      "[CV 4/5] END C=400.0, class_weight=balanced, decision_function_shape=ovr, gamma=1, kernel=rbf;, score=0.408 total time=   1.8s\n",
      "[CV 1/5] END C=400.0, class_weight=balanced, decision_function_shape=ovr, gamma=0.1, kernel=rbf;, score=0.376 total time=   1.5s\n",
      "[CV 2/5] END C=400.0, class_weight=balanced, decision_function_shape=ovr, gamma=0.1, kernel=rbf;, score=0.363 total time=   1.5s\n",
      "[CV 5/5] END C=400.0, class_weight=balanced, decision_function_shape=ovr, gamma=1, kernel=rbf;, score=0.376 total time=   1.8s\n",
      "[CV 3/5] END C=400.0, class_weight=balanced, decision_function_shape=ovr, gamma=0.1, kernel=rbf;, score=0.464 total time=   1.5s\n",
      "[CV 1/5] END C=400.0, class_weight=balanced, decision_function_shape=ovr, gamma=0.01, kernel=rbf;, score=0.393 total time=   1.2s\n",
      "[CV 2/5] END C=400.0, class_weight=balanced, decision_function_shape=ovr, gamma=0.01, kernel=rbf;, score=0.438 total time=   1.2s\n",
      "[CV 3/5] END C=400.0, class_weight=balanced, decision_function_shape=ovr, gamma=0.01, kernel=rbf;, score=0.473 total time=   1.2s\n",
      "[CV 4/5] END C=400.0, class_weight=balanced, decision_function_shape=ovr, gamma=0.1, kernel=rbf;, score=0.419 total time=   1.6s\n",
      "[CV 4/5] END C=400.0, class_weight=balanced, decision_function_shape=ovr, gamma=0.01, kernel=rbf;, score=0.521 total time=   1.2s\n",
      "[CV 5/5] END C=400.0, class_weight=balanced, decision_function_shape=ovr, gamma=0.1, kernel=rbf;, score=0.454 total time=   1.6s\n",
      "[CV 5/5] END C=400.0, class_weight=balanced, decision_function_shape=ovr, gamma=0.01, kernel=rbf;, score=0.533 total time=   1.2s\n",
      "[CV 1/5] END C=400.0, class_weight=balanced, decision_function_shape=ovo, gamma=scale, kernel=rbf;, score=0.322 total time=   1.2s\n",
      "[CV 2/5] END C=400.0, class_weight=balanced, decision_function_shape=ovo, gamma=scale, kernel=rbf;, score=0.354 total time=   1.3s\n",
      "[CV 3/5] END C=400.0, class_weight=balanced, decision_function_shape=ovo, gamma=scale, kernel=rbf;, score=0.394 total time=   1.3s\n",
      "[CV 4/5] END C=400.0, class_weight=balanced, decision_function_shape=ovo, gamma=scale, kernel=rbf;, score=0.446 total time=   1.3s\n",
      "[CV 1/5] END C=400.0, class_weight=balanced, decision_function_shape=ovo, gamma=auto, kernel=rbf;, score=0.397 total time=   1.2s\n",
      "[CV 2/5] END C=400.0, class_weight=balanced, decision_function_shape=ovo, gamma=auto, kernel=rbf;, score=0.444 total time=   1.2s\n",
      "[CV 3/5] END C=400.0, class_weight=balanced, decision_function_shape=ovo, gamma=auto, kernel=rbf;, score=0.472 total time=   1.2s\n",
      "[CV 5/5] END C=400.0, class_weight=balanced, decision_function_shape=ovo, gamma=scale, kernel=rbf;, score=0.417 total time=   1.3s\n",
      "[CV 4/5] END C=400.0, class_weight=balanced, decision_function_shape=ovo, gamma=auto, kernel=rbf;, score=0.519 total time=   1.2s\n",
      "[CV 5/5] END C=400.0, class_weight=balanced, decision_function_shape=ovo, gamma=auto, kernel=rbf;, score=0.535 total time=   1.3s\n",
      "[CV 1/5] END C=400.0, class_weight=balanced, decision_function_shape=ovo, gamma=1, kernel=rbf;, score=0.373 total time=   1.8s\n",
      "[CV 1/5] END C=400.0, class_weight=balanced, decision_function_shape=ovo, gamma=0.1, kernel=rbf;, score=0.376 total time=   1.6s\n",
      "[CV 2/5] END C=400.0, class_weight=balanced, decision_function_shape=ovo, gamma=1, kernel=rbf;, score=0.354 total time=   1.7s\n",
      "[CV 3/5] END C=400.0, class_weight=balanced, decision_function_shape=ovo, gamma=1, kernel=rbf;, score=0.440 total time=   1.8s\n",
      "[CV 4/5] END C=400.0, class_weight=balanced, decision_function_shape=ovo, gamma=1, kernel=rbf;, score=0.408 total time=   1.8s\n",
      "[CV 5/5] END C=400.0, class_weight=balanced, decision_function_shape=ovo, gamma=1, kernel=rbf;, score=0.376 total time=   1.8s\n",
      "[CV 2/5] END C=400.0, class_weight=balanced, decision_function_shape=ovo, gamma=0.1, kernel=rbf;, score=0.363 total time=   1.5s\n",
      "[CV 3/5] END C=400.0, class_weight=balanced, decision_function_shape=ovo, gamma=0.1, kernel=rbf;, score=0.464 total time=   1.6s\n",
      "[CV 1/5] END C=400.0, class_weight=balanced, decision_function_shape=ovo, gamma=0.01, kernel=rbf;, score=0.393 total time=   1.2s\n",
      "[CV 2/5] END C=400.0, class_weight=balanced, decision_function_shape=ovo, gamma=0.01, kernel=rbf;, score=0.438 total time=   1.2s\n",
      "[CV 3/5] END C=400.0, class_weight=balanced, decision_function_shape=ovo, gamma=0.01, kernel=rbf;, score=0.473 total time=   1.2s\n",
      "[CV 4/5] END C=400.0, class_weight=balanced, decision_function_shape=ovo, gamma=0.01, kernel=rbf;, score=0.521 total time=   1.3s\n",
      "[CV 4/5] END C=400.0, class_weight=balanced, decision_function_shape=ovo, gamma=0.1, kernel=rbf;, score=0.419 total time=   1.7s\n",
      "[CV 5/5] END C=400.0, class_weight=balanced, decision_function_shape=ovo, gamma=0.1, kernel=rbf;, score=0.454 total time=   1.7s\n",
      "[CV 5/5] END C=400.0, class_weight=balanced, decision_function_shape=ovo, gamma=0.01, kernel=rbf;, score=0.533 total time=   1.2s\n",
      "[CV 1/5] END C=400.0, class_weight=None, decision_function_shape=ovr, gamma=scale, kernel=rbf;, score=0.322 total time=   1.3s\n",
      "[CV 2/5] END C=400.0, class_weight=None, decision_function_shape=ovr, gamma=scale, kernel=rbf;, score=0.354 total time=   1.2s\n",
      "[CV 1/5] END C=400.0, class_weight=None, decision_function_shape=ovr, gamma=auto, kernel=rbf;, score=0.383 total time=   0.9s\n",
      "[CV 2/5] END C=400.0, class_weight=None, decision_function_shape=ovr, gamma=auto, kernel=rbf;, score=0.413 total time=   0.9s\n",
      "[CV 3/5] END C=400.0, class_weight=None, decision_function_shape=ovr, gamma=auto, kernel=rbf;, score=0.459 total time=   0.9s\n",
      "[CV 3/5] END C=400.0, class_weight=None, decision_function_shape=ovr, gamma=scale, kernel=rbf;, score=0.394 total time=   1.3s\n",
      "[CV 4/5] END C=400.0, class_weight=None, decision_function_shape=ovr, gamma=scale, kernel=rbf;, score=0.446 total time=   1.3s\n",
      "[CV 5/5] END C=400.0, class_weight=None, decision_function_shape=ovr, gamma=scale, kernel=rbf;, score=0.417 total time=   1.3s\n",
      "[CV 4/5] END C=400.0, class_weight=None, decision_function_shape=ovr, gamma=auto, kernel=rbf;, score=0.477 total time=   0.9s\n",
      "[CV 5/5] END C=400.0, class_weight=None, decision_function_shape=ovr, gamma=auto, kernel=rbf;, score=0.444 total time=   0.9s\n",
      "[CV 2/5] END C=400.0, class_weight=None, decision_function_shape=ovr, gamma=1, kernel=rbf;, score=0.354 total time=   1.7s\n",
      "[CV 1/5] END C=400.0, class_weight=None, decision_function_shape=ovr, gamma=1, kernel=rbf;, score=0.373 total time=   1.8s\n",
      "[CV 3/5] END C=400.0, class_weight=None, decision_function_shape=ovr, gamma=1, kernel=rbf;, score=0.440 total time=   1.8s[CV 1/5] END C=400.0, class_weight=None, decision_function_shape=ovr, gamma=0.1, kernel=rbf;, score=0.329 total time=   1.5s\n",
      "\n",
      "[CV 4/5] END C=400.0, class_weight=None, decision_function_shape=ovr, gamma=1, kernel=rbf;, score=0.408 total time=   1.8s\n"
     ]
    },
    {
     "name": "stdout",
     "output_type": "stream",
     "text": [
      "[CV 5/5] END C=400.0, class_weight=None, decision_function_shape=ovr, gamma=1, kernel=rbf;, score=0.376 total time=   1.8s\n",
      "[CV 2/5] END C=400.0, class_weight=None, decision_function_shape=ovr, gamma=0.1, kernel=rbf;, score=0.352 total time=   1.5s\n",
      "[CV 3/5] END C=400.0, class_weight=None, decision_function_shape=ovr, gamma=0.1, kernel=rbf;, score=0.467 total time=   1.6s\n",
      "[CV 1/5] END C=400.0, class_weight=None, decision_function_shape=ovr, gamma=0.01, kernel=rbf;, score=0.388 total time=   0.8s\n",
      "[CV 2/5] END C=400.0, class_weight=None, decision_function_shape=ovr, gamma=0.01, kernel=rbf;, score=0.423 total time=   0.9s\n",
      "[CV 3/5] END C=400.0, class_weight=None, decision_function_shape=ovr, gamma=0.01, kernel=rbf;, score=0.465 total time=   0.9s\n",
      "[CV 4/5] END C=400.0, class_weight=None, decision_function_shape=ovr, gamma=0.01, kernel=rbf;, score=0.489 total time=   0.9s\n",
      "[CV 5/5] END C=400.0, class_weight=None, decision_function_shape=ovr, gamma=0.01, kernel=rbf;, score=0.444 total time=   0.9s\n",
      "[CV 4/5] END C=400.0, class_weight=None, decision_function_shape=ovr, gamma=0.1, kernel=rbf;, score=0.480 total time=   1.7s\n",
      "[CV 5/5] END C=400.0, class_weight=None, decision_function_shape=ovr, gamma=0.1, kernel=rbf;, score=0.450 total time=   1.7s\n",
      "[CV 1/5] END C=400.0, class_weight=None, decision_function_shape=ovo, gamma=auto, kernel=rbf;, score=0.383 total time=   0.9s\n",
      "[CV 1/5] END C=400.0, class_weight=None, decision_function_shape=ovo, gamma=scale, kernel=rbf;, score=0.322 total time=   1.3s\n",
      "[CV 2/5] END C=400.0, class_weight=None, decision_function_shape=ovo, gamma=scale, kernel=rbf;, score=0.354 total time=   1.2s\n",
      "[CV 3/5] END C=400.0, class_weight=None, decision_function_shape=ovo, gamma=scale, kernel=rbf;, score=0.394 total time=   1.3s\n",
      "[CV 4/5] END C=400.0, class_weight=None, decision_function_shape=ovo, gamma=scale, kernel=rbf;, score=0.446 total time=   1.3s\n",
      "[CV 5/5] END C=400.0, class_weight=None, decision_function_shape=ovo, gamma=scale, kernel=rbf;, score=0.417 total time=   1.4s\n",
      "[CV 2/5] END C=400.0, class_weight=None, decision_function_shape=ovo, gamma=auto, kernel=rbf;, score=0.413 total time=   0.9s\n",
      "[CV 3/5] END C=400.0, class_weight=None, decision_function_shape=ovo, gamma=auto, kernel=rbf;, score=0.459 total time=   0.9s\n",
      "[CV 5/5] END C=400.0, class_weight=None, decision_function_shape=ovo, gamma=auto, kernel=rbf;, score=0.444 total time=   0.9s\n",
      "[CV 4/5] END C=400.0, class_weight=None, decision_function_shape=ovo, gamma=auto, kernel=rbf;, score=0.477 total time=   0.9s\n",
      "[CV 1/5] END C=400.0, class_weight=None, decision_function_shape=ovo, gamma=1, kernel=rbf;, score=0.373 total time=   1.7s\n",
      "[CV 2/5] END C=400.0, class_weight=None, decision_function_shape=ovo, gamma=1, kernel=rbf;, score=0.354 total time=   1.8s\n",
      "[CV 1/5] END C=400.0, class_weight=None, decision_function_shape=ovo, gamma=0.1, kernel=rbf;, score=0.329 total time=   1.5s\n",
      "[CV 3/5] END C=400.0, class_weight=None, decision_function_shape=ovo, gamma=1, kernel=rbf;, score=0.440 total time=   1.8s\n",
      "[CV 4/5] END C=400.0, class_weight=None, decision_function_shape=ovo, gamma=1, kernel=rbf;, score=0.408 total time=   1.8s\n",
      "[CV 5/5] END C=400.0, class_weight=None, decision_function_shape=ovo, gamma=1, kernel=rbf;, score=0.376 total time=   1.8s\n",
      "[CV 2/5] END C=400.0, class_weight=None, decision_function_shape=ovo, gamma=0.1, kernel=rbf;, score=0.352 total time=   1.5s\n",
      "[CV 3/5] END C=400.0, class_weight=None, decision_function_shape=ovo, gamma=0.1, kernel=rbf;, score=0.467 total time=   1.5s\n",
      "[CV 2/5] END C=400.0, class_weight=None, decision_function_shape=ovo, gamma=0.01, kernel=rbf;, score=0.423 total time=   0.8s\n",
      "[CV 1/5] END C=400.0, class_weight=None, decision_function_shape=ovo, gamma=0.01, kernel=rbf;, score=0.388 total time=   0.8s\n",
      "[CV 3/5] END C=400.0, class_weight=None, decision_function_shape=ovo, gamma=0.01, kernel=rbf;, score=0.465 total time=   0.8s\n",
      "[CV 4/5] END C=400.0, class_weight=None, decision_function_shape=ovo, gamma=0.01, kernel=rbf;, score=0.489 total time=   0.8s\n",
      "[CV 5/5] END C=400.0, class_weight=None, decision_function_shape=ovo, gamma=0.01, kernel=rbf;, score=0.444 total time=   0.8s\n",
      "[CV 4/5] END C=400.0, class_weight=None, decision_function_shape=ovo, gamma=0.1, kernel=rbf;, score=0.480 total time=   1.4s\n",
      "[CV 5/5] END C=400.0, class_weight=None, decision_function_shape=ovo, gamma=0.1, kernel=rbf;, score=0.450 total time=   1.4s\n"
     ]
    },
    {
     "data": {
      "text/plain": [
       "GridSearchCV(estimator=SVC(class_weight='balanced'), n_jobs=-1,\n",
       "             param_grid={'C': array([200., 250., 300., 350., 400.]),\n",
       "                         'class_weight': ['balanced', None],\n",
       "                         'decision_function_shape': ['ovr', 'ovo'],\n",
       "                         'gamma': ['scale', 'auto', 1, 0.1, 0.01],\n",
       "                         'kernel': ['rbf']},\n",
       "             scoring=make_scorer(f1_score, average=None, labels=['Hispanic']),\n",
       "             verbose=3)"
      ]
     },
     "execution_count": 107,
     "metadata": {},
     "output_type": "execute_result"
    }
   ],
   "source": [
    "svm_grid.fit(X_train, y_train)"
   ]
  },
  {
   "cell_type": "code",
   "execution_count": 108,
   "metadata": {},
   "outputs": [
    {
     "data": {
      "text/plain": [
       "{'C': 250.0,\n",
       " 'class_weight': 'balanced',\n",
       " 'decision_function_shape': 'ovr',\n",
       " 'gamma': 'auto',\n",
       " 'kernel': 'rbf'}"
      ]
     },
     "execution_count": 108,
     "metadata": {},
     "output_type": "execute_result"
    }
   ],
   "source": [
    "svm_grid.best_params_"
   ]
  },
  {
   "cell_type": "code",
   "execution_count": 109,
   "metadata": {},
   "outputs": [
    {
     "name": "stdout",
     "output_type": "stream",
     "text": [
      "Test_Set_Scores \n",
      "----------------\n",
      "[[340  41   8]\n",
      " [ 28 139  37]\n",
      " [ 26 185 927]]\n",
      "              precision    recall  f1-score   support\n",
      "\n",
      "       Black       0.86      0.87      0.87       389\n",
      "    Hispanic       0.38      0.68      0.49       204\n",
      "       White       0.95      0.81      0.88      1138\n",
      "\n",
      "    accuracy                           0.81      1731\n",
      "   macro avg       0.73      0.79      0.75      1731\n",
      "weighted avg       0.87      0.81      0.83      1731\n",
      "\n",
      "\n",
      "Train_Set_Scores \n",
      "----------------\n",
      "[[ 845   42   22]\n",
      " [  24  379   72]\n",
      " [  47  443 2164]]\n",
      "              precision    recall  f1-score   support\n",
      "\n",
      "       Black       0.92      0.93      0.93       909\n",
      "    Hispanic       0.44      0.80      0.57       475\n",
      "       White       0.96      0.82      0.88      2654\n",
      "\n",
      "    accuracy                           0.84      4038\n",
      "   macro avg       0.77      0.85      0.79      4038\n",
      "weighted avg       0.89      0.84      0.85      4038\n",
      "\n"
     ]
    }
   ],
   "source": [
    "eval_metric(svm_grid, X_train, y_train, X_test, y_test)"
   ]
  },
  {
   "cell_type": "code",
   "execution_count": 110,
   "metadata": {},
   "outputs": [],
   "source": [
    "y_pred = svm_grid.predict(X_test)\n",
    "svc_grid_f1 = f1_score(y_test, y_pred, average='weighted')\n",
    "svc_grid_recall = recall_score(y_test, y_pred, average='weighted')"
   ]
  },
  {
   "cell_type": "code",
   "execution_count": 111,
   "metadata": {},
   "outputs": [
    {
     "data": {
      "image/png": "[encoded data removed]",
      "text/plain": [
       "<Figure size 1152x720 with 1 Axes>"
      ]
     },
     "metadata": {
      "needs_background": "light"
     },
     "output_type": "display_data"
    }
   ],
   "source": [
    "plot_multiclass_roc(svm_grid,\n",
    "                    X_test,\n",
    "                    y_test,\n",
    "                    n_classes=3,\n",
    "                    figsize=(16, 10))"
   ]
  },
  {
   "cell_type": "markdown",
   "metadata": {
    "heading_collapsed": true,
    "hidden": true,
    "id": "bDX_iLIls74C"
   },
   "source": [
    "## 3. RF"
   ]
  },
  {
   "cell_type": "markdown",
   "metadata": {
    "heading_collapsed": true,
    "hidden": true,
    "id": "qaTzrT6P1b7G"
   },
   "source": [
    "### Vanilla RF Model"
   ]
  },
  {
   "cell_type": "code",
   "execution_count": 112,
   "metadata": {
    "id": "gvtqL0Qg2CKf"
   },
   "outputs": [],
   "source": [
    "rf = RandomForestClassifier()"
   ]
  },
  {
   "cell_type": "code",
   "execution_count": 113,
   "metadata": {},
   "outputs": [
    {
     "data": {
      "text/plain": [
       "RandomForestClassifier()"
      ]
     },
     "execution_count": 113,
     "metadata": {},
     "output_type": "execute_result"
    }
   ],
   "source": [
    "rf.fit(X_train, y_train)"
   ]
  },
  {
   "cell_type": "code",
   "execution_count": 114,
   "metadata": {},
   "outputs": [
    {
     "name": "stdout",
     "output_type": "stream",
     "text": [
      "Test_Set_Scores \n",
      "----------------\n",
      "[[ 297    0   92]\n",
      " [  21   11  172]\n",
      " [  21    2 1115]]\n",
      "              precision    recall  f1-score   support\n",
      "\n",
      "       Black       0.88      0.76      0.82       389\n",
      "    Hispanic       0.85      0.05      0.10       204\n",
      "       White       0.81      0.98      0.89      1138\n",
      "\n",
      "    accuracy                           0.82      1731\n",
      "   macro avg       0.84      0.60      0.60      1731\n",
      "weighted avg       0.83      0.82      0.78      1731\n",
      "\n",
      "\n",
      "Train_Set_Scores \n",
      "----------------\n",
      "[[ 909    0    0]\n",
      " [   0  475    0]\n",
      " [   0    0 2654]]\n",
      "              precision    recall  f1-score   support\n",
      "\n",
      "       Black       1.00      1.00      1.00       909\n",
      "    Hispanic       1.00      1.00      1.00       475\n",
      "       White       1.00      1.00      1.00      2654\n",
      "\n",
      "    accuracy                           1.00      4038\n",
      "   macro avg       1.00      1.00      1.00      4038\n",
      "weighted avg       1.00      1.00      1.00      4038\n",
      "\n"
     ]
    }
   ],
   "source": [
    "eval_metric(rf, X_train, y_train, X_test, y_test)"
   ]
  },
  {
   "cell_type": "code",
   "execution_count": 115,
   "metadata": {},
   "outputs": [],
   "source": [
    "y_pred = rf.predict(X_test)\n",
    "rf_f1 = f1_score(y_test, y_pred, average='weighted')\n",
    "rf_recall = recall_score(y_test, y_pred, average='weighted')"
   ]
  },
  {
   "cell_type": "markdown",
   "metadata": {
    "heading_collapsed": true,
    "hidden": true,
    "id": "MkLAZ_M41b7G"
   },
   "source": [
    "### RF Model GridsearchCV"
   ]
  },
  {
   "cell_type": "code",
   "execution_count": 116,
   "metadata": {
    "id": "hpmPr3202EbD"
   },
   "outputs": [],
   "source": [
    "param_grid = {'n_estimators':[400,500],\n",
    "             'criterion': [\"gini\",\"entropy\"],\n",
    "             'max_depth':[10,12,14,16],\n",
    "             'min_samples_split':[18,20,22],\n",
    "             'class_weight': ['balanced',None]}"
   ]
  },
  {
   "cell_type": "code",
   "execution_count": 117,
   "metadata": {},
   "outputs": [],
   "source": [
    "rf_model = RandomForestClassifier()\n",
    "rf_grid = GridSearchCV(rf_model,\n",
    "                        param_grid,\n",
    "                        verbose=3,\n",
    "                        scoring=f1_Hispanic,\n",
    "                        refit=True,\n",
    "                        n_jobs=-1)"
   ]
  },
  {
   "cell_type": "code",
   "execution_count": 118,
   "metadata": {
    "scrolled": true
   },
   "outputs": [
    {
     "name": "stdout",
     "output_type": "stream",
     "text": [
      "Fitting 5 folds for each of 96 candidates, totalling 480 fits\n",
      "[CV 1/5] END class_weight=balanced, criterion=gini, max_depth=10, min_samples_split=18, n_estimators=400;, score=0.305 total time=   4.6s\n",
      "[CV 3/5] END class_weight=balanced, criterion=gini, max_depth=10, min_samples_split=18, n_estimators=400;, score=0.327 total time=   4.6s\n",
      "[CV 5/5] END class_weight=balanced, criterion=gini, max_depth=10, min_samples_split=18, n_estimators=400;, score=0.335 total time=   4.7s\n",
      "[CV 4/5] END class_weight=balanced, criterion=gini, max_depth=10, min_samples_split=18, n_estimators=400;, score=0.379 total time=   4.7s\n",
      "[CV 2/5] END class_weight=balanced, criterion=gini, max_depth=10, min_samples_split=18, n_estimators=400;, score=0.395 total time=   4.7s\n",
      "[CV 3/5] END class_weight=balanced, criterion=gini, max_depth=10, min_samples_split=18, n_estimators=500;, score=0.322 total time=   5.8s\n",
      "[CV 1/5] END class_weight=balanced, criterion=gini, max_depth=10, min_samples_split=18, n_estimators=500;, score=0.307 total time=   5.9s\n",
      "[CV 2/5] END class_weight=balanced, criterion=gini, max_depth=10, min_samples_split=18, n_estimators=500;, score=0.381 total time=   5.9s\n",
      "[CV 1/5] END class_weight=balanced, criterion=gini, max_depth=10, min_samples_split=20, n_estimators=400;, score=0.329 total time=   4.7s\n",
      "[CV 2/5] END class_weight=balanced, criterion=gini, max_depth=10, min_samples_split=20, n_estimators=400;, score=0.374 total time=   4.7s\n",
      "[CV 3/5] END class_weight=balanced, criterion=gini, max_depth=10, min_samples_split=20, n_estimators=400;, score=0.320 total time=   4.9s\n",
      "[CV 5/5] END class_weight=balanced, criterion=gini, max_depth=10, min_samples_split=18, n_estimators=500;, score=0.343 total time=   5.8s\n",
      "[CV 4/5] END class_weight=balanced, criterion=gini, max_depth=10, min_samples_split=20, n_estimators=400;, score=0.405 total time=   4.7s\n",
      "[CV 4/5] END class_weight=balanced, criterion=gini, max_depth=10, min_samples_split=18, n_estimators=500;, score=0.395 total time=   5.9s\n",
      "[CV 5/5] END class_weight=balanced, criterion=gini, max_depth=10, min_samples_split=20, n_estimators=400;, score=0.307 total time=   4.8s\n",
      "[CV 1/5] END class_weight=balanced, criterion=gini, max_depth=10, min_samples_split=20, n_estimators=500;, score=0.320 total time=   6.0s\n",
      "[CV 1/5] END class_weight=balanced, criterion=gini, max_depth=10, min_samples_split=22, n_estimators=400;, score=0.343 total time=   4.6s\n",
      "[CV 2/5] END class_weight=balanced, criterion=gini, max_depth=10, min_samples_split=22, n_estimators=400;, score=0.400 total time=   4.5s\n",
      "[CV 2/5] END class_weight=balanced, criterion=gini, max_depth=10, min_samples_split=20, n_estimators=500;, score=0.389 total time=   5.8s\n",
      "[CV 3/5] END class_weight=balanced, criterion=gini, max_depth=10, min_samples_split=20, n_estimators=500;, score=0.337 total time=   5.8s\n",
      "[CV 3/5] END class_weight=balanced, criterion=gini, max_depth=10, min_samples_split=22, n_estimators=400;, score=0.319 total time=   4.7s\n",
      "[CV 4/5] END class_weight=balanced, criterion=gini, max_depth=10, min_samples_split=20, n_estimators=500;, score=0.438 total time=   5.8s\n",
      "[CV 5/5] END class_weight=balanced, criterion=gini, max_depth=10, min_samples_split=20, n_estimators=500;, score=0.337 total time=   5.7s\n",
      "[CV 4/5] END class_weight=balanced, criterion=gini, max_depth=10, min_samples_split=22, n_estimators=400;, score=0.378 total time=   4.6s\n",
      "[CV 5/5] END class_weight=balanced, criterion=gini, max_depth=10, min_samples_split=22, n_estimators=400;, score=0.345 total time=   4.6s\n",
      "[CV 1/5] END class_weight=balanced, criterion=gini, max_depth=10, min_samples_split=22, n_estimators=500;, score=0.320 total time=   5.7s\n",
      "[CV 2/5] END class_weight=balanced, criterion=gini, max_depth=10, min_samples_split=22, n_estimators=500;, score=0.414 total time=   5.7s\n",
      "[CV 4/5] END class_weight=balanced, criterion=gini, max_depth=10, min_samples_split=22, n_estimators=500;, score=0.390 total time=   5.8s\n",
      "[CV 3/5] END class_weight=balanced, criterion=gini, max_depth=10, min_samples_split=22, n_estimators=500;, score=0.313 total time=   5.8s\n",
      "[CV 5/5] END class_weight=balanced, criterion=gini, max_depth=10, min_samples_split=22, n_estimators=500;, score=0.341 total time=   5.7s\n",
      "[CV 1/5] END class_weight=balanced, criterion=gini, max_depth=12, min_samples_split=18, n_estimators=400;, score=0.282 total time=   5.1s\n",
      "[CV 2/5] END class_weight=balanced, criterion=gini, max_depth=12, min_samples_split=18, n_estimators=400;, score=0.372 total time=   5.0s\n",
      "[CV 3/5] END class_weight=balanced, criterion=gini, max_depth=12, min_samples_split=18, n_estimators=400;, score=0.301 total time=   5.0s\n",
      "[CV 4/5] END class_weight=balanced, criterion=gini, max_depth=12, min_samples_split=18, n_estimators=400;, score=0.343 total time=   5.0s\n",
      "[CV 5/5] END class_weight=balanced, criterion=gini, max_depth=12, min_samples_split=18, n_estimators=400;, score=0.272 total time=   5.0s\n",
      "[CV 1/5] END class_weight=balanced, criterion=gini, max_depth=12, min_samples_split=18, n_estimators=500;, score=0.267 total time=   6.3s\n",
      "[CV 2/5] END class_weight=balanced, criterion=gini, max_depth=12, min_samples_split=18, n_estimators=500;, score=0.329 total time=   6.3s\n",
      "[CV 4/5] END class_weight=balanced, criterion=gini, max_depth=12, min_samples_split=18, n_estimators=500;, score=0.326 total time=   6.2s\n",
      "[CV 3/5] END class_weight=balanced, criterion=gini, max_depth=12, min_samples_split=18, n_estimators=500;, score=0.288 total time=   6.3s\n",
      "[CV 5/5] END class_weight=balanced, criterion=gini, max_depth=12, min_samples_split=18, n_estimators=500;, score=0.264 total time=   6.3s\n",
      "[CV 1/5] END class_weight=balanced, criterion=gini, max_depth=12, min_samples_split=20, n_estimators=400;, score=0.273 total time=   5.0s\n",
      "[CV 2/5] END class_weight=balanced, criterion=gini, max_depth=12, min_samples_split=20, n_estimators=400;, score=0.373 total time=   4.9s\n",
      "[CV 3/5] END class_weight=balanced, criterion=gini, max_depth=12, min_samples_split=20, n_estimators=400;, score=0.329 total time=   4.9s\n",
      "[CV 5/5] END class_weight=balanced, criterion=gini, max_depth=12, min_samples_split=20, n_estimators=400;, score=0.270 total time=   5.0s\n",
      "[CV 4/5] END class_weight=balanced, criterion=gini, max_depth=12, min_samples_split=20, n_estimators=400;, score=0.389 total time=   5.0s\n",
      "[CV 1/5] END class_weight=balanced, criterion=gini, max_depth=12, min_samples_split=20, n_estimators=500;, score=0.329 total time=   6.1s\n",
      "[CV 2/5] END class_weight=balanced, criterion=gini, max_depth=12, min_samples_split=20, n_estimators=500;, score=0.340 total time=   6.2s\n",
      "[CV 3/5] END class_weight=balanced, criterion=gini, max_depth=12, min_samples_split=20, n_estimators=500;, score=0.297 total time=   6.4s\n",
      "[CV 1/5] END class_weight=balanced, criterion=gini, max_depth=12, min_samples_split=22, n_estimators=400;, score=0.319 total time=   5.2s\n",
      "[CV 4/5] END class_weight=balanced, criterion=gini, max_depth=12, min_samples_split=20, n_estimators=500;, score=0.417 total time=   6.4s\n",
      "[CV 5/5] END class_weight=balanced, criterion=gini, max_depth=12, min_samples_split=20, n_estimators=500;, score=0.276 total time=   6.4s\n",
      "[CV 3/5] END class_weight=balanced, criterion=gini, max_depth=12, min_samples_split=22, n_estimators=400;, score=0.304 total time=   5.1s\n",
      "[CV 2/5] END class_weight=balanced, criterion=gini, max_depth=12, min_samples_split=22, n_estimators=400;, score=0.378 total time=   5.2s\n",
      "[CV 4/5] END class_weight=balanced, criterion=gini, max_depth=12, min_samples_split=22, n_estimators=400;, score=0.365 total time=   5.2s\n",
      "[CV 5/5] END class_weight=balanced, criterion=gini, max_depth=12, min_samples_split=22, n_estimators=400;, score=0.257 total time=   5.1s\n",
      "[CV 1/5] END class_weight=balanced, criterion=gini, max_depth=12, min_samples_split=22, n_estimators=500;, score=0.325 total time=   6.4s\n",
      "[CV 2/5] END class_weight=balanced, criterion=gini, max_depth=12, min_samples_split=22, n_estimators=500;, score=0.381 total time=   6.2s\n",
      "[CV 3/5] END class_weight=balanced, criterion=gini, max_depth=12, min_samples_split=22, n_estimators=500;, score=0.321 total time=   6.2s\n",
      "[CV 1/5] END class_weight=balanced, criterion=gini, max_depth=14, min_samples_split=18, n_estimators=400;, score=0.267 total time=   5.3s\n"
     ]
    },
    {
     "name": "stdout",
     "output_type": "stream",
     "text": [
      "[CV 4/5] END class_weight=balanced, criterion=gini, max_depth=12, min_samples_split=22, n_estimators=500;, score=0.438 total time=   6.2s\n",
      "[CV 5/5] END class_weight=balanced, criterion=gini, max_depth=12, min_samples_split=22, n_estimators=500;, score=0.299 total time=   6.3s\n",
      "[CV 2/5] END class_weight=balanced, criterion=gini, max_depth=14, min_samples_split=18, n_estimators=400;, score=0.351 total time=   5.2s\n",
      "[CV 3/5] END class_weight=balanced, criterion=gini, max_depth=14, min_samples_split=18, n_estimators=400;, score=0.304 total time=   5.3s\n",
      "[CV 4/5] END class_weight=balanced, criterion=gini, max_depth=14, min_samples_split=18, n_estimators=400;, score=0.312 total time=   5.5s\n",
      "[CV 5/5] END class_weight=balanced, criterion=gini, max_depth=14, min_samples_split=18, n_estimators=400;, score=0.198 total time=   5.5s\n",
      "[CV 1/5] END class_weight=balanced, criterion=gini, max_depth=14, min_samples_split=18, n_estimators=500;, score=0.263 total time=   6.8s\n",
      "[CV 1/5] END class_weight=balanced, criterion=gini, max_depth=14, min_samples_split=20, n_estimators=400;, score=0.284 total time=   5.5s\n",
      "[CV 2/5] END class_weight=balanced, criterion=gini, max_depth=14, min_samples_split=18, n_estimators=500;, score=0.354 total time=   6.8s\n",
      "[CV 3/5] END class_weight=balanced, criterion=gini, max_depth=14, min_samples_split=18, n_estimators=500;, score=0.254 total time=   6.8s\n",
      "[CV 4/5] END class_weight=balanced, criterion=gini, max_depth=14, min_samples_split=18, n_estimators=500;, score=0.286 total time=   6.9s\n",
      "[CV 5/5] END class_weight=balanced, criterion=gini, max_depth=14, min_samples_split=18, n_estimators=500;, score=0.124 total time=   6.9s\n",
      "[CV 2/5] END class_weight=balanced, criterion=gini, max_depth=14, min_samples_split=20, n_estimators=400;, score=0.313 total time=   5.5s\n",
      "[CV 3/5] END class_weight=balanced, criterion=gini, max_depth=14, min_samples_split=20, n_estimators=400;, score=0.306 total time=   5.4s\n",
      "[CV 4/5] END class_weight=balanced, criterion=gini, max_depth=14, min_samples_split=20, n_estimators=400;, score=0.353 total time=   5.5s\n",
      "[CV 5/5] END class_weight=balanced, criterion=gini, max_depth=14, min_samples_split=20, n_estimators=400;, score=0.212 total time=   5.5s\n",
      "[CV 1/5] END class_weight=balanced, criterion=gini, max_depth=14, min_samples_split=20, n_estimators=500;, score=0.276 total time=   7.0s\n",
      "[CV 2/5] END class_weight=balanced, criterion=gini, max_depth=14, min_samples_split=20, n_estimators=500;, score=0.333 total time=   6.8s\n",
      "[CV 3/5] END class_weight=balanced, criterion=gini, max_depth=14, min_samples_split=20, n_estimators=500;, score=0.290 total time=   6.8s\n",
      "[CV 4/5] END class_weight=balanced, criterion=gini, max_depth=14, min_samples_split=20, n_estimators=500;, score=0.333 total time=   6.8s\n",
      "[CV 1/5] END class_weight=balanced, criterion=gini, max_depth=14, min_samples_split=22, n_estimators=400;, score=0.312 total time=   5.4s\n",
      "[CV 5/5] END class_weight=balanced, criterion=gini, max_depth=14, min_samples_split=20, n_estimators=500;, score=0.248 total time=   6.9s\n",
      "[CV 2/5] END class_weight=balanced, criterion=gini, max_depth=14, min_samples_split=22, n_estimators=400;, score=0.321 total time=   5.4s\n",
      "[CV 3/5] END class_weight=balanced, criterion=gini, max_depth=14, min_samples_split=22, n_estimators=400;, score=0.278 total time=   5.6s\n",
      "[CV 4/5] END class_weight=balanced, criterion=gini, max_depth=14, min_samples_split=22, n_estimators=400;, score=0.348 total time=   5.6s\n",
      "[CV 5/5] END class_weight=balanced, criterion=gini, max_depth=14, min_samples_split=22, n_estimators=400;, score=0.230 total time=   5.5s\n",
      "[CV 1/5] END class_weight=balanced, criterion=gini, max_depth=14, min_samples_split=22, n_estimators=500;, score=0.282 total time=   6.8s\n",
      "[CV 2/5] END class_weight=balanced, criterion=gini, max_depth=14, min_samples_split=22, n_estimators=500;, score=0.312 total time=   6.9s\n",
      "[CV 3/5] END class_weight=balanced, criterion=gini, max_depth=14, min_samples_split=22, n_estimators=500;, score=0.291 total time=   6.8s\n",
      "[CV 4/5] END class_weight=balanced, criterion=gini, max_depth=14, min_samples_split=22, n_estimators=500;, score=0.346 total time=   7.0s\n",
      "[CV 1/5] END class_weight=balanced, criterion=gini, max_depth=16, min_samples_split=18, n_estimators=400;, score=0.250 total time=   5.8s\n",
      "[CV 5/5] END class_weight=balanced, criterion=gini, max_depth=14, min_samples_split=22, n_estimators=500;, score=0.241 total time=   6.9s\n",
      "[CV 2/5] END class_weight=balanced, criterion=gini, max_depth=16, min_samples_split=18, n_estimators=400;, score=0.306 total time=   5.8s\n",
      "[CV 3/5] END class_weight=balanced, criterion=gini, max_depth=16, min_samples_split=18, n_estimators=400;, score=0.244 total time=   5.7s\n",
      "[CV 4/5] END class_weight=balanced, criterion=gini, max_depth=16, min_samples_split=18, n_estimators=400;, score=0.317 total time=   5.8s\n",
      "[CV 5/5] END class_weight=balanced, criterion=gini, max_depth=16, min_samples_split=18, n_estimators=400;, score=0.175 total time=   5.7s\n",
      "[CV 1/5] END class_weight=balanced, criterion=gini, max_depth=16, min_samples_split=18, n_estimators=500;, score=0.239 total time=   7.2s\n",
      "[CV 2/5] END class_weight=balanced, criterion=gini, max_depth=16, min_samples_split=18, n_estimators=500;, score=0.308 total time=   7.3s\n",
      "[CV 3/5] END class_weight=balanced, criterion=gini, max_depth=16, min_samples_split=18, n_estimators=500;, score=0.229 total time=   7.3s\n",
      "[CV 1/5] END class_weight=balanced, criterion=gini, max_depth=16, min_samples_split=20, n_estimators=400;, score=0.246 total time=   5.6s\n",
      "[CV 4/5] END class_weight=balanced, criterion=gini, max_depth=16, min_samples_split=18, n_estimators=500;, score=0.288 total time=   7.1s\n",
      "[CV 5/5] END class_weight=balanced, criterion=gini, max_depth=16, min_samples_split=18, n_estimators=500;, score=0.189 total time=   7.3s\n",
      "[CV 2/5] END class_weight=balanced, criterion=gini, max_depth=16, min_samples_split=20, n_estimators=400;, score=0.316 total time=   5.7s\n",
      "[CV 3/5] END class_weight=balanced, criterion=gini, max_depth=16, min_samples_split=20, n_estimators=400;, score=0.271 total time=   5.6s\n",
      "[CV 4/5] END class_weight=balanced, criterion=gini, max_depth=16, min_samples_split=20, n_estimators=400;, score=0.310 total time=   5.6s\n",
      "[CV 5/5] END class_weight=balanced, criterion=gini, max_depth=16, min_samples_split=20, n_estimators=400;, score=0.207 total time=   5.9s\n",
      "[CV 2/5] END class_weight=balanced, criterion=gini, max_depth=16, min_samples_split=20, n_estimators=500;, score=0.307 total time=   7.1s\n",
      "[CV 1/5] END class_weight=balanced, criterion=gini, max_depth=16, min_samples_split=20, n_estimators=500;, score=0.271 total time=   7.2s\n",
      "[CV 3/5] END class_weight=balanced, criterion=gini, max_depth=16, min_samples_split=20, n_estimators=500;, score=0.271 total time=   7.1s\n",
      "[CV 1/5] END class_weight=balanced, criterion=gini, max_depth=16, min_samples_split=22, n_estimators=400;, score=0.280 total time=   5.7s\n",
      "[CV 4/5] END class_weight=balanced, criterion=gini, max_depth=16, min_samples_split=20, n_estimators=500;, score=0.328 total time=   7.3s\n",
      "[CV 5/5] END class_weight=balanced, criterion=gini, max_depth=16, min_samples_split=20, n_estimators=500;, score=0.183 total time=   7.2s\n",
      "[CV 2/5] END class_weight=balanced, criterion=gini, max_depth=16, min_samples_split=22, n_estimators=400;, score=0.291 total time=   5.8s\n",
      "[CV 3/5] END class_weight=balanced, criterion=gini, max_depth=16, min_samples_split=22, n_estimators=400;, score=0.317 total time=   5.8s\n",
      "[CV 4/5] END class_weight=balanced, criterion=gini, max_depth=16, min_samples_split=22, n_estimators=400;, score=0.338 total time=   5.7s\n",
      "[CV 5/5] END class_weight=balanced, criterion=gini, max_depth=16, min_samples_split=22, n_estimators=400;, score=0.229 total time=   5.7s\n",
      "[CV 1/5] END class_weight=balanced, criterion=gini, max_depth=16, min_samples_split=22, n_estimators=500;, score=0.292 total time=   7.1s\n",
      "[CV 2/5] END class_weight=balanced, criterion=gini, max_depth=16, min_samples_split=22, n_estimators=500;, score=0.327 total time=   7.1s\n",
      "[CV 3/5] END class_weight=balanced, criterion=gini, max_depth=16, min_samples_split=22, n_estimators=500;, score=0.313 total time=   7.2s\n",
      "[CV 4/5] END class_weight=balanced, criterion=gini, max_depth=16, min_samples_split=22, n_estimators=500;, score=0.321 total time=   7.1s\n"
     ]
    },
    {
     "name": "stdout",
     "output_type": "stream",
     "text": [
      "[CV 5/5] END class_weight=balanced, criterion=gini, max_depth=16, min_samples_split=22, n_estimators=500;, score=0.229 total time=   7.1s\n",
      "[CV 1/5] END class_weight=balanced, criterion=entropy, max_depth=10, min_samples_split=18, n_estimators=400;, score=0.354 total time=   6.9s\n",
      "[CV 2/5] END class_weight=balanced, criterion=entropy, max_depth=10, min_samples_split=18, n_estimators=400;, score=0.366 total time=   7.1s\n",
      "[CV 3/5] END class_weight=balanced, criterion=entropy, max_depth=10, min_samples_split=18, n_estimators=400;, score=0.298 total time=   7.1s\n",
      "[CV 4/5] END class_weight=balanced, criterion=entropy, max_depth=10, min_samples_split=18, n_estimators=400;, score=0.416 total time=   7.1s\n",
      "[CV 5/5] END class_weight=balanced, criterion=entropy, max_depth=10, min_samples_split=18, n_estimators=400;, score=0.329 total time=   7.0s\n",
      "[CV 1/5] END class_weight=balanced, criterion=entropy, max_depth=10, min_samples_split=18, n_estimators=500;, score=0.309 total time=   8.7s\n",
      "[CV 2/5] END class_weight=balanced, criterion=entropy, max_depth=10, min_samples_split=18, n_estimators=500;, score=0.395 total time=   8.7s\n",
      "[CV 3/5] END class_weight=balanced, criterion=entropy, max_depth=10, min_samples_split=18, n_estimators=500;, score=0.315 total time=   8.7s\n",
      "[CV 4/5] END class_weight=balanced, criterion=entropy, max_depth=10, min_samples_split=18, n_estimators=500;, score=0.382 total time=   8.8s\n",
      "[CV 1/5] END class_weight=balanced, criterion=entropy, max_depth=10, min_samples_split=20, n_estimators=400;, score=0.346 total time=   7.1s\n",
      "[CV 2/5] END class_weight=balanced, criterion=entropy, max_depth=10, min_samples_split=20, n_estimators=400;, score=0.386 total time=   6.8s\n",
      "[CV 5/5] END class_weight=balanced, criterion=entropy, max_depth=10, min_samples_split=18, n_estimators=500;, score=0.327 total time=   8.8s\n",
      "[CV 3/5] END class_weight=balanced, criterion=entropy, max_depth=10, min_samples_split=20, n_estimators=400;, score=0.318 total time=   6.9s\n",
      "[CV 4/5] END class_weight=balanced, criterion=entropy, max_depth=10, min_samples_split=20, n_estimators=400;, score=0.405 total time=   6.9s\n",
      "[CV 5/5] END class_weight=balanced, criterion=entropy, max_depth=10, min_samples_split=20, n_estimators=400;, score=0.279 total time=   6.9s\n",
      "[CV 1/5] END class_weight=balanced, criterion=entropy, max_depth=10, min_samples_split=20, n_estimators=500;, score=0.333 total time=   8.6s\n",
      "[CV 2/5] END class_weight=balanced, criterion=entropy, max_depth=10, min_samples_split=20, n_estimators=500;, score=0.398 total time=   8.7s\n",
      "[CV 1/5] END class_weight=balanced, criterion=entropy, max_depth=10, min_samples_split=22, n_estimators=400;, score=0.324 total time=   6.9s\n",
      "[CV 3/5] END class_weight=balanced, criterion=entropy, max_depth=10, min_samples_split=20, n_estimators=500;, score=0.335 total time=   8.9s\n",
      "[CV 4/5] END class_weight=balanced, criterion=entropy, max_depth=10, min_samples_split=20, n_estimators=500;, score=0.420 total time=   8.5s\n",
      "[CV 5/5] END class_weight=balanced, criterion=entropy, max_depth=10, min_samples_split=20, n_estimators=500;, score=0.329 total time=   8.8s\n",
      "[CV 2/5] END class_weight=balanced, criterion=entropy, max_depth=10, min_samples_split=22, n_estimators=400;, score=0.402 total time=   6.8s\n",
      "[CV 3/5] END class_weight=balanced, criterion=entropy, max_depth=10, min_samples_split=22, n_estimators=400;, score=0.317 total time=   6.9s\n",
      "[CV 4/5] END class_weight=balanced, criterion=entropy, max_depth=10, min_samples_split=22, n_estimators=400;, score=0.425 total time=   6.8s\n",
      "[CV 5/5] END class_weight=balanced, criterion=entropy, max_depth=10, min_samples_split=22, n_estimators=400;, score=0.305 total time=   6.9s\n",
      "[CV 1/5] END class_weight=balanced, criterion=entropy, max_depth=10, min_samples_split=22, n_estimators=500;, score=0.299 total time=   8.6s\n",
      "[CV 2/5] END class_weight=balanced, criterion=entropy, max_depth=10, min_samples_split=22, n_estimators=500;, score=0.386 total time=   8.8s\n",
      "[CV 3/5] END class_weight=balanced, criterion=entropy, max_depth=10, min_samples_split=22, n_estimators=500;, score=0.317 total time=   8.5s\n",
      "[CV 4/5] END class_weight=balanced, criterion=entropy, max_depth=10, min_samples_split=22, n_estimators=500;, score=0.405 total time=   8.7s\n",
      "[CV 1/5] END class_weight=balanced, criterion=entropy, max_depth=12, min_samples_split=18, n_estimators=400;, score=0.288 total time=   7.4s\n",
      "[CV 5/5] END class_weight=balanced, criterion=entropy, max_depth=10, min_samples_split=22, n_estimators=500;, score=0.347 total time=   8.6s\n",
      "[CV 2/5] END class_weight=balanced, criterion=entropy, max_depth=12, min_samples_split=18, n_estimators=400;, score=0.327 total time=   7.4s\n",
      "[CV 3/5] END class_weight=balanced, criterion=entropy, max_depth=12, min_samples_split=18, n_estimators=400;, score=0.318 total time=   7.5s\n",
      "[CV 4/5] END class_weight=balanced, criterion=entropy, max_depth=12, min_samples_split=18, n_estimators=400;, score=0.326 total time=   7.4s\n",
      "[CV 5/5] END class_weight=balanced, criterion=entropy, max_depth=12, min_samples_split=18, n_estimators=400;, score=0.227 total time=   7.6s\n",
      "[CV 1/5] END class_weight=balanced, criterion=entropy, max_depth=12, min_samples_split=18, n_estimators=500;, score=0.301 total time=   9.3s\n",
      "[CV 3/5] END class_weight=balanced, criterion=entropy, max_depth=12, min_samples_split=18, n_estimators=500;, score=0.291 total time=   9.3s\n",
      "[CV 2/5] END class_weight=balanced, criterion=entropy, max_depth=12, min_samples_split=18, n_estimators=500;, score=0.359 total time=   9.5s\n",
      "[CV 4/5] END class_weight=balanced, criterion=entropy, max_depth=12, min_samples_split=18, n_estimators=500;, score=0.348 total time=   9.4s\n",
      "[CV 1/5] END class_weight=balanced, criterion=entropy, max_depth=12, min_samples_split=20, n_estimators=400;, score=0.280 total time=   7.4s\n",
      "[CV 5/5] END class_weight=balanced, criterion=entropy, max_depth=12, min_samples_split=18, n_estimators=500;, score=0.222 total time=   9.4s\n",
      "[CV 2/5] END class_weight=balanced, criterion=entropy, max_depth=12, min_samples_split=20, n_estimators=400;, score=0.346 total time=   7.3s\n",
      "[CV 3/5] END class_weight=balanced, criterion=entropy, max_depth=12, min_samples_split=20, n_estimators=400;, score=0.289 total time=   7.6s\n",
      "[CV 4/5] END class_weight=balanced, criterion=entropy, max_depth=12, min_samples_split=20, n_estimators=400;, score=0.350 total time=   7.3s\n",
      "[CV 5/5] END class_weight=balanced, criterion=entropy, max_depth=12, min_samples_split=20, n_estimators=400;, score=0.247 total time=   7.3s\n",
      "[CV 1/5] END class_weight=balanced, criterion=entropy, max_depth=12, min_samples_split=20, n_estimators=500;, score=0.310 total time=   9.5s\n",
      "[CV 2/5] END class_weight=balanced, criterion=entropy, max_depth=12, min_samples_split=20, n_estimators=500;, score=0.346 total time=   9.3s\n",
      "[CV 3/5] END class_weight=balanced, criterion=entropy, max_depth=12, min_samples_split=20, n_estimators=500;, score=0.289 total time=   9.4s\n",
      "[CV 4/5] END class_weight=balanced, criterion=entropy, max_depth=12, min_samples_split=20, n_estimators=500;, score=0.336 total time=   9.2s\n",
      "[CV 1/5] END class_weight=balanced, criterion=entropy, max_depth=12, min_samples_split=22, n_estimators=400;, score=0.310 total time=   7.6s\n",
      "[CV 5/5] END class_weight=balanced, criterion=entropy, max_depth=12, min_samples_split=20, n_estimators=500;, score=0.238 total time=   9.2s\n",
      "[CV 2/5] END class_weight=balanced, criterion=entropy, max_depth=12, min_samples_split=22, n_estimators=400;, score=0.362 total time=   7.3s\n",
      "[CV 3/5] END class_weight=balanced, criterion=entropy, max_depth=12, min_samples_split=22, n_estimators=400;, score=0.268 total time=   7.3s\n",
      "[CV 4/5] END class_weight=balanced, criterion=entropy, max_depth=12, min_samples_split=22, n_estimators=400;, score=0.395 total time=   7.5s\n",
      "[CV 5/5] END class_weight=balanced, criterion=entropy, max_depth=12, min_samples_split=22, n_estimators=400;, score=0.260 total time=   7.3s\n",
      "[CV 1/5] END class_weight=balanced, criterion=entropy, max_depth=12, min_samples_split=22, n_estimators=500;, score=0.289 total time=   9.2s\n",
      "[CV 2/5] END class_weight=balanced, criterion=entropy, max_depth=12, min_samples_split=22, n_estimators=500;, score=0.395 total time=   9.0s\n",
      "[CV 3/5] END class_weight=balanced, criterion=entropy, max_depth=12, min_samples_split=22, n_estimators=500;, score=0.293 total time=   9.3s\n"
     ]
    },
    {
     "name": "stdout",
     "output_type": "stream",
     "text": [
      "[CV 4/5] END class_weight=balanced, criterion=entropy, max_depth=12, min_samples_split=22, n_estimators=500;, score=0.386 total time=   9.1s\n",
      "[CV 1/5] END class_weight=balanced, criterion=entropy, max_depth=14, min_samples_split=18, n_estimators=400;, score=0.275 total time=   7.6s\n",
      "[CV 5/5] END class_weight=balanced, criterion=entropy, max_depth=12, min_samples_split=22, n_estimators=500;, score=0.263 total time=   9.1s\n",
      "[CV 2/5] END class_weight=balanced, criterion=entropy, max_depth=14, min_samples_split=18, n_estimators=400;, score=0.278 total time=   7.9s\n",
      "[CV 3/5] END class_weight=balanced, criterion=entropy, max_depth=14, min_samples_split=18, n_estimators=400;, score=0.290 total time=   7.9s\n",
      "[CV 4/5] END class_weight=balanced, criterion=entropy, max_depth=14, min_samples_split=18, n_estimators=400;, score=0.310 total time=   7.9s\n",
      "[CV 5/5] END class_weight=balanced, criterion=entropy, max_depth=14, min_samples_split=18, n_estimators=400;, score=0.183 total time=   7.7s\n",
      "[CV 2/5] END class_weight=balanced, criterion=entropy, max_depth=14, min_samples_split=18, n_estimators=500;, score=0.297 total time=   9.7s\n",
      "[CV 1/5] END class_weight=balanced, criterion=entropy, max_depth=14, min_samples_split=18, n_estimators=500;, score=0.275 total time=  10.0s\n",
      "[CV 3/5] END class_weight=balanced, criterion=entropy, max_depth=14, min_samples_split=18, n_estimators=500;, score=0.245 total time=   9.7s\n",
      "[CV 4/5] END class_weight=balanced, criterion=entropy, max_depth=14, min_samples_split=18, n_estimators=500;, score=0.306 total time=   9.7s\n",
      "[CV 1/5] END class_weight=balanced, criterion=entropy, max_depth=14, min_samples_split=20, n_estimators=400;, score=0.280 total time=   7.6s\n",
      "[CV 5/5] END class_weight=balanced, criterion=entropy, max_depth=14, min_samples_split=18, n_estimators=500;, score=0.167 total time=   9.7s\n",
      "[CV 2/5] END class_weight=balanced, criterion=entropy, max_depth=14, min_samples_split=20, n_estimators=400;, score=0.324 total time=   7.6s\n",
      "[CV 3/5] END class_weight=balanced, criterion=entropy, max_depth=14, min_samples_split=20, n_estimators=400;, score=0.257 total time=   7.5s\n",
      "[CV 4/5] END class_weight=balanced, criterion=entropy, max_depth=14, min_samples_split=20, n_estimators=400;, score=0.331 total time=   7.7s\n",
      "[CV 5/5] END class_weight=balanced, criterion=entropy, max_depth=14, min_samples_split=20, n_estimators=400;, score=0.206 total time=   7.9s\n",
      "[CV 1/5] END class_weight=balanced, criterion=entropy, max_depth=14, min_samples_split=20, n_estimators=500;, score=0.309 total time=   9.5s\n",
      "[CV 2/5] END class_weight=balanced, criterion=entropy, max_depth=14, min_samples_split=20, n_estimators=500;, score=0.351 total time=   9.4s\n",
      "[CV 3/5] END class_weight=balanced, criterion=entropy, max_depth=14, min_samples_split=20, n_estimators=500;, score=0.286 total time=   9.6s\n",
      "[CV 1/5] END class_weight=balanced, criterion=entropy, max_depth=14, min_samples_split=22, n_estimators=400;, score=0.307 total time=   7.5s\n",
      "[CV 4/5] END class_weight=balanced, criterion=entropy, max_depth=14, min_samples_split=20, n_estimators=500;, score=0.366 total time=   9.8s\n",
      "[CV 5/5] END class_weight=balanced, criterion=entropy, max_depth=14, min_samples_split=20, n_estimators=500;, score=0.232 total time=   9.4s\n",
      "[CV 2/5] END class_weight=balanced, criterion=entropy, max_depth=14, min_samples_split=22, n_estimators=400;, score=0.346 total time=   7.4s\n",
      "[CV 3/5] END class_weight=balanced, criterion=entropy, max_depth=14, min_samples_split=22, n_estimators=400;, score=0.271 total time=   7.7s\n",
      "[CV 4/5] END class_weight=balanced, criterion=entropy, max_depth=14, min_samples_split=22, n_estimators=400;, score=0.356 total time=   7.4s\n",
      "[CV 5/5] END class_weight=balanced, criterion=entropy, max_depth=14, min_samples_split=22, n_estimators=400;, score=0.205 total time=   7.4s\n",
      "[CV 1/5] END class_weight=balanced, criterion=entropy, max_depth=14, min_samples_split=22, n_estimators=500;, score=0.291 total time=   9.4s\n",
      "[CV 2/5] END class_weight=balanced, criterion=entropy, max_depth=14, min_samples_split=22, n_estimators=500;, score=0.318 total time=   9.2s\n",
      "[CV 3/5] END class_weight=balanced, criterion=entropy, max_depth=14, min_samples_split=22, n_estimators=500;, score=0.284 total time=   9.5s\n",
      "[CV 4/5] END class_weight=balanced, criterion=entropy, max_depth=14, min_samples_split=22, n_estimators=500;, score=0.348 total time=   9.5s\n",
      "[CV 1/5] END class_weight=balanced, criterion=entropy, max_depth=16, min_samples_split=18, n_estimators=400;, score=0.256 total time=   8.1s\n",
      "[CV 5/5] END class_weight=balanced, criterion=entropy, max_depth=14, min_samples_split=22, n_estimators=500;, score=0.210 total time=   9.4s\n",
      "[CV 2/5] END class_weight=balanced, criterion=entropy, max_depth=16, min_samples_split=18, n_estimators=400;, score=0.290 total time=   7.8s\n",
      "[CV 3/5] END class_weight=balanced, criterion=entropy, max_depth=16, min_samples_split=18, n_estimators=400;, score=0.254 total time=   7.9s\n",
      "[CV 4/5] END class_weight=balanced, criterion=entropy, max_depth=16, min_samples_split=18, n_estimators=400;, score=0.276 total time=   7.9s\n",
      "[CV 5/5] END class_weight=balanced, criterion=entropy, max_depth=16, min_samples_split=18, n_estimators=400;, score=0.188 total time=   7.8s\n",
      "[CV 2/5] END class_weight=balanced, criterion=entropy, max_depth=16, min_samples_split=18, n_estimators=500;, score=0.294 total time=   9.7s\n",
      "[CV 1/5] END class_weight=balanced, criterion=entropy, max_depth=16, min_samples_split=18, n_estimators=500;, score=0.246 total time=   9.9s\n",
      "[CV 1/5] END class_weight=balanced, criterion=entropy, max_depth=16, min_samples_split=20, n_estimators=400;, score=0.313 total time=   7.8s\n",
      "[CV 3/5] END class_weight=balanced, criterion=entropy, max_depth=16, min_samples_split=18, n_estimators=500;, score=0.239 total time=  10.1s\n",
      "[CV 4/5] END class_weight=balanced, criterion=entropy, max_depth=16, min_samples_split=18, n_estimators=500;, score=0.302 total time=   9.8s\n",
      "[CV 5/5] END class_weight=balanced, criterion=entropy, max_depth=16, min_samples_split=18, n_estimators=500;, score=0.144 total time=   9.7s\n",
      "[CV 2/5] END class_weight=balanced, criterion=entropy, max_depth=16, min_samples_split=20, n_estimators=400;, score=0.324 total time=   7.6s\n",
      "[CV 3/5] END class_weight=balanced, criterion=entropy, max_depth=16, min_samples_split=20, n_estimators=400;, score=0.284 total time=   7.6s\n",
      "[CV 4/5] END class_weight=balanced, criterion=entropy, max_depth=16, min_samples_split=20, n_estimators=400;, score=0.308 total time=   7.8s\n",
      "[CV 5/5] END class_weight=balanced, criterion=entropy, max_depth=16, min_samples_split=20, n_estimators=400;, score=0.182 total time=   7.8s\n",
      "[CV 1/5] END class_weight=balanced, criterion=entropy, max_depth=16, min_samples_split=20, n_estimators=500;, score=0.284 total time=   9.5s\n",
      "[CV 2/5] END class_weight=balanced, criterion=entropy, max_depth=16, min_samples_split=20, n_estimators=500;, score=0.338 total time=  10.0s\n",
      "[CV 3/5] END class_weight=balanced, criterion=entropy, max_depth=16, min_samples_split=20, n_estimators=500;, score=0.266 total time=   9.6s\n",
      "[CV 1/5] END class_weight=balanced, criterion=entropy, max_depth=16, min_samples_split=22, n_estimators=400;, score=0.312 total time=   7.6s\n",
      "[CV 4/5] END class_weight=balanced, criterion=entropy, max_depth=16, min_samples_split=20, n_estimators=500;, score=0.312 total time=   9.6s\n",
      "[CV 5/5] END class_weight=balanced, criterion=entropy, max_depth=16, min_samples_split=20, n_estimators=500;, score=0.179 total time=   9.6s\n",
      "[CV 2/5] END class_weight=balanced, criterion=entropy, max_depth=16, min_samples_split=22, n_estimators=400;, score=0.338 total time=   7.6s\n",
      "[CV 3/5] END class_weight=balanced, criterion=entropy, max_depth=16, min_samples_split=22, n_estimators=400;, score=0.282 total time=   7.7s\n",
      "[CV 4/5] END class_weight=balanced, criterion=entropy, max_depth=16, min_samples_split=22, n_estimators=400;, score=0.331 total time=   7.6s\n",
      "[CV 5/5] END class_weight=balanced, criterion=entropy, max_depth=16, min_samples_split=22, n_estimators=400;, score=0.210 total time=   7.8s\n",
      "[CV 1/5] END class_weight=None, criterion=gini, max_depth=10, min_samples_split=18, n_estimators=400;, score=0.078 total time=   5.4s\n",
      "[CV 1/5] END class_weight=balanced, criterion=entropy, max_depth=16, min_samples_split=22, n_estimators=500;, score=0.267 total time=   9.5s\n"
     ]
    },
    {
     "name": "stdout",
     "output_type": "stream",
     "text": [
      "[CV 2/5] END class_weight=balanced, criterion=entropy, max_depth=16, min_samples_split=22, n_estimators=500;, score=0.361 total time=   9.4s\n",
      "[CV 3/5] END class_weight=balanced, criterion=entropy, max_depth=16, min_samples_split=22, n_estimators=500;, score=0.262 total time=   9.5s\n",
      "[CV 4/5] END class_weight=balanced, criterion=entropy, max_depth=16, min_samples_split=22, n_estimators=500;, score=0.346 total time=   9.6s\n",
      "[CV 2/5] END class_weight=None, criterion=gini, max_depth=10, min_samples_split=18, n_estimators=400;, score=0.038 total time=   5.4s\n",
      "[CV 3/5] END class_weight=None, criterion=gini, max_depth=10, min_samples_split=18, n_estimators=400;, score=0.061 total time=   5.4s\n",
      "[CV 5/5] END class_weight=balanced, criterion=entropy, max_depth=16, min_samples_split=22, n_estimators=500;, score=0.211 total time=   9.5s\n",
      "[CV 5/5] END class_weight=None, criterion=gini, max_depth=10, min_samples_split=18, n_estimators=400;, score=0.021 total time=   5.3s\n",
      "[CV 4/5] END class_weight=None, criterion=gini, max_depth=10, min_samples_split=18, n_estimators=400;, score=0.000 total time=   5.4s\n",
      "[CV 1/5] END class_weight=None, criterion=gini, max_depth=10, min_samples_split=18, n_estimators=500;, score=0.060 total time=   6.7s\n",
      "[CV 2/5] END class_weight=None, criterion=gini, max_depth=10, min_samples_split=18, n_estimators=500;, score=0.038 total time=   6.7s\n",
      "[CV 3/5] END class_weight=None, criterion=gini, max_depth=10, min_samples_split=18, n_estimators=500;, score=0.021 total time=   6.8s\n",
      "[CV 4/5] END class_weight=None, criterion=gini, max_depth=10, min_samples_split=18, n_estimators=500;, score=0.041 total time=   6.7s\n",
      "[CV 1/5] END class_weight=None, criterion=gini, max_depth=10, min_samples_split=20, n_estimators=400;, score=0.097 total time=   5.4s\n",
      "[CV 5/5] END class_weight=None, criterion=gini, max_depth=10, min_samples_split=18, n_estimators=500;, score=0.041 total time=   6.7s\n",
      "[CV 2/5] END class_weight=None, criterion=gini, max_depth=10, min_samples_split=20, n_estimators=400;, score=0.037 total time=   5.3s\n",
      "[CV 3/5] END class_weight=None, criterion=gini, max_depth=10, min_samples_split=20, n_estimators=400;, score=0.021 total time=   5.3s\n",
      "[CV 4/5] END class_weight=None, criterion=gini, max_depth=10, min_samples_split=20, n_estimators=400;, score=0.000 total time=   5.3s\n",
      "[CV 5/5] END class_weight=None, criterion=gini, max_depth=10, min_samples_split=20, n_estimators=400;, score=0.041 total time=   5.3s\n",
      "[CV 1/5] END class_weight=None, criterion=gini, max_depth=10, min_samples_split=20, n_estimators=500;, score=0.040 total time=   6.7s\n",
      "[CV 2/5] END class_weight=None, criterion=gini, max_depth=10, min_samples_split=20, n_estimators=500;, score=0.037 total time=   6.6s\n",
      "[CV 1/5] END class_weight=None, criterion=gini, max_depth=10, min_samples_split=22, n_estimators=400;, score=0.099 total time=   5.3s\n",
      "[CV 3/5] END class_weight=None, criterion=gini, max_depth=10, min_samples_split=20, n_estimators=500;, score=0.041 total time=   6.7s\n",
      "[CV 4/5] END class_weight=None, criterion=gini, max_depth=10, min_samples_split=20, n_estimators=500;, score=0.021 total time=   6.7s\n",
      "[CV 5/5] END class_weight=None, criterion=gini, max_depth=10, min_samples_split=20, n_estimators=500;, score=0.021 total time=   6.6s\n",
      "[CV 2/5] END class_weight=None, criterion=gini, max_depth=10, min_samples_split=22, n_estimators=400;, score=0.038 total time=   5.3s\n",
      "[CV 3/5] END class_weight=None, criterion=gini, max_depth=10, min_samples_split=22, n_estimators=400;, score=0.021 total time=   5.3s\n",
      "[CV 4/5] END class_weight=None, criterion=gini, max_depth=10, min_samples_split=22, n_estimators=400;, score=0.000 total time=   5.3s\n",
      "[CV 5/5] END class_weight=None, criterion=gini, max_depth=10, min_samples_split=22, n_estimators=400;, score=0.040 total time=   5.2s\n",
      "[CV 1/5] END class_weight=None, criterion=gini, max_depth=10, min_samples_split=22, n_estimators=500;, score=0.059 total time=   6.5s\n",
      "[CV 2/5] END class_weight=None, criterion=gini, max_depth=10, min_samples_split=22, n_estimators=500;, score=0.038 total time=   6.8s\n",
      "[CV 3/5] END class_weight=None, criterion=gini, max_depth=10, min_samples_split=22, n_estimators=500;, score=0.021 total time=   6.6s\n",
      "[CV 1/5] END class_weight=None, criterion=gini, max_depth=12, min_samples_split=18, n_estimators=400;, score=0.097 total time=   5.9s\n",
      "[CV 4/5] END class_weight=None, criterion=gini, max_depth=10, min_samples_split=22, n_estimators=500;, score=0.021 total time=   6.6s\n",
      "[CV 5/5] END class_weight=None, criterion=gini, max_depth=10, min_samples_split=22, n_estimators=500;, score=0.041 total time=   6.6s\n",
      "[CV 2/5] END class_weight=None, criterion=gini, max_depth=12, min_samples_split=18, n_estimators=400;, score=0.037 total time=   6.0s\n",
      "[CV 3/5] END class_weight=None, criterion=gini, max_depth=12, min_samples_split=18, n_estimators=400;, score=0.040 total time=   6.0s\n",
      "[CV 4/5] END class_weight=None, criterion=gini, max_depth=12, min_samples_split=18, n_estimators=400;, score=0.021 total time=   6.1s\n",
      "[CV 5/5] END class_weight=None, criterion=gini, max_depth=12, min_samples_split=18, n_estimators=400;, score=0.040 total time=   6.1s\n",
      "[CV 1/5] END class_weight=None, criterion=gini, max_depth=12, min_samples_split=18, n_estimators=500;, score=0.115 total time=   7.5s\n",
      "[CV 2/5] END class_weight=None, criterion=gini, max_depth=12, min_samples_split=18, n_estimators=500;, score=0.037 total time=   7.5s\n",
      "[CV 3/5] END class_weight=None, criterion=gini, max_depth=12, min_samples_split=18, n_estimators=500;, score=0.061 total time=   7.3s\n",
      "[CV 4/5] END class_weight=None, criterion=gini, max_depth=12, min_samples_split=18, n_estimators=500;, score=0.021 total time=   7.4s\n",
      "[CV 1/5] END class_weight=None, criterion=gini, max_depth=12, min_samples_split=20, n_estimators=400;, score=0.060 total time=   5.8s\n",
      "[CV 5/5] END class_weight=None, criterion=gini, max_depth=12, min_samples_split=18, n_estimators=500;, score=0.041 total time=   7.5s\n",
      "[CV 2/5] END class_weight=None, criterion=gini, max_depth=12, min_samples_split=20, n_estimators=400;, score=0.037 total time=   5.9s\n",
      "[CV 3/5] END class_weight=None, criterion=gini, max_depth=12, min_samples_split=20, n_estimators=400;, score=0.040 total time=   6.0s\n",
      "[CV 4/5] END class_weight=None, criterion=gini, max_depth=12, min_samples_split=20, n_estimators=400;, score=0.041 total time=   5.9s\n",
      "[CV 5/5] END class_weight=None, criterion=gini, max_depth=12, min_samples_split=20, n_estimators=400;, score=0.061 total time=   5.9s\n",
      "[CV 1/5] END class_weight=None, criterion=gini, max_depth=12, min_samples_split=20, n_estimators=500;, score=0.078 total time=   7.3s\n",
      "[CV 2/5] END class_weight=None, criterion=gini, max_depth=12, min_samples_split=20, n_estimators=500;, score=0.038 total time=   7.4s\n",
      "[CV 3/5] END class_weight=None, criterion=gini, max_depth=12, min_samples_split=20, n_estimators=500;, score=0.041 total time=   7.4s\n",
      "[CV 1/5] END class_weight=None, criterion=gini, max_depth=12, min_samples_split=22, n_estimators=400;, score=0.059 total time=   5.9s\n",
      "[CV 4/5] END class_weight=None, criterion=gini, max_depth=12, min_samples_split=20, n_estimators=500;, score=0.021 total time=   7.5s\n",
      "[CV 5/5] END class_weight=None, criterion=gini, max_depth=12, min_samples_split=20, n_estimators=500;, score=0.040 total time=   7.4s\n",
      "[CV 2/5] END class_weight=None, criterion=gini, max_depth=12, min_samples_split=22, n_estimators=400;, score=0.037 total time=   5.9s\n",
      "[CV 3/5] END class_weight=None, criterion=gini, max_depth=12, min_samples_split=22, n_estimators=400;, score=0.020 total time=   5.9s\n",
      "[CV 4/5] END class_weight=None, criterion=gini, max_depth=12, min_samples_split=22, n_estimators=400;, score=0.000 total time=   5.9s\n",
      "[CV 5/5] END class_weight=None, criterion=gini, max_depth=12, min_samples_split=22, n_estimators=400;, score=0.059 total time=   5.9s\n",
      "[CV 1/5] END class_weight=None, criterion=gini, max_depth=12, min_samples_split=22, n_estimators=500;, score=0.096 total time=   7.3s\n",
      "[CV 2/5] END class_weight=None, criterion=gini, max_depth=12, min_samples_split=22, n_estimators=500;, score=0.037 total time=   7.5s\n",
      "[CV 3/5] END class_weight=None, criterion=gini, max_depth=12, min_samples_split=22, n_estimators=500;, score=0.021 total time=   7.4s\n",
      "[CV 4/5] END class_weight=None, criterion=gini, max_depth=12, min_samples_split=22, n_estimators=500;, score=0.041 total time=   7.4s\n"
     ]
    },
    {
     "name": "stdout",
     "output_type": "stream",
     "text": [
      "[CV 1/5] END class_weight=None, criterion=gini, max_depth=14, min_samples_split=18, n_estimators=400;, score=0.078 total time=   6.4s\n",
      "[CV 5/5] END class_weight=None, criterion=gini, max_depth=12, min_samples_split=22, n_estimators=500;, score=0.060 total time=   7.4s\n",
      "[CV 2/5] END class_weight=None, criterion=gini, max_depth=14, min_samples_split=18, n_estimators=400;, score=0.037 total time=   6.3s\n",
      "[CV 3/5] END class_weight=None, criterion=gini, max_depth=14, min_samples_split=18, n_estimators=400;, score=0.079 total time=   6.4s\n",
      "[CV 4/5] END class_weight=None, criterion=gini, max_depth=14, min_samples_split=18, n_estimators=400;, score=0.021 total time=   6.3s\n",
      "[CV 5/5] END class_weight=None, criterion=gini, max_depth=14, min_samples_split=18, n_estimators=400;, score=0.059 total time=   6.5s\n",
      "[CV 2/5] END class_weight=None, criterion=gini, max_depth=14, min_samples_split=18, n_estimators=500;, score=0.019 total time=   7.9s\n",
      "[CV 1/5] END class_weight=None, criterion=gini, max_depth=14, min_samples_split=18, n_estimators=500;, score=0.132 total time=   8.0s\n",
      "[CV 3/5] END class_weight=None, criterion=gini, max_depth=14, min_samples_split=18, n_estimators=500;, score=0.040 total time=   8.0s\n",
      "[CV 1/5] END class_weight=None, criterion=gini, max_depth=14, min_samples_split=20, n_estimators=400;, score=0.115 total time=   6.3s\n",
      "[CV 4/5] END class_weight=None, criterion=gini, max_depth=14, min_samples_split=18, n_estimators=500;, score=0.021 total time=   8.0s\n",
      "[CV 5/5] END class_weight=None, criterion=gini, max_depth=14, min_samples_split=18, n_estimators=500;, score=0.041 total time=   7.9s\n",
      "[CV 2/5] END class_weight=None, criterion=gini, max_depth=14, min_samples_split=20, n_estimators=400;, score=0.055 total time=   6.3s\n",
      "[CV 3/5] END class_weight=None, criterion=gini, max_depth=14, min_samples_split=20, n_estimators=400;, score=0.021 total time=   6.4s\n",
      "[CV 4/5] END class_weight=None, criterion=gini, max_depth=14, min_samples_split=20, n_estimators=400;, score=0.000 total time=   6.3s\n",
      "[CV 5/5] END class_weight=None, criterion=gini, max_depth=14, min_samples_split=20, n_estimators=400;, score=0.040 total time=   6.4s\n",
      "[CV 1/5] END class_weight=None, criterion=gini, max_depth=14, min_samples_split=20, n_estimators=500;, score=0.078 total time=   8.0s\n",
      "[CV 2/5] END class_weight=None, criterion=gini, max_depth=14, min_samples_split=20, n_estimators=500;, score=0.057 total time=   7.9s\n",
      "[CV 3/5] END class_weight=None, criterion=gini, max_depth=14, min_samples_split=20, n_estimators=500;, score=0.040 total time=   8.0s\n",
      "[CV 4/5] END class_weight=None, criterion=gini, max_depth=14, min_samples_split=20, n_estimators=500;, score=0.021 total time=   7.9s\n",
      "[CV 1/5] END class_weight=None, criterion=gini, max_depth=14, min_samples_split=22, n_estimators=400;, score=0.117 total time=   6.3s\n",
      "[CV 5/5] END class_weight=None, criterion=gini, max_depth=14, min_samples_split=20, n_estimators=500;, score=0.060 total time=   7.9s\n",
      "[CV 2/5] END class_weight=None, criterion=gini, max_depth=14, min_samples_split=22, n_estimators=400;, score=0.037 total time=   6.2s\n",
      "[CV 3/5] END class_weight=None, criterion=gini, max_depth=14, min_samples_split=22, n_estimators=400;, score=0.061 total time=   6.4s\n",
      "[CV 4/5] END class_weight=None, criterion=gini, max_depth=14, min_samples_split=22, n_estimators=400;, score=0.021 total time=   6.2s\n",
      "[CV 5/5] END class_weight=None, criterion=gini, max_depth=14, min_samples_split=22, n_estimators=400;, score=0.061 total time=   6.3s\n",
      "[CV 1/5] END class_weight=None, criterion=gini, max_depth=14, min_samples_split=22, n_estimators=500;, score=0.060 total time=   7.9s\n",
      "[CV 2/5] END class_weight=None, criterion=gini, max_depth=14, min_samples_split=22, n_estimators=500;, score=0.037 total time=   7.8s\n",
      "[CV 3/5] END class_weight=None, criterion=gini, max_depth=14, min_samples_split=22, n_estimators=500;, score=0.060 total time=   8.0s\n",
      "[CV 4/5] END class_weight=None, criterion=gini, max_depth=14, min_samples_split=22, n_estimators=500;, score=0.021 total time=   7.9s\n",
      "[CV 1/5] END class_weight=None, criterion=gini, max_depth=16, min_samples_split=18, n_estimators=400;, score=0.115 total time=   6.7s\n",
      "[CV 5/5] END class_weight=None, criterion=gini, max_depth=14, min_samples_split=22, n_estimators=500;, score=0.041 total time=   7.8s\n",
      "[CV 2/5] END class_weight=None, criterion=gini, max_depth=16, min_samples_split=18, n_estimators=400;, score=0.055 total time=   6.8s\n",
      "[CV 3/5] END class_weight=None, criterion=gini, max_depth=16, min_samples_split=18, n_estimators=400;, score=0.059 total time=   6.7s\n",
      "[CV 4/5] END class_weight=None, criterion=gini, max_depth=16, min_samples_split=18, n_estimators=400;, score=0.041 total time=   6.7s\n",
      "[CV 5/5] END class_weight=None, criterion=gini, max_depth=16, min_samples_split=18, n_estimators=400;, score=0.040 total time=   6.7s\n",
      "[CV 1/5] END class_weight=None, criterion=gini, max_depth=16, min_samples_split=18, n_estimators=500;, score=0.114 total time=   8.5s\n",
      "[CV 2/5] END class_weight=None, criterion=gini, max_depth=16, min_samples_split=18, n_estimators=500;, score=0.056 total time=   8.3s\n",
      "[CV 1/5] END class_weight=None, criterion=gini, max_depth=16, min_samples_split=20, n_estimators=400;, score=0.115 total time=   6.6s\n",
      "[CV 3/5] END class_weight=None, criterion=gini, max_depth=16, min_samples_split=18, n_estimators=500;, score=0.041 total time=   8.3s\n",
      "[CV 4/5] END class_weight=None, criterion=gini, max_depth=16, min_samples_split=18, n_estimators=500;, score=0.041 total time=   8.3s\n",
      "[CV 5/5] END class_weight=None, criterion=gini, max_depth=16, min_samples_split=18, n_estimators=500;, score=0.061 total time=   8.4s\n",
      "[CV 2/5] END class_weight=None, criterion=gini, max_depth=16, min_samples_split=20, n_estimators=400;, score=0.056 total time=   6.7s\n",
      "[CV 3/5] END class_weight=None, criterion=gini, max_depth=16, min_samples_split=20, n_estimators=400;, score=0.059 total time=   6.6s\n",
      "[CV 4/5] END class_weight=None, criterion=gini, max_depth=16, min_samples_split=20, n_estimators=400;, score=0.000 total time=   6.7s\n",
      "[CV 5/5] END class_weight=None, criterion=gini, max_depth=16, min_samples_split=20, n_estimators=400;, score=0.061 total time=   6.7s\n",
      "[CV 1/5] END class_weight=None, criterion=gini, max_depth=16, min_samples_split=20, n_estimators=500;, score=0.097 total time=   8.3s\n",
      "[CV 2/5] END class_weight=None, criterion=gini, max_depth=16, min_samples_split=20, n_estimators=500;, score=0.037 total time=   8.4s\n",
      "[CV 3/5] END class_weight=None, criterion=gini, max_depth=16, min_samples_split=20, n_estimators=500;, score=0.041 total time=   8.2s\n",
      "[CV 1/5] END class_weight=None, criterion=gini, max_depth=16, min_samples_split=22, n_estimators=400;, score=0.040 total time=   6.6s\n",
      "[CV 4/5] END class_weight=None, criterion=gini, max_depth=16, min_samples_split=20, n_estimators=500;, score=0.021 total time=   8.4s\n",
      "[CV 5/5] END class_weight=None, criterion=gini, max_depth=16, min_samples_split=20, n_estimators=500;, score=0.041 total time=   8.4s\n",
      "[CV 2/5] END class_weight=None, criterion=gini, max_depth=16, min_samples_split=22, n_estimators=400;, score=0.038 total time=   6.8s\n",
      "[CV 3/5] END class_weight=None, criterion=gini, max_depth=16, min_samples_split=22, n_estimators=400;, score=0.060 total time=   6.7s\n",
      "[CV 4/5] END class_weight=None, criterion=gini, max_depth=16, min_samples_split=22, n_estimators=400;, score=0.041 total time=   6.7s\n",
      "[CV 5/5] END class_weight=None, criterion=gini, max_depth=16, min_samples_split=22, n_estimators=400;, score=0.040 total time=   6.7s\n",
      "[CV 1/5] END class_weight=None, criterion=gini, max_depth=16, min_samples_split=22, n_estimators=500;, score=0.078 total time=   8.4s\n",
      "[CV 2/5] END class_weight=None, criterion=gini, max_depth=16, min_samples_split=22, n_estimators=500;, score=0.038 total time=   8.3s\n",
      "[CV 3/5] END class_weight=None, criterion=gini, max_depth=16, min_samples_split=22, n_estimators=500;, score=0.020 total time=   8.4s\n",
      "[CV 4/5] END class_weight=None, criterion=gini, max_depth=16, min_samples_split=22, n_estimators=500;, score=0.061 total time=   8.5s\n",
      "[CV 1/5] END class_weight=None, criterion=entropy, max_depth=10, min_samples_split=18, n_estimators=400;, score=0.040 total time=   7.4s\n",
      "[CV 5/5] END class_weight=None, criterion=gini, max_depth=16, min_samples_split=22, n_estimators=500;, score=0.060 total time=   8.6s\n"
     ]
    },
    {
     "name": "stdout",
     "output_type": "stream",
     "text": [
      "[CV 2/5] END class_weight=None, criterion=entropy, max_depth=10, min_samples_split=18, n_estimators=400;, score=0.019 total time=   7.3s\n",
      "[CV 3/5] END class_weight=None, criterion=entropy, max_depth=10, min_samples_split=18, n_estimators=400;, score=0.000 total time=   7.5s\n",
      "[CV 4/5] END class_weight=None, criterion=entropy, max_depth=10, min_samples_split=18, n_estimators=400;, score=0.021 total time=   7.6s\n",
      "[CV 5/5] END class_weight=None, criterion=entropy, max_depth=10, min_samples_split=18, n_estimators=400;, score=0.041 total time=   7.5s\n",
      "[CV 1/5] END class_weight=None, criterion=entropy, max_depth=10, min_samples_split=18, n_estimators=500;, score=0.041 total time=   9.5s\n",
      "[CV 2/5] END class_weight=None, criterion=entropy, max_depth=10, min_samples_split=18, n_estimators=500;, score=0.039 total time=   9.6s\n",
      "[CV 3/5] END class_weight=None, criterion=entropy, max_depth=10, min_samples_split=18, n_estimators=500;, score=0.061 total time=   9.4s\n",
      "[CV 1/5] END class_weight=None, criterion=entropy, max_depth=10, min_samples_split=20, n_estimators=400;, score=0.000 total time=   7.4s\n",
      "[CV 4/5] END class_weight=None, criterion=entropy, max_depth=10, min_samples_split=18, n_estimators=500;, score=0.000 total time=   9.7s\n",
      "[CV 5/5] END class_weight=None, criterion=entropy, max_depth=10, min_samples_split=18, n_estimators=500;, score=0.041 total time=   9.3s\n",
      "[CV 3/5] END class_weight=None, criterion=entropy, max_depth=10, min_samples_split=20, n_estimators=400;, score=0.021 total time=   7.4s\n",
      "[CV 2/5] END class_weight=None, criterion=entropy, max_depth=10, min_samples_split=20, n_estimators=400;, score=0.020 total time=   7.5s\n",
      "[CV 4/5] END class_weight=None, criterion=entropy, max_depth=10, min_samples_split=20, n_estimators=400;, score=0.041 total time=   7.3s\n",
      "[CV 5/5] END class_weight=None, criterion=entropy, max_depth=10, min_samples_split=20, n_estimators=400;, score=0.061 total time=   7.7s\n",
      "[CV 1/5] END class_weight=None, criterion=entropy, max_depth=10, min_samples_split=20, n_estimators=500;, score=0.021 total time=   9.2s\n",
      "[CV 2/5] END class_weight=None, criterion=entropy, max_depth=10, min_samples_split=20, n_estimators=500;, score=0.020 total time=   9.1s\n",
      "[CV 1/5] END class_weight=None, criterion=entropy, max_depth=10, min_samples_split=22, n_estimators=400;, score=0.041 total time=   7.4s\n",
      "[CV 3/5] END class_weight=None, criterion=entropy, max_depth=10, min_samples_split=20, n_estimators=500;, score=0.000 total time=   9.3s\n",
      "[CV 4/5] END class_weight=None, criterion=entropy, max_depth=10, min_samples_split=20, n_estimators=500;, score=0.000 total time=   9.1s\n",
      "[CV 5/5] END class_weight=None, criterion=entropy, max_depth=10, min_samples_split=20, n_estimators=500;, score=0.041 total time=   9.1s\n",
      "[CV 2/5] END class_weight=None, criterion=entropy, max_depth=10, min_samples_split=22, n_estimators=400;, score=0.039 total time=   7.2s\n",
      "[CV 3/5] END class_weight=None, criterion=entropy, max_depth=10, min_samples_split=22, n_estimators=400;, score=0.021 total time=   7.5s\n",
      "[CV 4/5] END class_weight=None, criterion=entropy, max_depth=10, min_samples_split=22, n_estimators=400;, score=0.000 total time=   7.2s\n",
      "[CV 5/5] END class_weight=None, criterion=entropy, max_depth=10, min_samples_split=22, n_estimators=400;, score=0.021 total time=   7.3s\n",
      "[CV 1/5] END class_weight=None, criterion=entropy, max_depth=10, min_samples_split=22, n_estimators=500;, score=0.041 total time=   9.2s\n",
      "[CV 2/5] END class_weight=None, criterion=entropy, max_depth=10, min_samples_split=22, n_estimators=500;, score=0.038 total time=   9.1s\n",
      "[CV 3/5] END class_weight=None, criterion=entropy, max_depth=10, min_samples_split=22, n_estimators=500;, score=0.021 total time=   9.0s\n",
      "[CV 4/5] END class_weight=None, criterion=entropy, max_depth=10, min_samples_split=22, n_estimators=500;, score=0.000 total time=   9.1s\n",
      "[CV 5/5] END class_weight=None, criterion=entropy, max_depth=10, min_samples_split=22, n_estimators=500;, score=0.041 total time=   9.1s\n",
      "[CV 1/5] END class_weight=None, criterion=entropy, max_depth=12, min_samples_split=18, n_estimators=400;, score=0.060 total time=   8.2s\n",
      "[CV 2/5] END class_weight=None, criterion=entropy, max_depth=12, min_samples_split=18, n_estimators=400;, score=0.038 total time=   7.8s\n",
      "[CV 3/5] END class_weight=None, criterion=entropy, max_depth=12, min_samples_split=18, n_estimators=400;, score=0.041 total time=   7.9s\n",
      "[CV 4/5] END class_weight=None, criterion=entropy, max_depth=12, min_samples_split=18, n_estimators=400;, score=0.021 total time=   8.0s\n",
      "[CV 5/5] END class_weight=None, criterion=entropy, max_depth=12, min_samples_split=18, n_estimators=400;, score=0.061 total time=   7.9s\n",
      "[CV 1/5] END class_weight=None, criterion=entropy, max_depth=12, min_samples_split=18, n_estimators=500;, score=0.041 total time=   9.6s\n",
      "[CV 2/5] END class_weight=None, criterion=entropy, max_depth=12, min_samples_split=18, n_estimators=500;, score=0.038 total time=   9.7s\n",
      "[CV 3/5] END class_weight=None, criterion=entropy, max_depth=12, min_samples_split=18, n_estimators=500;, score=0.000 total time=   9.7s\n",
      "[CV 1/5] END class_weight=None, criterion=entropy, max_depth=12, min_samples_split=20, n_estimators=400;, score=0.099 total time=   7.7s\n",
      "[CV 4/5] END class_weight=None, criterion=entropy, max_depth=12, min_samples_split=18, n_estimators=500;, score=0.000 total time=  10.0s\n",
      "[CV 5/5] END class_weight=None, criterion=entropy, max_depth=12, min_samples_split=18, n_estimators=500;, score=0.061 total time=   9.7s\n",
      "[CV 2/5] END class_weight=None, criterion=entropy, max_depth=12, min_samples_split=20, n_estimators=400;, score=0.039 total time=   7.6s\n",
      "[CV 3/5] END class_weight=None, criterion=entropy, max_depth=12, min_samples_split=20, n_estimators=400;, score=0.061 total time=   7.8s\n",
      "[CV 4/5] END class_weight=None, criterion=entropy, max_depth=12, min_samples_split=20, n_estimators=400;, score=0.000 total time=   7.6s\n",
      "[CV 5/5] END class_weight=None, criterion=entropy, max_depth=12, min_samples_split=20, n_estimators=400;, score=0.041 total time=   7.8s\n",
      "[CV 1/5] END class_weight=None, criterion=entropy, max_depth=12, min_samples_split=20, n_estimators=500;, score=0.021 total time=   9.6s\n",
      "[CV 2/5] END class_weight=None, criterion=entropy, max_depth=12, min_samples_split=20, n_estimators=500;, score=0.020 total time=   9.6s\n",
      "[CV 3/5] END class_weight=None, criterion=entropy, max_depth=12, min_samples_split=20, n_estimators=500;, score=0.041 total time=  10.1s\n",
      "[CV 1/5] END class_weight=None, criterion=entropy, max_depth=12, min_samples_split=22, n_estimators=400;, score=0.041 total time=   7.8s\n",
      "[CV 4/5] END class_weight=None, criterion=entropy, max_depth=12, min_samples_split=20, n_estimators=500;, score=0.021 total time=   9.6s\n",
      "[CV 2/5] END class_weight=None, criterion=entropy, max_depth=12, min_samples_split=22, n_estimators=400;, score=0.038 total time=   7.5s\n",
      "[CV 5/5] END class_weight=None, criterion=entropy, max_depth=12, min_samples_split=20, n_estimators=500;, score=0.041 total time=   9.7s\n",
      "[CV 3/5] END class_weight=None, criterion=entropy, max_depth=12, min_samples_split=22, n_estimators=400;, score=0.041 total time=   7.6s\n",
      "[CV 4/5] END class_weight=None, criterion=entropy, max_depth=12, min_samples_split=22, n_estimators=400;, score=0.021 total time=   7.6s\n",
      "[CV 5/5] END class_weight=None, criterion=entropy, max_depth=12, min_samples_split=22, n_estimators=400;, score=0.061 total time=   7.6s\n",
      "[CV 1/5] END class_weight=None, criterion=entropy, max_depth=12, min_samples_split=22, n_estimators=500;, score=0.060 total time=   9.9s\n",
      "[CV 2/5] END class_weight=None, criterion=entropy, max_depth=12, min_samples_split=22, n_estimators=500;, score=0.039 total time=   9.6s\n",
      "[CV 3/5] END class_weight=None, criterion=entropy, max_depth=12, min_samples_split=22, n_estimators=500;, score=0.000 total time=   9.5s\n",
      "[CV 1/5] END class_weight=None, criterion=entropy, max_depth=14, min_samples_split=18, n_estimators=400;, score=0.098 total time=   8.0s\n",
      "[CV 4/5] END class_weight=None, criterion=entropy, max_depth=12, min_samples_split=22, n_estimators=500;, score=0.021 total time=   9.5s\n",
      "[CV 5/5] END class_weight=None, criterion=entropy, max_depth=12, min_samples_split=22, n_estimators=500;, score=0.041 total time=   9.7s\n"
     ]
    },
    {
     "name": "stdout",
     "output_type": "stream",
     "text": [
      "[CV 2/5] END class_weight=None, criterion=entropy, max_depth=14, min_samples_split=18, n_estimators=400;, score=0.039 total time=   7.9s\n",
      "[CV 3/5] END class_weight=None, criterion=entropy, max_depth=14, min_samples_split=18, n_estimators=400;, score=0.081 total time=   8.1s\n",
      "[CV 5/5] END class_weight=None, criterion=entropy, max_depth=14, min_samples_split=18, n_estimators=400;, score=0.041 total time=   8.1s\n",
      "[CV 4/5] END class_weight=None, criterion=entropy, max_depth=14, min_samples_split=18, n_estimators=400;, score=0.021 total time=   8.2s\n",
      "[CV 1/5] END class_weight=None, criterion=entropy, max_depth=14, min_samples_split=18, n_estimators=500;, score=0.041 total time=   9.8s\n",
      "[CV 2/5] END class_weight=None, criterion=entropy, max_depth=14, min_samples_split=18, n_estimators=500;, score=0.038 total time=  10.0s\n",
      "[CV 3/5] END class_weight=None, criterion=entropy, max_depth=14, min_samples_split=18, n_estimators=500;, score=0.041 total time=   9.9s\n",
      "[CV 4/5] END class_weight=None, criterion=entropy, max_depth=14, min_samples_split=18, n_estimators=500;, score=0.021 total time=  10.0s\n",
      "[CV 1/5] END class_weight=None, criterion=entropy, max_depth=14, min_samples_split=20, n_estimators=400;, score=0.060 total time=   7.9s\n",
      "[CV 5/5] END class_weight=None, criterion=entropy, max_depth=14, min_samples_split=18, n_estimators=500;, score=0.041 total time=   9.8s\n",
      "[CV 2/5] END class_weight=None, criterion=entropy, max_depth=14, min_samples_split=20, n_estimators=400;, score=0.057 total time=   8.0s\n",
      "[CV 3/5] END class_weight=None, criterion=entropy, max_depth=14, min_samples_split=20, n_estimators=400;, score=0.061 total time=   8.3s\n",
      "[CV 4/5] END class_weight=None, criterion=entropy, max_depth=14, min_samples_split=20, n_estimators=400;, score=0.021 total time=   7.9s\n",
      "[CV 5/5] END class_weight=None, criterion=entropy, max_depth=14, min_samples_split=20, n_estimators=400;, score=0.061 total time=   8.0s\n",
      "[CV 1/5] END class_weight=None, criterion=entropy, max_depth=14, min_samples_split=20, n_estimators=500;, score=0.061 total time=   9.9s\n",
      "[CV 2/5] END class_weight=None, criterion=entropy, max_depth=14, min_samples_split=20, n_estimators=500;, score=0.039 total time=  10.0s\n",
      "[CV 3/5] END class_weight=None, criterion=entropy, max_depth=14, min_samples_split=20, n_estimators=500;, score=0.021 total time=  10.0s\n",
      "[CV 4/5] END class_weight=None, criterion=entropy, max_depth=14, min_samples_split=20, n_estimators=500;, score=0.000 total time=   9.8s\n",
      "[CV 1/5] END class_weight=None, criterion=entropy, max_depth=14, min_samples_split=22, n_estimators=400;, score=0.041 total time=   8.1s\n",
      "[CV 2/5] END class_weight=None, criterion=entropy, max_depth=14, min_samples_split=22, n_estimators=400;, score=0.019 total time=   7.7s\n",
      "[CV 5/5] END class_weight=None, criterion=entropy, max_depth=14, min_samples_split=20, n_estimators=500;, score=0.061 total time=  10.0s\n",
      "[CV 3/5] END class_weight=None, criterion=entropy, max_depth=14, min_samples_split=22, n_estimators=400;, score=0.041 total time=   7.7s\n",
      "[CV 4/5] END class_weight=None, criterion=entropy, max_depth=14, min_samples_split=22, n_estimators=400;, score=0.021 total time=   7.8s\n",
      "[CV 5/5] END class_weight=None, criterion=entropy, max_depth=14, min_samples_split=22, n_estimators=400;, score=0.041 total time=   7.9s\n",
      "[CV 1/5] END class_weight=None, criterion=entropy, max_depth=14, min_samples_split=22, n_estimators=500;, score=0.041 total time=  10.1s\n",
      "[CV 2/5] END class_weight=None, criterion=entropy, max_depth=14, min_samples_split=22, n_estimators=500;, score=0.019 total time=  10.0s\n",
      "[CV 3/5] END class_weight=None, criterion=entropy, max_depth=14, min_samples_split=22, n_estimators=500;, score=0.021 total time=  10.3s\n",
      "[CV 1/5] END class_weight=None, criterion=entropy, max_depth=16, min_samples_split=18, n_estimators=400;, score=0.078 total time=   8.4s\n",
      "[CV 4/5] END class_weight=None, criterion=entropy, max_depth=14, min_samples_split=22, n_estimators=500;, score=0.000 total time=  10.0s\n",
      "[CV 5/5] END class_weight=None, criterion=entropy, max_depth=14, min_samples_split=22, n_estimators=500;, score=0.061 total time=  10.3s\n",
      "[CV 2/5] END class_weight=None, criterion=entropy, max_depth=16, min_samples_split=18, n_estimators=400;, score=0.039 total time=   8.2s\n",
      "[CV 3/5] END class_weight=None, criterion=entropy, max_depth=16, min_samples_split=18, n_estimators=400;, score=0.041 total time=   8.4s\n",
      "[CV 4/5] END class_weight=None, criterion=entropy, max_depth=16, min_samples_split=18, n_estimators=400;, score=0.021 total time=   8.2s\n",
      "[CV 5/5] END class_weight=None, criterion=entropy, max_depth=16, min_samples_split=18, n_estimators=400;, score=0.041 total time=   8.1s\n",
      "[CV 1/5] END class_weight=None, criterion=entropy, max_depth=16, min_samples_split=18, n_estimators=500;, score=0.061 total time=  10.4s\n",
      "[CV 3/5] END class_weight=None, criterion=entropy, max_depth=16, min_samples_split=18, n_estimators=500;, score=0.081 total time=  10.0s\n",
      "[CV 2/5] END class_weight=None, criterion=entropy, max_depth=16, min_samples_split=18, n_estimators=500;, score=0.038 total time=  10.1s\n",
      "[CV 1/5] END class_weight=None, criterion=entropy, max_depth=16, min_samples_split=20, n_estimators=400;, score=0.060 total time=   8.0s\n",
      "[CV 4/5] END class_weight=None, criterion=entropy, max_depth=16, min_samples_split=18, n_estimators=500;, score=0.021 total time=  10.3s\n",
      "[CV 5/5] END class_weight=None, criterion=entropy, max_depth=16, min_samples_split=18, n_estimators=500;, score=0.061 total time=  10.0s\n",
      "[CV 2/5] END class_weight=None, criterion=entropy, max_depth=16, min_samples_split=20, n_estimators=400;, score=0.038 total time=   8.1s\n",
      "[CV 3/5] END class_weight=None, criterion=entropy, max_depth=16, min_samples_split=20, n_estimators=400;, score=0.021 total time=   8.0s\n",
      "[CV 5/5] END class_weight=None, criterion=entropy, max_depth=16, min_samples_split=20, n_estimators=400;, score=0.041 total time=   8.0s\n",
      "[CV 4/5] END class_weight=None, criterion=entropy, max_depth=16, min_samples_split=20, n_estimators=400;, score=0.000 total time=   8.4s\n",
      "[CV 1/5] END class_weight=None, criterion=entropy, max_depth=16, min_samples_split=20, n_estimators=500;, score=0.061 total time=  10.1s\n",
      "[CV 2/5] END class_weight=None, criterion=entropy, max_depth=16, min_samples_split=20, n_estimators=500;, score=0.019 total time=  10.2s\n",
      "[CV 3/5] END class_weight=None, criterion=entropy, max_depth=16, min_samples_split=20, n_estimators=500;, score=0.061 total time=  10.2s\n",
      "[CV 4/5] END class_weight=None, criterion=entropy, max_depth=16, min_samples_split=20, n_estimators=500;, score=0.000 total time=  10.0s\n",
      "[CV 1/5] END class_weight=None, criterion=entropy, max_depth=16, min_samples_split=22, n_estimators=400;, score=0.061 total time=   7.9s\n",
      "[CV 5/5] END class_weight=None, criterion=entropy, max_depth=16, min_samples_split=20, n_estimators=500;, score=0.061 total time=  10.1s\n",
      "[CV 2/5] END class_weight=None, criterion=entropy, max_depth=16, min_samples_split=22, n_estimators=400;, score=0.019 total time=   7.8s\n",
      "[CV 3/5] END class_weight=None, criterion=entropy, max_depth=16, min_samples_split=22, n_estimators=400;, score=0.000 total time=   8.2s\n",
      "[CV 4/5] END class_weight=None, criterion=entropy, max_depth=16, min_samples_split=22, n_estimators=400;, score=0.021 total time=   7.7s\n",
      "[CV 5/5] END class_weight=None, criterion=entropy, max_depth=16, min_samples_split=22, n_estimators=400;, score=0.041 total time=   7.7s\n",
      "[CV 1/5] END class_weight=None, criterion=entropy, max_depth=16, min_samples_split=22, n_estimators=500;, score=0.060 total time=   9.3s\n",
      "[CV 2/5] END class_weight=None, criterion=entropy, max_depth=16, min_samples_split=22, n_estimators=500;, score=0.038 total time=   9.0s\n",
      "[CV 3/5] END class_weight=None, criterion=entropy, max_depth=16, min_samples_split=22, n_estimators=500;, score=0.021 total time=   8.9s\n",
      "[CV 4/5] END class_weight=None, criterion=entropy, max_depth=16, min_samples_split=22, n_estimators=500;, score=0.000 total time=   8.3s\n",
      "[CV 5/5] END class_weight=None, criterion=entropy, max_depth=16, min_samples_split=22, n_estimators=500;, score=0.041 total time=   7.4s\n"
     ]
    },
    {
     "data": {
      "text/plain": [
       "GridSearchCV(estimator=RandomForestClassifier(), n_jobs=-1,\n",
       "             param_grid={'class_weight': ['balanced', None],\n",
       "                         'criterion': ['gini', 'entropy'],\n",
       "                         'max_depth': [10, 12, 14, 16],\n",
       "                         'min_samples_split': [18, 20, 22],\n",
       "                         'n_estimators': [400, 500]},\n",
       "             scoring=make_scorer(f1_score, average=None, labels=['Hispanic']),\n",
       "             verbose=3)"
      ]
     },
     "execution_count": 118,
     "metadata": {},
     "output_type": "execute_result"
    }
   ],
   "source": [
    "rf_grid.fit(X_train,y_train)"
   ]
  },
  {
   "cell_type": "code",
   "execution_count": 119,
   "metadata": {},
   "outputs": [
    {
     "data": {
      "text/plain": [
       "{'class_weight': 'balanced',\n",
       " 'criterion': 'gini',\n",
       " 'max_depth': 10,\n",
       " 'min_samples_split': 20,\n",
       " 'n_estimators': 500}"
      ]
     },
     "execution_count": 119,
     "metadata": {},
     "output_type": "execute_result"
    }
   ],
   "source": [
    "rf_grid.best_params_"
   ]
  },
  {
   "cell_type": "code",
   "execution_count": 120,
   "metadata": {},
   "outputs": [
    {
     "name": "stdout",
     "output_type": "stream",
     "text": [
      "Test_Set_Scores \n",
      "----------------\n",
      "[[ 319   12   58]\n",
      " [  25   68  111]\n",
      " [  44   77 1017]]\n",
      "              precision    recall  f1-score   support\n",
      "\n",
      "       Black       0.82      0.82      0.82       389\n",
      "    Hispanic       0.43      0.33      0.38       204\n",
      "       White       0.86      0.89      0.88      1138\n",
      "\n",
      "    accuracy                           0.81      1731\n",
      "   macro avg       0.70      0.68      0.69      1731\n",
      "weighted avg       0.80      0.81      0.80      1731\n",
      "\n",
      "\n",
      "Train_Set_Scores \n",
      "----------------\n",
      "[[ 875    4   30]\n",
      " [   5  446   24]\n",
      " [  43   98 2513]]\n",
      "              precision    recall  f1-score   support\n",
      "\n",
      "       Black       0.95      0.96      0.96       909\n",
      "    Hispanic       0.81      0.94      0.87       475\n",
      "       White       0.98      0.95      0.96      2654\n",
      "\n",
      "    accuracy                           0.95      4038\n",
      "   macro avg       0.91      0.95      0.93      4038\n",
      "weighted avg       0.95      0.95      0.95      4038\n",
      "\n"
     ]
    }
   ],
   "source": [
    "eval_metric(rf_grid, X_train, y_train, X_test, y_test)"
   ]
  },
  {
   "cell_type": "code",
   "execution_count": 121,
   "metadata": {},
   "outputs": [],
   "source": [
    "y_pred = rf_grid.predict(X_test)\n",
    "rf_grid_f1 = f1_score(y_test, y_pred, average='weighted')\n",
    "rf_grid_recall = recall_score(y_test, y_pred, average='weighted')"
   ]
  },
  {
   "cell_type": "code",
   "execution_count": 122,
   "metadata": {},
   "outputs": [
    {
     "data": {
      "image/png": "[encoded data removed]",
      "text/plain": [
       "<Figure size 1152x720 with 1 Axes>"
      ]
     },
     "metadata": {
      "needs_background": "light"
     },
     "output_type": "display_data"
    }
   ],
   "source": [
    "plot_multiclass_roc(svm_grid,\n",
    "                    X_test,\n",
    "                    y_test,\n",
    "                    n_classes=3,\n",
    "                    figsize=(16, 10))"
   ]
  },
  {
   "cell_type": "code",
   "execution_count": 125,
   "metadata": {},
   "outputs": [
    {
     "data": {
      "text/html": [
       "<div>\n",
       "<style scoped>\n",
       "    .dataframe tbody tr th:only-of-type {\n",
       "        vertical-align: middle;\n",
       "    }\n",
       "\n",
       "    .dataframe tbody tr th {\n",
       "        vertical-align: top;\n",
       "    }\n",
       "\n",
       "    .dataframe thead th {\n",
       "        text-align: right;\n",
       "    }\n",
       "</style>\n",
       "<table border=\"1\" class=\"dataframe\">\n",
       "  <thead>\n",
       "    <tr style=\"text-align: right;\">\n",
       "      <th></th>\n",
       "      <th>Feature Importance</th>\n",
       "    </tr>\n",
       "  </thead>\n",
       "  <tbody>\n",
       "    <tr>\n",
       "      <th>sittingheight</th>\n",
       "      <td>0.045</td>\n",
       "    </tr>\n",
       "    <tr>\n",
       "      <th>eyeheightsitting</th>\n",
       "      <td>0.041</td>\n",
       "    </tr>\n",
       "    <tr>\n",
       "      <th>interpupillarybreadth</th>\n",
       "      <td>0.039</td>\n",
       "    </tr>\n",
       "    <tr>\n",
       "      <th>heelbreadth</th>\n",
       "      <td>0.037</td>\n",
       "    </tr>\n",
       "    <tr>\n",
       "      <th>elbowrestheight</th>\n",
       "      <td>0.033</td>\n",
       "    </tr>\n",
       "    <tr>\n",
       "      <th>...</th>\n",
       "      <td>...</td>\n",
       "    </tr>\n",
       "    <tr>\n",
       "      <th>poplitealheight</th>\n",
       "      <td>0.006</td>\n",
       "    </tr>\n",
       "    <tr>\n",
       "      <th>shoulderlength</th>\n",
       "      <td>0.006</td>\n",
       "    </tr>\n",
       "    <tr>\n",
       "      <th>bimalleolarbreadth</th>\n",
       "      <td>0.006</td>\n",
       "    </tr>\n",
       "    <tr>\n",
       "      <th>earbreadth</th>\n",
       "      <td>0.005</td>\n",
       "    </tr>\n",
       "    <tr>\n",
       "      <th>Gender</th>\n",
       "      <td>0.005</td>\n",
       "    </tr>\n",
       "  </tbody>\n",
       "</table>\n",
       "<p>94 rows × 1 columns</p>\n",
       "</div>"
      ],
      "text/plain": [
       "                       Feature Importance\n",
       "sittingheight                       0.045\n",
       "eyeheightsitting                    0.041\n",
       "interpupillarybreadth               0.039\n",
       "heelbreadth                         0.037\n",
       "elbowrestheight                     0.033\n",
       "...                                   ...\n",
       "poplitealheight                     0.006\n",
       "shoulderlength                      0.006\n",
       "bimalleolarbreadth                  0.006\n",
       "earbreadth                          0.005\n",
       "Gender                              0.005\n",
       "\n",
       "[94 rows x 1 columns]"
      ]
     },
     "execution_count": 125,
     "metadata": {},
     "output_type": "execute_result"
    }
   ],
   "source": [
    "rf_feature_imp = pd.DataFrame(index = X.columns, data = rf.feature_importances_,\n",
    "                              columns = [\"Feature Importance\"]).sort_values(\"Feature Importance\", ascending = False)\n",
    "rf_feature_imp"
   ]
  },
  {
   "cell_type": "code",
   "execution_count": 130,
   "metadata": {},
   "outputs": [
    {
     "data": {
      "image/png": "[encoded data removed]",
      "text/plain": [
       "<Figure size 720x432 with 1 Axes>"
      ]
     },
     "metadata": {
      "needs_background": "light"
     },
     "output_type": "display_data"
    }
   ],
   "source": [
    "# 20 Most important features\n",
    "sns.barplot(x=rf_feature_imp[\"Feature Importance\"].head(20), y=rf_feature_imp.index[:20])\n",
    "plt.title(\"Feature Importance\")\n",
    "plt.show()"
   ]
  },
  {
   "cell_type": "code",
   "execution_count": null,
   "metadata": {},
   "outputs": [],
   "source": []
  },
  {
   "cell_type": "code",
   "execution_count": null,
   "metadata": {},
   "outputs": [],
   "source": []
  },
  {
   "cell_type": "code",
   "execution_count": null,
   "metadata": {},
   "outputs": [],
   "source": []
  },
  {
   "cell_type": "code",
   "execution_count": null,
   "metadata": {},
   "outputs": [],
   "source": []
  },
  {
   "cell_type": "markdown",
   "metadata": {
    "heading_collapsed": true,
    "hidden": true,
    "id": "PvcPc4V81b7H"
   },
   "source": [
    "## 4. XGBoost"
   ]
  },
  {
   "cell_type": "code",
   "execution_count": 131,
   "metadata": {},
   "outputs": [],
   "source": [
    "from xgboost import XGBClassifier"
   ]
  },
  {
   "cell_type": "markdown",
   "metadata": {
    "heading_collapsed": true,
    "hidden": true,
    "id": "MuxxUFoW1b7H"
   },
   "source": [
    "### Vanilla XGBoost Model"
   ]
  },
  {
   "cell_type": "code",
   "execution_count": 132,
   "metadata": {},
   "outputs": [],
   "source": [
    "xgb = XGBClassifier()"
   ]
  },
  {
   "cell_type": "code",
   "execution_count": 134,
   "metadata": {},
   "outputs": [
    {
     "data": {
      "text/plain": [
       "array([0.50715901, 2.83368421, 1.48074807, ..., 0.50715901, 0.50715901,\n",
       "       1.48074807])"
      ]
     },
     "execution_count": 134,
     "metadata": {},
     "output_type": "execute_result"
    }
   ],
   "source": [
    "from sklearn.utils import class_weight\n",
    "classes_weights = class_weight.compute_sample_weight(class_weight='balanced', y=y_train)\n",
    "classes_weights"
   ]
  },
  {
   "cell_type": "code",
   "execution_count": 135,
   "metadata": {},
   "outputs": [
    {
     "name": "stdout",
     "output_type": "stream",
     "text": [
      "[23:42:13] WARNING: ../src/learner.cc:1115: Starting in XGBoost 1.3.0, the default evaluation metric used with the objective 'multi:softprob' was changed from 'merror' to 'mlogloss'. Explicitly set eval_metric if you'd like to restore the old behavior.\n"
     ]
    },
    {
     "data": {
      "text/plain": [
       "XGBClassifier(base_score=0.5, booster='gbtree', colsample_bylevel=1,\n",
       "              colsample_bynode=1, colsample_bytree=1, enable_categorical=False,\n",
       "              gamma=0, gpu_id=-1, importance_type=None,\n",
       "              interaction_constraints='', learning_rate=0.300000012,\n",
       "              max_delta_step=0, max_depth=6, min_child_weight=1, missing=nan,\n",
       "              monotone_constraints='()', n_estimators=100, n_jobs=8,\n",
       "              num_parallel_tree=1, objective='multi:softprob', predictor='auto',\n",
       "              random_state=0, reg_alpha=0, reg_lambda=1, scale_pos_weight=None,\n",
       "              subsample=1, tree_method='exact', validate_parameters=1,\n",
       "              verbosity=None)"
      ]
     },
     "execution_count": 135,
     "metadata": {},
     "output_type": "execute_result"
    }
   ],
   "source": [
    "xgb.fit(X_train,y_train,sample_weight=classes_weights)"
   ]
  },
  {
   "cell_type": "code",
   "execution_count": 137,
   "metadata": {},
   "outputs": [
    {
     "name": "stdout",
     "output_type": "stream",
     "text": [
      "Test_Set_Scores \n",
      "----------------\n",
      "[[ 340    8   41]\n",
      " [  19   59  126]\n",
      " [  25   33 1080]]\n",
      "              precision    recall  f1-score   support\n",
      "\n",
      "       Black       0.89      0.87      0.88       389\n",
      "    Hispanic       0.59      0.29      0.39       204\n",
      "       White       0.87      0.95      0.91      1138\n",
      "\n",
      "    accuracy                           0.85      1731\n",
      "   macro avg       0.78      0.70      0.72      1731\n",
      "weighted avg       0.84      0.85      0.84      1731\n",
      "\n",
      "\n",
      "Train_Set_Scores \n",
      "----------------\n",
      "[[ 909    0    0]\n",
      " [   0  475    0]\n",
      " [   0    0 2654]]\n",
      "              precision    recall  f1-score   support\n",
      "\n",
      "       Black       1.00      1.00      1.00       909\n",
      "    Hispanic       1.00      1.00      1.00       475\n",
      "       White       1.00      1.00      1.00      2654\n",
      "\n",
      "    accuracy                           1.00      4038\n",
      "   macro avg       1.00      1.00      1.00      4038\n",
      "weighted avg       1.00      1.00      1.00      4038\n",
      "\n"
     ]
    }
   ],
   "source": [
    "eval_metric(xgb, X_train, y_train, X_test, y_test)"
   ]
  },
  {
   "cell_type": "code",
   "execution_count": 138,
   "metadata": {},
   "outputs": [],
   "source": [
    "y_pred = xgb.predict(X_test)\n",
    "xgb_f1 = f1_score(y_test, y_pred, average='weighted')\n",
    "xgb_recall = recall_score(y_test, y_pred, average='weighted')"
   ]
  },
  {
   "cell_type": "markdown",
   "metadata": {
    "heading_collapsed": true,
    "hidden": true,
    "id": "p3gH5QvE1b7I"
   },
   "source": [
    "### XGBoost Model GridsearchCV"
   ]
  },
  {
   "cell_type": "code",
   "execution_count": 139,
   "metadata": {
    "id": "72E3Cmnm2KOE"
   },
   "outputs": [],
   "source": [
    "param_grid = {\"n_estimators\":[100, 300],\n",
    "              'max_depth':[3,5,6],\n",
    "              \"learning_rate\": [0.1, 0.3],\n",
    "              \"subsample\":[0.5, 1],\n",
    "              \"colsample_bytree\":[0.5, 1]}"
   ]
  },
  {
   "cell_type": "code",
   "execution_count": 140,
   "metadata": {},
   "outputs": [
    {
     "name": "stdout",
     "output_type": "stream",
     "text": [
      "Fitting 5 folds for each of 48 candidates, totalling 240 fits\n"
     ]
    },
    {
     "name": "stderr",
     "output_type": "stream",
     "text": [
      "/Users/hakantekin/opt/anaconda3/lib/python3.9/site-packages/xgboost/sklearn.py:1224: UserWarning: The use of label encoder in XGBClassifier is deprecated and will be removed in a future release. To remove this warning, do the following: 1) Pass option use_label_encoder=False when constructing XGBClassifier object; and 2) Encode your labels (y) as integers starting with 0, i.e. 0, 1, 2, ..., [num_class - 1].\n",
      "  warnings.warn(label_encoder_deprecation_msg, UserWarning)\n",
      "/Users/hakantekin/opt/anaconda3/lib/python3.9/site-packages/xgboost/sklearn.py:1224: UserWarning: The use of label encoder in XGBClassifier is deprecated and will be removed in a future release. To remove this warning, do the following: 1) Pass option use_label_encoder=False when constructing XGBClassifier object; and 2) Encode your labels (y) as integers starting with 0, i.e. 0, 1, 2, ..., [num_class - 1].\n",
      "  warnings.warn(label_encoder_deprecation_msg, UserWarning)\n",
      "/Users/hakantekin/opt/anaconda3/lib/python3.9/site-packages/xgboost/sklearn.py:1224: UserWarning: The use of label encoder in XGBClassifier is deprecated and will be removed in a future release. To remove this warning, do the following: 1) Pass option use_label_encoder=False when constructing XGBClassifier object; and 2) Encode your labels (y) as integers starting with 0, i.e. 0, 1, 2, ..., [num_class - 1].\n",
      "  warnings.warn(label_encoder_deprecation_msg, UserWarning)\n",
      "/Users/hakantekin/opt/anaconda3/lib/python3.9/site-packages/xgboost/sklearn.py:1224: UserWarning: The use of label encoder in XGBClassifier is deprecated and will be removed in a future release. To remove this warning, do the following: 1) Pass option use_label_encoder=False when constructing XGBClassifier object; and 2) Encode your labels (y) as integers starting with 0, i.e. 0, 1, 2, ..., [num_class - 1].\n",
      "  warnings.warn(label_encoder_deprecation_msg, UserWarning)\n",
      "/Users/hakantekin/opt/anaconda3/lib/python3.9/site-packages/xgboost/sklearn.py:1224: UserWarning: The use of label encoder in XGBClassifier is deprecated and will be removed in a future release. To remove this warning, do the following: 1) Pass option use_label_encoder=False when constructing XGBClassifier object; and 2) Encode your labels (y) as integers starting with 0, i.e. 0, 1, 2, ..., [num_class - 1].\n",
      "  warnings.warn(label_encoder_deprecation_msg, UserWarning)\n",
      "/Users/hakantekin/opt/anaconda3/lib/python3.9/site-packages/xgboost/sklearn.py:1224: UserWarning: The use of label encoder in XGBClassifier is deprecated and will be removed in a future release. To remove this warning, do the following: 1) Pass option use_label_encoder=False when constructing XGBClassifier object; and 2) Encode your labels (y) as integers starting with 0, i.e. 0, 1, 2, ..., [num_class - 1].\n",
      "  warnings.warn(label_encoder_deprecation_msg, UserWarning)\n",
      "/Users/hakantekin/opt/anaconda3/lib/python3.9/site-packages/xgboost/sklearn.py:1224: UserWarning: The use of label encoder in XGBClassifier is deprecated and will be removed in a future release. To remove this warning, do the following: 1) Pass option use_label_encoder=False when constructing XGBClassifier object; and 2) Encode your labels (y) as integers starting with 0, i.e. 0, 1, 2, ..., [num_class - 1].\n",
      "  warnings.warn(label_encoder_deprecation_msg, UserWarning)\n",
      "/Users/hakantekin/opt/anaconda3/lib/python3.9/site-packages/xgboost/sklearn.py:1224: UserWarning: The use of label encoder in XGBClassifier is deprecated and will be removed in a future release. To remove this warning, do the following: 1) Pass option use_label_encoder=False when constructing XGBClassifier object; and 2) Encode your labels (y) as integers starting with 0, i.e. 0, 1, 2, ..., [num_class - 1].\n",
      "  warnings.warn(label_encoder_deprecation_msg, UserWarning)\n"
     ]
    },
    {
     "name": "stdout",
     "output_type": "stream",
     "text": [
      "[23:47:48] WARNING: ../src/learner.cc:1115: Starting in XGBoost 1.3.0, the default evaluation metric used with the objective 'multi:softprob' was changed from 'merror' to 'mlogloss'. Explicitly set eval_metric if you'd like to restore the old behavior.\n",
      "[23:47:48] WARNING: ../src/learner.cc:1115: Starting in XGBoost 1.3.0, the default evaluation metric used with the objective 'multi:softprob' was changed from 'merror' to 'mlogloss'. Explicitly set eval_metric if you'd like to restore the old behavior.\n",
      "[23:47:48] WARNING: ../src/learner.cc:1115: Starting in XGBoost 1.3.0, the default evaluation metric used with the objective 'multi:softprob' was changed from 'merror' to 'mlogloss'. Explicitly set eval_metric if you'd like to restore the old behavior.\n",
      "[23:47:48] WARNING: ../src/learner.cc:1115: Starting in XGBoost 1.3.0, the default evaluation metric used with the objective 'multi:softprob' was changed from 'merror' to 'mlogloss'. Explicitly set eval_metric if you'd like to restore the old behavior.\n",
      "[23:47:48] WARNING: ../src/learner.cc:1115: Starting in XGBoost 1.3.0, the default evaluation metric used with the objective 'multi:softprob' was changed from 'merror' to 'mlogloss'. Explicitly set eval_metric if you'd like to restore the old behavior.\n",
      "[23:47:48] WARNING: ../src/learner.cc:1115: Starting in XGBoost 1.3.0, the default evaluation metric used with the objective 'multi:softprob' was changed from 'merror' to 'mlogloss'. Explicitly set eval_metric if you'd like to restore the old behavior.\n",
      "[23:47:48] WARNING: ../src/learner.cc:1115: Starting in XGBoost 1.3.0, the default evaluation metric used with the objective 'multi:softprob' was changed from 'merror' to 'mlogloss'. Explicitly set eval_metric if you'd like to restore the old behavior.\n",
      "[23:47:48] WARNING: ../src/learner.cc:1115: Starting in XGBoost 1.3.0, the default evaluation metric used with the objective 'multi:softprob' was changed from 'merror' to 'mlogloss'. Explicitly set eval_metric if you'd like to restore the old behavior.\n",
      "[CV] END colsample_bytree=0.5, learning_rate=0.1, max_depth=3, n_estimators=100, subsample=0.5; total time=   8.3s\n",
      "[CV] END colsample_bytree=0.5, learning_rate=0.1, max_depth=3, n_estimators=100, subsample=1; total time=   8.3s\n",
      "[CV] END colsample_bytree=0.5, learning_rate=0.1, max_depth=3, n_estimators=100, subsample=1; total time=   8.3s\n",
      "[CV] END colsample_bytree=0.5, learning_rate=0.1, max_depth=3, n_estimators=100, subsample=1; total time=   8.3s\n",
      "[CV] END colsample_bytree=0.5, learning_rate=0.1, max_depth=3, n_estimators=100, subsample=0.5; total time=   8.4s\n",
      "[CV] END colsample_bytree=0.5, learning_rate=0.1, max_depth=3, n_estimators=100, subsample=0.5; total time=   8.4s\n"
     ]
    },
    {
     "name": "stderr",
     "output_type": "stream",
     "text": [
      "/Users/hakantekin/opt/anaconda3/lib/python3.9/site-packages/xgboost/sklearn.py:1224: UserWarning: The use of label encoder in XGBClassifier is deprecated and will be removed in a future release. To remove this warning, do the following: 1) Pass option use_label_encoder=False when constructing XGBClassifier object; and 2) Encode your labels (y) as integers starting with 0, i.e. 0, 1, 2, ..., [num_class - 1].\n",
      "  warnings.warn(label_encoder_deprecation_msg, UserWarning)\n",
      "/Users/hakantekin/opt/anaconda3/lib/python3.9/site-packages/xgboost/sklearn.py:1224: UserWarning: The use of label encoder in XGBClassifier is deprecated and will be removed in a future release. To remove this warning, do the following: 1) Pass option use_label_encoder=False when constructing XGBClassifier object; and 2) Encode your labels (y) as integers starting with 0, i.e. 0, 1, 2, ..., [num_class - 1].\n",
      "  warnings.warn(label_encoder_deprecation_msg, UserWarning)\n",
      "/Users/hakantekin/opt/anaconda3/lib/python3.9/site-packages/xgboost/sklearn.py:1224: UserWarning: The use of label encoder in XGBClassifier is deprecated and will be removed in a future release. To remove this warning, do the following: 1) Pass option use_label_encoder=False when constructing XGBClassifier object; and 2) Encode your labels (y) as integers starting with 0, i.e. 0, 1, 2, ..., [num_class - 1].\n",
      "  warnings.warn(label_encoder_deprecation_msg, UserWarning)\n",
      "/Users/hakantekin/opt/anaconda3/lib/python3.9/site-packages/xgboost/sklearn.py:1224: UserWarning: The use of label encoder in XGBClassifier is deprecated and will be removed in a future release. To remove this warning, do the following: 1) Pass option use_label_encoder=False when constructing XGBClassifier object; and 2) Encode your labels (y) as integers starting with 0, i.e. 0, 1, 2, ..., [num_class - 1].\n",
      "  warnings.warn(label_encoder_deprecation_msg, UserWarning)\n",
      "/Users/hakantekin/opt/anaconda3/lib/python3.9/site-packages/xgboost/sklearn.py:1224: UserWarning: The use of label encoder in XGBClassifier is deprecated and will be removed in a future release. To remove this warning, do the following: 1) Pass option use_label_encoder=False when constructing XGBClassifier object; and 2) Encode your labels (y) as integers starting with 0, i.e. 0, 1, 2, ..., [num_class - 1].\n",
      "  warnings.warn(label_encoder_deprecation_msg, UserWarning)\n",
      "/Users/hakantekin/opt/anaconda3/lib/python3.9/site-packages/xgboost/sklearn.py:1224: UserWarning: The use of label encoder in XGBClassifier is deprecated and will be removed in a future release. To remove this warning, do the following: 1) Pass option use_label_encoder=False when constructing XGBClassifier object; and 2) Encode your labels (y) as integers starting with 0, i.e. 0, 1, 2, ..., [num_class - 1].\n",
      "  warnings.warn(label_encoder_deprecation_msg, UserWarning)\n",
      "/Users/hakantekin/opt/anaconda3/lib/python3.9/site-packages/xgboost/sklearn.py:1224: UserWarning: The use of label encoder in XGBClassifier is deprecated and will be removed in a future release. To remove this warning, do the following: 1) Pass option use_label_encoder=False when constructing XGBClassifier object; and 2) Encode your labels (y) as integers starting with 0, i.e. 0, 1, 2, ..., [num_class - 1].\n",
      "  warnings.warn(label_encoder_deprecation_msg, UserWarning)\n"
     ]
    },
    {
     "name": "stdout",
     "output_type": "stream",
     "text": [
      "[CV] END colsample_bytree=0.5, learning_rate=0.1, max_depth=3, n_estimators=100, subsample=0.5; total time=   8.5s\n",
      "[CV] END colsample_bytree=0.5, learning_rate=0.1, max_depth=3, n_estimators=100, subsample=0.5; total time=   8.5s\n",
      "[23:47:56] WARNING: ../src/learner.cc:1115: Starting in XGBoost 1.3.0, the default evaluation metric used with the objective 'multi:softprob' was changed from 'merror' to 'mlogloss'. Explicitly set eval_metric if you'd like to restore the old behavior.\n",
      "[23:47:56] WARNING: ../src/learner.cc:1115: Starting in XGBoost 1.3.0, the default evaluation metric used with the objective 'multi:softprob' was changed from 'merror' to 'mlogloss'. Explicitly set eval_metric if you'd like to restore the old behavior.\n",
      "[23:47:56] WARNING: ../src/learner.cc:1115: Starting in XGBoost 1.3.0, the default evaluation metric used with the objective 'multi:softprob' was changed from 'merror' to 'mlogloss'. Explicitly set eval_metric if you'd like to restore the old behavior.\n",
      "[23:47:56] WARNING: ../src/learner.cc:1115: Starting in XGBoost 1.3.0, the default evaluation metric used with the objective 'multi:softprob' was changed from 'merror' to 'mlogloss'. Explicitly set eval_metric if you'd like to restore the old behavior.\n",
      "[23:47:56] WARNING: ../src/learner.cc:1115: Starting in XGBoost 1.3.0, the default evaluation metric used with the objective 'multi:softprob' was changed from 'merror' to 'mlogloss'. Explicitly set eval_metric if you'd like to restore the old behavior.\n",
      "[23:47:56] WARNING: ../src/learner.cc:1115: Starting in XGBoost 1.3.0, the default evaluation metric used with the objective 'multi:softprob' was changed from 'merror' to 'mlogloss'. Explicitly set eval_metric if you'd like to restore the old behavior.\n",
      "[23:47:56] WARNING: ../src/learner.cc:1115: Starting in XGBoost 1.3.0, the default evaluation metric used with the objective 'multi:softprob' was changed from 'merror' to 'mlogloss'. Explicitly set eval_metric if you'd like to restore the old behavior.\n",
      "[23:47:56] WARNING: ../src/learner.cc:1115: Starting in XGBoost 1.3.0, the default evaluation metric used with the objective 'multi:softprob' was changed from 'merror' to 'mlogloss'. Explicitly set eval_metric if you'd like to restore the old behavior.\n"
     ]
    },
    {
     "name": "stderr",
     "output_type": "stream",
     "text": [
      "/Users/hakantekin/opt/anaconda3/lib/python3.9/site-packages/xgboost/sklearn.py:1224: UserWarning: The use of label encoder in XGBClassifier is deprecated and will be removed in a future release. To remove this warning, do the following: 1) Pass option use_label_encoder=False when constructing XGBClassifier object; and 2) Encode your labels (y) as integers starting with 0, i.e. 0, 1, 2, ..., [num_class - 1].\n",
      "  warnings.warn(label_encoder_deprecation_msg, UserWarning)\n"
     ]
    },
    {
     "name": "stdout",
     "output_type": "stream",
     "text": [
      "[CV] END colsample_bytree=0.5, learning_rate=0.1, max_depth=3, n_estimators=100, subsample=1; total time=   8.1s\n",
      "[CV] END colsample_bytree=0.5, learning_rate=0.1, max_depth=3, n_estimators=100, subsample=1; total time=   8.1s\n",
      "[23:48:04] WARNING: ../src/learner.cc:1115: Starting in XGBoost 1.3.0, the default evaluation metric used with the objective 'multi:softprob' was changed from 'merror' to 'mlogloss'. Explicitly set eval_metric if you'd like to restore the old behavior.\n",
      "[23:48:04] WARNING: ../src/learner.cc:1115: Starting in XGBoost 1.3.0, the default evaluation metric used with the objective 'multi:softprob' was changed from 'merror' to 'mlogloss'. Explicitly set eval_metric if you'd like to restore the old behavior.\n"
     ]
    },
    {
     "name": "stderr",
     "output_type": "stream",
     "text": [
      "/Users/hakantekin/opt/anaconda3/lib/python3.9/site-packages/xgboost/sklearn.py:1224: UserWarning: The use of label encoder in XGBClassifier is deprecated and will be removed in a future release. To remove this warning, do the following: 1) Pass option use_label_encoder=False when constructing XGBClassifier object; and 2) Encode your labels (y) as integers starting with 0, i.e. 0, 1, 2, ..., [num_class - 1].\n",
      "  warnings.warn(label_encoder_deprecation_msg, UserWarning)\n",
      "/Users/hakantekin/opt/anaconda3/lib/python3.9/site-packages/xgboost/sklearn.py:1224: UserWarning: The use of label encoder in XGBClassifier is deprecated and will be removed in a future release. To remove this warning, do the following: 1) Pass option use_label_encoder=False when constructing XGBClassifier object; and 2) Encode your labels (y) as integers starting with 0, i.e. 0, 1, 2, ..., [num_class - 1].\n",
      "  warnings.warn(label_encoder_deprecation_msg, UserWarning)\n"
     ]
    },
    {
     "name": "stdout",
     "output_type": "stream",
     "text": [
      "[CV] END colsample_bytree=0.5, learning_rate=0.1, max_depth=3, n_estimators=300, subsample=0.5; total time=  24.3s\n",
      "[CV] END colsample_bytree=0.5, learning_rate=0.1, max_depth=3, n_estimators=300, subsample=0.5; total time=  24.3s\n",
      "[CV] END colsample_bytree=0.5, learning_rate=0.1, max_depth=3, n_estimators=300, subsample=0.5; total time=  24.3s\n",
      "[CV] END colsample_bytree=0.5, learning_rate=0.1, max_depth=3, n_estimators=300, subsample=0.5; total time=  24.4s\n",
      "[23:48:20] WARNING: ../src/learner.cc:1115: Starting in XGBoost 1.3.0, the default evaluation metric used with the objective 'multi:softprob' was changed from 'merror' to 'mlogloss'. Explicitly set eval_metric if you'd like to restore the old behavior.\n",
      "[23:48:20] WARNING: ../src/learner.cc:1115: Starting in XGBoost 1.3.0, the default evaluation metric used with the objective 'multi:softprob' was changed from 'merror' to 'mlogloss'. Explicitly set eval_metric if you'd like to restore the old behavior.\n",
      "[CV] END colsample_bytree=0.5, learning_rate=0.1, max_depth=3, n_estimators=300, subsample=0.5; total time=  24.4s\n"
     ]
    },
    {
     "name": "stderr",
     "output_type": "stream",
     "text": [
      "/Users/hakantekin/opt/anaconda3/lib/python3.9/site-packages/xgboost/sklearn.py:1224: UserWarning: The use of label encoder in XGBClassifier is deprecated and will be removed in a future release. To remove this warning, do the following: 1) Pass option use_label_encoder=False when constructing XGBClassifier object; and 2) Encode your labels (y) as integers starting with 0, i.e. 0, 1, 2, ..., [num_class - 1].\n",
      "  warnings.warn(label_encoder_deprecation_msg, UserWarning)\n",
      "/Users/hakantekin/opt/anaconda3/lib/python3.9/site-packages/xgboost/sklearn.py:1224: UserWarning: The use of label encoder in XGBClassifier is deprecated and will be removed in a future release. To remove this warning, do the following: 1) Pass option use_label_encoder=False when constructing XGBClassifier object; and 2) Encode your labels (y) as integers starting with 0, i.e. 0, 1, 2, ..., [num_class - 1].\n",
      "  warnings.warn(label_encoder_deprecation_msg, UserWarning)\n",
      "/Users/hakantekin/opt/anaconda3/lib/python3.9/site-packages/xgboost/sklearn.py:1224: UserWarning: The use of label encoder in XGBClassifier is deprecated and will be removed in a future release. To remove this warning, do the following: 1) Pass option use_label_encoder=False when constructing XGBClassifier object; and 2) Encode your labels (y) as integers starting with 0, i.e. 0, 1, 2, ..., [num_class - 1].\n",
      "  warnings.warn(label_encoder_deprecation_msg, UserWarning)\n",
      "/Users/hakantekin/opt/anaconda3/lib/python3.9/site-packages/xgboost/sklearn.py:1224: UserWarning: The use of label encoder in XGBClassifier is deprecated and will be removed in a future release. To remove this warning, do the following: 1) Pass option use_label_encoder=False when constructing XGBClassifier object; and 2) Encode your labels (y) as integers starting with 0, i.e. 0, 1, 2, ..., [num_class - 1].\n",
      "  warnings.warn(label_encoder_deprecation_msg, UserWarning)\n",
      "/Users/hakantekin/opt/anaconda3/lib/python3.9/site-packages/xgboost/sklearn.py:1224: UserWarning: The use of label encoder in XGBClassifier is deprecated and will be removed in a future release. To remove this warning, do the following: 1) Pass option use_label_encoder=False when constructing XGBClassifier object; and 2) Encode your labels (y) as integers starting with 0, i.e. 0, 1, 2, ..., [num_class - 1].\n",
      "  warnings.warn(label_encoder_deprecation_msg, UserWarning)\n"
     ]
    },
    {
     "name": "stdout",
     "output_type": "stream",
     "text": [
      "[CV] END colsample_bytree=0.5, learning_rate=0.1, max_depth=3, n_estimators=300, subsample=1; total time=  24.5s\n",
      "[23:48:20] WARNING: ../src/learner.cc:1115: Starting in XGBoost 1.3.0, the default evaluation metric used with the objective 'multi:softprob' was changed from 'merror' to 'mlogloss'. Explicitly set eval_metric if you'd like to restore the old behavior.\n",
      "[23:48:20] WARNING: ../src/learner.cc:1115: Starting in XGBoost 1.3.0, the default evaluation metric used with the objective 'multi:softprob' was changed from 'merror' to 'mlogloss'. Explicitly set eval_metric if you'd like to restore the old behavior.\n",
      "[23:48:21] WARNING: ../src/learner.cc:1115: Starting in XGBoost 1.3.0, the default evaluation metric used with the objective 'multi:softprob' was changed from 'merror' to 'mlogloss'. Explicitly set eval_metric if you'd like to restore the old behavior.\n"
     ]
    },
    {
     "name": "stderr",
     "output_type": "stream",
     "text": [
      "/Users/hakantekin/opt/anaconda3/lib/python3.9/site-packages/xgboost/sklearn.py:1224: UserWarning: The use of label encoder in XGBClassifier is deprecated and will be removed in a future release. To remove this warning, do the following: 1) Pass option use_label_encoder=False when constructing XGBClassifier object; and 2) Encode your labels (y) as integers starting with 0, i.e. 0, 1, 2, ..., [num_class - 1].\n",
      "  warnings.warn(label_encoder_deprecation_msg, UserWarning)\n"
     ]
    },
    {
     "name": "stdout",
     "output_type": "stream",
     "text": [
      "[23:48:21] WARNING: ../src/learner.cc:1115: Starting in XGBoost 1.3.0, the default evaluation metric used with the objective 'multi:softprob' was changed from 'merror' to 'mlogloss'. Explicitly set eval_metric if you'd like to restore the old behavior.\n",
      "[CV] END colsample_bytree=0.5, learning_rate=0.1, max_depth=3, n_estimators=300, subsample=1; total time=  23.8s\n",
      "[CV] END colsample_bytree=0.5, learning_rate=0.1, max_depth=3, n_estimators=300, subsample=1; total time=  23.8s\n"
     ]
    },
    {
     "name": "stderr",
     "output_type": "stream",
     "text": [
      "/Users/hakantekin/opt/anaconda3/lib/python3.9/site-packages/xgboost/sklearn.py:1224: UserWarning: The use of label encoder in XGBClassifier is deprecated and will be removed in a future release. To remove this warning, do the following: 1) Pass option use_label_encoder=False when constructing XGBClassifier object; and 2) Encode your labels (y) as integers starting with 0, i.e. 0, 1, 2, ..., [num_class - 1].\n",
      "  warnings.warn(label_encoder_deprecation_msg, UserWarning)\n",
      "/Users/hakantekin/opt/anaconda3/lib/python3.9/site-packages/xgboost/sklearn.py:1224: UserWarning: The use of label encoder in XGBClassifier is deprecated and will be removed in a future release. To remove this warning, do the following: 1) Pass option use_label_encoder=False when constructing XGBClassifier object; and 2) Encode your labels (y) as integers starting with 0, i.e. 0, 1, 2, ..., [num_class - 1].\n",
      "  warnings.warn(label_encoder_deprecation_msg, UserWarning)\n"
     ]
    },
    {
     "name": "stdout",
     "output_type": "stream",
     "text": [
      "[23:48:28] WARNING: ../src/learner.cc:1115: Starting in XGBoost 1.3.0, the default evaluation metric used with the objective 'multi:softprob' was changed from 'merror' to 'mlogloss'. Explicitly set eval_metric if you'd like to restore the old behavior.\n",
      "[23:48:28] WARNING: ../src/learner.cc:1115: Starting in XGBoost 1.3.0, the default evaluation metric used with the objective 'multi:softprob' was changed from 'merror' to 'mlogloss'. Explicitly set eval_metric if you'd like to restore the old behavior.\n",
      "[CV] END colsample_bytree=0.5, learning_rate=0.1, max_depth=5, n_estimators=100, subsample=0.5; total time=  15.9s\n",
      "[CV] END colsample_bytree=0.5, learning_rate=0.1, max_depth=5, n_estimators=100, subsample=0.5; total time=  15.9s\n",
      "[23:48:36] WARNING: ../src/learner.cc:1115: Starting in XGBoost 1.3.0, the default evaluation metric used with the objective 'multi:softprob' was changed from 'merror' to 'mlogloss'. Explicitly set eval_metric if you'd like to restore the old behavior.\n"
     ]
    },
    {
     "name": "stderr",
     "output_type": "stream",
     "text": [
      "/Users/hakantekin/opt/anaconda3/lib/python3.9/site-packages/xgboost/sklearn.py:1224: UserWarning: The use of label encoder in XGBClassifier is deprecated and will be removed in a future release. To remove this warning, do the following: 1) Pass option use_label_encoder=False when constructing XGBClassifier object; and 2) Encode your labels (y) as integers starting with 0, i.e. 0, 1, 2, ..., [num_class - 1].\n",
      "  warnings.warn(label_encoder_deprecation_msg, UserWarning)\n",
      "/Users/hakantekin/opt/anaconda3/lib/python3.9/site-packages/xgboost/sklearn.py:1224: UserWarning: The use of label encoder in XGBClassifier is deprecated and will be removed in a future release. To remove this warning, do the following: 1) Pass option use_label_encoder=False when constructing XGBClassifier object; and 2) Encode your labels (y) as integers starting with 0, i.e. 0, 1, 2, ..., [num_class - 1].\n",
      "  warnings.warn(label_encoder_deprecation_msg, UserWarning)\n"
     ]
    },
    {
     "name": "stdout",
     "output_type": "stream",
     "text": [
      "[23:48:36] WARNING: ../src/learner.cc:1115: Starting in XGBoost 1.3.0, the default evaluation metric used with the objective 'multi:softprob' was changed from 'merror' to 'mlogloss'. Explicitly set eval_metric if you'd like to restore the old behavior.\n",
      "[CV] END colsample_bytree=0.5, learning_rate=0.1, max_depth=5, n_estimators=100, subsample=0.5; total time=  16.0s\n",
      "[CV] END colsample_bytree=0.5, learning_rate=0.1, max_depth=5, n_estimators=100, subsample=0.5; total time=  15.9s\n"
     ]
    },
    {
     "name": "stderr",
     "output_type": "stream",
     "text": [
      "/Users/hakantekin/opt/anaconda3/lib/python3.9/site-packages/xgboost/sklearn.py:1224: UserWarning: The use of label encoder in XGBClassifier is deprecated and will be removed in a future release. To remove this warning, do the following: 1) Pass option use_label_encoder=False when constructing XGBClassifier object; and 2) Encode your labels (y) as integers starting with 0, i.e. 0, 1, 2, ..., [num_class - 1].\n",
      "  warnings.warn(label_encoder_deprecation_msg, UserWarning)\n",
      "/Users/hakantekin/opt/anaconda3/lib/python3.9/site-packages/xgboost/sklearn.py:1224: UserWarning: The use of label encoder in XGBClassifier is deprecated and will be removed in a future release. To remove this warning, do the following: 1) Pass option use_label_encoder=False when constructing XGBClassifier object; and 2) Encode your labels (y) as integers starting with 0, i.e. 0, 1, 2, ..., [num_class - 1].\n",
      "  warnings.warn(label_encoder_deprecation_msg, UserWarning)\n"
     ]
    },
    {
     "name": "stdout",
     "output_type": "stream",
     "text": [
      "[23:48:37] WARNING: ../src/learner.cc:1115: Starting in XGBoost 1.3.0, the default evaluation metric used with the objective 'multi:softprob' was changed from 'merror' to 'mlogloss'. Explicitly set eval_metric if you'd like to restore the old behavior.\n",
      "[23:48:37] WARNING: ../src/learner.cc:1115: Starting in XGBoost 1.3.0, the default evaluation metric used with the objective 'multi:softprob' was changed from 'merror' to 'mlogloss'. Explicitly set eval_metric if you'd like to restore the old behavior.\n",
      "[CV] END colsample_bytree=0.5, learning_rate=0.1, max_depth=3, n_estimators=300, subsample=1; total time=  22.2s\n",
      "[CV] END colsample_bytree=0.5, learning_rate=0.1, max_depth=3, n_estimators=300, subsample=1; total time=  22.3s\n"
     ]
    },
    {
     "name": "stderr",
     "output_type": "stream",
     "text": [
      "/Users/hakantekin/opt/anaconda3/lib/python3.9/site-packages/xgboost/sklearn.py:1224: UserWarning: The use of label encoder in XGBClassifier is deprecated and will be removed in a future release. To remove this warning, do the following: 1) Pass option use_label_encoder=False when constructing XGBClassifier object; and 2) Encode your labels (y) as integers starting with 0, i.e. 0, 1, 2, ..., [num_class - 1].\n",
      "  warnings.warn(label_encoder_deprecation_msg, UserWarning)\n",
      "/Users/hakantekin/opt/anaconda3/lib/python3.9/site-packages/xgboost/sklearn.py:1224: UserWarning: The use of label encoder in XGBClassifier is deprecated and will be removed in a future release. To remove this warning, do the following: 1) Pass option use_label_encoder=False when constructing XGBClassifier object; and 2) Encode your labels (y) as integers starting with 0, i.e. 0, 1, 2, ..., [num_class - 1].\n",
      "  warnings.warn(label_encoder_deprecation_msg, UserWarning)\n"
     ]
    },
    {
     "name": "stdout",
     "output_type": "stream",
     "text": [
      "[23:48:43] WARNING: ../src/learner.cc:1115: Starting in XGBoost 1.3.0, the default evaluation metric used with the objective 'multi:softprob' was changed from 'merror' to 'mlogloss'. Explicitly set eval_metric if you'd like to restore the old behavior.\n",
      "[23:48:43] WARNING: ../src/learner.cc:1115: Starting in XGBoost 1.3.0, the default evaluation metric used with the objective 'multi:softprob' was changed from 'merror' to 'mlogloss'. Explicitly set eval_metric if you'd like to restore the old behavior.\n",
      "[CV] END colsample_bytree=0.5, learning_rate=0.1, max_depth=5, n_estimators=100, subsample=0.5; total time=  15.8s\n"
     ]
    },
    {
     "name": "stderr",
     "output_type": "stream",
     "text": [
      "/Users/hakantekin/opt/anaconda3/lib/python3.9/site-packages/xgboost/sklearn.py:1224: UserWarning: The use of label encoder in XGBClassifier is deprecated and will be removed in a future release. To remove this warning, do the following: 1) Pass option use_label_encoder=False when constructing XGBClassifier object; and 2) Encode your labels (y) as integers starting with 0, i.e. 0, 1, 2, ..., [num_class - 1].\n",
      "  warnings.warn(label_encoder_deprecation_msg, UserWarning)\n"
     ]
    },
    {
     "name": "stdout",
     "output_type": "stream",
     "text": [
      "[23:48:44] WARNING: ../src/learner.cc:1115: Starting in XGBoost 1.3.0, the default evaluation metric used with the objective 'multi:softprob' was changed from 'merror' to 'mlogloss'. Explicitly set eval_metric if you'd like to restore the old behavior.\n",
      "[CV] END colsample_bytree=0.5, learning_rate=0.1, max_depth=5, n_estimators=100, subsample=1; total time=  16.4s\n"
     ]
    },
    {
     "name": "stderr",
     "output_type": "stream",
     "text": [
      "/Users/hakantekin/opt/anaconda3/lib/python3.9/site-packages/xgboost/sklearn.py:1224: UserWarning: The use of label encoder in XGBClassifier is deprecated and will be removed in a future release. To remove this warning, do the following: 1) Pass option use_label_encoder=False when constructing XGBClassifier object; and 2) Encode your labels (y) as integers starting with 0, i.e. 0, 1, 2, ..., [num_class - 1].\n",
      "  warnings.warn(label_encoder_deprecation_msg, UserWarning)\n"
     ]
    },
    {
     "name": "stdout",
     "output_type": "stream",
     "text": [
      "[23:48:44] WARNING: ../src/learner.cc:1115: Starting in XGBoost 1.3.0, the default evaluation metric used with the objective 'multi:softprob' was changed from 'merror' to 'mlogloss'. Explicitly set eval_metric if you'd like to restore the old behavior.\n",
      "[CV] END colsample_bytree=0.5, learning_rate=0.1, max_depth=5, n_estimators=100, subsample=1; total time=  15.8s\n",
      "[CV] END colsample_bytree=0.5, learning_rate=0.1, max_depth=5, n_estimators=100, subsample=1; total time=  16.1s\n",
      "[CV] END colsample_bytree=0.5, learning_rate=0.1, max_depth=5, n_estimators=100, subsample=1; total time=  16.2s\n"
     ]
    },
    {
     "name": "stderr",
     "output_type": "stream",
     "text": [
      "/Users/hakantekin/opt/anaconda3/lib/python3.9/site-packages/xgboost/sklearn.py:1224: UserWarning: The use of label encoder in XGBClassifier is deprecated and will be removed in a future release. To remove this warning, do the following: 1) Pass option use_label_encoder=False when constructing XGBClassifier object; and 2) Encode your labels (y) as integers starting with 0, i.e. 0, 1, 2, ..., [num_class - 1].\n",
      "  warnings.warn(label_encoder_deprecation_msg, UserWarning)\n",
      "/Users/hakantekin/opt/anaconda3/lib/python3.9/site-packages/xgboost/sklearn.py:1224: UserWarning: The use of label encoder in XGBClassifier is deprecated and will be removed in a future release. To remove this warning, do the following: 1) Pass option use_label_encoder=False when constructing XGBClassifier object; and 2) Encode your labels (y) as integers starting with 0, i.e. 0, 1, 2, ..., [num_class - 1].\n",
      "  warnings.warn(label_encoder_deprecation_msg, UserWarning)\n",
      "/Users/hakantekin/opt/anaconda3/lib/python3.9/site-packages/xgboost/sklearn.py:1224: UserWarning: The use of label encoder in XGBClassifier is deprecated and will be removed in a future release. To remove this warning, do the following: 1) Pass option use_label_encoder=False when constructing XGBClassifier object; and 2) Encode your labels (y) as integers starting with 0, i.e. 0, 1, 2, ..., [num_class - 1].\n",
      "  warnings.warn(label_encoder_deprecation_msg, UserWarning)\n"
     ]
    },
    {
     "name": "stdout",
     "output_type": "stream",
     "text": [
      "[23:48:52] WARNING: ../src/learner.cc:1115: Starting in XGBoost 1.3.0, the default evaluation metric used with the objective 'multi:softprob' was changed from 'merror' to 'mlogloss'. Explicitly set eval_metric if you'd like to restore the old behavior.\n",
      "[23:48:52] WARNING: ../src/learner.cc:1115: Starting in XGBoost 1.3.0, the default evaluation metric used with the objective 'multi:softprob' was changed from 'merror' to 'mlogloss'. Explicitly set eval_metric if you'd like to restore the old behavior.\n",
      "[23:48:52] WARNING: ../src/learner.cc:1115: Starting in XGBoost 1.3.0, the default evaluation metric used with the objective 'multi:softprob' was changed from 'merror' to 'mlogloss'. Explicitly set eval_metric if you'd like to restore the old behavior.\n",
      "[CV] END colsample_bytree=0.5, learning_rate=0.1, max_depth=5, n_estimators=100, subsample=1; total time=  16.2s\n"
     ]
    },
    {
     "name": "stderr",
     "output_type": "stream",
     "text": [
      "/Users/hakantekin/opt/anaconda3/lib/python3.9/site-packages/xgboost/sklearn.py:1224: UserWarning: The use of label encoder in XGBClassifier is deprecated and will be removed in a future release. To remove this warning, do the following: 1) Pass option use_label_encoder=False when constructing XGBClassifier object; and 2) Encode your labels (y) as integers starting with 0, i.e. 0, 1, 2, ..., [num_class - 1].\n",
      "  warnings.warn(label_encoder_deprecation_msg, UserWarning)\n"
     ]
    },
    {
     "name": "stdout",
     "output_type": "stream",
     "text": [
      "[23:48:53] WARNING: ../src/learner.cc:1115: Starting in XGBoost 1.3.0, the default evaluation metric used with the objective 'multi:softprob' was changed from 'merror' to 'mlogloss'. Explicitly set eval_metric if you'd like to restore the old behavior.\n",
      "[CV] END colsample_bytree=0.5, learning_rate=0.1, max_depth=5, n_estimators=300, subsample=0.5; total time=  42.7s\n",
      "[CV] END colsample_bytree=0.5, learning_rate=0.1, max_depth=5, n_estimators=300, subsample=0.5; total time=  42.8s\n"
     ]
    },
    {
     "name": "stderr",
     "output_type": "stream",
     "text": [
      "/Users/hakantekin/opt/anaconda3/lib/python3.9/site-packages/xgboost/sklearn.py:1224: UserWarning: The use of label encoder in XGBClassifier is deprecated and will be removed in a future release. To remove this warning, do the following: 1) Pass option use_label_encoder=False when constructing XGBClassifier object; and 2) Encode your labels (y) as integers starting with 0, i.e. 0, 1, 2, ..., [num_class - 1].\n",
      "  warnings.warn(label_encoder_deprecation_msg, UserWarning)\n",
      "/Users/hakantekin/opt/anaconda3/lib/python3.9/site-packages/xgboost/sklearn.py:1224: UserWarning: The use of label encoder in XGBClassifier is deprecated and will be removed in a future release. To remove this warning, do the following: 1) Pass option use_label_encoder=False when constructing XGBClassifier object; and 2) Encode your labels (y) as integers starting with 0, i.e. 0, 1, 2, ..., [num_class - 1].\n",
      "  warnings.warn(label_encoder_deprecation_msg, UserWarning)\n"
     ]
    },
    {
     "name": "stdout",
     "output_type": "stream",
     "text": [
      "[23:49:25] WARNING: ../src/learner.cc:1115: Starting in XGBoost 1.3.0, the default evaluation metric used with the objective 'multi:softprob' was changed from 'merror' to 'mlogloss'. Explicitly set eval_metric if you'd like to restore the old behavior.\n",
      "[23:49:25] WARNING: ../src/learner.cc:1115: Starting in XGBoost 1.3.0, the default evaluation metric used with the objective 'multi:softprob' was changed from 'merror' to 'mlogloss'. Explicitly set eval_metric if you'd like to restore the old behavior.\n",
      "[CV] END colsample_bytree=0.5, learning_rate=0.1, max_depth=5, n_estimators=300, subsample=0.5; total time=  43.1s\n"
     ]
    },
    {
     "name": "stderr",
     "output_type": "stream",
     "text": [
      "/Users/hakantekin/opt/anaconda3/lib/python3.9/site-packages/xgboost/sklearn.py:1224: UserWarning: The use of label encoder in XGBClassifier is deprecated and will be removed in a future release. To remove this warning, do the following: 1) Pass option use_label_encoder=False when constructing XGBClassifier object; and 2) Encode your labels (y) as integers starting with 0, i.e. 0, 1, 2, ..., [num_class - 1].\n",
      "  warnings.warn(label_encoder_deprecation_msg, UserWarning)\n"
     ]
    },
    {
     "name": "stdout",
     "output_type": "stream",
     "text": [
      "[23:49:27] WARNING: ../src/learner.cc:1115: Starting in XGBoost 1.3.0, the default evaluation metric used with the objective 'multi:softprob' was changed from 'merror' to 'mlogloss'. Explicitly set eval_metric if you'd like to restore the old behavior.\n",
      "[CV] END colsample_bytree=0.5, learning_rate=0.1, max_depth=5, n_estimators=300, subsample=0.5; total time=  42.9s\n"
     ]
    },
    {
     "name": "stderr",
     "output_type": "stream",
     "text": [
      "/Users/hakantekin/opt/anaconda3/lib/python3.9/site-packages/xgboost/sklearn.py:1224: UserWarning: The use of label encoder in XGBClassifier is deprecated and will be removed in a future release. To remove this warning, do the following: 1) Pass option use_label_encoder=False when constructing XGBClassifier object; and 2) Encode your labels (y) as integers starting with 0, i.e. 0, 1, 2, ..., [num_class - 1].\n",
      "  warnings.warn(label_encoder_deprecation_msg, UserWarning)\n"
     ]
    },
    {
     "name": "stdout",
     "output_type": "stream",
     "text": [
      "[23:49:27] WARNING: ../src/learner.cc:1115: Starting in XGBoost 1.3.0, the default evaluation metric used with the objective 'multi:softprob' was changed from 'merror' to 'mlogloss'. Explicitly set eval_metric if you'd like to restore the old behavior.\n",
      "[CV] END colsample_bytree=0.5, learning_rate=0.1, max_depth=5, n_estimators=300, subsample=0.5; total time=  42.8s\n"
     ]
    },
    {
     "name": "stderr",
     "output_type": "stream",
     "text": [
      "/Users/hakantekin/opt/anaconda3/lib/python3.9/site-packages/xgboost/sklearn.py:1224: UserWarning: The use of label encoder in XGBClassifier is deprecated and will be removed in a future release. To remove this warning, do the following: 1) Pass option use_label_encoder=False when constructing XGBClassifier object; and 2) Encode your labels (y) as integers starting with 0, i.e. 0, 1, 2, ..., [num_class - 1].\n",
      "  warnings.warn(label_encoder_deprecation_msg, UserWarning)\n"
     ]
    },
    {
     "name": "stdout",
     "output_type": "stream",
     "text": [
      "[23:49:35] WARNING: ../src/learner.cc:1115: Starting in XGBoost 1.3.0, the default evaluation metric used with the objective 'multi:softprob' was changed from 'merror' to 'mlogloss'. Explicitly set eval_metric if you'd like to restore the old behavior.\n",
      "[CV] END colsample_bytree=0.5, learning_rate=0.1, max_depth=5, n_estimators=300, subsample=1; total time=  44.2s\n"
     ]
    },
    {
     "name": "stderr",
     "output_type": "stream",
     "text": [
      "/Users/hakantekin/opt/anaconda3/lib/python3.9/site-packages/xgboost/sklearn.py:1224: UserWarning: The use of label encoder in XGBClassifier is deprecated and will be removed in a future release. To remove this warning, do the following: 1) Pass option use_label_encoder=False when constructing XGBClassifier object; and 2) Encode your labels (y) as integers starting with 0, i.e. 0, 1, 2, ..., [num_class - 1].\n",
      "  warnings.warn(label_encoder_deprecation_msg, UserWarning)\n"
     ]
    },
    {
     "name": "stdout",
     "output_type": "stream",
     "text": [
      "[CV] END colsample_bytree=0.5, learning_rate=0.1, max_depth=5, n_estimators=300, subsample=1; total time=  44.5s\n",
      "[23:49:37] WARNING: ../src/learner.cc:1115: Starting in XGBoost 1.3.0, the default evaluation metric used with the objective 'multi:softprob' was changed from 'merror' to 'mlogloss'. Explicitly set eval_metric if you'd like to restore the old behavior.\n"
     ]
    },
    {
     "name": "stderr",
     "output_type": "stream",
     "text": [
      "/Users/hakantekin/opt/anaconda3/lib/python3.9/site-packages/xgboost/sklearn.py:1224: UserWarning: The use of label encoder in XGBClassifier is deprecated and will be removed in a future release. To remove this warning, do the following: 1) Pass option use_label_encoder=False when constructing XGBClassifier object; and 2) Encode your labels (y) as integers starting with 0, i.e. 0, 1, 2, ..., [num_class - 1].\n",
      "  warnings.warn(label_encoder_deprecation_msg, UserWarning)\n"
     ]
    },
    {
     "name": "stdout",
     "output_type": "stream",
     "text": [
      "[23:49:37] WARNING: ../src/learner.cc:1115: Starting in XGBoost 1.3.0, the default evaluation metric used with the objective 'multi:softprob' was changed from 'merror' to 'mlogloss'. Explicitly set eval_metric if you'd like to restore the old behavior.\n",
      "[CV] END colsample_bytree=0.5, learning_rate=0.1, max_depth=5, n_estimators=300, subsample=1; total time=  44.8s\n"
     ]
    },
    {
     "name": "stderr",
     "output_type": "stream",
     "text": [
      "/Users/hakantekin/opt/anaconda3/lib/python3.9/site-packages/xgboost/sklearn.py:1224: UserWarning: The use of label encoder in XGBClassifier is deprecated and will be removed in a future release. To remove this warning, do the following: 1) Pass option use_label_encoder=False when constructing XGBClassifier object; and 2) Encode your labels (y) as integers starting with 0, i.e. 0, 1, 2, ..., [num_class - 1].\n",
      "  warnings.warn(label_encoder_deprecation_msg, UserWarning)\n"
     ]
    },
    {
     "name": "stdout",
     "output_type": "stream",
     "text": [
      "[23:49:38] WARNING: ../src/learner.cc:1115: Starting in XGBoost 1.3.0, the default evaluation metric used with the objective 'multi:softprob' was changed from 'merror' to 'mlogloss'. Explicitly set eval_metric if you'd like to restore the old behavior.\n",
      "[CV] END colsample_bytree=0.5, learning_rate=0.1, max_depth=6, n_estimators=100, subsample=0.5; total time=  19.6s\n"
     ]
    },
    {
     "name": "stderr",
     "output_type": "stream",
     "text": [
      "/Users/hakantekin/opt/anaconda3/lib/python3.9/site-packages/xgboost/sklearn.py:1224: UserWarning: The use of label encoder in XGBClassifier is deprecated and will be removed in a future release. To remove this warning, do the following: 1) Pass option use_label_encoder=False when constructing XGBClassifier object; and 2) Encode your labels (y) as integers starting with 0, i.e. 0, 1, 2, ..., [num_class - 1].\n",
      "  warnings.warn(label_encoder_deprecation_msg, UserWarning)\n"
     ]
    },
    {
     "name": "stdout",
     "output_type": "stream",
     "text": [
      "[23:49:46] WARNING: ../src/learner.cc:1115: Starting in XGBoost 1.3.0, the default evaluation metric used with the objective 'multi:softprob' was changed from 'merror' to 'mlogloss'. Explicitly set eval_metric if you'd like to restore the old behavior.\n",
      "[CV] END colsample_bytree=0.5, learning_rate=0.1, max_depth=6, n_estimators=100, subsample=0.5; total time=  19.6s\n"
     ]
    },
    {
     "name": "stderr",
     "output_type": "stream",
     "text": [
      "/Users/hakantekin/opt/anaconda3/lib/python3.9/site-packages/xgboost/sklearn.py:1224: UserWarning: The use of label encoder in XGBClassifier is deprecated and will be removed in a future release. To remove this warning, do the following: 1) Pass option use_label_encoder=False when constructing XGBClassifier object; and 2) Encode your labels (y) as integers starting with 0, i.e. 0, 1, 2, ..., [num_class - 1].\n",
      "  warnings.warn(label_encoder_deprecation_msg, UserWarning)\n"
     ]
    },
    {
     "name": "stdout",
     "output_type": "stream",
     "text": [
      "[23:49:47] WARNING: ../src/learner.cc:1115: Starting in XGBoost 1.3.0, the default evaluation metric used with the objective 'multi:softprob' was changed from 'merror' to 'mlogloss'. Explicitly set eval_metric if you'd like to restore the old behavior.\n",
      "[CV] END colsample_bytree=0.5, learning_rate=0.1, max_depth=6, n_estimators=100, subsample=0.5; total time=  19.5s\n"
     ]
    },
    {
     "name": "stderr",
     "output_type": "stream",
     "text": [
      "/Users/hakantekin/opt/anaconda3/lib/python3.9/site-packages/xgboost/sklearn.py:1224: UserWarning: The use of label encoder in XGBClassifier is deprecated and will be removed in a future release. To remove this warning, do the following: 1) Pass option use_label_encoder=False when constructing XGBClassifier object; and 2) Encode your labels (y) as integers starting with 0, i.e. 0, 1, 2, ..., [num_class - 1].\n",
      "  warnings.warn(label_encoder_deprecation_msg, UserWarning)\n"
     ]
    },
    {
     "name": "stdout",
     "output_type": "stream",
     "text": [
      "[23:49:55] WARNING: ../src/learner.cc:1115: Starting in XGBoost 1.3.0, the default evaluation metric used with the objective 'multi:softprob' was changed from 'merror' to 'mlogloss'. Explicitly set eval_metric if you'd like to restore the old behavior.\n",
      "[CV] END colsample_bytree=0.5, learning_rate=0.1, max_depth=6, n_estimators=100, subsample=0.5; total time=  19.5s\n",
      "[CV] END colsample_bytree=0.5, learning_rate=0.1, max_depth=6, n_estimators=100, subsample=0.5; total time=  19.4s\n"
     ]
    },
    {
     "name": "stderr",
     "output_type": "stream",
     "text": [
      "/Users/hakantekin/opt/anaconda3/lib/python3.9/site-packages/xgboost/sklearn.py:1224: UserWarning: The use of label encoder in XGBClassifier is deprecated and will be removed in a future release. To remove this warning, do the following: 1) Pass option use_label_encoder=False when constructing XGBClassifier object; and 2) Encode your labels (y) as integers starting with 0, i.e. 0, 1, 2, ..., [num_class - 1].\n",
      "  warnings.warn(label_encoder_deprecation_msg, UserWarning)\n",
      "/Users/hakantekin/opt/anaconda3/lib/python3.9/site-packages/xgboost/sklearn.py:1224: UserWarning: The use of label encoder in XGBClassifier is deprecated and will be removed in a future release. To remove this warning, do the following: 1) Pass option use_label_encoder=False when constructing XGBClassifier object; and 2) Encode your labels (y) as integers starting with 0, i.e. 0, 1, 2, ..., [num_class - 1].\n",
      "  warnings.warn(label_encoder_deprecation_msg, UserWarning)\n"
     ]
    },
    {
     "name": "stdout",
     "output_type": "stream",
     "text": [
      "[23:49:56] WARNING: ../src/learner.cc:1115: Starting in XGBoost 1.3.0, the default evaluation metric used with the objective 'multi:softprob' was changed from 'merror' to 'mlogloss'. Explicitly set eval_metric if you'd like to restore the old behavior.\n",
      "[23:49:56] WARNING: ../src/learner.cc:1115: Starting in XGBoost 1.3.0, the default evaluation metric used with the objective 'multi:softprob' was changed from 'merror' to 'mlogloss'. Explicitly set eval_metric if you'd like to restore the old behavior.\n",
      "[CV] END colsample_bytree=0.5, learning_rate=0.1, max_depth=6, n_estimators=100, subsample=1; total time=  21.3s\n"
     ]
    },
    {
     "name": "stderr",
     "output_type": "stream",
     "text": [
      "/Users/hakantekin/opt/anaconda3/lib/python3.9/site-packages/xgboost/sklearn.py:1224: UserWarning: The use of label encoder in XGBClassifier is deprecated and will be removed in a future release. To remove this warning, do the following: 1) Pass option use_label_encoder=False when constructing XGBClassifier object; and 2) Encode your labels (y) as integers starting with 0, i.e. 0, 1, 2, ..., [num_class - 1].\n",
      "  warnings.warn(label_encoder_deprecation_msg, UserWarning)\n"
     ]
    },
    {
     "name": "stdout",
     "output_type": "stream",
     "text": [
      "[23:49:59] WARNING: ../src/learner.cc:1115: Starting in XGBoost 1.3.0, the default evaluation metric used with the objective 'multi:softprob' was changed from 'merror' to 'mlogloss'. Explicitly set eval_metric if you'd like to restore the old behavior.\n",
      "[CV] END colsample_bytree=0.5, learning_rate=0.1, max_depth=5, n_estimators=300, subsample=1; total time=  42.5s\n",
      "[CV] END colsample_bytree=0.5, learning_rate=0.1, max_depth=6, n_estimators=100, subsample=1; total time=  21.4s\n",
      "[CV] END colsample_bytree=0.5, learning_rate=0.1, max_depth=5, n_estimators=300, subsample=1; total time=  42.4s\n"
     ]
    },
    {
     "name": "stderr",
     "output_type": "stream",
     "text": [
      "/Users/hakantekin/opt/anaconda3/lib/python3.9/site-packages/xgboost/sklearn.py:1224: UserWarning: The use of label encoder in XGBClassifier is deprecated and will be removed in a future release. To remove this warning, do the following: 1) Pass option use_label_encoder=False when constructing XGBClassifier object; and 2) Encode your labels (y) as integers starting with 0, i.e. 0, 1, 2, ..., [num_class - 1].\n",
      "  warnings.warn(label_encoder_deprecation_msg, UserWarning)\n",
      "/Users/hakantekin/opt/anaconda3/lib/python3.9/site-packages/xgboost/sklearn.py:1224: UserWarning: The use of label encoder in XGBClassifier is deprecated and will be removed in a future release. To remove this warning, do the following: 1) Pass option use_label_encoder=False when constructing XGBClassifier object; and 2) Encode your labels (y) as integers starting with 0, i.e. 0, 1, 2, ..., [num_class - 1].\n",
      "  warnings.warn(label_encoder_deprecation_msg, UserWarning)\n",
      "/Users/hakantekin/opt/anaconda3/lib/python3.9/site-packages/xgboost/sklearn.py:1224: UserWarning: The use of label encoder in XGBClassifier is deprecated and will be removed in a future release. To remove this warning, do the following: 1) Pass option use_label_encoder=False when constructing XGBClassifier object; and 2) Encode your labels (y) as integers starting with 0, i.e. 0, 1, 2, ..., [num_class - 1].\n",
      "  warnings.warn(label_encoder_deprecation_msg, UserWarning)\n"
     ]
    },
    {
     "name": "stdout",
     "output_type": "stream",
     "text": [
      "[23:50:08] WARNING: ../src/learner.cc:1115: Starting in XGBoost 1.3.0, the default evaluation metric used with the objective 'multi:softprob' was changed from 'merror' to 'mlogloss'. Explicitly set eval_metric if you'd like to restore the old behavior.\n",
      "[23:50:08] WARNING: ../src/learner.cc:1115: Starting in XGBoost 1.3.0, the default evaluation metric used with the objective 'multi:softprob' was changed from 'merror' to 'mlogloss'. Explicitly set eval_metric if you'd like to restore the old behavior.\n",
      "[23:50:08] WARNING: ../src/learner.cc:1115: Starting in XGBoost 1.3.0, the default evaluation metric used with the objective 'multi:softprob' was changed from 'merror' to 'mlogloss'. Explicitly set eval_metric if you'd like to restore the old behavior.\n",
      "[CV] END colsample_bytree=0.5, learning_rate=0.1, max_depth=6, n_estimators=100, subsample=1; total time=  21.8s\n"
     ]
    },
    {
     "name": "stderr",
     "output_type": "stream",
     "text": [
      "/Users/hakantekin/opt/anaconda3/lib/python3.9/site-packages/xgboost/sklearn.py:1224: UserWarning: The use of label encoder in XGBClassifier is deprecated and will be removed in a future release. To remove this warning, do the following: 1) Pass option use_label_encoder=False when constructing XGBClassifier object; and 2) Encode your labels (y) as integers starting with 0, i.e. 0, 1, 2, ..., [num_class - 1].\n",
      "  warnings.warn(label_encoder_deprecation_msg, UserWarning)\n"
     ]
    },
    {
     "name": "stdout",
     "output_type": "stream",
     "text": [
      "[23:50:09] WARNING: ../src/learner.cc:1115: Starting in XGBoost 1.3.0, the default evaluation metric used with the objective 'multi:softprob' was changed from 'merror' to 'mlogloss'. Explicitly set eval_metric if you'd like to restore the old behavior.\n",
      "[CV] END colsample_bytree=0.5, learning_rate=0.1, max_depth=6, n_estimators=100, subsample=1; total time=  21.0s\n"
     ]
    },
    {
     "name": "stderr",
     "output_type": "stream",
     "text": [
      "/Users/hakantekin/opt/anaconda3/lib/python3.9/site-packages/xgboost/sklearn.py:1224: UserWarning: The use of label encoder in XGBClassifier is deprecated and will be removed in a future release. To remove this warning, do the following: 1) Pass option use_label_encoder=False when constructing XGBClassifier object; and 2) Encode your labels (y) as integers starting with 0, i.e. 0, 1, 2, ..., [num_class - 1].\n",
      "  warnings.warn(label_encoder_deprecation_msg, UserWarning)\n"
     ]
    },
    {
     "name": "stdout",
     "output_type": "stream",
     "text": [
      "[23:50:16] WARNING: ../src/learner.cc:1115: Starting in XGBoost 1.3.0, the default evaluation metric used with the objective 'multi:softprob' was changed from 'merror' to 'mlogloss'. Explicitly set eval_metric if you'd like to restore the old behavior.\n",
      "[CV] END colsample_bytree=0.5, learning_rate=0.1, max_depth=6, n_estimators=100, subsample=1; total time=  21.2s\n"
     ]
    },
    {
     "name": "stderr",
     "output_type": "stream",
     "text": [
      "/Users/hakantekin/opt/anaconda3/lib/python3.9/site-packages/xgboost/sklearn.py:1224: UserWarning: The use of label encoder in XGBClassifier is deprecated and will be removed in a future release. To remove this warning, do the following: 1) Pass option use_label_encoder=False when constructing XGBClassifier object; and 2) Encode your labels (y) as integers starting with 0, i.e. 0, 1, 2, ..., [num_class - 1].\n",
      "  warnings.warn(label_encoder_deprecation_msg, UserWarning)\n"
     ]
    },
    {
     "name": "stdout",
     "output_type": "stream",
     "text": [
      "[23:50:17] WARNING: ../src/learner.cc:1115: Starting in XGBoost 1.3.0, the default evaluation metric used with the objective 'multi:softprob' was changed from 'merror' to 'mlogloss'. Explicitly set eval_metric if you'd like to restore the old behavior.\n",
      "[CV] END colsample_bytree=0.5, learning_rate=0.1, max_depth=6, n_estimators=300, subsample=0.5; total time=  50.0s\n"
     ]
    },
    {
     "name": "stderr",
     "output_type": "stream",
     "text": [
      "/Users/hakantekin/opt/anaconda3/lib/python3.9/site-packages/xgboost/sklearn.py:1224: UserWarning: The use of label encoder in XGBClassifier is deprecated and will be removed in a future release. To remove this warning, do the following: 1) Pass option use_label_encoder=False when constructing XGBClassifier object; and 2) Encode your labels (y) as integers starting with 0, i.e. 0, 1, 2, ..., [num_class - 1].\n",
      "  warnings.warn(label_encoder_deprecation_msg, UserWarning)\n"
     ]
    },
    {
     "name": "stdout",
     "output_type": "stream",
     "text": [
      "[23:50:46] WARNING: ../src/learner.cc:1115: Starting in XGBoost 1.3.0, the default evaluation metric used with the objective 'multi:softprob' was changed from 'merror' to 'mlogloss'. Explicitly set eval_metric if you'd like to restore the old behavior.\n",
      "[CV] END colsample_bytree=0.5, learning_rate=0.1, max_depth=6, n_estimators=300, subsample=0.5; total time=  50.5s\n"
     ]
    },
    {
     "name": "stderr",
     "output_type": "stream",
     "text": [
      "/Users/hakantekin/opt/anaconda3/lib/python3.9/site-packages/xgboost/sklearn.py:1224: UserWarning: The use of label encoder in XGBClassifier is deprecated and will be removed in a future release. To remove this warning, do the following: 1) Pass option use_label_encoder=False when constructing XGBClassifier object; and 2) Encode your labels (y) as integers starting with 0, i.e. 0, 1, 2, ..., [num_class - 1].\n",
      "  warnings.warn(label_encoder_deprecation_msg, UserWarning)\n"
     ]
    },
    {
     "name": "stdout",
     "output_type": "stream",
     "text": [
      "[23:50:49] WARNING: ../src/learner.cc:1115: Starting in XGBoost 1.3.0, the default evaluation metric used with the objective 'multi:softprob' was changed from 'merror' to 'mlogloss'. Explicitly set eval_metric if you'd like to restore the old behavior.\n",
      "[CV] END colsample_bytree=0.5, learning_rate=0.1, max_depth=6, n_estimators=300, subsample=0.5; total time=  51.1s\n",
      "[CV] END colsample_bytree=0.5, learning_rate=0.1, max_depth=6, n_estimators=300, subsample=0.5; total time=  51.2s\n",
      "[CV] END colsample_bytree=0.5, learning_rate=0.1, max_depth=6, n_estimators=300, subsample=0.5; total time=  51.3s\n",
      "[23:50:59] WARNING: ../src/learner.cc:1115: Starting in XGBoost 1.3.0, the default evaluation metric used with the objective 'multi:softprob' was changed from 'merror' to 'mlogloss'. Explicitly set eval_metric if you'd like to restore the old behavior.\n",
      "[23:50:59] WARNING: ../src/learner.cc:1115: Starting in XGBoost 1.3.0, the default evaluation metric used with the objective 'multi:softprob' was changed from 'merror' to 'mlogloss'. Explicitly set eval_metric if you'd like to restore the old behavior.\n"
     ]
    },
    {
     "name": "stderr",
     "output_type": "stream",
     "text": [
      "/Users/hakantekin/opt/anaconda3/lib/python3.9/site-packages/xgboost/sklearn.py:1224: UserWarning: The use of label encoder in XGBClassifier is deprecated and will be removed in a future release. To remove this warning, do the following: 1) Pass option use_label_encoder=False when constructing XGBClassifier object; and 2) Encode your labels (y) as integers starting with 0, i.e. 0, 1, 2, ..., [num_class - 1].\n",
      "  warnings.warn(label_encoder_deprecation_msg, UserWarning)\n",
      "/Users/hakantekin/opt/anaconda3/lib/python3.9/site-packages/xgboost/sklearn.py:1224: UserWarning: The use of label encoder in XGBClassifier is deprecated and will be removed in a future release. To remove this warning, do the following: 1) Pass option use_label_encoder=False when constructing XGBClassifier object; and 2) Encode your labels (y) as integers starting with 0, i.e. 0, 1, 2, ..., [num_class - 1].\n",
      "  warnings.warn(label_encoder_deprecation_msg, UserWarning)\n",
      "/Users/hakantekin/opt/anaconda3/lib/python3.9/site-packages/xgboost/sklearn.py:1224: UserWarning: The use of label encoder in XGBClassifier is deprecated and will be removed in a future release. To remove this warning, do the following: 1) Pass option use_label_encoder=False when constructing XGBClassifier object; and 2) Encode your labels (y) as integers starting with 0, i.e. 0, 1, 2, ..., [num_class - 1].\n",
      "  warnings.warn(label_encoder_deprecation_msg, UserWarning)\n"
     ]
    },
    {
     "name": "stdout",
     "output_type": "stream",
     "text": [
      "[23:50:59] WARNING: ../src/learner.cc:1115: Starting in XGBoost 1.3.0, the default evaluation metric used with the objective 'multi:softprob' was changed from 'merror' to 'mlogloss'. Explicitly set eval_metric if you'd like to restore the old behavior.\n",
      "[CV] END colsample_bytree=0.5, learning_rate=0.1, max_depth=6, n_estimators=300, subsample=1; total time=  54.7s\n",
      "[23:51:03] WARNING: ../src/learner.cc:1115: Starting in XGBoost 1.3.0, the default evaluation metric used with the objective 'multi:softprob' was changed from 'merror' to 'mlogloss'. Explicitly set eval_metric if you'd like to restore the old behavior.\n"
     ]
    },
    {
     "name": "stderr",
     "output_type": "stream",
     "text": [
      "/Users/hakantekin/opt/anaconda3/lib/python3.9/site-packages/xgboost/sklearn.py:1224: UserWarning: The use of label encoder in XGBClassifier is deprecated and will be removed in a future release. To remove this warning, do the following: 1) Pass option use_label_encoder=False when constructing XGBClassifier object; and 2) Encode your labels (y) as integers starting with 0, i.e. 0, 1, 2, ..., [num_class - 1].\n",
      "  warnings.warn(label_encoder_deprecation_msg, UserWarning)\n"
     ]
    },
    {
     "name": "stdout",
     "output_type": "stream",
     "text": [
      "[CV] END colsample_bytree=0.5, learning_rate=0.3, max_depth=3, n_estimators=100, subsample=0.5; total time=   7.7s\n",
      "[CV] END colsample_bytree=0.5, learning_rate=0.3, max_depth=3, n_estimators=100, subsample=0.5; total time=   7.6s\n",
      "[CV] END colsample_bytree=0.5, learning_rate=0.3, max_depth=3, n_estimators=100, subsample=0.5; total time=   7.6s\n",
      "[23:51:07] WARNING: ../src/learner.cc:1115: Starting in XGBoost 1.3.0, the default evaluation metric used with the objective 'multi:softprob' was changed from 'merror' to 'mlogloss'. Explicitly set eval_metric if you'd like to restore the old behavior.\n",
      "[23:51:07] WARNING: ../src/learner.cc:1115: Starting in XGBoost 1.3.0, the default evaluation metric used with the objective 'multi:softprob' was changed from 'merror' to 'mlogloss'. Explicitly set eval_metric if you'd like to restore the old behavior.\n",
      "[23:51:07] WARNING: ../src/learner.cc:1115: Starting in XGBoost 1.3.0, the default evaluation metric used with the objective 'multi:softprob' was changed from 'merror' to 'mlogloss'. Explicitly set eval_metric if you'd like to restore the old behavior.\n"
     ]
    },
    {
     "name": "stderr",
     "output_type": "stream",
     "text": [
      "/Users/hakantekin/opt/anaconda3/lib/python3.9/site-packages/xgboost/sklearn.py:1224: UserWarning: The use of label encoder in XGBClassifier is deprecated and will be removed in a future release. To remove this warning, do the following: 1) Pass option use_label_encoder=False when constructing XGBClassifier object; and 2) Encode your labels (y) as integers starting with 0, i.e. 0, 1, 2, ..., [num_class - 1].\n",
      "  warnings.warn(label_encoder_deprecation_msg, UserWarning)\n",
      "/Users/hakantekin/opt/anaconda3/lib/python3.9/site-packages/xgboost/sklearn.py:1224: UserWarning: The use of label encoder in XGBClassifier is deprecated and will be removed in a future release. To remove this warning, do the following: 1) Pass option use_label_encoder=False when constructing XGBClassifier object; and 2) Encode your labels (y) as integers starting with 0, i.e. 0, 1, 2, ..., [num_class - 1].\n",
      "  warnings.warn(label_encoder_deprecation_msg, UserWarning)\n",
      "/Users/hakantekin/opt/anaconda3/lib/python3.9/site-packages/xgboost/sklearn.py:1224: UserWarning: The use of label encoder in XGBClassifier is deprecated and will be removed in a future release. To remove this warning, do the following: 1) Pass option use_label_encoder=False when constructing XGBClassifier object; and 2) Encode your labels (y) as integers starting with 0, i.e. 0, 1, 2, ..., [num_class - 1].\n",
      "  warnings.warn(label_encoder_deprecation_msg, UserWarning)\n"
     ]
    },
    {
     "name": "stdout",
     "output_type": "stream",
     "text": [
      "[CV] END colsample_bytree=0.5, learning_rate=0.3, max_depth=3, n_estimators=100, subsample=0.5; total time=   7.7s\n",
      "[23:51:11] WARNING: ../src/learner.cc:1115: Starting in XGBoost 1.3.0, the default evaluation metric used with the objective 'multi:softprob' was changed from 'merror' to 'mlogloss'. Explicitly set eval_metric if you'd like to restore the old behavior.\n"
     ]
    },
    {
     "name": "stderr",
     "output_type": "stream",
     "text": [
      "/Users/hakantekin/opt/anaconda3/lib/python3.9/site-packages/xgboost/sklearn.py:1224: UserWarning: The use of label encoder in XGBClassifier is deprecated and will be removed in a future release. To remove this warning, do the following: 1) Pass option use_label_encoder=False when constructing XGBClassifier object; and 2) Encode your labels (y) as integers starting with 0, i.e. 0, 1, 2, ..., [num_class - 1].\n",
      "  warnings.warn(label_encoder_deprecation_msg, UserWarning)\n"
     ]
    },
    {
     "name": "stdout",
     "output_type": "stream",
     "text": [
      "[CV] END colsample_bytree=0.5, learning_rate=0.1, max_depth=6, n_estimators=300, subsample=1; total time=  55.4s\n",
      "[23:51:11] WARNING: ../src/learner.cc:1115: Starting in XGBoost 1.3.0, the default evaluation metric used with the objective 'multi:softprob' was changed from 'merror' to 'mlogloss'. Explicitly set eval_metric if you'd like to restore the old behavior.\n"
     ]
    },
    {
     "name": "stderr",
     "output_type": "stream",
     "text": [
      "/Users/hakantekin/opt/anaconda3/lib/python3.9/site-packages/xgboost/sklearn.py:1224: UserWarning: The use of label encoder in XGBClassifier is deprecated and will be removed in a future release. To remove this warning, do the following: 1) Pass option use_label_encoder=False when constructing XGBClassifier object; and 2) Encode your labels (y) as integers starting with 0, i.e. 0, 1, 2, ..., [num_class - 1].\n",
      "  warnings.warn(label_encoder_deprecation_msg, UserWarning)\n"
     ]
    },
    {
     "name": "stdout",
     "output_type": "stream",
     "text": [
      "[CV] END colsample_bytree=0.5, learning_rate=0.1, max_depth=6, n_estimators=300, subsample=1; total time=  56.7s\n",
      "[23:51:14] WARNING: ../src/learner.cc:1115: Starting in XGBoost 1.3.0, the default evaluation metric used with the objective 'multi:softprob' was changed from 'merror' to 'mlogloss'. Explicitly set eval_metric if you'd like to restore the old behavior.\n"
     ]
    },
    {
     "name": "stderr",
     "output_type": "stream",
     "text": [
      "/Users/hakantekin/opt/anaconda3/lib/python3.9/site-packages/xgboost/sklearn.py:1224: UserWarning: The use of label encoder in XGBClassifier is deprecated and will be removed in a future release. To remove this warning, do the following: 1) Pass option use_label_encoder=False when constructing XGBClassifier object; and 2) Encode your labels (y) as integers starting with 0, i.e. 0, 1, 2, ..., [num_class - 1].\n",
      "  warnings.warn(label_encoder_deprecation_msg, UserWarning)\n"
     ]
    },
    {
     "name": "stdout",
     "output_type": "stream",
     "text": [
      "[CV] END colsample_bytree=0.5, learning_rate=0.3, max_depth=3, n_estimators=100, subsample=1; total time=   7.8s\n",
      "[CV] END colsample_bytree=0.5, learning_rate=0.3, max_depth=3, n_estimators=100, subsample=1; total time=   7.8s\n",
      "[CV] END colsample_bytree=0.5, learning_rate=0.3, max_depth=3, n_estimators=100, subsample=0.5; total time=   7.9s\n",
      "[23:51:14] WARNING: ../src/learner.cc:1115: Starting in XGBoost 1.3.0, the default evaluation metric used with the objective 'multi:softprob' was changed from 'merror' to 'mlogloss'. Explicitly set eval_metric if you'd like to restore the old behavior.\n",
      "[23:51:14] WARNING: ../src/learner.cc:1115: Starting in XGBoost 1.3.0, the default evaluation metric used with the objective 'multi:softprob' was changed from 'merror' to 'mlogloss'. Explicitly set eval_metric if you'd like to restore the old behavior.\n",
      "[23:51:14] WARNING: ../src/learner.cc:1115: Starting in XGBoost 1.3.0, the default evaluation metric used with the objective 'multi:softprob' was changed from 'merror' to 'mlogloss'. Explicitly set eval_metric if you'd like to restore the old behavior.\n"
     ]
    },
    {
     "name": "stderr",
     "output_type": "stream",
     "text": [
      "/Users/hakantekin/opt/anaconda3/lib/python3.9/site-packages/xgboost/sklearn.py:1224: UserWarning: The use of label encoder in XGBClassifier is deprecated and will be removed in a future release. To remove this warning, do the following: 1) Pass option use_label_encoder=False when constructing XGBClassifier object; and 2) Encode your labels (y) as integers starting with 0, i.e. 0, 1, 2, ..., [num_class - 1].\n",
      "  warnings.warn(label_encoder_deprecation_msg, UserWarning)\n",
      "/Users/hakantekin/opt/anaconda3/lib/python3.9/site-packages/xgboost/sklearn.py:1224: UserWarning: The use of label encoder in XGBClassifier is deprecated and will be removed in a future release. To remove this warning, do the following: 1) Pass option use_label_encoder=False when constructing XGBClassifier object; and 2) Encode your labels (y) as integers starting with 0, i.e. 0, 1, 2, ..., [num_class - 1].\n",
      "  warnings.warn(label_encoder_deprecation_msg, UserWarning)\n",
      "/Users/hakantekin/opt/anaconda3/lib/python3.9/site-packages/xgboost/sklearn.py:1224: UserWarning: The use of label encoder in XGBClassifier is deprecated and will be removed in a future release. To remove this warning, do the following: 1) Pass option use_label_encoder=False when constructing XGBClassifier object; and 2) Encode your labels (y) as integers starting with 0, i.e. 0, 1, 2, ..., [num_class - 1].\n",
      "  warnings.warn(label_encoder_deprecation_msg, UserWarning)\n"
     ]
    },
    {
     "name": "stdout",
     "output_type": "stream",
     "text": [
      "[CV] END colsample_bytree=0.5, learning_rate=0.3, max_depth=3, n_estimators=100, subsample=1; total time=   7.9s\n",
      "[23:51:19] WARNING: ../src/learner.cc:1115: Starting in XGBoost 1.3.0, the default evaluation metric used with the objective 'multi:softprob' was changed from 'merror' to 'mlogloss'. Explicitly set eval_metric if you'd like to restore the old behavior.\n",
      "[CV] END colsample_bytree=0.5, learning_rate=0.3, max_depth=3, n_estimators=100, subsample=1; total time=   7.9s\n"
     ]
    },
    {
     "name": "stderr",
     "output_type": "stream",
     "text": [
      "/Users/hakantekin/opt/anaconda3/lib/python3.9/site-packages/xgboost/sklearn.py:1224: UserWarning: The use of label encoder in XGBClassifier is deprecated and will be removed in a future release. To remove this warning, do the following: 1) Pass option use_label_encoder=False when constructing XGBClassifier object; and 2) Encode your labels (y) as integers starting with 0, i.e. 0, 1, 2, ..., [num_class - 1].\n",
      "  warnings.warn(label_encoder_deprecation_msg, UserWarning)\n",
      "/Users/hakantekin/opt/anaconda3/lib/python3.9/site-packages/xgboost/sklearn.py:1224: UserWarning: The use of label encoder in XGBClassifier is deprecated and will be removed in a future release. To remove this warning, do the following: 1) Pass option use_label_encoder=False when constructing XGBClassifier object; and 2) Encode your labels (y) as integers starting with 0, i.e. 0, 1, 2, ..., [num_class - 1].\n",
      "  warnings.warn(label_encoder_deprecation_msg, UserWarning)\n"
     ]
    },
    {
     "name": "stdout",
     "output_type": "stream",
     "text": [
      "[23:51:19] WARNING: ../src/learner.cc:1115: Starting in XGBoost 1.3.0, the default evaluation metric used with the objective 'multi:softprob' was changed from 'merror' to 'mlogloss'. Explicitly set eval_metric if you'd like to restore the old behavior.\n",
      "[CV] END colsample_bytree=0.5, learning_rate=0.3, max_depth=3, n_estimators=100, subsample=1; total time=   7.9s\n",
      "[23:51:22] WARNING: ../src/learner.cc:1115: Starting in XGBoost 1.3.0, the default evaluation metric used with the objective 'multi:softprob' was changed from 'merror' to 'mlogloss'. Explicitly set eval_metric if you'd like to restore the old behavior.\n"
     ]
    },
    {
     "name": "stderr",
     "output_type": "stream",
     "text": [
      "/Users/hakantekin/opt/anaconda3/lib/python3.9/site-packages/xgboost/sklearn.py:1224: UserWarning: The use of label encoder in XGBClassifier is deprecated and will be removed in a future release. To remove this warning, do the following: 1) Pass option use_label_encoder=False when constructing XGBClassifier object; and 2) Encode your labels (y) as integers starting with 0, i.e. 0, 1, 2, ..., [num_class - 1].\n",
      "  warnings.warn(label_encoder_deprecation_msg, UserWarning)\n"
     ]
    },
    {
     "name": "stdout",
     "output_type": "stream",
     "text": [
      "[CV] END colsample_bytree=0.5, learning_rate=0.3, max_depth=3, n_estimators=300, subsample=0.5; total time=  23.2s\n",
      "[23:51:38] WARNING: ../src/learner.cc:1115: Starting in XGBoost 1.3.0, the default evaluation metric used with the objective 'multi:softprob' was changed from 'merror' to 'mlogloss'. Explicitly set eval_metric if you'd like to restore the old behavior.\n",
      "[CV] END colsample_bytree=0.5, learning_rate=0.3, max_depth=3, n_estimators=300, subsample=0.5; total time=  23.3s\n",
      "[CV] END colsample_bytree=0.5, learning_rate=0.3, max_depth=3, n_estimators=300, subsample=0.5; total time=  23.3s\n"
     ]
    },
    {
     "name": "stderr",
     "output_type": "stream",
     "text": [
      "/Users/hakantekin/opt/anaconda3/lib/python3.9/site-packages/xgboost/sklearn.py:1224: UserWarning: The use of label encoder in XGBClassifier is deprecated and will be removed in a future release. To remove this warning, do the following: 1) Pass option use_label_encoder=False when constructing XGBClassifier object; and 2) Encode your labels (y) as integers starting with 0, i.e. 0, 1, 2, ..., [num_class - 1].\n",
      "  warnings.warn(label_encoder_deprecation_msg, UserWarning)\n",
      "/Users/hakantekin/opt/anaconda3/lib/python3.9/site-packages/xgboost/sklearn.py:1224: UserWarning: The use of label encoder in XGBClassifier is deprecated and will be removed in a future release. To remove this warning, do the following: 1) Pass option use_label_encoder=False when constructing XGBClassifier object; and 2) Encode your labels (y) as integers starting with 0, i.e. 0, 1, 2, ..., [num_class - 1].\n",
      "  warnings.warn(label_encoder_deprecation_msg, UserWarning)\n",
      "/Users/hakantekin/opt/anaconda3/lib/python3.9/site-packages/xgboost/sklearn.py:1224: UserWarning: The use of label encoder in XGBClassifier is deprecated and will be removed in a future release. To remove this warning, do the following: 1) Pass option use_label_encoder=False when constructing XGBClassifier object; and 2) Encode your labels (y) as integers starting with 0, i.e. 0, 1, 2, ..., [num_class - 1].\n",
      "  warnings.warn(label_encoder_deprecation_msg, UserWarning)\n"
     ]
    },
    {
     "name": "stdout",
     "output_type": "stream",
     "text": [
      "[23:51:38] WARNING: ../src/learner.cc:1115: Starting in XGBoost 1.3.0, the default evaluation metric used with the objective 'multi:softprob' was changed from 'merror' to 'mlogloss'. Explicitly set eval_metric if you'd like to restore the old behavior.\n",
      "[23:51:38] WARNING: ../src/learner.cc:1115: Starting in XGBoost 1.3.0, the default evaluation metric used with the objective 'multi:softprob' was changed from 'merror' to 'mlogloss'. Explicitly set eval_metric if you'd like to restore the old behavior.\n",
      "[CV] END colsample_bytree=0.5, learning_rate=0.3, max_depth=3, n_estimators=300, subsample=0.5; total time=  23.3s\n",
      "[CV] END colsample_bytree=0.5, learning_rate=0.3, max_depth=3, n_estimators=300, subsample=0.5; total time=  23.5s\n",
      "[23:51:42] WARNING: ../src/learner.cc:1115: Starting in XGBoost 1.3.0, the default evaluation metric used with the objective 'multi:softprob' was changed from 'merror' to 'mlogloss'. Explicitly set eval_metric if you'd like to restore the old behavior.\n"
     ]
    },
    {
     "name": "stderr",
     "output_type": "stream",
     "text": [
      "/Users/hakantekin/opt/anaconda3/lib/python3.9/site-packages/xgboost/sklearn.py:1224: UserWarning: The use of label encoder in XGBClassifier is deprecated and will be removed in a future release. To remove this warning, do the following: 1) Pass option use_label_encoder=False when constructing XGBClassifier object; and 2) Encode your labels (y) as integers starting with 0, i.e. 0, 1, 2, ..., [num_class - 1].\n",
      "  warnings.warn(label_encoder_deprecation_msg, UserWarning)\n",
      "/Users/hakantekin/opt/anaconda3/lib/python3.9/site-packages/xgboost/sklearn.py:1224: UserWarning: The use of label encoder in XGBClassifier is deprecated and will be removed in a future release. To remove this warning, do the following: 1) Pass option use_label_encoder=False when constructing XGBClassifier object; and 2) Encode your labels (y) as integers starting with 0, i.e. 0, 1, 2, ..., [num_class - 1].\n",
      "  warnings.warn(label_encoder_deprecation_msg, UserWarning)\n"
     ]
    },
    {
     "name": "stdout",
     "output_type": "stream",
     "text": [
      "[23:51:42] WARNING: ../src/learner.cc:1115: Starting in XGBoost 1.3.0, the default evaluation metric used with the objective 'multi:softprob' was changed from 'merror' to 'mlogloss'. Explicitly set eval_metric if you'd like to restore the old behavior.\n",
      "[CV] END colsample_bytree=0.5, learning_rate=0.3, max_depth=3, n_estimators=300, subsample=1; total time=  23.4s\n"
     ]
    },
    {
     "name": "stderr",
     "output_type": "stream",
     "text": [
      "/Users/hakantekin/opt/anaconda3/lib/python3.9/site-packages/xgboost/sklearn.py:1224: UserWarning: The use of label encoder in XGBClassifier is deprecated and will be removed in a future release. To remove this warning, do the following: 1) Pass option use_label_encoder=False when constructing XGBClassifier object; and 2) Encode your labels (y) as integers starting with 0, i.e. 0, 1, 2, ..., [num_class - 1].\n",
      "  warnings.warn(label_encoder_deprecation_msg, UserWarning)\n"
     ]
    },
    {
     "name": "stdout",
     "output_type": "stream",
     "text": [
      "[23:51:45] WARNING: ../src/learner.cc:1115: Starting in XGBoost 1.3.0, the default evaluation metric used with the objective 'multi:softprob' was changed from 'merror' to 'mlogloss'. Explicitly set eval_metric if you'd like to restore the old behavior.\n",
      "[CV] END colsample_bytree=0.5, learning_rate=0.1, max_depth=6, n_estimators=300, subsample=1; total time= 1.0min\n"
     ]
    },
    {
     "name": "stderr",
     "output_type": "stream",
     "text": [
      "/Users/hakantekin/opt/anaconda3/lib/python3.9/site-packages/xgboost/sklearn.py:1224: UserWarning: The use of label encoder in XGBClassifier is deprecated and will be removed in a future release. To remove this warning, do the following: 1) Pass option use_label_encoder=False when constructing XGBClassifier object; and 2) Encode your labels (y) as integers starting with 0, i.e. 0, 1, 2, ..., [num_class - 1].\n",
      "  warnings.warn(label_encoder_deprecation_msg, UserWarning)\n"
     ]
    },
    {
     "name": "stdout",
     "output_type": "stream",
     "text": [
      "[23:51:47] WARNING: ../src/learner.cc:1115: Starting in XGBoost 1.3.0, the default evaluation metric used with the objective 'multi:softprob' was changed from 'merror' to 'mlogloss'. Explicitly set eval_metric if you'd like to restore the old behavior.\n",
      "[CV] END colsample_bytree=0.5, learning_rate=0.1, max_depth=6, n_estimators=300, subsample=1; total time= 1.0min\n"
     ]
    },
    {
     "name": "stderr",
     "output_type": "stream",
     "text": [
      "/Users/hakantekin/opt/anaconda3/lib/python3.9/site-packages/xgboost/sklearn.py:1224: UserWarning: The use of label encoder in XGBClassifier is deprecated and will be removed in a future release. To remove this warning, do the following: 1) Pass option use_label_encoder=False when constructing XGBClassifier object; and 2) Encode your labels (y) as integers starting with 0, i.e. 0, 1, 2, ..., [num_class - 1].\n",
      "  warnings.warn(label_encoder_deprecation_msg, UserWarning)\n"
     ]
    },
    {
     "name": "stdout",
     "output_type": "stream",
     "text": [
      "[23:51:50] WARNING: ../src/learner.cc:1115: Starting in XGBoost 1.3.0, the default evaluation metric used with the objective 'multi:softprob' was changed from 'merror' to 'mlogloss'. Explicitly set eval_metric if you'd like to restore the old behavior.\n",
      "[CV] END colsample_bytree=0.5, learning_rate=0.3, max_depth=5, n_estimators=100, subsample=0.5; total time=  15.5s\n"
     ]
    },
    {
     "name": "stderr",
     "output_type": "stream",
     "text": [
      "/Users/hakantekin/opt/anaconda3/lib/python3.9/site-packages/xgboost/sklearn.py:1224: UserWarning: The use of label encoder in XGBClassifier is deprecated and will be removed in a future release. To remove this warning, do the following: 1) Pass option use_label_encoder=False when constructing XGBClassifier object; and 2) Encode your labels (y) as integers starting with 0, i.e. 0, 1, 2, ..., [num_class - 1].\n",
      "  warnings.warn(label_encoder_deprecation_msg, UserWarning)\n"
     ]
    },
    {
     "name": "stdout",
     "output_type": "stream",
     "text": [
      "[23:51:58] WARNING: ../src/learner.cc:1115: Starting in XGBoost 1.3.0, the default evaluation metric used with the objective 'multi:softprob' was changed from 'merror' to 'mlogloss'. Explicitly set eval_metric if you'd like to restore the old behavior.\n",
      "[CV] END colsample_bytree=0.5, learning_rate=0.3, max_depth=5, n_estimators=100, subsample=0.5; total time=  15.5s\n",
      "[CV] END colsample_bytree=0.5, learning_rate=0.3, max_depth=3, n_estimators=300, subsample=1; total time=  23.2s\n",
      "[CV] END colsample_bytree=0.5, learning_rate=0.3, max_depth=3, n_estimators=300, subsample=1; total time=  23.2s\n"
     ]
    },
    {
     "name": "stderr",
     "output_type": "stream",
     "text": [
      "/Users/hakantekin/opt/anaconda3/lib/python3.9/site-packages/xgboost/sklearn.py:1224: UserWarning: The use of label encoder in XGBClassifier is deprecated and will be removed in a future release. To remove this warning, do the following: 1) Pass option use_label_encoder=False when constructing XGBClassifier object; and 2) Encode your labels (y) as integers starting with 0, i.e. 0, 1, 2, ..., [num_class - 1].\n",
      "  warnings.warn(label_encoder_deprecation_msg, UserWarning)\n",
      "/Users/hakantekin/opt/anaconda3/lib/python3.9/site-packages/xgboost/sklearn.py:1224: UserWarning: The use of label encoder in XGBClassifier is deprecated and will be removed in a future release. To remove this warning, do the following: 1) Pass option use_label_encoder=False when constructing XGBClassifier object; and 2) Encode your labels (y) as integers starting with 0, i.e. 0, 1, 2, ..., [num_class - 1].\n",
      "  warnings.warn(label_encoder_deprecation_msg, UserWarning)\n",
      "/Users/hakantekin/opt/anaconda3/lib/python3.9/site-packages/xgboost/sklearn.py:1224: UserWarning: The use of label encoder in XGBClassifier is deprecated and will be removed in a future release. To remove this warning, do the following: 1) Pass option use_label_encoder=False when constructing XGBClassifier object; and 2) Encode your labels (y) as integers starting with 0, i.e. 0, 1, 2, ..., [num_class - 1].\n",
      "  warnings.warn(label_encoder_deprecation_msg, UserWarning)\n"
     ]
    },
    {
     "name": "stdout",
     "output_type": "stream",
     "text": [
      "[23:52:01] WARNING: ../src/learner.cc:1115: Starting in XGBoost 1.3.0, the default evaluation metric used with the objective 'multi:softprob' was changed from 'merror' to 'mlogloss'. Explicitly set eval_metric if you'd like to restore the old behavior.\n",
      "[CV] END colsample_bytree=0.5, learning_rate=0.3, max_depth=3, n_estimators=300, subsample=1; total time=  23.3s\n",
      "[23:52:01] WARNING: ../src/learner.cc:1115: Starting in XGBoost 1.3.0, the default evaluation metric used with the objective 'multi:softprob' was changed from 'merror' to 'mlogloss'. Explicitly set eval_metric if you'd like to restore the old behavior.\n",
      "[23:52:01] WARNING: ../src/learner.cc:1115: Starting in XGBoost 1.3.0, the default evaluation metric used with the objective 'multi:softprob' was changed from 'merror' to 'mlogloss'. Explicitly set eval_metric if you'd like to restore the old behavior.\n"
     ]
    },
    {
     "name": "stderr",
     "output_type": "stream",
     "text": [
      "/Users/hakantekin/opt/anaconda3/lib/python3.9/site-packages/xgboost/sklearn.py:1224: UserWarning: The use of label encoder in XGBClassifier is deprecated and will be removed in a future release. To remove this warning, do the following: 1) Pass option use_label_encoder=False when constructing XGBClassifier object; and 2) Encode your labels (y) as integers starting with 0, i.e. 0, 1, 2, ..., [num_class - 1].\n",
      "  warnings.warn(label_encoder_deprecation_msg, UserWarning)\n"
     ]
    },
    {
     "name": "stdout",
     "output_type": "stream",
     "text": [
      "[23:52:01] WARNING: ../src/learner.cc:1115: Starting in XGBoost 1.3.0, the default evaluation metric used with the objective 'multi:softprob' was changed from 'merror' to 'mlogloss'. Explicitly set eval_metric if you'd like to restore the old behavior.\n",
      "[CV] END colsample_bytree=0.5, learning_rate=0.3, max_depth=5, n_estimators=100, subsample=0.5; total time=  15.6s\n",
      "[23:52:03] WARNING: ../src/learner.cc:1115: Starting in XGBoost 1.3.0, the default evaluation metric used with the objective 'multi:softprob' was changed from 'merror' to 'mlogloss'. Explicitly set eval_metric if you'd like to restore the old behavior.\n"
     ]
    },
    {
     "name": "stderr",
     "output_type": "stream",
     "text": [
      "/Users/hakantekin/opt/anaconda3/lib/python3.9/site-packages/xgboost/sklearn.py:1224: UserWarning: The use of label encoder in XGBClassifier is deprecated and will be removed in a future release. To remove this warning, do the following: 1) Pass option use_label_encoder=False when constructing XGBClassifier object; and 2) Encode your labels (y) as integers starting with 0, i.e. 0, 1, 2, ..., [num_class - 1].\n",
      "  warnings.warn(label_encoder_deprecation_msg, UserWarning)\n"
     ]
    },
    {
     "name": "stdout",
     "output_type": "stream",
     "text": [
      "[CV] END colsample_bytree=0.5, learning_rate=0.3, max_depth=3, n_estimators=300, subsample=1; total time=  22.8s\n",
      "[CV] END colsample_bytree=0.5, learning_rate=0.3, max_depth=5, n_estimators=100, subsample=0.5; total time=  15.4s\n"
     ]
    },
    {
     "name": "stderr",
     "output_type": "stream",
     "text": [
      "/Users/hakantekin/opt/anaconda3/lib/python3.9/site-packages/xgboost/sklearn.py:1224: UserWarning: The use of label encoder in XGBClassifier is deprecated and will be removed in a future release. To remove this warning, do the following: 1) Pass option use_label_encoder=False when constructing XGBClassifier object; and 2) Encode your labels (y) as integers starting with 0, i.e. 0, 1, 2, ..., [num_class - 1].\n",
      "  warnings.warn(label_encoder_deprecation_msg, UserWarning)\n",
      "/Users/hakantekin/opt/anaconda3/lib/python3.9/site-packages/xgboost/sklearn.py:1224: UserWarning: The use of label encoder in XGBClassifier is deprecated and will be removed in a future release. To remove this warning, do the following: 1) Pass option use_label_encoder=False when constructing XGBClassifier object; and 2) Encode your labels (y) as integers starting with 0, i.e. 0, 1, 2, ..., [num_class - 1].\n",
      "  warnings.warn(label_encoder_deprecation_msg, UserWarning)\n"
     ]
    },
    {
     "name": "stdout",
     "output_type": "stream",
     "text": [
      "[23:52:05] WARNING: ../src/learner.cc:1115: Starting in XGBoost 1.3.0, the default evaluation metric used with the objective 'multi:softprob' was changed from 'merror' to 'mlogloss'. Explicitly set eval_metric if you'd like to restore the old behavior.\n",
      "[23:52:05] WARNING: ../src/learner.cc:1115: Starting in XGBoost 1.3.0, the default evaluation metric used with the objective 'multi:softprob' was changed from 'merror' to 'mlogloss'. Explicitly set eval_metric if you'd like to restore the old behavior.\n",
      "[CV] END colsample_bytree=0.5, learning_rate=0.3, max_depth=5, n_estimators=100, subsample=0.5; total time=  14.7s\n"
     ]
    },
    {
     "name": "stderr",
     "output_type": "stream",
     "text": [
      "/Users/hakantekin/opt/anaconda3/lib/python3.9/site-packages/xgboost/sklearn.py:1224: UserWarning: The use of label encoder in XGBClassifier is deprecated and will be removed in a future release. To remove this warning, do the following: 1) Pass option use_label_encoder=False when constructing XGBClassifier object; and 2) Encode your labels (y) as integers starting with 0, i.e. 0, 1, 2, ..., [num_class - 1].\n",
      "  warnings.warn(label_encoder_deprecation_msg, UserWarning)\n"
     ]
    },
    {
     "name": "stdout",
     "output_type": "stream",
     "text": [
      "[23:52:13] WARNING: ../src/learner.cc:1115: Starting in XGBoost 1.3.0, the default evaluation metric used with the objective 'multi:softprob' was changed from 'merror' to 'mlogloss'. Explicitly set eval_metric if you'd like to restore the old behavior.\n",
      "[CV] END colsample_bytree=0.5, learning_rate=0.3, max_depth=5, n_estimators=100, subsample=1; total time=  15.1s\n",
      "[CV] END colsample_bytree=0.5, learning_rate=0.3, max_depth=5, n_estimators=100, subsample=1; total time=  15.1s\n",
      "[CV] END colsample_bytree=0.5, learning_rate=0.3, max_depth=5, n_estimators=100, subsample=1; total time=  15.3s\n",
      "[CV] END colsample_bytree=0.5, learning_rate=0.3, max_depth=5, n_estimators=100, subsample=1; total time=  15.1s\n"
     ]
    },
    {
     "name": "stderr",
     "output_type": "stream",
     "text": [
      "/Users/hakantekin/opt/anaconda3/lib/python3.9/site-packages/xgboost/sklearn.py:1224: UserWarning: The use of label encoder in XGBClassifier is deprecated and will be removed in a future release. To remove this warning, do the following: 1) Pass option use_label_encoder=False when constructing XGBClassifier object; and 2) Encode your labels (y) as integers starting with 0, i.e. 0, 1, 2, ..., [num_class - 1].\n",
      "  warnings.warn(label_encoder_deprecation_msg, UserWarning)\n",
      "/Users/hakantekin/opt/anaconda3/lib/python3.9/site-packages/xgboost/sklearn.py:1224: UserWarning: The use of label encoder in XGBClassifier is deprecated and will be removed in a future release. To remove this warning, do the following: 1) Pass option use_label_encoder=False when constructing XGBClassifier object; and 2) Encode your labels (y) as integers starting with 0, i.e. 0, 1, 2, ..., [num_class - 1].\n",
      "  warnings.warn(label_encoder_deprecation_msg, UserWarning)\n",
      "/Users/hakantekin/opt/anaconda3/lib/python3.9/site-packages/xgboost/sklearn.py:1224: UserWarning: The use of label encoder in XGBClassifier is deprecated and will be removed in a future release. To remove this warning, do the following: 1) Pass option use_label_encoder=False when constructing XGBClassifier object; and 2) Encode your labels (y) as integers starting with 0, i.e. 0, 1, 2, ..., [num_class - 1].\n",
      "  warnings.warn(label_encoder_deprecation_msg, UserWarning)\n",
      "/Users/hakantekin/opt/anaconda3/lib/python3.9/site-packages/xgboost/sklearn.py:1224: UserWarning: The use of label encoder in XGBClassifier is deprecated and will be removed in a future release. To remove this warning, do the following: 1) Pass option use_label_encoder=False when constructing XGBClassifier object; and 2) Encode your labels (y) as integers starting with 0, i.e. 0, 1, 2, ..., [num_class - 1].\n",
      "  warnings.warn(label_encoder_deprecation_msg, UserWarning)\n"
     ]
    },
    {
     "name": "stdout",
     "output_type": "stream",
     "text": [
      "[23:52:16] WARNING: ../src/learner.cc:1115: Starting in XGBoost 1.3.0, the default evaluation metric used with the objective 'multi:softprob' was changed from 'merror' to 'mlogloss'. Explicitly set eval_metric if you'd like to restore the old behavior.\n",
      "[23:52:16] WARNING: ../src/learner.cc:1115: Starting in XGBoost 1.3.0, the default evaluation metric used with the objective 'multi:softprob' was changed from 'merror' to 'mlogloss'. Explicitly set eval_metric if you'd like to restore the old behavior.\n",
      "[23:52:16] WARNING: ../src/learner.cc:1115: Starting in XGBoost 1.3.0, the default evaluation metric used with the objective 'multi:softprob' was changed from 'merror' to 'mlogloss'. Explicitly set eval_metric if you'd like to restore the old behavior.\n",
      "[23:52:16] WARNING: ../src/learner.cc:1115: Starting in XGBoost 1.3.0, the default evaluation metric used with the objective 'multi:softprob' was changed from 'merror' to 'mlogloss'. Explicitly set eval_metric if you'd like to restore the old behavior.\n",
      "[CV] END colsample_bytree=0.5, learning_rate=0.3, max_depth=5, n_estimators=100, subsample=1; total time=  15.3s\n"
     ]
    },
    {
     "name": "stderr",
     "output_type": "stream",
     "text": [
      "/Users/hakantekin/opt/anaconda3/lib/python3.9/site-packages/xgboost/sklearn.py:1224: UserWarning: The use of label encoder in XGBClassifier is deprecated and will be removed in a future release. To remove this warning, do the following: 1) Pass option use_label_encoder=False when constructing XGBClassifier object; and 2) Encode your labels (y) as integers starting with 0, i.e. 0, 1, 2, ..., [num_class - 1].\n",
      "  warnings.warn(label_encoder_deprecation_msg, UserWarning)\n"
     ]
    },
    {
     "name": "stdout",
     "output_type": "stream",
     "text": [
      "[23:52:18] WARNING: ../src/learner.cc:1115: Starting in XGBoost 1.3.0, the default evaluation metric used with the objective 'multi:softprob' was changed from 'merror' to 'mlogloss'. Explicitly set eval_metric if you'd like to restore the old behavior.\n",
      "[CV] END colsample_bytree=0.5, learning_rate=0.3, max_depth=5, n_estimators=300, subsample=0.5; total time=  36.0s\n",
      "[CV] END colsample_bytree=0.5, learning_rate=0.3, max_depth=5, n_estimators=300, subsample=0.5; total time=  36.0s\n"
     ]
    },
    {
     "name": "stderr",
     "output_type": "stream",
     "text": [
      "/Users/hakantekin/opt/anaconda3/lib/python3.9/site-packages/xgboost/sklearn.py:1224: UserWarning: The use of label encoder in XGBClassifier is deprecated and will be removed in a future release. To remove this warning, do the following: 1) Pass option use_label_encoder=False when constructing XGBClassifier object; and 2) Encode your labels (y) as integers starting with 0, i.e. 0, 1, 2, ..., [num_class - 1].\n",
      "  warnings.warn(label_encoder_deprecation_msg, UserWarning)\n",
      "/Users/hakantekin/opt/anaconda3/lib/python3.9/site-packages/xgboost/sklearn.py:1224: UserWarning: The use of label encoder in XGBClassifier is deprecated and will be removed in a future release. To remove this warning, do the following: 1) Pass option use_label_encoder=False when constructing XGBClassifier object; and 2) Encode your labels (y) as integers starting with 0, i.e. 0, 1, 2, ..., [num_class - 1].\n",
      "  warnings.warn(label_encoder_deprecation_msg, UserWarning)\n"
     ]
    },
    {
     "name": "stdout",
     "output_type": "stream",
     "text": [
      "[23:52:41] WARNING: ../src/learner.cc:1115: Starting in XGBoost 1.3.0, the default evaluation metric used with the objective 'multi:softprob' was changed from 'merror' to 'mlogloss'. Explicitly set eval_metric if you'd like to restore the old behavior.\n",
      "[23:52:41] WARNING: ../src/learner.cc:1115: Starting in XGBoost 1.3.0, the default evaluation metric used with the objective 'multi:softprob' was changed from 'merror' to 'mlogloss'. Explicitly set eval_metric if you'd like to restore the old behavior.\n",
      "[CV] END colsample_bytree=0.5, learning_rate=0.3, max_depth=5, n_estimators=300, subsample=0.5; total time=  37.0s\n"
     ]
    },
    {
     "name": "stderr",
     "output_type": "stream",
     "text": [
      "/Users/hakantekin/opt/anaconda3/lib/python3.9/site-packages/xgboost/sklearn.py:1224: UserWarning: The use of label encoder in XGBClassifier is deprecated and will be removed in a future release. To remove this warning, do the following: 1) Pass option use_label_encoder=False when constructing XGBClassifier object; and 2) Encode your labels (y) as integers starting with 0, i.e. 0, 1, 2, ..., [num_class - 1].\n",
      "  warnings.warn(label_encoder_deprecation_msg, UserWarning)\n"
     ]
    },
    {
     "name": "stdout",
     "output_type": "stream",
     "text": [
      "[23:52:50] WARNING: ../src/learner.cc:1115: Starting in XGBoost 1.3.0, the default evaluation metric used with the objective 'multi:softprob' was changed from 'merror' to 'mlogloss'. Explicitly set eval_metric if you'd like to restore the old behavior.\n",
      "[CV] END colsample_bytree=0.5, learning_rate=0.3, max_depth=5, n_estimators=300, subsample=0.5; total time=  37.2s\n",
      "[CV] END colsample_bytree=0.5, learning_rate=0.3, max_depth=5, n_estimators=300, subsample=0.5; total time=  37.2s\n"
     ]
    },
    {
     "name": "stderr",
     "output_type": "stream",
     "text": [
      "/Users/hakantekin/opt/anaconda3/lib/python3.9/site-packages/xgboost/sklearn.py:1224: UserWarning: The use of label encoder in XGBClassifier is deprecated and will be removed in a future release. To remove this warning, do the following: 1) Pass option use_label_encoder=False when constructing XGBClassifier object; and 2) Encode your labels (y) as integers starting with 0, i.e. 0, 1, 2, ..., [num_class - 1].\n",
      "  warnings.warn(label_encoder_deprecation_msg, UserWarning)\n",
      "/Users/hakantekin/opt/anaconda3/lib/python3.9/site-packages/xgboost/sklearn.py:1224: UserWarning: The use of label encoder in XGBClassifier is deprecated and will be removed in a future release. To remove this warning, do the following: 1) Pass option use_label_encoder=False when constructing XGBClassifier object; and 2) Encode your labels (y) as integers starting with 0, i.e. 0, 1, 2, ..., [num_class - 1].\n",
      "  warnings.warn(label_encoder_deprecation_msg, UserWarning)\n"
     ]
    },
    {
     "name": "stdout",
     "output_type": "stream",
     "text": [
      "[23:52:53] WARNING: ../src/learner.cc:1115: Starting in XGBoost 1.3.0, the default evaluation metric used with the objective 'multi:softprob' was changed from 'merror' to 'mlogloss'. Explicitly set eval_metric if you'd like to restore the old behavior.\n",
      "[23:52:53] WARNING: ../src/learner.cc:1115: Starting in XGBoost 1.3.0, the default evaluation metric used with the objective 'multi:softprob' was changed from 'merror' to 'mlogloss'. Explicitly set eval_metric if you'd like to restore the old behavior.\n",
      "[CV] END colsample_bytree=0.5, learning_rate=0.3, max_depth=5, n_estimators=300, subsample=1; total time=  38.3s\n",
      "[CV] END colsample_bytree=0.5, learning_rate=0.3, max_depth=5, n_estimators=300, subsample=1; total time=  38.4s\n"
     ]
    },
    {
     "name": "stderr",
     "output_type": "stream",
     "text": [
      "/Users/hakantekin/opt/anaconda3/lib/python3.9/site-packages/xgboost/sklearn.py:1224: UserWarning: The use of label encoder in XGBClassifier is deprecated and will be removed in a future release. To remove this warning, do the following: 1) Pass option use_label_encoder=False when constructing XGBClassifier object; and 2) Encode your labels (y) as integers starting with 0, i.e. 0, 1, 2, ..., [num_class - 1].\n",
      "  warnings.warn(label_encoder_deprecation_msg, UserWarning)\n",
      "/Users/hakantekin/opt/anaconda3/lib/python3.9/site-packages/xgboost/sklearn.py:1224: UserWarning: The use of label encoder in XGBClassifier is deprecated and will be removed in a future release. To remove this warning, do the following: 1) Pass option use_label_encoder=False when constructing XGBClassifier object; and 2) Encode your labels (y) as integers starting with 0, i.e. 0, 1, 2, ..., [num_class - 1].\n",
      "  warnings.warn(label_encoder_deprecation_msg, UserWarning)\n"
     ]
    },
    {
     "name": "stdout",
     "output_type": "stream",
     "text": [
      "[23:52:55] WARNING: ../src/learner.cc:1115: Starting in XGBoost 1.3.0, the default evaluation metric used with the objective 'multi:softprob' was changed from 'merror' to 'mlogloss'. Explicitly set eval_metric if you'd like to restore the old behavior.\n",
      "[23:52:55] WARNING: ../src/learner.cc:1115: Starting in XGBoost 1.3.0, the default evaluation metric used with the objective 'multi:softprob' was changed from 'merror' to 'mlogloss'. Explicitly set eval_metric if you'd like to restore the old behavior.\n",
      "[CV] END colsample_bytree=0.5, learning_rate=0.3, max_depth=5, n_estimators=300, subsample=1; total time=  38.6s\n"
     ]
    },
    {
     "name": "stderr",
     "output_type": "stream",
     "text": [
      "/Users/hakantekin/opt/anaconda3/lib/python3.9/site-packages/xgboost/sklearn.py:1224: UserWarning: The use of label encoder in XGBClassifier is deprecated and will be removed in a future release. To remove this warning, do the following: 1) Pass option use_label_encoder=False when constructing XGBClassifier object; and 2) Encode your labels (y) as integers starting with 0, i.e. 0, 1, 2, ..., [num_class - 1].\n",
      "  warnings.warn(label_encoder_deprecation_msg, UserWarning)\n"
     ]
    },
    {
     "name": "stdout",
     "output_type": "stream",
     "text": [
      "[23:52:57] WARNING: ../src/learner.cc:1115: Starting in XGBoost 1.3.0, the default evaluation metric used with the objective 'multi:softprob' was changed from 'merror' to 'mlogloss'. Explicitly set eval_metric if you'd like to restore the old behavior.\n",
      "[CV] END colsample_bytree=0.5, learning_rate=0.3, max_depth=6, n_estimators=100, subsample=0.5; total time=  18.0s\n"
     ]
    },
    {
     "name": "stderr",
     "output_type": "stream",
     "text": [
      "/Users/hakantekin/opt/anaconda3/lib/python3.9/site-packages/xgboost/sklearn.py:1224: UserWarning: The use of label encoder in XGBClassifier is deprecated and will be removed in a future release. To remove this warning, do the following: 1) Pass option use_label_encoder=False when constructing XGBClassifier object; and 2) Encode your labels (y) as integers starting with 0, i.e. 0, 1, 2, ..., [num_class - 1].\n",
      "  warnings.warn(label_encoder_deprecation_msg, UserWarning)\n"
     ]
    },
    {
     "name": "stdout",
     "output_type": "stream",
     "text": [
      "[23:53:08] WARNING: ../src/learner.cc:1115: Starting in XGBoost 1.3.0, the default evaluation metric used with the objective 'multi:softprob' was changed from 'merror' to 'mlogloss'. Explicitly set eval_metric if you'd like to restore the old behavior.\n",
      "[CV] END colsample_bytree=0.5, learning_rate=0.3, max_depth=6, n_estimators=100, subsample=0.5; total time=  18.0s\n",
      "[CV] END colsample_bytree=0.5, learning_rate=0.3, max_depth=6, n_estimators=100, subsample=0.5; total time=  18.0s\n"
     ]
    },
    {
     "name": "stderr",
     "output_type": "stream",
     "text": [
      "/Users/hakantekin/opt/anaconda3/lib/python3.9/site-packages/xgboost/sklearn.py:1224: UserWarning: The use of label encoder in XGBClassifier is deprecated and will be removed in a future release. To remove this warning, do the following: 1) Pass option use_label_encoder=False when constructing XGBClassifier object; and 2) Encode your labels (y) as integers starting with 0, i.e. 0, 1, 2, ..., [num_class - 1].\n",
      "  warnings.warn(label_encoder_deprecation_msg, UserWarning)\n",
      "/Users/hakantekin/opt/anaconda3/lib/python3.9/site-packages/xgboost/sklearn.py:1224: UserWarning: The use of label encoder in XGBClassifier is deprecated and will be removed in a future release. To remove this warning, do the following: 1) Pass option use_label_encoder=False when constructing XGBClassifier object; and 2) Encode your labels (y) as integers starting with 0, i.e. 0, 1, 2, ..., [num_class - 1].\n",
      "  warnings.warn(label_encoder_deprecation_msg, UserWarning)\n"
     ]
    },
    {
     "name": "stdout",
     "output_type": "stream",
     "text": [
      "[23:53:11] WARNING: ../src/learner.cc:1115: Starting in XGBoost 1.3.0, the default evaluation metric used with the objective 'multi:softprob' was changed from 'merror' to 'mlogloss'. Explicitly set eval_metric if you'd like to restore the old behavior.\n",
      "[23:53:11] WARNING: ../src/learner.cc:1115: Starting in XGBoost 1.3.0, the default evaluation metric used with the objective 'multi:softprob' was changed from 'merror' to 'mlogloss'. Explicitly set eval_metric if you'd like to restore the old behavior.\n",
      "[CV] END colsample_bytree=0.5, learning_rate=0.3, max_depth=6, n_estimators=100, subsample=0.5; total time=  18.0s\n",
      "[CV] END colsample_bytree=0.5, learning_rate=0.3, max_depth=6, n_estimators=100, subsample=0.5; total time=  18.0s\n"
     ]
    },
    {
     "name": "stderr",
     "output_type": "stream",
     "text": [
      "/Users/hakantekin/opt/anaconda3/lib/python3.9/site-packages/xgboost/sklearn.py:1224: UserWarning: The use of label encoder in XGBClassifier is deprecated and will be removed in a future release. To remove this warning, do the following: 1) Pass option use_label_encoder=False when constructing XGBClassifier object; and 2) Encode your labels (y) as integers starting with 0, i.e. 0, 1, 2, ..., [num_class - 1].\n",
      "  warnings.warn(label_encoder_deprecation_msg, UserWarning)\n",
      "/Users/hakantekin/opt/anaconda3/lib/python3.9/site-packages/xgboost/sklearn.py:1224: UserWarning: The use of label encoder in XGBClassifier is deprecated and will be removed in a future release. To remove this warning, do the following: 1) Pass option use_label_encoder=False when constructing XGBClassifier object; and 2) Encode your labels (y) as integers starting with 0, i.e. 0, 1, 2, ..., [num_class - 1].\n",
      "  warnings.warn(label_encoder_deprecation_msg, UserWarning)\n"
     ]
    },
    {
     "name": "stdout",
     "output_type": "stream",
     "text": [
      "[23:53:13] WARNING: ../src/learner.cc:1115: Starting in XGBoost 1.3.0, the default evaluation metric used with the objective 'multi:softprob' was changed from 'merror' to 'mlogloss'. Explicitly set eval_metric if you'd like to restore the old behavior.\n",
      "[23:53:13] WARNING: ../src/learner.cc:1115: Starting in XGBoost 1.3.0, the default evaluation metric used with the objective 'multi:softprob' was changed from 'merror' to 'mlogloss'. Explicitly set eval_metric if you'd like to restore the old behavior.\n",
      "[CV] END colsample_bytree=0.5, learning_rate=0.3, max_depth=6, n_estimators=100, subsample=1; total time=  19.1s\n"
     ]
    },
    {
     "name": "stderr",
     "output_type": "stream",
     "text": [
      "/Users/hakantekin/opt/anaconda3/lib/python3.9/site-packages/xgboost/sklearn.py:1224: UserWarning: The use of label encoder in XGBClassifier is deprecated and will be removed in a future release. To remove this warning, do the following: 1) Pass option use_label_encoder=False when constructing XGBClassifier object; and 2) Encode your labels (y) as integers starting with 0, i.e. 0, 1, 2, ..., [num_class - 1].\n",
      "  warnings.warn(label_encoder_deprecation_msg, UserWarning)\n"
     ]
    },
    {
     "name": "stdout",
     "output_type": "stream",
     "text": [
      "[23:53:16] WARNING: ../src/learner.cc:1115: Starting in XGBoost 1.3.0, the default evaluation metric used with the objective 'multi:softprob' was changed from 'merror' to 'mlogloss'. Explicitly set eval_metric if you'd like to restore the old behavior.\n",
      "[CV] END colsample_bytree=0.5, learning_rate=0.3, max_depth=5, n_estimators=300, subsample=1; total time=  37.3s\n"
     ]
    },
    {
     "name": "stderr",
     "output_type": "stream",
     "text": [
      "/Users/hakantekin/opt/anaconda3/lib/python3.9/site-packages/xgboost/sklearn.py:1224: UserWarning: The use of label encoder in XGBClassifier is deprecated and will be removed in a future release. To remove this warning, do the following: 1) Pass option use_label_encoder=False when constructing XGBClassifier object; and 2) Encode your labels (y) as integers starting with 0, i.e. 0, 1, 2, ..., [num_class - 1].\n",
      "  warnings.warn(label_encoder_deprecation_msg, UserWarning)\n"
     ]
    },
    {
     "name": "stdout",
     "output_type": "stream",
     "text": [
      "[23:53:19] WARNING: ../src/learner.cc:1115: Starting in XGBoost 1.3.0, the default evaluation metric used with the objective 'multi:softprob' was changed from 'merror' to 'mlogloss'. Explicitly set eval_metric if you'd like to restore the old behavior.\n",
      "[CV] END colsample_bytree=0.5, learning_rate=0.3, max_depth=5, n_estimators=300, subsample=1; total time=  37.6s\n"
     ]
    },
    {
     "name": "stderr",
     "output_type": "stream",
     "text": [
      "/Users/hakantekin/opt/anaconda3/lib/python3.9/site-packages/xgboost/sklearn.py:1224: UserWarning: The use of label encoder in XGBClassifier is deprecated and will be removed in a future release. To remove this warning, do the following: 1) Pass option use_label_encoder=False when constructing XGBClassifier object; and 2) Encode your labels (y) as integers starting with 0, i.e. 0, 1, 2, ..., [num_class - 1].\n",
      "  warnings.warn(label_encoder_deprecation_msg, UserWarning)\n"
     ]
    },
    {
     "name": "stdout",
     "output_type": "stream",
     "text": [
      "[23:53:19] WARNING: ../src/learner.cc:1115: Starting in XGBoost 1.3.0, the default evaluation metric used with the objective 'multi:softprob' was changed from 'merror' to 'mlogloss'. Explicitly set eval_metric if you'd like to restore the old behavior.\n",
      "[CV] END colsample_bytree=0.5, learning_rate=0.3, max_depth=6, n_estimators=100, subsample=1; total time=  19.1s\n"
     ]
    },
    {
     "name": "stderr",
     "output_type": "stream",
     "text": [
      "/Users/hakantekin/opt/anaconda3/lib/python3.9/site-packages/xgboost/sklearn.py:1224: UserWarning: The use of label encoder in XGBClassifier is deprecated and will be removed in a future release. To remove this warning, do the following: 1) Pass option use_label_encoder=False when constructing XGBClassifier object; and 2) Encode your labels (y) as integers starting with 0, i.e. 0, 1, 2, ..., [num_class - 1].\n",
      "  warnings.warn(label_encoder_deprecation_msg, UserWarning)\n"
     ]
    },
    {
     "name": "stdout",
     "output_type": "stream",
     "text": [
      "[23:53:27] WARNING: ../src/learner.cc:1115: Starting in XGBoost 1.3.0, the default evaluation metric used with the objective 'multi:softprob' was changed from 'merror' to 'mlogloss'. Explicitly set eval_metric if you'd like to restore the old behavior.\n",
      "[CV] END colsample_bytree=0.5, learning_rate=0.3, max_depth=6, n_estimators=100, subsample=1; total time=  18.9s\n"
     ]
    },
    {
     "name": "stderr",
     "output_type": "stream",
     "text": [
      "/Users/hakantekin/opt/anaconda3/lib/python3.9/site-packages/xgboost/sklearn.py:1224: UserWarning: The use of label encoder in XGBClassifier is deprecated and will be removed in a future release. To remove this warning, do the following: 1) Pass option use_label_encoder=False when constructing XGBClassifier object; and 2) Encode your labels (y) as integers starting with 0, i.e. 0, 1, 2, ..., [num_class - 1].\n",
      "  warnings.warn(label_encoder_deprecation_msg, UserWarning)\n"
     ]
    },
    {
     "name": "stdout",
     "output_type": "stream",
     "text": [
      "[CV] END colsample_bytree=0.5, learning_rate=0.3, max_depth=6, n_estimators=100, subsample=1; total time=  19.2s\n",
      "[23:53:30] WARNING: ../src/learner.cc:1115: Starting in XGBoost 1.3.0, the default evaluation metric used with the objective 'multi:softprob' was changed from 'merror' to 'mlogloss'. Explicitly set eval_metric if you'd like to restore the old behavior.\n"
     ]
    },
    {
     "name": "stderr",
     "output_type": "stream",
     "text": [
      "/Users/hakantekin/opt/anaconda3/lib/python3.9/site-packages/xgboost/sklearn.py:1224: UserWarning: The use of label encoder in XGBClassifier is deprecated and will be removed in a future release. To remove this warning, do the following: 1) Pass option use_label_encoder=False when constructing XGBClassifier object; and 2) Encode your labels (y) as integers starting with 0, i.e. 0, 1, 2, ..., [num_class - 1].\n",
      "  warnings.warn(label_encoder_deprecation_msg, UserWarning)\n"
     ]
    },
    {
     "name": "stdout",
     "output_type": "stream",
     "text": [
      "[23:53:31] WARNING: ../src/learner.cc:1115: Starting in XGBoost 1.3.0, the default evaluation metric used with the objective 'multi:softprob' was changed from 'merror' to 'mlogloss'. Explicitly set eval_metric if you'd like to restore the old behavior.\n",
      "[CV] END colsample_bytree=0.5, learning_rate=0.3, max_depth=6, n_estimators=100, subsample=1; total time=  18.9s\n"
     ]
    },
    {
     "name": "stderr",
     "output_type": "stream",
     "text": [
      "/Users/hakantekin/opt/anaconda3/lib/python3.9/site-packages/xgboost/sklearn.py:1224: UserWarning: The use of label encoder in XGBClassifier is deprecated and will be removed in a future release. To remove this warning, do the following: 1) Pass option use_label_encoder=False when constructing XGBClassifier object; and 2) Encode your labels (y) as integers starting with 0, i.e. 0, 1, 2, ..., [num_class - 1].\n",
      "  warnings.warn(label_encoder_deprecation_msg, UserWarning)\n"
     ]
    },
    {
     "name": "stdout",
     "output_type": "stream",
     "text": [
      "[23:53:31] WARNING: ../src/learner.cc:1115: Starting in XGBoost 1.3.0, the default evaluation metric used with the objective 'multi:softprob' was changed from 'merror' to 'mlogloss'. Explicitly set eval_metric if you'd like to restore the old behavior.\n",
      "[CV] END colsample_bytree=0.5, learning_rate=0.3, max_depth=6, n_estimators=300, subsample=0.5; total time=  38.8s\n"
     ]
    },
    {
     "name": "stderr",
     "output_type": "stream",
     "text": [
      "/Users/hakantekin/opt/anaconda3/lib/python3.9/site-packages/xgboost/sklearn.py:1224: UserWarning: The use of label encoder in XGBClassifier is deprecated and will be removed in a future release. To remove this warning, do the following: 1) Pass option use_label_encoder=False when constructing XGBClassifier object; and 2) Encode your labels (y) as integers starting with 0, i.e. 0, 1, 2, ..., [num_class - 1].\n",
      "  warnings.warn(label_encoder_deprecation_msg, UserWarning)\n"
     ]
    },
    {
     "name": "stdout",
     "output_type": "stream",
     "text": [
      "[23:53:52] WARNING: ../src/learner.cc:1115: Starting in XGBoost 1.3.0, the default evaluation metric used with the objective 'multi:softprob' was changed from 'merror' to 'mlogloss'. Explicitly set eval_metric if you'd like to restore the old behavior.\n",
      "[CV] END colsample_bytree=0.5, learning_rate=0.3, max_depth=6, n_estimators=300, subsample=0.5; total time=  39.2s\n"
     ]
    },
    {
     "name": "stderr",
     "output_type": "stream",
     "text": [
      "/Users/hakantekin/opt/anaconda3/lib/python3.9/site-packages/xgboost/sklearn.py:1224: UserWarning: The use of label encoder in XGBClassifier is deprecated and will be removed in a future release. To remove this warning, do the following: 1) Pass option use_label_encoder=False when constructing XGBClassifier object; and 2) Encode your labels (y) as integers starting with 0, i.e. 0, 1, 2, ..., [num_class - 1].\n",
      "  warnings.warn(label_encoder_deprecation_msg, UserWarning)\n"
     ]
    },
    {
     "name": "stdout",
     "output_type": "stream",
     "text": [
      "[23:53:55] WARNING: ../src/learner.cc:1115: Starting in XGBoost 1.3.0, the default evaluation metric used with the objective 'multi:softprob' was changed from 'merror' to 'mlogloss'. Explicitly set eval_metric if you'd like to restore the old behavior.\n",
      "[CV] END colsample_bytree=0.5, learning_rate=0.3, max_depth=6, n_estimators=300, subsample=0.5; total time=  40.1s\n",
      "[23:53:59] WARNING: ../src/learner.cc:1115: Starting in XGBoost 1.3.0, the default evaluation metric used with the objective 'multi:softprob' was changed from 'merror' to 'mlogloss'. Explicitly set eval_metric if you'd like to restore the old behavior.\n"
     ]
    },
    {
     "name": "stderr",
     "output_type": "stream",
     "text": [
      "/Users/hakantekin/opt/anaconda3/lib/python3.9/site-packages/xgboost/sklearn.py:1224: UserWarning: The use of label encoder in XGBClassifier is deprecated and will be removed in a future release. To remove this warning, do the following: 1) Pass option use_label_encoder=False when constructing XGBClassifier object; and 2) Encode your labels (y) as integers starting with 0, i.e. 0, 1, 2, ..., [num_class - 1].\n",
      "  warnings.warn(label_encoder_deprecation_msg, UserWarning)\n"
     ]
    },
    {
     "name": "stdout",
     "output_type": "stream",
     "text": [
      "[CV] END colsample_bytree=0.5, learning_rate=0.3, max_depth=6, n_estimators=300, subsample=0.5; total time=  39.9s\n",
      "[23:53:59] WARNING: ../src/learner.cc:1115: Starting in XGBoost 1.3.0, the default evaluation metric used with the objective 'multi:softprob' was changed from 'merror' to 'mlogloss'. Explicitly set eval_metric if you'd like to restore the old behavior.\n"
     ]
    },
    {
     "name": "stderr",
     "output_type": "stream",
     "text": [
      "/Users/hakantekin/opt/anaconda3/lib/python3.9/site-packages/xgboost/sklearn.py:1224: UserWarning: The use of label encoder in XGBClassifier is deprecated and will be removed in a future release. To remove this warning, do the following: 1) Pass option use_label_encoder=False when constructing XGBClassifier object; and 2) Encode your labels (y) as integers starting with 0, i.e. 0, 1, 2, ..., [num_class - 1].\n",
      "  warnings.warn(label_encoder_deprecation_msg, UserWarning)\n"
     ]
    },
    {
     "name": "stdout",
     "output_type": "stream",
     "text": [
      "[CV] END colsample_bytree=1, learning_rate=0.1, max_depth=3, n_estimators=100, subsample=0.5; total time=   8.8s\n",
      "[23:54:07] WARNING: ../src/learner.cc:1115: Starting in XGBoost 1.3.0, the default evaluation metric used with the objective 'multi:softprob' was changed from 'merror' to 'mlogloss'. Explicitly set eval_metric if you'd like to restore the old behavior.\n"
     ]
    },
    {
     "name": "stderr",
     "output_type": "stream",
     "text": [
      "/Users/hakantekin/opt/anaconda3/lib/python3.9/site-packages/xgboost/sklearn.py:1224: UserWarning: The use of label encoder in XGBClassifier is deprecated and will be removed in a future release. To remove this warning, do the following: 1) Pass option use_label_encoder=False when constructing XGBClassifier object; and 2) Encode your labels (y) as integers starting with 0, i.e. 0, 1, 2, ..., [num_class - 1].\n",
      "  warnings.warn(label_encoder_deprecation_msg, UserWarning)\n"
     ]
    },
    {
     "name": "stdout",
     "output_type": "stream",
     "text": [
      "[CV] END colsample_bytree=1, learning_rate=0.1, max_depth=3, n_estimators=100, subsample=0.5; total time=   8.8s\n",
      "[23:54:08] WARNING: ../src/learner.cc:1115: Starting in XGBoost 1.3.0, the default evaluation metric used with the objective 'multi:softprob' was changed from 'merror' to 'mlogloss'. Explicitly set eval_metric if you'd like to restore the old behavior.\n"
     ]
    },
    {
     "name": "stderr",
     "output_type": "stream",
     "text": [
      "/Users/hakantekin/opt/anaconda3/lib/python3.9/site-packages/xgboost/sklearn.py:1224: UserWarning: The use of label encoder in XGBClassifier is deprecated and will be removed in a future release. To remove this warning, do the following: 1) Pass option use_label_encoder=False when constructing XGBClassifier object; and 2) Encode your labels (y) as integers starting with 0, i.e. 0, 1, 2, ..., [num_class - 1].\n",
      "  warnings.warn(label_encoder_deprecation_msg, UserWarning)\n"
     ]
    },
    {
     "name": "stdout",
     "output_type": "stream",
     "text": [
      "[CV] END colsample_bytree=0.5, learning_rate=0.3, max_depth=6, n_estimators=300, subsample=0.5; total time=  41.8s\n",
      "[23:54:09] WARNING: ../src/learner.cc:1115: Starting in XGBoost 1.3.0, the default evaluation metric used with the objective 'multi:softprob' was changed from 'merror' to 'mlogloss'. Explicitly set eval_metric if you'd like to restore the old behavior.\n"
     ]
    },
    {
     "name": "stderr",
     "output_type": "stream",
     "text": [
      "/Users/hakantekin/opt/anaconda3/lib/python3.9/site-packages/xgboost/sklearn.py:1224: UserWarning: The use of label encoder in XGBClassifier is deprecated and will be removed in a future release. To remove this warning, do the following: 1) Pass option use_label_encoder=False when constructing XGBClassifier object; and 2) Encode your labels (y) as integers starting with 0, i.e. 0, 1, 2, ..., [num_class - 1].\n",
      "  warnings.warn(label_encoder_deprecation_msg, UserWarning)\n"
     ]
    },
    {
     "name": "stdout",
     "output_type": "stream",
     "text": [
      "[CV] END colsample_bytree=0.5, learning_rate=0.3, max_depth=6, n_estimators=300, subsample=1; total time=  44.7s\n",
      "[CV] END colsample_bytree=0.5, learning_rate=0.3, max_depth=6, n_estimators=300, subsample=1; total time=  45.0s\n",
      "[23:54:15] WARNING: ../src/learner.cc:1115: Starting in XGBoost 1.3.0, the default evaluation metric used with the objective 'multi:softprob' was changed from 'merror' to 'mlogloss'. Explicitly set eval_metric if you'd like to restore the old behavior.\n",
      "[23:54:15] WARNING: ../src/learner.cc:1115: Starting in XGBoost 1.3.0, the default evaluation metric used with the objective 'multi:softprob' was changed from 'merror' to 'mlogloss'. Explicitly set eval_metric if you'd like to restore the old behavior.\n"
     ]
    },
    {
     "name": "stderr",
     "output_type": "stream",
     "text": [
      "/Users/hakantekin/opt/anaconda3/lib/python3.9/site-packages/xgboost/sklearn.py:1224: UserWarning: The use of label encoder in XGBClassifier is deprecated and will be removed in a future release. To remove this warning, do the following: 1) Pass option use_label_encoder=False when constructing XGBClassifier object; and 2) Encode your labels (y) as integers starting with 0, i.e. 0, 1, 2, ..., [num_class - 1].\n",
      "  warnings.warn(label_encoder_deprecation_msg, UserWarning)\n",
      "/Users/hakantekin/opt/anaconda3/lib/python3.9/site-packages/xgboost/sklearn.py:1224: UserWarning: The use of label encoder in XGBClassifier is deprecated and will be removed in a future release. To remove this warning, do the following: 1) Pass option use_label_encoder=False when constructing XGBClassifier object; and 2) Encode your labels (y) as integers starting with 0, i.e. 0, 1, 2, ..., [num_class - 1].\n",
      "  warnings.warn(label_encoder_deprecation_msg, UserWarning)\n"
     ]
    },
    {
     "name": "stdout",
     "output_type": "stream",
     "text": [
      "[CV] END colsample_bytree=1, learning_rate=0.1, max_depth=3, n_estimators=100, subsample=0.5; total time=   9.6s\n",
      "[CV] END colsample_bytree=0.5, learning_rate=0.3, max_depth=6, n_estimators=300, subsample=1; total time=  45.8s\n",
      "[23:54:17] WARNING: ../src/learner.cc:1115: Starting in XGBoost 1.3.0, the default evaluation metric used with the objective 'multi:softprob' was changed from 'merror' to 'mlogloss'. Explicitly set eval_metric if you'd like to restore the old behavior.\n"
     ]
    },
    {
     "name": "stderr",
     "output_type": "stream",
     "text": [
      "/Users/hakantekin/opt/anaconda3/lib/python3.9/site-packages/xgboost/sklearn.py:1224: UserWarning: The use of label encoder in XGBClassifier is deprecated and will be removed in a future release. To remove this warning, do the following: 1) Pass option use_label_encoder=False when constructing XGBClassifier object; and 2) Encode your labels (y) as integers starting with 0, i.e. 0, 1, 2, ..., [num_class - 1].\n",
      "  warnings.warn(label_encoder_deprecation_msg, UserWarning)\n",
      "/Users/hakantekin/opt/anaconda3/lib/python3.9/site-packages/xgboost/sklearn.py:1224: UserWarning: The use of label encoder in XGBClassifier is deprecated and will be removed in a future release. To remove this warning, do the following: 1) Pass option use_label_encoder=False when constructing XGBClassifier object; and 2) Encode your labels (y) as integers starting with 0, i.e. 0, 1, 2, ..., [num_class - 1].\n",
      "  warnings.warn(label_encoder_deprecation_msg, UserWarning)\n"
     ]
    },
    {
     "name": "stdout",
     "output_type": "stream",
     "text": [
      "[23:54:17] WARNING: ../src/learner.cc:1115: Starting in XGBoost 1.3.0, the default evaluation metric used with the objective 'multi:softprob' was changed from 'merror' to 'mlogloss'. Explicitly set eval_metric if you'd like to restore the old behavior.\n",
      "[CV] END colsample_bytree=1, learning_rate=0.1, max_depth=3, n_estimators=100, subsample=0.5; total time=   9.7s\n"
     ]
    },
    {
     "name": "stderr",
     "output_type": "stream",
     "text": [
      "/Users/hakantekin/opt/anaconda3/lib/python3.9/site-packages/xgboost/sklearn.py:1224: UserWarning: The use of label encoder in XGBClassifier is deprecated and will be removed in a future release. To remove this warning, do the following: 1) Pass option use_label_encoder=False when constructing XGBClassifier object; and 2) Encode your labels (y) as integers starting with 0, i.e. 0, 1, 2, ..., [num_class - 1].\n",
      "  warnings.warn(label_encoder_deprecation_msg, UserWarning)\n"
     ]
    },
    {
     "name": "stdout",
     "output_type": "stream",
     "text": [
      "[23:54:17] WARNING: ../src/learner.cc:1115: Starting in XGBoost 1.3.0, the default evaluation metric used with the objective 'multi:softprob' was changed from 'merror' to 'mlogloss'. Explicitly set eval_metric if you'd like to restore the old behavior.\n",
      "[CV] END colsample_bytree=1, learning_rate=0.1, max_depth=3, n_estimators=100, subsample=0.5; total time=  10.1s\n",
      "[23:54:19] WARNING: ../src/learner.cc:1115: Starting in XGBoost 1.3.0, the default evaluation metric used with the objective 'multi:softprob' was changed from 'merror' to 'mlogloss'. Explicitly set eval_metric if you'd like to restore the old behavior.\n"
     ]
    },
    {
     "name": "stderr",
     "output_type": "stream",
     "text": [
      "/Users/hakantekin/opt/anaconda3/lib/python3.9/site-packages/xgboost/sklearn.py:1224: UserWarning: The use of label encoder in XGBClassifier is deprecated and will be removed in a future release. To remove this warning, do the following: 1) Pass option use_label_encoder=False when constructing XGBClassifier object; and 2) Encode your labels (y) as integers starting with 0, i.e. 0, 1, 2, ..., [num_class - 1].\n",
      "  warnings.warn(label_encoder_deprecation_msg, UserWarning)\n"
     ]
    },
    {
     "name": "stdout",
     "output_type": "stream",
     "text": [
      "[CV] END colsample_bytree=1, learning_rate=0.1, max_depth=3, n_estimators=100, subsample=1; total time=  11.1s\n",
      "[23:54:26] WARNING: ../src/learner.cc:1115: Starting in XGBoost 1.3.0, the default evaluation metric used with the objective 'multi:softprob' was changed from 'merror' to 'mlogloss'. Explicitly set eval_metric if you'd like to restore the old behavior.\n",
      "[CV] END colsample_bytree=1, learning_rate=0.1, max_depth=3, n_estimators=100, subsample=1; total time=  11.3s\n"
     ]
    },
    {
     "name": "stderr",
     "output_type": "stream",
     "text": [
      "/Users/hakantekin/opt/anaconda3/lib/python3.9/site-packages/xgboost/sklearn.py:1224: UserWarning: The use of label encoder in XGBClassifier is deprecated and will be removed in a future release. To remove this warning, do the following: 1) Pass option use_label_encoder=False when constructing XGBClassifier object; and 2) Encode your labels (y) as integers starting with 0, i.e. 0, 1, 2, ..., [num_class - 1].\n",
      "  warnings.warn(label_encoder_deprecation_msg, UserWarning)\n",
      "/Users/hakantekin/opt/anaconda3/lib/python3.9/site-packages/xgboost/sklearn.py:1224: UserWarning: The use of label encoder in XGBClassifier is deprecated and will be removed in a future release. To remove this warning, do the following: 1) Pass option use_label_encoder=False when constructing XGBClassifier object; and 2) Encode your labels (y) as integers starting with 0, i.e. 0, 1, 2, ..., [num_class - 1].\n",
      "  warnings.warn(label_encoder_deprecation_msg, UserWarning)\n"
     ]
    },
    {
     "name": "stdout",
     "output_type": "stream",
     "text": [
      "[23:54:26] WARNING: ../src/learner.cc:1115: Starting in XGBoost 1.3.0, the default evaluation metric used with the objective 'multi:softprob' was changed from 'merror' to 'mlogloss'. Explicitly set eval_metric if you'd like to restore the old behavior.\n",
      "[CV] END colsample_bytree=1, learning_rate=0.1, max_depth=3, n_estimators=100, subsample=1; total time=  11.2s\n",
      "[23:54:28] WARNING: ../src/learner.cc:1115: Starting in XGBoost 1.3.0, the default evaluation metric used with the objective 'multi:softprob' was changed from 'merror' to 'mlogloss'. Explicitly set eval_metric if you'd like to restore the old behavior.\n",
      "[CV] END colsample_bytree=1, learning_rate=0.1, max_depth=3, n_estimators=100, subsample=1; total time=  11.3s\n"
     ]
    },
    {
     "name": "stderr",
     "output_type": "stream",
     "text": [
      "/Users/hakantekin/opt/anaconda3/lib/python3.9/site-packages/xgboost/sklearn.py:1224: UserWarning: The use of label encoder in XGBClassifier is deprecated and will be removed in a future release. To remove this warning, do the following: 1) Pass option use_label_encoder=False when constructing XGBClassifier object; and 2) Encode your labels (y) as integers starting with 0, i.e. 0, 1, 2, ..., [num_class - 1].\n",
      "  warnings.warn(label_encoder_deprecation_msg, UserWarning)\n",
      "/Users/hakantekin/opt/anaconda3/lib/python3.9/site-packages/xgboost/sklearn.py:1224: UserWarning: The use of label encoder in XGBClassifier is deprecated and will be removed in a future release. To remove this warning, do the following: 1) Pass option use_label_encoder=False when constructing XGBClassifier object; and 2) Encode your labels (y) as integers starting with 0, i.e. 0, 1, 2, ..., [num_class - 1].\n",
      "  warnings.warn(label_encoder_deprecation_msg, UserWarning)\n"
     ]
    },
    {
     "name": "stdout",
     "output_type": "stream",
     "text": [
      "[23:54:28] WARNING: ../src/learner.cc:1115: Starting in XGBoost 1.3.0, the default evaluation metric used with the objective 'multi:softprob' was changed from 'merror' to 'mlogloss'. Explicitly set eval_metric if you'd like to restore the old behavior.\n",
      "[CV] END colsample_bytree=1, learning_rate=0.1, max_depth=3, n_estimators=100, subsample=1; total time=  11.2s\n",
      "[23:54:29] WARNING: ../src/learner.cc:1115: Starting in XGBoost 1.3.0, the default evaluation metric used with the objective 'multi:softprob' was changed from 'merror' to 'mlogloss'. Explicitly set eval_metric if you'd like to restore the old behavior.\n"
     ]
    },
    {
     "name": "stderr",
     "output_type": "stream",
     "text": [
      "/Users/hakantekin/opt/anaconda3/lib/python3.9/site-packages/xgboost/sklearn.py:1224: UserWarning: The use of label encoder in XGBClassifier is deprecated and will be removed in a future release. To remove this warning, do the following: 1) Pass option use_label_encoder=False when constructing XGBClassifier object; and 2) Encode your labels (y) as integers starting with 0, i.e. 0, 1, 2, ..., [num_class - 1].\n",
      "  warnings.warn(label_encoder_deprecation_msg, UserWarning)\n"
     ]
    },
    {
     "name": "stdout",
     "output_type": "stream",
     "text": [
      "[CV] END colsample_bytree=0.5, learning_rate=0.3, max_depth=6, n_estimators=300, subsample=1; total time=  55.7s\n",
      "[23:54:47] WARNING: ../src/learner.cc:1115: Starting in XGBoost 1.3.0, the default evaluation metric used with the objective 'multi:softprob' was changed from 'merror' to 'mlogloss'. Explicitly set eval_metric if you'd like to restore the old behavior.\n"
     ]
    },
    {
     "name": "stderr",
     "output_type": "stream",
     "text": [
      "/Users/hakantekin/opt/anaconda3/lib/python3.9/site-packages/xgboost/sklearn.py:1224: UserWarning: The use of label encoder in XGBClassifier is deprecated and will be removed in a future release. To remove this warning, do the following: 1) Pass option use_label_encoder=False when constructing XGBClassifier object; and 2) Encode your labels (y) as integers starting with 0, i.e. 0, 1, 2, ..., [num_class - 1].\n",
      "  warnings.warn(label_encoder_deprecation_msg, UserWarning)\n"
     ]
    },
    {
     "name": "stdout",
     "output_type": "stream",
     "text": [
      "[CV] END colsample_bytree=1, learning_rate=0.1, max_depth=3, n_estimators=300, subsample=0.5; total time=  33.6s\n",
      "[23:54:52] WARNING: ../src/learner.cc:1115: Starting in XGBoost 1.3.0, the default evaluation metric used with the objective 'multi:softprob' was changed from 'merror' to 'mlogloss'. Explicitly set eval_metric if you'd like to restore the old behavior.\n",
      "[CV] END colsample_bytree=0.5, learning_rate=0.3, max_depth=6, n_estimators=300, subsample=1; total time=  57.5s\n"
     ]
    },
    {
     "name": "stderr",
     "output_type": "stream",
     "text": [
      "/Users/hakantekin/opt/anaconda3/lib/python3.9/site-packages/xgboost/sklearn.py:1224: UserWarning: The use of label encoder in XGBClassifier is deprecated and will be removed in a future release. To remove this warning, do the following: 1) Pass option use_label_encoder=False when constructing XGBClassifier object; and 2) Encode your labels (y) as integers starting with 0, i.e. 0, 1, 2, ..., [num_class - 1].\n",
      "  warnings.warn(label_encoder_deprecation_msg, UserWarning)\n",
      "/Users/hakantekin/opt/anaconda3/lib/python3.9/site-packages/xgboost/sklearn.py:1224: UserWarning: The use of label encoder in XGBClassifier is deprecated and will be removed in a future release. To remove this warning, do the following: 1) Pass option use_label_encoder=False when constructing XGBClassifier object; and 2) Encode your labels (y) as integers starting with 0, i.e. 0, 1, 2, ..., [num_class - 1].\n",
      "  warnings.warn(label_encoder_deprecation_msg, UserWarning)\n"
     ]
    },
    {
     "name": "stdout",
     "output_type": "stream",
     "text": [
      "[23:54:53] WARNING: ../src/learner.cc:1115: Starting in XGBoost 1.3.0, the default evaluation metric used with the objective 'multi:softprob' was changed from 'merror' to 'mlogloss'. Explicitly set eval_metric if you'd like to restore the old behavior.\n",
      "[CV] END colsample_bytree=1, learning_rate=0.1, max_depth=3, n_estimators=300, subsample=0.5; total time=  34.0s\n",
      "[23:55:00] WARNING: ../src/learner.cc:1115: Starting in XGBoost 1.3.0, the default evaluation metric used with the objective 'multi:softprob' was changed from 'merror' to 'mlogloss'. Explicitly set eval_metric if you'd like to restore the old behavior.\n"
     ]
    },
    {
     "name": "stderr",
     "output_type": "stream",
     "text": [
      "/Users/hakantekin/opt/anaconda3/lib/python3.9/site-packages/xgboost/sklearn.py:1224: UserWarning: The use of label encoder in XGBClassifier is deprecated and will be removed in a future release. To remove this warning, do the following: 1) Pass option use_label_encoder=False when constructing XGBClassifier object; and 2) Encode your labels (y) as integers starting with 0, i.e. 0, 1, 2, ..., [num_class - 1].\n",
      "  warnings.warn(label_encoder_deprecation_msg, UserWarning)\n"
     ]
    },
    {
     "name": "stdout",
     "output_type": "stream",
     "text": [
      "[CV] END colsample_bytree=1, learning_rate=0.1, max_depth=3, n_estimators=300, subsample=0.5; total time=  34.2s\n"
     ]
    },
    {
     "name": "stderr",
     "output_type": "stream",
     "text": [
      "/Users/hakantekin/opt/anaconda3/lib/python3.9/site-packages/xgboost/sklearn.py:1224: UserWarning: The use of label encoder in XGBClassifier is deprecated and will be removed in a future release. To remove this warning, do the following: 1) Pass option use_label_encoder=False when constructing XGBClassifier object; and 2) Encode your labels (y) as integers starting with 0, i.e. 0, 1, 2, ..., [num_class - 1].\n",
      "  warnings.warn(label_encoder_deprecation_msg, UserWarning)\n"
     ]
    },
    {
     "name": "stdout",
     "output_type": "stream",
     "text": [
      "[23:55:01] WARNING: ../src/learner.cc:1115: Starting in XGBoost 1.3.0, the default evaluation metric used with the objective 'multi:softprob' was changed from 'merror' to 'mlogloss'. Explicitly set eval_metric if you'd like to restore the old behavior.\n",
      "[CV] END colsample_bytree=1, learning_rate=0.1, max_depth=3, n_estimators=300, subsample=0.5; total time=  33.8s\n"
     ]
    },
    {
     "name": "stderr",
     "output_type": "stream",
     "text": [
      "/Users/hakantekin/opt/anaconda3/lib/python3.9/site-packages/xgboost/sklearn.py:1224: UserWarning: The use of label encoder in XGBClassifier is deprecated and will be removed in a future release. To remove this warning, do the following: 1) Pass option use_label_encoder=False when constructing XGBClassifier object; and 2) Encode your labels (y) as integers starting with 0, i.e. 0, 1, 2, ..., [num_class - 1].\n",
      "  warnings.warn(label_encoder_deprecation_msg, UserWarning)\n"
     ]
    },
    {
     "name": "stdout",
     "output_type": "stream",
     "text": [
      "[23:55:02] WARNING: ../src/learner.cc:1115: Starting in XGBoost 1.3.0, the default evaluation metric used with the objective 'multi:softprob' was changed from 'merror' to 'mlogloss'. Explicitly set eval_metric if you'd like to restore the old behavior.\n",
      "[CV] END colsample_bytree=1, learning_rate=0.1, max_depth=3, n_estimators=300, subsample=0.5; total time=  34.3s\n",
      "[CV] END colsample_bytree=1, learning_rate=0.1, max_depth=3, n_estimators=300, subsample=1; total time=  34.2s\n"
     ]
    },
    {
     "name": "stderr",
     "output_type": "stream",
     "text": [
      "/Users/hakantekin/opt/anaconda3/lib/python3.9/site-packages/xgboost/sklearn.py:1224: UserWarning: The use of label encoder in XGBClassifier is deprecated and will be removed in a future release. To remove this warning, do the following: 1) Pass option use_label_encoder=False when constructing XGBClassifier object; and 2) Encode your labels (y) as integers starting with 0, i.e. 0, 1, 2, ..., [num_class - 1].\n",
      "  warnings.warn(label_encoder_deprecation_msg, UserWarning)\n",
      "/Users/hakantekin/opt/anaconda3/lib/python3.9/site-packages/xgboost/sklearn.py:1224: UserWarning: The use of label encoder in XGBClassifier is deprecated and will be removed in a future release. To remove this warning, do the following: 1) Pass option use_label_encoder=False when constructing XGBClassifier object; and 2) Encode your labels (y) as integers starting with 0, i.e. 0, 1, 2, ..., [num_class - 1].\n",
      "  warnings.warn(label_encoder_deprecation_msg, UserWarning)\n"
     ]
    },
    {
     "name": "stdout",
     "output_type": "stream",
     "text": [
      "[23:55:03] WARNING: ../src/learner.cc:1115: Starting in XGBoost 1.3.0, the default evaluation metric used with the objective 'multi:softprob' was changed from 'merror' to 'mlogloss'. Explicitly set eval_metric if you'd like to restore the old behavior.\n",
      "[23:55:03] WARNING: ../src/learner.cc:1115: Starting in XGBoost 1.3.0, the default evaluation metric used with the objective 'multi:softprob' was changed from 'merror' to 'mlogloss'. Explicitly set eval_metric if you'd like to restore the old behavior.\n",
      "[CV] END colsample_bytree=1, learning_rate=0.1, max_depth=3, n_estimators=300, subsample=1; total time=  33.8s\n"
     ]
    },
    {
     "name": "stderr",
     "output_type": "stream",
     "text": [
      "/Users/hakantekin/opt/anaconda3/lib/python3.9/site-packages/xgboost/sklearn.py:1224: UserWarning: The use of label encoder in XGBClassifier is deprecated and will be removed in a future release. To remove this warning, do the following: 1) Pass option use_label_encoder=False when constructing XGBClassifier object; and 2) Encode your labels (y) as integers starting with 0, i.e. 0, 1, 2, ..., [num_class - 1].\n",
      "  warnings.warn(label_encoder_deprecation_msg, UserWarning)\n"
     ]
    },
    {
     "name": "stdout",
     "output_type": "stream",
     "text": [
      "[23:55:21] WARNING: ../src/learner.cc:1115: Starting in XGBoost 1.3.0, the default evaluation metric used with the objective 'multi:softprob' was changed from 'merror' to 'mlogloss'. Explicitly set eval_metric if you'd like to restore the old behavior.\n",
      "[CV] END colsample_bytree=1, learning_rate=0.1, max_depth=5, n_estimators=100, subsample=0.5; total time=  23.6s\n"
     ]
    },
    {
     "name": "stderr",
     "output_type": "stream",
     "text": [
      "/Users/hakantekin/opt/anaconda3/lib/python3.9/site-packages/xgboost/sklearn.py:1224: UserWarning: The use of label encoder in XGBClassifier is deprecated and will be removed in a future release. To remove this warning, do the following: 1) Pass option use_label_encoder=False when constructing XGBClassifier object; and 2) Encode your labels (y) as integers starting with 0, i.e. 0, 1, 2, ..., [num_class - 1].\n",
      "  warnings.warn(label_encoder_deprecation_msg, UserWarning)\n"
     ]
    },
    {
     "name": "stdout",
     "output_type": "stream",
     "text": [
      "[23:55:24] WARNING: ../src/learner.cc:1115: Starting in XGBoost 1.3.0, the default evaluation metric used with the objective 'multi:softprob' was changed from 'merror' to 'mlogloss'. Explicitly set eval_metric if you'd like to restore the old behavior.\n",
      "[CV] END colsample_bytree=1, learning_rate=0.1, max_depth=5, n_estimators=100, subsample=0.5; total time=  23.7s\n",
      "[CV] END colsample_bytree=1, learning_rate=0.1, max_depth=3, n_estimators=300, subsample=1; total time=  33.5s\n"
     ]
    },
    {
     "name": "stderr",
     "output_type": "stream",
     "text": [
      "/Users/hakantekin/opt/anaconda3/lib/python3.9/site-packages/xgboost/sklearn.py:1224: UserWarning: The use of label encoder in XGBClassifier is deprecated and will be removed in a future release. To remove this warning, do the following: 1) Pass option use_label_encoder=False when constructing XGBClassifier object; and 2) Encode your labels (y) as integers starting with 0, i.e. 0, 1, 2, ..., [num_class - 1].\n",
      "  warnings.warn(label_encoder_deprecation_msg, UserWarning)\n",
      "/Users/hakantekin/opt/anaconda3/lib/python3.9/site-packages/xgboost/sklearn.py:1224: UserWarning: The use of label encoder in XGBClassifier is deprecated and will be removed in a future release. To remove this warning, do the following: 1) Pass option use_label_encoder=False when constructing XGBClassifier object; and 2) Encode your labels (y) as integers starting with 0, i.e. 0, 1, 2, ..., [num_class - 1].\n",
      "  warnings.warn(label_encoder_deprecation_msg, UserWarning)\n"
     ]
    },
    {
     "name": "stdout",
     "output_type": "stream",
     "text": [
      "[CV] END colsample_bytree=1, learning_rate=0.1, max_depth=3, n_estimators=300, subsample=1; total time=  33.6s\n",
      "[23:55:26] WARNING: ../src/learner.cc:1115: Starting in XGBoost 1.3.0, the default evaluation metric used with the objective 'multi:softprob' was changed from 'merror' to 'mlogloss'. Explicitly set eval_metric if you'd like to restore the old behavior.\n",
      "[23:55:26] WARNING: ../src/learner.cc:1115: Starting in XGBoost 1.3.0, the default evaluation metric used with the objective 'multi:softprob' was changed from 'merror' to 'mlogloss'. Explicitly set eval_metric if you'd like to restore the old behavior.\n",
      "[CV] END colsample_bytree=1, learning_rate=0.1, max_depth=5, n_estimators=100, subsample=0.5; total time=  23.6s\n"
     ]
    },
    {
     "name": "stderr",
     "output_type": "stream",
     "text": [
      "/Users/hakantekin/opt/anaconda3/lib/python3.9/site-packages/xgboost/sklearn.py:1224: UserWarning: The use of label encoder in XGBClassifier is deprecated and will be removed in a future release. To remove this warning, do the following: 1) Pass option use_label_encoder=False when constructing XGBClassifier object; and 2) Encode your labels (y) as integers starting with 0, i.e. 0, 1, 2, ..., [num_class - 1].\n",
      "  warnings.warn(label_encoder_deprecation_msg, UserWarning)\n",
      "/Users/hakantekin/opt/anaconda3/lib/python3.9/site-packages/xgboost/sklearn.py:1224: UserWarning: The use of label encoder in XGBClassifier is deprecated and will be removed in a future release. To remove this warning, do the following: 1) Pass option use_label_encoder=False when constructing XGBClassifier object; and 2) Encode your labels (y) as integers starting with 0, i.e. 0, 1, 2, ..., [num_class - 1].\n",
      "  warnings.warn(label_encoder_deprecation_msg, UserWarning)\n"
     ]
    },
    {
     "name": "stdout",
     "output_type": "stream",
     "text": [
      "[CV] END colsample_bytree=1, learning_rate=0.1, max_depth=5, n_estimators=100, subsample=0.5; total time=  23.6s\n",
      "[23:55:26] WARNING: ../src/learner.cc:1115: Starting in XGBoost 1.3.0, the default evaluation metric used with the objective 'multi:softprob' was changed from 'merror' to 'mlogloss'. Explicitly set eval_metric if you'd like to restore the old behavior.\n"
     ]
    },
    {
     "name": "stderr",
     "output_type": "stream",
     "text": [
      "/Users/hakantekin/opt/anaconda3/lib/python3.9/site-packages/xgboost/sklearn.py:1224: UserWarning: The use of label encoder in XGBClassifier is deprecated and will be removed in a future release. To remove this warning, do the following: 1) Pass option use_label_encoder=False when constructing XGBClassifier object; and 2) Encode your labels (y) as integers starting with 0, i.e. 0, 1, 2, ..., [num_class - 1].\n",
      "  warnings.warn(label_encoder_deprecation_msg, UserWarning)\n"
     ]
    },
    {
     "name": "stdout",
     "output_type": "stream",
     "text": [
      "[23:55:27] WARNING: ../src/learner.cc:1115: Starting in XGBoost 1.3.0, the default evaluation metric used with the objective 'multi:softprob' was changed from 'merror' to 'mlogloss'. Explicitly set eval_metric if you'd like to restore the old behavior.\n",
      "[23:55:27] WARNING: ../src/learner.cc:1115: Starting in XGBoost 1.3.0, the default evaluation metric used with the objective 'multi:softprob' was changed from 'merror' to 'mlogloss'. Explicitly set eval_metric if you'd like to restore the old behavior.\n",
      "[CV] END colsample_bytree=1, learning_rate=0.1, max_depth=3, n_estimators=300, subsample=1; total time=  32.4s\n"
     ]
    },
    {
     "name": "stderr",
     "output_type": "stream",
     "text": [
      "/Users/hakantekin/opt/anaconda3/lib/python3.9/site-packages/xgboost/sklearn.py:1224: UserWarning: The use of label encoder in XGBClassifier is deprecated and will be removed in a future release. To remove this warning, do the following: 1) Pass option use_label_encoder=False when constructing XGBClassifier object; and 2) Encode your labels (y) as integers starting with 0, i.e. 0, 1, 2, ..., [num_class - 1].\n",
      "  warnings.warn(label_encoder_deprecation_msg, UserWarning)\n"
     ]
    },
    {
     "name": "stdout",
     "output_type": "stream",
     "text": [
      "[23:55:33] WARNING: ../src/learner.cc:1115: Starting in XGBoost 1.3.0, the default evaluation metric used with the objective 'multi:softprob' was changed from 'merror' to 'mlogloss'. Explicitly set eval_metric if you'd like to restore the old behavior.\n",
      "[CV] END colsample_bytree=1, learning_rate=0.1, max_depth=5, n_estimators=100, subsample=0.5; total time=  23.4s\n"
     ]
    },
    {
     "name": "stderr",
     "output_type": "stream",
     "text": [
      "/Users/hakantekin/opt/anaconda3/lib/python3.9/site-packages/xgboost/sklearn.py:1224: UserWarning: The use of label encoder in XGBClassifier is deprecated and will be removed in a future release. To remove this warning, do the following: 1) Pass option use_label_encoder=False when constructing XGBClassifier object; and 2) Encode your labels (y) as integers starting with 0, i.e. 0, 1, 2, ..., [num_class - 1].\n",
      "  warnings.warn(label_encoder_deprecation_msg, UserWarning)\n"
     ]
    },
    {
     "name": "stdout",
     "output_type": "stream",
     "text": [
      "[23:55:44] WARNING: ../src/learner.cc:1115: Starting in XGBoost 1.3.0, the default evaluation metric used with the objective 'multi:softprob' was changed from 'merror' to 'mlogloss'. Explicitly set eval_metric if you'd like to restore the old behavior.\n",
      "[CV] END colsample_bytree=1, learning_rate=0.1, max_depth=5, n_estimators=100, subsample=1; total time=  23.9s\n"
     ]
    },
    {
     "name": "stderr",
     "output_type": "stream",
     "text": [
      "/Users/hakantekin/opt/anaconda3/lib/python3.9/site-packages/xgboost/sklearn.py:1224: UserWarning: The use of label encoder in XGBClassifier is deprecated and will be removed in a future release. To remove this warning, do the following: 1) Pass option use_label_encoder=False when constructing XGBClassifier object; and 2) Encode your labels (y) as integers starting with 0, i.e. 0, 1, 2, ..., [num_class - 1].\n",
      "  warnings.warn(label_encoder_deprecation_msg, UserWarning)\n"
     ]
    },
    {
     "name": "stdout",
     "output_type": "stream",
     "text": [
      "[23:55:48] WARNING: ../src/learner.cc:1115: Starting in XGBoost 1.3.0, the default evaluation metric used with the objective 'multi:softprob' was changed from 'merror' to 'mlogloss'. Explicitly set eval_metric if you'd like to restore the old behavior.\n",
      "[CV] END colsample_bytree=1, learning_rate=0.1, max_depth=5, n_estimators=100, subsample=1; total time=  23.7s\n",
      "[CV] END colsample_bytree=1, learning_rate=0.1, max_depth=5, n_estimators=100, subsample=1; total time=  23.8s\n"
     ]
    },
    {
     "name": "stderr",
     "output_type": "stream",
     "text": [
      "/Users/hakantekin/opt/anaconda3/lib/python3.9/site-packages/xgboost/sklearn.py:1224: UserWarning: The use of label encoder in XGBClassifier is deprecated and will be removed in a future release. To remove this warning, do the following: 1) Pass option use_label_encoder=False when constructing XGBClassifier object; and 2) Encode your labels (y) as integers starting with 0, i.e. 0, 1, 2, ..., [num_class - 1].\n",
      "  warnings.warn(label_encoder_deprecation_msg, UserWarning)\n",
      "/Users/hakantekin/opt/anaconda3/lib/python3.9/site-packages/xgboost/sklearn.py:1224: UserWarning: The use of label encoder in XGBClassifier is deprecated and will be removed in a future release. To remove this warning, do the following: 1) Pass option use_label_encoder=False when constructing XGBClassifier object; and 2) Encode your labels (y) as integers starting with 0, i.e. 0, 1, 2, ..., [num_class - 1].\n",
      "  warnings.warn(label_encoder_deprecation_msg, UserWarning)\n"
     ]
    },
    {
     "name": "stdout",
     "output_type": "stream",
     "text": [
      "[23:55:50] WARNING: ../src/learner.cc:1115: Starting in XGBoost 1.3.0, the default evaluation metric used with the objective 'multi:softprob' was changed from 'merror' to 'mlogloss'. Explicitly set eval_metric if you'd like to restore the old behavior.\n",
      "[23:55:50] WARNING: ../src/learner.cc:1115: Starting in XGBoost 1.3.0, the default evaluation metric used with the objective 'multi:softprob' was changed from 'merror' to 'mlogloss'. Explicitly set eval_metric if you'd like to restore the old behavior.\n",
      "[CV] END colsample_bytree=1, learning_rate=0.1, max_depth=5, n_estimators=100, subsample=1; total time=  23.9s\n"
     ]
    },
    {
     "name": "stderr",
     "output_type": "stream",
     "text": [
      "/Users/hakantekin/opt/anaconda3/lib/python3.9/site-packages/xgboost/sklearn.py:1224: UserWarning: The use of label encoder in XGBClassifier is deprecated and will be removed in a future release. To remove this warning, do the following: 1) Pass option use_label_encoder=False when constructing XGBClassifier object; and 2) Encode your labels (y) as integers starting with 0, i.e. 0, 1, 2, ..., [num_class - 1].\n",
      "  warnings.warn(label_encoder_deprecation_msg, UserWarning)\n",
      "/Users/hakantekin/opt/anaconda3/lib/python3.9/site-packages/xgboost/sklearn.py:1224: UserWarning: The use of label encoder in XGBClassifier is deprecated and will be removed in a future release. To remove this warning, do the following: 1) Pass option use_label_encoder=False when constructing XGBClassifier object; and 2) Encode your labels (y) as integers starting with 0, i.e. 0, 1, 2, ..., [num_class - 1].\n",
      "  warnings.warn(label_encoder_deprecation_msg, UserWarning)\n"
     ]
    },
    {
     "name": "stdout",
     "output_type": "stream",
     "text": [
      "[CV] END colsample_bytree=1, learning_rate=0.1, max_depth=5, n_estimators=100, subsample=1; total time=  23.8s\n",
      "[23:55:50] WARNING: ../src/learner.cc:1115: Starting in XGBoost 1.3.0, the default evaluation metric used with the objective 'multi:softprob' was changed from 'merror' to 'mlogloss'. Explicitly set eval_metric if you'd like to restore the old behavior.\n",
      "[23:55:50] WARNING: ../src/learner.cc:1115: Starting in XGBoost 1.3.0, the default evaluation metric used with the objective 'multi:softprob' was changed from 'merror' to 'mlogloss'. Explicitly set eval_metric if you'd like to restore the old behavior.\n",
      "[CV] END colsample_bytree=1, learning_rate=0.1, max_depth=5, n_estimators=300, subsample=0.5; total time= 1.0min\n"
     ]
    },
    {
     "name": "stderr",
     "output_type": "stream",
     "text": [
      "/Users/hakantekin/opt/anaconda3/lib/python3.9/site-packages/xgboost/sklearn.py:1224: UserWarning: The use of label encoder in XGBClassifier is deprecated and will be removed in a future release. To remove this warning, do the following: 1) Pass option use_label_encoder=False when constructing XGBClassifier object; and 2) Encode your labels (y) as integers starting with 0, i.e. 0, 1, 2, ..., [num_class - 1].\n",
      "  warnings.warn(label_encoder_deprecation_msg, UserWarning)\n"
     ]
    },
    {
     "name": "stdout",
     "output_type": "stream",
     "text": [
      "[23:56:29] WARNING: ../src/learner.cc:1115: Starting in XGBoost 1.3.0, the default evaluation metric used with the objective 'multi:softprob' was changed from 'merror' to 'mlogloss'. Explicitly set eval_metric if you'd like to restore the old behavior.\n",
      "[CV] END colsample_bytree=1, learning_rate=0.1, max_depth=5, n_estimators=300, subsample=0.5; total time= 1.1min\n"
     ]
    },
    {
     "name": "stderr",
     "output_type": "stream",
     "text": [
      "/Users/hakantekin/opt/anaconda3/lib/python3.9/site-packages/xgboost/sklearn.py:1224: UserWarning: The use of label encoder in XGBClassifier is deprecated and will be removed in a future release. To remove this warning, do the following: 1) Pass option use_label_encoder=False when constructing XGBClassifier object; and 2) Encode your labels (y) as integers starting with 0, i.e. 0, 1, 2, ..., [num_class - 1].\n",
      "  warnings.warn(label_encoder_deprecation_msg, UserWarning)\n"
     ]
    },
    {
     "name": "stdout",
     "output_type": "stream",
     "text": [
      "[23:56:36] WARNING: ../src/learner.cc:1115: Starting in XGBoost 1.3.0, the default evaluation metric used with the objective 'multi:softprob' was changed from 'merror' to 'mlogloss'. Explicitly set eval_metric if you'd like to restore the old behavior.\n",
      "[CV] END colsample_bytree=1, learning_rate=0.1, max_depth=5, n_estimators=300, subsample=0.5; total time= 1.0min\n"
     ]
    },
    {
     "name": "stderr",
     "output_type": "stream",
     "text": [
      "/Users/hakantekin/opt/anaconda3/lib/python3.9/site-packages/xgboost/sklearn.py:1224: UserWarning: The use of label encoder in XGBClassifier is deprecated and will be removed in a future release. To remove this warning, do the following: 1) Pass option use_label_encoder=False when constructing XGBClassifier object; and 2) Encode your labels (y) as integers starting with 0, i.e. 0, 1, 2, ..., [num_class - 1].\n",
      "  warnings.warn(label_encoder_deprecation_msg, UserWarning)\n"
     ]
    },
    {
     "name": "stdout",
     "output_type": "stream",
     "text": [
      "[23:56:47] WARNING: ../src/learner.cc:1115: Starting in XGBoost 1.3.0, the default evaluation metric used with the objective 'multi:softprob' was changed from 'merror' to 'mlogloss'. Explicitly set eval_metric if you'd like to restore the old behavior.\n",
      "[CV] END colsample_bytree=1, learning_rate=0.1, max_depth=5, n_estimators=300, subsample=0.5; total time= 1.0min\n"
     ]
    },
    {
     "name": "stderr",
     "output_type": "stream",
     "text": [
      "/Users/hakantekin/opt/anaconda3/lib/python3.9/site-packages/xgboost/sklearn.py:1224: UserWarning: The use of label encoder in XGBClassifier is deprecated and will be removed in a future release. To remove this warning, do the following: 1) Pass option use_label_encoder=False when constructing XGBClassifier object; and 2) Encode your labels (y) as integers starting with 0, i.e. 0, 1, 2, ..., [num_class - 1].\n",
      "  warnings.warn(label_encoder_deprecation_msg, UserWarning)\n"
     ]
    },
    {
     "name": "stdout",
     "output_type": "stream",
     "text": [
      "[23:56:51] WARNING: ../src/learner.cc:1115: Starting in XGBoost 1.3.0, the default evaluation metric used with the objective 'multi:softprob' was changed from 'merror' to 'mlogloss'. Explicitly set eval_metric if you'd like to restore the old behavior.\n",
      "[CV] END colsample_bytree=1, learning_rate=0.1, max_depth=5, n_estimators=300, subsample=0.5; total time= 1.0min\n"
     ]
    },
    {
     "name": "stderr",
     "output_type": "stream",
     "text": [
      "/Users/hakantekin/opt/anaconda3/lib/python3.9/site-packages/xgboost/sklearn.py:1224: UserWarning: The use of label encoder in XGBClassifier is deprecated and will be removed in a future release. To remove this warning, do the following: 1) Pass option use_label_encoder=False when constructing XGBClassifier object; and 2) Encode your labels (y) as integers starting with 0, i.e. 0, 1, 2, ..., [num_class - 1].\n",
      "  warnings.warn(label_encoder_deprecation_msg, UserWarning)\n"
     ]
    },
    {
     "name": "stdout",
     "output_type": "stream",
     "text": [
      "[23:56:53] WARNING: ../src/learner.cc:1115: Starting in XGBoost 1.3.0, the default evaluation metric used with the objective 'multi:softprob' was changed from 'merror' to 'mlogloss'. Explicitly set eval_metric if you'd like to restore the old behavior.\n",
      "[CV] END colsample_bytree=1, learning_rate=0.1, max_depth=5, n_estimators=300, subsample=1; total time= 1.1min\n"
     ]
    },
    {
     "name": "stderr",
     "output_type": "stream",
     "text": [
      "/Users/hakantekin/opt/anaconda3/lib/python3.9/site-packages/xgboost/sklearn.py:1224: UserWarning: The use of label encoder in XGBClassifier is deprecated and will be removed in a future release. To remove this warning, do the following: 1) Pass option use_label_encoder=False when constructing XGBClassifier object; and 2) Encode your labels (y) as integers starting with 0, i.e. 0, 1, 2, ..., [num_class - 1].\n",
      "  warnings.warn(label_encoder_deprecation_msg, UserWarning)\n"
     ]
    },
    {
     "name": "stdout",
     "output_type": "stream",
     "text": [
      "[23:56:55] WARNING: ../src/learner.cc:1115: Starting in XGBoost 1.3.0, the default evaluation metric used with the objective 'multi:softprob' was changed from 'merror' to 'mlogloss'. Explicitly set eval_metric if you'd like to restore the old behavior.\n",
      "[CV] END colsample_bytree=1, learning_rate=0.1, max_depth=5, n_estimators=300, subsample=1; total time= 1.1min\n",
      "[CV] END colsample_bytree=1, learning_rate=0.1, max_depth=5, n_estimators=300, subsample=1; total time= 1.1min\n"
     ]
    },
    {
     "name": "stderr",
     "output_type": "stream",
     "text": [
      "/Users/hakantekin/opt/anaconda3/lib/python3.9/site-packages/xgboost/sklearn.py:1224: UserWarning: The use of label encoder in XGBClassifier is deprecated and will be removed in a future release. To remove this warning, do the following: 1) Pass option use_label_encoder=False when constructing XGBClassifier object; and 2) Encode your labels (y) as integers starting with 0, i.e. 0, 1, 2, ..., [num_class - 1].\n",
      "  warnings.warn(label_encoder_deprecation_msg, UserWarning)\n",
      "/Users/hakantekin/opt/anaconda3/lib/python3.9/site-packages/xgboost/sklearn.py:1224: UserWarning: The use of label encoder in XGBClassifier is deprecated and will be removed in a future release. To remove this warning, do the following: 1) Pass option use_label_encoder=False when constructing XGBClassifier object; and 2) Encode your labels (y) as integers starting with 0, i.e. 0, 1, 2, ..., [num_class - 1].\n",
      "  warnings.warn(label_encoder_deprecation_msg, UserWarning)\n"
     ]
    },
    {
     "name": "stdout",
     "output_type": "stream",
     "text": [
      "[23:56:56] WARNING: ../src/learner.cc:1115: Starting in XGBoost 1.3.0, the default evaluation metric used with the objective 'multi:softprob' was changed from 'merror' to 'mlogloss'. Explicitly set eval_metric if you'd like to restore the old behavior.\n",
      "[23:56:56] WARNING: ../src/learner.cc:1115: Starting in XGBoost 1.3.0, the default evaluation metric used with the objective 'multi:softprob' was changed from 'merror' to 'mlogloss'. Explicitly set eval_metric if you'd like to restore the old behavior.\n",
      "[CV] END colsample_bytree=1, learning_rate=0.1, max_depth=6, n_estimators=100, subsample=0.5; total time=  28.1s\n"
     ]
    },
    {
     "name": "stderr",
     "output_type": "stream",
     "text": [
      "/Users/hakantekin/opt/anaconda3/lib/python3.9/site-packages/xgboost/sklearn.py:1224: UserWarning: The use of label encoder in XGBClassifier is deprecated and will be removed in a future release. To remove this warning, do the following: 1) Pass option use_label_encoder=False when constructing XGBClassifier object; and 2) Encode your labels (y) as integers starting with 0, i.e. 0, 1, 2, ..., [num_class - 1].\n",
      "  warnings.warn(label_encoder_deprecation_msg, UserWarning)\n"
     ]
    },
    {
     "name": "stdout",
     "output_type": "stream",
     "text": [
      "[23:57:15] WARNING: ../src/learner.cc:1115: Starting in XGBoost 1.3.0, the default evaluation metric used with the objective 'multi:softprob' was changed from 'merror' to 'mlogloss'. Explicitly set eval_metric if you'd like to restore the old behavior.\n",
      "[CV] END colsample_bytree=1, learning_rate=0.1, max_depth=6, n_estimators=100, subsample=0.5; total time=  28.3s\n"
     ]
    },
    {
     "name": "stderr",
     "output_type": "stream",
     "text": [
      "/Users/hakantekin/opt/anaconda3/lib/python3.9/site-packages/xgboost/sklearn.py:1224: UserWarning: The use of label encoder in XGBClassifier is deprecated and will be removed in a future release. To remove this warning, do the following: 1) Pass option use_label_encoder=False when constructing XGBClassifier object; and 2) Encode your labels (y) as integers starting with 0, i.e. 0, 1, 2, ..., [num_class - 1].\n",
      "  warnings.warn(label_encoder_deprecation_msg, UserWarning)\n"
     ]
    },
    {
     "name": "stdout",
     "output_type": "stream",
     "text": [
      "[23:57:19] WARNING: ../src/learner.cc:1115: Starting in XGBoost 1.3.0, the default evaluation metric used with the objective 'multi:softprob' was changed from 'merror' to 'mlogloss'. Explicitly set eval_metric if you'd like to restore the old behavior.\n",
      "[CV] END colsample_bytree=1, learning_rate=0.1, max_depth=6, n_estimators=100, subsample=0.5; total time=  28.1s\n"
     ]
    },
    {
     "name": "stderr",
     "output_type": "stream",
     "text": [
      "/Users/hakantekin/opt/anaconda3/lib/python3.9/site-packages/xgboost/sklearn.py:1224: UserWarning: The use of label encoder in XGBClassifier is deprecated and will be removed in a future release. To remove this warning, do the following: 1) Pass option use_label_encoder=False when constructing XGBClassifier object; and 2) Encode your labels (y) as integers starting with 0, i.e. 0, 1, 2, ..., [num_class - 1].\n",
      "  warnings.warn(label_encoder_deprecation_msg, UserWarning)\n"
     ]
    },
    {
     "name": "stdout",
     "output_type": "stream",
     "text": [
      "[23:57:21] WARNING: ../src/learner.cc:1115: Starting in XGBoost 1.3.0, the default evaluation metric used with the objective 'multi:softprob' was changed from 'merror' to 'mlogloss'. Explicitly set eval_metric if you'd like to restore the old behavior.\n",
      "[CV] END colsample_bytree=1, learning_rate=0.1, max_depth=6, n_estimators=100, subsample=0.5; total time=  28.0s\n"
     ]
    },
    {
     "name": "stderr",
     "output_type": "stream",
     "text": [
      "/Users/hakantekin/opt/anaconda3/lib/python3.9/site-packages/xgboost/sklearn.py:1224: UserWarning: The use of label encoder in XGBClassifier is deprecated and will be removed in a future release. To remove this warning, do the following: 1) Pass option use_label_encoder=False when constructing XGBClassifier object; and 2) Encode your labels (y) as integers starting with 0, i.e. 0, 1, 2, ..., [num_class - 1].\n",
      "  warnings.warn(label_encoder_deprecation_msg, UserWarning)\n"
     ]
    },
    {
     "name": "stdout",
     "output_type": "stream",
     "text": [
      "[23:57:23] WARNING: ../src/learner.cc:1115: Starting in XGBoost 1.3.0, the default evaluation metric used with the objective 'multi:softprob' was changed from 'merror' to 'mlogloss'. Explicitly set eval_metric if you'd like to restore the old behavior.\n",
      "[CV] END colsample_bytree=1, learning_rate=0.1, max_depth=6, n_estimators=100, subsample=0.5; total time=  28.1s\n"
     ]
    },
    {
     "name": "stderr",
     "output_type": "stream",
     "text": [
      "/Users/hakantekin/opt/anaconda3/lib/python3.9/site-packages/xgboost/sklearn.py:1224: UserWarning: The use of label encoder in XGBClassifier is deprecated and will be removed in a future release. To remove this warning, do the following: 1) Pass option use_label_encoder=False when constructing XGBClassifier object; and 2) Encode your labels (y) as integers starting with 0, i.e. 0, 1, 2, ..., [num_class - 1].\n",
      "  warnings.warn(label_encoder_deprecation_msg, UserWarning)\n"
     ]
    },
    {
     "name": "stdout",
     "output_type": "stream",
     "text": [
      "[23:57:24] WARNING: ../src/learner.cc:1115: Starting in XGBoost 1.3.0, the default evaluation metric used with the objective 'multi:softprob' was changed from 'merror' to 'mlogloss'. Explicitly set eval_metric if you'd like to restore the old behavior.\n",
      "[CV] END colsample_bytree=1, learning_rate=0.1, max_depth=6, n_estimators=100, subsample=1; total time=  31.3s\n"
     ]
    },
    {
     "name": "stderr",
     "output_type": "stream",
     "text": [
      "/Users/hakantekin/opt/anaconda3/lib/python3.9/site-packages/xgboost/sklearn.py:1224: UserWarning: The use of label encoder in XGBClassifier is deprecated and will be removed in a future release. To remove this warning, do the following: 1) Pass option use_label_encoder=False when constructing XGBClassifier object; and 2) Encode your labels (y) as integers starting with 0, i.e. 0, 1, 2, ..., [num_class - 1].\n",
      "  warnings.warn(label_encoder_deprecation_msg, UserWarning)\n"
     ]
    },
    {
     "name": "stdout",
     "output_type": "stream",
     "text": [
      "[23:57:27] WARNING: ../src/learner.cc:1115: Starting in XGBoost 1.3.0, the default evaluation metric used with the objective 'multi:softprob' was changed from 'merror' to 'mlogloss'. Explicitly set eval_metric if you'd like to restore the old behavior.\n",
      "[CV] END colsample_bytree=1, learning_rate=0.1, max_depth=5, n_estimators=300, subsample=1; total time= 1.1min\n"
     ]
    },
    {
     "name": "stderr",
     "output_type": "stream",
     "text": [
      "/Users/hakantekin/opt/anaconda3/lib/python3.9/site-packages/xgboost/sklearn.py:1224: UserWarning: The use of label encoder in XGBClassifier is deprecated and will be removed in a future release. To remove this warning, do the following: 1) Pass option use_label_encoder=False when constructing XGBClassifier object; and 2) Encode your labels (y) as integers starting with 0, i.e. 0, 1, 2, ..., [num_class - 1].\n",
      "  warnings.warn(label_encoder_deprecation_msg, UserWarning)\n"
     ]
    },
    {
     "name": "stdout",
     "output_type": "stream",
     "text": [
      "[23:57:32] WARNING: ../src/learner.cc:1115: Starting in XGBoost 1.3.0, the default evaluation metric used with the objective 'multi:softprob' was changed from 'merror' to 'mlogloss'. Explicitly set eval_metric if you'd like to restore the old behavior.\n",
      "[CV] END colsample_bytree=1, learning_rate=0.1, max_depth=5, n_estimators=300, subsample=1; total time= 1.0min\n"
     ]
    },
    {
     "name": "stderr",
     "output_type": "stream",
     "text": [
      "/Users/hakantekin/opt/anaconda3/lib/python3.9/site-packages/xgboost/sklearn.py:1224: UserWarning: The use of label encoder in XGBClassifier is deprecated and will be removed in a future release. To remove this warning, do the following: 1) Pass option use_label_encoder=False when constructing XGBClassifier object; and 2) Encode your labels (y) as integers starting with 0, i.e. 0, 1, 2, ..., [num_class - 1].\n",
      "  warnings.warn(label_encoder_deprecation_msg, UserWarning)\n"
     ]
    },
    {
     "name": "stdout",
     "output_type": "stream",
     "text": [
      "[23:57:38] WARNING: ../src/learner.cc:1115: Starting in XGBoost 1.3.0, the default evaluation metric used with the objective 'multi:softprob' was changed from 'merror' to 'mlogloss'. Explicitly set eval_metric if you'd like to restore the old behavior.\n",
      "[CV] END colsample_bytree=1, learning_rate=0.1, max_depth=6, n_estimators=100, subsample=1; total time=  30.8s\n"
     ]
    },
    {
     "name": "stderr",
     "output_type": "stream",
     "text": [
      "/Users/hakantekin/opt/anaconda3/lib/python3.9/site-packages/xgboost/sklearn.py:1224: UserWarning: The use of label encoder in XGBClassifier is deprecated and will be removed in a future release. To remove this warning, do the following: 1) Pass option use_label_encoder=False when constructing XGBClassifier object; and 2) Encode your labels (y) as integers starting with 0, i.e. 0, 1, 2, ..., [num_class - 1].\n",
      "  warnings.warn(label_encoder_deprecation_msg, UserWarning)\n"
     ]
    },
    {
     "name": "stdout",
     "output_type": "stream",
     "text": [
      "[23:57:46] WARNING: ../src/learner.cc:1115: Starting in XGBoost 1.3.0, the default evaluation metric used with the objective 'multi:softprob' was changed from 'merror' to 'mlogloss'. Explicitly set eval_metric if you'd like to restore the old behavior.\n",
      "[CV] END colsample_bytree=1, learning_rate=0.1, max_depth=6, n_estimators=100, subsample=1; total time=  30.3s\n"
     ]
    },
    {
     "name": "stderr",
     "output_type": "stream",
     "text": [
      "/Users/hakantekin/opt/anaconda3/lib/python3.9/site-packages/xgboost/sklearn.py:1224: UserWarning: The use of label encoder in XGBClassifier is deprecated and will be removed in a future release. To remove this warning, do the following: 1) Pass option use_label_encoder=False when constructing XGBClassifier object; and 2) Encode your labels (y) as integers starting with 0, i.e. 0, 1, 2, ..., [num_class - 1].\n",
      "  warnings.warn(label_encoder_deprecation_msg, UserWarning)\n"
     ]
    },
    {
     "name": "stdout",
     "output_type": "stream",
     "text": [
      "[23:57:50] WARNING: ../src/learner.cc:1115: Starting in XGBoost 1.3.0, the default evaluation metric used with the objective 'multi:softprob' was changed from 'merror' to 'mlogloss'. Explicitly set eval_metric if you'd like to restore the old behavior.\n",
      "[CV] END colsample_bytree=1, learning_rate=0.1, max_depth=6, n_estimators=100, subsample=1; total time=  30.3s\n"
     ]
    },
    {
     "name": "stderr",
     "output_type": "stream",
     "text": [
      "/Users/hakantekin/opt/anaconda3/lib/python3.9/site-packages/xgboost/sklearn.py:1224: UserWarning: The use of label encoder in XGBClassifier is deprecated and will be removed in a future release. To remove this warning, do the following: 1) Pass option use_label_encoder=False when constructing XGBClassifier object; and 2) Encode your labels (y) as integers starting with 0, i.e. 0, 1, 2, ..., [num_class - 1].\n",
      "  warnings.warn(label_encoder_deprecation_msg, UserWarning)\n"
     ]
    },
    {
     "name": "stdout",
     "output_type": "stream",
     "text": [
      "[23:57:51] WARNING: ../src/learner.cc:1115: Starting in XGBoost 1.3.0, the default evaluation metric used with the objective 'multi:softprob' was changed from 'merror' to 'mlogloss'. Explicitly set eval_metric if you'd like to restore the old behavior.\n",
      "[CV] END colsample_bytree=1, learning_rate=0.1, max_depth=6, n_estimators=100, subsample=1; total time=  29.8s\n"
     ]
    },
    {
     "name": "stderr",
     "output_type": "stream",
     "text": [
      "/Users/hakantekin/opt/anaconda3/lib/python3.9/site-packages/xgboost/sklearn.py:1224: UserWarning: The use of label encoder in XGBClassifier is deprecated and will be removed in a future release. To remove this warning, do the following: 1) Pass option use_label_encoder=False when constructing XGBClassifier object; and 2) Encode your labels (y) as integers starting with 0, i.e. 0, 1, 2, ..., [num_class - 1].\n",
      "  warnings.warn(label_encoder_deprecation_msg, UserWarning)\n"
     ]
    },
    {
     "name": "stdout",
     "output_type": "stream",
     "text": [
      "[23:57:53] WARNING: ../src/learner.cc:1115: Starting in XGBoost 1.3.0, the default evaluation metric used with the objective 'multi:softprob' was changed from 'merror' to 'mlogloss'. Explicitly set eval_metric if you'd like to restore the old behavior.\n",
      "[CV] END colsample_bytree=1, learning_rate=0.1, max_depth=6, n_estimators=300, subsample=0.5; total time= 1.2min\n"
     ]
    },
    {
     "name": "stderr",
     "output_type": "stream",
     "text": [
      "/Users/hakantekin/opt/anaconda3/lib/python3.9/site-packages/xgboost/sklearn.py:1224: UserWarning: The use of label encoder in XGBClassifier is deprecated and will be removed in a future release. To remove this warning, do the following: 1) Pass option use_label_encoder=False when constructing XGBClassifier object; and 2) Encode your labels (y) as integers starting with 0, i.e. 0, 1, 2, ..., [num_class - 1].\n",
      "  warnings.warn(label_encoder_deprecation_msg, UserWarning)\n"
     ]
    },
    {
     "name": "stdout",
     "output_type": "stream",
     "text": [
      "[23:58:37] WARNING: ../src/learner.cc:1115: Starting in XGBoost 1.3.0, the default evaluation metric used with the objective 'multi:softprob' was changed from 'merror' to 'mlogloss'. Explicitly set eval_metric if you'd like to restore the old behavior.\n",
      "[CV] END colsample_bytree=1, learning_rate=0.1, max_depth=6, n_estimators=300, subsample=0.5; total time= 1.2min\n"
     ]
    },
    {
     "name": "stderr",
     "output_type": "stream",
     "text": [
      "/Users/hakantekin/opt/anaconda3/lib/python3.9/site-packages/xgboost/sklearn.py:1224: UserWarning: The use of label encoder in XGBClassifier is deprecated and will be removed in a future release. To remove this warning, do the following: 1) Pass option use_label_encoder=False when constructing XGBClassifier object; and 2) Encode your labels (y) as integers starting with 0, i.e. 0, 1, 2, ..., [num_class - 1].\n",
      "  warnings.warn(label_encoder_deprecation_msg, UserWarning)\n"
     ]
    },
    {
     "name": "stdout",
     "output_type": "stream",
     "text": [
      "[23:58:41] WARNING: ../src/learner.cc:1115: Starting in XGBoost 1.3.0, the default evaluation metric used with the objective 'multi:softprob' was changed from 'merror' to 'mlogloss'. Explicitly set eval_metric if you'd like to restore the old behavior.\n",
      "[CV] END colsample_bytree=1, learning_rate=0.1, max_depth=6, n_estimators=300, subsample=0.5; total time= 1.2min\n",
      "[23:58:46] WARNING: ../src/learner.cc:1115: Starting in XGBoost 1.3.0, the default evaluation metric used with the objective 'multi:softprob' was changed from 'merror' to 'mlogloss'. Explicitly set eval_metric if you'd like to restore the old behavior.\n"
     ]
    },
    {
     "name": "stderr",
     "output_type": "stream",
     "text": [
      "/Users/hakantekin/opt/anaconda3/lib/python3.9/site-packages/xgboost/sklearn.py:1224: UserWarning: The use of label encoder in XGBClassifier is deprecated and will be removed in a future release. To remove this warning, do the following: 1) Pass option use_label_encoder=False when constructing XGBClassifier object; and 2) Encode your labels (y) as integers starting with 0, i.e. 0, 1, 2, ..., [num_class - 1].\n",
      "  warnings.warn(label_encoder_deprecation_msg, UserWarning)\n"
     ]
    },
    {
     "name": "stdout",
     "output_type": "stream",
     "text": [
      "[CV] END colsample_bytree=1, learning_rate=0.1, max_depth=6, n_estimators=300, subsample=0.5; total time= 1.2min\n",
      "[23:58:52] WARNING: ../src/learner.cc:1115: Starting in XGBoost 1.3.0, the default evaluation metric used with the objective 'multi:softprob' was changed from 'merror' to 'mlogloss'. Explicitly set eval_metric if you'd like to restore the old behavior.\n"
     ]
    },
    {
     "name": "stderr",
     "output_type": "stream",
     "text": [
      "/Users/hakantekin/opt/anaconda3/lib/python3.9/site-packages/xgboost/sklearn.py:1224: UserWarning: The use of label encoder in XGBClassifier is deprecated and will be removed in a future release. To remove this warning, do the following: 1) Pass option use_label_encoder=False when constructing XGBClassifier object; and 2) Encode your labels (y) as integers starting with 0, i.e. 0, 1, 2, ..., [num_class - 1].\n",
      "  warnings.warn(label_encoder_deprecation_msg, UserWarning)\n"
     ]
    },
    {
     "name": "stdout",
     "output_type": "stream",
     "text": [
      "[CV] END colsample_bytree=1, learning_rate=0.3, max_depth=3, n_estimators=100, subsample=0.5; total time=  11.0s\n",
      "[23:58:57] WARNING: ../src/learner.cc:1115: Starting in XGBoost 1.3.0, the default evaluation metric used with the objective 'multi:softprob' was changed from 'merror' to 'mlogloss'. Explicitly set eval_metric if you'd like to restore the old behavior.\n"
     ]
    },
    {
     "name": "stderr",
     "output_type": "stream",
     "text": [
      "/Users/hakantekin/opt/anaconda3/lib/python3.9/site-packages/xgboost/sklearn.py:1224: UserWarning: The use of label encoder in XGBClassifier is deprecated and will be removed in a future release. To remove this warning, do the following: 1) Pass option use_label_encoder=False when constructing XGBClassifier object; and 2) Encode your labels (y) as integers starting with 0, i.e. 0, 1, 2, ..., [num_class - 1].\n",
      "  warnings.warn(label_encoder_deprecation_msg, UserWarning)\n"
     ]
    },
    {
     "name": "stdout",
     "output_type": "stream",
     "text": [
      "[CV] END colsample_bytree=1, learning_rate=0.1, max_depth=6, n_estimators=300, subsample=0.5; total time= 1.3min\n",
      "[23:59:01] WARNING: ../src/learner.cc:1115: Starting in XGBoost 1.3.0, the default evaluation metric used with the objective 'multi:softprob' was changed from 'merror' to 'mlogloss'. Explicitly set eval_metric if you'd like to restore the old behavior.\n"
     ]
    },
    {
     "name": "stderr",
     "output_type": "stream",
     "text": [
      "/Users/hakantekin/opt/anaconda3/lib/python3.9/site-packages/xgboost/sklearn.py:1224: UserWarning: The use of label encoder in XGBClassifier is deprecated and will be removed in a future release. To remove this warning, do the following: 1) Pass option use_label_encoder=False when constructing XGBClassifier object; and 2) Encode your labels (y) as integers starting with 0, i.e. 0, 1, 2, ..., [num_class - 1].\n",
      "  warnings.warn(label_encoder_deprecation_msg, UserWarning)\n"
     ]
    },
    {
     "name": "stdout",
     "output_type": "stream",
     "text": [
      "[CV] END colsample_bytree=1, learning_rate=0.3, max_depth=3, n_estimators=100, subsample=0.5; total time=  11.2s\n",
      "[23:59:03] WARNING: ../src/learner.cc:1115: Starting in XGBoost 1.3.0, the default evaluation metric used with the objective 'multi:softprob' was changed from 'merror' to 'mlogloss'. Explicitly set eval_metric if you'd like to restore the old behavior.\n"
     ]
    },
    {
     "name": "stderr",
     "output_type": "stream",
     "text": [
      "/Users/hakantekin/opt/anaconda3/lib/python3.9/site-packages/xgboost/sklearn.py:1224: UserWarning: The use of label encoder in XGBClassifier is deprecated and will be removed in a future release. To remove this warning, do the following: 1) Pass option use_label_encoder=False when constructing XGBClassifier object; and 2) Encode your labels (y) as integers starting with 0, i.e. 0, 1, 2, ..., [num_class - 1].\n",
      "  warnings.warn(label_encoder_deprecation_msg, UserWarning)\n"
     ]
    },
    {
     "name": "stdout",
     "output_type": "stream",
     "text": [
      "[CV] END colsample_bytree=1, learning_rate=0.3, max_depth=3, n_estimators=100, subsample=0.5; total time=  11.5s\n",
      "[23:59:09] WARNING: ../src/learner.cc:1115: Starting in XGBoost 1.3.0, the default evaluation metric used with the objective 'multi:softprob' was changed from 'merror' to 'mlogloss'. Explicitly set eval_metric if you'd like to restore the old behavior.\n"
     ]
    },
    {
     "name": "stderr",
     "output_type": "stream",
     "text": [
      "/Users/hakantekin/opt/anaconda3/lib/python3.9/site-packages/xgboost/sklearn.py:1224: UserWarning: The use of label encoder in XGBClassifier is deprecated and will be removed in a future release. To remove this warning, do the following: 1) Pass option use_label_encoder=False when constructing XGBClassifier object; and 2) Encode your labels (y) as integers starting with 0, i.e. 0, 1, 2, ..., [num_class - 1].\n",
      "  warnings.warn(label_encoder_deprecation_msg, UserWarning)\n"
     ]
    },
    {
     "name": "stdout",
     "output_type": "stream",
     "text": [
      "[CV] END colsample_bytree=1, learning_rate=0.1, max_depth=6, n_estimators=300, subsample=1; total time= 1.4min\n",
      "[23:59:12] WARNING: ../src/learner.cc:1115: Starting in XGBoost 1.3.0, the default evaluation metric used with the objective 'multi:softprob' was changed from 'merror' to 'mlogloss'. Explicitly set eval_metric if you'd like to restore the old behavior.\n"
     ]
    },
    {
     "name": "stderr",
     "output_type": "stream",
     "text": [
      "/Users/hakantekin/opt/anaconda3/lib/python3.9/site-packages/xgboost/sklearn.py:1224: UserWarning: The use of label encoder in XGBClassifier is deprecated and will be removed in a future release. To remove this warning, do the following: 1) Pass option use_label_encoder=False when constructing XGBClassifier object; and 2) Encode your labels (y) as integers starting with 0, i.e. 0, 1, 2, ..., [num_class - 1].\n",
      "  warnings.warn(label_encoder_deprecation_msg, UserWarning)\n"
     ]
    },
    {
     "name": "stdout",
     "output_type": "stream",
     "text": [
      "[CV] END colsample_bytree=1, learning_rate=0.3, max_depth=3, n_estimators=100, subsample=0.5; total time=  11.5s\n",
      "[23:59:13] WARNING: ../src/learner.cc:1115: Starting in XGBoost 1.3.0, the default evaluation metric used with the objective 'multi:softprob' was changed from 'merror' to 'mlogloss'. Explicitly set eval_metric if you'd like to restore the old behavior.\n"
     ]
    },
    {
     "name": "stderr",
     "output_type": "stream",
     "text": [
      "/Users/hakantekin/opt/anaconda3/lib/python3.9/site-packages/xgboost/sklearn.py:1224: UserWarning: The use of label encoder in XGBClassifier is deprecated and will be removed in a future release. To remove this warning, do the following: 1) Pass option use_label_encoder=False when constructing XGBClassifier object; and 2) Encode your labels (y) as integers starting with 0, i.e. 0, 1, 2, ..., [num_class - 1].\n",
      "  warnings.warn(label_encoder_deprecation_msg, UserWarning)\n"
     ]
    },
    {
     "name": "stdout",
     "output_type": "stream",
     "text": [
      "[CV] END colsample_bytree=1, learning_rate=0.1, max_depth=6, n_estimators=300, subsample=1; total time= 1.4min\n",
      "[23:59:14] WARNING: ../src/learner.cc:1115: Starting in XGBoost 1.3.0, the default evaluation metric used with the objective 'multi:softprob' was changed from 'merror' to 'mlogloss'. Explicitly set eval_metric if you'd like to restore the old behavior.\n"
     ]
    },
    {
     "name": "stderr",
     "output_type": "stream",
     "text": [
      "/Users/hakantekin/opt/anaconda3/lib/python3.9/site-packages/xgboost/sklearn.py:1224: UserWarning: The use of label encoder in XGBClassifier is deprecated and will be removed in a future release. To remove this warning, do the following: 1) Pass option use_label_encoder=False when constructing XGBClassifier object; and 2) Encode your labels (y) as integers starting with 0, i.e. 0, 1, 2, ..., [num_class - 1].\n",
      "  warnings.warn(label_encoder_deprecation_msg, UserWarning)\n"
     ]
    },
    {
     "name": "stdout",
     "output_type": "stream",
     "text": [
      "[CV] END colsample_bytree=1, learning_rate=0.3, max_depth=3, n_estimators=100, subsample=0.5; total time=  11.5s\n",
      "[23:59:14] WARNING: ../src/learner.cc:1115: Starting in XGBoost 1.3.0, the default evaluation metric used with the objective 'multi:softprob' was changed from 'merror' to 'mlogloss'. Explicitly set eval_metric if you'd like to restore the old behavior.\n"
     ]
    },
    {
     "name": "stderr",
     "output_type": "stream",
     "text": [
      "/Users/hakantekin/opt/anaconda3/lib/python3.9/site-packages/xgboost/sklearn.py:1224: UserWarning: The use of label encoder in XGBClassifier is deprecated and will be removed in a future release. To remove this warning, do the following: 1) Pass option use_label_encoder=False when constructing XGBClassifier object; and 2) Encode your labels (y) as integers starting with 0, i.e. 0, 1, 2, ..., [num_class - 1].\n",
      "  warnings.warn(label_encoder_deprecation_msg, UserWarning)\n"
     ]
    },
    {
     "name": "stdout",
     "output_type": "stream",
     "text": [
      "[CV] END colsample_bytree=1, learning_rate=0.1, max_depth=6, n_estimators=300, subsample=1; total time= 1.4min\n",
      "[23:59:16] WARNING: ../src/learner.cc:1115: Starting in XGBoost 1.3.0, the default evaluation metric used with the objective 'multi:softprob' was changed from 'merror' to 'mlogloss'. Explicitly set eval_metric if you'd like to restore the old behavior.\n"
     ]
    },
    {
     "name": "stderr",
     "output_type": "stream",
     "text": [
      "/Users/hakantekin/opt/anaconda3/lib/python3.9/site-packages/xgboost/sklearn.py:1224: UserWarning: The use of label encoder in XGBClassifier is deprecated and will be removed in a future release. To remove this warning, do the following: 1) Pass option use_label_encoder=False when constructing XGBClassifier object; and 2) Encode your labels (y) as integers starting with 0, i.e. 0, 1, 2, ..., [num_class - 1].\n",
      "  warnings.warn(label_encoder_deprecation_msg, UserWarning)\n"
     ]
    },
    {
     "name": "stdout",
     "output_type": "stream",
     "text": [
      "[CV] END colsample_bytree=1, learning_rate=0.3, max_depth=3, n_estimators=100, subsample=1; total time=  11.7s\n",
      "[23:59:21] WARNING: ../src/learner.cc:1115: Starting in XGBoost 1.3.0, the default evaluation metric used with the objective 'multi:softprob' was changed from 'merror' to 'mlogloss'. Explicitly set eval_metric if you'd like to restore the old behavior.\n"
     ]
    },
    {
     "name": "stderr",
     "output_type": "stream",
     "text": [
      "/Users/hakantekin/opt/anaconda3/lib/python3.9/site-packages/xgboost/sklearn.py:1224: UserWarning: The use of label encoder in XGBClassifier is deprecated and will be removed in a future release. To remove this warning, do the following: 1) Pass option use_label_encoder=False when constructing XGBClassifier object; and 2) Encode your labels (y) as integers starting with 0, i.e. 0, 1, 2, ..., [num_class - 1].\n",
      "  warnings.warn(label_encoder_deprecation_msg, UserWarning)\n"
     ]
    },
    {
     "name": "stdout",
     "output_type": "stream",
     "text": [
      "[CV] END colsample_bytree=1, learning_rate=0.3, max_depth=3, n_estimators=100, subsample=1; total time=  11.8s\n",
      "[23:59:24] WARNING: ../src/learner.cc:1115: Starting in XGBoost 1.3.0, the default evaluation metric used with the objective 'multi:softprob' was changed from 'merror' to 'mlogloss'. Explicitly set eval_metric if you'd like to restore the old behavior.\n"
     ]
    },
    {
     "name": "stderr",
     "output_type": "stream",
     "text": [
      "/Users/hakantekin/opt/anaconda3/lib/python3.9/site-packages/xgboost/sklearn.py:1224: UserWarning: The use of label encoder in XGBClassifier is deprecated and will be removed in a future release. To remove this warning, do the following: 1) Pass option use_label_encoder=False when constructing XGBClassifier object; and 2) Encode your labels (y) as integers starting with 0, i.e. 0, 1, 2, ..., [num_class - 1].\n",
      "  warnings.warn(label_encoder_deprecation_msg, UserWarning)\n"
     ]
    },
    {
     "name": "stdout",
     "output_type": "stream",
     "text": [
      "[CV] END colsample_bytree=1, learning_rate=0.3, max_depth=3, n_estimators=100, subsample=1; total time=  11.8s\n",
      "[23:59:25] WARNING: ../src/learner.cc:1115: Starting in XGBoost 1.3.0, the default evaluation metric used with the objective 'multi:softprob' was changed from 'merror' to 'mlogloss'. Explicitly set eval_metric if you'd like to restore the old behavior.\n"
     ]
    },
    {
     "name": "stderr",
     "output_type": "stream",
     "text": [
      "/Users/hakantekin/opt/anaconda3/lib/python3.9/site-packages/xgboost/sklearn.py:1224: UserWarning: The use of label encoder in XGBClassifier is deprecated and will be removed in a future release. To remove this warning, do the following: 1) Pass option use_label_encoder=False when constructing XGBClassifier object; and 2) Encode your labels (y) as integers starting with 0, i.e. 0, 1, 2, ..., [num_class - 1].\n",
      "  warnings.warn(label_encoder_deprecation_msg, UserWarning)\n"
     ]
    },
    {
     "name": "stdout",
     "output_type": "stream",
     "text": [
      "[CV] END colsample_bytree=1, learning_rate=0.3, max_depth=3, n_estimators=100, subsample=1; total time=  11.9s\n",
      "[23:59:25] WARNING: ../src/learner.cc:1115: Starting in XGBoost 1.3.0, the default evaluation metric used with the objective 'multi:softprob' was changed from 'merror' to 'mlogloss'. Explicitly set eval_metric if you'd like to restore the old behavior.\n"
     ]
    },
    {
     "name": "stderr",
     "output_type": "stream",
     "text": [
      "/Users/hakantekin/opt/anaconda3/lib/python3.9/site-packages/xgboost/sklearn.py:1224: UserWarning: The use of label encoder in XGBClassifier is deprecated and will be removed in a future release. To remove this warning, do the following: 1) Pass option use_label_encoder=False when constructing XGBClassifier object; and 2) Encode your labels (y) as integers starting with 0, i.e. 0, 1, 2, ..., [num_class - 1].\n",
      "  warnings.warn(label_encoder_deprecation_msg, UserWarning)\n"
     ]
    },
    {
     "name": "stdout",
     "output_type": "stream",
     "text": [
      "[CV] END colsample_bytree=1, learning_rate=0.3, max_depth=3, n_estimators=100, subsample=1; total time=  11.8s\n",
      "[23:59:26] WARNING: ../src/learner.cc:1115: Starting in XGBoost 1.3.0, the default evaluation metric used with the objective 'multi:softprob' was changed from 'merror' to 'mlogloss'. Explicitly set eval_metric if you'd like to restore the old behavior.\n"
     ]
    },
    {
     "name": "stderr",
     "output_type": "stream",
     "text": [
      "/Users/hakantekin/opt/anaconda3/lib/python3.9/site-packages/xgboost/sklearn.py:1224: UserWarning: The use of label encoder in XGBClassifier is deprecated and will be removed in a future release. To remove this warning, do the following: 1) Pass option use_label_encoder=False when constructing XGBClassifier object; and 2) Encode your labels (y) as integers starting with 0, i.e. 0, 1, 2, ..., [num_class - 1].\n",
      "  warnings.warn(label_encoder_deprecation_msg, UserWarning)\n"
     ]
    },
    {
     "name": "stdout",
     "output_type": "stream",
     "text": [
      "[CV] END colsample_bytree=1, learning_rate=0.3, max_depth=3, n_estimators=300, subsample=0.5; total time=  35.2s\n",
      "[23:59:51] WARNING: ../src/learner.cc:1115: Starting in XGBoost 1.3.0, the default evaluation metric used with the objective 'multi:softprob' was changed from 'merror' to 'mlogloss'. Explicitly set eval_metric if you'd like to restore the old behavior.\n"
     ]
    },
    {
     "name": "stderr",
     "output_type": "stream",
     "text": [
      "/Users/hakantekin/opt/anaconda3/lib/python3.9/site-packages/xgboost/sklearn.py:1224: UserWarning: The use of label encoder in XGBClassifier is deprecated and will be removed in a future release. To remove this warning, do the following: 1) Pass option use_label_encoder=False when constructing XGBClassifier object; and 2) Encode your labels (y) as integers starting with 0, i.e. 0, 1, 2, ..., [num_class - 1].\n",
      "  warnings.warn(label_encoder_deprecation_msg, UserWarning)\n"
     ]
    },
    {
     "name": "stdout",
     "output_type": "stream",
     "text": [
      "[CV] END colsample_bytree=1, learning_rate=0.3, max_depth=3, n_estimators=300, subsample=0.5; total time=  35.1s\n",
      "[23:59:56] WARNING: ../src/learner.cc:1115: Starting in XGBoost 1.3.0, the default evaluation metric used with the objective 'multi:softprob' was changed from 'merror' to 'mlogloss'. Explicitly set eval_metric if you'd like to restore the old behavior.\n"
     ]
    },
    {
     "name": "stderr",
     "output_type": "stream",
     "text": [
      "/Users/hakantekin/opt/anaconda3/lib/python3.9/site-packages/xgboost/sklearn.py:1224: UserWarning: The use of label encoder in XGBClassifier is deprecated and will be removed in a future release. To remove this warning, do the following: 1) Pass option use_label_encoder=False when constructing XGBClassifier object; and 2) Encode your labels (y) as integers starting with 0, i.e. 0, 1, 2, ..., [num_class - 1].\n",
      "  warnings.warn(label_encoder_deprecation_msg, UserWarning)\n"
     ]
    },
    {
     "name": "stdout",
     "output_type": "stream",
     "text": [
      "[CV] END colsample_bytree=1, learning_rate=0.3, max_depth=3, n_estimators=300, subsample=0.5; total time=  35.2s\n",
      "[23:59:59] WARNING: ../src/learner.cc:1115: Starting in XGBoost 1.3.0, the default evaluation metric used with the objective 'multi:softprob' was changed from 'merror' to 'mlogloss'. Explicitly set eval_metric if you'd like to restore the old behavior.\n"
     ]
    },
    {
     "name": "stderr",
     "output_type": "stream",
     "text": [
      "/Users/hakantekin/opt/anaconda3/lib/python3.9/site-packages/xgboost/sklearn.py:1224: UserWarning: The use of label encoder in XGBClassifier is deprecated and will be removed in a future release. To remove this warning, do the following: 1) Pass option use_label_encoder=False when constructing XGBClassifier object; and 2) Encode your labels (y) as integers starting with 0, i.e. 0, 1, 2, ..., [num_class - 1].\n",
      "  warnings.warn(label_encoder_deprecation_msg, UserWarning)\n"
     ]
    },
    {
     "name": "stdout",
     "output_type": "stream",
     "text": [
      "[CV] END colsample_bytree=1, learning_rate=0.3, max_depth=3, n_estimators=300, subsample=0.5; total time=  35.4s\n"
     ]
    },
    {
     "name": "stderr",
     "output_type": "stream",
     "text": [
      "/Users/hakantekin/opt/anaconda3/lib/python3.9/site-packages/xgboost/sklearn.py:1224: UserWarning: The use of label encoder in XGBClassifier is deprecated and will be removed in a future release. To remove this warning, do the following: 1) Pass option use_label_encoder=False when constructing XGBClassifier object; and 2) Encode your labels (y) as integers starting with 0, i.e. 0, 1, 2, ..., [num_class - 1].\n",
      "  warnings.warn(label_encoder_deprecation_msg, UserWarning)\n"
     ]
    },
    {
     "name": "stdout",
     "output_type": "stream",
     "text": [
      "[00:00:00] WARNING: ../src/learner.cc:1115: Starting in XGBoost 1.3.0, the default evaluation metric used with the objective 'multi:softprob' was changed from 'merror' to 'mlogloss'. Explicitly set eval_metric if you'd like to restore the old behavior.\n",
      "[CV] END colsample_bytree=1, learning_rate=0.3, max_depth=3, n_estimators=300, subsample=0.5; total time=  35.8s\n"
     ]
    },
    {
     "name": "stderr",
     "output_type": "stream",
     "text": [
      "/Users/hakantekin/opt/anaconda3/lib/python3.9/site-packages/xgboost/sklearn.py:1224: UserWarning: The use of label encoder in XGBClassifier is deprecated and will be removed in a future release. To remove this warning, do the following: 1) Pass option use_label_encoder=False when constructing XGBClassifier object; and 2) Encode your labels (y) as integers starting with 0, i.e. 0, 1, 2, ..., [num_class - 1].\n",
      "  warnings.warn(label_encoder_deprecation_msg, UserWarning)\n"
     ]
    },
    {
     "name": "stdout",
     "output_type": "stream",
     "text": [
      "[00:00:02] WARNING: ../src/learner.cc:1115: Starting in XGBoost 1.3.0, the default evaluation metric used with the objective 'multi:softprob' was changed from 'merror' to 'mlogloss'. Explicitly set eval_metric if you'd like to restore the old behavior.\n",
      "[CV] END colsample_bytree=1, learning_rate=0.3, max_depth=3, n_estimators=300, subsample=1; total time=  36.4s\n"
     ]
    },
    {
     "name": "stderr",
     "output_type": "stream",
     "text": [
      "/Users/hakantekin/opt/anaconda3/lib/python3.9/site-packages/xgboost/sklearn.py:1224: UserWarning: The use of label encoder in XGBClassifier is deprecated and will be removed in a future release. To remove this warning, do the following: 1) Pass option use_label_encoder=False when constructing XGBClassifier object; and 2) Encode your labels (y) as integers starting with 0, i.e. 0, 1, 2, ..., [num_class - 1].\n",
      "  warnings.warn(label_encoder_deprecation_msg, UserWarning)\n"
     ]
    },
    {
     "name": "stdout",
     "output_type": "stream",
     "text": [
      "[00:00:03] WARNING: ../src/learner.cc:1115: Starting in XGBoost 1.3.0, the default evaluation metric used with the objective 'multi:softprob' was changed from 'merror' to 'mlogloss'. Explicitly set eval_metric if you'd like to restore the old behavior.\n",
      "[CV] END colsample_bytree=1, learning_rate=0.1, max_depth=6, n_estimators=300, subsample=1; total time= 1.5min\n"
     ]
    },
    {
     "name": "stderr",
     "output_type": "stream",
     "text": [
      "/Users/hakantekin/opt/anaconda3/lib/python3.9/site-packages/xgboost/sklearn.py:1224: UserWarning: The use of label encoder in XGBClassifier is deprecated and will be removed in a future release. To remove this warning, do the following: 1) Pass option use_label_encoder=False when constructing XGBClassifier object; and 2) Encode your labels (y) as integers starting with 0, i.e. 0, 1, 2, ..., [num_class - 1].\n",
      "  warnings.warn(label_encoder_deprecation_msg, UserWarning)\n"
     ]
    },
    {
     "name": "stdout",
     "output_type": "stream",
     "text": [
      "[00:00:08] WARNING: ../src/learner.cc:1115: Starting in XGBoost 1.3.0, the default evaluation metric used with the objective 'multi:softprob' was changed from 'merror' to 'mlogloss'. Explicitly set eval_metric if you'd like to restore the old behavior.\n",
      "[CV] END colsample_bytree=1, learning_rate=0.1, max_depth=6, n_estimators=300, subsample=1; total time= 1.5min\n"
     ]
    },
    {
     "name": "stderr",
     "output_type": "stream",
     "text": [
      "/Users/hakantekin/opt/anaconda3/lib/python3.9/site-packages/xgboost/sklearn.py:1224: UserWarning: The use of label encoder in XGBClassifier is deprecated and will be removed in a future release. To remove this warning, do the following: 1) Pass option use_label_encoder=False when constructing XGBClassifier object; and 2) Encode your labels (y) as integers starting with 0, i.e. 0, 1, 2, ..., [num_class - 1].\n",
      "  warnings.warn(label_encoder_deprecation_msg, UserWarning)\n"
     ]
    },
    {
     "name": "stdout",
     "output_type": "stream",
     "text": [
      "[00:00:12] WARNING: ../src/learner.cc:1115: Starting in XGBoost 1.3.0, the default evaluation metric used with the objective 'multi:softprob' was changed from 'merror' to 'mlogloss'. Explicitly set eval_metric if you'd like to restore the old behavior.\n",
      "[CV] END colsample_bytree=1, learning_rate=0.3, max_depth=5, n_estimators=100, subsample=0.5; total time=  24.3s\n"
     ]
    },
    {
     "name": "stderr",
     "output_type": "stream",
     "text": [
      "/Users/hakantekin/opt/anaconda3/lib/python3.9/site-packages/xgboost/sklearn.py:1224: UserWarning: The use of label encoder in XGBClassifier is deprecated and will be removed in a future release. To remove this warning, do the following: 1) Pass option use_label_encoder=False when constructing XGBClassifier object; and 2) Encode your labels (y) as integers starting with 0, i.e. 0, 1, 2, ..., [num_class - 1].\n",
      "  warnings.warn(label_encoder_deprecation_msg, UserWarning)\n"
     ]
    },
    {
     "name": "stdout",
     "output_type": "stream",
     "text": [
      "[00:00:26] WARNING: ../src/learner.cc:1115: Starting in XGBoost 1.3.0, the default evaluation metric used with the objective 'multi:softprob' was changed from 'merror' to 'mlogloss'. Explicitly set eval_metric if you'd like to restore the old behavior.\n",
      "[CV] END colsample_bytree=1, learning_rate=0.3, max_depth=5, n_estimators=100, subsample=0.5; total time=  23.9s\n"
     ]
    },
    {
     "name": "stderr",
     "output_type": "stream",
     "text": [
      "/Users/hakantekin/opt/anaconda3/lib/python3.9/site-packages/xgboost/sklearn.py:1224: UserWarning: The use of label encoder in XGBClassifier is deprecated and will be removed in a future release. To remove this warning, do the following: 1) Pass option use_label_encoder=False when constructing XGBClassifier object; and 2) Encode your labels (y) as integers starting with 0, i.e. 0, 1, 2, ..., [num_class - 1].\n",
      "  warnings.warn(label_encoder_deprecation_msg, UserWarning)\n"
     ]
    },
    {
     "name": "stdout",
     "output_type": "stream",
     "text": [
      "[00:00:27] WARNING: ../src/learner.cc:1115: Starting in XGBoost 1.3.0, the default evaluation metric used with the objective 'multi:softprob' was changed from 'merror' to 'mlogloss'. Explicitly set eval_metric if you'd like to restore the old behavior.\n",
      "[CV] END colsample_bytree=1, learning_rate=0.3, max_depth=3, n_estimators=300, subsample=1; total time=  36.5s\n"
     ]
    },
    {
     "name": "stderr",
     "output_type": "stream",
     "text": [
      "/Users/hakantekin/opt/anaconda3/lib/python3.9/site-packages/xgboost/sklearn.py:1224: UserWarning: The use of label encoder in XGBClassifier is deprecated and will be removed in a future release. To remove this warning, do the following: 1) Pass option use_label_encoder=False when constructing XGBClassifier object; and 2) Encode your labels (y) as integers starting with 0, i.e. 0, 1, 2, ..., [num_class - 1].\n",
      "  warnings.warn(label_encoder_deprecation_msg, UserWarning)\n"
     ]
    },
    {
     "name": "stdout",
     "output_type": "stream",
     "text": [
      "[00:00:28] WARNING: ../src/learner.cc:1115: Starting in XGBoost 1.3.0, the default evaluation metric used with the objective 'multi:softprob' was changed from 'merror' to 'mlogloss'. Explicitly set eval_metric if you'd like to restore the old behavior.\n",
      "[CV] END colsample_bytree=1, learning_rate=0.3, max_depth=5, n_estimators=100, subsample=0.5; total time=  23.8s\n"
     ]
    },
    {
     "name": "stderr",
     "output_type": "stream",
     "text": [
      "/Users/hakantekin/opt/anaconda3/lib/python3.9/site-packages/xgboost/sklearn.py:1224: UserWarning: The use of label encoder in XGBClassifier is deprecated and will be removed in a future release. To remove this warning, do the following: 1) Pass option use_label_encoder=False when constructing XGBClassifier object; and 2) Encode your labels (y) as integers starting with 0, i.e. 0, 1, 2, ..., [num_class - 1].\n",
      "  warnings.warn(label_encoder_deprecation_msg, UserWarning)\n"
     ]
    },
    {
     "name": "stdout",
     "output_type": "stream",
     "text": [
      "[00:00:32] WARNING: ../src/learner.cc:1115: Starting in XGBoost 1.3.0, the default evaluation metric used with the objective 'multi:softprob' was changed from 'merror' to 'mlogloss'. Explicitly set eval_metric if you'd like to restore the old behavior.\n",
      "[CV] END colsample_bytree=1, learning_rate=0.3, max_depth=3, n_estimators=300, subsample=1; total time=  36.4s\n"
     ]
    },
    {
     "name": "stderr",
     "output_type": "stream",
     "text": [
      "/Users/hakantekin/opt/anaconda3/lib/python3.9/site-packages/xgboost/sklearn.py:1224: UserWarning: The use of label encoder in XGBClassifier is deprecated and will be removed in a future release. To remove this warning, do the following: 1) Pass option use_label_encoder=False when constructing XGBClassifier object; and 2) Encode your labels (y) as integers starting with 0, i.e. 0, 1, 2, ..., [num_class - 1].\n",
      "  warnings.warn(label_encoder_deprecation_msg, UserWarning)\n"
     ]
    },
    {
     "name": "stdout",
     "output_type": "stream",
     "text": [
      "[00:00:33] WARNING: ../src/learner.cc:1115: Starting in XGBoost 1.3.0, the default evaluation metric used with the objective 'multi:softprob' was changed from 'merror' to 'mlogloss'. Explicitly set eval_metric if you'd like to restore the old behavior.\n",
      "[CV] END colsample_bytree=1, learning_rate=0.3, max_depth=5, n_estimators=100, subsample=0.5; total time=  23.5s\n"
     ]
    },
    {
     "name": "stderr",
     "output_type": "stream",
     "text": [
      "/Users/hakantekin/opt/anaconda3/lib/python3.9/site-packages/xgboost/sklearn.py:1224: UserWarning: The use of label encoder in XGBClassifier is deprecated and will be removed in a future release. To remove this warning, do the following: 1) Pass option use_label_encoder=False when constructing XGBClassifier object; and 2) Encode your labels (y) as integers starting with 0, i.e. 0, 1, 2, ..., [num_class - 1].\n",
      "  warnings.warn(label_encoder_deprecation_msg, UserWarning)\n"
     ]
    },
    {
     "name": "stdout",
     "output_type": "stream",
     "text": [
      "[00:00:35] WARNING: ../src/learner.cc:1115: Starting in XGBoost 1.3.0, the default evaluation metric used with the objective 'multi:softprob' was changed from 'merror' to 'mlogloss'. Explicitly set eval_metric if you'd like to restore the old behavior.\n",
      "[CV] END colsample_bytree=1, learning_rate=0.3, max_depth=3, n_estimators=300, subsample=1; total time=  36.3s\n"
     ]
    },
    {
     "name": "stderr",
     "output_type": "stream",
     "text": [
      "/Users/hakantekin/opt/anaconda3/lib/python3.9/site-packages/xgboost/sklearn.py:1224: UserWarning: The use of label encoder in XGBClassifier is deprecated and will be removed in a future release. To remove this warning, do the following: 1) Pass option use_label_encoder=False when constructing XGBClassifier object; and 2) Encode your labels (y) as integers starting with 0, i.e. 0, 1, 2, ..., [num_class - 1].\n",
      "  warnings.warn(label_encoder_deprecation_msg, UserWarning)\n"
     ]
    },
    {
     "name": "stdout",
     "output_type": "stream",
     "text": [
      "[00:00:35] WARNING: ../src/learner.cc:1115: Starting in XGBoost 1.3.0, the default evaluation metric used with the objective 'multi:softprob' was changed from 'merror' to 'mlogloss'. Explicitly set eval_metric if you'd like to restore the old behavior.\n",
      "[CV] END colsample_bytree=1, learning_rate=0.3, max_depth=3, n_estimators=300, subsample=1; total time=  35.7s\n"
     ]
    },
    {
     "name": "stderr",
     "output_type": "stream",
     "text": [
      "/Users/hakantekin/opt/anaconda3/lib/python3.9/site-packages/xgboost/sklearn.py:1224: UserWarning: The use of label encoder in XGBClassifier is deprecated and will be removed in a future release. To remove this warning, do the following: 1) Pass option use_label_encoder=False when constructing XGBClassifier object; and 2) Encode your labels (y) as integers starting with 0, i.e. 0, 1, 2, ..., [num_class - 1].\n",
      "  warnings.warn(label_encoder_deprecation_msg, UserWarning)\n"
     ]
    },
    {
     "name": "stdout",
     "output_type": "stream",
     "text": [
      "[00:00:36] WARNING: ../src/learner.cc:1115: Starting in XGBoost 1.3.0, the default evaluation metric used with the objective 'multi:softprob' was changed from 'merror' to 'mlogloss'. Explicitly set eval_metric if you'd like to restore the old behavior.\n",
      "[CV] END colsample_bytree=1, learning_rate=0.3, max_depth=5, n_estimators=100, subsample=0.5; total time=  22.1s\n"
     ]
    },
    {
     "name": "stderr",
     "output_type": "stream",
     "text": [
      "/Users/hakantekin/opt/anaconda3/lib/python3.9/site-packages/xgboost/sklearn.py:1224: UserWarning: The use of label encoder in XGBClassifier is deprecated and will be removed in a future release. To remove this warning, do the following: 1) Pass option use_label_encoder=False when constructing XGBClassifier object; and 2) Encode your labels (y) as integers starting with 0, i.e. 0, 1, 2, ..., [num_class - 1].\n",
      "  warnings.warn(label_encoder_deprecation_msg, UserWarning)\n"
     ]
    },
    {
     "name": "stdout",
     "output_type": "stream",
     "text": [
      "[00:00:48] WARNING: ../src/learner.cc:1115: Starting in XGBoost 1.3.0, the default evaluation metric used with the objective 'multi:softprob' was changed from 'merror' to 'mlogloss'. Explicitly set eval_metric if you'd like to restore the old behavior.\n",
      "[CV] END colsample_bytree=1, learning_rate=0.3, max_depth=5, n_estimators=100, subsample=1; total time=  23.1s\n"
     ]
    },
    {
     "name": "stderr",
     "output_type": "stream",
     "text": [
      "/Users/hakantekin/opt/anaconda3/lib/python3.9/site-packages/xgboost/sklearn.py:1224: UserWarning: The use of label encoder in XGBClassifier is deprecated and will be removed in a future release. To remove this warning, do the following: 1) Pass option use_label_encoder=False when constructing XGBClassifier object; and 2) Encode your labels (y) as integers starting with 0, i.e. 0, 1, 2, ..., [num_class - 1].\n",
      "  warnings.warn(label_encoder_deprecation_msg, UserWarning)\n"
     ]
    },
    {
     "name": "stdout",
     "output_type": "stream",
     "text": [
      "[00:00:50] WARNING: ../src/learner.cc:1115: Starting in XGBoost 1.3.0, the default evaluation metric used with the objective 'multi:softprob' was changed from 'merror' to 'mlogloss'. Explicitly set eval_metric if you'd like to restore the old behavior.\n",
      "[CV] END colsample_bytree=1, learning_rate=0.3, max_depth=5, n_estimators=100, subsample=1; total time=  23.1s\n"
     ]
    },
    {
     "name": "stderr",
     "output_type": "stream",
     "text": [
      "/Users/hakantekin/opt/anaconda3/lib/python3.9/site-packages/xgboost/sklearn.py:1224: UserWarning: The use of label encoder in XGBClassifier is deprecated and will be removed in a future release. To remove this warning, do the following: 1) Pass option use_label_encoder=False when constructing XGBClassifier object; and 2) Encode your labels (y) as integers starting with 0, i.e. 0, 1, 2, ..., [num_class - 1].\n",
      "  warnings.warn(label_encoder_deprecation_msg, UserWarning)\n"
     ]
    },
    {
     "name": "stdout",
     "output_type": "stream",
     "text": [
      "[00:00:51] WARNING: ../src/learner.cc:1115: Starting in XGBoost 1.3.0, the default evaluation metric used with the objective 'multi:softprob' was changed from 'merror' to 'mlogloss'. Explicitly set eval_metric if you'd like to restore the old behavior.\n",
      "[CV] END colsample_bytree=1, learning_rate=0.3, max_depth=5, n_estimators=100, subsample=1; total time=  22.9s\n"
     ]
    },
    {
     "name": "stderr",
     "output_type": "stream",
     "text": [
      "/Users/hakantekin/opt/anaconda3/lib/python3.9/site-packages/xgboost/sklearn.py:1224: UserWarning: The use of label encoder in XGBClassifier is deprecated and will be removed in a future release. To remove this warning, do the following: 1) Pass option use_label_encoder=False when constructing XGBClassifier object; and 2) Encode your labels (y) as integers starting with 0, i.e. 0, 1, 2, ..., [num_class - 1].\n",
      "  warnings.warn(label_encoder_deprecation_msg, UserWarning)\n"
     ]
    },
    {
     "name": "stdout",
     "output_type": "stream",
     "text": [
      "[00:00:55] WARNING: ../src/learner.cc:1115: Starting in XGBoost 1.3.0, the default evaluation metric used with the objective 'multi:softprob' was changed from 'merror' to 'mlogloss'. Explicitly set eval_metric if you'd like to restore the old behavior.\n",
      "[CV] END colsample_bytree=1, learning_rate=0.3, max_depth=5, n_estimators=100, subsample=1; total time=  22.7s\n"
     ]
    },
    {
     "name": "stderr",
     "output_type": "stream",
     "text": [
      "/Users/hakantekin/opt/anaconda3/lib/python3.9/site-packages/xgboost/sklearn.py:1224: UserWarning: The use of label encoder in XGBClassifier is deprecated and will be removed in a future release. To remove this warning, do the following: 1) Pass option use_label_encoder=False when constructing XGBClassifier object; and 2) Encode your labels (y) as integers starting with 0, i.e. 0, 1, 2, ..., [num_class - 1].\n",
      "  warnings.warn(label_encoder_deprecation_msg, UserWarning)\n"
     ]
    },
    {
     "name": "stdout",
     "output_type": "stream",
     "text": [
      "[00:00:55] WARNING: ../src/learner.cc:1115: Starting in XGBoost 1.3.0, the default evaluation metric used with the objective 'multi:softprob' was changed from 'merror' to 'mlogloss'. Explicitly set eval_metric if you'd like to restore the old behavior.\n",
      "[CV] END colsample_bytree=1, learning_rate=0.3, max_depth=5, n_estimators=100, subsample=1; total time=  22.3s\n"
     ]
    },
    {
     "name": "stderr",
     "output_type": "stream",
     "text": [
      "/Users/hakantekin/opt/anaconda3/lib/python3.9/site-packages/xgboost/sklearn.py:1224: UserWarning: The use of label encoder in XGBClassifier is deprecated and will be removed in a future release. To remove this warning, do the following: 1) Pass option use_label_encoder=False when constructing XGBClassifier object; and 2) Encode your labels (y) as integers starting with 0, i.e. 0, 1, 2, ..., [num_class - 1].\n",
      "  warnings.warn(label_encoder_deprecation_msg, UserWarning)\n"
     ]
    },
    {
     "name": "stdout",
     "output_type": "stream",
     "text": [
      "[00:00:57] WARNING: ../src/learner.cc:1115: Starting in XGBoost 1.3.0, the default evaluation metric used with the objective 'multi:softprob' was changed from 'merror' to 'mlogloss'. Explicitly set eval_metric if you'd like to restore the old behavior.\n",
      "[CV] END colsample_bytree=1, learning_rate=0.3, max_depth=5, n_estimators=300, subsample=0.5; total time=  52.7s\n"
     ]
    },
    {
     "name": "stderr",
     "output_type": "stream",
     "text": [
      "/Users/hakantekin/opt/anaconda3/lib/python3.9/site-packages/xgboost/sklearn.py:1224: UserWarning: The use of label encoder in XGBClassifier is deprecated and will be removed in a future release. To remove this warning, do the following: 1) Pass option use_label_encoder=False when constructing XGBClassifier object; and 2) Encode your labels (y) as integers starting with 0, i.e. 0, 1, 2, ..., [num_class - 1].\n",
      "  warnings.warn(label_encoder_deprecation_msg, UserWarning)\n"
     ]
    },
    {
     "name": "stdout",
     "output_type": "stream",
     "text": [
      "[00:01:28] WARNING: ../src/learner.cc:1115: Starting in XGBoost 1.3.0, the default evaluation metric used with the objective 'multi:softprob' was changed from 'merror' to 'mlogloss'. Explicitly set eval_metric if you'd like to restore the old behavior.\n",
      "[CV] END colsample_bytree=1, learning_rate=0.3, max_depth=5, n_estimators=300, subsample=0.5; total time=  52.9s\n"
     ]
    },
    {
     "name": "stderr",
     "output_type": "stream",
     "text": [
      "/Users/hakantekin/opt/anaconda3/lib/python3.9/site-packages/xgboost/sklearn.py:1224: UserWarning: The use of label encoder in XGBClassifier is deprecated and will be removed in a future release. To remove this warning, do the following: 1) Pass option use_label_encoder=False when constructing XGBClassifier object; and 2) Encode your labels (y) as integers starting with 0, i.e. 0, 1, 2, ..., [num_class - 1].\n",
      "  warnings.warn(label_encoder_deprecation_msg, UserWarning)\n"
     ]
    },
    {
     "name": "stdout",
     "output_type": "stream",
     "text": [
      "[00:01:29] WARNING: ../src/learner.cc:1115: Starting in XGBoost 1.3.0, the default evaluation metric used with the objective 'multi:softprob' was changed from 'merror' to 'mlogloss'. Explicitly set eval_metric if you'd like to restore the old behavior.\n",
      "[CV] END colsample_bytree=1, learning_rate=0.3, max_depth=5, n_estimators=300, subsample=0.5; total time=  54.9s\n"
     ]
    },
    {
     "name": "stderr",
     "output_type": "stream",
     "text": [
      "/Users/hakantekin/opt/anaconda3/lib/python3.9/site-packages/xgboost/sklearn.py:1224: UserWarning: The use of label encoder in XGBClassifier is deprecated and will be removed in a future release. To remove this warning, do the following: 1) Pass option use_label_encoder=False when constructing XGBClassifier object; and 2) Encode your labels (y) as integers starting with 0, i.e. 0, 1, 2, ..., [num_class - 1].\n",
      "  warnings.warn(label_encoder_deprecation_msg, UserWarning)\n"
     ]
    },
    {
     "name": "stdout",
     "output_type": "stream",
     "text": [
      "[00:01:43] WARNING: ../src/learner.cc:1115: Starting in XGBoost 1.3.0, the default evaluation metric used with the objective 'multi:softprob' was changed from 'merror' to 'mlogloss'. Explicitly set eval_metric if you'd like to restore the old behavior.\n",
      "[CV] END colsample_bytree=1, learning_rate=0.3, max_depth=5, n_estimators=300, subsample=0.5; total time=  54.9s\n"
     ]
    },
    {
     "name": "stderr",
     "output_type": "stream",
     "text": [
      "/Users/hakantekin/opt/anaconda3/lib/python3.9/site-packages/xgboost/sklearn.py:1224: UserWarning: The use of label encoder in XGBClassifier is deprecated and will be removed in a future release. To remove this warning, do the following: 1) Pass option use_label_encoder=False when constructing XGBClassifier object; and 2) Encode your labels (y) as integers starting with 0, i.e. 0, 1, 2, ..., [num_class - 1].\n",
      "  warnings.warn(label_encoder_deprecation_msg, UserWarning)\n"
     ]
    },
    {
     "name": "stdout",
     "output_type": "stream",
     "text": [
      "[00:01:45] WARNING: ../src/learner.cc:1115: Starting in XGBoost 1.3.0, the default evaluation metric used with the objective 'multi:softprob' was changed from 'merror' to 'mlogloss'. Explicitly set eval_metric if you'd like to restore the old behavior.\n",
      "[CV] END colsample_bytree=1, learning_rate=0.3, max_depth=5, n_estimators=300, subsample=0.5; total time=  55.0s\n"
     ]
    },
    {
     "name": "stderr",
     "output_type": "stream",
     "text": [
      "/Users/hakantekin/opt/anaconda3/lib/python3.9/site-packages/xgboost/sklearn.py:1224: UserWarning: The use of label encoder in XGBClassifier is deprecated and will be removed in a future release. To remove this warning, do the following: 1) Pass option use_label_encoder=False when constructing XGBClassifier object; and 2) Encode your labels (y) as integers starting with 0, i.e. 0, 1, 2, ..., [num_class - 1].\n",
      "  warnings.warn(label_encoder_deprecation_msg, UserWarning)\n"
     ]
    },
    {
     "name": "stdout",
     "output_type": "stream",
     "text": [
      "[00:01:46] WARNING: ../src/learner.cc:1115: Starting in XGBoost 1.3.0, the default evaluation metric used with the objective 'multi:softprob' was changed from 'merror' to 'mlogloss'. Explicitly set eval_metric if you'd like to restore the old behavior.\n",
      "[CV] END colsample_bytree=1, learning_rate=0.3, max_depth=5, n_estimators=300, subsample=1; total time=  57.0s\n"
     ]
    },
    {
     "name": "stderr",
     "output_type": "stream",
     "text": [
      "/Users/hakantekin/opt/anaconda3/lib/python3.9/site-packages/xgboost/sklearn.py:1224: UserWarning: The use of label encoder in XGBClassifier is deprecated and will be removed in a future release. To remove this warning, do the following: 1) Pass option use_label_encoder=False when constructing XGBClassifier object; and 2) Encode your labels (y) as integers starting with 0, i.e. 0, 1, 2, ..., [num_class - 1].\n",
      "  warnings.warn(label_encoder_deprecation_msg, UserWarning)\n"
     ]
    },
    {
     "name": "stdout",
     "output_type": "stream",
     "text": [
      "[00:01:52] WARNING: ../src/learner.cc:1115: Starting in XGBoost 1.3.0, the default evaluation metric used with the objective 'multi:softprob' was changed from 'merror' to 'mlogloss'. Explicitly set eval_metric if you'd like to restore the old behavior.\n",
      "[CV] END colsample_bytree=1, learning_rate=0.3, max_depth=5, n_estimators=300, subsample=1; total time=  57.1s\n"
     ]
    },
    {
     "name": "stderr",
     "output_type": "stream",
     "text": [
      "/Users/hakantekin/opt/anaconda3/lib/python3.9/site-packages/xgboost/sklearn.py:1224: UserWarning: The use of label encoder in XGBClassifier is deprecated and will be removed in a future release. To remove this warning, do the following: 1) Pass option use_label_encoder=False when constructing XGBClassifier object; and 2) Encode your labels (y) as integers starting with 0, i.e. 0, 1, 2, ..., [num_class - 1].\n",
      "  warnings.warn(label_encoder_deprecation_msg, UserWarning)\n"
     ]
    },
    {
     "name": "stdout",
     "output_type": "stream",
     "text": [
      "[00:01:52] WARNING: ../src/learner.cc:1115: Starting in XGBoost 1.3.0, the default evaluation metric used with the objective 'multi:softprob' was changed from 'merror' to 'mlogloss'. Explicitly set eval_metric if you'd like to restore the old behavior.\n",
      "[CV] END colsample_bytree=1, learning_rate=0.3, max_depth=5, n_estimators=300, subsample=1; total time=  57.2s\n"
     ]
    },
    {
     "name": "stderr",
     "output_type": "stream",
     "text": [
      "/Users/hakantekin/opt/anaconda3/lib/python3.9/site-packages/xgboost/sklearn.py:1224: UserWarning: The use of label encoder in XGBClassifier is deprecated and will be removed in a future release. To remove this warning, do the following: 1) Pass option use_label_encoder=False when constructing XGBClassifier object; and 2) Encode your labels (y) as integers starting with 0, i.e. 0, 1, 2, ..., [num_class - 1].\n",
      "  warnings.warn(label_encoder_deprecation_msg, UserWarning)\n"
     ]
    },
    {
     "name": "stdout",
     "output_type": "stream",
     "text": [
      "[00:01:55] WARNING: ../src/learner.cc:1115: Starting in XGBoost 1.3.0, the default evaluation metric used with the objective 'multi:softprob' was changed from 'merror' to 'mlogloss'. Explicitly set eval_metric if you'd like to restore the old behavior.\n",
      "[CV] END colsample_bytree=1, learning_rate=0.3, max_depth=6, n_estimators=100, subsample=0.5; total time=  27.1s\n"
     ]
    },
    {
     "name": "stderr",
     "output_type": "stream",
     "text": [
      "/Users/hakantekin/opt/anaconda3/lib/python3.9/site-packages/xgboost/sklearn.py:1224: UserWarning: The use of label encoder in XGBClassifier is deprecated and will be removed in a future release. To remove this warning, do the following: 1) Pass option use_label_encoder=False when constructing XGBClassifier object; and 2) Encode your labels (y) as integers starting with 0, i.e. 0, 1, 2, ..., [num_class - 1].\n",
      "  warnings.warn(label_encoder_deprecation_msg, UserWarning)\n"
     ]
    },
    {
     "name": "stdout",
     "output_type": "stream",
     "text": [
      "[00:02:10] WARNING: ../src/learner.cc:1115: Starting in XGBoost 1.3.0, the default evaluation metric used with the objective 'multi:softprob' was changed from 'merror' to 'mlogloss'. Explicitly set eval_metric if you'd like to restore the old behavior.\n",
      "[CV] END colsample_bytree=1, learning_rate=0.3, max_depth=6, n_estimators=100, subsample=0.5; total time=  27.0s\n"
     ]
    },
    {
     "name": "stderr",
     "output_type": "stream",
     "text": [
      "/Users/hakantekin/opt/anaconda3/lib/python3.9/site-packages/xgboost/sklearn.py:1224: UserWarning: The use of label encoder in XGBClassifier is deprecated and will be removed in a future release. To remove this warning, do the following: 1) Pass option use_label_encoder=False when constructing XGBClassifier object; and 2) Encode your labels (y) as integers starting with 0, i.e. 0, 1, 2, ..., [num_class - 1].\n",
      "  warnings.warn(label_encoder_deprecation_msg, UserWarning)\n"
     ]
    },
    {
     "name": "stdout",
     "output_type": "stream",
     "text": [
      "[00:02:12] WARNING: ../src/learner.cc:1115: Starting in XGBoost 1.3.0, the default evaluation metric used with the objective 'multi:softprob' was changed from 'merror' to 'mlogloss'. Explicitly set eval_metric if you'd like to restore the old behavior.\n",
      "[CV] END colsample_bytree=1, learning_rate=0.3, max_depth=6, n_estimators=100, subsample=0.5; total time=  27.0s\n"
     ]
    },
    {
     "name": "stderr",
     "output_type": "stream",
     "text": [
      "/Users/hakantekin/opt/anaconda3/lib/python3.9/site-packages/xgboost/sklearn.py:1224: UserWarning: The use of label encoder in XGBClassifier is deprecated and will be removed in a future release. To remove this warning, do the following: 1) Pass option use_label_encoder=False when constructing XGBClassifier object; and 2) Encode your labels (y) as integers starting with 0, i.e. 0, 1, 2, ..., [num_class - 1].\n",
      "  warnings.warn(label_encoder_deprecation_msg, UserWarning)\n"
     ]
    },
    {
     "name": "stdout",
     "output_type": "stream",
     "text": [
      "[00:02:13] WARNING: ../src/learner.cc:1115: Starting in XGBoost 1.3.0, the default evaluation metric used with the objective 'multi:softprob' was changed from 'merror' to 'mlogloss'. Explicitly set eval_metric if you'd like to restore the old behavior.\n",
      "[CV] END colsample_bytree=1, learning_rate=0.3, max_depth=6, n_estimators=100, subsample=0.5; total time=  27.0s\n"
     ]
    },
    {
     "name": "stderr",
     "output_type": "stream",
     "text": [
      "/Users/hakantekin/opt/anaconda3/lib/python3.9/site-packages/xgboost/sklearn.py:1224: UserWarning: The use of label encoder in XGBClassifier is deprecated and will be removed in a future release. To remove this warning, do the following: 1) Pass option use_label_encoder=False when constructing XGBClassifier object; and 2) Encode your labels (y) as integers starting with 0, i.e. 0, 1, 2, ..., [num_class - 1].\n",
      "  warnings.warn(label_encoder_deprecation_msg, UserWarning)\n"
     ]
    },
    {
     "name": "stdout",
     "output_type": "stream",
     "text": [
      "[00:02:19] WARNING: ../src/learner.cc:1115: Starting in XGBoost 1.3.0, the default evaluation metric used with the objective 'multi:softprob' was changed from 'merror' to 'mlogloss'. Explicitly set eval_metric if you'd like to restore the old behavior.\n",
      "[CV] END colsample_bytree=1, learning_rate=0.3, max_depth=6, n_estimators=100, subsample=0.5; total time=  26.8s\n"
     ]
    },
    {
     "name": "stderr",
     "output_type": "stream",
     "text": [
      "/Users/hakantekin/opt/anaconda3/lib/python3.9/site-packages/xgboost/sklearn.py:1224: UserWarning: The use of label encoder in XGBClassifier is deprecated and will be removed in a future release. To remove this warning, do the following: 1) Pass option use_label_encoder=False when constructing XGBClassifier object; and 2) Encode your labels (y) as integers starting with 0, i.e. 0, 1, 2, ..., [num_class - 1].\n",
      "  warnings.warn(label_encoder_deprecation_msg, UserWarning)\n"
     ]
    },
    {
     "name": "stdout",
     "output_type": "stream",
     "text": [
      "[00:02:19] WARNING: ../src/learner.cc:1115: Starting in XGBoost 1.3.0, the default evaluation metric used with the objective 'multi:softprob' was changed from 'merror' to 'mlogloss'. Explicitly set eval_metric if you'd like to restore the old behavior.\n",
      "[CV] END colsample_bytree=1, learning_rate=0.3, max_depth=6, n_estimators=100, subsample=1; total time=  28.9s\n"
     ]
    },
    {
     "name": "stderr",
     "output_type": "stream",
     "text": [
      "/Users/hakantekin/opt/anaconda3/lib/python3.9/site-packages/xgboost/sklearn.py:1224: UserWarning: The use of label encoder in XGBClassifier is deprecated and will be removed in a future release. To remove this warning, do the following: 1) Pass option use_label_encoder=False when constructing XGBClassifier object; and 2) Encode your labels (y) as integers starting with 0, i.e. 0, 1, 2, ..., [num_class - 1].\n",
      "  warnings.warn(label_encoder_deprecation_msg, UserWarning)\n"
     ]
    },
    {
     "name": "stdout",
     "output_type": "stream",
     "text": [
      "[00:02:24] WARNING: ../src/learner.cc:1115: Starting in XGBoost 1.3.0, the default evaluation metric used with the objective 'multi:softprob' was changed from 'merror' to 'mlogloss'. Explicitly set eval_metric if you'd like to restore the old behavior.\n",
      "[CV] END colsample_bytree=1, learning_rate=0.3, max_depth=5, n_estimators=300, subsample=1; total time=  56.4s\n",
      "[CV] END colsample_bytree=1, learning_rate=0.3, max_depth=5, n_estimators=300, subsample=1; total time=  56.0s\n"
     ]
    },
    {
     "name": "stderr",
     "output_type": "stream",
     "text": [
      "/Users/hakantekin/opt/anaconda3/lib/python3.9/site-packages/xgboost/sklearn.py:1224: UserWarning: The use of label encoder in XGBClassifier is deprecated and will be removed in a future release. To remove this warning, do the following: 1) Pass option use_label_encoder=False when constructing XGBClassifier object; and 2) Encode your labels (y) as integers starting with 0, i.e. 0, 1, 2, ..., [num_class - 1].\n",
      "  warnings.warn(label_encoder_deprecation_msg, UserWarning)\n",
      "/Users/hakantekin/opt/anaconda3/lib/python3.9/site-packages/xgboost/sklearn.py:1224: UserWarning: The use of label encoder in XGBClassifier is deprecated and will be removed in a future release. To remove this warning, do the following: 1) Pass option use_label_encoder=False when constructing XGBClassifier object; and 2) Encode your labels (y) as integers starting with 0, i.e. 0, 1, 2, ..., [num_class - 1].\n",
      "  warnings.warn(label_encoder_deprecation_msg, UserWarning)\n"
     ]
    },
    {
     "name": "stdout",
     "output_type": "stream",
     "text": [
      "[00:02:25] WARNING: ../src/learner.cc:1115: Starting in XGBoost 1.3.0, the default evaluation metric used with the objective 'multi:softprob' was changed from 'merror' to 'mlogloss'. Explicitly set eval_metric if you'd like to restore the old behavior.\n",
      "[00:02:25] WARNING: ../src/learner.cc:1115: Starting in XGBoost 1.3.0, the default evaluation metric used with the objective 'multi:softprob' was changed from 'merror' to 'mlogloss'. Explicitly set eval_metric if you'd like to restore the old behavior.\n",
      "[CV] END colsample_bytree=1, learning_rate=0.3, max_depth=6, n_estimators=100, subsample=1; total time=  28.0s\n"
     ]
    },
    {
     "name": "stderr",
     "output_type": "stream",
     "text": [
      "/Users/hakantekin/opt/anaconda3/lib/python3.9/site-packages/xgboost/sklearn.py:1224: UserWarning: The use of label encoder in XGBClassifier is deprecated and will be removed in a future release. To remove this warning, do the following: 1) Pass option use_label_encoder=False when constructing XGBClassifier object; and 2) Encode your labels (y) as integers starting with 0, i.e. 0, 1, 2, ..., [num_class - 1].\n",
      "  warnings.warn(label_encoder_deprecation_msg, UserWarning)\n"
     ]
    },
    {
     "name": "stdout",
     "output_type": "stream",
     "text": [
      "[00:02:38] WARNING: ../src/learner.cc:1115: Starting in XGBoost 1.3.0, the default evaluation metric used with the objective 'multi:softprob' was changed from 'merror' to 'mlogloss'. Explicitly set eval_metric if you'd like to restore the old behavior.\n",
      "[CV] END colsample_bytree=1, learning_rate=0.3, max_depth=6, n_estimators=100, subsample=1; total time=  28.6s\n"
     ]
    },
    {
     "name": "stderr",
     "output_type": "stream",
     "text": [
      "/Users/hakantekin/opt/anaconda3/lib/python3.9/site-packages/xgboost/sklearn.py:1224: UserWarning: The use of label encoder in XGBClassifier is deprecated and will be removed in a future release. To remove this warning, do the following: 1) Pass option use_label_encoder=False when constructing XGBClassifier object; and 2) Encode your labels (y) as integers starting with 0, i.e. 0, 1, 2, ..., [num_class - 1].\n",
      "  warnings.warn(label_encoder_deprecation_msg, UserWarning)\n"
     ]
    },
    {
     "name": "stdout",
     "output_type": "stream",
     "text": [
      "[00:02:41] WARNING: ../src/learner.cc:1115: Starting in XGBoost 1.3.0, the default evaluation metric used with the objective 'multi:softprob' was changed from 'merror' to 'mlogloss'. Explicitly set eval_metric if you'd like to restore the old behavior.\n",
      "[CV] END colsample_bytree=1, learning_rate=0.3, max_depth=6, n_estimators=100, subsample=1; total time=  28.3s\n"
     ]
    },
    {
     "name": "stderr",
     "output_type": "stream",
     "text": [
      "/Users/hakantekin/opt/anaconda3/lib/python3.9/site-packages/xgboost/sklearn.py:1224: UserWarning: The use of label encoder in XGBClassifier is deprecated and will be removed in a future release. To remove this warning, do the following: 1) Pass option use_label_encoder=False when constructing XGBClassifier object; and 2) Encode your labels (y) as integers starting with 0, i.e. 0, 1, 2, ..., [num_class - 1].\n",
      "  warnings.warn(label_encoder_deprecation_msg, UserWarning)\n"
     ]
    },
    {
     "name": "stdout",
     "output_type": "stream",
     "text": [
      "[00:02:42] WARNING: ../src/learner.cc:1115: Starting in XGBoost 1.3.0, the default evaluation metric used with the objective 'multi:softprob' was changed from 'merror' to 'mlogloss'. Explicitly set eval_metric if you'd like to restore the old behavior.\n",
      "[CV] END colsample_bytree=1, learning_rate=0.3, max_depth=6, n_estimators=100, subsample=1; total time=  28.0s\n"
     ]
    },
    {
     "name": "stderr",
     "output_type": "stream",
     "text": [
      "/Users/hakantekin/opt/anaconda3/lib/python3.9/site-packages/xgboost/sklearn.py:1224: UserWarning: The use of label encoder in XGBClassifier is deprecated and will be removed in a future release. To remove this warning, do the following: 1) Pass option use_label_encoder=False when constructing XGBClassifier object; and 2) Encode your labels (y) as integers starting with 0, i.e. 0, 1, 2, ..., [num_class - 1].\n",
      "  warnings.warn(label_encoder_deprecation_msg, UserWarning)\n"
     ]
    },
    {
     "name": "stdout",
     "output_type": "stream",
     "text": [
      "[00:02:47] WARNING: ../src/learner.cc:1115: Starting in XGBoost 1.3.0, the default evaluation metric used with the objective 'multi:softprob' was changed from 'merror' to 'mlogloss'. Explicitly set eval_metric if you'd like to restore the old behavior.\n",
      "[CV] END colsample_bytree=1, learning_rate=0.3, max_depth=6, n_estimators=300, subsample=0.5; total time=  57.6s\n"
     ]
    },
    {
     "name": "stderr",
     "output_type": "stream",
     "text": [
      "/Users/hakantekin/opt/anaconda3/lib/python3.9/site-packages/xgboost/sklearn.py:1224: UserWarning: The use of label encoder in XGBClassifier is deprecated and will be removed in a future release. To remove this warning, do the following: 1) Pass option use_label_encoder=False when constructing XGBClassifier object; and 2) Encode your labels (y) as integers starting with 0, i.e. 0, 1, 2, ..., [num_class - 1].\n",
      "  warnings.warn(label_encoder_deprecation_msg, UserWarning)\n"
     ]
    },
    {
     "name": "stdout",
     "output_type": "stream",
     "text": [
      "[00:03:17] WARNING: ../src/learner.cc:1115: Starting in XGBoost 1.3.0, the default evaluation metric used with the objective 'multi:softprob' was changed from 'merror' to 'mlogloss'. Explicitly set eval_metric if you'd like to restore the old behavior.\n",
      "[CV] END colsample_bytree=1, learning_rate=0.3, max_depth=6, n_estimators=300, subsample=0.5; total time=  58.0s\n"
     ]
    },
    {
     "name": "stderr",
     "output_type": "stream",
     "text": [
      "/Users/hakantekin/opt/anaconda3/lib/python3.9/site-packages/xgboost/sklearn.py:1224: UserWarning: The use of label encoder in XGBClassifier is deprecated and will be removed in a future release. To remove this warning, do the following: 1) Pass option use_label_encoder=False when constructing XGBClassifier object; and 2) Encode your labels (y) as integers starting with 0, i.e. 0, 1, 2, ..., [num_class - 1].\n",
      "  warnings.warn(label_encoder_deprecation_msg, UserWarning)\n"
     ]
    },
    {
     "name": "stdout",
     "output_type": "stream",
     "text": [
      "[00:03:22] WARNING: ../src/learner.cc:1115: Starting in XGBoost 1.3.0, the default evaluation metric used with the objective 'multi:softprob' was changed from 'merror' to 'mlogloss'. Explicitly set eval_metric if you'd like to restore the old behavior.\n",
      "[CV] END colsample_bytree=1, learning_rate=0.3, max_depth=6, n_estimators=300, subsample=0.5; total time=  58.3s\n",
      "[CV] END colsample_bytree=1, learning_rate=0.3, max_depth=6, n_estimators=300, subsample=0.5; total time=  58.4s\n",
      "[CV] END colsample_bytree=1, learning_rate=0.3, max_depth=6, n_estimators=300, subsample=0.5; total time=  56.5s\n",
      "[CV] END colsample_bytree=1, learning_rate=0.3, max_depth=6, n_estimators=300, subsample=1; total time=  57.7s\n",
      "[CV] END colsample_bytree=1, learning_rate=0.3, max_depth=6, n_estimators=300, subsample=1; total time=  57.0s\n",
      "[CV] END colsample_bytree=1, learning_rate=0.3, max_depth=6, n_estimators=300, subsample=1; total time=  54.3s\n",
      "[CV] END colsample_bytree=1, learning_rate=0.3, max_depth=6, n_estimators=300, subsample=1; total time=  31.0s\n",
      "[CV] END colsample_bytree=1, learning_rate=0.3, max_depth=6, n_estimators=300, subsample=1; total time=  26.5s\n",
      "[00:03:48] WARNING: ../src/learner.cc:1115: Starting in XGBoost 1.3.0, the default evaluation metric used with the objective 'multi:softprob' was changed from 'merror' to 'mlogloss'. Explicitly set eval_metric if you'd like to restore the old behavior.\n"
     ]
    }
   ],
   "source": [
    "xgb_model = XGBClassifier()\n",
    "xgb_grid_model = GridSearchCV(xgb_model, \n",
    "                              param_grid, \n",
    "                              scoring=f1_Hispanic, \n",
    "                              n_jobs = -1,refit=True, \n",
    "                              verbose = 2).fit(X_train, y_train,sample_weight=classes_weights)"
   ]
  },
  {
   "cell_type": "code",
   "execution_count": 141,
   "metadata": {},
   "outputs": [
    {
     "data": {
      "text/plain": [
       "{'colsample_bytree': 0.5,\n",
       " 'learning_rate': 0.1,\n",
       " 'max_depth': 3,\n",
       " 'n_estimators': 300,\n",
       " 'subsample': 0.5}"
      ]
     },
     "execution_count": 141,
     "metadata": {},
     "output_type": "execute_result"
    }
   ],
   "source": [
    "xgb_grid_model.best_params_"
   ]
  },
  {
   "cell_type": "code",
   "execution_count": 142,
   "metadata": {},
   "outputs": [
    {
     "name": "stdout",
     "output_type": "stream",
     "text": [
      "Test_Set_Scores \n",
      "----------------\n",
      "[[344  17  28]\n",
      " [ 21  97  86]\n",
      " [ 31 113 994]]\n",
      "              precision    recall  f1-score   support\n",
      "\n",
      "       Black       0.87      0.88      0.88       389\n",
      "    Hispanic       0.43      0.48      0.45       204\n",
      "       White       0.90      0.87      0.89      1138\n",
      "\n",
      "    accuracy                           0.83      1731\n",
      "   macro avg       0.73      0.74      0.74      1731\n",
      "weighted avg       0.84      0.83      0.83      1731\n",
      "\n",
      "\n",
      "Train_Set_Scores \n",
      "----------------\n",
      "[[ 898    3    8]\n",
      " [   0  468    7]\n",
      " [  27  107 2520]]\n",
      "              precision    recall  f1-score   support\n",
      "\n",
      "       Black       0.97      0.99      0.98       909\n",
      "    Hispanic       0.81      0.99      0.89       475\n",
      "       White       0.99      0.95      0.97      2654\n",
      "\n",
      "    accuracy                           0.96      4038\n",
      "   macro avg       0.92      0.97      0.95      4038\n",
      "weighted avg       0.97      0.96      0.96      4038\n",
      "\n"
     ]
    }
   ],
   "source": [
    "eval_metric(xgb_grid_model, X_train, y_train, X_test, y_test)"
   ]
  },
  {
   "cell_type": "code",
   "execution_count": 144,
   "metadata": {},
   "outputs": [],
   "source": [
    "y_pred = xgb_grid_model.predict(X_test)\n",
    "xgb_grid_f1 = f1_score(y_test, y_pred, average='weighted')\n",
    "xgb_grid_recall = recall_score(y_test, y_pred, average='weighted')"
   ]
  },
  {
   "cell_type": "code",
   "execution_count": 146,
   "metadata": {},
   "outputs": [
    {
     "data": {
      "image/png": "[encoded data removed]",
      "text/plain": [
       "<Figure size 1152x720 with 1 Axes>"
      ]
     },
     "metadata": {
      "needs_background": "light"
     },
     "output_type": "display_data"
    }
   ],
   "source": [
    "plot_multiclass_roc_for_tree(xgb_grid_model, \n",
    "                             X_test, \n",
    "                             y_test, \n",
    "                             n_classes=3, \n",
    "                             figsize=(16, 10))"
   ]
  },
  {
   "cell_type": "code",
   "execution_count": 147,
   "metadata": {},
   "outputs": [
    {
     "data": {
      "text/html": [
       "<div>\n",
       "<style scoped>\n",
       "    .dataframe tbody tr th:only-of-type {\n",
       "        vertical-align: middle;\n",
       "    }\n",
       "\n",
       "    .dataframe tbody tr th {\n",
       "        vertical-align: top;\n",
       "    }\n",
       "\n",
       "    .dataframe thead th {\n",
       "        text-align: right;\n",
       "    }\n",
       "</style>\n",
       "<table border=\"1\" class=\"dataframe\">\n",
       "  <thead>\n",
       "    <tr style=\"text-align: right;\">\n",
       "      <th></th>\n",
       "      <th>Feature Importance</th>\n",
       "    </tr>\n",
       "  </thead>\n",
       "  <tbody>\n",
       "    <tr>\n",
       "      <th>Gender</th>\n",
       "      <td>0.060</td>\n",
       "    </tr>\n",
       "    <tr>\n",
       "      <th>elbowrestheight</th>\n",
       "      <td>0.048</td>\n",
       "    </tr>\n",
       "    <tr>\n",
       "      <th>buttockpopliteallength</th>\n",
       "      <td>0.041</td>\n",
       "    </tr>\n",
       "    <tr>\n",
       "      <th>sittingheight</th>\n",
       "      <td>0.032</td>\n",
       "    </tr>\n",
       "    <tr>\n",
       "      <th>buttockkneelength</th>\n",
       "      <td>0.030</td>\n",
       "    </tr>\n",
       "    <tr>\n",
       "      <th>...</th>\n",
       "      <td>...</td>\n",
       "    </tr>\n",
       "    <tr>\n",
       "      <th>functionalleglength</th>\n",
       "      <td>0.005</td>\n",
       "    </tr>\n",
       "    <tr>\n",
       "      <th>shouldercircumference</th>\n",
       "      <td>0.005</td>\n",
       "    </tr>\n",
       "    <tr>\n",
       "      <th>bideltoidbreadth</th>\n",
       "      <td>0.004</td>\n",
       "    </tr>\n",
       "    <tr>\n",
       "      <th>lowerthighcircumference</th>\n",
       "      <td>0.004</td>\n",
       "    </tr>\n",
       "    <tr>\n",
       "      <th>buttockcircumference</th>\n",
       "      <td>0.003</td>\n",
       "    </tr>\n",
       "  </tbody>\n",
       "</table>\n",
       "<p>94 rows × 1 columns</p>\n",
       "</div>"
      ],
      "text/plain": [
       "                         Feature Importance\n",
       "Gender                                0.060\n",
       "elbowrestheight                       0.048\n",
       "buttockpopliteallength                0.041\n",
       "sittingheight                         0.032\n",
       "buttockkneelength                     0.030\n",
       "...                                     ...\n",
       "functionalleglength                   0.005\n",
       "shouldercircumference                 0.005\n",
       "bideltoidbreadth                      0.004\n",
       "lowerthighcircumference               0.004\n",
       "buttockcircumference                  0.003\n",
       "\n",
       "[94 rows x 1 columns]"
      ]
     },
     "execution_count": 147,
     "metadata": {},
     "output_type": "execute_result"
    }
   ],
   "source": [
    "xgb_feature_imp = pd.DataFrame(index = X.columns, data = xgb.feature_importances_,\n",
    "                              columns = [\"Feature Importance\"]).sort_values(\"Feature Importance\", ascending = False)\n",
    "xgb_feature_imp"
   ]
  },
  {
   "cell_type": "code",
   "execution_count": 148,
   "metadata": {},
   "outputs": [
    {
     "data": {
      "image/png": "[encoded data removed]",
      "text/plain": [
       "<Figure size 720x432 with 1 Axes>"
      ]
     },
     "metadata": {
      "needs_background": "light"
     },
     "output_type": "display_data"
    }
   ],
   "source": [
    "# 20 Most important features\n",
    "sns.barplot(x=xgb_feature_imp[\"Feature Importance\"].head(20), y=xgb_feature_imp.index[:20])\n",
    "plt.title(\"Feature Importance\")\n",
    "plt.show()"
   ]
  },
  {
   "cell_type": "markdown",
   "metadata": {},
   "source": [
    "## Compare Models"
   ]
  },
  {
   "cell_type": "code",
   "execution_count": 149,
   "metadata": {},
   "outputs": [],
   "source": [
    "compare = pd.DataFrame({\"Model\": [\"Logistic\", \"Log_Grid\", \"KNN\", \"SVC\", \"SVC_Grid\",\n",
    "                                  \"RF\", \"RF_Grid\", \"XGB\", \"XGB_Grid\"],\n",
    "                        \"F1\": [log_f1, log_grid_f1, knn_f1 , svc_f1, svc_grid_f1,\n",
    "                               rf_f1, rf_grid_f1, xgb_f1, xgb_grid_f1],\n",
    "                        \"Recall\": [log_recall, log_grid_recall, knn_recall,\n",
    "                                   svc_recall, svc_grid_recall,rf_recall,\n",
    "                                   rf_grid_recall, xgb_recall, xgb_grid_recall]})"
   ]
  },
  {
   "cell_type": "code",
   "execution_count": 151,
   "metadata": {},
   "outputs": [
    {
     "data": {
      "image/png": "[encoded data removed]",
      "text/plain": [
       "<Figure size 1008x720 with 2 Axes>"
      ]
     },
     "metadata": {
      "needs_background": "light"
     },
     "output_type": "display_data"
    }
   ],
   "source": [
    "def labels(ax):\n",
    "    for p in ax.patches:\n",
    "        width = p.get_width()                        # get bar length\n",
    "        ax.text(width,                               # set the text at 1 unit right of the bar\n",
    "                p.get_y() + p.get_height() / 2,      # get Y coordinate + X coordinate / 2\n",
    "                '{:1.3f}'.format(width),             # set variable to display, 2 decimals\n",
    "                ha = 'left',                         # horizontal alignment\n",
    "                va = 'center')                       # vertical alignment\n",
    "    \n",
    "plt.figure(figsize=(14,10))\n",
    "plt.subplot(311)\n",
    "compare = compare.sort_values(by=\"F1\", ascending=False)\n",
    "ax=sns.barplot(x=\"F1\", y=\"Model\", data=compare, palette=\"crest\")\n",
    "labels(ax)\n",
    "\n",
    "plt.subplot(312)\n",
    "compare = compare.sort_values(by=\"Recall\", ascending=False)\n",
    "ax=sns.barplot(x=\"Recall\", y=\"Model\", data=compare, palette=\"crest\")\n",
    "labels(ax)"
   ]
  },
  {
   "cell_type": "markdown",
   "metadata": {
    "hidden": true,
    "id": "WvWpInu21b7L"
   },
   "source": [
    "---\n",
    "---"
   ]
  }
 ],
 "metadata": {
  "colab": {
   "collapsed_sections": [
    "K7UZHtvu1b62",
    "C5lJeTBu1b65",
    "TMjCTEG51b67",
    "CS5-GZy0sl4s",
    "zfi_NOw0s2fM",
    "p3gH5QvE1b7I",
    "9hxUcvZG1b7J",
    "9Rqk02x61b7L",
    "aoKU_HZR1b7M",
    "1hBIqmFL1b7O",
    "AVnS0UKO1b7P"
   ],
   "name": "soldier_race_project_students.ipynb",
   "provenance": []
  },
  "hide_input": false,
  "interpreter": {
   "hash": "e4e90950cb561445fc7289d5187c528b28750a487d008a70b474c773afaf79b7"
  },
  "kernelspec": {
   "display_name": "Python 3.9.7 ('base')",
   "language": "python",
   "name": "python397jvsc74a57bd0550e15ae2ac2d52031531f851d8135c5a0bd4587619443209f91706b788d6dfa"
  },
  "language_info": {
   "codemirror_mode": {
    "name": "ipython",
    "version": 3
   },
   "file_extension": ".py",
   "mimetype": "text/x-python",
   "name": "python",
   "nbconvert_exporter": "python",
   "pygments_lexer": "ipython3",
   "version": "3.9.7"
  },
  "toc": {
   "base_numbering": 1,
   "nav_menu": {},
   "number_sections": true,
   "sideBar": true,
   "skip_h1_title": false,
   "title_cell": "Table of Contents",
   "title_sidebar": "Contents",
   "toc_cell": false,
   "toc_position": {
    "height": "calc(100% - 180px)",
    "left": "10px",
    "top": "150px",
    "width": "338.797px"
   },
   "toc_section_display": true,
   "toc_window_display": false
  },
  "varInspector": {
   "cols": {
    "lenName": 16,
    "lenType": 16,
    "lenVar": 40
   },
   "kernels_config": {
    "python": {
     "delete_cmd_postfix": "",
     "delete_cmd_prefix": "del ",
     "library": "var_list.py",
     "varRefreshCmd": "print(var_dic_list())"
    },
    "r": {
     "delete_cmd_postfix": ") ",
     "delete_cmd_prefix": "rm(",
     "library": "var_list.r",
     "varRefreshCmd": "cat(var_dic_list()) "
    }
   },
   "oldHeight": 527,
   "position": {
    "height": "40px",
    "left": "1034px",
    "right": "20px",
    "top": "185px",
    "width": "661px"
   },
   "types_to_exclude": [
    "module",
    "function",
    "builtin_function_or_method",
    "instance",
    "_Feature"
   ],
   "varInspector_section_display": "none",
   "window_display": false
  }
 },
 "nbformat": 4,
 "nbformat_minor": 1
}
